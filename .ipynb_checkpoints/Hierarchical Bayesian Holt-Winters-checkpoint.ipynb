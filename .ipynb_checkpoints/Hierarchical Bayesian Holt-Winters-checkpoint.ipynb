{
 "cells": [
  {
   "cell_type": "code",
   "execution_count": 2,
   "id": "52fe49e1",
   "metadata": {},
   "outputs": [],
   "source": [
    "import pymc3 as pm\n",
    "import theano\n",
    "import theano.tensor as tt\n",
    "\n",
    "import pandas as pd\n",
    "import numpy as np\n",
    "from datetime import datetime, timedelta, date\n",
    "\n",
    "import seaborn as sns\n",
    "\n",
    "import matplotlib.pyplot as plt\n",
    "import matplotlib.style as style\n",
    "style.use('ggplot')"
   ]
  },
  {
   "cell_type": "code",
   "execution_count": 320,
   "id": "a7acb819",
   "metadata": {},
   "outputs": [
    {
     "data": {
      "text/html": [
       "<div>\n",
       "<style scoped>\n",
       "    .dataframe tbody tr th:only-of-type {\n",
       "        vertical-align: middle;\n",
       "    }\n",
       "\n",
       "    .dataframe tbody tr th {\n",
       "        vertical-align: top;\n",
       "    }\n",
       "\n",
       "    .dataframe thead th {\n",
       "        text-align: right;\n",
       "    }\n",
       "</style>\n",
       "<table border=\"1\" class=\"dataframe\">\n",
       "  <thead>\n",
       "    <tr style=\"text-align: right;\">\n",
       "      <th></th>\n",
       "      <th>zone_id</th>\n",
       "      <th>date</th>\n",
       "      <th>total_demand_new</th>\n",
       "      <th>total_demand_new_lag1</th>\n",
       "      <th>total_demand_new_lag2</th>\n",
       "      <th>total_demand_new_lag3</th>\n",
       "      <th>total_demand_new_lag-1</th>\n",
       "      <th>total_demand_new_lag-2</th>\n",
       "      <th>total_demand_new_lag-3</th>\n",
       "      <th>smoothed_total_demand</th>\n",
       "      <th>year</th>\n",
       "      <th>total_demand_new_lag4</th>\n",
       "      <th>t4w_total_demand</th>\n",
       "      <th>month</th>\n",
       "      <th>week</th>\n",
       "      <th>day</th>\n",
       "      <th>t4w_total_demand_lag2</th>\n",
       "      <th>szn_factor</th>\n",
       "    </tr>\n",
       "    <tr>\n",
       "      <th>date_idx</th>\n",
       "      <th></th>\n",
       "      <th></th>\n",
       "      <th></th>\n",
       "      <th></th>\n",
       "      <th></th>\n",
       "      <th></th>\n",
       "      <th></th>\n",
       "      <th></th>\n",
       "      <th></th>\n",
       "      <th></th>\n",
       "      <th></th>\n",
       "      <th></th>\n",
       "      <th></th>\n",
       "      <th></th>\n",
       "      <th></th>\n",
       "      <th></th>\n",
       "      <th></th>\n",
       "      <th></th>\n",
       "    </tr>\n",
       "  </thead>\n",
       "  <tbody>\n",
       "    <tr>\n",
       "      <th>2017-07-10</th>\n",
       "      <td>1</td>\n",
       "      <td>2017-07-10</td>\n",
       "      <td>2156.459303</td>\n",
       "      <td>NaN</td>\n",
       "      <td>NaN</td>\n",
       "      <td>NaN</td>\n",
       "      <td>2110.494687</td>\n",
       "      <td>2194.632691</td>\n",
       "      <td>2186.039578</td>\n",
       "      <td>NaN</td>\n",
       "      <td>2017</td>\n",
       "      <td>NaN</td>\n",
       "      <td>NaN</td>\n",
       "      <td>7</td>\n",
       "      <td>28</td>\n",
       "      <td>10</td>\n",
       "      <td>NaN</td>\n",
       "      <td>NaN</td>\n",
       "    </tr>\n",
       "    <tr>\n",
       "      <th>2017-07-10</th>\n",
       "      <td>597</td>\n",
       "      <td>2017-07-10</td>\n",
       "      <td>0.000000</td>\n",
       "      <td>NaN</td>\n",
       "      <td>NaN</td>\n",
       "      <td>NaN</td>\n",
       "      <td>0.000000</td>\n",
       "      <td>0.000000</td>\n",
       "      <td>0.000000</td>\n",
       "      <td>NaN</td>\n",
       "      <td>2017</td>\n",
       "      <td>NaN</td>\n",
       "      <td>NaN</td>\n",
       "      <td>7</td>\n",
       "      <td>28</td>\n",
       "      <td>10</td>\n",
       "      <td>NaN</td>\n",
       "      <td>NaN</td>\n",
       "    </tr>\n",
       "  </tbody>\n",
       "</table>\n",
       "</div>"
      ],
      "text/plain": [
       "            zone_id        date  total_demand_new  total_demand_new_lag1  \\\n",
       "date_idx                                                                   \n",
       "2017-07-10        1  2017-07-10       2156.459303                    NaN   \n",
       "2017-07-10      597  2017-07-10          0.000000                    NaN   \n",
       "\n",
       "            total_demand_new_lag2  total_demand_new_lag3  \\\n",
       "date_idx                                                   \n",
       "2017-07-10                    NaN                    NaN   \n",
       "2017-07-10                    NaN                    NaN   \n",
       "\n",
       "            total_demand_new_lag-1  total_demand_new_lag-2  \\\n",
       "date_idx                                                     \n",
       "2017-07-10             2110.494687             2194.632691   \n",
       "2017-07-10                0.000000                0.000000   \n",
       "\n",
       "            total_demand_new_lag-3  smoothed_total_demand  year  \\\n",
       "date_idx                                                          \n",
       "2017-07-10             2186.039578                    NaN  2017   \n",
       "2017-07-10                0.000000                    NaN  2017   \n",
       "\n",
       "            total_demand_new_lag4  t4w_total_demand  month  week  day  \\\n",
       "date_idx                                                                \n",
       "2017-07-10                    NaN               NaN      7    28   10   \n",
       "2017-07-10                    NaN               NaN      7    28   10   \n",
       "\n",
       "            t4w_total_demand_lag2  szn_factor  \n",
       "date_idx                                       \n",
       "2017-07-10                    NaN         NaN  \n",
       "2017-07-10                    NaN         NaN  "
      ]
     },
     "execution_count": 320,
     "metadata": {},
     "output_type": "execute_result"
    }
   ],
   "source": [
    "df = pd.read_csv('weekly_dmd_new.csv')\n",
    "df['date'] = pd.to_datetime(df.date).apply(lambda x: x.date())\n",
    "df = df.set_index(df.date)\n",
    "df.index.rename('date_idx', inplace=True)\n",
    "df.head(2)"
   ]
  },
  {
   "cell_type": "code",
   "execution_count": 321,
   "id": "807a7293",
   "metadata": {},
   "outputs": [],
   "source": [
    "covid_start_idx = date(2020,2,17)\n",
    "\n",
    "df_prep = df.loc[(df.date < covid_start_idx)\n",
    "                | (df.date >= covid_start_idx + timedelta(weeks=52))].sort_values('date')\n",
    "\n",
    "df_prep['y_obs'] = df_prep.total_demand_new\n",
    "# df_prep['y_obs'] = df_prep.smoothed_total_demand\n",
    "df_prep['covid_start_m1'] = df_prep.date.apply(lambda x: 1.0 if x == covid_start_idx - timedelta(weeks=1) else 0)"
   ]
  },
  {
   "cell_type": "code",
   "execution_count": null,
   "id": "0fd6f474",
   "metadata": {},
   "outputs": [],
   "source": [
    "# [] remove first X (3?) weeks for each zone?\n",
    "# [] how to align ish\n",
    "    # should be aligned temporally\n",
    "    # can access the season estimates based on time t then?\n",
    "    # will have to do a theano.scan for each of the zones -- for zones that started after the oldest zone, do they not get initial seasons then? are their initial seasons just the 52 prior \n",
    "\n",
    "# maybe initial level and initial trend can be unique to each zone, but other params come from a shared distribution\n",
    "\n",
    "# so the \"parent\" distribution for initial szns should be ordered/accessed based on time\n",
    "\n",
    "# so s'pose we have\n",
    "# szn_len = 4\n",
    "#  t: 0,1,2,3,4,5,...\n",
    "# z1: 3,4,8,2,5,6,...\n",
    "# z2: _,_,_,1,3,4,...\n",
    "\n",
    "# initial_szns = s1,s2,s3,s4\n",
    "\n",
    "# the first non-zero entry for z2 is the 4th season\n",
    "# so the initial_szns passed to z2's theano.scan should be ordered as [s4,s1,s2,s3]\n",
    "\n",
    "# s1_mu ~ Uniform[0,1]\n",
    "# s1_sigma ~ HalfCauchy(0.5)\n",
    "# s1_mu_z1 ~ TruncatedNormal(s1_mu, s1_sigma, upper=1, lower=0)\n"
   ]
  },
  {
   "cell_type": "code",
   "execution_count": null,
   "id": "f99ab3b4",
   "metadata": {},
   "outputs": [],
   "source": [
    "zone_list = dd.zone_id.unique()\n",
    "dd['zone_idx'] = dd.zone_id.apply(lambda x: np.where(zone_list == x)[0][0])\n",
    "\n",
    "# does this need to be mapped to [0,len(dd.zone_id.unique())-1] ? seems yes\n",
    "zone_idx = dd.zone_idx.values"
   ]
  },
  {
   "cell_type": "code",
   "execution_count": null,
   "id": "6d0a3053",
   "metadata": {},
   "outputs": [],
   "source": [
    "df_prep"
   ]
  },
  {
   "cell_type": "code",
   "execution_count": 105,
   "id": "30cfd15c",
   "metadata": {},
   "outputs": [],
   "source": [
    "def fit_hw_model(zdf, initial_lvl_upper):\n",
    "    szn_len = 52\n",
    "\n",
    "    with pm.Model() as hw_model:\n",
    "    #     initial_level = pm.Normal(f'initial_level', mu=3000, sigma=400)\n",
    "#         initial_level = pm.Uniform(f'initial_level', lower=0, upper=5000)\n",
    "        initial_level = pm.Uniform(f'initial_level', lower=0, upper=initial_lvl_upper, shape=(df_prep.zone_id.nunique()))\n",
    "    \n",
    "        smoothing_level_mu = pm.Uniform('smoothing_level_mu', lower=0, upper=1)\n",
    "        smoothing_level_sigma = pm.HalfCauchy('smoothing_level_sigma', beta=0.5)\n",
    "        smoothing_level = pm.TruncatedNormal('smoothing_level', mu=smoothing_level_mu, sigma=smoothing_level_sigma, lower=0, upper=1, shape=(df_prep.zone_id.nunique()))\n",
    "#         smoothing_level = pm.Normal('smoothing_level', mu=0.5, sigma=0.5)\n",
    "\n",
    "    #     initial_trend = pm.Normal(f'initial_trend', mu=0, sigma=100)\n",
    "#         initial_trend = pm.Uniform(f'initial_trend', lower=-1000, upper=1000)\n",
    "        initial_trend = pm.Uniform(f'initial_trend', lower=-initial_lvl_upper/2, upper=initial_lvl_upper/2)\n",
    "        \n",
    "        smoothing_trend_mu = pm.Uniform('smoothing_trend_mu', lower=0, upper=1)\n",
    "        smoothing_trend_sigma = pm.HalfCauchy('smoothing_trend_sigma', beta=0.5)\n",
    "        smoothing_trend = pm.TruncatedNormal('smoothing_trend', mu=smoothing_trend_mu, sigma=smoothing_trend_sigma, lower=0, upper=1, shape=(df_prep.zone_id.nunique()))\n",
    "#         smoothing_trend = pm.Uniform('smoothing_trend', lower=0, upper=1)\n",
    "    #     smoothing_trend = pm.Normal('smoothing_trend', mu=0.5, sigma=0.5)\n",
    "    \n",
    "        \n",
    "        # \n",
    "        initial_szns_mus = pm.Normal('initial_szns_mus', mu=1.0, sigma=0.2, shape=(szn_len))\n",
    "        initial_szns = pm.Normal('initial_szns', mu=initial_szns_mus, sigma=0.2, shape=(df_prep.zone_id.nunique(), szn_len))\n",
    "    #     initial_szns = pm.Uniform('initial_szns', lower=0.7, upper=1.3, shape=(szn_len))\n",
    "    #     smoothing_season = pm.Uniform('smoothing_season', lower=0, upper=1)\n",
    "    #     smoothing_season = pm.Uniform('smoothing_season', lower=0, upper=1)\n",
    "    #     smoothing_season = pm.Uniform('smoothing_season', lower=0, upper=1-smoothing_level)\n",
    "        smoothing_season_mu = pm.Uniform('smoothing_season_mu', lower=0, upper=1)\n",
    "        smoothing_season_sigma = pm.HalfCauchy('smoothing_season_sigma', beta=0.5)\n",
    "        smoothing_season = pm.TruncatedNormal('smoothing_season', mu=smoothing_season_mu, sigma=smoothing_season_sigma, lower=0, upper=1, shape=(df_prep.zone_id.nunique()))\n",
    "#         smoothing_season = pm.TruncatedNormal('smoothing_season', mu=0.2, sigma=0.5, lower=0, upper=0.8)\n",
    "    #     smoothing_season = pm.Normal('smoothing_season', mu=0.5, sigma=0.5)\n",
    "\n",
    "        ys = tt.as_tensor_variable(zdf['y_obs'])\n",
    "        is_covid_start = tt.as_tensor_variable(zdf['covid_start_m1'])\n",
    "    #     covid_level_change = pm.Normal('covid_level_change', mu=15000, sigma=2000)\n",
    "        covid_level_change = pm.Uniform('covid_level_change', lower=0, upper=5000)\n",
    "#         covid_level_change = pm.Normal('covid_level_change', mu=2000, sigma=1000)\n",
    "    #     covid_level_change2 = pm.Normal('covid_level_change2', mu=20000, sigma=2000)\n",
    "        covid_level_change2 = pm.Uniform('covid_level_change2', lower=0, upper=5000)\n",
    "    #     covid_level_change2 = pm.Normal('covid_level_change2', mu=covid_level_change, sigma=1000)\n",
    "    #     covid_level_change2 = pm.Normal('covid_level_change2', mu=covid_level_change, sigma=1000)\n",
    "\n",
    "        def hw_component_wise(y, covid_start, prior_level, prior_trend, szn_m52):\n",
    "            updated_szn = smoothing_season * y / (prior_level + prior_trend) + (1 - smoothing_season) * szn_m52\n",
    "\n",
    "\n",
    "            next_level = smoothing_level * (y/szn_m52) + (1 - smoothing_level)*(prior_level + prior_trend) + covid_start*covid_level_change\n",
    "            next_trend = smoothing_trend * (next_level - prior_level) + (1 - smoothing_trend)*prior_trend - covid_start*smoothing_trend*covid_level_change2\n",
    "\n",
    "\n",
    "            return next_level, next_trend, updated_szn\n",
    "\n",
    "        # pass initial_level[zone_idx], initial_trend[zone_idx], initial_szns[zone_idx] etc\n",
    "        # should the scan be wrapped in a scan too??\n",
    "            # the outer scan would loop through each zone and pass each zone's initial params and data to the inner scan that calls hw_component_wise\n",
    "        outputs, updates = theano.scan(hw_component_wise,\n",
    "               sequences = [\n",
    "                   ys[1:],\n",
    "#                    ys[szn_len:],\n",
    "                   is_covid_start[1:]\n",
    "#                    is_covid_start[szn_len:]\n",
    "        #            post_covid[szn_len:]\n",
    "               ],\n",
    "               outputs_info = [\n",
    "                   dict(initial = initial_level, taps=None),\n",
    "                   dict(initial = initial_trend, taps=None),\n",
    "                   dict(initial = initial_szns, taps=[-szn_len])\n",
    "               ], \n",
    "        #            non_sequences = \n",
    "               )\n",
    "\n",
    "\n",
    "        levels = outputs[0]\n",
    "        trends = outputs[1]\n",
    "        seasons = outputs[2]\n",
    "\n",
    "\n",
    "        levels_f = pm.math.concatenate([initial_level.reshape(1,1), levels[:-1]])\n",
    "        trends_f = pm.math.concatenate([initial_trend.reshape(1,1), trends[:-1]])\n",
    "        seasons_f = pm.math.concatenate([initial_szns, seasons[:-szn_len]])\n",
    "\n",
    "        levels_and_trends = pm.math.stack([levels_f, trends_f])\n",
    "        level_plus_trend = levels_and_trends.sum(axis=0)\n",
    "\n",
    "        level_plus_trend_and_seasons = pm.math.stack([level_plus_trend, seasons_f])\n",
    "        y_hats = level_plus_trend_and_seasons.prod(axis=0)\n",
    "\n",
    "        sig = pm.HalfCauchy('sigma', beta=10)\n",
    "#         y_like = pm.Normal('y_like', mu=y_hats, sigma=sig, observed=zdf.iloc[szn_len-1:-1, :]['y_obs_lag-1'])\n",
    "        y_like = pm.Normal('y_like', mu=y_hats, sigma=sig, observed=zdf.iloc[:-1, :]['y_obs_lag-1'])\n",
    "        \n",
    "    map_estimate = pm.find_MAP(model=hw_model)\n",
    "    \n",
    "    return map_estimate, ys, is_covid_start"
   ]
  },
  {
   "cell_type": "code",
   "execution_count": 868,
   "id": "eaf8bcd8",
   "metadata": {
    "collapsed": true
   },
   "outputs": [
    {
     "name": "stderr",
     "output_type": "stream",
     "text": [
      "<ipython-input-868-6d4f8917d1f8>:18: SettingWithCopyWarning: \n",
      "A value is trying to be set on a copy of a slice from a DataFrame.\n",
      "Try using .loc[row_indexer,col_indexer] = value instead\n",
      "\n",
      "See the caveats in the documentation: https://pandas.pydata.org/pandas-docs/stable/user_guide/indexing.html#returning-a-view-versus-a-copy\n",
      "  d2['zone_idx'] = d2.zone_id.apply(lambda x: np.where(zone_list == x)[0][0])\n",
      "/Users/sorenzeliger/.pyenv/versions/3.8.6/lib/python3.8/site-packages/pandas/core/indexing.py:1599: SettingWithCopyWarning: \n",
      "A value is trying to be set on a copy of a slice from a DataFrame.\n",
      "Try using .loc[row_indexer,col_indexer] = value instead\n",
      "\n",
      "See the caveats in the documentation: https://pandas.pydata.org/pandas-docs/stable/user_guide/indexing.html#returning-a-view-versus-a-copy\n",
      "  self.obj[key] = infer_fill_value(value)\n",
      "/Users/sorenzeliger/.pyenv/versions/3.8.6/lib/python3.8/site-packages/pandas/core/indexing.py:1720: SettingWithCopyWarning: \n",
      "A value is trying to be set on a copy of a slice from a DataFrame.\n",
      "Try using .loc[row_indexer,col_indexer] = value instead\n",
      "\n",
      "See the caveats in the documentation: https://pandas.pydata.org/pandas-docs/stable/user_guide/indexing.html#returning-a-view-versus-a-copy\n",
      "  self._setitem_single_column(loc, value, pi)\n",
      "/Users/sorenzeliger/.pyenv/versions/3.8.6/lib/python3.8/site-packages/pandas/core/series.py:4463: SettingWithCopyWarning: \n",
      "A value is trying to be set on a copy of a slice from a DataFrame\n",
      "\n",
      "See the caveats in the documentation: https://pandas.pydata.org/pandas-docs/stable/user_guide/indexing.html#returning-a-view-versus-a-copy\n",
      "  return super().fillna(\n"
     ]
    }
   ],
   "source": [
    "### prep data full\n",
    "\n",
    "zz = [18,  307,  438,  266,   90,  541,  272,  692,  475,  348,  273,\n",
    "        178,  495,  694,  190,  707,  161,  521,  452,  489,  785,  942,\n",
    "        972,  861,  973,  943,  975,  981,  974, 1002,  983, 1001,  839,\n",
    "        714,    1,  783,  989,  787,   79,  945,  169,   37,  186,   76,\n",
    "        620,  441,   32,  184,  477,  357,  530,  616,  167,  617,  437,\n",
    "         38,  166, 1029,  428,  853,   43,   16,  982,  713,  988,  262,\n",
    "        840,  144,  709,  181,  204,  440,  225,  245,  185,  104,  182,\n",
    "        103,  439,   50,  946,  980,   27,  979,  183,  786,  131,   33,\n",
    "        392,   87]\n",
    "\n",
    "# d2 = df_prep.loc[df_prep.zone_id.isin([1,13])]\n",
    "# d2 = df_prep.loc[df_prep.zone_id.isin(zz)]\n",
    "d2 = df_prep.loc[df_prep.zone_id.isin([1,13,18,975,785])]\n",
    "\n",
    "zone_list = d2.zone_id.unique()\n",
    "d2['zone_idx'] = d2.zone_id.apply(lambda x: np.where(zone_list == x)[0][0])\n",
    "# does this need to be mapped to [0,len(dd.zone_id.unique())-1] ? seems yes\n",
    "zone_idx = d2.zone_idx.values\n",
    "\n",
    "d2.loc[d2.y_obs > 0, 'data_start'] = 1\n",
    "d2.data_start.fillna(0, inplace=True)\n",
    "\n",
    "szn_len = 52\n",
    "ys_list, is_covid_start_list, y_obs_lagm1_list, initial_lvl_upper_list, data_start_list =  [], [], [], [], []\n",
    "\n",
    "for z_idx in np.unique(zone_idx):\n",
    "    zdf = d2.loc[d2.zone_idx == z_idx].sort_values('date')\n",
    "    z_id = zdf.zone_id.unique().item()\n",
    "    \n",
    "    pad_df = pd.DataFrame(columns = zdf.columns)\n",
    "    pad_df.loc[0, 'zone_id'] = z_id\n",
    "    pad_df.loc[0, 'zone_idx'] = z_idx\n",
    "    zdf = pd.concat([pad_df, zdf])\n",
    "    zdf['y_obs_lag-1'] = zdf.y_obs.shift(-1)\n",
    "    initial_lvl_upper = zdf.head()['y_obs_lag-1'].max()\n",
    "    \n",
    "    ys_list.append(zdf['y_obs'].tolist())\n",
    "    y_obs_lagm1_list.append(zdf['y_obs_lag-1'].tolist())\n",
    "    is_covid_start_list.append(zdf['covid_start_m1'].tolist())\n",
    "    initial_lvl_upper_list.append(initial_lvl_upper)\n",
    "    data_start_list.append(zdf['data_start'].tolist())\n",
    "#     first_t_list.append(zdf.t.min())"
   ]
  },
  {
   "cell_type": "code",
   "execution_count": 867,
   "id": "e49d199c",
   "metadata": {},
   "outputs": [
    {
     "data": {
      "text/html": [
       "<div>\n",
       "<style scoped>\n",
       "    .dataframe tbody tr th:only-of-type {\n",
       "        vertical-align: middle;\n",
       "    }\n",
       "\n",
       "    .dataframe tbody tr th {\n",
       "        vertical-align: top;\n",
       "    }\n",
       "\n",
       "    .dataframe thead th {\n",
       "        text-align: right;\n",
       "    }\n",
       "</style>\n",
       "<table border=\"1\" class=\"dataframe\">\n",
       "  <thead>\n",
       "    <tr style=\"text-align: right;\">\n",
       "      <th></th>\n",
       "      <th>zone_id</th>\n",
       "      <th>date</th>\n",
       "      <th>total_demand_new</th>\n",
       "      <th>total_demand_new_lag1</th>\n",
       "      <th>total_demand_new_lag2</th>\n",
       "      <th>total_demand_new_lag3</th>\n",
       "      <th>total_demand_new_lag-1</th>\n",
       "      <th>total_demand_new_lag-2</th>\n",
       "      <th>total_demand_new_lag-3</th>\n",
       "      <th>smoothed_total_demand</th>\n",
       "      <th>...</th>\n",
       "      <th>t4w_total_demand</th>\n",
       "      <th>month</th>\n",
       "      <th>week</th>\n",
       "      <th>day</th>\n",
       "      <th>t4w_total_demand_lag2</th>\n",
       "      <th>szn_factor</th>\n",
       "      <th>y_obs</th>\n",
       "      <th>covid_start_m1</th>\n",
       "      <th>zone_idx</th>\n",
       "      <th>data_start</th>\n",
       "    </tr>\n",
       "    <tr>\n",
       "      <th>date_idx</th>\n",
       "      <th></th>\n",
       "      <th></th>\n",
       "      <th></th>\n",
       "      <th></th>\n",
       "      <th></th>\n",
       "      <th></th>\n",
       "      <th></th>\n",
       "      <th></th>\n",
       "      <th></th>\n",
       "      <th></th>\n",
       "      <th></th>\n",
       "      <th></th>\n",
       "      <th></th>\n",
       "      <th></th>\n",
       "      <th></th>\n",
       "      <th></th>\n",
       "      <th></th>\n",
       "      <th></th>\n",
       "      <th></th>\n",
       "      <th></th>\n",
       "      <th></th>\n",
       "    </tr>\n",
       "  </thead>\n",
       "  <tbody>\n",
       "    <tr>\n",
       "      <th>2018-01-15</th>\n",
       "      <td>785</td>\n",
       "      <td>2018-01-15</td>\n",
       "      <td>0.000000</td>\n",
       "      <td>0.000000</td>\n",
       "      <td>0.000000</td>\n",
       "      <td>0.0</td>\n",
       "      <td>0.000000</td>\n",
       "      <td>244.832541</td>\n",
       "      <td>761.987716</td>\n",
       "      <td>61.208135</td>\n",
       "      <td>...</td>\n",
       "      <td>0.000000</td>\n",
       "      <td>1</td>\n",
       "      <td>3</td>\n",
       "      <td>15</td>\n",
       "      <td>0.0</td>\n",
       "      <td>NaN</td>\n",
       "      <td>0.000000</td>\n",
       "      <td>0.0</td>\n",
       "      <td>3</td>\n",
       "      <td>0.0</td>\n",
       "    </tr>\n",
       "    <tr>\n",
       "      <th>2018-01-22</th>\n",
       "      <td>785</td>\n",
       "      <td>2018-01-22</td>\n",
       "      <td>0.000000</td>\n",
       "      <td>0.000000</td>\n",
       "      <td>0.000000</td>\n",
       "      <td>0.0</td>\n",
       "      <td>244.832541</td>\n",
       "      <td>761.987716</td>\n",
       "      <td>1003.057260</td>\n",
       "      <td>251.705064</td>\n",
       "      <td>...</td>\n",
       "      <td>0.000000</td>\n",
       "      <td>1</td>\n",
       "      <td>4</td>\n",
       "      <td>22</td>\n",
       "      <td>0.0</td>\n",
       "      <td>NaN</td>\n",
       "      <td>0.000000</td>\n",
       "      <td>0.0</td>\n",
       "      <td>3</td>\n",
       "      <td>0.0</td>\n",
       "    </tr>\n",
       "    <tr>\n",
       "      <th>2018-01-29</th>\n",
       "      <td>785</td>\n",
       "      <td>2018-01-29</td>\n",
       "      <td>244.832541</td>\n",
       "      <td>0.000000</td>\n",
       "      <td>0.000000</td>\n",
       "      <td>0.0</td>\n",
       "      <td>761.987716</td>\n",
       "      <td>1003.057260</td>\n",
       "      <td>1230.489874</td>\n",
       "      <td>441.261244</td>\n",
       "      <td>...</td>\n",
       "      <td>0.000000</td>\n",
       "      <td>1</td>\n",
       "      <td>5</td>\n",
       "      <td>29</td>\n",
       "      <td>0.0</td>\n",
       "      <td>NaN</td>\n",
       "      <td>244.832541</td>\n",
       "      <td>0.0</td>\n",
       "      <td>3</td>\n",
       "      <td>1.0</td>\n",
       "    </tr>\n",
       "    <tr>\n",
       "      <th>2018-02-05</th>\n",
       "      <td>785</td>\n",
       "      <td>2018-02-05</td>\n",
       "      <td>761.987716</td>\n",
       "      <td>244.832541</td>\n",
       "      <td>0.000000</td>\n",
       "      <td>0.0</td>\n",
       "      <td>1003.057260</td>\n",
       "      <td>1230.489874</td>\n",
       "      <td>1284.787400</td>\n",
       "      <td>619.594919</td>\n",
       "      <td>...</td>\n",
       "      <td>244.832541</td>\n",
       "      <td>2</td>\n",
       "      <td>6</td>\n",
       "      <td>5</td>\n",
       "      <td>0.0</td>\n",
       "      <td>NaN</td>\n",
       "      <td>761.987716</td>\n",
       "      <td>0.0</td>\n",
       "      <td>3</td>\n",
       "      <td>1.0</td>\n",
       "    </tr>\n",
       "    <tr>\n",
       "      <th>2018-02-12</th>\n",
       "      <td>785</td>\n",
       "      <td>2018-02-12</td>\n",
       "      <td>1003.057260</td>\n",
       "      <td>761.987716</td>\n",
       "      <td>244.832541</td>\n",
       "      <td>0.0</td>\n",
       "      <td>1230.489874</td>\n",
       "      <td>1284.787400</td>\n",
       "      <td>1303.956025</td>\n",
       "      <td>880.524383</td>\n",
       "      <td>...</td>\n",
       "      <td>1006.820257</td>\n",
       "      <td>2</td>\n",
       "      <td>7</td>\n",
       "      <td>12</td>\n",
       "      <td>0.0</td>\n",
       "      <td>NaN</td>\n",
       "      <td>1003.057260</td>\n",
       "      <td>0.0</td>\n",
       "      <td>3</td>\n",
       "      <td>1.0</td>\n",
       "    </tr>\n",
       "  </tbody>\n",
       "</table>\n",
       "<p>5 rows × 22 columns</p>\n",
       "</div>"
      ],
      "text/plain": [
       "            zone_id        date  total_demand_new  total_demand_new_lag1  \\\n",
       "date_idx                                                                   \n",
       "2018-01-15      785  2018-01-15          0.000000               0.000000   \n",
       "2018-01-22      785  2018-01-22          0.000000               0.000000   \n",
       "2018-01-29      785  2018-01-29        244.832541               0.000000   \n",
       "2018-02-05      785  2018-02-05        761.987716             244.832541   \n",
       "2018-02-12      785  2018-02-12       1003.057260             761.987716   \n",
       "\n",
       "            total_demand_new_lag2  total_demand_new_lag3  \\\n",
       "date_idx                                                   \n",
       "2018-01-15               0.000000                    0.0   \n",
       "2018-01-22               0.000000                    0.0   \n",
       "2018-01-29               0.000000                    0.0   \n",
       "2018-02-05               0.000000                    0.0   \n",
       "2018-02-12             244.832541                    0.0   \n",
       "\n",
       "            total_demand_new_lag-1  total_demand_new_lag-2  \\\n",
       "date_idx                                                     \n",
       "2018-01-15                0.000000              244.832541   \n",
       "2018-01-22              244.832541              761.987716   \n",
       "2018-01-29              761.987716             1003.057260   \n",
       "2018-02-05             1003.057260             1230.489874   \n",
       "2018-02-12             1230.489874             1284.787400   \n",
       "\n",
       "            total_demand_new_lag-3  smoothed_total_demand  ...  \\\n",
       "date_idx                                                   ...   \n",
       "2018-01-15              761.987716              61.208135  ...   \n",
       "2018-01-22             1003.057260             251.705064  ...   \n",
       "2018-01-29             1230.489874             441.261244  ...   \n",
       "2018-02-05             1284.787400             619.594919  ...   \n",
       "2018-02-12             1303.956025             880.524383  ...   \n",
       "\n",
       "            t4w_total_demand  month  week  day  t4w_total_demand_lag2  \\\n",
       "date_idx                                                                \n",
       "2018-01-15          0.000000      1     3   15                    0.0   \n",
       "2018-01-22          0.000000      1     4   22                    0.0   \n",
       "2018-01-29          0.000000      1     5   29                    0.0   \n",
       "2018-02-05        244.832541      2     6    5                    0.0   \n",
       "2018-02-12       1006.820257      2     7   12                    0.0   \n",
       "\n",
       "            szn_factor        y_obs  covid_start_m1  zone_idx  data_start  \n",
       "date_idx                                                                   \n",
       "2018-01-15         NaN     0.000000             0.0         3         0.0  \n",
       "2018-01-22         NaN     0.000000             0.0         3         0.0  \n",
       "2018-01-29         NaN   244.832541             0.0         3         1.0  \n",
       "2018-02-05         NaN   761.987716             0.0         3         1.0  \n",
       "2018-02-12         NaN  1003.057260             0.0         3         1.0  \n",
       "\n",
       "[5 rows x 22 columns]"
      ]
     },
     "execution_count": 867,
     "metadata": {},
     "output_type": "execute_result"
    }
   ],
   "source": [
    "d2.loc[(d2.zone_id == 785)\n",
    "       & (d2.date > date(2018,1,10))].head()"
   ]
  },
  {
   "cell_type": "code",
   "execution_count": null,
   "id": "b8e009c8",
   "metadata": {},
   "outputs": [],
   "source": []
  },
  {
   "cell_type": "code",
   "execution_count": null,
   "id": "67042b35",
   "metadata": {},
   "outputs": [],
   "source": [
    "## prep data\n",
    "\n",
    "# maybe we do need a dummy at first non-zero idx\n",
    "# could also skip first X (3?) non-zero's, set them to 0 so we start with more stable data\n",
    "\n",
    "szn_len = 52\n",
    "ys_list, is_covid_start_list, y_obs_lagm1_list, initial_lvl_upper_list =  [], [], [], []\n",
    "\n",
    "for z_idx in np.unique(zone_idx):\n",
    "    zdf = d2.loc[d2.zone_idx == z_idx].sort_values('date')\n",
    "    z_id = zdf.zone_id.unique().item()\n",
    "    \n",
    "    pad_df = pd.DataFrame(columns = zdf.columns)\n",
    "    pad_df.loc[0, 'zone_id'] = z_id\n",
    "    pad_df.loc[0, 'zone_idx'] = z_idx\n",
    "    zdf = pd.concat([pad_df, zdf])\n",
    "    zdf['y_obs_lag-1'] = zdf.y_obs.shift(-1)\n",
    "    initial_lvl_upper = zdf.head()['y_obs_lag-1'].max()\n",
    "    \n",
    "    ys_list.append(zdf['y_obs'].tolist())\n",
    "    y_obs_lagm1_list.append(zdf['y_obs_lag-1'].tolist())\n",
    "    is_covid_start_list.append(zdf['covid_start_m1'].tolist())\n",
    "    initial_lvl_upper_list.append(initial_lvl_upper)\n",
    "#     first_t_list.append(zdf.t.min())"
   ]
  },
  {
   "cell_type": "code",
   "execution_count": 647,
   "id": "7a8f5fea",
   "metadata": {},
   "outputs": [
    {
     "data": {
      "text/plain": [
       "(5, 158)"
      ]
     },
     "execution_count": 647,
     "metadata": {},
     "output_type": "execute_result"
    }
   ],
   "source": [
    "np.array(ys_list).shape"
   ]
  },
  {
   "cell_type": "code",
   "execution_count": 633,
   "id": "66afe3b7",
   "metadata": {
    "collapsed": true
   },
   "outputs": [
    {
     "data": {
      "text/html": [
       "<div>\n",
       "<style scoped>\n",
       "    .dataframe tbody tr th:only-of-type {\n",
       "        vertical-align: middle;\n",
       "    }\n",
       "\n",
       "    .dataframe tbody tr th {\n",
       "        vertical-align: top;\n",
       "    }\n",
       "\n",
       "    .dataframe thead th {\n",
       "        text-align: right;\n",
       "    }\n",
       "</style>\n",
       "<table border=\"1\" class=\"dataframe\">\n",
       "  <thead>\n",
       "    <tr style=\"text-align: right;\">\n",
       "      <th></th>\n",
       "      <th>zone_id</th>\n",
       "      <th>date</th>\n",
       "      <th>total_demand_new</th>\n",
       "      <th>total_demand_new_lag1</th>\n",
       "      <th>total_demand_new_lag2</th>\n",
       "      <th>total_demand_new_lag3</th>\n",
       "      <th>total_demand_new_lag-1</th>\n",
       "      <th>total_demand_new_lag-2</th>\n",
       "      <th>total_demand_new_lag-3</th>\n",
       "      <th>smoothed_total_demand</th>\n",
       "      <th>...</th>\n",
       "      <th>total_demand_new_lag4</th>\n",
       "      <th>t4w_total_demand</th>\n",
       "      <th>month</th>\n",
       "      <th>week</th>\n",
       "      <th>day</th>\n",
       "      <th>t4w_total_demand_lag2</th>\n",
       "      <th>szn_factor</th>\n",
       "      <th>y_obs</th>\n",
       "      <th>covid_start_m1</th>\n",
       "      <th>zone_idx</th>\n",
       "    </tr>\n",
       "    <tr>\n",
       "      <th>date_idx</th>\n",
       "      <th></th>\n",
       "      <th></th>\n",
       "      <th></th>\n",
       "      <th></th>\n",
       "      <th></th>\n",
       "      <th></th>\n",
       "      <th></th>\n",
       "      <th></th>\n",
       "      <th></th>\n",
       "      <th></th>\n",
       "      <th></th>\n",
       "      <th></th>\n",
       "      <th></th>\n",
       "      <th></th>\n",
       "      <th></th>\n",
       "      <th></th>\n",
       "      <th></th>\n",
       "      <th></th>\n",
       "      <th></th>\n",
       "      <th></th>\n",
       "      <th></th>\n",
       "    </tr>\n",
       "  </thead>\n",
       "  <tbody>\n",
       "    <tr>\n",
       "      <th>2017-07-10</th>\n",
       "      <td>1</td>\n",
       "      <td>2017-07-10</td>\n",
       "      <td>2156.459303</td>\n",
       "      <td>NaN</td>\n",
       "      <td>NaN</td>\n",
       "      <td>NaN</td>\n",
       "      <td>2110.494687</td>\n",
       "      <td>2194.632691</td>\n",
       "      <td>2186.039578</td>\n",
       "      <td>NaN</td>\n",
       "      <td>...</td>\n",
       "      <td>NaN</td>\n",
       "      <td>NaN</td>\n",
       "      <td>7</td>\n",
       "      <td>28</td>\n",
       "      <td>10</td>\n",
       "      <td>NaN</td>\n",
       "      <td>NaN</td>\n",
       "      <td>2156.459303</td>\n",
       "      <td>0.0</td>\n",
       "      <td>0</td>\n",
       "    </tr>\n",
       "    <tr>\n",
       "      <th>2017-07-10</th>\n",
       "      <td>475</td>\n",
       "      <td>2017-07-10</td>\n",
       "      <td>0.000000</td>\n",
       "      <td>NaN</td>\n",
       "      <td>NaN</td>\n",
       "      <td>NaN</td>\n",
       "      <td>0.000000</td>\n",
       "      <td>0.000000</td>\n",
       "      <td>0.000000</td>\n",
       "      <td>NaN</td>\n",
       "      <td>...</td>\n",
       "      <td>NaN</td>\n",
       "      <td>NaN</td>\n",
       "      <td>7</td>\n",
       "      <td>28</td>\n",
       "      <td>10</td>\n",
       "      <td>NaN</td>\n",
       "      <td>NaN</td>\n",
       "      <td>0.000000</td>\n",
       "      <td>0.0</td>\n",
       "      <td>1</td>\n",
       "    </tr>\n",
       "    <tr>\n",
       "      <th>2017-07-10</th>\n",
       "      <td>974</td>\n",
       "      <td>2017-07-10</td>\n",
       "      <td>0.000000</td>\n",
       "      <td>NaN</td>\n",
       "      <td>NaN</td>\n",
       "      <td>NaN</td>\n",
       "      <td>0.000000</td>\n",
       "      <td>0.000000</td>\n",
       "      <td>0.000000</td>\n",
       "      <td>NaN</td>\n",
       "      <td>...</td>\n",
       "      <td>NaN</td>\n",
       "      <td>NaN</td>\n",
       "      <td>7</td>\n",
       "      <td>28</td>\n",
       "      <td>10</td>\n",
       "      <td>NaN</td>\n",
       "      <td>NaN</td>\n",
       "      <td>0.000000</td>\n",
       "      <td>0.0</td>\n",
       "      <td>2</td>\n",
       "    </tr>\n",
       "    <tr>\n",
       "      <th>2017-07-10</th>\n",
       "      <td>185</td>\n",
       "      <td>2017-07-10</td>\n",
       "      <td>168.021855</td>\n",
       "      <td>NaN</td>\n",
       "      <td>NaN</td>\n",
       "      <td>NaN</td>\n",
       "      <td>165.179355</td>\n",
       "      <td>167.336439</td>\n",
       "      <td>174.475469</td>\n",
       "      <td>NaN</td>\n",
       "      <td>...</td>\n",
       "      <td>NaN</td>\n",
       "      <td>NaN</td>\n",
       "      <td>7</td>\n",
       "      <td>28</td>\n",
       "      <td>10</td>\n",
       "      <td>NaN</td>\n",
       "      <td>NaN</td>\n",
       "      <td>168.021855</td>\n",
       "      <td>0.0</td>\n",
       "      <td>3</td>\n",
       "    </tr>\n",
       "    <tr>\n",
       "      <th>2017-07-10</th>\n",
       "      <td>204</td>\n",
       "      <td>2017-07-10</td>\n",
       "      <td>44.212961</td>\n",
       "      <td>NaN</td>\n",
       "      <td>NaN</td>\n",
       "      <td>NaN</td>\n",
       "      <td>40.926802</td>\n",
       "      <td>49.015181</td>\n",
       "      <td>48.955383</td>\n",
       "      <td>NaN</td>\n",
       "      <td>...</td>\n",
       "      <td>NaN</td>\n",
       "      <td>NaN</td>\n",
       "      <td>7</td>\n",
       "      <td>28</td>\n",
       "      <td>10</td>\n",
       "      <td>NaN</td>\n",
       "      <td>NaN</td>\n",
       "      <td>44.212961</td>\n",
       "      <td>0.0</td>\n",
       "      <td>4</td>\n",
       "    </tr>\n",
       "    <tr>\n",
       "      <th>...</th>\n",
       "      <td>...</td>\n",
       "      <td>...</td>\n",
       "      <td>...</td>\n",
       "      <td>...</td>\n",
       "      <td>...</td>\n",
       "      <td>...</td>\n",
       "      <td>...</td>\n",
       "      <td>...</td>\n",
       "      <td>...</td>\n",
       "      <td>...</td>\n",
       "      <td>...</td>\n",
       "      <td>...</td>\n",
       "      <td>...</td>\n",
       "      <td>...</td>\n",
       "      <td>...</td>\n",
       "      <td>...</td>\n",
       "      <td>...</td>\n",
       "      <td>...</td>\n",
       "      <td>...</td>\n",
       "      <td>...</td>\n",
       "      <td>...</td>\n",
       "    </tr>\n",
       "    <tr>\n",
       "      <th>2017-07-17</th>\n",
       "      <td>694</td>\n",
       "      <td>2017-07-17</td>\n",
       "      <td>0.000000</td>\n",
       "      <td>0.000000</td>\n",
       "      <td>NaN</td>\n",
       "      <td>NaN</td>\n",
       "      <td>0.000000</td>\n",
       "      <td>0.000000</td>\n",
       "      <td>0.000000</td>\n",
       "      <td>NaN</td>\n",
       "      <td>...</td>\n",
       "      <td>NaN</td>\n",
       "      <td>NaN</td>\n",
       "      <td>7</td>\n",
       "      <td>29</td>\n",
       "      <td>17</td>\n",
       "      <td>NaN</td>\n",
       "      <td>NaN</td>\n",
       "      <td>0.000000</td>\n",
       "      <td>0.0</td>\n",
       "      <td>72</td>\n",
       "    </tr>\n",
       "    <tr>\n",
       "      <th>2017-07-17</th>\n",
       "      <td>178</td>\n",
       "      <td>2017-07-17</td>\n",
       "      <td>92.821272</td>\n",
       "      <td>98.235122</td>\n",
       "      <td>NaN</td>\n",
       "      <td>NaN</td>\n",
       "      <td>98.366017</td>\n",
       "      <td>96.298768</td>\n",
       "      <td>100.131993</td>\n",
       "      <td>NaN</td>\n",
       "      <td>...</td>\n",
       "      <td>NaN</td>\n",
       "      <td>NaN</td>\n",
       "      <td>7</td>\n",
       "      <td>29</td>\n",
       "      <td>17</td>\n",
       "      <td>NaN</td>\n",
       "      <td>NaN</td>\n",
       "      <td>92.821272</td>\n",
       "      <td>0.0</td>\n",
       "      <td>16</td>\n",
       "    </tr>\n",
       "    <tr>\n",
       "      <th>2017-07-17</th>\n",
       "      <td>16</td>\n",
       "      <td>2017-07-17</td>\n",
       "      <td>665.653670</td>\n",
       "      <td>714.708311</td>\n",
       "      <td>NaN</td>\n",
       "      <td>NaN</td>\n",
       "      <td>662.104415</td>\n",
       "      <td>633.032005</td>\n",
       "      <td>630.452485</td>\n",
       "      <td>NaN</td>\n",
       "      <td>...</td>\n",
       "      <td>NaN</td>\n",
       "      <td>NaN</td>\n",
       "      <td>7</td>\n",
       "      <td>29</td>\n",
       "      <td>17</td>\n",
       "      <td>NaN</td>\n",
       "      <td>NaN</td>\n",
       "      <td>665.653670</td>\n",
       "      <td>0.0</td>\n",
       "      <td>82</td>\n",
       "    </tr>\n",
       "    <tr>\n",
       "      <th>2017-07-17</th>\n",
       "      <td>707</td>\n",
       "      <td>2017-07-17</td>\n",
       "      <td>0.000000</td>\n",
       "      <td>0.000000</td>\n",
       "      <td>NaN</td>\n",
       "      <td>NaN</td>\n",
       "      <td>0.000000</td>\n",
       "      <td>0.000000</td>\n",
       "      <td>0.000000</td>\n",
       "      <td>NaN</td>\n",
       "      <td>...</td>\n",
       "      <td>NaN</td>\n",
       "      <td>NaN</td>\n",
       "      <td>7</td>\n",
       "      <td>29</td>\n",
       "      <td>17</td>\n",
       "      <td>NaN</td>\n",
       "      <td>NaN</td>\n",
       "      <td>0.000000</td>\n",
       "      <td>0.0</td>\n",
       "      <td>58</td>\n",
       "    </tr>\n",
       "    <tr>\n",
       "      <th>2017-07-17</th>\n",
       "      <td>541</td>\n",
       "      <td>2017-07-17</td>\n",
       "      <td>0.000000</td>\n",
       "      <td>0.000000</td>\n",
       "      <td>NaN</td>\n",
       "      <td>NaN</td>\n",
       "      <td>0.000000</td>\n",
       "      <td>0.000000</td>\n",
       "      <td>0.000000</td>\n",
       "      <td>NaN</td>\n",
       "      <td>...</td>\n",
       "      <td>NaN</td>\n",
       "      <td>NaN</td>\n",
       "      <td>7</td>\n",
       "      <td>29</td>\n",
       "      <td>17</td>\n",
       "      <td>NaN</td>\n",
       "      <td>NaN</td>\n",
       "      <td>0.000000</td>\n",
       "      <td>0.0</td>\n",
       "      <td>34</td>\n",
       "    </tr>\n",
       "  </tbody>\n",
       "</table>\n",
       "<p>100 rows × 21 columns</p>\n",
       "</div>"
      ],
      "text/plain": [
       "            zone_id        date  total_demand_new  total_demand_new_lag1  \\\n",
       "date_idx                                                                   \n",
       "2017-07-10        1  2017-07-10       2156.459303                    NaN   \n",
       "2017-07-10      475  2017-07-10          0.000000                    NaN   \n",
       "2017-07-10      974  2017-07-10          0.000000                    NaN   \n",
       "2017-07-10      185  2017-07-10        168.021855                    NaN   \n",
       "2017-07-10      204  2017-07-10         44.212961                    NaN   \n",
       "...             ...         ...               ...                    ...   \n",
       "2017-07-17      694  2017-07-17          0.000000               0.000000   \n",
       "2017-07-17      178  2017-07-17         92.821272              98.235122   \n",
       "2017-07-17       16  2017-07-17        665.653670             714.708311   \n",
       "2017-07-17      707  2017-07-17          0.000000               0.000000   \n",
       "2017-07-17      541  2017-07-17          0.000000               0.000000   \n",
       "\n",
       "            total_demand_new_lag2  total_demand_new_lag3  \\\n",
       "date_idx                                                   \n",
       "2017-07-10                    NaN                    NaN   \n",
       "2017-07-10                    NaN                    NaN   \n",
       "2017-07-10                    NaN                    NaN   \n",
       "2017-07-10                    NaN                    NaN   \n",
       "2017-07-10                    NaN                    NaN   \n",
       "...                           ...                    ...   \n",
       "2017-07-17                    NaN                    NaN   \n",
       "2017-07-17                    NaN                    NaN   \n",
       "2017-07-17                    NaN                    NaN   \n",
       "2017-07-17                    NaN                    NaN   \n",
       "2017-07-17                    NaN                    NaN   \n",
       "\n",
       "            total_demand_new_lag-1  total_demand_new_lag-2  \\\n",
       "date_idx                                                     \n",
       "2017-07-10             2110.494687             2194.632691   \n",
       "2017-07-10                0.000000                0.000000   \n",
       "2017-07-10                0.000000                0.000000   \n",
       "2017-07-10              165.179355              167.336439   \n",
       "2017-07-10               40.926802               49.015181   \n",
       "...                            ...                     ...   \n",
       "2017-07-17                0.000000                0.000000   \n",
       "2017-07-17               98.366017               96.298768   \n",
       "2017-07-17              662.104415              633.032005   \n",
       "2017-07-17                0.000000                0.000000   \n",
       "2017-07-17                0.000000                0.000000   \n",
       "\n",
       "            total_demand_new_lag-3  smoothed_total_demand  ...  \\\n",
       "date_idx                                                   ...   \n",
       "2017-07-10             2186.039578                    NaN  ...   \n",
       "2017-07-10                0.000000                    NaN  ...   \n",
       "2017-07-10                0.000000                    NaN  ...   \n",
       "2017-07-10              174.475469                    NaN  ...   \n",
       "2017-07-10               48.955383                    NaN  ...   \n",
       "...                            ...                    ...  ...   \n",
       "2017-07-17                0.000000                    NaN  ...   \n",
       "2017-07-17              100.131993                    NaN  ...   \n",
       "2017-07-17              630.452485                    NaN  ...   \n",
       "2017-07-17                0.000000                    NaN  ...   \n",
       "2017-07-17                0.000000                    NaN  ...   \n",
       "\n",
       "            total_demand_new_lag4  t4w_total_demand  month  week  day  \\\n",
       "date_idx                                                                \n",
       "2017-07-10                    NaN               NaN      7    28   10   \n",
       "2017-07-10                    NaN               NaN      7    28   10   \n",
       "2017-07-10                    NaN               NaN      7    28   10   \n",
       "2017-07-10                    NaN               NaN      7    28   10   \n",
       "2017-07-10                    NaN               NaN      7    28   10   \n",
       "...                           ...               ...    ...   ...  ...   \n",
       "2017-07-17                    NaN               NaN      7    29   17   \n",
       "2017-07-17                    NaN               NaN      7    29   17   \n",
       "2017-07-17                    NaN               NaN      7    29   17   \n",
       "2017-07-17                    NaN               NaN      7    29   17   \n",
       "2017-07-17                    NaN               NaN      7    29   17   \n",
       "\n",
       "            t4w_total_demand_lag2  szn_factor        y_obs  covid_start_m1  \\\n",
       "date_idx                                                                     \n",
       "2017-07-10                    NaN         NaN  2156.459303             0.0   \n",
       "2017-07-10                    NaN         NaN     0.000000             0.0   \n",
       "2017-07-10                    NaN         NaN     0.000000             0.0   \n",
       "2017-07-10                    NaN         NaN   168.021855             0.0   \n",
       "2017-07-10                    NaN         NaN    44.212961             0.0   \n",
       "...                           ...         ...          ...             ...   \n",
       "2017-07-17                    NaN         NaN     0.000000             0.0   \n",
       "2017-07-17                    NaN         NaN    92.821272             0.0   \n",
       "2017-07-17                    NaN         NaN   665.653670             0.0   \n",
       "2017-07-17                    NaN         NaN     0.000000             0.0   \n",
       "2017-07-17                    NaN         NaN     0.000000             0.0   \n",
       "\n",
       "            zone_idx  \n",
       "date_idx              \n",
       "2017-07-10         0  \n",
       "2017-07-10         1  \n",
       "2017-07-10         2  \n",
       "2017-07-10         3  \n",
       "2017-07-10         4  \n",
       "...              ...  \n",
       "2017-07-17        72  \n",
       "2017-07-17        16  \n",
       "2017-07-17        82  \n",
       "2017-07-17        58  \n",
       "2017-07-17        34  \n",
       "\n",
       "[100 rows x 21 columns]"
      ]
     },
     "execution_count": 633,
     "metadata": {},
     "output_type": "execute_result"
    }
   ],
   "source": [
    "d2.head(100)"
   ]
  },
  {
   "cell_type": "code",
   "execution_count": 327,
   "id": "325f8ae4",
   "metadata": {},
   "outputs": [],
   "source": [
    "# let's test that we can do the hierarchical scanning business\n",
    "szn_len = 4\n",
    "d = pd.DataFrame({'zone_id': [1,1,1,1,1,1,1,1,1,2,2,2,2,2,2,2,2,2],\n",
    "#                   'y_obs': [1,2,3,4,2,3,4,5,3,1,2,3,4,1],\n",
    "                  'y_obs': [1,2,3,4,2,3,4,5,3,0,0,0,0,1,2,3,4,1],\n",
    "                  't': [1,2,3,4,5,6,7,8,9,1,2,3,4,5,6,7,8,9]})"
   ]
  },
  {
   "cell_type": "code",
   "execution_count": 338,
   "id": "f73b6386",
   "metadata": {},
   "outputs": [],
   "source": [
    "zone_list = d.zone_id.unique()\n",
    "d['zone_idx'] = d.zone_id.apply(lambda x: np.where(zone_list == x)[0][0])\n",
    "d['covid_start_m1'] = d.t.apply(lambda x: 1 if x == 7 else 0)\n",
    "d['date'] = d.t\n",
    "\n",
    "# does this need to be mapped to [0,len(dd.zone_id.unique())-1] ? seems yes\n",
    "zone_idx = d.zone_idx.values"
   ]
  },
  {
   "cell_type": "code",
   "execution_count": 339,
   "id": "a62a1678",
   "metadata": {},
   "outputs": [
    {
     "data": {
      "text/html": [
       "<div>\n",
       "<style scoped>\n",
       "    .dataframe tbody tr th:only-of-type {\n",
       "        vertical-align: middle;\n",
       "    }\n",
       "\n",
       "    .dataframe tbody tr th {\n",
       "        vertical-align: top;\n",
       "    }\n",
       "\n",
       "    .dataframe thead th {\n",
       "        text-align: right;\n",
       "    }\n",
       "</style>\n",
       "<table border=\"1\" class=\"dataframe\">\n",
       "  <thead>\n",
       "    <tr style=\"text-align: right;\">\n",
       "      <th></th>\n",
       "      <th>zone_id</th>\n",
       "      <th>y_obs</th>\n",
       "      <th>t</th>\n",
       "      <th>zone_idx</th>\n",
       "      <th>covid_start_m1</th>\n",
       "      <th>date</th>\n",
       "    </tr>\n",
       "  </thead>\n",
       "  <tbody>\n",
       "    <tr>\n",
       "      <th>0</th>\n",
       "      <td>1</td>\n",
       "      <td>1</td>\n",
       "      <td>1</td>\n",
       "      <td>0</td>\n",
       "      <td>0</td>\n",
       "      <td>1</td>\n",
       "    </tr>\n",
       "    <tr>\n",
       "      <th>1</th>\n",
       "      <td>1</td>\n",
       "      <td>2</td>\n",
       "      <td>2</td>\n",
       "      <td>0</td>\n",
       "      <td>0</td>\n",
       "      <td>2</td>\n",
       "    </tr>\n",
       "    <tr>\n",
       "      <th>2</th>\n",
       "      <td>1</td>\n",
       "      <td>3</td>\n",
       "      <td>3</td>\n",
       "      <td>0</td>\n",
       "      <td>0</td>\n",
       "      <td>3</td>\n",
       "    </tr>\n",
       "    <tr>\n",
       "      <th>3</th>\n",
       "      <td>1</td>\n",
       "      <td>4</td>\n",
       "      <td>4</td>\n",
       "      <td>0</td>\n",
       "      <td>0</td>\n",
       "      <td>4</td>\n",
       "    </tr>\n",
       "    <tr>\n",
       "      <th>4</th>\n",
       "      <td>1</td>\n",
       "      <td>2</td>\n",
       "      <td>5</td>\n",
       "      <td>0</td>\n",
       "      <td>0</td>\n",
       "      <td>5</td>\n",
       "    </tr>\n",
       "    <tr>\n",
       "      <th>5</th>\n",
       "      <td>1</td>\n",
       "      <td>3</td>\n",
       "      <td>6</td>\n",
       "      <td>0</td>\n",
       "      <td>0</td>\n",
       "      <td>6</td>\n",
       "    </tr>\n",
       "    <tr>\n",
       "      <th>6</th>\n",
       "      <td>1</td>\n",
       "      <td>4</td>\n",
       "      <td>7</td>\n",
       "      <td>0</td>\n",
       "      <td>1</td>\n",
       "      <td>7</td>\n",
       "    </tr>\n",
       "    <tr>\n",
       "      <th>7</th>\n",
       "      <td>1</td>\n",
       "      <td>5</td>\n",
       "      <td>8</td>\n",
       "      <td>0</td>\n",
       "      <td>0</td>\n",
       "      <td>8</td>\n",
       "    </tr>\n",
       "    <tr>\n",
       "      <th>8</th>\n",
       "      <td>1</td>\n",
       "      <td>3</td>\n",
       "      <td>9</td>\n",
       "      <td>0</td>\n",
       "      <td>0</td>\n",
       "      <td>9</td>\n",
       "    </tr>\n",
       "    <tr>\n",
       "      <th>9</th>\n",
       "      <td>2</td>\n",
       "      <td>0</td>\n",
       "      <td>1</td>\n",
       "      <td>1</td>\n",
       "      <td>0</td>\n",
       "      <td>1</td>\n",
       "    </tr>\n",
       "    <tr>\n",
       "      <th>10</th>\n",
       "      <td>2</td>\n",
       "      <td>0</td>\n",
       "      <td>2</td>\n",
       "      <td>1</td>\n",
       "      <td>0</td>\n",
       "      <td>2</td>\n",
       "    </tr>\n",
       "    <tr>\n",
       "      <th>11</th>\n",
       "      <td>2</td>\n",
       "      <td>0</td>\n",
       "      <td>3</td>\n",
       "      <td>1</td>\n",
       "      <td>0</td>\n",
       "      <td>3</td>\n",
       "    </tr>\n",
       "    <tr>\n",
       "      <th>12</th>\n",
       "      <td>2</td>\n",
       "      <td>0</td>\n",
       "      <td>4</td>\n",
       "      <td>1</td>\n",
       "      <td>0</td>\n",
       "      <td>4</td>\n",
       "    </tr>\n",
       "    <tr>\n",
       "      <th>13</th>\n",
       "      <td>2</td>\n",
       "      <td>1</td>\n",
       "      <td>5</td>\n",
       "      <td>1</td>\n",
       "      <td>0</td>\n",
       "      <td>5</td>\n",
       "    </tr>\n",
       "    <tr>\n",
       "      <th>14</th>\n",
       "      <td>2</td>\n",
       "      <td>2</td>\n",
       "      <td>6</td>\n",
       "      <td>1</td>\n",
       "      <td>0</td>\n",
       "      <td>6</td>\n",
       "    </tr>\n",
       "    <tr>\n",
       "      <th>15</th>\n",
       "      <td>2</td>\n",
       "      <td>3</td>\n",
       "      <td>7</td>\n",
       "      <td>1</td>\n",
       "      <td>1</td>\n",
       "      <td>7</td>\n",
       "    </tr>\n",
       "    <tr>\n",
       "      <th>16</th>\n",
       "      <td>2</td>\n",
       "      <td>4</td>\n",
       "      <td>8</td>\n",
       "      <td>1</td>\n",
       "      <td>0</td>\n",
       "      <td>8</td>\n",
       "    </tr>\n",
       "    <tr>\n",
       "      <th>17</th>\n",
       "      <td>2</td>\n",
       "      <td>1</td>\n",
       "      <td>9</td>\n",
       "      <td>1</td>\n",
       "      <td>0</td>\n",
       "      <td>9</td>\n",
       "    </tr>\n",
       "  </tbody>\n",
       "</table>\n",
       "</div>"
      ],
      "text/plain": [
       "    zone_id  y_obs  t  zone_idx  covid_start_m1  date\n",
       "0         1      1  1         0               0     1\n",
       "1         1      2  2         0               0     2\n",
       "2         1      3  3         0               0     3\n",
       "3         1      4  4         0               0     4\n",
       "4         1      2  5         0               0     5\n",
       "5         1      3  6         0               0     6\n",
       "6         1      4  7         0               1     7\n",
       "7         1      5  8         0               0     8\n",
       "8         1      3  9         0               0     9\n",
       "9         2      0  1         1               0     1\n",
       "10        2      0  2         1               0     2\n",
       "11        2      0  3         1               0     3\n",
       "12        2      0  4         1               0     4\n",
       "13        2      1  5         1               0     5\n",
       "14        2      2  6         1               0     6\n",
       "15        2      3  7         1               1     7\n",
       "16        2      4  8         1               0     8\n",
       "17        2      1  9         1               0     9"
      ]
     },
     "execution_count": 339,
     "metadata": {},
     "output_type": "execute_result"
    }
   ],
   "source": [
    "d"
   ]
  },
  {
   "cell_type": "code",
   "execution_count": 12,
   "id": "a79e3e59",
   "metadata": {},
   "outputs": [
    {
     "data": {
      "text/plain": [
       "array([0, 1])"
      ]
     },
     "execution_count": 12,
     "metadata": {},
     "output_type": "execute_result"
    }
   ],
   "source": [
    "np.unique(zone_idx)"
   ]
  },
  {
   "cell_type": "code",
   "execution_count": null,
   "id": "a40d01a0",
   "metadata": {},
   "outputs": [],
   "source": [
    "# so the \"parent\" distribution for initial szns should be ordered/accessed based on time\n",
    "\n",
    "# so s'pose we have\n",
    "# szn_len = 4\n",
    "#  t: 0,1,2,3,4,5,...\n",
    "# z1: 3,4,8,2,5,6,...\n",
    "# z2: _,_,_,1,3,4,...\n",
    "\n",
    "# initial_szns = s1,s2,s3,s4\n",
    "\n",
    "# the first non-zero entry for z2 is the 4th season\n",
    "# so the initial_szns passed to z2's theano.scan should be ordered as [s4,s1,s2,s3]"
   ]
  },
  {
   "cell_type": "code",
   "execution_count": null,
   "id": "0e22a271",
   "metadata": {},
   "outputs": [],
   "source": [
    "# w/ what ive been doing, we havent worried about which szn corresponds to which t, we just start from wherever there is demand (or 3rd week w/ demand)\n",
    "# now though, we should always index on a particular t/week #\n",
    "# ie make initial_szns[:, 0] correspond to first week in year, initial_szns[:, 51] corresponding to last, etc\n",
    "# so given the first_t, we want:\n",
    "\n",
    "initial_szns[z_idx, first_t%52:szn_len] + initial_szns[z_idx, :first_t%52]"
   ]
  },
  {
   "cell_type": "code",
   "execution_count": 90,
   "id": "76392b61",
   "metadata": {},
   "outputs": [],
   "source": [
    "theano.config.compute_test_value = 'raise'"
   ]
  },
  {
   "cell_type": "code",
   "execution_count": 97,
   "id": "e3716cf1",
   "metadata": {
    "code_folding": []
   },
   "outputs": [],
   "source": [
    "# def test(x, prev_output):\n",
    "def test(x):\n",
    "    return pm.math.floatX(x**2)\n",
    "\n",
    "outputs, updates = theano.scan(test,\n",
    "                               sequences=[\n",
    "                                   np.array([1.0,2.0,3.0,4.0])\n",
    "#                                    tt.as_tensor_variable([1.0,2.0,3.0,4.0])\n",
    "                               ],\n",
    "#                               outputs_info=[\n",
    "#                                   dict(initial=pm.math.floatX(0), taps=None)\n",
    "#                               ]\n",
    "                              )"
   ]
  },
  {
   "cell_type": "code",
   "execution_count": null,
   "id": "5056bbec",
   "metadata": {},
   "outputs": [],
   "source": [
    "## test data"
   ]
  },
  {
   "cell_type": "code",
   "execution_count": 695,
   "id": "8f0f20ad",
   "metadata": {
    "collapsed": true,
    "hide_input": true
   },
   "outputs": [
    {
     "name": "stderr",
     "output_type": "stream",
     "text": [
      "WARNING (theano.scan.basic): Output None (index 0) has a initial state but taps is explicitly set to None \n",
      "WARNING (theano.scan.basic): Output None (index 1) has a initial state but taps is explicitly set to None \n"
     ]
    },
    {
     "ename": "AttributeError",
     "evalue": "'CVM' object has no attribute 'maker'",
     "output_type": "error",
     "traceback": [
      "\u001b[0;31m---------------------------------------------------------------------------\u001b[0m",
      "\u001b[0;31mIndexError\u001b[0m                                Traceback (most recent call last)",
      "\u001b[0;32mscan_perform.pyx\u001b[0m in \u001b[0;36mtheano.scan.scan_perform.perform\u001b[0;34m()\u001b[0m\n",
      "\u001b[0;31mIndexError\u001b[0m: index out of bounds",
      "\nDuring handling of the above exception, another exception occurred:\n",
      "\u001b[0;31mAttributeError\u001b[0m                            Traceback (most recent call last)",
      "\u001b[0;32m<ipython-input-695-76b617b713d6>\u001b[0m in \u001b[0;36m<module>\u001b[0;34m\u001b[0m\n\u001b[1;32m     71\u001b[0m         \u001b[0;32mreturn\u001b[0m \u001b[0moutputs\u001b[0m\u001b[0;34m\u001b[0m\u001b[0;34m\u001b[0m\u001b[0m\n\u001b[1;32m     72\u001b[0m \u001b[0;34m\u001b[0m\u001b[0m\n\u001b[0;32m---> 73\u001b[0;31m     outputs, updates = theano.scan(inner_scan_for_zone,\n\u001b[0m\u001b[1;32m     74\u001b[0m                sequences=[\n\u001b[1;32m     75\u001b[0m                    \u001b[0mtt\u001b[0m\u001b[0;34m.\u001b[0m\u001b[0mas_tensor_variable\u001b[0m\u001b[0;34m(\u001b[0m\u001b[0mnp\u001b[0m\u001b[0;34m.\u001b[0m\u001b[0munique\u001b[0m\u001b[0;34m(\u001b[0m\u001b[0mzone_idx\u001b[0m\u001b[0;34m)\u001b[0m\u001b[0;34m)\u001b[0m\u001b[0;34m,\u001b[0m\u001b[0;34m\u001b[0m\u001b[0;34m\u001b[0m\u001b[0m\n",
      "\u001b[0;32m~/.pyenv/versions/3.8.6/lib/python3.8/site-packages/theano/scan/basic.py\u001b[0m in \u001b[0;36mscan\u001b[0;34m(fn, sequences, outputs_info, non_sequences, n_steps, truncate_gradient, go_backwards, mode, name, profile, allow_gc, strict, return_list)\u001b[0m\n\u001b[1;32m   1082\u001b[0m             \u001b[0;32mpass\u001b[0m\u001b[0;34m\u001b[0m\u001b[0;34m\u001b[0m\u001b[0m\n\u001b[1;32m   1083\u001b[0m         \u001b[0mscan_inputs\u001b[0m \u001b[0;34m+=\u001b[0m \u001b[0;34m[\u001b[0m\u001b[0marg\u001b[0m\u001b[0;34m]\u001b[0m\u001b[0;34m\u001b[0m\u001b[0;34m\u001b[0m\u001b[0m\n\u001b[0;32m-> 1084\u001b[0;31m     \u001b[0mscan_outs\u001b[0m \u001b[0;34m=\u001b[0m \u001b[0mlocal_op\u001b[0m\u001b[0;34m(\u001b[0m\u001b[0;34m*\u001b[0m\u001b[0mscan_inputs\u001b[0m\u001b[0;34m)\u001b[0m\u001b[0;34m\u001b[0m\u001b[0;34m\u001b[0m\u001b[0m\n\u001b[0m\u001b[1;32m   1085\u001b[0m     \u001b[0;32mif\u001b[0m \u001b[0mtype\u001b[0m\u001b[0;34m(\u001b[0m\u001b[0mscan_outs\u001b[0m\u001b[0;34m)\u001b[0m \u001b[0;32mnot\u001b[0m \u001b[0;32min\u001b[0m \u001b[0;34m(\u001b[0m\u001b[0mlist\u001b[0m\u001b[0;34m,\u001b[0m \u001b[0mtuple\u001b[0m\u001b[0;34m)\u001b[0m\u001b[0;34m:\u001b[0m\u001b[0;34m\u001b[0m\u001b[0;34m\u001b[0m\u001b[0m\n\u001b[1;32m   1086\u001b[0m         \u001b[0mscan_outs\u001b[0m \u001b[0;34m=\u001b[0m \u001b[0;34m[\u001b[0m\u001b[0mscan_outs\u001b[0m\u001b[0;34m]\u001b[0m\u001b[0;34m\u001b[0m\u001b[0;34m\u001b[0m\u001b[0m\n",
      "\u001b[0;32m~/.pyenv/versions/3.8.6/lib/python3.8/site-packages/theano/graph/op.py\u001b[0m in \u001b[0;36m__call__\u001b[0;34m(self, *inputs, **kwargs)\u001b[0m\n\u001b[1;32m    251\u001b[0m \u001b[0;34m\u001b[0m\u001b[0m\n\u001b[1;32m    252\u001b[0m         \u001b[0;32mif\u001b[0m \u001b[0mconfig\u001b[0m\u001b[0;34m.\u001b[0m\u001b[0mcompute_test_value\u001b[0m \u001b[0;34m!=\u001b[0m \u001b[0;34m\"off\"\u001b[0m\u001b[0;34m:\u001b[0m\u001b[0;34m\u001b[0m\u001b[0;34m\u001b[0m\u001b[0m\n\u001b[0;32m--> 253\u001b[0;31m             \u001b[0mcompute_test_value\u001b[0m\u001b[0;34m(\u001b[0m\u001b[0mnode\u001b[0m\u001b[0;34m)\u001b[0m\u001b[0;34m\u001b[0m\u001b[0;34m\u001b[0m\u001b[0m\n\u001b[0m\u001b[1;32m    254\u001b[0m \u001b[0;34m\u001b[0m\u001b[0m\n\u001b[1;32m    255\u001b[0m         \u001b[0;32mif\u001b[0m \u001b[0mself\u001b[0m\u001b[0;34m.\u001b[0m\u001b[0mdefault_output\u001b[0m \u001b[0;32mis\u001b[0m \u001b[0;32mnot\u001b[0m \u001b[0;32mNone\u001b[0m\u001b[0;34m:\u001b[0m\u001b[0;34m\u001b[0m\u001b[0;34m\u001b[0m\u001b[0m\n",
      "\u001b[0;32m~/.pyenv/versions/3.8.6/lib/python3.8/site-packages/theano/graph/op.py\u001b[0m in \u001b[0;36mcompute_test_value\u001b[0;34m(node)\u001b[0m\n\u001b[1;32m    128\u001b[0m     \u001b[0mthunk\u001b[0m\u001b[0;34m.\u001b[0m\u001b[0moutputs\u001b[0m \u001b[0;34m=\u001b[0m \u001b[0;34m[\u001b[0m\u001b[0mstorage_map\u001b[0m\u001b[0;34m[\u001b[0m\u001b[0mv\u001b[0m\u001b[0;34m]\u001b[0m \u001b[0;32mfor\u001b[0m \u001b[0mv\u001b[0m \u001b[0;32min\u001b[0m \u001b[0mnode\u001b[0m\u001b[0;34m.\u001b[0m\u001b[0moutputs\u001b[0m\u001b[0;34m]\u001b[0m\u001b[0;34m\u001b[0m\u001b[0;34m\u001b[0m\u001b[0m\n\u001b[1;32m    129\u001b[0m \u001b[0;34m\u001b[0m\u001b[0m\n\u001b[0;32m--> 130\u001b[0;31m     \u001b[0mrequired\u001b[0m \u001b[0;34m=\u001b[0m \u001b[0mthunk\u001b[0m\u001b[0;34m(\u001b[0m\u001b[0;34m)\u001b[0m\u001b[0;34m\u001b[0m\u001b[0;34m\u001b[0m\u001b[0m\n\u001b[0m\u001b[1;32m    131\u001b[0m     \u001b[0;32massert\u001b[0m \u001b[0;32mnot\u001b[0m \u001b[0mrequired\u001b[0m  \u001b[0;31m# We provided all inputs\u001b[0m\u001b[0;34m\u001b[0m\u001b[0;34m\u001b[0m\u001b[0m\n\u001b[1;32m    132\u001b[0m \u001b[0;34m\u001b[0m\u001b[0m\n",
      "\u001b[0;32m~/.pyenv/versions/3.8.6/lib/python3.8/site-packages/theano/scan/op.py\u001b[0m in \u001b[0;36mrval\u001b[0;34m(p, i, o, n, allow_gc)\u001b[0m\n\u001b[1;32m   1084\u001b[0m             \u001b[0mp\u001b[0m\u001b[0;34m=\u001b[0m\u001b[0mp\u001b[0m\u001b[0;34m,\u001b[0m \u001b[0mi\u001b[0m\u001b[0;34m=\u001b[0m\u001b[0mnode_input_storage\u001b[0m\u001b[0;34m,\u001b[0m \u001b[0mo\u001b[0m\u001b[0;34m=\u001b[0m\u001b[0mnode_output_storage\u001b[0m\u001b[0;34m,\u001b[0m \u001b[0mn\u001b[0m\u001b[0;34m=\u001b[0m\u001b[0mnode\u001b[0m\u001b[0;34m,\u001b[0m \u001b[0mallow_gc\u001b[0m\u001b[0;34m=\u001b[0m\u001b[0mallow_gc\u001b[0m\u001b[0;34m\u001b[0m\u001b[0;34m\u001b[0m\u001b[0m\n\u001b[1;32m   1085\u001b[0m         ):\n\u001b[0;32m-> 1086\u001b[0;31m             \u001b[0mr\u001b[0m \u001b[0;34m=\u001b[0m \u001b[0mp\u001b[0m\u001b[0;34m(\u001b[0m\u001b[0mn\u001b[0m\u001b[0;34m,\u001b[0m \u001b[0;34m[\u001b[0m\u001b[0mx\u001b[0m\u001b[0;34m[\u001b[0m\u001b[0;36m0\u001b[0m\u001b[0;34m]\u001b[0m \u001b[0;32mfor\u001b[0m \u001b[0mx\u001b[0m \u001b[0;32min\u001b[0m \u001b[0mi\u001b[0m\u001b[0;34m]\u001b[0m\u001b[0;34m,\u001b[0m \u001b[0mo\u001b[0m\u001b[0;34m)\u001b[0m\u001b[0;34m\u001b[0m\u001b[0;34m\u001b[0m\u001b[0m\n\u001b[0m\u001b[1;32m   1087\u001b[0m             \u001b[0;32mfor\u001b[0m \u001b[0mo\u001b[0m \u001b[0;32min\u001b[0m \u001b[0mnode\u001b[0m\u001b[0;34m.\u001b[0m\u001b[0moutputs\u001b[0m\u001b[0;34m:\u001b[0m\u001b[0;34m\u001b[0m\u001b[0;34m\u001b[0m\u001b[0m\n\u001b[1;32m   1088\u001b[0m                 \u001b[0mcompute_map\u001b[0m\u001b[0;34m[\u001b[0m\u001b[0mo\u001b[0m\u001b[0;34m]\u001b[0m\u001b[0;34m[\u001b[0m\u001b[0;36m0\u001b[0m\u001b[0;34m]\u001b[0m \u001b[0;34m=\u001b[0m \u001b[0;32mTrue\u001b[0m\u001b[0;34m\u001b[0m\u001b[0;34m\u001b[0m\u001b[0m\n",
      "\u001b[0;32m~/.pyenv/versions/3.8.6/lib/python3.8/site-packages/theano/scan/op.py\u001b[0m in \u001b[0;36mp\u001b[0;34m(node, args, outs)\u001b[0m\n\u001b[1;32m   1043\u001b[0m \u001b[0;34m\u001b[0m\u001b[0m\n\u001b[1;32m   1044\u001b[0m             \u001b[0;32mdef\u001b[0m \u001b[0mp\u001b[0m\u001b[0;34m(\u001b[0m\u001b[0mnode\u001b[0m\u001b[0;34m,\u001b[0m \u001b[0margs\u001b[0m\u001b[0;34m,\u001b[0m \u001b[0mouts\u001b[0m\u001b[0;34m)\u001b[0m\u001b[0;34m:\u001b[0m\u001b[0;34m\u001b[0m\u001b[0;34m\u001b[0m\u001b[0m\n\u001b[0;32m-> 1045\u001b[0;31m                 return scan_perform_ext.perform(\n\u001b[0m\u001b[1;32m   1046\u001b[0m                     \u001b[0mself\u001b[0m\u001b[0;34m.\u001b[0m\u001b[0mn_shared_outs\u001b[0m\u001b[0;34m,\u001b[0m\u001b[0;34m\u001b[0m\u001b[0;34m\u001b[0m\u001b[0m\n\u001b[1;32m   1047\u001b[0m                     \u001b[0mself\u001b[0m\u001b[0;34m.\u001b[0m\u001b[0mn_mit_mot_outs\u001b[0m\u001b[0;34m,\u001b[0m\u001b[0;34m\u001b[0m\u001b[0;34m\u001b[0m\u001b[0m\n",
      "\u001b[0;32mscan_perform.pyx\u001b[0m in \u001b[0;36mtheano.scan.scan_perform.perform\u001b[0;34m()\u001b[0m\n",
      "\u001b[0;31mAttributeError\u001b[0m: 'CVM' object has no attribute 'maker'"
     ]
    }
   ],
   "source": [
    "## test data\n",
    "\n",
    "with pm.Model() as test_hw_model:\n",
    "#     initial_level = pm.Normal(f'initial_level', mu=3000, sigma=400)\n",
    "#         initial_level = pm.Uniform(f'initial_level', lower=0, upper=5000)\n",
    "    initial_lvl_upper = 10000\n",
    "    initial_level = pm.Uniform(f'initial_level', lower=0, upper=initial_lvl_upper, shape=(d.zone_id.nunique()))\n",
    "\n",
    "    smoothing_level_mu = pm.Uniform('smoothing_level_mu', lower=0, upper=1)\n",
    "    smoothing_level_sigma = pm.HalfCauchy('smoothing_level_sigma', beta=0.5)\n",
    "    smoothing_level = pm.TruncatedNormal('smoothing_level', mu=smoothing_level_mu, sigma=smoothing_level_sigma, lower=0, upper=1, shape=(d.zone_id.nunique()))\n",
    "#         smoothing_level = pm.Normal('smoothing_level', mu=0.5, sigma=0.5)\n",
    "\n",
    "#     initial_trend = pm.Normal(f'initial_trend', mu=0, sigma=100)\n",
    "#         initial_trend = pm.Uniform(f'initial_trend', lower=-1000, upper=1000)\n",
    "    initial_trend = pm.Uniform(f'initial_trend', lower=-initial_lvl_upper/2, upper=initial_lvl_upper/2, shape=(d.zone_id.nunique()))\n",
    "\n",
    "    smoothing_trend_mu = pm.Uniform('smoothing_trend_mu', lower=0, upper=1)\n",
    "    smoothing_trend_sigma = pm.HalfCauchy('smoothing_trend_sigma', beta=0.5)\n",
    "    smoothing_trend = pm.TruncatedNormal('smoothing_trend', mu=smoothing_trend_mu, sigma=smoothing_trend_sigma, lower=0, upper=1, shape=(d.zone_id.nunique()))\n",
    "#         smoothing_trend = pm.Uniform('smoothing_trend', lower=0, upper=1)\n",
    "#     smoothing_trend = pm.Normal('smoothing_trend', mu=0.5, sigma=0.5)\n",
    "\n",
    "\n",
    "    # \n",
    "    initial_szns_mus = pm.Normal('initial_szns_mus', mu=1.0, sigma=0.2, shape=(szn_len))\n",
    "    initial_szns = pm.Normal('initial_szns', mu=initial_szns_mus, sigma=0.2, shape=(d.zone_id.nunique(), szn_len))\n",
    "#     initial_szns = pm.Uniform('initial_szns', lower=0.7, upper=1.3, shape=(szn_len))\n",
    "#     smoothing_season = pm.Uniform('smoothing_season', lower=0, upper=1)\n",
    "#     smoothing_season = pm.Uniform('smoothing_season', lower=0, upper=1)\n",
    "#     smoothing_season = pm.Uniform('smoothing_season', lower=0, upper=1-smoothing_level)\n",
    "    smoothing_season_mu = pm.Uniform('smoothing_season_mu', lower=0, upper=1)\n",
    "    smoothing_season_sigma = pm.HalfCauchy('smoothing_season_sigma', beta=0.5)\n",
    "    smoothing_season = pm.TruncatedNormal('smoothing_season', mu=smoothing_season_mu, sigma=smoothing_season_sigma, lower=0, upper=1, shape=(d.zone_id.nunique()))\n",
    "#         smoothing_season = pm.TruncatedNormal('smoothing_season', mu=0.2, sigma=0.5, lower=0, upper=0.8)\n",
    "#     smoothing_season = pm.Normal('smoothing_season', mu=0.5, sigma=0.5)\n",
    "\n",
    "#     ys = tt.as_tensor_variable(zdf['y_obs'])\n",
    "#     is_covid_start = tt.as_tensor_variable(zdf['covid_start_m1'])\n",
    "\n",
    "#     covid_level_change = pm.Normal('covid_level_change', mu=15000, sigma=2000)\n",
    "    covid_level_change = pm.Uniform('covid_level_change', lower=0, upper=5000, shape=(d.zone_id.nunique()))\n",
    "#         covid_level_change = pm.Normal('covid_level_change', mu=2000, sigma=1000)\n",
    "#     covid_level_change2 = pm.Normal('covid_level_change2', mu=20000, sigma=2000)\n",
    "    covid_level_change2 = pm.Uniform('covid_level_change2', lower=0, upper=5000, shape=(d.zone_id.nunique()))\n",
    "    \n",
    "    def hw_component_wise_wrapper(z_idx):\n",
    "        def hw_component_wise(y, covid_start, prior_level, prior_trend, szn_m52):\n",
    "            updated_szn = smoothing_season[z_idx] * y / (prior_level + prior_trend) + (1 - smoothing_season[z_idx]) * szn_m52\n",
    "\n",
    "\n",
    "            next_level = smoothing_level[z_idx] * (y/szn_m52) + (1 - smoothing_level[z_idx])*(prior_level + prior_trend) + covid_start*covid_level_change[z_idx]\n",
    "            next_trend = smoothing_trend[z_idx] * (next_level - prior_level) + (1 - smoothing_trend[z_idx])*prior_trend - covid_start*smoothing_trend[z_idx]*covid_level_change2[z_idx]\n",
    "\n",
    "\n",
    "            return next_level, next_trend, updated_szn\n",
    "        return hw_component_wise\n",
    "    \n",
    "    def inner_scan_for_zone(z_idx, ys, is_covid_start):\n",
    "        outputs, updates = theano.scan(hw_component_wise_wrapper(z_idx),\n",
    "                                      sequences=[\n",
    "                                          ys[1:], # this [1:] is done assuming we padded and shifted y_obs\n",
    "                                          is_covid_start[1:]\n",
    "                                      ],\n",
    "                                      outputs_info=[\n",
    "                                          dict(initial = initial_level[z_idx], taps=None),\n",
    "                                          dict(initial = initial_trend[z_idx], taps=None),\n",
    "                                          dict(initial = initial_szns[z_idx], taps=[-szn_len])\n",
    "    #                                       dict(initial = initial_seasons, taps=[-szn_len])\n",
    "                                      ])\n",
    "        return outputs\n",
    "\n",
    "    outputs, updates = theano.scan(inner_scan_for_zone,\n",
    "               sequences=[\n",
    "                   tt.as_tensor_variable(np.unique(zone_idx)),\n",
    "    #                np.unique(zone_idx),\n",
    "                   tt.as_tensor_variable(ys_list),\n",
    "    #                np.array(ys_list),\n",
    "                   tt.as_tensor_variable(is_covid_start_list),\n",
    "    #                np.array(is_covid_start_list),\n",
    "    #                np.array(first_t_list)\n",
    "               ])\n",
    "    \n",
    "    \n",
    "    ## [] adjust below to account for the now multi-zone setup\n",
    "#     levels = outputs[0]\n",
    "#     trends = outputs[1]\n",
    "#     seasons = outputs[2]\n",
    "\n",
    "\n",
    "#     levels_f = pm.math.concatenate([initial_level.reshape(1,1), levels[:-1]])\n",
    "#     trends_f = pm.math.concatenate([initial_trend.reshape(1,1), trends[:-1]])\n",
    "#     seasons_f = pm.math.concatenate([initial_szns, seasons[:-szn_len]])\n",
    "\n",
    "#     levels_and_trends = pm.math.stack([levels_f, trends_f])\n",
    "#     level_plus_trend = levels_and_trends.sum(axis=0)\n",
    "\n",
    "#     level_plus_trend_and_seasons = pm.math.stack([level_plus_trend, seasons_f])\n",
    "#     y_hats = level_plus_trend_and_seasons.prod(axis=0)\n",
    "\n",
    "#     sig = pm.HalfCauchy('sigma', beta=10)\n",
    "# #         y_like = pm.Normal('y_like', mu=y_hats, sigma=sig, observed=zdf.iloc[szn_len-1:-1, :]['y_obs_lag-1'])\n",
    "#     y_like = pm.Normal('y_like', mu=y_hats, sigma=sig, observed=zdf.iloc[:-1, :]['y_obs_lag-1'])\n",
    "\n",
    "    levels = outputs[0]\n",
    "    trends = outputs[1]\n",
    "    seasons = outputs[2]\n",
    "\n",
    "    levels_f = pm.math.concatenate([initial_level.reshape((d.zone_id.nunique(),1)), levels[:,:-1]], axis=1)\n",
    "    trends_f = pm.math.concatenate([initial_trend.reshape((d.zone_id.nunique(),1)), trends[:,:-1]], axis=1)\n",
    "    seasons_f = pm.math.concatenate([initial_szns, seasons[:,:-szn_len]], axis=1)\n",
    "\n",
    "    levels_and_trends = pm.math.stack([levels_f, trends_f], axis=1)\n",
    "    level_plus_trend = levels_and_trends.sum(axis=1)\n",
    "\n",
    "    level_plus_trend_and_seasons = pm.math.stack([level_plus_trend, seasons_f], axis=1)\n",
    "    y_hats = level_plus_trend_and_seasons.prod(axis=1)\n",
    "\n",
    "    sig = pm.HalfCauchy('sigma', beta=10)\n",
    "    y_like = pm.Normal('y_like', mu=y_hats, sigma=sig, observed=np.array(y_obs_lagm1_list)[:,:-1])"
   ]
  },
  {
   "cell_type": "code",
   "execution_count": 700,
   "id": "4e2b95cd",
   "metadata": {},
   "outputs": [
    {
     "data": {
      "text/plain": [
       "[2194.6326905351425, 0.0, 360.5683838797144, 0.0, 624.2734227658572]"
      ]
     },
     "execution_count": 700,
     "metadata": {},
     "output_type": "execute_result"
    }
   ],
   "source": [
    "initial_lvl_upper_list"
   ]
  },
  {
   "cell_type": "code",
   "execution_count": 910,
   "id": "7262c611",
   "metadata": {},
   "outputs": [
    {
     "name": "stderr",
     "output_type": "stream",
     "text": [
      "WARNING (theano.scan.basic): Output None (index 0) has a initial state but taps is explicitly set to None \n",
      "WARNING (theano.scan.basic): Output None (index 1) has a initial state but taps is explicitly set to None \n"
     ]
    }
   ],
   "source": [
    "## real data\n",
    "\n",
    "with pm.Model() as test_hw_model:\n",
    "#     initial_level = pm.Normal(f'initial_level', mu=3000, sigma=400)\n",
    "#         initial_level = pm.Uniform(f'initial_level', lower=0, upper=5000)\n",
    "#     initial_lvl_upper = 10000\n",
    "#     initial_level = pm.Uniform(f'initial_level', lower=0, upper=initial_lvl_upper, shape=(d2.zone_id.nunique()))\n",
    "    initial_level = pm.Uniform(f'initial_level', lower=0, upper=np.array(initial_lvl_upper_list) + 1, shape=(d2.zone_id.nunique()))\n",
    "\n",
    "    smoothing_level_mu = pm.Uniform('smoothing_level_mu', lower=0, upper=1)\n",
    "    smoothing_level_sigma = pm.HalfCauchy('smoothing_level_sigma', beta=1)\n",
    "#     smoothing_level_sigma = pm.HalfCauchy('smoothing_level_sigma', beta=0.5)\n",
    "    smoothing_level = pm.TruncatedNormal('smoothing_level', mu=smoothing_level_mu, sigma=smoothing_level_sigma, lower=0, upper=1, shape=(d2.zone_id.nunique()))\n",
    "#         smoothing_level = pm.Normal('smoothing_level', mu=0.5, sigma=0.5)\n",
    "\n",
    "#     initial_trend = pm.Normal(f'initial_trend', mu=0, sigma=100)\n",
    "#         initial_trend = pm.Uniform(f'initial_trend', lower=-1000, upper=1000)\n",
    "#     initial_trend = pm.Uniform(f'initial_trend', lower=-initial_lvl_upper/2, upper=initial_lvl_upper/2, shape=(d2.zone_id.nunique()))\n",
    "#     initial_trend = pm.Uniform(f'initial_trend', lower=-np.array(initial_lvl_upper_list)/4, upper=np.array(initial_lvl_upper_list)/4, shape=(d2.zone_id.nunique()))\n",
    "    initial_trend = pm.Uniform(f'initial_trend', lower=-300, upper=300, shape=(d2.zone_id.nunique()))\n",
    "\n",
    "    smoothing_trend_mu = pm.Uniform('smoothing_trend_mu', lower=0, upper=1)\n",
    "    smoothing_trend_sigma = pm.HalfCauchy('smoothing_trend_sigma', beta=1)\n",
    "#     smoothing_trend_sigma = pm.HalfCauchy('smoothing_trend_sigma', beta=0.5)\n",
    "    smoothing_trend = pm.TruncatedNormal('smoothing_trend', mu=smoothing_trend_mu, sigma=smoothing_trend_sigma, lower=0, upper=1, shape=(d2.zone_id.nunique()))\n",
    "#         smoothing_trend = pm.Uniform('smoothing_trend', lower=0, upper=1)\n",
    "#     smoothing_trend = pm.Normal('smoothing_trend', mu=0.5, sigma=0.5)\n",
    "\n",
    "\n",
    "    # \n",
    "#     initial_szns_mus = pm.Normal('initial_szns_mus', mu=1.0, sigma=0.10, shape=(szn_len))\n",
    "    initial_szns_mus = pm.TruncatedNormal('initial_szns_mus', mu=1.0, sigma=0.10, lower=0.8, upper=1.2, shape=(szn_len))\n",
    "#     initial_szns_mus = pm.Normal('initial_szns_mus', mu=1.0, sigma=0.05, shape=(szn_len))\n",
    "    initial_szns = pm.TruncatedNormal('initial_szns', mu=initial_szns_mus, sigma=0.05, lower=0.8, upper=1.2, shape=(d2.zone_id.nunique(), szn_len))\n",
    "#     initial_szns = pm.Normal('initial_szns', mu=initial_szns_mus, sigma=0.05, shape=(d2.zone_id.nunique(), szn_len))\n",
    "#     initial_szns = pm.Normal('initial_szns', mu=initial_szns_mus, sigma=0.2, shape=(d2.zone_id.nunique(), szn_len))\n",
    "#     initial_szns = pm.Uniform('initial_szns', lower=0.7, upper=1.3, shape=(szn_len))\n",
    "#     smoothing_season = pm.Uniform('smoothing_season', lower=0, upper=1)\n",
    "#     smoothing_season = pm.Uniform('smoothing_season', lower=0, upper=1)\n",
    "#     smoothing_season = pm.Uniform('smoothing_season', lower=0, upper=1-smoothing_level)\n",
    "    smoothing_season_mu = pm.Uniform('smoothing_season_mu', lower=0, upper=1)\n",
    "    smoothing_season_sigma = pm.HalfCauchy('smoothing_season_sigma', beta=0.5)\n",
    "    smoothing_season = pm.TruncatedNormal('smoothing_season', mu=smoothing_season_mu, sigma=smoothing_season_sigma, lower=0, upper=1, shape=(d2.zone_id.nunique()))\n",
    "#         smoothing_season = pm.TruncatedNormal('smoothing_season', mu=0.2, sigma=0.5, lower=0, upper=0.8)\n",
    "#     smoothing_season = pm.Normal('smoothing_season', mu=0.5, sigma=0.5)\n",
    "\n",
    "#     ys = tt.as_tensor_variable(zdf['y_obs'])\n",
    "#     is_covid_start = tt.as_tensor_variable(zdf['covid_start_m1'])\n",
    "\n",
    "#     covid_level_change = pm.Normal('covid_level_change', mu=15000, sigma=2000)\n",
    "    covid_level_change = pm.Uniform('covid_level_change', lower=0, upper=5000, shape=(d2.zone_id.nunique()))\n",
    "#         covid_level_change = pm.Normal('covid_level_change', mu=2000, sigma=1000)\n",
    "#     covid_level_change2 = pm.Normal('covid_level_change2', mu=20000, sigma=2000)\n",
    "    covid_level_change2 = pm.Uniform('covid_level_change2', lower=0, upper=5000, shape=(d2.zone_id.nunique()))\n",
    "    \n",
    "    def hw_component_wise_wrapper(z_idx):\n",
    "        def hw_component_wise(y, covid_start, data_start, prior_level, prior_trend, szn_m52):\n",
    "#             updated_szn = smoothing_season[z_idx] * y / (prior_level + prior_trend) + (1 - smoothing_season[z_idx]) * szn_m52\n",
    "            updated_szn = data_start*(smoothing_season[z_idx] * y / (prior_level + prior_trend) + (1 - smoothing_season[z_idx]) * szn_m52) + (1 - data_start)*(szn_m52)\n",
    "\n",
    "\n",
    "#             next_level = smoothing_level[z_idx] * (y/szn_m52) + (1 - smoothing_level[z_idx])*(prior_level + prior_trend) + covid_start*covid_level_change[z_idx]\n",
    "            next_level = data_start*(smoothing_level[z_idx] * (y/szn_m52) + (1 - smoothing_level[z_idx])*(prior_level + prior_trend) + covid_start*covid_level_change[z_idx]) + (1 - data_start)*(prior_level)\n",
    "        \n",
    "#             next_trend = smoothing_trend[z_idx] * (next_level - prior_level) + (1 - smoothing_trend[z_idx])*prior_trend - covid_start*smoothing_trend[z_idx]*covid_level_change2[z_idx]\n",
    "            next_trend = data_start*(smoothing_trend[z_idx] * (next_level - prior_level) + (1 - smoothing_trend[z_idx])*prior_trend - covid_start*smoothing_trend[z_idx]*covid_level_change2[z_idx]) + (1 - data_start)*(prior_trend)\n",
    "\n",
    "\n",
    "            return next_level, next_trend, updated_szn\n",
    "        return hw_component_wise\n",
    "    \n",
    "    def inner_scan_for_zone(z_idx, ys, is_covid_start, data_starts):\n",
    "        outputs, updates = theano.scan(hw_component_wise_wrapper(z_idx),\n",
    "                                      sequences=[\n",
    "                                          ys[1:], # this [1:] is done assuming we padded and shifted y_obs\n",
    "                                          is_covid_start[1:],\n",
    "                                          data_starts[1:]\n",
    "                                      ],\n",
    "                                      outputs_info=[\n",
    "                                          dict(initial = initial_level[z_idx], taps=None),\n",
    "                                          dict(initial = initial_trend[z_idx], taps=None),\n",
    "                                          dict(initial = initial_szns[z_idx], taps=[-szn_len])\n",
    "    #                                       dict(initial = initial_seasons, taps=[-szn_len])\n",
    "                                      ])\n",
    "        return outputs\n",
    "\n",
    "    outputs, updates = theano.scan(inner_scan_for_zone,\n",
    "               sequences=[\n",
    "                   tt.as_tensor_variable(np.unique(zone_idx)),\n",
    "                   tt.as_tensor_variable(ys_list),\n",
    "                   tt.as_tensor_variable(is_covid_start_list),\n",
    "                   tt.as_tensor_variable(data_start_list)\n",
    "    #                np.array(first_t_list)\n",
    "               ])\n",
    "    \n",
    "    levels = outputs[0]\n",
    "    trends = outputs[1]\n",
    "    seasons = outputs[2]\n",
    "\n",
    "    levels_f = pm.math.concatenate([initial_level.reshape((d2.zone_id.nunique(),1)), levels[:,:-1]], axis=1)\n",
    "    trends_f = pm.math.concatenate([initial_trend.reshape((d2.zone_id.nunique(),1)), trends[:,:-1]], axis=1)\n",
    "    seasons_f = pm.math.concatenate([initial_szns, seasons[:,:-szn_len]], axis=1)\n",
    "\n",
    "    levels_and_trends = pm.math.stack([levels_f, trends_f], axis=1)\n",
    "    level_plus_trend = levels_and_trends.sum(axis=1)\n",
    "\n",
    "    level_plus_trend_and_seasons = pm.math.stack([level_plus_trend, seasons_f], axis=1)\n",
    "    y_hats = level_plus_trend_and_seasons.prod(axis=1)\n",
    "    \n",
    "    y_hats_and_data_start = pm.math.stack([y_hats, np.array(data_start_list)[:, 1:]], axis=1)\n",
    "    y_hats_final = y_hats_and_data_start.prod(axis=1)\n",
    "\n",
    "    sig = pm.HalfCauchy('sigma', beta=10, shape=(d2.zone_id.nunique(),1))\n",
    "#     y_like = pm.Normal('y_like', mu=y_hats, sigma=sig, observed=np.array(y_obs_lagm1_list)[:,:-1])\n",
    "    y_like = pm.Normal('y_like', mu=y_hats_final, sigma=sig, observed=np.array(y_obs_lagm1_list)[:,:-1])    "
   ]
  },
  {
   "cell_type": "code",
   "execution_count": 912,
   "id": "10d8d7bb",
   "metadata": {},
   "outputs": [
    {
     "data": {
      "text/html": [
       "\n",
       "    <div>\n",
       "        <style>\n",
       "            /* Turns off some styling */\n",
       "            progress {\n",
       "                /* gets rid of default border in Firefox and Opera. */\n",
       "                border: none;\n",
       "                /* Needs to be in here for Safari polyfill so background images work as expected. */\n",
       "                background-size: auto;\n",
       "            }\n",
       "            .progress-bar-interrupted, .progress-bar-interrupted::-webkit-progress-bar {\n",
       "                background: #F44336;\n",
       "            }\n",
       "        </style>\n",
       "      <progress value='657' class='' max='657' style='width:300px; height:20px; vertical-align: middle;'></progress>\n",
       "      100.00% [657/657 00:47<00:00 logp = -3,679, ||grad|| = 533.49]\n",
       "    </div>\n",
       "    "
      ],
      "text/plain": [
       "<IPython.core.display.HTML object>"
      ]
     },
     "metadata": {},
     "output_type": "display_data"
    },
    {
     "name": "stdout",
     "output_type": "stream",
     "text": [
      "\n"
     ]
    }
   ],
   "source": [
    "map_estimate = pm.find_MAP(model=test_hw_model)"
   ]
  },
  {
   "cell_type": "code",
   "execution_count": 876,
   "id": "644b4eb5",
   "metadata": {},
   "outputs": [
    {
     "data": {
      "text/plain": [
       "{'initial_level_interval__': array([ 6.3079193 , -0.04695986,  3.82736349, -0.02482378,  3.16534917]),\n",
       " 'smoothing_level_mu_interval__': array(2.0728251),\n",
       " 'smoothing_level_sigma_log__': array(-1.21376528),\n",
       " 'smoothing_level_interval__': array([0.87148665, 5.83572419, 4.86476872, 3.70884873, 4.97470786]),\n",
       " 'initial_trend_interval__': array([-0.01061225, -0.01503506, -0.00059556, -0.00288672,  0.01409607]),\n",
       " 'smoothing_trend_mu_interval__': array(-1.59962653),\n",
       " 'smoothing_trend_sigma_log__': array(-0.79446046),\n",
       " 'smoothing_trend_interval__': array([-6.23101585, -4.24490371, -7.45376805, -0.04722587, -5.43186304]),\n",
       " 'initial_szns_mus_interval__': array([-0.37241538, -0.2927125 , -0.4120933 , -0.27313806, -0.38299485,\n",
       "        -0.30655171, -0.20372103, -0.24136549,  0.67608348,  0.68005687,\n",
       "         0.08417702,  0.41662365,  0.15875817, -0.01864617, -0.16288399,\n",
       "         0.0326455 ,  0.057148  , -0.15860901, -0.23931884, -0.33694738,\n",
       "         0.02311119,  0.16846361, -0.2315049 , -1.36288074, -0.90840914,\n",
       "         0.067753  ,  0.38828912,  0.62244061,  0.44356286,  0.38137964,\n",
       "         1.06095668,  1.30625208,  1.70810356,  1.30137098,  0.88778522,\n",
       "         0.57769409,  0.77419707,  0.35380547,  0.45762005,  0.33746871,\n",
       "         0.36748085,  0.09839423, -0.1707358 , -0.22406548, -0.44040759,\n",
       "        -0.8166088 , -0.71274473, -0.49628127, -0.51240041, -0.61697845,\n",
       "        -0.8886813 , -0.65015486]),\n",
       " 'initial_szns_interval__': array([[-5.59239384e-01, -7.00802271e-01, -5.18354678e-01,\n",
       "         -4.47388243e-01, -4.86949787e-01, -2.01271958e-01,\n",
       "         -1.43663592e-01, -1.66441471e-01,  4.63505862e-01,\n",
       "          5.11347215e-01, -3.25107912e-02,  9.99773373e-02,\n",
       "         -8.36207528e-02,  2.95246382e-03,  1.06226942e-01,\n",
       "          3.22458222e-02,  1.75235414e-01, -2.31666168e-01,\n",
       "         -2.79385243e-01, -3.73405762e-01,  1.06946496e-01,\n",
       "          3.52601153e-01, -3.84114741e-02, -1.80640609e+00,\n",
       "         -9.10021548e-01,  4.02693350e-01,  7.85568031e-01,\n",
       "          7.10549563e-01,  4.76082801e-01,  5.24059871e-01,\n",
       "          7.07122567e-01,  8.50099029e-01,  1.07481762e+00,\n",
       "          1.25243819e+00,  7.11739225e-01,  9.47223938e-01,\n",
       "          7.15413851e-01,  3.26986700e-01,  4.15516829e-01,\n",
       "          2.26229159e-01,  1.86806171e-01,  2.04688252e-01,\n",
       "         -2.13427235e-02,  1.94743064e-02, -1.23514925e-01,\n",
       "         -4.21856448e-01, -5.60884751e-01, -5.99897874e-01,\n",
       "         -5.75334130e-01, -6.21466942e-01, -8.69290507e-01,\n",
       "         -7.87848519e-01],\n",
       "        [-4.50886990e-01, -1.36077874e-01, -3.29527576e-01,\n",
       "         -2.65626531e-01, -4.87745428e-01, -3.92428698e-01,\n",
       "          5.46679259e-02,  4.92048725e-02,  4.98979916e-01,\n",
       "          7.41181165e-01,  8.61463784e-02,  2.99284047e-01,\n",
       "          1.44800516e-01, -3.35264074e-02,  1.54937969e-01,\n",
       "          8.96960352e-02, -2.16117913e-01, -1.53604811e-01,\n",
       "         -7.64223677e-02, -1.83385180e-01, -6.00130952e-02,\n",
       "          1.67237514e-02, -2.83603945e-02, -8.31900161e-01,\n",
       "         -9.05370412e-01,  2.02404643e-02,  1.10579143e-01,\n",
       "          4.32586241e-01,  3.98412405e-01,  7.72964314e-01,\n",
       "          1.02756901e+00,  1.29427718e+00,  1.85099007e+00,\n",
       "          1.14378327e+00,  6.01882124e-01,  4.68439106e-01,\n",
       "          8.56820390e-01,  4.02496840e-01,  3.85743443e-01,\n",
       "          3.13816835e-01,  3.13560567e-01,  1.62756350e-01,\n",
       "         -2.45934631e-01, -9.62383772e-02, -1.85185102e-01,\n",
       "         -5.77581990e-01, -5.93775720e-01, -4.59355985e-01,\n",
       "         -5.73756218e-01, -7.47588105e-01, -8.58698910e-01,\n",
       "         -5.50624911e-01],\n",
       "        [-2.73765852e-01, -9.08047448e-02, -5.11553410e-01,\n",
       "         -2.90114765e-01, -3.80260829e-01, -5.06704794e-01,\n",
       "         -7.07243718e-01, -3.59297278e-01,  1.01037409e+00,\n",
       "          8.17494411e-01,  4.33751286e-01,  6.74397899e-01,\n",
       "          4.00210666e-01, -4.04893443e-02, -6.22700094e-01,\n",
       "         -1.97749819e-01,  2.72351332e-01, -1.08814202e-02,\n",
       "         -3.74660409e-01, -4.36768251e-01, -7.07934746e-03,\n",
       "          2.69050840e-01, -2.96310248e-01, -3.04442525e+00,\n",
       "         -1.13784724e+00, -4.05790960e-01,  4.80435325e-01,\n",
       "          9.45761792e-01,  5.74048807e-01,  8.30918959e-01,\n",
       "          1.18145039e+00,  1.36399967e+00,  1.85103134e+00,\n",
       "          1.12607629e+00,  8.79897996e-01,  3.84651294e-01,\n",
       "          6.02988105e-01,  2.65121469e-01,  5.53023574e-01,\n",
       "          7.79259085e-01,  1.18675544e+00,  2.78171814e-01,\n",
       "         -2.59616311e-01, -5.05105882e-01, -7.62359730e-01,\n",
       "         -1.15719866e+00, -9.20016710e-01, -5.76692587e-01,\n",
       "         -8.54516853e-01, -8.84704477e-01, -1.06326599e+00,\n",
       "         -7.27234023e-01],\n",
       "        [-5.00512596e-01, -5.16581712e-01, -3.02824889e-01,\n",
       "         -1.92848521e-01, -1.23029818e-01, -6.75786955e-02,\n",
       "          1.80906921e-01,  2.51237868e-01,  3.21216866e-01,\n",
       "          3.39960092e-01,  2.41610268e-01,  3.40586276e-01,\n",
       "          1.66149859e-01,  6.47700068e-02, -6.78777852e-02,\n",
       "          1.04235044e-01,  1.22040334e-01, -2.85446895e-01,\n",
       "         -3.87988603e-01, -3.29420335e-01, -5.23792054e-02,\n",
       "          7.69529270e-02, -7.50496292e-01, -2.44143072e-01,\n",
       "         -5.08712404e-01,  9.79442468e-02,  2.42813695e-01,\n",
       "          7.12013766e-01,  6.14696372e-01, -1.73739990e+00,\n",
       "          1.36564140e+00,  1.59348551e+00,  5.26969388e+00,\n",
       "          2.38515671e+00,  1.46005825e+00,  9.95351654e-01,\n",
       "          8.37659611e-01,  4.69420219e-01,  5.29312200e-01,\n",
       "          1.70021453e-01,  6.65360389e-02, -1.66568429e-01,\n",
       "         -2.21107218e-01, -3.05923007e-01, -5.04234181e-01,\n",
       "         -7.32253136e-01, -5.98913595e-01, -7.08324914e-01,\n",
       "         -5.88127756e-01, -4.68646289e-01, -6.52462099e-01,\n",
       "         -4.69852044e-01],\n",
       "        [-2.95798653e-01,  3.68560129e-02, -3.64162997e-01,\n",
       "         -4.12945520e-01, -4.65472800e-01, -4.90503578e-01,\n",
       "         -9.94058148e-01, -6.71212324e-01,  1.64681285e+00,\n",
       "          1.32036270e+00,  1.17250396e-01,  3.21088498e-01,\n",
       "          6.78373796e-02, -1.03477199e-02, -2.84707783e-01,\n",
       "          9.02774549e-02, -8.11886921e-02, -6.42765482e-02,\n",
       "         -2.74194117e-01, -3.93677892e-01,  6.34044425e-02,\n",
       "          1.76250610e-01, -7.35522573e-02, -3.59044475e+00,\n",
       "         -1.26508586e+00, -6.32079493e-02,  5.93657512e-01,\n",
       "          6.17855243e-01,  5.54129802e-01,  1.11735896e+00,\n",
       "          1.26405038e+00,  1.22122516e+00,  1.27180750e+00,\n",
       "          1.16970199e+00,  8.27622518e-01,  3.12983321e-01,\n",
       "          5.45311773e-01,  2.90486571e-01,  5.67333586e-01,\n",
       "          6.47383203e-01,  4.99912126e-01,  2.28204173e-01,\n",
       "          8.60005407e-02, -1.21673166e-01, -7.12188314e-01,\n",
       "         -1.41940039e+00, -1.04884988e+00, -5.80966727e-01,\n",
       "         -4.62408356e-01, -7.76713896e-01, -9.96107023e-01,\n",
       "         -7.21989401e-01]]),\n",
       " 'smoothing_season_mu_interval__': array(-4.7517363),\n",
       " 'smoothing_season_sigma_log__': array(-3.73482495),\n",
       " 'smoothing_season_interval__': array([ -7.57945347, -10.97234161,  -7.41148762,  -9.72505802,\n",
       "         -7.23695756]),\n",
       " 'covid_level_change_interval__': array([-0.52539323,  0.65023814, -2.35252265,  9.37647464, -1.74581271]),\n",
       " 'covid_level_change2_interval__': array([ 1.43552773,  3.69830418, -2.21937312,  2.10831075, -0.00682612]),\n",
       " 'sigma_log__': array([[4.13346032],\n",
       "        [4.44299281],\n",
       "        [3.3477877 ],\n",
       "        [4.13403443],\n",
       "        [3.79704098]]),\n",
       " 'initial_level': array([2.19163992e+03, 4.88262192e-01, 3.53865812e+02, 4.93794374e-01,\n",
       "        5.99955652e+02]),\n",
       " 'smoothing_level_mu': array(0.88823373),\n",
       " 'smoothing_level_sigma': array(0.29707659),\n",
       " 'smoothing_level': array([0.70505495, 0.9970872 , 0.99234543, 0.97608045, 0.99313689]),\n",
       " 'initial_trend': array([-1.59182279, -2.25521617, -0.08933357, -0.43300718,  2.11437537]),\n",
       " 'smoothing_trend_mu': array(0.16803382),\n",
       " 'smoothing_trend_sigma': array(0.45182495),\n",
       " 'smoothing_trend': array([0.00196359, 0.01413447, 0.00057892, 0.48819573, 0.00435588]),\n",
       " 'initial_szns_mus': array([0.963183  , 0.97093597, 0.95936412, 0.97285475, 0.96216191,\n",
       "        0.96958266, 0.97969806, 0.97597995, 1.0651456 , 1.06550056,\n",
       "        1.00841274, 1.04107001, 1.01584256, 0.99813544, 0.98374752,\n",
       "        1.00326426, 1.00571325, 0.98417227, 0.97618169, 0.96662047,\n",
       "        1.00231102, 1.01680663, 0.97695235, 0.881509  , 0.9149302 ,\n",
       "        1.00677271, 1.03834831, 1.06030937, 1.04364306, 1.03768232,\n",
       "        1.09714933, 1.11475413, 1.13863606, 1.11442625, 1.08337316,\n",
       "        1.05621466, 1.07377124, 1.03501604, 1.04497977, 1.03343021,\n",
       "        1.03634005, 1.00983149, 0.98296777, 0.97768673, 0.95665754,\n",
       "        0.9225936 , 0.93159706, 0.95136599, 0.94985239, 0.94018759,\n",
       "        0.91655281, 0.93718186]),\n",
       " 'initial_szns': array([[0.94548939, 0.93265375, 0.94929482, 0.95599277, 0.95224495,\n",
       "         0.97994048, 0.9856583 , 0.98339417, 1.04553821, 1.0500489 ,\n",
       "         0.99674921, 1.00998941, 0.99164279, 1.00029525, 1.01061272,\n",
       "         1.0032243 , 1.01747884, 0.97693644, 0.9722418 , 0.96308733,\n",
       "         1.01068447, 1.03489928, 0.99615932, 0.85642922, 0.91479817,\n",
       "         1.03973384, 1.07475156, 1.06820903, 1.04672898, 1.05123864,\n",
       "         1.06790602, 1.08023517, 1.09820481, 1.11108866, 1.06831414,\n",
       "         1.08822262, 1.06863853, 1.03241041, 1.04096399, 1.02252692,\n",
       "         1.01862648, 1.02039766, 0.99786581, 1.00194737, 0.98766419,\n",
       "         0.95842904, 0.94533711, 0.94174682, 0.94400277, 0.93977916,\n",
       "         0.91816078, 0.92505233],\n",
       "        [0.95565996, 0.98641317, 0.96734223, 0.97359244, 0.95216993,\n",
       "         0.96125311, 1.00546543, 1.00491949, 1.04888783, 1.07090164,\n",
       "         1.00860931, 1.02970699, 1.0144548 , 0.99664767, 1.01546288,\n",
       "         1.00896359, 0.97847194, 0.98466965, 0.99236148, 0.9817127 ,\n",
       "         0.99400049, 1.00167234, 0.99716415, 0.92129738, 0.91517925,\n",
       "         1.00202398, 1.01104666, 1.04259643, 1.03932247, 1.07366471,\n",
       "         1.09457773, 1.11394811, 1.14569732, 1.10334943, 1.05843472,\n",
       "         1.0460057 , 1.08079837, 1.03971496, 1.03810304, 1.03112665,\n",
       "         1.03110165, 1.0162398 , 0.97552975, 0.99038358, 0.98153423,\n",
       "         0.94379567, 0.9423076 , 0.95485545, 0.94414822, 0.92853883,\n",
       "         0.9190445 , 0.94628777],\n",
       "        [0.97279313, 0.99092576, 0.94993178, 0.97119031, 0.9624256 ,\n",
       "         0.95038653, 0.93208327, 0.96445187, 1.09323734, 1.07748169,\n",
       "         1.04270763, 1.06499489, 1.03949531, 0.99595162, 0.93966704,\n",
       "         0.98028921, 1.02706802, 0.99891187, 0.96296615, 0.95700452,\n",
       "         0.99929207, 1.02674395, 0.97058389, 0.81818351, 0.89708633,\n",
       "         0.95996872, 1.04714027, 1.08810482, 1.05587876, 1.07861968,\n",
       "         1.10608339, 1.11856359, 1.14569926, 1.10204563, 1.08272043,\n",
       "         1.03799778, 1.05853586, 1.02635794, 1.05393472, 1.07420816,\n",
       "         1.10646411, 1.02763919, 0.97418321, 0.95053661, 0.92725367,\n",
       "         0.89567067, 0.9139818 , 0.94387759, 0.91939448, 0.91688154,\n",
       "         0.90267433, 0.9303208 ],\n",
       "        [0.95096809, 0.94946076, 0.96994682, 0.98077469, 0.98771251,\n",
       "         0.9932447 , 1.01804151, 1.02499246, 1.03184831, 1.03367233,\n",
       "         1.02404417, 1.03373317, 1.01657687, 1.00647474, 0.99321483,\n",
       "         1.01041408, 1.01218891, 0.97164756, 0.96168064, 0.96735267,\n",
       "         0.99476328, 1.0076915 , 0.92828527, 0.97570624, 0.95019817,\n",
       "         1.0097866 , 1.02416277, 1.06833839, 1.05960454, 0.8598574 ,\n",
       "         1.11867002, 1.13244237, 1.19795246, 1.16627536, 1.12461663,\n",
       "         1.09205747, 1.07918883, 1.04609861, 1.05172907, 1.01696131,\n",
       "         1.00665115, 0.98338156, 0.97797892, 0.96964408, 0.95061846,\n",
       "         0.92988019, 0.94183691, 0.93198763, 0.94282582, 0.95397468,\n",
       "         0.93697397, 0.95386051],\n",
       "        [0.97063394, 1.00368518, 0.96398088, 0.95928242, 0.95427533,\n",
       "         0.95190998, 0.90804451, 0.93529017, 1.13538393, 1.11569682,\n",
       "         1.01171163, 1.0318358 , 1.00678114, 0.99896524, 0.97171999,\n",
       "         1.00902162, 0.99188559, 0.99357456, 0.97275109, 0.96113289,\n",
       "         1.00633832, 1.01757958, 0.99264809, 0.8107382 , 0.88803985,\n",
       "         0.99368131, 1.05768156, 1.05989224, 1.05403728, 1.1013994 ,\n",
       "         1.11188903, 1.10891163, 1.1124208 , 1.10523646, 1.0783408 ,\n",
       "         1.03104532, 1.05321888, 1.0288461 , 1.05525907, 1.06256821,\n",
       "         1.04897547, 1.0227219 , 1.00859476, 0.98784767, 0.93164619,\n",
       "         0.87790224, 0.90377841, 0.94348407, 0.95456586, 0.92601142,\n",
       "         0.90788301, 0.93078202]]),\n",
       " 'smoothing_season_mu': array(0.00856273),\n",
       " 'smoothing_season_sigma': array(0.02387735),\n",
       " 'smoothing_season': array([5.10579509e-04, 1.71697957e-05, 6.03906178e-04, 5.97633608e-05,\n",
       "        7.18980156e-04]),\n",
       " 'covid_level_change': array([1857.95991269, 3285.32062905,  434.32733581, 4999.57656961,\n",
       "         742.88058201]),\n",
       " 'covid_level_change2': array([4038.80569908, 4879.16509188,  490.12108252, 4458.54159671,\n",
       "        2491.46737694]),\n",
       " 'sigma': array([[62.39345091],\n",
       "        [85.02903708],\n",
       "        [28.43974677],\n",
       "        [62.42928238],\n",
       "        [44.56910849]])}"
      ]
     },
     "execution_count": 876,
     "metadata": {},
     "output_type": "execute_result"
    }
   ],
   "source": [
    "map_estimate"
   ]
  },
  {
   "cell_type": "code",
   "execution_count": 704,
   "id": "c0cb8f5f",
   "metadata": {
    "collapsed": true
   },
   "outputs": [
    {
     "data": {
      "text/plain": [
       "{'initial_level_interval__': array([ 6.02394186e+00, -1.32586875e-03,  4.09415161e+00, -1.36125423e-03,\n",
       "         3.53853086e+00]),\n",
       " 'smoothing_level_mu_interval__': array(0.62175207),\n",
       " 'smoothing_level_sigma_log__': array(-0.33640706),\n",
       " 'smoothing_level_interval__': array([ 1.16051532, -1.57655137,  3.60838773, -2.83825938,  3.73226598]),\n",
       " 'initial_trend_interval__': array([ 0.01342271, -2.05996846,  0.0153207 , -0.73913946,  0.01970761]),\n",
       " 'smoothing_trend_mu_interval__': array(-0.43695638),\n",
       " 'smoothing_trend_sigma_log__': array(-0.14138844),\n",
       " 'smoothing_trend_interval__': array([-4.54959019,  5.95481702, -5.116007  ,  3.09449327, -4.74005076]),\n",
       " 'initial_szns_mus': array([0.95126288, 0.95586816, 0.93658745, 0.93944655, 0.92943247,\n",
       "        0.9283902 , 0.91306379, 0.9330153 , 1.0399266 , 1.0352292 ,\n",
       "        0.98432943, 0.99988217, 0.97975755, 0.97284144, 0.95674573,\n",
       "        0.97825453, 0.99347264, 0.97454775, 0.96502248, 0.96608104,\n",
       "        1.00966426, 1.02930512, 0.98899693, 0.86075534, 0.91585359,\n",
       "        0.99698962, 1.04065612, 1.04394266, 1.01373168, 1.02720812,\n",
       "        1.03224257, 1.03365129, 0.83625119, 1.00764628, 0.99565831,\n",
       "        0.99055785, 1.01632946, 1.01101742, 1.04819769, 1.06091749,\n",
       "        1.07119569, 1.02232204, 0.99974196, 0.98985506, 0.95342341,\n",
       "        0.91582644, 0.92421623, 0.93819702, 0.93792543, 0.93077706,\n",
       "        0.91137636, 0.92534786]),\n",
       " 'initial_szns': array([[0.94723696, 0.92639193, 0.93851058, 0.94078388, 0.93194852,\n",
       "         0.95647125, 0.95934397, 0.95691182, 1.02131562, 1.02766997,\n",
       "         0.9768981 , 0.99039355, 0.9709954 , 0.98025726, 0.99193387,\n",
       "         0.98588602, 1.00352693, 0.96438763, 0.96414715, 0.9543869 ,\n",
       "         1.00228351, 1.02438854, 0.98284581, 0.83886462, 0.89429773,\n",
       "         1.01423615, 1.04479006, 1.0335932 , 1.00564186, 1.00281955,\n",
       "         1.01086571, 1.01640921, 1.01792142, 1.03672272, 1.00304479,\n",
       "         1.03006862, 1.02119145, 0.99565786, 1.01146871, 1.00101448,\n",
       "         1.00221746, 1.00815823, 0.98809816, 0.99397435, 0.97854811,\n",
       "         0.95045898, 0.93937218, 0.93835503, 0.94223172, 0.93821285,\n",
       "         0.91728341, 0.92664598],\n",
       "        [0.94372329, 0.95117214, 0.93239329, 0.93601198, 0.92677498,\n",
       "         0.927192  , 0.91415766, 0.93535762, 1.04172963, 1.03756488,\n",
       "         0.98689117, 1.00230118, 0.98185952, 0.97326886, 0.95594767,\n",
       "         0.97503062, 0.98814775, 0.96784091, 0.95739599, 0.95850741,\n",
       "         1.0039188 , 1.02754241, 0.99260546, 0.87327869, 0.92952662,\n",
       "         1.01079872, 1.05288023, 1.05503358, 1.02137011, 1.02814722,\n",
       "         1.02294722, 1.01174827, 0.22862435, 0.94375789, 0.9240673 ,\n",
       "         0.93307364, 0.99315362, 1.02896846, 1.10675779, 1.15252838,\n",
       "         1.17549373, 1.04073812, 1.0188449 , 1.01856397, 0.95365896,\n",
       "         0.90833256, 0.92220545, 0.94099886, 0.94477136, 0.93794863,\n",
       "         0.91532326, 0.92239255],\n",
       "        [0.96655251, 0.97239785, 0.92773412, 0.94148522, 0.92669411,\n",
       "         0.90993666, 0.89234333, 0.92502742, 1.04769621, 1.03896162,\n",
       "         1.00958415, 1.02548142, 0.99872199, 0.965645  , 0.92112029,\n",
       "         0.95802473, 1.00619952, 0.98248563, 0.96121664, 0.97036616,\n",
       "         1.01503425, 1.0416617 , 0.98369607, 0.83033286, 0.90665923,\n",
       "         0.96301217, 1.04030644, 1.07255468, 1.02598098, 1.03203149,\n",
       "         1.03655381, 1.02462175, 1.00948899, 0.98575458, 0.98233899,\n",
       "         0.95847573, 0.99853415, 0.98720687, 1.0307986 , 1.06405064,\n",
       "         1.1074447 , 1.0379854 , 0.98859636, 0.96595385, 0.93996831,\n",
       "         0.90094275, 0.91317445, 0.94064226, 0.91844205, 0.91761354,\n",
       "         0.90193408, 0.92268402],\n",
       "        [0.92714166, 0.93872824, 0.928626  , 0.930762  , 0.92328625,\n",
       "         0.92382628, 0.91765691, 0.93209373, 1.00931494, 1.0069983 ,\n",
       "         0.97022464, 0.98807431, 0.97336539, 0.96923266, 0.9570093 ,\n",
       "         0.97912424, 0.99266853, 0.96964769, 0.96223858, 0.96820685,\n",
       "         1.00945158, 1.02943256, 0.97909202, 0.90760512, 0.93279683,\n",
       "         0.99717664, 1.01848875, 1.02502772, 0.99450543, 1.02409099,\n",
       "         1.0551664 , 1.10331187, 0.89507196, 1.0769554 , 1.0805506 ,\n",
       "         1.0729741 , 1.08077716, 1.05850947, 1.0698282 , 1.04416377,\n",
       "         1.03429917, 0.99843726, 0.98387854, 0.97122183, 0.94367093,\n",
       "         0.91503916, 0.9217748 , 0.91525578, 0.91875516, 0.9221842 ,\n",
       "         0.90225134, 0.91534441],\n",
       "        [0.95588266, 0.97698956, 0.93830443, 0.93266461, 0.91966993,\n",
       "         0.90478682, 0.86130999, 0.90110155, 1.09040156, 1.07463066,\n",
       "         0.97565726, 0.99428904, 0.97001077, 0.96779157, 0.94528996,\n",
       "         0.98601319, 0.97465191, 0.98455305, 0.97383414, 0.97214163,\n",
       "         1.02173713, 1.03217623, 1.00552644, 0.81873999, 0.89384209,\n",
       "         0.99492098, 1.05246084, 1.04255014, 1.02603954, 1.05851346,\n",
       "         1.04566066, 1.02015956, 0.99053111, 0.99720568, 0.98669352,\n",
       "         0.95678648, 0.99352161, 0.98930472, 1.03470728, 1.05606774,\n",
       "         1.05231521, 1.03090486, 1.01964731, 0.99929815, 0.94133363,\n",
       "         0.88421187, 0.90437317, 0.93980001, 0.95048674, 0.92139085,\n",
       "         0.89943151, 0.9181364 ]]),\n",
       " 'smoothing_season_mu_interval__': array(-5.48902757),\n",
       " 'smoothing_season_sigma_log__': array(-3.48859714),\n",
       " 'smoothing_season_interval__': array([-6.48410332, -2.49204787, -6.21997704, -4.29739125, -6.14317165]),\n",
       " 'covid_level_change_interval__': array([-0.3525376 ,  0.84968651, -2.10799362,  6.40904626, -1.56161853]),\n",
       " 'covid_level_change2_interval__': array([ 1.92624392,  4.73893631,  0.74927328,  5.4154815 , -0.0674924 ]),\n",
       " 'sigma_log__': array([[4.14672249],\n",
       "        [7.1656711 ],\n",
       "        [3.33065619],\n",
       "        [5.75036099],\n",
       "        [3.78949725]]),\n",
       " 'initial_level': array([2.19033184e+03, 4.99668533e-01, 3.55639908e+02, 4.99659686e-01,\n",
       "        6.07618471e+02]),\n",
       " 'smoothing_level_mu': array(0.65061692),\n",
       " 'smoothing_level_sigma': array(0.71433227),\n",
       " 'smoothing_level': array([0.76142634, 0.17128445, 0.9736193 , 0.05529139, 0.97662113]),\n",
       " 'initial_trend': array([   2.01337556, -232.17060468,    2.29806066, -106.08459044,\n",
       "           2.9560464 ]),\n",
       " 'smoothing_trend_mu': array(0.39246644),\n",
       " 'smoothing_trend_sigma': array(0.86815202),\n",
       " 'smoothing_trend': array([0.01046095, 0.99741339, 0.00596415, 0.95666503, 0.00866251]),\n",
       " 'smoothing_season_mu': array(0.00411486),\n",
       " 'smoothing_season_sigma': array(0.03054369),\n",
       " 'smoothing_season': array([0.0015252 , 0.07641754, 0.00198534, 0.01342142, 0.0021435 ]),\n",
       " 'covid_level_change': array([2063.83597127, 3502.50688096,  541.61153824, 4991.78056318,\n",
       "         867.07260749]),\n",
       " 'covid_level_change2': array([4364.16547612, 4956.63958307, 3395.10165285, 4977.86247011,\n",
       "        2415.66651089]),\n",
       " 'sigma': array([[  63.22643498],\n",
       "        [1294.22986866],\n",
       "        [  27.95668049],\n",
       "        [ 314.30409927],\n",
       "        [  44.23415576]])}"
      ]
     },
     "execution_count": 704,
     "metadata": {},
     "output_type": "execute_result"
    }
   ],
   "source": [
    "map_estimate"
   ]
  },
  {
   "cell_type": "code",
   "execution_count": null,
   "id": "d153d65b",
   "metadata": {},
   "outputs": [],
   "source": [
    "# from a quick glance:\n",
    "    # [/] maybe allowing sigma to be too big (ie 1808 for one of these zones)\n",
    "    # maybe allowing to much deviation from initial_szns_mus at zone-level (ie some of the szn estimates are wildly far from 1)\n",
    "    # maybe should allow initial_szns_mus to vary more (they are all close to 1)\n",
    "        # maybe this is what happens w/ so many zones, if there aren't enough consistent patterns across all zones\n",
    "        # embedding-based approach would address this.. sigh\n",
    "        \n",
    "# maybe it gets stuck in some bad parts of solution space, given this is very non-linear\n",
    "# maybe we should also impose upper and lower for the szn estimates [0.8,1.2]\n",
    "\n",
    "# can see how in-sample vs oos is. if overfitting, can regularize more towards nat'l patterns (reduce sigmas)"
   ]
  },
  {
   "cell_type": "code",
   "execution_count": 537,
   "id": "f328d0c1",
   "metadata": {},
   "outputs": [
    {
     "data": {
      "text/plain": [
       "{'initial_level_interval__': array([-1.19653011, -2.57818543]),\n",
       " 'smoothing_level_mu_interval__': array(0.1446876),\n",
       " 'smoothing_level_sigma_log__': array(-1.42126599),\n",
       " 'smoothing_level_interval__': array([ 0.91449014, -0.22673056]),\n",
       " 'initial_trend_interval__': array([-0.00064844, -0.09167513]),\n",
       " 'smoothing_trend_mu_interval__': array(-0.38171296),\n",
       " 'smoothing_trend_sigma_log__': array(-0.8213002),\n",
       " 'smoothing_trend_interval__': array([-5.49871439, -0.41288752]),\n",
       " 'initial_szns_mus': array([0.99057246, 0.99494886, 1.00087926, 1.01719897, 0.97747316,\n",
       "        0.9971368 , 0.99410079, 0.99838702, 1.00877088, 1.01128207,\n",
       "        1.00755132, 1.00721264, 1.00285175, 1.0003327 , 0.99762605,\n",
       "        0.9990049 , 1.00234708, 0.99928614, 0.99851664, 0.99841687,\n",
       "        1.00273971, 1.00551988, 0.99993349, 0.9812178 , 0.99002783,\n",
       "        0.99960781, 1.00561201, 1.00656411, 1.00223114, 1.00230703,\n",
       "        1.00289446, 1.0019637 , 1.00412418, 1.00368673, 1.00112224,\n",
       "        1.00111544, 1.00302681, 1.00071136, 1.00411931, 1.00531719,\n",
       "        1.00803962, 1.00421564, 1.00007204, 0.99923748, 0.99701448,\n",
       "        0.99277682, 0.99225409, 0.99337829, 0.99177576, 0.99145576,\n",
       "        0.98952168, 0.9907709 ]),\n",
       " 'initial_szns': array([[0.92967459, 0.91300651, 0.93223872, 0.94086232, 0.93805523,\n",
       "         0.9693237 , 0.97747669, 0.97548202, 1.03871522, 1.04512459,\n",
       "         0.99446034, 1.00951933, 0.9917057 , 1.00451458, 1.01977978,\n",
       "         1.01264228, 1.02971178, 0.98741527, 0.98607927, 0.97492941,\n",
       "         1.02508426, 1.04936494, 1.00675253, 0.85757016, 0.91460338,\n",
       "         1.04006836, 1.07235824, 1.0634856 , 1.03922565, 1.04011267,\n",
       "         1.05283597, 1.06374602, 1.08015552, 1.09390358, 1.05154066,\n",
       "         1.07450845, 1.05877061, 1.02545421, 1.03557953, 1.01944164,\n",
       "         1.01670899, 1.02242699, 1.00137723, 1.00511389, 0.98992652,\n",
       "         0.95956516, 0.94649891, 0.94129711, 0.94250142, 0.93531877,\n",
       "         0.91056511, 0.91541153],\n",
       "        [0.91691001, 1.01302423, 1.06624533, 1.33407443, 0.57458412,\n",
       "         0.97360896, 0.95518172, 1.01003233, 1.14310455, 1.13925162,\n",
       "         1.10437869, 1.10380726, 1.05617453, 1.00164802, 0.94553775,\n",
       "         0.98174829, 1.02170017, 0.99946179, 0.97979463, 0.98845802,\n",
       "         1.02552226, 1.0485179 , 0.97847352, 0.82211874, 0.88724296,\n",
       "         0.94143408, 1.02107726, 1.05282407, 1.00560119, 1.00382512,\n",
       "         1.00129027, 0.9899706 , 0.99971572, 0.97535331, 0.96768993,\n",
       "         0.94348842, 0.98566676, 0.98162322, 1.03498846, 1.07847002,\n",
       "         1.13187335, 1.06463761, 1.01080649, 0.98490299, 0.95525797,\n",
       "         0.91169967, 0.9206393 , 0.94208316, 0.91283099, 0.90838178,\n",
       "         0.89066777, 0.9094832 ]]),\n",
       " 'smoothing_season_mu_interval__': array(-1.48876309),\n",
       " 'smoothing_season_sigma_log__': array(-1.16643472),\n",
       " 'smoothing_season_interval__': array([-6.61800287, -9.06899042]),\n",
       " 'covid_level_change_interval__': array([-0.49553827, -2.11246828]),\n",
       " 'covid_level_change2_interval__': array([ 0.10370204, -1.82692681]),\n",
       " 'sigma_log__': array([[4.1227833 ],\n",
       "        [4.09968203]]),\n",
       " 'initial_level': array([2320.93065277,  705.55633318]),\n",
       " 'smoothing_level_mu': array(0.53610893),\n",
       " 'smoothing_level_sigma': array(0.2414082),\n",
       " 'smoothing_level': array([0.7139181 , 0.44355894]),\n",
       " 'initial_trend': array([  -1.62109207, -229.02745274]),\n",
       " 'smoothing_trend_mu': array(0.40571382),\n",
       " 'smoothing_trend_sigma': array(0.43985938),\n",
       " 'smoothing_trend': array([0.00407535, 0.39821995]),\n",
       " 'smoothing_season_mu': array(0.18410745),\n",
       " 'smoothing_season_sigma': array(0.31147546),\n",
       " 'smoothing_season': array([0.00133431, 0.00011517]),\n",
       " 'covid_level_change': array([1892.94881784,  539.45432072]),\n",
       " 'covid_level_change2': array([2629.51150307,  693.02392559]),\n",
       " 'sigma': array([[61.73081858],\n",
       "        [60.32110419]])}"
      ]
     },
     "execution_count": 537,
     "metadata": {},
     "output_type": "execute_result"
    }
   ],
   "source": [
    "map_estimate"
   ]
  },
  {
   "cell_type": "code",
   "execution_count": null,
   "id": "ff14c8d4",
   "metadata": {},
   "outputs": [],
   "source": [
    "# [X] look at in-sample fits for both :D\n",
    "\n",
    "# [X] maybe make it s.t. only the seasons are hierarchical, see if we get better fit, then work back towards more shared params from there\n",
    "    # [/] or increase sigmas to allow more variation\n",
    "    \n",
    "# [/] can try just with one zone if ^ doesn't work\n",
    "\n",
    "# [X] any dumb lil bugs? wrong var being used, wrong shifting with the ys[1:] stuff, etc. YES!\n",
    "\n",
    "# [] diff initial levels\n",
    "    # [-] and maybe cut out first couple weeks\n",
    "    \n",
    "# [] can we impose some smoothness on the initial seasons?\n",
    "    # basically want to impose correlation b/w adjacent seasons\n",
    "# [] backtest with more zones\n",
    "    # pretty slow with more zones\n",
    "    # can we speed it up by using diff initial levels?\n",
    "    # what if we have more or less variance allowed? less variance = less to explore i guess?\n",
    "\n",
    "    # may need to restrict things more based on the values we're seeing\n",
    "    # also try with smaller set of zones to simplify/help debug\n",
    "    # [] introduce some zones with many 0's to see how that's handled\n",
    "    \n",
    "    # wonder if embedding-based approach would help... seems this should be a good step first though\n",
    "    \n",
    "# [] compare in and out of sample fits for these zones with zone-specific method\n",
    "\n",
    "# [X] diff sigmas\n",
    "# [/] maybe a prior for szns sigma (0.2 is big. can try making it smaller, or a prior)"
   ]
  },
  {
   "cell_type": "code",
   "execution_count": 913,
   "id": "5ea4143d",
   "metadata": {},
   "outputs": [
    {
     "name": "stderr",
     "output_type": "stream",
     "text": [
      "WARNING (theano.scan.basic): Output None (index 0) has a initial state but taps is explicitly set to None \n",
      "WARNING (theano.scan.basic): Output None (index 1) has a initial state but taps is explicitly set to None \n"
     ]
    }
   ],
   "source": [
    "# szn_smoother = tt.as_tensor_variable(map_estimate['smoothing_season'])\n",
    "\n",
    "\n",
    "def hw_component_wise_wrapper_final(szn_smoother, level_smoother, trend_smoother, covid_level_change, covid_level_change2):\n",
    "        def hw_component_wise_final(y, covid_start, data_start, prior_level, prior_trend, szn_m52):\n",
    "            updated_szn = data_start*(szn_smoother * y / (prior_level + prior_trend) + (1 - szn_smoother) * szn_m52) + (1 - data_start)*(szn_m52)\n",
    "\n",
    "\n",
    "            next_level = data_start*(level_smoother * (y/szn_m52) + (1 - level_smoother)*(prior_level + prior_trend) + covid_start*covid_level_change) + (1 - data_start)*(prior_level)\n",
    "            \n",
    "            next_trend = data_start*(trend_smoother * (next_level - prior_level) + (1 - trend_smoother)*prior_trend - covid_start*trend_smoother*covid_level_change2) + (1 - data_start)*(prior_trend)\n",
    "\n",
    "\n",
    "            return next_level, next_trend, updated_szn\n",
    "        return hw_component_wise_final\n",
    "    \n",
    "def inner_scan_for_zone_final(szn_smoother, level_smoother, trend_smoother, covid_level_change, covid_level_change2, ys, is_covid_start, data_start, estimated_initial_level, estimated_initial_trend, estimated_initial_szns):\n",
    "#     import pdb; pdb.set_trace()\n",
    "    outputs, updates = theano.scan(hw_component_wise_wrapper_final(szn_smoother, level_smoother, trend_smoother, covid_level_change, covid_level_change2),\n",
    "                                  sequences=[\n",
    "                                      ys[1:], # this [1:] is done assuming we padded and shifted y_obs\n",
    "                                      is_covid_start[1:],\n",
    "                                      data_start[1:]\n",
    "                                  ],\n",
    "                                  outputs_info=[\n",
    "#                                       dict(initial = map_estimate['initial_level'][z_idx], taps=None),\n",
    "                                      dict(initial = estimated_initial_level, taps=None),\n",
    "                                      \n",
    "                                      dict(initial = estimated_initial_trend, taps=None),\n",
    "#                                       dict(initial = map_estimate['initial_trend'][z_idx], taps=None),\n",
    "                                      \n",
    "                                      dict(initial = estimated_initial_szns, taps=[-szn_len])\n",
    "                                  ])\n",
    "    return outputs\n",
    "\n",
    "outputs, updates = theano.scan(inner_scan_for_zone_final,\n",
    "           sequences=[\n",
    "               tt.as_tensor_variable(map_estimate['smoothing_season']),\n",
    "               tt.as_tensor_variable(map_estimate['smoothing_level']),\n",
    "               tt.as_tensor_variable(map_estimate['smoothing_trend']),\n",
    "               tt.as_tensor_variable(map_estimate['covid_level_change']),\n",
    "               tt.as_tensor_variable(map_estimate['covid_level_change2']),\n",
    "#                tt.as_index_constant(np.unique(zone_idx)),\n",
    "#                tt.as_tensor_variable(np.unique(zone_idx)),\n",
    "#                tt.cast(np.unique(zone_idx), 'int64'),\n",
    "#                np.unique(zone_idx),\n",
    "               tt.as_tensor_variable(ys_list),\n",
    "#                np.array(ys_list),\n",
    "               tt.as_tensor_variable(is_covid_start_list),\n",
    "               tt.as_tensor_variable(data_start_list),\n",
    "#                np.array(is_covid_start_list),\n",
    "#                np.array(first_t_list)\n",
    "               tt.as_tensor_variable(map_estimate['initial_level']),\n",
    "               tt.as_tensor_variable(map_estimate['initial_trend']),\n",
    "               tt.as_tensor_variable(map_estimate['initial_szns']),\n",
    "               \n",
    "           ])\n",
    "\n",
    "levels = outputs[0]\n",
    "trends = outputs[1]\n",
    "seasons = outputs[2]\n",
    "\n",
    "levels_f = pm.math.concatenate([map_estimate['initial_level'].reshape((d2.zone_id.nunique(),1)), levels[:,:-1]], axis=1)\n",
    "trends_f = pm.math.concatenate([map_estimate['initial_trend'].reshape((d2.zone_id.nunique(),1)), trends[:,:-1]], axis=1)\n",
    "seasons_f = pm.math.concatenate([map_estimate['initial_szns'], seasons[:,:-szn_len]], axis=1)\n",
    "\n",
    "levels_and_trends = pm.math.stack([levels_f, trends_f], axis=1)\n",
    "level_plus_trend = levels_and_trends.sum(axis=1)\n",
    "\n",
    "level_plus_trend_and_seasons = pm.math.stack([level_plus_trend, seasons_f], axis=1)\n",
    "y_hats = level_plus_trend_and_seasons.prod(axis=1)\n",
    "\n",
    "y_hats_and_data_start = pm.math.stack([y_hats, np.array(data_start_list)[:, 1:]], axis=1)\n",
    "y_hats_final = y_hats_and_data_start.prod(axis=1)\n",
    "\n",
    "# sig = pm.HalfCauchy('sigma', beta=10)\n",
    "# y_like = pm.Normal('y_like', mu=y_hats, sigma=sig, observed=np.array(y_obs_lagm1_list)[:,:-1])"
   ]
  },
  {
   "cell_type": "code",
   "execution_count": null,
   "id": "3905bb4e",
   "metadata": {},
   "outputs": [],
   "source": [
    "# what if we remove the 0 demand days? or has to be all equal length?"
   ]
  },
  {
   "cell_type": "code",
   "execution_count": 914,
   "id": "2e9ce940",
   "metadata": {},
   "outputs": [
    {
     "data": {
      "text/html": [
       "<div>\n",
       "<style scoped>\n",
       "    .dataframe tbody tr th:only-of-type {\n",
       "        vertical-align: middle;\n",
       "    }\n",
       "\n",
       "    .dataframe tbody tr th {\n",
       "        vertical-align: top;\n",
       "    }\n",
       "\n",
       "    .dataframe thead th {\n",
       "        text-align: right;\n",
       "    }\n",
       "</style>\n",
       "<table border=\"1\" class=\"dataframe\">\n",
       "  <thead>\n",
       "    <tr style=\"text-align: right;\">\n",
       "      <th></th>\n",
       "      <th>zone_id</th>\n",
       "      <th>zone_idx</th>\n",
       "    </tr>\n",
       "    <tr>\n",
       "      <th>date_idx</th>\n",
       "      <th></th>\n",
       "      <th></th>\n",
       "    </tr>\n",
       "  </thead>\n",
       "  <tbody>\n",
       "    <tr>\n",
       "      <th>2017-07-10</th>\n",
       "      <td>1</td>\n",
       "      <td>0</td>\n",
       "    </tr>\n",
       "    <tr>\n",
       "      <th>2017-07-10</th>\n",
       "      <td>975</td>\n",
       "      <td>1</td>\n",
       "    </tr>\n",
       "    <tr>\n",
       "      <th>2017-07-10</th>\n",
       "      <td>13</td>\n",
       "      <td>2</td>\n",
       "    </tr>\n",
       "    <tr>\n",
       "      <th>2017-07-10</th>\n",
       "      <td>785</td>\n",
       "      <td>3</td>\n",
       "    </tr>\n",
       "    <tr>\n",
       "      <th>2017-07-10</th>\n",
       "      <td>18</td>\n",
       "      <td>4</td>\n",
       "    </tr>\n",
       "  </tbody>\n",
       "</table>\n",
       "</div>"
      ],
      "text/plain": [
       "            zone_id  zone_idx\n",
       "date_idx                     \n",
       "2017-07-10        1         0\n",
       "2017-07-10      975         1\n",
       "2017-07-10       13         2\n",
       "2017-07-10      785         3\n",
       "2017-07-10       18         4"
      ]
     },
     "execution_count": 914,
     "metadata": {},
     "output_type": "execute_result"
    }
   ],
   "source": [
    "d2[['zone_id', 'zone_idx']].drop_duplicates().head(10)"
   ]
  },
  {
   "cell_type": "code",
   "execution_count": null,
   "id": "30774e04",
   "metadata": {},
   "outputs": [],
   "source": [
    "# first days until data start are gonna be all fk'ed now\n",
    "# prolly want to 0 out these y_hats"
   ]
  },
  {
   "cell_type": "code",
   "execution_count": 956,
   "id": "7bae1cc1",
   "metadata": {},
   "outputs": [
    {
     "data": {
      "text/plain": [
       "[<matplotlib.lines.Line2D at 0x1b83152e0>]"
      ]
     },
     "execution_count": 956,
     "metadata": {},
     "output_type": "execute_result"
    },
    {
     "data": {
      "image/png": "[encoded data removed]",
      "text/plain": [
       "<Figure size 432x288 with 1 Axes>"
      ]
     },
     "metadata": {},
     "output_type": "display_data"
    }
   ],
   "source": [
    "# d2.iloc[1:].reset_index().y_obs.plot()\n",
    "test_z_idx = np.unique(zone_idx)[0]\n",
    "\n",
    "d2.loc[d2.zone_idx == test_z_idx].reset_index().y_obs.plot()\n",
    "# plt.plot(y_hats.get_test_value()[test_z_idx])\n",
    "plt.plot(y_hats_final.get_test_value()[test_z_idx])\n"
   ]
  },
  {
   "cell_type": "code",
   "execution_count": 957,
   "id": "c4f92fe5",
   "metadata": {},
   "outputs": [
    {
     "data": {
      "text/plain": [
       "[<matplotlib.lines.Line2D at 0x1b8301f10>]"
      ]
     },
     "execution_count": 957,
     "metadata": {},
     "output_type": "execute_result"
    },
    {
     "data": {
      "image/png": "[encoded data removed]",
      "text/plain": [
       "<Figure size 432x288 with 1 Axes>"
      ]
     },
     "metadata": {},
     "output_type": "display_data"
    }
   ],
   "source": [
    "plt.plot(levels_f.get_test_value()[test_z_idx])"
   ]
  },
  {
   "cell_type": "code",
   "execution_count": 958,
   "id": "b3f15ebd",
   "metadata": {},
   "outputs": [
    {
     "data": {
      "text/plain": [
       "[<matplotlib.lines.Line2D at 0x1b83e6730>]"
      ]
     },
     "execution_count": 958,
     "metadata": {},
     "output_type": "execute_result"
    },
    {
     "data": {
      "image/png": "[encoded data removed]",
      "text/plain": [
       "<Figure size 432x288 with 1 Axes>"
      ]
     },
     "metadata": {},
     "output_type": "display_data"
    }
   ],
   "source": [
    "plt.plot(trends_f.get_test_value()[test_z_idx])"
   ]
  },
  {
   "cell_type": "code",
   "execution_count": 959,
   "id": "38b5eccd",
   "metadata": {},
   "outputs": [
    {
     "data": {
      "text/plain": [
       "[<matplotlib.lines.Line2D at 0x1b8617940>]"
      ]
     },
     "execution_count": 959,
     "metadata": {},
     "output_type": "execute_result"
    },
    {
     "data": {
      "image/png": "[encoded data removed]",
      "text/plain": [
       "<Figure size 432x288 with 1 Axes>"
      ]
     },
     "metadata": {},
     "output_type": "display_data"
    }
   ],
   "source": [
    "plt.plot(seasons_f.get_test_value()[test_z_idx])"
   ]
  },
  {
   "cell_type": "code",
   "execution_count": 929,
   "id": "5c413a72",
   "metadata": {},
   "outputs": [
    {
     "data": {
      "text/plain": [
       "(-3000.0, 10000.0)"
      ]
     },
     "execution_count": 929,
     "metadata": {},
     "output_type": "execute_result"
    },
    {
     "data": {
      "image/png": "[encoded data removed]",
      "text/plain": [
       "<Figure size 432x288 with 1 Axes>"
      ]
     },
     "metadata": {},
     "output_type": "display_data"
    }
   ],
   "source": [
    "# d2.iloc[1:].reset_index().y_obs.plot()\n",
    "test_z_idx = np.unique(zone_idx)[1]\n",
    "\n",
    "d2.loc[d2.zone_idx == test_z_idx].reset_index().y_obs.plot()\n",
    "ax = plt.plot(y_hats_final.get_test_value()[test_z_idx])[0]\n",
    "ax.axes.set_ylim(-3000,10000)"
   ]
  },
  {
   "cell_type": "code",
   "execution_count": 930,
   "id": "ad532c71",
   "metadata": {},
   "outputs": [
    {
     "data": {
      "image/png": "[encoded data removed]",
      "text/plain": [
       "<Figure size 432x288 with 1 Axes>"
      ]
     },
     "metadata": {},
     "output_type": "display_data"
    }
   ],
   "source": [
    "# d2.iloc[1:].reset_index().y_obs.plot()\n",
    "test_z_idx = np.unique(zone_idx)[2]\n",
    "\n",
    "d2.loc[d2.zone_idx == test_z_idx].reset_index().y_obs.plot()\n",
    "ax = plt.plot(y_hats_final.get_test_value()[test_z_idx])[0]\n",
    "# ax.axes.set_ylim(-3000,10000)"
   ]
  },
  {
   "cell_type": "code",
   "execution_count": 933,
   "id": "5c7300b4",
   "metadata": {},
   "outputs": [
    {
     "data": {
      "image/png": "[encoded data removed]",
      "text/plain": [
       "<Figure size 432x288 with 1 Axes>"
      ]
     },
     "metadata": {},
     "output_type": "display_data"
    }
   ],
   "source": [
    "# d2.iloc[1:].reset_index().y_obs.plot()\n",
    "test_z_idx = np.unique(zone_idx)[3]\n",
    "\n",
    "d2.loc[d2.zone_idx == test_z_idx].reset_index().y_obs.plot()\n",
    "# ax = plt.plot(y_hats.get_test_value()[test_z_idx])[0]\n",
    "ax = plt.plot(y_hats_final.get_test_value()[test_z_idx])[0]\n",
    "# ax.axes.set_ylim(-3000,10000)"
   ]
  },
  {
   "cell_type": "code",
   "execution_count": 934,
   "id": "67dd076d",
   "metadata": {},
   "outputs": [
    {
     "data": {
      "text/plain": [
       "[<matplotlib.lines.Line2D at 0x1b7d76b80>]"
      ]
     },
     "execution_count": 934,
     "metadata": {},
     "output_type": "execute_result"
    },
    {
     "data": {
      "image/png": "[encoded data removed]",
      "text/plain": [
       "<Figure size 432x288 with 1 Axes>"
      ]
     },
     "metadata": {},
     "output_type": "display_data"
    }
   ],
   "source": [
    "plt.plot(levels_f.get_test_value()[test_z_idx])"
   ]
  },
  {
   "cell_type": "code",
   "execution_count": 935,
   "id": "1ea0ccff",
   "metadata": {},
   "outputs": [
    {
     "data": {
      "text/plain": [
       "[<matplotlib.lines.Line2D at 0x1b7cad6a0>]"
      ]
     },
     "execution_count": 935,
     "metadata": {},
     "output_type": "execute_result"
    },
    {
     "data": {
      "image/png": "[encoded data removed]",
      "text/plain": [
       "<Figure size 432x288 with 1 Axes>"
      ]
     },
     "metadata": {},
     "output_type": "display_data"
    }
   ],
   "source": [
    "plt.plot(trends_f.get_test_value()[test_z_idx])"
   ]
  },
  {
   "cell_type": "code",
   "execution_count": 927,
   "id": "9fe07abd",
   "metadata": {},
   "outputs": [
    {
     "data": {
      "text/plain": [
       "[<matplotlib.lines.Line2D at 0x1b7f68250>]"
      ]
     },
     "execution_count": 927,
     "metadata": {},
     "output_type": "execute_result"
    },
    {
     "data": {
      "image/png": "[encoded data removed]",
      "text/plain": [
       "<Figure size 432x288 with 1 Axes>"
      ]
     },
     "metadata": {},
     "output_type": "display_data"
    }
   ],
   "source": [
    "plt.plot(seasons_f.get_test_value()[test_z_idx])"
   ]
  },
  {
   "cell_type": "code",
   "execution_count": 921,
   "id": "8b32612c",
   "metadata": {},
   "outputs": [
    {
     "data": {
      "image/png": "[encoded data removed]",
      "text/plain": [
       "<Figure size 432x288 with 1 Axes>"
      ]
     },
     "metadata": {},
     "output_type": "display_data"
    }
   ],
   "source": [
    "# d2.iloc[1:].reset_index().y_obs.plot()\n",
    "test_z_idx = np.unique(zone_idx)[4]\n",
    "\n",
    "d2.loc[d2.zone_idx == test_z_idx].reset_index().y_obs.plot()\n",
    "ax = plt.plot(y_hats.get_test_value()[test_z_idx])[0]\n",
    "# ax.axes.set_ylim(-3000,10000)"
   ]
  },
  {
   "cell_type": "code",
   "execution_count": null,
   "id": "36b985c3",
   "metadata": {},
   "outputs": [],
   "source": [
    "# initial_level is being made to be small so huge loss isnt incurred in early days\n",
    "# then to avoid big loss later, smoothing_level of .99 is used\n",
    "\n",
    "# [] fix this by multiplying y_hats by data_start\n",
    "# [] see if skipping first 2 or 3 weeks w/ demand helps (things level off a lot after that, so model may rightly learn a smaller smoothing_level)\n",
    "# [] maybe do the multivariate normal for szn estimates\n",
    "# [] maybe enforce more regularization\n",
    "# [] run for more zones\n",
    "\n",
    "# the seasons be lookin' reasonable though ngl"
   ]
  },
  {
   "cell_type": "code",
   "execution_count": 889,
   "id": "d58ab363",
   "metadata": {
    "collapsed": true
   },
   "outputs": [
    {
     "data": {
      "text/plain": [
       "[nan,\n",
       " 0.0,\n",
       " 0.0,\n",
       " 0.0,\n",
       " 0.0,\n",
       " 0.0,\n",
       " 0.0,\n",
       " 0.0,\n",
       " 0.0,\n",
       " 0.0,\n",
       " 0.0,\n",
       " 0.0,\n",
       " 0.0,\n",
       " 0.0,\n",
       " 0.0,\n",
       " 0.0,\n",
       " 0.0,\n",
       " 0.0,\n",
       " 0.0,\n",
       " 0.0,\n",
       " 0.0,\n",
       " 0.0,\n",
       " 0.0,\n",
       " 0.0,\n",
       " 0.0,\n",
       " 0.0,\n",
       " 0.0,\n",
       " 0.0,\n",
       " 0.0,\n",
       " 0.0,\n",
       " 244.83254106842853,\n",
       " 761.9877162849999,\n",
       " 1003.0572595047144,\n",
       " 1230.489873763357,\n",
       " 1284.787399542143,\n",
       " 1303.9560250612856,\n",
       " 1375.131863905,\n",
       " 1406.8481737191428,\n",
       " 1398.5931494735,\n",
       " 1425.780543082143,\n",
       " 1439.3260416942855,\n",
       " 1534.4057667695718,\n",
       " 1498.9268912747143,\n",
       " 1599.3674222347142,\n",
       " 1579.7221796182855,\n",
       " 1581.5531059264997,\n",
       " 1607.073252246857,\n",
       " 1620.4830117685715,\n",
       " 1591.417306859286,\n",
       " 1612.896261591357,\n",
       " 1624.2647254829285,\n",
       " 1643.3992099208572,\n",
       " 1680.865984432143,\n",
       " 1706.6844540135714,\n",
       " 1704.8790716962856,\n",
       " 1736.813290223286,\n",
       " 1767.8395689494284,\n",
       " 1828.9899698808567,\n",
       " 1795.2234793317143,\n",
       " 1834.419288618286,\n",
       " 1836.244574361857,\n",
       " 1859.3367129785,\n",
       " 1890.724786720143,\n",
       " 1845.2410018074288,\n",
       " 1963.3053825197144,\n",
       " 1934.218999910286,\n",
       " 1940.488910592,\n",
       " 1927.893070643286,\n",
       " 1925.1128054734288,\n",
       " 1968.8197980252855,\n",
       " 1898.922032214072,\n",
       " 1921.1409977023573,\n",
       " 2033.3683301095,\n",
       " 2085.4363576838573,\n",
       " 2175.136556638285,\n",
       " 2034.6302620307144,\n",
       " 2237.890121738214,\n",
       " 2185.9252598632143,\n",
       " 2334.7974142684284,\n",
       " 2335.2464416708576,\n",
       " 2556.8918604685714,\n",
       " 2427.8587444975715,\n",
       " 2474.693711964143,\n",
       " 2441.506009766072,\n",
       " 2516.6812059418576,\n",
       " 2579.7018483677857,\n",
       " 2703.235274877286,\n",
       " 2630.0943697477146,\n",
       " 2763.402130496858,\n",
       " 2747.1412729602857,\n",
       " 2710.6173578128573,\n",
       " 2833.494064263143,\n",
       " 2712.580540191429,\n",
       " 2732.6502058878573,\n",
       " 2760.061346757357,\n",
       " 2891.455020377572,\n",
       " 2890.1989790132143,\n",
       " 2944.375963638357,\n",
       " 2925.8465724092857,\n",
       " 2894.254647233643,\n",
       " 2904.880055314143,\n",
       " 2975.296652644786,\n",
       " 2973.5157890675,\n",
       " 2916.541612216,\n",
       " 2930.013298348643,\n",
       " 2937.703494480714,\n",
       " 2966.4636845127143,\n",
       " 3041.8958619718574,\n",
       " 3060.968870164857,\n",
       " 3057.499259779,\n",
       " 3091.593388969572,\n",
       " 3148.8657385231427,\n",
       " 3158.2762431862143,\n",
       " 3154.201910758214,\n",
       " 3140.6932891654287,\n",
       " 3146.903405883857,\n",
       " 3150.2306061142854,\n",
       " 3154.005033161,\n",
       " 3164.9294602877853,\n",
       " 3167.575725438143,\n",
       " 3289.820640605285,\n",
       " 3317.5625839870004,\n",
       " 3226.013453333071,\n",
       " 3219.297367443857,\n",
       " 3246.023646865714,\n",
       " 3400.0471761892863,\n",
       " 3458.142300821,\n",
       " 3215.8231726352856,\n",
       " 3373.096765960144,\n",
       " 3270.7977424763567,\n",
       " 3399.6579544429287,\n",
       " 3355.554713181143,\n",
       " 3326.447823916929,\n",
       " 3310.9957616339284,\n",
       " 3411.5719699133574,\n",
       " 3475.903182766072,\n",
       " 3505.9579339905,\n",
       " 10132.31061675993,\n",
       " 10092.547857813572,\n",
       " 9955.194756564,\n",
       " 9788.479871545287,\n",
       " 9821.944680398,\n",
       " 9623.176329061573,\n",
       " 9724.438841362286,\n",
       " 9459.864834445572,\n",
       " 9376.436225152283,\n",
       " 9159.179498052144,\n",
       " 9069.695451144144,\n",
       " 8995.833439005071,\n",
       " 8780.412888965071,\n",
       " 8546.279846693571,\n",
       " 8661.583806717357,\n",
       " 8545.138098242429,\n",
       " 8598.621320913428,\n",
       " 8697.469112901286,\n",
       " 8515.019036660357,\n",
       " 8672.0980889,\n",
       " 8621.217731946857]"
      ]
     },
     "execution_count": 889,
     "metadata": {},
     "output_type": "execute_result"
    }
   ],
   "source": [
    "ys_list[3]"
   ]
  },
  {
   "cell_type": "code",
   "execution_count": 922,
   "id": "b0b006c3",
   "metadata": {},
   "outputs": [
    {
     "data": {
      "text/plain": [
       "array([2.19418365e+03, 4.98043165e-01, 3.60220716e+02, 4.90665757e-01,\n",
       "       6.19129076e+02])"
      ]
     },
     "execution_count": 922,
     "metadata": {},
     "output_type": "execute_result"
    }
   ],
   "source": [
    "map_estimate['initial_level']"
   ]
  },
  {
   "cell_type": "code",
   "execution_count": 890,
   "id": "4239ec14",
   "metadata": {},
   "outputs": [
    {
     "data": {
      "text/plain": [
       "array([-1.59182279, -2.25521617, -0.08933357, -0.43300718,  2.11437537])"
      ]
     },
     "execution_count": 890,
     "metadata": {},
     "output_type": "execute_result"
    }
   ],
   "source": [
    "map_estimate['initial_trend']"
   ]
  },
  {
   "cell_type": "code",
   "execution_count": 923,
   "id": "7b887f96",
   "metadata": {},
   "outputs": [
    {
     "data": {
      "text/plain": [
       "array([0.99485249, 0.98530791, 0.99645249, 0.99926096, 0.99885789])"
      ]
     },
     "execution_count": 923,
     "metadata": {},
     "output_type": "execute_result"
    }
   ],
   "source": [
    "map_estimate['smoothing_level']"
   ]
  },
  {
   "cell_type": "code",
   "execution_count": 924,
   "id": "37d0e2af",
   "metadata": {},
   "outputs": [
    {
     "data": {
      "text/plain": [
       "array([1.18669403e-04, 2.22222509e-01, 3.78586869e-05, 3.72049125e-01,\n",
       "       2.90557289e-04])"
      ]
     },
     "execution_count": 924,
     "metadata": {},
     "output_type": "execute_result"
    }
   ],
   "source": [
    "map_estimate['smoothing_trend']"
   ]
  },
  {
   "cell_type": "code",
   "execution_count": 925,
   "id": "e828283c",
   "metadata": {},
   "outputs": [
    {
     "data": {
      "text/plain": [
       "array([2.80977608e-07, 2.80977601e-07, 2.80977618e-07, 2.80977616e-07,\n",
       "       2.80977622e-07])"
      ]
     },
     "execution_count": 925,
     "metadata": {},
     "output_type": "execute_result"
    }
   ],
   "source": [
    "map_estimate['smoothing_season']"
   ]
  },
  {
   "cell_type": "code",
   "execution_count": 891,
   "id": "9cca5415",
   "metadata": {},
   "outputs": [
    {
     "data": {
      "text/plain": [
       "(0.0, 2.0)"
      ]
     },
     "execution_count": 891,
     "metadata": {},
     "output_type": "execute_result"
    },
    {
     "data": {
      "image/png": "[encoded data removed]",
      "text/plain": [
       "<Figure size 432x288 with 1 Axes>"
      ]
     },
     "metadata": {},
     "output_type": "display_data"
    }
   ],
   "source": [
    "# d2.iloc[1:].reset_index().y_obs.plot()\n",
    "test_z_idx = np.unique(zone_idx)[1]\n",
    "\n",
    "ax = plt.plot(seasons_f.get_test_value()[test_z_idx])[0]\n",
    "ax.axes.set_ylim(0,2)"
   ]
  },
  {
   "cell_type": "code",
   "execution_count": 917,
   "id": "b23a8750",
   "metadata": {},
   "outputs": [
    {
     "data": {
      "text/plain": [
       "[<matplotlib.lines.Line2D at 0x1b8295d60>]"
      ]
     },
     "execution_count": 917,
     "metadata": {},
     "output_type": "execute_result"
    },
    {
     "data": {
      "image/png": "[encoded data removed]",
      "text/plain": [
       "<Figure size 432x288 with 1 Axes>"
      ]
     },
     "metadata": {},
     "output_type": "display_data"
    }
   ],
   "source": [
    "# d2.iloc[1:].reset_index().y_obs.plot()\n",
    "test_z_idx = np.unique(zone_idx)[1]\n",
    "\n",
    "plt.plot(seasons_f.get_test_value()[0])\n",
    "plt.plot(seasons_f.get_test_value()[1])\n",
    "plt.plot(seasons_f.get_test_value()[2])\n",
    "plt.plot(seasons_f.get_test_value()[3])\n",
    "# ax.axes.set_ylim(0,2)"
   ]
  },
  {
   "cell_type": "code",
   "execution_count": null,
   "id": "18acb34a",
   "metadata": {},
   "outputs": [],
   "source": [
    "# what we have plotted here are initial 52 seasons followed by len(df) - 52 next szns\n",
    "# the szn at 93 is used for estimating y_hat at 93 + 52\n",
    "# the szn at 93 is result of \n",
    "\n",
    "# preds (y_hats) should be (prior_level + prior_trend)*season_from_52_prior"
   ]
  },
  {
   "cell_type": "code",
   "execution_count": null,
   "id": "42a21294",
   "metadata": {},
   "outputs": [],
   "source": [
    "# ok so, season estimate seems to be the leading issue\n",
    "# don't see how we got this weird season estimate based on below math\n",
    "\n",
    "# should we try to recreate the final everything without the theano.scan?"
   ]
  },
  {
   "cell_type": "code",
   "execution_count": null,
   "id": "8958ff2f",
   "metadata": {},
   "outputs": [],
   "source": [
    "updated_szn = szn_smoother * y / (prior_level + prior_trend) + (1 - szn_smoother) * szn_m52\n",
    "\n",
    "\n",
    "#             next_level = map_estimate['smoothing_level'][z_idx] * (y/szn_m52) + (1 - map_estimate['smoothing_level'][z_idx])*(prior_level + prior_trend) + covid_start*map_estimate['covid_level_change'][z_idx]\n",
    "next_level = level_smoother * (y/szn_m52) + (1 - level_smoother)*(prior_level + prior_trend) + covid_start*covid_level_change\n",
    "\n",
    "#             next_trend = map_estimate['smoothing_trend'][z_idx] * (next_level - prior_level) + (1 - map_estimate['smoothing_trend'][z_idx])*prior_trend - covid_start*map_estimate['smoothing_trend'][z_idx]*map_estimate['covid_level_change2'][z_idx]\n",
    "next_trend = trend_smoother * (next_level - prior_level) + (1 - trend_smoother)*prior_trend - covid_start*trend_smoother*covid_level_change2"
   ]
  },
  {
   "cell_type": "code",
   "execution_count": 838,
   "id": "7ab1c6d0",
   "metadata": {},
   "outputs": [
    {
     "data": {
      "text/plain": [
       "52"
      ]
     },
     "execution_count": 838,
     "metadata": {},
     "output_type": "execute_result"
    }
   ],
   "source": [
    "szn_len"
   ]
  },
  {
   "cell_type": "code",
   "execution_count": 955,
   "id": "530896ec",
   "metadata": {},
   "outputs": [
    {
     "name": "stdout",
     "output_type": "stream",
     "text": [
      "> \u001b[0;32m<ipython-input-955-4822f3259b01>\u001b[0m(20)\u001b[0;36m<module>\u001b[0;34m()\u001b[0m\n",
      "\u001b[0;32m     18 \u001b[0;31m        \u001b[0;32mimport\u001b[0m \u001b[0mpdb\u001b[0m\u001b[0;34m;\u001b[0m \u001b[0mpdb\u001b[0m\u001b[0;34m.\u001b[0m\u001b[0mset_trace\u001b[0m\u001b[0;34m(\u001b[0m\u001b[0;34m)\u001b[0m\u001b[0;34m\u001b[0m\u001b[0;34m\u001b[0m\u001b[0m\n",
      "\u001b[0m\u001b[0;32m     19 \u001b[0;31m\u001b[0;34m\u001b[0m\u001b[0m\n",
      "\u001b[0m\u001b[0;32m---> 20 \u001b[0;31m    \u001b[0mnext_szn\u001b[0m \u001b[0;34m=\u001b[0m \u001b[0mdata_start\u001b[0m\u001b[0;34m*\u001b[0m\u001b[0;34m(\u001b[0m\u001b[0mmap_estimate\u001b[0m\u001b[0;34m[\u001b[0m\u001b[0;34m'smoothing_season'\u001b[0m\u001b[0;34m]\u001b[0m\u001b[0;34m[\u001b[0m\u001b[0mtest_z_idx\u001b[0m\u001b[0;34m]\u001b[0m \u001b[0;34m*\u001b[0m \u001b[0my\u001b[0m \u001b[0;34m/\u001b[0m \u001b[0;34m(\u001b[0m\u001b[0mprior_level\u001b[0m \u001b[0;34m+\u001b[0m \u001b[0mprior_trend\u001b[0m\u001b[0;34m)\u001b[0m \u001b[0;34m+\u001b[0m \u001b[0;34m(\u001b[0m\u001b[0;36m1\u001b[0m \u001b[0;34m-\u001b[0m \u001b[0mmap_estimate\u001b[0m\u001b[0;34m[\u001b[0m\u001b[0;34m'smoothing_season'\u001b[0m\u001b[0;34m]\u001b[0m\u001b[0;34m[\u001b[0m\u001b[0mtest_z_idx\u001b[0m\u001b[0;34m]\u001b[0m\u001b[0;34m)\u001b[0m \u001b[0;34m*\u001b[0m \u001b[0mszn_m52\u001b[0m\u001b[0;34m)\u001b[0m \u001b[0;34m+\u001b[0m \u001b[0;34m(\u001b[0m\u001b[0;36m1\u001b[0m \u001b[0;34m-\u001b[0m \u001b[0mdata_start\u001b[0m\u001b[0;34m)\u001b[0m\u001b[0;34m*\u001b[0m\u001b[0;34m(\u001b[0m\u001b[0mszn_m52\u001b[0m\u001b[0;34m)\u001b[0m\u001b[0;34m\u001b[0m\u001b[0;34m\u001b[0m\u001b[0m\n",
      "\u001b[0m\u001b[0;32m     21 \u001b[0;31m\u001b[0;34m\u001b[0m\u001b[0m\n",
      "\u001b[0m\u001b[0;32m     22 \u001b[0;31m    \u001b[0mnext_level\u001b[0m \u001b[0;34m=\u001b[0m \u001b[0mdata_start\u001b[0m\u001b[0;34m*\u001b[0m\u001b[0;34m(\u001b[0m\u001b[0mmap_estimate\u001b[0m\u001b[0;34m[\u001b[0m\u001b[0;34m'smoothing_level'\u001b[0m\u001b[0;34m]\u001b[0m\u001b[0;34m[\u001b[0m\u001b[0mtest_z_idx\u001b[0m\u001b[0;34m]\u001b[0m \u001b[0;34m*\u001b[0m \u001b[0;34m(\u001b[0m\u001b[0my\u001b[0m\u001b[0;34m/\u001b[0m\u001b[0mszn_m52\u001b[0m\u001b[0;34m)\u001b[0m \u001b[0;34m+\u001b[0m \u001b[0;34m(\u001b[0m\u001b[0;36m1\u001b[0m \u001b[0;34m-\u001b[0m \u001b[0mmap_estimate\u001b[0m\u001b[0;34m[\u001b[0m\u001b[0;34m'smoothing_level'\u001b[0m\u001b[0;34m]\u001b[0m\u001b[0;34m[\u001b[0m\u001b[0mtest_z_idx\u001b[0m\u001b[0;34m]\u001b[0m\u001b[0;34m)\u001b[0m\u001b[0;34m*\u001b[0m\u001b[0;34m(\u001b[0m\u001b[0mprior_level\u001b[0m \u001b[0;34m+\u001b[0m \u001b[0mprior_trend\u001b[0m\u001b[0;34m)\u001b[0m \u001b[0;34m+\u001b[0m \u001b[0mcovid_start\u001b[0m\u001b[0;34m*\u001b[0m\u001b[0mmap_estimate\u001b[0m\u001b[0;34m[\u001b[0m\u001b[0;34m'covid_level_change'\u001b[0m\u001b[0;34m]\u001b[0m\u001b[0;34m[\u001b[0m\u001b[0mtest_z_idx\u001b[0m\u001b[0;34m]\u001b[0m\u001b[0;34m)\u001b[0m \u001b[0;34m+\u001b[0m \u001b[0;34m(\u001b[0m\u001b[0;36m1\u001b[0m \u001b[0;34m-\u001b[0m \u001b[0mdata_start\u001b[0m\u001b[0;34m)\u001b[0m\u001b[0;34m*\u001b[0m\u001b[0;34m(\u001b[0m\u001b[0mprior_level\u001b[0m\u001b[0;34m)\u001b[0m\u001b[0;34m\u001b[0m\u001b[0;34m\u001b[0m\u001b[0m\n",
      "\u001b[0m\n",
      "ipdb> data_start\n",
      "1.0\n",
      "ipdb> prior_level\n",
      "0.4906657572119934\n",
      "ipdb> prior_trend\n",
      "294.9744319271182\n",
      "ipdb> y/szn_m52\n",
      "220.33848277928686\n",
      "ipdb> map_estimate['smoothing_level'][test_z_idx]\n",
      "0.9992609559561023\n",
      "ipdb> y\n",
      "244.83254106842853\n",
      "ipdb> szn_m52\n",
      "1.1111655938634986\n",
      "ipdb> c\n"
     ]
    }
   ],
   "source": [
    "ls, ss, ts = [], [], []\n",
    "prior_level = map_estimate['initial_level'][test_z_idx]\n",
    "prior_trend = map_estimate['initial_trend'][test_z_idx]\n",
    "initial_ss = map_estimate['initial_szns'][test_z_idx]\n",
    "\n",
    "# for y in ys_list[test_z_idx][1:]:\n",
    "for i in range(len(ys_list[test_z_idx][1:])):\n",
    "    y = ys_list[test_z_idx][1:][i]\n",
    "    covid_start = is_covid_start_list[test_z_idx][1:][i]\n",
    "    data_start = data_start_list[test_z_idx][1:][i]\n",
    "    \n",
    "    if i < szn_len:\n",
    "        szn_m52 = initial_ss[i]\n",
    "    else:\n",
    "        szn_m52 = ss[i-szn_len]\n",
    "        \n",
    "    if i == 29:\n",
    "        import pdb; pdb.set_trace()\n",
    "        \n",
    "    next_szn = data_start*(map_estimate['smoothing_season'][test_z_idx] * y / (prior_level + prior_trend) + (1 - map_estimate['smoothing_season'][test_z_idx]) * szn_m52) + (1 - data_start)*(szn_m52)\n",
    "    \n",
    "    next_level = data_start*(map_estimate['smoothing_level'][test_z_idx] * (y/szn_m52) + (1 - map_estimate['smoothing_level'][test_z_idx])*(prior_level + prior_trend) + covid_start*map_estimate['covid_level_change'][test_z_idx]) + (1 - data_start)*(prior_level)\n",
    "    \n",
    "    next_trend = data_start*(map_estimate['smoothing_trend'][test_z_idx] * (next_level - prior_level) + (1 - map_estimate['smoothing_trend'][test_z_idx])*prior_trend - covid_start*map_estimate['smoothing_trend'][test_z_idx]*map_estimate['covid_level_change2'][test_z_idx]) + (1 - data_start)*(prior_trend)\n",
    "    \n",
    "    \n",
    "    ls.append(next_level)\n",
    "    ts.append(next_trend)\n",
    "    ss.append(next_szn)\n",
    "    \n",
    "    prior_level = next_level\n",
    "    prior_trend = next_trend"
   ]
  },
  {
   "cell_type": "code",
   "execution_count": 951,
   "id": "067df831",
   "metadata": {},
   "outputs": [
    {
     "data": {
      "text/plain": [
       "[0.4906657572119934,\n",
       " 0.4906657572119934,\n",
       " 0.4906657572119934,\n",
       " 0.4906657572119934,\n",
       " 220.39400465657062,\n",
       " 677.4942955793862,\n",
       " 881.6225328213477,\n",
       " 1025.5483104541133]"
      ]
     },
     "execution_count": 951,
     "metadata": {},
     "output_type": "execute_result"
    }
   ],
   "source": [
    "ls[25:33]"
   ]
  },
  {
   "cell_type": "code",
   "execution_count": 952,
   "id": "134b41b9",
   "metadata": {},
   "outputs": [
    {
     "data": {
      "text/plain": [
       "[0.0, 0.0, 0.0, 0.0, 0.0, 1.0, 1.0, 1.0]"
      ]
     },
     "execution_count": 952,
     "metadata": {},
     "output_type": "execute_result"
    }
   ],
   "source": [
    "data_start_list[test_z_idx][25:33]"
   ]
  },
  {
   "cell_type": "code",
   "execution_count": 947,
   "id": "946b08de",
   "metadata": {},
   "outputs": [
    {
     "data": {
      "text/plain": [
       "[<matplotlib.lines.Line2D at 0x1b7d54b20>]"
      ]
     },
     "execution_count": 947,
     "metadata": {},
     "output_type": "execute_result"
    },
    {
     "data": {
      "image/png": "[encoded data removed]",
      "text/plain": [
       "<Figure size 432x288 with 1 Axes>"
      ]
     },
     "metadata": {},
     "output_type": "display_data"
    }
   ],
   "source": [
    "plt.plot(ls)"
   ]
  },
  {
   "cell_type": "code",
   "execution_count": 948,
   "id": "c2494733",
   "metadata": {},
   "outputs": [
    {
     "data": {
      "text/plain": [
       "[<matplotlib.lines.Line2D at 0x1b8204250>]"
      ]
     },
     "execution_count": 948,
     "metadata": {},
     "output_type": "execute_result"
    },
    {
     "data": {
      "image/png": "[encoded data removed]",
      "text/plain": [
       "<Figure size 432x288 with 1 Axes>"
      ]
     },
     "metadata": {},
     "output_type": "display_data"
    }
   ],
   "source": [
    "plt.plot(ts)"
   ]
  },
  {
   "cell_type": "code",
   "execution_count": 949,
   "id": "2d55005b",
   "metadata": {},
   "outputs": [
    {
     "data": {
      "text/plain": [
       "[<matplotlib.lines.Line2D at 0x1b83affd0>]"
      ]
     },
     "execution_count": 949,
     "metadata": {},
     "output_type": "execute_result"
    },
    {
     "data": {
      "image/png": "[encoded data removed]",
      "text/plain": [
       "<Figure size 432x288 with 1 Axes>"
      ]
     },
     "metadata": {},
     "output_type": "display_data"
    }
   ],
   "source": [
    "plt.plot(ss)"
   ]
  },
  {
   "cell_type": "code",
   "execution_count": 849,
   "id": "a0b0d957",
   "metadata": {},
   "outputs": [
    {
     "data": {
      "text/plain": [
       "(157, 157)"
      ]
     },
     "execution_count": 849,
     "metadata": {},
     "output_type": "execute_result"
    }
   ],
   "source": [
    "len(ls), len(ys_list[test_z_idx][1:])"
   ]
  },
  {
   "cell_type": "code",
   "execution_count": null,
   "id": "256ba5c3",
   "metadata": {},
   "outputs": [],
   "source": [
    "# maybe we do need a dummy at first non-zero idx\n",
    "# could also skip first X (3?) non-zero's, set them to 0 so we start with more stable data"
   ]
  },
  {
   "cell_type": "code",
   "execution_count": 852,
   "id": "a31c68a8",
   "metadata": {},
   "outputs": [
    {
     "data": {
      "text/plain": [
       "-0.6305137038560302"
      ]
     },
     "execution_count": 852,
     "metadata": {},
     "output_type": "execute_result"
    }
   ],
   "source": [
    "map_estimate['smoothing_season'][test_z_idx] * ys_list[test_z_idx][1:][41] / (ls[40] + ts[40]) + (1 - map_estimate['smoothing_season'][test_z_idx]) * initial_ss[41]"
   ]
  },
  {
   "cell_type": "code",
   "execution_count": 855,
   "id": "1af55324",
   "metadata": {},
   "outputs": [
    {
     "data": {
      "text/plain": [
       "0.006510691282579424"
      ]
     },
     "execution_count": 855,
     "metadata": {},
     "output_type": "execute_result"
    }
   ],
   "source": [
    "map_estimate['smoothing_season'][test_z_idx]"
   ]
  },
  {
   "cell_type": "code",
   "execution_count": 857,
   "id": "5b81e89d",
   "metadata": {},
   "outputs": [
    {
     "data": {
      "text/plain": [
       "-0.8804420835102191"
      ]
     },
     "execution_count": 857,
     "metadata": {},
     "output_type": "execute_result"
    }
   ],
   "source": [
    "(ls[40] + ts[40])"
   ]
  },
  {
   "cell_type": "code",
   "execution_count": 854,
   "id": "2bc08a5e",
   "metadata": {},
   "outputs": [
    {
     "data": {
      "text/plain": [
       "-1.6434099953568508"
      ]
     },
     "execution_count": 854,
     "metadata": {},
     "output_type": "execute_result"
    }
   ],
   "source": [
    "map_estimate['smoothing_season'][test_z_idx] * ys_list[test_z_idx][1:][41] / (ls[40] + ts[40])"
   ]
  },
  {
   "cell_type": "code",
   "execution_count": 858,
   "id": "121843f5",
   "metadata": {},
   "outputs": [
    {
     "data": {
      "text/plain": [
       "0.14469273203735053"
      ]
     },
     "execution_count": 858,
     "metadata": {},
     "output_type": "execute_result"
    }
   ],
   "source": [
    "map_estimate['smoothing_season'][test_z_idx] * ys_list[test_z_idx][1:][41] / (10)"
   ]
  },
  {
   "cell_type": "code",
   "execution_count": 856,
   "id": "419499f7",
   "metadata": {},
   "outputs": [
    {
     "data": {
      "text/plain": [
       "222.23866215942857"
      ]
     },
     "execution_count": 856,
     "metadata": {},
     "output_type": "execute_result"
    }
   ],
   "source": [
    "ys_list[test_z_idx][1:][41]"
   ]
  },
  {
   "cell_type": "code",
   "execution_count": 853,
   "id": "a27a4c22",
   "metadata": {},
   "outputs": [
    {
     "data": {
      "text/plain": [
       "1.0128962915008206"
      ]
     },
     "execution_count": 853,
     "metadata": {},
     "output_type": "execute_result"
    }
   ],
   "source": [
    "(1 - map_estimate['smoothing_season'][test_z_idx]) * initial_ss[41]"
   ]
  },
  {
   "cell_type": "code",
   "execution_count": 851,
   "id": "3547c926",
   "metadata": {},
   "outputs": [
    {
     "data": {
      "text/plain": [
       "1.0195341636926663"
      ]
     },
     "execution_count": 851,
     "metadata": {},
     "output_type": "execute_result"
    }
   ],
   "source": [
    "initial_ss[41]"
   ]
  },
  {
   "cell_type": "code",
   "execution_count": 850,
   "id": "8b6a6f6a",
   "metadata": {},
   "outputs": [
    {
     "data": {
      "text/plain": [
       "[0.0,\n",
       " 0.0,\n",
       " 0.0,\n",
       " 222.23866215942857,\n",
       " 1109.292810255714,\n",
       " 1078.8519359229283,\n",
       " 1116.7767766405]"
      ]
     },
     "execution_count": 850,
     "metadata": {},
     "output_type": "execute_result"
    }
   ],
   "source": [
    "ys_list[test_z_idx][1:][38:45]"
   ]
  },
  {
   "cell_type": "code",
   "execution_count": 845,
   "id": "091fc3f0",
   "metadata": {},
   "outputs": [
    {
     "data": {
      "text/plain": [
       "[7.418035787072309,\n",
       " 4.959425391394952,\n",
       " 2.034279513794608,\n",
       " 41.73980700823617,\n",
       " 276.059510935855,\n",
       " 610.6057800876299,\n",
       " 974.3751930752417]"
      ]
     },
     "execution_count": 845,
     "metadata": {},
     "output_type": "execute_result"
    }
   ],
   "source": [
    "ls[38:45]"
   ]
  },
  {
   "cell_type": "code",
   "execution_count": 847,
   "id": "5ec8f6cf",
   "metadata": {},
   "outputs": [
    {
     "data": {
      "text/plain": [
       "[-1.2592742507063404,\n",
       " -2.4331967590389114,\n",
       " -2.914721597304827,\n",
       " 38.80241494472028,\n",
       " 230.1767408729488,\n",
       " 332.3347046300802,\n",
       " 363.10331928287053]"
      ]
     },
     "execution_count": 847,
     "metadata": {},
     "output_type": "execute_result"
    }
   ],
   "source": [
    "ts[38:45]"
   ]
  },
  {
   "cell_type": "code",
   "execution_count": 848,
   "id": "46812575",
   "metadata": {},
   "outputs": [
    {
     "data": {
      "text/plain": [
       "[0.9857179549951843,\n",
       " 0.9904683960491151,\n",
       " 0.995187608334335,\n",
       " -0.6305137038560302,\n",
       " 1.105823987314351,\n",
       " 1.0423145196012997,\n",
       " 1.0123685110653118]"
      ]
     },
     "execution_count": 848,
     "metadata": {},
     "output_type": "execute_result"
    }
   ],
   "source": [
    "ss[38:45]"
   ]
  },
  {
   "cell_type": "code",
   "execution_count": null,
   "id": "01e82f7e",
   "metadata": {},
   "outputs": [],
   "source": [
    "# above, at 41 we have ss[41], which is a fcn of the szn_m52 = 41-52 = -9 = initial_szn[41]\n",
    "    # ie we have the season estimates created ON these dates\n",
    "# below, we actually have initial_szn[41], followed by the next buncha seasons\n",
    "    # ie we have the szn values that are used to predict FOR these dates"
   ]
  },
  {
   "cell_type": "code",
   "execution_count": null,
   "id": "e1799635",
   "metadata": {},
   "outputs": [],
   "source": [
    "# maybe we need another dummy var for the first non-zero entry, if what's going on here is the initial szn is being used to fit the first non-zero entry well\n"
   ]
  },
  {
   "cell_type": "code",
   "execution_count": null,
   "id": "ba19f005",
   "metadata": {},
   "outputs": [],
   "source": []
  },
  {
   "cell_type": "code",
   "execution_count": 796,
   "id": "d5f8255c",
   "metadata": {},
   "outputs": [
    {
     "data": {
      "text/plain": [
       "[<matplotlib.lines.Line2D at 0x191819490>]"
      ]
     },
     "execution_count": 796,
     "metadata": {},
     "output_type": "execute_result"
    },
    {
     "data": {
      "image/png": "[encoded data removed]",
      "text/plain": [
       "<Figure size 432x288 with 1 Axes>"
      ]
     },
     "metadata": {},
     "output_type": "display_data"
    }
   ],
   "source": [
    "plt.plot(seasons_f.get_test_value()[test_z_idx])"
   ]
  },
  {
   "cell_type": "code",
   "execution_count": 827,
   "id": "bfede3ff",
   "metadata": {},
   "outputs": [
    {
     "data": {
      "text/plain": [
       "array([  32.05519119,   29.73337497,  -16.75662914,  -58.47938838,\n",
       "       -966.7779244 , -638.08680303, -240.9220398 ,  130.20931686])"
      ]
     },
     "execution_count": 827,
     "metadata": {},
     "output_type": "execute_result"
    }
   ],
   "source": [
    "trends_f.get_test_value()[test_z_idx,90:98]"
   ]
  },
  {
   "cell_type": "code",
   "execution_count": 828,
   "id": "bc60882a",
   "metadata": {},
   "outputs": [
    {
     "data": {
      "text/plain": [
       "array([1985.47851358, 2015.16162476, 1997.39855775, 1938.0159351 ,\n",
       "        951.57472902,  320.60358878,   88.27956198,  226.52330818])"
      ]
     },
     "execution_count": 828,
     "metadata": {},
     "output_type": "execute_result"
    }
   ],
   "source": [
    "levels_f.get_test_value()[test_z_idx,90:98]"
   ]
  },
  {
   "cell_type": "code",
   "execution_count": 829,
   "id": "66f2abca",
   "metadata": {},
   "outputs": [
    {
     "data": {
      "text/plain": [
       "array([ 0.98571795,  0.9904684 ,  0.99518761, -0.6305137 ,  1.10582399,\n",
       "        1.04231452,  1.01236851,  1.00072204])"
      ]
     },
     "execution_count": 829,
     "metadata": {},
     "output_type": "execute_result"
    }
   ],
   "source": [
    "seasons_f.get_test_value()[test_z_idx,90:98]"
   ]
  },
  {
   "cell_type": "code",
   "execution_count": 830,
   "id": "ac95080a",
   "metadata": {},
   "outputs": [
    {
     "data": {
      "text/plain": [
       "array([0.99217772, 0.99695929, 1.00170943, 1.01953416, 1.02281268,\n",
       "       1.03517916, 1.01124142, 1.00203125])"
      ]
     },
     "execution_count": 830,
     "metadata": {},
     "output_type": "execute_result"
    }
   ],
   "source": [
    "seasons_f.get_test_value()[test_z_idx,38:46]"
   ]
  },
  {
   "cell_type": "code",
   "execution_count": 833,
   "id": "035a2379",
   "metadata": {},
   "outputs": [
    {
     "data": {
      "text/plain": [
       "0.006510691282579424"
      ]
     },
     "execution_count": 833,
     "metadata": {},
     "output_type": "execute_result"
    }
   ],
   "source": [
    "map_estimate['smoothing_season'][test_z_idx]"
   ]
  },
  {
   "cell_type": "code",
   "execution_count": 832,
   "id": "4e7b2e85",
   "metadata": {},
   "outputs": [
    {
     "data": {
      "text/plain": [
       "0.9186215283089966"
      ]
     },
     "execution_count": 832,
     "metadata": {},
     "output_type": "execute_result"
    }
   ],
   "source": [
    "ys_list[test_z_idx][94] / (levels_f.get_test_value()[test_z_idx,92] + trends_f.get_test_value()[test_z_idx,92])"
   ]
  },
  {
   "cell_type": "code",
   "execution_count": 821,
   "id": "c6ff7120",
   "metadata": {},
   "outputs": [
    {
     "data": {
      "text/plain": [
       "1.0188771526771718"
      ]
     },
     "execution_count": 821,
     "metadata": {},
     "output_type": "execute_result"
    }
   ],
   "source": [
    "map_estimate['smoothing_season'][test_z_idx] * ys_list[test_z_idx][94] / (levels_f.get_test_value()[test_z_idx,92] + trends_f.get_test_value()[test_z_idx,92]) + (1 - map_estimate['smoothing_season'][test_z_idx]) * map_estimate['initial_szns'][test_z_idx,41]"
   ]
  },
  {
   "cell_type": "code",
   "execution_count": 818,
   "id": "e680ab6e",
   "metadata": {},
   "outputs": [
    {
     "data": {
      "text/plain": [
       "(1.0195341636926663, 1.0195341636926663)"
      ]
     },
     "execution_count": 818,
     "metadata": {},
     "output_type": "execute_result"
    }
   ],
   "source": [
    "map_estimate['initial_szns'][test_z_idx,41], seasons_f.get_test_value()[test_z_idx,41]"
   ]
  },
  {
   "cell_type": "code",
   "execution_count": 814,
   "id": "d11b9e85",
   "metadata": {},
   "outputs": [
    {
     "data": {
      "text/plain": [
       "array([-0.6305137])"
      ]
     },
     "execution_count": 814,
     "metadata": {},
     "output_type": "execute_result"
    }
   ],
   "source": [
    "seasons_f.get_test_value()[test_z_idx, 93:94]"
   ]
  },
  {
   "cell_type": "code",
   "execution_count": 815,
   "id": "ec54a820",
   "metadata": {},
   "outputs": [
    {
     "data": {
      "text/plain": [
       "array([1.01953416])"
      ]
     },
     "execution_count": 815,
     "metadata": {},
     "output_type": "execute_result"
    }
   ],
   "source": [
    "seasons_f.get_test_value()[test_z_idx, 41:42]"
   ]
  },
  {
   "cell_type": "code",
   "execution_count": 816,
   "id": "0a0fca14",
   "metadata": {},
   "outputs": [
    {
     "data": {
      "text/plain": [
       "array([0.99695929, 1.00170943, 1.01953416, 1.02281268, 1.03517916])"
      ]
     },
     "execution_count": 816,
     "metadata": {},
     "output_type": "execute_result"
    }
   ],
   "source": [
    "seasons_f.get_test_value()[test_z_idx, 39:44]"
   ]
  },
  {
   "cell_type": "code",
   "execution_count": 805,
   "id": "e127b2a0",
   "metadata": {},
   "outputs": [
    {
     "data": {
      "text/plain": [
       "<AxesSubplot:>"
      ]
     },
     "execution_count": 805,
     "metadata": {},
     "output_type": "execute_result"
    },
    {
     "data": {
      "image/png": "[encoded data removed]",
      "text/plain": [
       "<Figure size 432x288 with 1 Axes>"
      ]
     },
     "metadata": {},
     "output_type": "display_data"
    }
   ],
   "source": [
    "d2.loc[d2.zone_idx == test_z_idx].reset_index().y_obs.plot()"
   ]
  },
  {
   "cell_type": "code",
   "execution_count": 807,
   "id": "39790beb",
   "metadata": {},
   "outputs": [
    {
     "data": {
      "text/plain": [
       "[<matplotlib.lines.Line2D at 0x1ad007850>]"
      ]
     },
     "execution_count": 807,
     "metadata": {},
     "output_type": "execute_result"
    },
    {
     "data": {
      "image/png": "[encoded data removed]",
      "text/plain": [
       "<Figure size 432x288 with 1 Axes>"
      ]
     },
     "metadata": {},
     "output_type": "display_data"
    }
   ],
   "source": [
    "plt.plot(ys_list[test_z_idx][35:45])"
   ]
  },
  {
   "cell_type": "code",
   "execution_count": 801,
   "id": "8b1cc752",
   "metadata": {},
   "outputs": [
    {
     "data": {
      "text/plain": [
       "(0.0, 2.0)"
      ]
     },
     "execution_count": 801,
     "metadata": {},
     "output_type": "execute_result"
    },
    {
     "data": {
      "image/png": "[encoded data removed]",
      "text/plain": [
       "<Figure size 432x288 with 1 Axes>"
      ]
     },
     "metadata": {},
     "output_type": "display_data"
    }
   ],
   "source": [
    "# d2.iloc[1:].reset_index().y_obs.plot()\n",
    "test_z_idx = np.unique(zone_idx)[1]\n",
    "\n",
    "ax = plt.plot(seasons_f.get_test_value()[test_z_idx,35:45])[0]\n",
    "ax.axes.set_ylim(0,2)"
   ]
  },
  {
   "cell_type": "code",
   "execution_count": 803,
   "id": "e63beca7",
   "metadata": {},
   "outputs": [
    {
     "data": {
      "image/png": "[encoded data removed]",
      "text/plain": [
       "<Figure size 432x288 with 1 Axes>"
      ]
     },
     "metadata": {},
     "output_type": "display_data"
    }
   ],
   "source": [
    "# d2.iloc[1:].reset_index().y_obs.plot()\n",
    "test_z_idx = np.unique(zone_idx)[1]\n",
    "\n",
    "ax = plt.plot(levels_f.get_test_value()[test_z_idx,35:45])[0]\n",
    "# ax.axes.set_ylim(0,2)"
   ]
  },
  {
   "cell_type": "code",
   "execution_count": 804,
   "id": "0122e4a6",
   "metadata": {},
   "outputs": [
    {
     "data": {
      "image/png": "[encoded data removed]",
      "text/plain": [
       "<Figure size 432x288 with 1 Axes>"
      ]
     },
     "metadata": {},
     "output_type": "display_data"
    }
   ],
   "source": [
    "# d2.iloc[1:].reset_index().y_obs.plot()\n",
    "test_z_idx = np.unique(zone_idx)[1]\n",
    "\n",
    "ax = plt.plot(trends_f.get_test_value()[test_z_idx,35:45])[0]\n",
    "# ax.axes.set_ylim(0,2)"
   ]
  },
  {
   "cell_type": "code",
   "execution_count": 795,
   "id": "f25f3c4b",
   "metadata": {},
   "outputs": [
    {
     "data": {
      "text/plain": [
       "[<matplotlib.lines.Line2D at 0x1ac4eb070>]"
      ]
     },
     "execution_count": 795,
     "metadata": {},
     "output_type": "execute_result"
    },
    {
     "data": {
      "image/png": "[encoded data removed]",
      "text/plain": [
       "<Figure size 432x288 with 1 Axes>"
      ]
     },
     "metadata": {},
     "output_type": "display_data"
    }
   ],
   "source": [
    "plt.plot(map_estimate['initial_szns'][test_z_idx])"
   ]
  },
  {
   "cell_type": "code",
   "execution_count": 737,
   "id": "47c61ca9",
   "metadata": {},
   "outputs": [
    {
     "data": {
      "text/plain": [
       "[<matplotlib.lines.Line2D at 0x18cd9d5e0>]"
      ]
     },
     "execution_count": 737,
     "metadata": {},
     "output_type": "execute_result"
    },
    {
     "data": {
      "image/png": "[encoded data removed]",
      "text/plain": [
       "<Figure size 432x288 with 1 Axes>"
      ]
     },
     "metadata": {},
     "output_type": "display_data"
    }
   ],
   "source": [
    "plt.plot(map_estimate['initial_szns_mus'])"
   ]
  },
  {
   "cell_type": "code",
   "execution_count": 796,
   "id": "bb61259b",
   "metadata": {},
   "outputs": [
    {
     "data": {
      "text/plain": [
       "[<matplotlib.lines.Line2D at 0x191819490>]"
      ]
     },
     "execution_count": 796,
     "metadata": {},
     "output_type": "execute_result"
    },
    {
     "data": {
      "image/png": "[encoded data removed]",
      "text/plain": [
       "<Figure size 432x288 with 1 Axes>"
      ]
     },
     "metadata": {},
     "output_type": "display_data"
    }
   ],
   "source": [
    "plt.plot(seasons_f.get_test_value()[test_z_idx])"
   ]
  },
  {
   "cell_type": "code",
   "execution_count": 797,
   "id": "7366a641",
   "metadata": {},
   "outputs": [
    {
     "data": {
      "text/plain": [
       "[<matplotlib.lines.Line2D at 0x1977a25b0>]"
      ]
     },
     "execution_count": 797,
     "metadata": {},
     "output_type": "execute_result"
    },
    {
     "data": {
      "image/png": "[encoded data removed]",
      "text/plain": [
       "<Figure size 432x288 with 1 Axes>"
      ]
     },
     "metadata": {},
     "output_type": "display_data"
    }
   ],
   "source": [
    "plt.plot(levels_f.get_test_value()[test_z_idx])"
   ]
  },
  {
   "cell_type": "code",
   "execution_count": 798,
   "id": "9fe307d0",
   "metadata": {},
   "outputs": [
    {
     "data": {
      "text/plain": [
       "[<matplotlib.lines.Line2D at 0x1770820a0>]"
      ]
     },
     "execution_count": 798,
     "metadata": {},
     "output_type": "execute_result"
    },
    {
     "data": {
      "image/png": "[encoded data removed]",
      "text/plain": [
       "<Figure size 432x288 with 1 Axes>"
      ]
     },
     "metadata": {},
     "output_type": "display_data"
    }
   ],
   "source": [
    "plt.plot(trends_f.get_test_value()[test_z_idx])"
   ]
  },
  {
   "cell_type": "code",
   "execution_count": 721,
   "id": "9d163c95",
   "metadata": {},
   "outputs": [
    {
     "data": {
      "text/plain": [
       "[<matplotlib.lines.Line2D at 0x1af9a7460>]"
      ]
     },
     "execution_count": 721,
     "metadata": {},
     "output_type": "execute_result"
    },
    {
     "data": {
      "image/png": "[encoded data removed]",
      "text/plain": [
       "<Figure size 432x288 with 1 Axes>"
      ]
     },
     "metadata": {},
     "output_type": "display_data"
    }
   ],
   "source": [
    "# d2.iloc[1:].reset_index().y_obs.plot()\n",
    "test_z_idx = np.unique(zone_idx)[2]\n",
    "\n",
    "d2.loc[d2.zone_idx == test_z_idx].reset_index().y_obs.plot()\n",
    "plt.plot(y_hats.get_test_value()[test_z_idx])"
   ]
  },
  {
   "cell_type": "code",
   "execution_count": 722,
   "id": "c75522ea",
   "metadata": {},
   "outputs": [
    {
     "data": {
      "text/plain": [
       "[<matplotlib.lines.Line2D at 0x1a8d5d610>]"
      ]
     },
     "execution_count": 722,
     "metadata": {},
     "output_type": "execute_result"
    },
    {
     "data": {
      "image/png": "[encoded data removed]",
      "text/plain": [
       "<Figure size 432x288 with 1 Axes>"
      ]
     },
     "metadata": {},
     "output_type": "display_data"
    }
   ],
   "source": [
    "# d2.iloc[1:].reset_index().y_obs.plot()\n",
    "test_z_idx = np.unique(zone_idx)[3]\n",
    "\n",
    "d2.loc[d2.zone_idx == test_z_idx].reset_index().y_obs.plot()\n",
    "plt.plot(y_hats.get_test_value()[test_z_idx])"
   ]
  },
  {
   "cell_type": "code",
   "execution_count": 723,
   "id": "6b992205",
   "metadata": {},
   "outputs": [
    {
     "data": {
      "text/plain": [
       "[<matplotlib.lines.Line2D at 0x1830f4580>]"
      ]
     },
     "execution_count": 723,
     "metadata": {},
     "output_type": "execute_result"
    },
    {
     "data": {
      "image/png": "[encoded data removed]",
      "text/plain": [
       "<Figure size 432x288 with 1 Axes>"
      ]
     },
     "metadata": {},
     "output_type": "display_data"
    }
   ],
   "source": [
    "# d2.iloc[1:].reset_index().y_obs.plot()\n",
    "test_z_idx = np.unique(zone_idx)[4]\n",
    "\n",
    "d2.loc[d2.zone_idx == test_z_idx].reset_index().y_obs.plot()\n",
    "plt.plot(y_hats.get_test_value()[test_z_idx])"
   ]
  },
  {
   "cell_type": "code",
   "execution_count": 664,
   "id": "a59aa7a7",
   "metadata": {},
   "outputs": [
    {
     "data": {
      "text/plain": [
       "[<matplotlib.lines.Line2D at 0x1ae42ea00>]"
      ]
     },
     "execution_count": 664,
     "metadata": {},
     "output_type": "execute_result"
    },
    {
     "data": {
      "image/png": "[encoded data removed]",
      "text/plain": [
       "<Figure size 432x288 with 1 Axes>"
      ]
     },
     "metadata": {},
     "output_type": "display_data"
    }
   ],
   "source": [
    "plt.plot(map_estimate['initial_szns'][test_z_idx])"
   ]
  },
  {
   "cell_type": "code",
   "execution_count": 629,
   "id": "26311ea1",
   "metadata": {
    "collapsed": true
   },
   "outputs": [
    {
     "data": {
      "text/plain": [
       "[<matplotlib.lines.Line2D at 0x18d6bb220>]"
      ]
     },
     "execution_count": 629,
     "metadata": {},
     "output_type": "execute_result"
    },
    {
     "data": {
      "image/png": "[encoded data removed]",
      "text/plain": [
       "<Figure size 432x288 with 1 Axes>"
      ]
     },
     "metadata": {},
     "output_type": "display_data"
    }
   ],
   "source": [
    "plt.plot(map_estimate['initial_szns'][0])"
   ]
  },
  {
   "cell_type": "code",
   "execution_count": 345,
   "id": "3c054ec0",
   "metadata": {},
   "outputs": [],
   "source": [
    "## prep data\n",
    "ys_list, is_covid_start_list, first_t_list, y_obs_lagm1_list =  [], [], [], []\n",
    "\n",
    "for z_idx in np.unique(zone_idx):\n",
    "    zdf = d.loc[d.zone_idx == z_idx].sort_values('date')\n",
    "    z_id = zdf.zone_id.unique().item()\n",
    "    \n",
    "    pad_df = pd.DataFrame(columns = zdf.columns)\n",
    "    pad_df.loc[0, 'zone_id'] = z_id\n",
    "    pad_df.loc[0, 'zone_idx'] = z_idx\n",
    "    zdf = pd.concat([pad_df, zdf])\n",
    "    zdf['y_obs_lag-1'] = zdf.y_obs.shift(-1)\n",
    "    \n",
    "    ys_list.append(zdf['y_obs'].tolist())\n",
    "    y_obs_lagm1_list.append(zdf['y_obs_lag-1'].tolist())\n",
    "    is_covid_start_list.append(zdf['covid_start_m1'].tolist())\n",
    "    first_t_list.append(zdf.t.min())"
   ]
  },
  {
   "cell_type": "code",
   "execution_count": 692,
   "id": "fa735c2f",
   "metadata": {},
   "outputs": [],
   "source": [
    "## prep data\n",
    "\n",
    "# maybe we do need a dummy at first non-zero idx\n",
    "# could also skip first X (3?) non-zero's, set them to 0 so we start with more stable data\n",
    "\n",
    "szn_len = 52\n",
    "ys_list, is_covid_start_list, y_obs_lagm1_list, initial_lvl_upper_list =  [], [], [], []\n",
    "\n",
    "for z_idx in np.unique(zone_idx):\n",
    "    zdf = d2.loc[d2.zone_idx == z_idx].sort_values('date')\n",
    "    z_id = zdf.zone_id.unique().item()\n",
    "    \n",
    "    pad_df = pd.DataFrame(columns = zdf.columns)\n",
    "    pad_df.loc[0, 'zone_id'] = z_id\n",
    "    pad_df.loc[0, 'zone_idx'] = z_idx\n",
    "    zdf = pd.concat([pad_df, zdf])\n",
    "    zdf['y_obs_lag-1'] = zdf.y_obs.shift(-1)\n",
    "    initial_lvl_upper = zdf.head()['y_obs_lag-1'].max()\n",
    "    \n",
    "    ys_list.append(zdf['y_obs'].tolist())\n",
    "    y_obs_lagm1_list.append(zdf['y_obs_lag-1'].tolist())\n",
    "    is_covid_start_list.append(zdf['covid_start_m1'].tolist())\n",
    "    initial_lvl_upper_list.append(initial_lvl_upper)\n",
    "#     first_t_list.append(zdf.t.min())"
   ]
  },
  {
   "cell_type": "code",
   "execution_count": null,
   "id": "43af0fed",
   "metadata": {},
   "outputs": [],
   "source": [
    "## basically we want the initial trend and initial level to be applied at first non-0 entry"
   ]
  },
  {
   "cell_type": "code",
   "execution_count": 860,
   "id": "84fb3097",
   "metadata": {},
   "outputs": [
    {
     "data": {
      "text/plain": [
       "datetime.date(2017, 7, 10)"
      ]
     },
     "execution_count": 860,
     "metadata": {},
     "output_type": "execute_result"
    }
   ],
   "source": [
    "zdf.loc[zdf.y_obs > 0].date.min()"
   ]
  },
  {
   "cell_type": "code",
   "execution_count": 861,
   "id": "f39fcdfb",
   "metadata": {},
   "outputs": [
    {
     "data": {
      "text/html": [
       "<div>\n",
       "<style scoped>\n",
       "    .dataframe tbody tr th:only-of-type {\n",
       "        vertical-align: middle;\n",
       "    }\n",
       "\n",
       "    .dataframe tbody tr th {\n",
       "        vertical-align: top;\n",
       "    }\n",
       "\n",
       "    .dataframe thead th {\n",
       "        text-align: right;\n",
       "    }\n",
       "</style>\n",
       "<table border=\"1\" class=\"dataframe\">\n",
       "  <thead>\n",
       "    <tr style=\"text-align: right;\">\n",
       "      <th></th>\n",
       "      <th>zone_id</th>\n",
       "      <th>date</th>\n",
       "      <th>total_demand_new</th>\n",
       "      <th>total_demand_new_lag1</th>\n",
       "      <th>total_demand_new_lag2</th>\n",
       "      <th>total_demand_new_lag3</th>\n",
       "      <th>total_demand_new_lag-1</th>\n",
       "      <th>total_demand_new_lag-2</th>\n",
       "      <th>total_demand_new_lag-3</th>\n",
       "      <th>smoothed_total_demand</th>\n",
       "      <th>...</th>\n",
       "      <th>t4w_total_demand</th>\n",
       "      <th>month</th>\n",
       "      <th>week</th>\n",
       "      <th>day</th>\n",
       "      <th>t4w_total_demand_lag2</th>\n",
       "      <th>szn_factor</th>\n",
       "      <th>y_obs</th>\n",
       "      <th>covid_start_m1</th>\n",
       "      <th>zone_idx</th>\n",
       "      <th>y_obs_lag-1</th>\n",
       "    </tr>\n",
       "  </thead>\n",
       "  <tbody>\n",
       "    <tr>\n",
       "      <th>0</th>\n",
       "      <td>18</td>\n",
       "      <td>NaN</td>\n",
       "      <td>NaN</td>\n",
       "      <td>NaN</td>\n",
       "      <td>NaN</td>\n",
       "      <td>NaN</td>\n",
       "      <td>NaN</td>\n",
       "      <td>NaN</td>\n",
       "      <td>NaN</td>\n",
       "      <td>NaN</td>\n",
       "      <td>...</td>\n",
       "      <td>NaN</td>\n",
       "      <td>NaN</td>\n",
       "      <td>NaN</td>\n",
       "      <td>NaN</td>\n",
       "      <td>NaN</td>\n",
       "      <td>NaN</td>\n",
       "      <td>NaN</td>\n",
       "      <td>NaN</td>\n",
       "      <td>4</td>\n",
       "      <td>586.138481</td>\n",
       "    </tr>\n",
       "    <tr>\n",
       "      <th>2017-07-10</th>\n",
       "      <td>18</td>\n",
       "      <td>2017-07-10</td>\n",
       "      <td>586.138481</td>\n",
       "      <td>NaN</td>\n",
       "      <td>NaN</td>\n",
       "      <td>NaN</td>\n",
       "      <td>624.273423</td>\n",
       "      <td>612.904018</td>\n",
       "      <td>598.826837</td>\n",
       "      <td>NaN</td>\n",
       "      <td>...</td>\n",
       "      <td>NaN</td>\n",
       "      <td>7</td>\n",
       "      <td>28</td>\n",
       "      <td>10</td>\n",
       "      <td>NaN</td>\n",
       "      <td>NaN</td>\n",
       "      <td>586.138481</td>\n",
       "      <td>0.0</td>\n",
       "      <td>4</td>\n",
       "      <td>624.273423</td>\n",
       "    </tr>\n",
       "    <tr>\n",
       "      <th>2017-07-17</th>\n",
       "      <td>18</td>\n",
       "      <td>2017-07-17</td>\n",
       "      <td>624.273423</td>\n",
       "      <td>586.138481</td>\n",
       "      <td>NaN</td>\n",
       "      <td>NaN</td>\n",
       "      <td>612.904018</td>\n",
       "      <td>598.826837</td>\n",
       "      <td>611.507891</td>\n",
       "      <td>NaN</td>\n",
       "      <td>...</td>\n",
       "      <td>NaN</td>\n",
       "      <td>7</td>\n",
       "      <td>29</td>\n",
       "      <td>17</td>\n",
       "      <td>NaN</td>\n",
       "      <td>NaN</td>\n",
       "      <td>624.273423</td>\n",
       "      <td>0.0</td>\n",
       "      <td>4</td>\n",
       "      <td>612.904018</td>\n",
       "    </tr>\n",
       "    <tr>\n",
       "      <th>2017-07-24</th>\n",
       "      <td>18</td>\n",
       "      <td>2017-07-24</td>\n",
       "      <td>612.904018</td>\n",
       "      <td>624.273423</td>\n",
       "      <td>586.138481</td>\n",
       "      <td>NaN</td>\n",
       "      <td>598.826837</td>\n",
       "      <td>611.507891</td>\n",
       "      <td>597.768642</td>\n",
       "      <td>605.186658</td>\n",
       "      <td>...</td>\n",
       "      <td>NaN</td>\n",
       "      <td>7</td>\n",
       "      <td>30</td>\n",
       "      <td>24</td>\n",
       "      <td>NaN</td>\n",
       "      <td>NaN</td>\n",
       "      <td>612.904018</td>\n",
       "      <td>0.0</td>\n",
       "      <td>4</td>\n",
       "      <td>598.826837</td>\n",
       "    </tr>\n",
       "    <tr>\n",
       "      <th>2017-07-31</th>\n",
       "      <td>18</td>\n",
       "      <td>2017-07-31</td>\n",
       "      <td>598.826837</td>\n",
       "      <td>612.904018</td>\n",
       "      <td>624.273423</td>\n",
       "      <td>586.138481</td>\n",
       "      <td>611.507891</td>\n",
       "      <td>597.768642</td>\n",
       "      <td>599.086566</td>\n",
       "      <td>611.613493</td>\n",
       "      <td>...</td>\n",
       "      <td>NaN</td>\n",
       "      <td>7</td>\n",
       "      <td>31</td>\n",
       "      <td>31</td>\n",
       "      <td>NaN</td>\n",
       "      <td>NaN</td>\n",
       "      <td>598.826837</td>\n",
       "      <td>0.0</td>\n",
       "      <td>4</td>\n",
       "      <td>611.507891</td>\n",
       "    </tr>\n",
       "  </tbody>\n",
       "</table>\n",
       "<p>5 rows × 22 columns</p>\n",
       "</div>"
      ],
      "text/plain": [
       "           zone_id        date  total_demand_new  total_demand_new_lag1  \\\n",
       "0               18         NaN               NaN                    NaN   \n",
       "2017-07-10      18  2017-07-10        586.138481                    NaN   \n",
       "2017-07-17      18  2017-07-17        624.273423             586.138481   \n",
       "2017-07-24      18  2017-07-24        612.904018             624.273423   \n",
       "2017-07-31      18  2017-07-31        598.826837             612.904018   \n",
       "\n",
       "            total_demand_new_lag2  total_demand_new_lag3  \\\n",
       "0                             NaN                    NaN   \n",
       "2017-07-10                    NaN                    NaN   \n",
       "2017-07-17                    NaN                    NaN   \n",
       "2017-07-24             586.138481                    NaN   \n",
       "2017-07-31             624.273423             586.138481   \n",
       "\n",
       "            total_demand_new_lag-1  total_demand_new_lag-2  \\\n",
       "0                              NaN                     NaN   \n",
       "2017-07-10              624.273423              612.904018   \n",
       "2017-07-17              612.904018              598.826837   \n",
       "2017-07-24              598.826837              611.507891   \n",
       "2017-07-31              611.507891              597.768642   \n",
       "\n",
       "            total_demand_new_lag-3  smoothed_total_demand  ...  \\\n",
       "0                              NaN                    NaN  ...   \n",
       "2017-07-10              598.826837                    NaN  ...   \n",
       "2017-07-17              611.507891                    NaN  ...   \n",
       "2017-07-24              597.768642             605.186658  ...   \n",
       "2017-07-31              599.086566             611.613493  ...   \n",
       "\n",
       "           t4w_total_demand  month  week  day t4w_total_demand_lag2  \\\n",
       "0                       NaN    NaN   NaN  NaN                   NaN   \n",
       "2017-07-10              NaN      7    28   10                   NaN   \n",
       "2017-07-17              NaN      7    29   17                   NaN   \n",
       "2017-07-24              NaN      7    30   24                   NaN   \n",
       "2017-07-31              NaN      7    31   31                   NaN   \n",
       "\n",
       "           szn_factor       y_obs  covid_start_m1  zone_idx  y_obs_lag-1  \n",
       "0                 NaN         NaN             NaN         4   586.138481  \n",
       "2017-07-10        NaN  586.138481             0.0         4   624.273423  \n",
       "2017-07-17        NaN  624.273423             0.0         4   612.904018  \n",
       "2017-07-24        NaN  612.904018             0.0         4   598.826837  \n",
       "2017-07-31        NaN  598.826837             0.0         4   611.507891  \n",
       "\n",
       "[5 rows x 22 columns]"
      ]
     },
     "execution_count": 861,
     "metadata": {},
     "output_type": "execute_result"
    }
   ],
   "source": [
    "zdf.head()"
   ]
  },
  {
   "cell_type": "code",
   "execution_count": null,
   "id": "ef9ee6fb",
   "metadata": {},
   "outputs": [],
   "source": [
    "# ok, we have the hierarchical priors, etc\n",
    "# we have the inner functions\n",
    "# just need to make sure df_prep is setup correctly, etc per below and test\n",
    "\n",
    "# [] bring back the initial_level_upper thing we had for the prior? maybe need to do per zone\n",
    "# [] make sure we correctly align outputs and observeds\n",
    "\n",
    "# [] apply the padding for ys[1:], etc\n",
    "# [] confirm ok that we're padding newer zones with 0's (initial level will be 0 i guess, but should be fine -- since the optimal smoothing_level will still be determined by the non-0 data)"
   ]
  },
  {
   "cell_type": "code",
   "execution_count": 318,
   "id": "53515092",
   "metadata": {},
   "outputs": [
    {
     "data": {
      "text/plain": [
       "[for{cpu,scan_fn}.0, for{cpu,scan_fn}.1, for{cpu,scan_fn}.2]"
      ]
     },
     "execution_count": 318,
     "metadata": {},
     "output_type": "execute_result"
    }
   ],
   "source": [
    "outputs"
   ]
  },
  {
   "cell_type": "code",
   "execution_count": 319,
   "id": "e5d32492",
   "metadata": {},
   "outputs": [
    {
     "data": {
      "text/plain": [
       "array([[2501.        ,  627.25      , -465.1875    , -895.109375  ,\n",
       "        -883.79416827, 1845.30301136,  876.55212782,  173.53125729],\n",
       "       [2500.        ,  625.        , -468.75      , -897.9375    ,\n",
       "        -886.296875  , 1843.09765625,  874.52050781,  170.60236347]])"
      ]
     },
     "execution_count": 319,
     "metadata": {},
     "output_type": "execute_result"
    }
   ],
   "source": [
    "outputs[0].get_test_value()"
   ]
  },
  {
   "cell_type": "code",
   "execution_count": 287,
   "id": "020b5523",
   "metadata": {},
   "outputs": [
    {
     "data": {
      "text/plain": [
       "array([[ 4.,  9., 16.,  4.,  9., 16., 25.,  9.],\n",
       "       [ 0.,  0.,  0.,  1.,  4.,  9., 16.,  1.]])"
      ]
     },
     "execution_count": 287,
     "metadata": {},
     "output_type": "execute_result"
    }
   ],
   "source": [
    "outputs[2].get_test_value()"
   ]
  },
  {
   "cell_type": "code",
   "execution_count": 111,
   "id": "865d9277",
   "metadata": {
    "collapsed": true
   },
   "outputs": [
    {
     "ename": "SyntaxError",
     "evalue": "'return' outside function (<ipython-input-111-1840a6545aa7>, line 25)",
     "output_type": "error",
     "traceback": [
      "\u001b[0;36m  File \u001b[0;32m\"<ipython-input-111-1840a6545aa7>\"\u001b[0;36m, line \u001b[0;32m25\u001b[0m\n\u001b[0;31m    return outputs\u001b[0m\n\u001b[0m    ^\u001b[0m\n\u001b[0;31mSyntaxError\u001b[0m\u001b[0;31m:\u001b[0m 'return' outside function\n"
     ]
    }
   ],
   "source": [
    "for z_idx in np.unique(zone_idx):\n",
    "    zdf = d2.loc[d2.zone_idx == zone_idx]\n",
    "    ys = tt.as_tensor_variable(zdf['y_obs'])\n",
    "    is_covid_start = tt.as_tensor_variable(zdf['covid_start_m1'])\n",
    "    first_t = zdf.t.min()\n",
    "    initial_seasons = initial_szns[zone_idx, first_t%szn_len:szn_len] + initial_szns[zone_idx, :first_t%szn_len]\n",
    "    \n",
    "    outputs, updates = theano.scan(hw_component_wise,\n",
    "               sequences = [\n",
    "                   ys[1:],\n",
    "#                    ys[szn_len:],\n",
    "                   is_covid_start[1:]\n",
    "#                    is_covid_start[szn_len:]\n",
    "        #            post_covid[szn_len:]\n",
    "               ],\n",
    "               outputs_info = [\n",
    "                   dict(initial = initial_level[zone_idx], taps=None),\n",
    "                   dict(initial = initial_trend[zone_idx], taps=None),\n",
    "                   dict(initial = initial_seasons, taps=[-szn_len])\n",
    "#                    dict(initial = initial_szns[z_idx], taps=[-szn_len])\n",
    "               ], \n",
    "        #            non_sequences = \n",
    "               )\n",
    "\n",
    "    return outputs"
   ]
  },
  {
   "cell_type": "code",
   "execution_count": null,
   "id": "e7ca70ca",
   "metadata": {},
   "outputs": [],
   "source": [
    "def fit_hw_model(zdf, initial_lvl_upper):\n",
    "    szn_len = 52\n",
    "\n",
    "    with pm.Model() as hw_model:\n",
    "    #     initial_level = pm.Normal(f'initial_level', mu=3000, sigma=400)\n",
    "#         initial_level = pm.Uniform(f'initial_level', lower=0, upper=5000)\n",
    "        initial_level = pm.Uniform(f'initial_level', lower=0, upper=initial_lvl_upper, shape=(df_prep.zone_id.nunique()))\n",
    "    \n",
    "        smoothing_level_mu = pm.Uniform('smoothing_level_mu', lower=0, upper=1)\n",
    "        smoothing_level_sigma = pm.HalfCauchy('smoothing_level_sigma', beta=0.5)\n",
    "        smoothing_level = pm.TruncatedNormal('smoothing_level', mu=smoothing_level_mu, sigma=smoothing_level_sigma, lower=0, upper=1, shape=(df_prep.zone_id.nunique()))\n",
    "#         smoothing_level = pm.Normal('smoothing_level', mu=0.5, sigma=0.5)\n",
    "\n",
    "    #     initial_trend = pm.Normal(f'initial_trend', mu=0, sigma=100)\n",
    "#         initial_trend = pm.Uniform(f'initial_trend', lower=-1000, upper=1000)\n",
    "        initial_trend = pm.Uniform(f'initial_trend', lower=-initial_lvl_upper/2, upper=initial_lvl_upper/2)\n",
    "        \n",
    "        smoothing_trend_mu = pm.Uniform('smoothing_trend_mu', lower=0, upper=1)\n",
    "        smoothing_trend_sigma = pm.HalfCauchy('smoothing_trend_sigma', beta=0.5)\n",
    "        smoothing_trend = pm.TruncatedNormal('smoothing_trend', mu=smoothing_trend_mu, sigma=smoothing_trend_sigma, lower=0, upper=1, shape=(df_prep.zone_id.nunique()))\n",
    "#         smoothing_trend = pm.Uniform('smoothing_trend', lower=0, upper=1)\n",
    "    #     smoothing_trend = pm.Normal('smoothing_trend', mu=0.5, sigma=0.5)\n",
    "    \n",
    "        \n",
    "        # \n",
    "        initial_szns_mus = pm.Normal('initial_szns_mus', mu=1.0, sigma=0.2, shape=(szn_len))\n",
    "        initial_szns = pm.Normal('initial_szns', mu=initial_szns_mus, sigma=0.2, shape=(df_prep.zone_id.nunique(), szn_len))\n",
    "    #     initial_szns = pm.Uniform('initial_szns', lower=0.7, upper=1.3, shape=(szn_len))\n",
    "    #     smoothing_season = pm.Uniform('smoothing_season', lower=0, upper=1)\n",
    "    #     smoothing_season = pm.Uniform('smoothing_season', lower=0, upper=1)\n",
    "    #     smoothing_season = pm.Uniform('smoothing_season', lower=0, upper=1-smoothing_level)\n",
    "        smoothing_season_mu = pm.Uniform('smoothing_season_mu', lower=0, upper=1)\n",
    "        smoothing_season_sigma = pm.HalfCauchy('smoothing_season_sigma', beta=0.5)\n",
    "        smoothing_season = pm.TruncatedNormal('smoothing_season', mu=smoothing_season_mu, sigma=smoothing_season_sigma, lower=0, upper=1, shape=(df_prep.zone_id.nunique()))\n",
    "#         smoothing_season = pm.TruncatedNormal('smoothing_season', mu=0.2, sigma=0.5, lower=0, upper=0.8)\n",
    "    #     smoothing_season = pm.Normal('smoothing_season', mu=0.5, sigma=0.5)\n",
    "\n",
    "        ys = tt.as_tensor_variable(zdf['y_obs'])\n",
    "        is_covid_start = tt.as_tensor_variable(zdf['covid_start_m1'])\n",
    "    #     covid_level_change = pm.Normal('covid_level_change', mu=15000, sigma=2000)\n",
    "        covid_level_change = pm.Uniform('covid_level_change', lower=0, upper=5000)\n",
    "#         covid_level_change = pm.Normal('covid_level_change', mu=2000, sigma=1000)\n",
    "    #     covid_level_change2 = pm.Normal('covid_level_change2', mu=20000, sigma=2000)\n",
    "        covid_level_change2 = pm.Uniform('covid_level_change2', lower=0, upper=5000)\n",
    "    #     covid_level_change2 = pm.Normal('covid_level_change2', mu=covid_level_change, sigma=1000)\n",
    "    #     covid_level_change2 = pm.Normal('covid_level_change2', mu=covid_level_change, sigma=1000)\n",
    "\n",
    "        def hw_component_wise(y, covid_start, prior_level, prior_trend, szn_m52):\n",
    "            updated_szn = smoothing_season * y / (prior_level + prior_trend) + (1 - smoothing_season) * szn_m52\n",
    "\n",
    "\n",
    "            next_level = smoothing_level * (y/szn_m52) + (1 - smoothing_level)*(prior_level + prior_trend) + covid_start*covid_level_change\n",
    "            next_trend = smoothing_trend * (next_level - prior_level) + (1 - smoothing_trend)*prior_trend - covid_start*smoothing_trend*covid_level_change2\n",
    "\n",
    "\n",
    "            return next_level, next_trend, updated_szn\n",
    "\n",
    "        # pass initial_level[zone_idx], initial_trend[zone_idx], initial_szns[zone_idx] etc\n",
    "        # should the scan be wrapped in a scan too??\n",
    "            # the outer scan would loop through each zone and pass each zone's initial params and data to the inner scan that calls hw_component_wise\n",
    "        outputs, updates = theano.scan(hw_component_wise,\n",
    "               sequences = [\n",
    "                   ys[1:],\n",
    "#                    ys[szn_len:],\n",
    "                   is_covid_start[1:]\n",
    "#                    is_covid_start[szn_len:]\n",
    "        #            post_covid[szn_len:]\n",
    "               ],\n",
    "               outputs_info = [\n",
    "                   dict(initial = initial_level, taps=None),\n",
    "                   dict(initial = initial_trend, taps=None),\n",
    "                   dict(initial = initial_szns, taps=[-szn_len])\n",
    "               ], \n",
    "        #            non_sequences = \n",
    "               )\n",
    "\n",
    "\n",
    "        levels = outputs[0]\n",
    "        trends = outputs[1]\n",
    "        seasons = outputs[2]\n",
    "\n",
    "\n",
    "        levels_f = pm.math.concatenate([initial_level.reshape(1,1), levels[:-1]])\n",
    "        trends_f = pm.math.concatenate([initial_trend.reshape(1,1), trends[:-1]])\n",
    "        seasons_f = pm.math.concatenate([initial_szns, seasons[:-szn_len]])\n",
    "\n",
    "        levels_and_trends = pm.math.stack([levels_f, trends_f])\n",
    "        level_plus_trend = levels_and_trends.sum(axis=0)\n",
    "\n",
    "        level_plus_trend_and_seasons = pm.math.stack([level_plus_trend, seasons_f])\n",
    "        y_hats = level_plus_trend_and_seasons.prod(axis=0)\n",
    "\n",
    "        sig = pm.HalfCauchy('sigma', beta=10)\n",
    "#         y_like = pm.Normal('y_like', mu=y_hats, sigma=sig, observed=zdf.iloc[szn_len-1:-1, :]['y_obs_lag-1'])\n",
    "        y_like = pm.Normal('y_like', mu=y_hats, sigma=sig, observed=zdf.iloc[:-1, :]['y_obs_lag-1'])\n",
    "        \n",
    "    map_estimate = pm.find_MAP(model=hw_model)\n",
    "    \n",
    "    return map_estimate, ys, is_covid_start"
   ]
  },
  {
   "cell_type": "code",
   "execution_count": null,
   "id": "2e3a3ac7",
   "metadata": {},
   "outputs": [],
   "source": []
  },
  {
   "cell_type": "code",
   "execution_count": null,
   "id": "76a0b337",
   "metadata": {},
   "outputs": [],
   "source": []
  },
  {
   "cell_type": "code",
   "execution_count": null,
   "id": "20128c71",
   "metadata": {},
   "outputs": [],
   "source": []
  },
  {
   "cell_type": "code",
   "execution_count": null,
   "id": "1bed036e",
   "metadata": {},
   "outputs": [],
   "source": [
    "### dampened\n",
    "\n",
    "# when training, should we train on the horizon of interest?"
   ]
  },
  {
   "cell_type": "code",
   "execution_count": null,
   "id": "cdc0a236",
   "metadata": {},
   "outputs": [],
   "source": [
    "def fit_hw_model(zdf, initial_lvl_upper):\n",
    "    szn_len = 52\n",
    "\n",
    "    with pm.Model() as hw_model:\n",
    "    #     initial_level = pm.Normal(f'initial_level', mu=3000, sigma=400)\n",
    "#         initial_level = pm.Uniform(f'initial_level', lower=0, upper=5000)\n",
    "        initial_level = pm.Uniform(f'initial_level', lower=0, upper=initial_lvl_upper)\n",
    "        smoothing_level = pm.Uniform('smoothing_level', lower=0, upper=1)\n",
    "#         smoothing_level = pm.Normal('smoothing_level', mu=0.5, sigma=0.5)\n",
    "\n",
    "    #     initial_trend = pm.Normal(f'initial_trend', mu=0, sigma=100)\n",
    "#         initial_trend = pm.Uniform(f'initial_trend', lower=-1000, upper=1000)\n",
    "        initial_trend = pm.Uniform(f'initial_trend', lower=-initial_lvl_upper/2, upper=initial_lvl_upper/2)\n",
    "        smoothing_trend = pm.Uniform('smoothing_trend', lower=0, upper=1)\n",
    "    #     smoothing_trend = pm.Normal('smoothing_trend', mu=0.5, sigma=0.5)\n",
    "\n",
    "        initial_szns = pm.Normal('initial_szns', mu=1.0, sigma=0.2, shape=(szn_len))\n",
    "    #     initial_szns = pm.Uniform('initial_szns', lower=0.7, upper=1.3, shape=(szn_len))\n",
    "    #     smoothing_season = pm.Uniform('smoothing_season', lower=0, upper=1)\n",
    "    #     smoothing_season = pm.Uniform('smoothing_season', lower=0, upper=1)\n",
    "    #     smoothing_season = pm.Uniform('smoothing_season', lower=0, upper=1-smoothing_level)\n",
    "        smoothing_season = pm.TruncatedNormal('smoothing_season', mu=0.2, sigma=0.5, lower=0, upper=0.8)\n",
    "    #     smoothing_season = pm.Normal('smoothing_season', mu=0.5, sigma=0.5)\n",
    "    \n",
    "        dampener = pm.Uniform('dampener', lower=0, upper=1)\n",
    "\n",
    "        ys = tt.as_tensor_variable(zdf['y_obs'])\n",
    "        is_covid_start = tt.as_tensor_variable(zdf['covid_start_m1'])\n",
    "    #     covid_level_change = pm.Normal('covid_level_change', mu=15000, sigma=2000)\n",
    "        covid_level_change = pm.Uniform('covid_level_change', lower=0, upper=5000)\n",
    "#         covid_level_change = pm.Normal('covid_level_change', mu=2000, sigma=1000)\n",
    "    #     covid_level_change2 = pm.Normal('covid_level_change2', mu=20000, sigma=2000)\n",
    "        covid_level_change2 = pm.Uniform('covid_level_change2', lower=0, upper=5000)\n",
    "    #     covid_level_change2 = pm.Normal('covid_level_change2', mu=covid_level_change, sigma=1000)\n",
    "    #     covid_level_change2 = pm.Normal('covid_level_change2', mu=covid_level_change, sigma=1000)\n",
    "\n",
    "        def hw_component_wise(y, covid_start, prior_level, prior_trend, szn_m52):\n",
    "            updated_szn = smoothing_season * y / (prior_level + dampener*prior_trend) + (1 - smoothing_season) * szn_m52\n",
    "\n",
    "\n",
    "            next_level = smoothing_level * (y/szn_m52) + (1 - smoothing_level)*(prior_level + dampener*prior_trend) + covid_start*covid_level_change\n",
    "            next_trend = smoothing_trend * (next_level - prior_level) + (1 - smoothing_trend)*dampener*prior_trend - covid_start*smoothing_trend*covid_level_change2\n",
    "\n",
    "\n",
    "            return next_level, next_trend, updated_szn\n",
    "\n",
    "        outputs, updates = theano.scan(hw_component_wise,\n",
    "               sequences = [\n",
    "                   ys[1:],\n",
    "#                    ys[szn_len:],\n",
    "                   is_covid_start[1:]\n",
    "#                    is_covid_start[szn_len:]\n",
    "        #            post_covid[szn_len:]\n",
    "               ],\n",
    "               outputs_info = [\n",
    "                   dict(initial = initial_level, taps=None),\n",
    "                   dict(initial = initial_trend, taps=None),\n",
    "                   dict(initial = initial_szns, taps=[-szn_len])\n",
    "               ], \n",
    "        #            non_sequences = \n",
    "               )\n",
    "\n",
    "\n",
    "        levels = outputs[0]\n",
    "        trends = outputs[1]\n",
    "        seasons = outputs[2]\n",
    "\n",
    "\n",
    "        levels_f = pm.math.concatenate([initial_level.reshape(1,1), levels[:-1]])\n",
    "        trends_f = pm.math.concatenate([initial_trend.reshape(1,1), trends[:-1]])\n",
    "        trends_f = trends_f * dampener ### pm.math.prod here?\n",
    "        seasons_f = pm.math.concatenate([initial_szns, seasons[:-szn_len]])\n",
    "\n",
    "        levels_and_trends = pm.math.stack([levels_f, trends_f])\n",
    "        level_plus_trend = levels_and_trends.sum(axis=0)\n",
    "\n",
    "        level_plus_trend_and_seasons = pm.math.stack([level_plus_trend, seasons_f])\n",
    "        y_hats = level_plus_trend_and_seasons.prod(axis=0)\n",
    "\n",
    "        sig = pm.HalfCauchy('sigma', beta=10)\n",
    "#         y_like = pm.Normal('y_like', mu=y_hats, sigma=sig, observed=zdf.iloc[szn_len-1:-1, :]['y_obs_lag-1'])\n",
    "        y_like = pm.Normal('y_like', mu=y_hats, sigma=sig, observed=zdf.iloc[:-1, :]['y_obs_lag-1'])\n",
    "        \n",
    "    map_estimate = pm.find_MAP(model=hw_model)\n",
    "    \n",
    "    return map_estimate, ys, is_covid_start"
   ]
  }
 ],
 "metadata": {
  "kernelspec": {
   "display_name": "Python 3",
   "language": "python",
   "name": "python3"
  },
  "language_info": {
   "codemirror_mode": {
    "name": "ipython",
    "version": 3
   },
   "file_extension": ".py",
   "mimetype": "text/x-python",
   "name": "python",
   "nbconvert_exporter": "python",
   "pygments_lexer": "ipython3",
   "version": "3.8.6"
  }
 },
 "nbformat": 4,
 "nbformat_minor": 5
}
