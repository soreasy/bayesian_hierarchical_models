{
 "cells": [
  {
   "cell_type": "code",
   "execution_count": 2,
   "id": "7d24ca29",
   "metadata": {},
   "outputs": [],
   "source": [
    "import pymc3 as pm\n",
    "import theano\n",
    "import theano.tensor as tt\n",
    "\n",
    "import pandas as pd\n",
    "import numpy as np\n",
    "from datetime import datetime, timedelta, date\n",
    "\n",
    "import seaborn as sns\n",
    "\n",
    "import matplotlib.pyplot as plt\n",
    "import matplotlib.style as style\n",
    "style.use('ggplot')"
   ]
  },
  {
   "cell_type": "code",
   "execution_count": 320,
   "id": "f6a04dd0",
   "metadata": {},
   "outputs": [
    {
     "data": {
      "text/html": [
       "<div>\n",
       "<style scoped>\n",
       "    .dataframe tbody tr th:only-of-type {\n",
       "        vertical-align: middle;\n",
       "    }\n",
       "\n",
       "    .dataframe tbody tr th {\n",
       "        vertical-align: top;\n",
       "    }\n",
       "\n",
       "    .dataframe thead th {\n",
       "        text-align: right;\n",
       "    }\n",
       "</style>\n",
       "<table border=\"1\" class=\"dataframe\">\n",
       "  <thead>\n",
       "    <tr style=\"text-align: right;\">\n",
       "      <th></th>\n",
       "      <th>zone_id</th>\n",
       "      <th>date</th>\n",
       "      <th>total_demand_new</th>\n",
       "      <th>total_demand_new_lag1</th>\n",
       "      <th>total_demand_new_lag2</th>\n",
       "      <th>total_demand_new_lag3</th>\n",
       "      <th>total_demand_new_lag-1</th>\n",
       "      <th>total_demand_new_lag-2</th>\n",
       "      <th>total_demand_new_lag-3</th>\n",
       "      <th>smoothed_total_demand</th>\n",
       "      <th>year</th>\n",
       "      <th>total_demand_new_lag4</th>\n",
       "      <th>t4w_total_demand</th>\n",
       "      <th>month</th>\n",
       "      <th>week</th>\n",
       "      <th>day</th>\n",
       "      <th>t4w_total_demand_lag2</th>\n",
       "      <th>szn_factor</th>\n",
       "    </tr>\n",
       "    <tr>\n",
       "      <th>date_idx</th>\n",
       "      <th></th>\n",
       "      <th></th>\n",
       "      <th></th>\n",
       "      <th></th>\n",
       "      <th></th>\n",
       "      <th></th>\n",
       "      <th></th>\n",
       "      <th></th>\n",
       "      <th></th>\n",
       "      <th></th>\n",
       "      <th></th>\n",
       "      <th></th>\n",
       "      <th></th>\n",
       "      <th></th>\n",
       "      <th></th>\n",
       "      <th></th>\n",
       "      <th></th>\n",
       "      <th></th>\n",
       "    </tr>\n",
       "  </thead>\n",
       "  <tbody>\n",
       "    <tr>\n",
       "      <th>2017-07-10</th>\n",
       "      <td>1</td>\n",
       "      <td>2017-07-10</td>\n",
       "      <td>2156.459303</td>\n",
       "      <td>NaN</td>\n",
       "      <td>NaN</td>\n",
       "      <td>NaN</td>\n",
       "      <td>2110.494687</td>\n",
       "      <td>2194.632691</td>\n",
       "      <td>2186.039578</td>\n",
       "      <td>NaN</td>\n",
       "      <td>2017</td>\n",
       "      <td>NaN</td>\n",
       "      <td>NaN</td>\n",
       "      <td>7</td>\n",
       "      <td>28</td>\n",
       "      <td>10</td>\n",
       "      <td>NaN</td>\n",
       "      <td>NaN</td>\n",
       "    </tr>\n",
       "    <tr>\n",
       "      <th>2017-07-10</th>\n",
       "      <td>597</td>\n",
       "      <td>2017-07-10</td>\n",
       "      <td>0.000000</td>\n",
       "      <td>NaN</td>\n",
       "      <td>NaN</td>\n",
       "      <td>NaN</td>\n",
       "      <td>0.000000</td>\n",
       "      <td>0.000000</td>\n",
       "      <td>0.000000</td>\n",
       "      <td>NaN</td>\n",
       "      <td>2017</td>\n",
       "      <td>NaN</td>\n",
       "      <td>NaN</td>\n",
       "      <td>7</td>\n",
       "      <td>28</td>\n",
       "      <td>10</td>\n",
       "      <td>NaN</td>\n",
       "      <td>NaN</td>\n",
       "    </tr>\n",
       "  </tbody>\n",
       "</table>\n",
       "</div>"
      ],
      "text/plain": [
       "            zone_id        date  total_demand_new  total_demand_new_lag1  \\\n",
       "date_idx                                                                   \n",
       "2017-07-10        1  2017-07-10       2156.459303                    NaN   \n",
       "2017-07-10      597  2017-07-10          0.000000                    NaN   \n",
       "\n",
       "            total_demand_new_lag2  total_demand_new_lag3  \\\n",
       "date_idx                                                   \n",
       "2017-07-10                    NaN                    NaN   \n",
       "2017-07-10                    NaN                    NaN   \n",
       "\n",
       "            total_demand_new_lag-1  total_demand_new_lag-2  \\\n",
       "date_idx                                                     \n",
       "2017-07-10             2110.494687             2194.632691   \n",
       "2017-07-10                0.000000                0.000000   \n",
       "\n",
       "            total_demand_new_lag-3  smoothed_total_demand  year  \\\n",
       "date_idx                                                          \n",
       "2017-07-10             2186.039578                    NaN  2017   \n",
       "2017-07-10                0.000000                    NaN  2017   \n",
       "\n",
       "            total_demand_new_lag4  t4w_total_demand  month  week  day  \\\n",
       "date_idx                                                                \n",
       "2017-07-10                    NaN               NaN      7    28   10   \n",
       "2017-07-10                    NaN               NaN      7    28   10   \n",
       "\n",
       "            t4w_total_demand_lag2  szn_factor  \n",
       "date_idx                                       \n",
       "2017-07-10                    NaN         NaN  \n",
       "2017-07-10                    NaN         NaN  "
      ]
     },
     "execution_count": 320,
     "metadata": {},
     "output_type": "execute_result"
    }
   ],
   "source": [
    "df = pd.read_csv('weekly_dmd_new.csv')\n",
    "df['date'] = pd.to_datetime(df.date).apply(lambda x: x.date())\n",
    "df = df.set_index(df.date)\n",
    "df.index.rename('date_idx', inplace=True)\n",
    "df.head(2)"
   ]
  },
  {
   "cell_type": "code",
   "execution_count": 321,
   "id": "b46904fa",
   "metadata": {},
   "outputs": [],
   "source": [
    "covid_start_idx = date(2020,2,17)\n",
    "\n",
    "df_prep = df.loc[(df.date < covid_start_idx)\n",
    "                | (df.date >= covid_start_idx + timedelta(weeks=52))].sort_values('date')\n",
    "\n",
    "df_prep['y_obs'] = df_prep.total_demand_new\n",
    "# df_prep['y_obs'] = df_prep.smoothed_total_demand\n",
    "df_prep['covid_start_m1'] = df_prep.date.apply(lambda x: 1.0 if x == covid_start_idx - timedelta(weeks=1) else 0)"
   ]
  },
  {
   "cell_type": "code",
   "execution_count": null,
   "id": "dfda799e",
   "metadata": {},
   "outputs": [],
   "source": [
    "# [] remove first X (3?) weeks for each zone?\n",
    "# [] how to align ish\n",
    "    # should be aligned temporally\n",
    "    # can access the season estimates based on time t then?\n",
    "    # will have to do a theano.scan for each of the zones -- for zones that started after the oldest zone, do they not get initial seasons then? are their initial seasons just the 52 prior \n",
    "\n",
    "# maybe initial level and initial trend can be unique to each zone, but other params come from a shared distribution\n",
    "\n",
    "# so the \"parent\" distribution for initial szns should be ordered/accessed based on time\n",
    "\n",
    "# so s'pose we have\n",
    "# szn_len = 4\n",
    "#  t: 0,1,2,3,4,5,...\n",
    "# z1: 3,4,8,2,5,6,...\n",
    "# z2: _,_,_,1,3,4,...\n",
    "\n",
    "# initial_szns = s1,s2,s3,s4\n",
    "\n",
    "# the first non-zero entry for z2 is the 4th season\n",
    "# so the initial_szns passed to z2's theano.scan should be ordered as [s4,s1,s2,s3]\n",
    "\n",
    "# s1_mu ~ Uniform[0,1]\n",
    "# s1_sigma ~ HalfCauchy(0.5)\n",
    "# s1_mu_z1 ~ TruncatedNormal(s1_mu, s1_sigma, upper=1, lower=0)\n"
   ]
  },
  {
   "cell_type": "code",
   "execution_count": null,
   "id": "e9b7f3dd",
   "metadata": {},
   "outputs": [],
   "source": [
    "zone_list = dd.zone_id.unique()\n",
    "dd['zone_idx'] = dd.zone_id.apply(lambda x: np.where(zone_list == x)[0][0])\n",
    "\n",
    "# does this need to be mapped to [0,len(dd.zone_id.unique())-1] ? seems yes\n",
    "zone_idx = dd.zone_idx.values"
   ]
  },
  {
   "cell_type": "code",
   "execution_count": null,
   "id": "d7000d50",
   "metadata": {},
   "outputs": [],
   "source": [
    "df_prep"
   ]
  },
  {
   "cell_type": "code",
   "execution_count": 105,
   "id": "4ff8d3b1",
   "metadata": {},
   "outputs": [],
   "source": [
    "def fit_hw_model(zdf, initial_lvl_upper):\n",
    "    szn_len = 52\n",
    "\n",
    "    with pm.Model() as hw_model:\n",
    "    #     initial_level = pm.Normal(f'initial_level', mu=3000, sigma=400)\n",
    "#         initial_level = pm.Uniform(f'initial_level', lower=0, upper=5000)\n",
    "        initial_level = pm.Uniform(f'initial_level', lower=0, upper=initial_lvl_upper, shape=(df_prep.zone_id.nunique()))\n",
    "    \n",
    "        smoothing_level_mu = pm.Uniform('smoothing_level_mu', lower=0, upper=1)\n",
    "        smoothing_level_sigma = pm.HalfCauchy('smoothing_level_sigma', beta=0.5)\n",
    "        smoothing_level = pm.TruncatedNormal('smoothing_level', mu=smoothing_level_mu, sigma=smoothing_level_sigma, lower=0, upper=1, shape=(df_prep.zone_id.nunique()))\n",
    "#         smoothing_level = pm.Normal('smoothing_level', mu=0.5, sigma=0.5)\n",
    "\n",
    "    #     initial_trend = pm.Normal(f'initial_trend', mu=0, sigma=100)\n",
    "#         initial_trend = pm.Uniform(f'initial_trend', lower=-1000, upper=1000)\n",
    "        initial_trend = pm.Uniform(f'initial_trend', lower=-initial_lvl_upper/2, upper=initial_lvl_upper/2)\n",
    "        \n",
    "        smoothing_trend_mu = pm.Uniform('smoothing_trend_mu', lower=0, upper=1)\n",
    "        smoothing_trend_sigma = pm.HalfCauchy('smoothing_trend_sigma', beta=0.5)\n",
    "        smoothing_trend = pm.TruncatedNormal('smoothing_trend', mu=smoothing_trend_mu, sigma=smoothing_trend_sigma, lower=0, upper=1, shape=(df_prep.zone_id.nunique()))\n",
    "#         smoothing_trend = pm.Uniform('smoothing_trend', lower=0, upper=1)\n",
    "    #     smoothing_trend = pm.Normal('smoothing_trend', mu=0.5, sigma=0.5)\n",
    "    \n",
    "        \n",
    "        # \n",
    "        initial_szns_mus = pm.Normal('initial_szns_mus', mu=1.0, sigma=0.2, shape=(szn_len))\n",
    "        initial_szns = pm.Normal('initial_szns', mu=initial_szns_mus, sigma=0.2, shape=(df_prep.zone_id.nunique(), szn_len))\n",
    "    #     initial_szns = pm.Uniform('initial_szns', lower=0.7, upper=1.3, shape=(szn_len))\n",
    "    #     smoothing_season = pm.Uniform('smoothing_season', lower=0, upper=1)\n",
    "    #     smoothing_season = pm.Uniform('smoothing_season', lower=0, upper=1)\n",
    "    #     smoothing_season = pm.Uniform('smoothing_season', lower=0, upper=1-smoothing_level)\n",
    "        smoothing_season_mu = pm.Uniform('smoothing_season_mu', lower=0, upper=1)\n",
    "        smoothing_season_sigma = pm.HalfCauchy('smoothing_season_sigma', beta=0.5)\n",
    "        smoothing_season = pm.TruncatedNormal('smoothing_season', mu=smoothing_season_mu, sigma=smoothing_season_sigma, lower=0, upper=1, shape=(df_prep.zone_id.nunique()))\n",
    "#         smoothing_season = pm.TruncatedNormal('smoothing_season', mu=0.2, sigma=0.5, lower=0, upper=0.8)\n",
    "    #     smoothing_season = pm.Normal('smoothing_season', mu=0.5, sigma=0.5)\n",
    "\n",
    "        ys = tt.as_tensor_variable(zdf['y_obs'])\n",
    "        is_covid_start = tt.as_tensor_variable(zdf['covid_start_m1'])\n",
    "    #     covid_level_change = pm.Normal('covid_level_change', mu=15000, sigma=2000)\n",
    "        covid_level_change = pm.Uniform('covid_level_change', lower=0, upper=5000)\n",
    "#         covid_level_change = pm.Normal('covid_level_change', mu=2000, sigma=1000)\n",
    "    #     covid_level_change2 = pm.Normal('covid_level_change2', mu=20000, sigma=2000)\n",
    "        covid_level_change2 = pm.Uniform('covid_level_change2', lower=0, upper=5000)\n",
    "    #     covid_level_change2 = pm.Normal('covid_level_change2', mu=covid_level_change, sigma=1000)\n",
    "    #     covid_level_change2 = pm.Normal('covid_level_change2', mu=covid_level_change, sigma=1000)\n",
    "\n",
    "        def hw_component_wise(y, covid_start, prior_level, prior_trend, szn_m52):\n",
    "            updated_szn = smoothing_season * y / (prior_level + prior_trend) + (1 - smoothing_season) * szn_m52\n",
    "\n",
    "\n",
    "            next_level = smoothing_level * (y/szn_m52) + (1 - smoothing_level)*(prior_level + prior_trend) + covid_start*covid_level_change\n",
    "            next_trend = smoothing_trend * (next_level - prior_level) + (1 - smoothing_trend)*prior_trend - covid_start*smoothing_trend*covid_level_change2\n",
    "\n",
    "\n",
    "            return next_level, next_trend, updated_szn\n",
    "\n",
    "        # pass initial_level[zone_idx], initial_trend[zone_idx], initial_szns[zone_idx] etc\n",
    "        # should the scan be wrapped in a scan too??\n",
    "            # the outer scan would loop through each zone and pass each zone's initial params and data to the inner scan that calls hw_component_wise\n",
    "        outputs, updates = theano.scan(hw_component_wise,\n",
    "               sequences = [\n",
    "                   ys[1:],\n",
    "#                    ys[szn_len:],\n",
    "                   is_covid_start[1:]\n",
    "#                    is_covid_start[szn_len:]\n",
    "        #            post_covid[szn_len:]\n",
    "               ],\n",
    "               outputs_info = [\n",
    "                   dict(initial = initial_level, taps=None),\n",
    "                   dict(initial = initial_trend, taps=None),\n",
    "                   dict(initial = initial_szns, taps=[-szn_len])\n",
    "               ], \n",
    "        #            non_sequences = \n",
    "               )\n",
    "\n",
    "\n",
    "        levels = outputs[0]\n",
    "        trends = outputs[1]\n",
    "        seasons = outputs[2]\n",
    "\n",
    "\n",
    "        levels_f = pm.math.concatenate([initial_level.reshape(1,1), levels[:-1]])\n",
    "        trends_f = pm.math.concatenate([initial_trend.reshape(1,1), trends[:-1]])\n",
    "        seasons_f = pm.math.concatenate([initial_szns, seasons[:-szn_len]])\n",
    "\n",
    "        levels_and_trends = pm.math.stack([levels_f, trends_f])\n",
    "        level_plus_trend = levels_and_trends.sum(axis=0)\n",
    "\n",
    "        level_plus_trend_and_seasons = pm.math.stack([level_plus_trend, seasons_f])\n",
    "        y_hats = level_plus_trend_and_seasons.prod(axis=0)\n",
    "\n",
    "        sig = pm.HalfCauchy('sigma', beta=10)\n",
    "#         y_like = pm.Normal('y_like', mu=y_hats, sigma=sig, observed=zdf.iloc[szn_len-1:-1, :]['y_obs_lag-1'])\n",
    "        y_like = pm.Normal('y_like', mu=y_hats, sigma=sig, observed=zdf.iloc[:-1, :]['y_obs_lag-1'])\n",
    "        \n",
    "    map_estimate = pm.find_MAP(model=hw_model)\n",
    "    \n",
    "    return map_estimate, ys, is_covid_start"
   ]
  },
  {
   "cell_type": "code",
   "execution_count": 1017,
   "id": "0b023904",
   "metadata": {},
   "outputs": [
    {
     "data": {
      "text/plain": [
       "472"
      ]
     },
     "execution_count": 1017,
     "metadata": {},
     "output_type": "execute_result"
    }
   ],
   "source": [
    "df_prep.zone_id.nunique()"
   ]
  },
  {
   "cell_type": "code",
   "execution_count": 1018,
   "id": "5d623b33",
   "metadata": {
    "collapsed": true
   },
   "outputs": [
    {
     "name": "stderr",
     "output_type": "stream",
     "text": [
      "<ipython-input-1018-827fafaf684c>:23: SettingWithCopyWarning: \n",
      "A value is trying to be set on a copy of a slice from a DataFrame.\n",
      "Try using .loc[row_indexer,col_indexer] = value instead\n",
      "\n",
      "See the caveats in the documentation: https://pandas.pydata.org/pandas-docs/stable/user_guide/indexing.html#returning-a-view-versus-a-copy\n",
      "  d2['zone_idx'] = d2.zone_id.apply(lambda x: np.where(zone_list == x)[0][0])\n",
      "/Users/sorenzeliger/.pyenv/versions/3.8.6/lib/python3.8/site-packages/pandas/core/indexing.py:1599: SettingWithCopyWarning: \n",
      "A value is trying to be set on a copy of a slice from a DataFrame.\n",
      "Try using .loc[row_indexer,col_indexer] = value instead\n",
      "\n",
      "See the caveats in the documentation: https://pandas.pydata.org/pandas-docs/stable/user_guide/indexing.html#returning-a-view-versus-a-copy\n",
      "  self.obj[key] = infer_fill_value(value)\n",
      "/Users/sorenzeliger/.pyenv/versions/3.8.6/lib/python3.8/site-packages/pandas/core/indexing.py:1720: SettingWithCopyWarning: \n",
      "A value is trying to be set on a copy of a slice from a DataFrame.\n",
      "Try using .loc[row_indexer,col_indexer] = value instead\n",
      "\n",
      "See the caveats in the documentation: https://pandas.pydata.org/pandas-docs/stable/user_guide/indexing.html#returning-a-view-versus-a-copy\n",
      "  self._setitem_single_column(loc, value, pi)\n",
      "/Users/sorenzeliger/.pyenv/versions/3.8.6/lib/python3.8/site-packages/pandas/core/series.py:4463: SettingWithCopyWarning: \n",
      "A value is trying to be set on a copy of a slice from a DataFrame\n",
      "\n",
      "See the caveats in the documentation: https://pandas.pydata.org/pandas-docs/stable/user_guide/indexing.html#returning-a-view-versus-a-copy\n",
      "  return super().fillna(\n"
     ]
    }
   ],
   "source": [
    "### prep data full\n",
    "\n",
    "zz = [18,  307,  438,  266,   90,  541,  272,  692,  475,  348,  273,\n",
    "        178,  495,  694,  190,  707,  161,  521,  452,  489,  785,  942,\n",
    "        972,  861,  973,  943,  975,  981,  974, 1002,  983, 1001,  839,\n",
    "        714,    1,  783,  989,  787,   79,  945,  169,   37,  186,   76,\n",
    "        620,  441,   32,  184,  477,  357,  530,  616,  167,  617,  437,\n",
    "         38,  166, 1029,  428,  853,   43,   16,  982,  713,  988,  262,\n",
    "        840,  144,  709,  181,  204,  440,  225,  245,  185,  104,  182,\n",
    "        103,  439,   50,  946,  980,   27,  979,  183,  786,  131,   33,\n",
    "        392,   87]\n",
    "\n",
    "f_date = date(2021,4,26)\n",
    "\n",
    "# d2 = df_prep.loc[df_prep.zone_id.isin([1,13])]\n",
    "d2 = df_prep.loc[\n",
    "    (df_prep.date < f_date)\n",
    "#     & (df_prep.zone_id.isin(zz))\n",
    "]\n",
    "# d2 = df_prep.loc[df_prep.zone_id.isin([1,13,18,975,785])]\n",
    "\n",
    "zone_list = d2.zone_id.unique()\n",
    "d2['zone_idx'] = d2.zone_id.apply(lambda x: np.where(zone_list == x)[0][0])\n",
    "# does this need to be mapped to [0,len(dd.zone_id.unique())-1] ? seems yes\n",
    "zone_idx = d2.zone_idx.values\n",
    "\n",
    "d2.loc[d2.y_obs > 0, 'data_start'] = 1\n",
    "d2.data_start.fillna(0, inplace=True)\n",
    "\n",
    "szn_len = 52\n",
    "ys_list, is_covid_start_list, y_obs_lagm1_list, initial_lvl_upper_list, data_start_list =  [], [], [], [], []\n",
    "\n",
    "for z_idx in np.unique(zone_idx):\n",
    "    zdf = d2.loc[d2.zone_idx == z_idx].sort_values('date')\n",
    "    z_id = zdf.zone_id.unique().item()\n",
    "    \n",
    "    pad_df = pd.DataFrame(columns = zdf.columns)\n",
    "    pad_df.loc[0, 'zone_id'] = z_id\n",
    "    pad_df.loc[0, 'zone_idx'] = z_idx\n",
    "    zdf = pd.concat([pad_df, zdf])\n",
    "    zdf['y_obs_lag-1'] = zdf.y_obs.shift(-1)\n",
    "    initial_lvl_upper = zdf.loc[zdf.y_obs > 0].head()['y_obs_lag-1'].max()\n",
    "    \n",
    "    ys_list.append(zdf['y_obs'].tolist())\n",
    "    y_obs_lagm1_list.append(zdf['y_obs_lag-1'].tolist())\n",
    "    is_covid_start_list.append(zdf['covid_start_m1'].tolist())\n",
    "    initial_lvl_upper_list.append(initial_lvl_upper)\n",
    "    data_start_list.append(zdf['data_start'].tolist())\n",
    "#     first_t_list.append(zdf.t.min())"
   ]
  },
  {
   "cell_type": "code",
   "execution_count": 327,
   "id": "cab31a78",
   "metadata": {},
   "outputs": [],
   "source": [
    "# let's test that we can do the hierarchical scanning business\n",
    "szn_len = 4\n",
    "d = pd.DataFrame({'zone_id': [1,1,1,1,1,1,1,1,1,2,2,2,2,2,2,2,2,2],\n",
    "#                   'y_obs': [1,2,3,4,2,3,4,5,3,1,2,3,4,1],\n",
    "                  'y_obs': [1,2,3,4,2,3,4,5,3,0,0,0,0,1,2,3,4,1],\n",
    "                  't': [1,2,3,4,5,6,7,8,9,1,2,3,4,5,6,7,8,9]})"
   ]
  },
  {
   "cell_type": "code",
   "execution_count": 338,
   "id": "33fbebfb",
   "metadata": {},
   "outputs": [],
   "source": [
    "zone_list = d.zone_id.unique()\n",
    "d['zone_idx'] = d.zone_id.apply(lambda x: np.where(zone_list == x)[0][0])\n",
    "d['covid_start_m1'] = d.t.apply(lambda x: 1 if x == 7 else 0)\n",
    "d['date'] = d.t\n",
    "\n",
    "# does this need to be mapped to [0,len(dd.zone_id.unique())-1] ? seems yes\n",
    "zone_idx = d.zone_idx.values"
   ]
  },
  {
   "cell_type": "code",
   "execution_count": 339,
   "id": "9c2a61df",
   "metadata": {
    "collapsed": true
   },
   "outputs": [
    {
     "data": {
      "text/html": [
       "<div>\n",
       "<style scoped>\n",
       "    .dataframe tbody tr th:only-of-type {\n",
       "        vertical-align: middle;\n",
       "    }\n",
       "\n",
       "    .dataframe tbody tr th {\n",
       "        vertical-align: top;\n",
       "    }\n",
       "\n",
       "    .dataframe thead th {\n",
       "        text-align: right;\n",
       "    }\n",
       "</style>\n",
       "<table border=\"1\" class=\"dataframe\">\n",
       "  <thead>\n",
       "    <tr style=\"text-align: right;\">\n",
       "      <th></th>\n",
       "      <th>zone_id</th>\n",
       "      <th>y_obs</th>\n",
       "      <th>t</th>\n",
       "      <th>zone_idx</th>\n",
       "      <th>covid_start_m1</th>\n",
       "      <th>date</th>\n",
       "    </tr>\n",
       "  </thead>\n",
       "  <tbody>\n",
       "    <tr>\n",
       "      <th>0</th>\n",
       "      <td>1</td>\n",
       "      <td>1</td>\n",
       "      <td>1</td>\n",
       "      <td>0</td>\n",
       "      <td>0</td>\n",
       "      <td>1</td>\n",
       "    </tr>\n",
       "    <tr>\n",
       "      <th>1</th>\n",
       "      <td>1</td>\n",
       "      <td>2</td>\n",
       "      <td>2</td>\n",
       "      <td>0</td>\n",
       "      <td>0</td>\n",
       "      <td>2</td>\n",
       "    </tr>\n",
       "    <tr>\n",
       "      <th>2</th>\n",
       "      <td>1</td>\n",
       "      <td>3</td>\n",
       "      <td>3</td>\n",
       "      <td>0</td>\n",
       "      <td>0</td>\n",
       "      <td>3</td>\n",
       "    </tr>\n",
       "    <tr>\n",
       "      <th>3</th>\n",
       "      <td>1</td>\n",
       "      <td>4</td>\n",
       "      <td>4</td>\n",
       "      <td>0</td>\n",
       "      <td>0</td>\n",
       "      <td>4</td>\n",
       "    </tr>\n",
       "    <tr>\n",
       "      <th>4</th>\n",
       "      <td>1</td>\n",
       "      <td>2</td>\n",
       "      <td>5</td>\n",
       "      <td>0</td>\n",
       "      <td>0</td>\n",
       "      <td>5</td>\n",
       "    </tr>\n",
       "    <tr>\n",
       "      <th>5</th>\n",
       "      <td>1</td>\n",
       "      <td>3</td>\n",
       "      <td>6</td>\n",
       "      <td>0</td>\n",
       "      <td>0</td>\n",
       "      <td>6</td>\n",
       "    </tr>\n",
       "    <tr>\n",
       "      <th>6</th>\n",
       "      <td>1</td>\n",
       "      <td>4</td>\n",
       "      <td>7</td>\n",
       "      <td>0</td>\n",
       "      <td>1</td>\n",
       "      <td>7</td>\n",
       "    </tr>\n",
       "    <tr>\n",
       "      <th>7</th>\n",
       "      <td>1</td>\n",
       "      <td>5</td>\n",
       "      <td>8</td>\n",
       "      <td>0</td>\n",
       "      <td>0</td>\n",
       "      <td>8</td>\n",
       "    </tr>\n",
       "    <tr>\n",
       "      <th>8</th>\n",
       "      <td>1</td>\n",
       "      <td>3</td>\n",
       "      <td>9</td>\n",
       "      <td>0</td>\n",
       "      <td>0</td>\n",
       "      <td>9</td>\n",
       "    </tr>\n",
       "    <tr>\n",
       "      <th>9</th>\n",
       "      <td>2</td>\n",
       "      <td>0</td>\n",
       "      <td>1</td>\n",
       "      <td>1</td>\n",
       "      <td>0</td>\n",
       "      <td>1</td>\n",
       "    </tr>\n",
       "    <tr>\n",
       "      <th>10</th>\n",
       "      <td>2</td>\n",
       "      <td>0</td>\n",
       "      <td>2</td>\n",
       "      <td>1</td>\n",
       "      <td>0</td>\n",
       "      <td>2</td>\n",
       "    </tr>\n",
       "    <tr>\n",
       "      <th>11</th>\n",
       "      <td>2</td>\n",
       "      <td>0</td>\n",
       "      <td>3</td>\n",
       "      <td>1</td>\n",
       "      <td>0</td>\n",
       "      <td>3</td>\n",
       "    </tr>\n",
       "    <tr>\n",
       "      <th>12</th>\n",
       "      <td>2</td>\n",
       "      <td>0</td>\n",
       "      <td>4</td>\n",
       "      <td>1</td>\n",
       "      <td>0</td>\n",
       "      <td>4</td>\n",
       "    </tr>\n",
       "    <tr>\n",
       "      <th>13</th>\n",
       "      <td>2</td>\n",
       "      <td>1</td>\n",
       "      <td>5</td>\n",
       "      <td>1</td>\n",
       "      <td>0</td>\n",
       "      <td>5</td>\n",
       "    </tr>\n",
       "    <tr>\n",
       "      <th>14</th>\n",
       "      <td>2</td>\n",
       "      <td>2</td>\n",
       "      <td>6</td>\n",
       "      <td>1</td>\n",
       "      <td>0</td>\n",
       "      <td>6</td>\n",
       "    </tr>\n",
       "    <tr>\n",
       "      <th>15</th>\n",
       "      <td>2</td>\n",
       "      <td>3</td>\n",
       "      <td>7</td>\n",
       "      <td>1</td>\n",
       "      <td>1</td>\n",
       "      <td>7</td>\n",
       "    </tr>\n",
       "    <tr>\n",
       "      <th>16</th>\n",
       "      <td>2</td>\n",
       "      <td>4</td>\n",
       "      <td>8</td>\n",
       "      <td>1</td>\n",
       "      <td>0</td>\n",
       "      <td>8</td>\n",
       "    </tr>\n",
       "    <tr>\n",
       "      <th>17</th>\n",
       "      <td>2</td>\n",
       "      <td>1</td>\n",
       "      <td>9</td>\n",
       "      <td>1</td>\n",
       "      <td>0</td>\n",
       "      <td>9</td>\n",
       "    </tr>\n",
       "  </tbody>\n",
       "</table>\n",
       "</div>"
      ],
      "text/plain": [
       "    zone_id  y_obs  t  zone_idx  covid_start_m1  date\n",
       "0         1      1  1         0               0     1\n",
       "1         1      2  2         0               0     2\n",
       "2         1      3  3         0               0     3\n",
       "3         1      4  4         0               0     4\n",
       "4         1      2  5         0               0     5\n",
       "5         1      3  6         0               0     6\n",
       "6         1      4  7         0               1     7\n",
       "7         1      5  8         0               0     8\n",
       "8         1      3  9         0               0     9\n",
       "9         2      0  1         1               0     1\n",
       "10        2      0  2         1               0     2\n",
       "11        2      0  3         1               0     3\n",
       "12        2      0  4         1               0     4\n",
       "13        2      1  5         1               0     5\n",
       "14        2      2  6         1               0     6\n",
       "15        2      3  7         1               1     7\n",
       "16        2      4  8         1               0     8\n",
       "17        2      1  9         1               0     9"
      ]
     },
     "execution_count": 339,
     "metadata": {},
     "output_type": "execute_result"
    }
   ],
   "source": [
    "d"
   ]
  },
  {
   "cell_type": "code",
   "execution_count": 12,
   "id": "710c85c5",
   "metadata": {},
   "outputs": [
    {
     "data": {
      "text/plain": [
       "array([0, 1])"
      ]
     },
     "execution_count": 12,
     "metadata": {},
     "output_type": "execute_result"
    }
   ],
   "source": [
    "np.unique(zone_idx)"
   ]
  },
  {
   "cell_type": "code",
   "execution_count": null,
   "id": "6a78e643",
   "metadata": {},
   "outputs": [],
   "source": [
    "# so the \"parent\" distribution for initial szns should be ordered/accessed based on time\n",
    "\n",
    "# so s'pose we have\n",
    "# szn_len = 4\n",
    "#  t: 0,1,2,3,4,5,...\n",
    "# z1: 3,4,8,2,5,6,...\n",
    "# z2: _,_,_,1,3,4,...\n",
    "\n",
    "# initial_szns = s1,s2,s3,s4\n",
    "\n",
    "# the first non-zero entry for z2 is the 4th season\n",
    "# so the initial_szns passed to z2's theano.scan should be ordered as [s4,s1,s2,s3]"
   ]
  },
  {
   "cell_type": "code",
   "execution_count": null,
   "id": "fcdf0b86",
   "metadata": {},
   "outputs": [],
   "source": [
    "# w/ what ive been doing, we havent worried about which szn corresponds to which t, we just start from wherever there is demand (or 3rd week w/ demand)\n",
    "# now though, we should always index on a particular t/week #\n",
    "# ie make initial_szns[:, 0] correspond to first week in year, initial_szns[:, 51] corresponding to last, etc\n",
    "# so given the first_t, we want:\n",
    "\n",
    "initial_szns[z_idx, first_t%52:szn_len] + initial_szns[z_idx, :first_t%52]"
   ]
  },
  {
   "cell_type": "code",
   "execution_count": 90,
   "id": "499f6186",
   "metadata": {},
   "outputs": [],
   "source": [
    "theano.config.compute_test_value = 'raise'"
   ]
  },
  {
   "cell_type": "code",
   "execution_count": 97,
   "id": "d0599780",
   "metadata": {
    "code_folding": []
   },
   "outputs": [],
   "source": [
    "# def test(x, prev_output):\n",
    "def test(x):\n",
    "    return pm.math.floatX(x**2)\n",
    "\n",
    "outputs, updates = theano.scan(test,\n",
    "                               sequences=[\n",
    "                                   np.array([1.0,2.0,3.0,4.0])\n",
    "#                                    tt.as_tensor_variable([1.0,2.0,3.0,4.0])\n",
    "                               ],\n",
    "#                               outputs_info=[\n",
    "#                                   dict(initial=pm.math.floatX(0), taps=None)\n",
    "#                               ]\n",
    "                              )"
   ]
  },
  {
   "cell_type": "code",
   "execution_count": null,
   "id": "6d13fc22",
   "metadata": {},
   "outputs": [],
   "source": [
    "## test data"
   ]
  },
  {
   "cell_type": "code",
   "execution_count": 695,
   "id": "8a3a9911",
   "metadata": {
    "collapsed": true,
    "hide_input": true
   },
   "outputs": [
    {
     "name": "stderr",
     "output_type": "stream",
     "text": [
      "WARNING (theano.scan.basic): Output None (index 0) has a initial state but taps is explicitly set to None \n",
      "WARNING (theano.scan.basic): Output None (index 1) has a initial state but taps is explicitly set to None \n"
     ]
    },
    {
     "ename": "AttributeError",
     "evalue": "'CVM' object has no attribute 'maker'",
     "output_type": "error",
     "traceback": [
      "\u001b[0;31m---------------------------------------------------------------------------\u001b[0m",
      "\u001b[0;31mIndexError\u001b[0m                                Traceback (most recent call last)",
      "\u001b[0;32mscan_perform.pyx\u001b[0m in \u001b[0;36mtheano.scan.scan_perform.perform\u001b[0;34m()\u001b[0m\n",
      "\u001b[0;31mIndexError\u001b[0m: index out of bounds",
      "\nDuring handling of the above exception, another exception occurred:\n",
      "\u001b[0;31mAttributeError\u001b[0m                            Traceback (most recent call last)",
      "\u001b[0;32m<ipython-input-695-76b617b713d6>\u001b[0m in \u001b[0;36m<module>\u001b[0;34m\u001b[0m\n\u001b[1;32m     71\u001b[0m         \u001b[0;32mreturn\u001b[0m \u001b[0moutputs\u001b[0m\u001b[0;34m\u001b[0m\u001b[0;34m\u001b[0m\u001b[0m\n\u001b[1;32m     72\u001b[0m \u001b[0;34m\u001b[0m\u001b[0m\n\u001b[0;32m---> 73\u001b[0;31m     outputs, updates = theano.scan(inner_scan_for_zone,\n\u001b[0m\u001b[1;32m     74\u001b[0m                sequences=[\n\u001b[1;32m     75\u001b[0m                    \u001b[0mtt\u001b[0m\u001b[0;34m.\u001b[0m\u001b[0mas_tensor_variable\u001b[0m\u001b[0;34m(\u001b[0m\u001b[0mnp\u001b[0m\u001b[0;34m.\u001b[0m\u001b[0munique\u001b[0m\u001b[0;34m(\u001b[0m\u001b[0mzone_idx\u001b[0m\u001b[0;34m)\u001b[0m\u001b[0;34m)\u001b[0m\u001b[0;34m,\u001b[0m\u001b[0;34m\u001b[0m\u001b[0;34m\u001b[0m\u001b[0m\n",
      "\u001b[0;32m~/.pyenv/versions/3.8.6/lib/python3.8/site-packages/theano/scan/basic.py\u001b[0m in \u001b[0;36mscan\u001b[0;34m(fn, sequences, outputs_info, non_sequences, n_steps, truncate_gradient, go_backwards, mode, name, profile, allow_gc, strict, return_list)\u001b[0m\n\u001b[1;32m   1082\u001b[0m             \u001b[0;32mpass\u001b[0m\u001b[0;34m\u001b[0m\u001b[0;34m\u001b[0m\u001b[0m\n\u001b[1;32m   1083\u001b[0m         \u001b[0mscan_inputs\u001b[0m \u001b[0;34m+=\u001b[0m \u001b[0;34m[\u001b[0m\u001b[0marg\u001b[0m\u001b[0;34m]\u001b[0m\u001b[0;34m\u001b[0m\u001b[0;34m\u001b[0m\u001b[0m\n\u001b[0;32m-> 1084\u001b[0;31m     \u001b[0mscan_outs\u001b[0m \u001b[0;34m=\u001b[0m \u001b[0mlocal_op\u001b[0m\u001b[0;34m(\u001b[0m\u001b[0;34m*\u001b[0m\u001b[0mscan_inputs\u001b[0m\u001b[0;34m)\u001b[0m\u001b[0;34m\u001b[0m\u001b[0;34m\u001b[0m\u001b[0m\n\u001b[0m\u001b[1;32m   1085\u001b[0m     \u001b[0;32mif\u001b[0m \u001b[0mtype\u001b[0m\u001b[0;34m(\u001b[0m\u001b[0mscan_outs\u001b[0m\u001b[0;34m)\u001b[0m \u001b[0;32mnot\u001b[0m \u001b[0;32min\u001b[0m \u001b[0;34m(\u001b[0m\u001b[0mlist\u001b[0m\u001b[0;34m,\u001b[0m \u001b[0mtuple\u001b[0m\u001b[0;34m)\u001b[0m\u001b[0;34m:\u001b[0m\u001b[0;34m\u001b[0m\u001b[0;34m\u001b[0m\u001b[0m\n\u001b[1;32m   1086\u001b[0m         \u001b[0mscan_outs\u001b[0m \u001b[0;34m=\u001b[0m \u001b[0;34m[\u001b[0m\u001b[0mscan_outs\u001b[0m\u001b[0;34m]\u001b[0m\u001b[0;34m\u001b[0m\u001b[0;34m\u001b[0m\u001b[0m\n",
      "\u001b[0;32m~/.pyenv/versions/3.8.6/lib/python3.8/site-packages/theano/graph/op.py\u001b[0m in \u001b[0;36m__call__\u001b[0;34m(self, *inputs, **kwargs)\u001b[0m\n\u001b[1;32m    251\u001b[0m \u001b[0;34m\u001b[0m\u001b[0m\n\u001b[1;32m    252\u001b[0m         \u001b[0;32mif\u001b[0m \u001b[0mconfig\u001b[0m\u001b[0;34m.\u001b[0m\u001b[0mcompute_test_value\u001b[0m \u001b[0;34m!=\u001b[0m \u001b[0;34m\"off\"\u001b[0m\u001b[0;34m:\u001b[0m\u001b[0;34m\u001b[0m\u001b[0;34m\u001b[0m\u001b[0m\n\u001b[0;32m--> 253\u001b[0;31m             \u001b[0mcompute_test_value\u001b[0m\u001b[0;34m(\u001b[0m\u001b[0mnode\u001b[0m\u001b[0;34m)\u001b[0m\u001b[0;34m\u001b[0m\u001b[0;34m\u001b[0m\u001b[0m\n\u001b[0m\u001b[1;32m    254\u001b[0m \u001b[0;34m\u001b[0m\u001b[0m\n\u001b[1;32m    255\u001b[0m         \u001b[0;32mif\u001b[0m \u001b[0mself\u001b[0m\u001b[0;34m.\u001b[0m\u001b[0mdefault_output\u001b[0m \u001b[0;32mis\u001b[0m \u001b[0;32mnot\u001b[0m \u001b[0;32mNone\u001b[0m\u001b[0;34m:\u001b[0m\u001b[0;34m\u001b[0m\u001b[0;34m\u001b[0m\u001b[0m\n",
      "\u001b[0;32m~/.pyenv/versions/3.8.6/lib/python3.8/site-packages/theano/graph/op.py\u001b[0m in \u001b[0;36mcompute_test_value\u001b[0;34m(node)\u001b[0m\n\u001b[1;32m    128\u001b[0m     \u001b[0mthunk\u001b[0m\u001b[0;34m.\u001b[0m\u001b[0moutputs\u001b[0m \u001b[0;34m=\u001b[0m \u001b[0;34m[\u001b[0m\u001b[0mstorage_map\u001b[0m\u001b[0;34m[\u001b[0m\u001b[0mv\u001b[0m\u001b[0;34m]\u001b[0m \u001b[0;32mfor\u001b[0m \u001b[0mv\u001b[0m \u001b[0;32min\u001b[0m \u001b[0mnode\u001b[0m\u001b[0;34m.\u001b[0m\u001b[0moutputs\u001b[0m\u001b[0;34m]\u001b[0m\u001b[0;34m\u001b[0m\u001b[0;34m\u001b[0m\u001b[0m\n\u001b[1;32m    129\u001b[0m \u001b[0;34m\u001b[0m\u001b[0m\n\u001b[0;32m--> 130\u001b[0;31m     \u001b[0mrequired\u001b[0m \u001b[0;34m=\u001b[0m \u001b[0mthunk\u001b[0m\u001b[0;34m(\u001b[0m\u001b[0;34m)\u001b[0m\u001b[0;34m\u001b[0m\u001b[0;34m\u001b[0m\u001b[0m\n\u001b[0m\u001b[1;32m    131\u001b[0m     \u001b[0;32massert\u001b[0m \u001b[0;32mnot\u001b[0m \u001b[0mrequired\u001b[0m  \u001b[0;31m# We provided all inputs\u001b[0m\u001b[0;34m\u001b[0m\u001b[0;34m\u001b[0m\u001b[0m\n\u001b[1;32m    132\u001b[0m \u001b[0;34m\u001b[0m\u001b[0m\n",
      "\u001b[0;32m~/.pyenv/versions/3.8.6/lib/python3.8/site-packages/theano/scan/op.py\u001b[0m in \u001b[0;36mrval\u001b[0;34m(p, i, o, n, allow_gc)\u001b[0m\n\u001b[1;32m   1084\u001b[0m             \u001b[0mp\u001b[0m\u001b[0;34m=\u001b[0m\u001b[0mp\u001b[0m\u001b[0;34m,\u001b[0m \u001b[0mi\u001b[0m\u001b[0;34m=\u001b[0m\u001b[0mnode_input_storage\u001b[0m\u001b[0;34m,\u001b[0m \u001b[0mo\u001b[0m\u001b[0;34m=\u001b[0m\u001b[0mnode_output_storage\u001b[0m\u001b[0;34m,\u001b[0m \u001b[0mn\u001b[0m\u001b[0;34m=\u001b[0m\u001b[0mnode\u001b[0m\u001b[0;34m,\u001b[0m \u001b[0mallow_gc\u001b[0m\u001b[0;34m=\u001b[0m\u001b[0mallow_gc\u001b[0m\u001b[0;34m\u001b[0m\u001b[0;34m\u001b[0m\u001b[0m\n\u001b[1;32m   1085\u001b[0m         ):\n\u001b[0;32m-> 1086\u001b[0;31m             \u001b[0mr\u001b[0m \u001b[0;34m=\u001b[0m \u001b[0mp\u001b[0m\u001b[0;34m(\u001b[0m\u001b[0mn\u001b[0m\u001b[0;34m,\u001b[0m \u001b[0;34m[\u001b[0m\u001b[0mx\u001b[0m\u001b[0;34m[\u001b[0m\u001b[0;36m0\u001b[0m\u001b[0;34m]\u001b[0m \u001b[0;32mfor\u001b[0m \u001b[0mx\u001b[0m \u001b[0;32min\u001b[0m \u001b[0mi\u001b[0m\u001b[0;34m]\u001b[0m\u001b[0;34m,\u001b[0m \u001b[0mo\u001b[0m\u001b[0;34m)\u001b[0m\u001b[0;34m\u001b[0m\u001b[0;34m\u001b[0m\u001b[0m\n\u001b[0m\u001b[1;32m   1087\u001b[0m             \u001b[0;32mfor\u001b[0m \u001b[0mo\u001b[0m \u001b[0;32min\u001b[0m \u001b[0mnode\u001b[0m\u001b[0;34m.\u001b[0m\u001b[0moutputs\u001b[0m\u001b[0;34m:\u001b[0m\u001b[0;34m\u001b[0m\u001b[0;34m\u001b[0m\u001b[0m\n\u001b[1;32m   1088\u001b[0m                 \u001b[0mcompute_map\u001b[0m\u001b[0;34m[\u001b[0m\u001b[0mo\u001b[0m\u001b[0;34m]\u001b[0m\u001b[0;34m[\u001b[0m\u001b[0;36m0\u001b[0m\u001b[0;34m]\u001b[0m \u001b[0;34m=\u001b[0m \u001b[0;32mTrue\u001b[0m\u001b[0;34m\u001b[0m\u001b[0;34m\u001b[0m\u001b[0m\n",
      "\u001b[0;32m~/.pyenv/versions/3.8.6/lib/python3.8/site-packages/theano/scan/op.py\u001b[0m in \u001b[0;36mp\u001b[0;34m(node, args, outs)\u001b[0m\n\u001b[1;32m   1043\u001b[0m \u001b[0;34m\u001b[0m\u001b[0m\n\u001b[1;32m   1044\u001b[0m             \u001b[0;32mdef\u001b[0m \u001b[0mp\u001b[0m\u001b[0;34m(\u001b[0m\u001b[0mnode\u001b[0m\u001b[0;34m,\u001b[0m \u001b[0margs\u001b[0m\u001b[0;34m,\u001b[0m \u001b[0mouts\u001b[0m\u001b[0;34m)\u001b[0m\u001b[0;34m:\u001b[0m\u001b[0;34m\u001b[0m\u001b[0;34m\u001b[0m\u001b[0m\n\u001b[0;32m-> 1045\u001b[0;31m                 return scan_perform_ext.perform(\n\u001b[0m\u001b[1;32m   1046\u001b[0m                     \u001b[0mself\u001b[0m\u001b[0;34m.\u001b[0m\u001b[0mn_shared_outs\u001b[0m\u001b[0;34m,\u001b[0m\u001b[0;34m\u001b[0m\u001b[0;34m\u001b[0m\u001b[0m\n\u001b[1;32m   1047\u001b[0m                     \u001b[0mself\u001b[0m\u001b[0;34m.\u001b[0m\u001b[0mn_mit_mot_outs\u001b[0m\u001b[0;34m,\u001b[0m\u001b[0;34m\u001b[0m\u001b[0;34m\u001b[0m\u001b[0m\n",
      "\u001b[0;32mscan_perform.pyx\u001b[0m in \u001b[0;36mtheano.scan.scan_perform.perform\u001b[0;34m()\u001b[0m\n",
      "\u001b[0;31mAttributeError\u001b[0m: 'CVM' object has no attribute 'maker'"
     ]
    }
   ],
   "source": [
    "## test data\n",
    "\n",
    "with pm.Model() as test_hw_model:\n",
    "#     initial_level = pm.Normal(f'initial_level', mu=3000, sigma=400)\n",
    "#         initial_level = pm.Uniform(f'initial_level', lower=0, upper=5000)\n",
    "    initial_lvl_upper = 10000\n",
    "    initial_level = pm.Uniform(f'initial_level', lower=0, upper=initial_lvl_upper, shape=(d.zone_id.nunique()))\n",
    "\n",
    "    smoothing_level_mu = pm.Uniform('smoothing_level_mu', lower=0, upper=1)\n",
    "    smoothing_level_sigma = pm.HalfCauchy('smoothing_level_sigma', beta=0.5)\n",
    "    smoothing_level = pm.TruncatedNormal('smoothing_level', mu=smoothing_level_mu, sigma=smoothing_level_sigma, lower=0, upper=1, shape=(d.zone_id.nunique()))\n",
    "#         smoothing_level = pm.Normal('smoothing_level', mu=0.5, sigma=0.5)\n",
    "\n",
    "#     initial_trend = pm.Normal(f'initial_trend', mu=0, sigma=100)\n",
    "#         initial_trend = pm.Uniform(f'initial_trend', lower=-1000, upper=1000)\n",
    "    initial_trend = pm.Uniform(f'initial_trend', lower=-initial_lvl_upper/2, upper=initial_lvl_upper/2, shape=(d.zone_id.nunique()))\n",
    "\n",
    "    smoothing_trend_mu = pm.Uniform('smoothing_trend_mu', lower=0, upper=1)\n",
    "    smoothing_trend_sigma = pm.HalfCauchy('smoothing_trend_sigma', beta=0.5)\n",
    "    smoothing_trend = pm.TruncatedNormal('smoothing_trend', mu=smoothing_trend_mu, sigma=smoothing_trend_sigma, lower=0, upper=1, shape=(d.zone_id.nunique()))\n",
    "#         smoothing_trend = pm.Uniform('smoothing_trend', lower=0, upper=1)\n",
    "#     smoothing_trend = pm.Normal('smoothing_trend', mu=0.5, sigma=0.5)\n",
    "\n",
    "\n",
    "    # \n",
    "    initial_szns_mus = pm.Normal('initial_szns_mus', mu=1.0, sigma=0.2, shape=(szn_len))\n",
    "    initial_szns = pm.Normal('initial_szns', mu=initial_szns_mus, sigma=0.2, shape=(d.zone_id.nunique(), szn_len))\n",
    "#     initial_szns = pm.Uniform('initial_szns', lower=0.7, upper=1.3, shape=(szn_len))\n",
    "#     smoothing_season = pm.Uniform('smoothing_season', lower=0, upper=1)\n",
    "#     smoothing_season = pm.Uniform('smoothing_season', lower=0, upper=1)\n",
    "#     smoothing_season = pm.Uniform('smoothing_season', lower=0, upper=1-smoothing_level)\n",
    "    smoothing_season_mu = pm.Uniform('smoothing_season_mu', lower=0, upper=1)\n",
    "    smoothing_season_sigma = pm.HalfCauchy('smoothing_season_sigma', beta=0.5)\n",
    "    smoothing_season = pm.TruncatedNormal('smoothing_season', mu=smoothing_season_mu, sigma=smoothing_season_sigma, lower=0, upper=1, shape=(d.zone_id.nunique()))\n",
    "#         smoothing_season = pm.TruncatedNormal('smoothing_season', mu=0.2, sigma=0.5, lower=0, upper=0.8)\n",
    "#     smoothing_season = pm.Normal('smoothing_season', mu=0.5, sigma=0.5)\n",
    "\n",
    "#     ys = tt.as_tensor_variable(zdf['y_obs'])\n",
    "#     is_covid_start = tt.as_tensor_variable(zdf['covid_start_m1'])\n",
    "\n",
    "#     covid_level_change = pm.Normal('covid_level_change', mu=15000, sigma=2000)\n",
    "    covid_level_change = pm.Uniform('covid_level_change', lower=0, upper=5000, shape=(d.zone_id.nunique()))\n",
    "#         covid_level_change = pm.Normal('covid_level_change', mu=2000, sigma=1000)\n",
    "#     covid_level_change2 = pm.Normal('covid_level_change2', mu=20000, sigma=2000)\n",
    "    covid_level_change2 = pm.Uniform('covid_level_change2', lower=0, upper=5000, shape=(d.zone_id.nunique()))\n",
    "    \n",
    "    def hw_component_wise_wrapper(z_idx):\n",
    "        def hw_component_wise(y, covid_start, prior_level, prior_trend, szn_m52):\n",
    "            updated_szn = smoothing_season[z_idx] * y / (prior_level + prior_trend) + (1 - smoothing_season[z_idx]) * szn_m52\n",
    "\n",
    "\n",
    "            next_level = smoothing_level[z_idx] * (y/szn_m52) + (1 - smoothing_level[z_idx])*(prior_level + prior_trend) + covid_start*covid_level_change[z_idx]\n",
    "            next_trend = smoothing_trend[z_idx] * (next_level - prior_level) + (1 - smoothing_trend[z_idx])*prior_trend - covid_start*smoothing_trend[z_idx]*covid_level_change2[z_idx]\n",
    "\n",
    "\n",
    "            return next_level, next_trend, updated_szn\n",
    "        return hw_component_wise\n",
    "    \n",
    "    def inner_scan_for_zone(z_idx, ys, is_covid_start):\n",
    "        outputs, updates = theano.scan(hw_component_wise_wrapper(z_idx),\n",
    "                                      sequences=[\n",
    "                                          ys[1:], # this [1:] is done assuming we padded and shifted y_obs\n",
    "                                          is_covid_start[1:]\n",
    "                                      ],\n",
    "                                      outputs_info=[\n",
    "                                          dict(initial = initial_level[z_idx], taps=None),\n",
    "                                          dict(initial = initial_trend[z_idx], taps=None),\n",
    "                                          dict(initial = initial_szns[z_idx], taps=[-szn_len])\n",
    "    #                                       dict(initial = initial_seasons, taps=[-szn_len])\n",
    "                                      ])\n",
    "        return outputs\n",
    "\n",
    "    outputs, updates = theano.scan(inner_scan_for_zone,\n",
    "               sequences=[\n",
    "                   tt.as_tensor_variable(np.unique(zone_idx)),\n",
    "    #                np.unique(zone_idx),\n",
    "                   tt.as_tensor_variable(ys_list),\n",
    "    #                np.array(ys_list),\n",
    "                   tt.as_tensor_variable(is_covid_start_list),\n",
    "    #                np.array(is_covid_start_list),\n",
    "    #                np.array(first_t_list)\n",
    "               ])\n",
    "    \n",
    "    \n",
    "    ## [] adjust below to account for the now multi-zone setup\n",
    "#     levels = outputs[0]\n",
    "#     trends = outputs[1]\n",
    "#     seasons = outputs[2]\n",
    "\n",
    "\n",
    "#     levels_f = pm.math.concatenate([initial_level.reshape(1,1), levels[:-1]])\n",
    "#     trends_f = pm.math.concatenate([initial_trend.reshape(1,1), trends[:-1]])\n",
    "#     seasons_f = pm.math.concatenate([initial_szns, seasons[:-szn_len]])\n",
    "\n",
    "#     levels_and_trends = pm.math.stack([levels_f, trends_f])\n",
    "#     level_plus_trend = levels_and_trends.sum(axis=0)\n",
    "\n",
    "#     level_plus_trend_and_seasons = pm.math.stack([level_plus_trend, seasons_f])\n",
    "#     y_hats = level_plus_trend_and_seasons.prod(axis=0)\n",
    "\n",
    "#     sig = pm.HalfCauchy('sigma', beta=10)\n",
    "# #         y_like = pm.Normal('y_like', mu=y_hats, sigma=sig, observed=zdf.iloc[szn_len-1:-1, :]['y_obs_lag-1'])\n",
    "#     y_like = pm.Normal('y_like', mu=y_hats, sigma=sig, observed=zdf.iloc[:-1, :]['y_obs_lag-1'])\n",
    "\n",
    "    levels = outputs[0]\n",
    "    trends = outputs[1]\n",
    "    seasons = outputs[2]\n",
    "\n",
    "    levels_f = pm.math.concatenate([initial_level.reshape((d.zone_id.nunique(),1)), levels[:,:-1]], axis=1)\n",
    "    trends_f = pm.math.concatenate([initial_trend.reshape((d.zone_id.nunique(),1)), trends[:,:-1]], axis=1)\n",
    "    seasons_f = pm.math.concatenate([initial_szns, seasons[:,:-szn_len]], axis=1)\n",
    "\n",
    "    levels_and_trends = pm.math.stack([levels_f, trends_f], axis=1)\n",
    "    level_plus_trend = levels_and_trends.sum(axis=1)\n",
    "\n",
    "    level_plus_trend_and_seasons = pm.math.stack([level_plus_trend, seasons_f], axis=1)\n",
    "    y_hats = level_plus_trend_and_seasons.prod(axis=1)\n",
    "\n",
    "    sig = pm.HalfCauchy('sigma', beta=10)\n",
    "    y_like = pm.Normal('y_like', mu=y_hats, sigma=sig, observed=np.array(y_obs_lagm1_list)[:,:-1])"
   ]
  },
  {
   "cell_type": "code",
   "execution_count": 700,
   "id": "23433281",
   "metadata": {},
   "outputs": [
    {
     "data": {
      "text/plain": [
       "[2194.6326905351425, 0.0, 360.5683838797144, 0.0, 624.2734227658572]"
      ]
     },
     "execution_count": 700,
     "metadata": {},
     "output_type": "execute_result"
    }
   ],
   "source": [
    "initial_lvl_upper_list"
   ]
  },
  {
   "cell_type": "code",
   "execution_count": 1019,
   "id": "5cdaf545",
   "metadata": {},
   "outputs": [
    {
     "name": "stderr",
     "output_type": "stream",
     "text": [
      "WARNING (theano.scan.basic): Output None (index 0) has a initial state but taps is explicitly set to None \n",
      "WARNING (theano.scan.basic): Output None (index 1) has a initial state but taps is explicitly set to None \n"
     ]
    }
   ],
   "source": [
    "## real data\n",
    "\n",
    "with pm.Model() as test_hw_model:\n",
    "#     initial_level = pm.Normal(f'initial_level', mu=3000, sigma=400)\n",
    "#         initial_level = pm.Uniform(f'initial_level', lower=0, upper=5000)\n",
    "#     initial_lvl_upper = 10000\n",
    "#     initial_level = pm.Uniform(f'initial_level', lower=0, upper=initial_lvl_upper, shape=(d2.zone_id.nunique()))\n",
    "    initial_level = pm.Uniform(f'initial_level', lower=0, upper=np.array(initial_lvl_upper_list) + 1, shape=(d2.zone_id.nunique()))\n",
    "\n",
    "    smoothing_level_mu = pm.Uniform('smoothing_level_mu', lower=0, upper=1)\n",
    "    smoothing_level_sigma = pm.HalfCauchy('smoothing_level_sigma', beta=1)\n",
    "#     smoothing_level_sigma = pm.HalfCauchy('smoothing_level_sigma', beta=0.5)\n",
    "    smoothing_level = pm.TruncatedNormal('smoothing_level', mu=smoothing_level_mu, sigma=smoothing_level_sigma, lower=0, upper=1, shape=(d2.zone_id.nunique()))\n",
    "#         smoothing_level = pm.Normal('smoothing_level', mu=0.5, sigma=0.5)\n",
    "\n",
    "#     initial_trend = pm.Normal(f'initial_trend', mu=0, sigma=100)\n",
    "#         initial_trend = pm.Uniform(f'initial_trend', lower=-1000, upper=1000)\n",
    "#     initial_trend = pm.Uniform(f'initial_trend', lower=-initial_lvl_upper/2, upper=initial_lvl_upper/2, shape=(d2.zone_id.nunique()))\n",
    "#     initial_trend = pm.Uniform(f'initial_trend', lower=-np.array(initial_lvl_upper_list)/4, upper=np.array(initial_lvl_upper_list)/4, shape=(d2.zone_id.nunique()))\n",
    "    initial_trend = pm.Uniform(f'initial_trend', lower=-300, upper=300, shape=(d2.zone_id.nunique()))\n",
    "\n",
    "    smoothing_trend_mu = pm.Uniform('smoothing_trend_mu', lower=0, upper=1)\n",
    "    smoothing_trend_sigma = pm.HalfCauchy('smoothing_trend_sigma', beta=1)\n",
    "#     smoothing_trend_sigma = pm.HalfCauchy('smoothing_trend_sigma', beta=0.5)\n",
    "    smoothing_trend = pm.TruncatedNormal('smoothing_trend', mu=smoothing_trend_mu, sigma=smoothing_trend_sigma, lower=0, upper=1, shape=(d2.zone_id.nunique()))\n",
    "#         smoothing_trend = pm.Uniform('smoothing_trend', lower=0, upper=1)\n",
    "#     smoothing_trend = pm.Normal('smoothing_trend', mu=0.5, sigma=0.5)\n",
    "\n",
    "\n",
    "    # \n",
    "#     initial_szns_mus = pm.Normal('initial_szns_mus', mu=1.0, sigma=0.10, shape=(szn_len))\n",
    "    initial_szns_mus = pm.TruncatedNormal('initial_szns_mus', mu=1.0, sigma=0.10, lower=0.8, upper=1.2, shape=(szn_len))\n",
    "#     initial_szns_mus = pm.Normal('initial_szns_mus', mu=1.0, sigma=0.05, shape=(szn_len))\n",
    "    initial_szns = pm.TruncatedNormal('initial_szns', mu=initial_szns_mus, sigma=0.05, lower=0.8, upper=1.2, shape=(d2.zone_id.nunique(), szn_len))\n",
    "#     initial_szns = pm.Normal('initial_szns', mu=initial_szns_mus, sigma=0.05, shape=(d2.zone_id.nunique(), szn_len))\n",
    "#     initial_szns = pm.Normal('initial_szns', mu=initial_szns_mus, sigma=0.2, shape=(d2.zone_id.nunique(), szn_len))\n",
    "#     initial_szns = pm.Uniform('initial_szns', lower=0.7, upper=1.3, shape=(szn_len))\n",
    "#     smoothing_season = pm.Uniform('smoothing_season', lower=0, upper=1)\n",
    "#     smoothing_season = pm.Uniform('smoothing_season', lower=0, upper=1)\n",
    "#     smoothing_season = pm.Uniform('smoothing_season', lower=0, upper=1-smoothing_level)\n",
    "    smoothing_season_mu = pm.Uniform('smoothing_season_mu', lower=0, upper=1)\n",
    "    smoothing_season_sigma = pm.HalfCauchy('smoothing_season_sigma', beta=0.5)\n",
    "    smoothing_season = pm.TruncatedNormal('smoothing_season', mu=smoothing_season_mu, sigma=smoothing_season_sigma, lower=0, upper=1, shape=(d2.zone_id.nunique()))\n",
    "#         smoothing_season = pm.TruncatedNormal('smoothing_season', mu=0.2, sigma=0.5, lower=0, upper=0.8)\n",
    "#     smoothing_season = pm.Normal('smoothing_season', mu=0.5, sigma=0.5)\n",
    "\n",
    "#     ys = tt.as_tensor_variable(zdf['y_obs'])\n",
    "#     is_covid_start = tt.as_tensor_variable(zdf['covid_start_m1'])\n",
    "\n",
    "#     covid_level_change = pm.Normal('covid_level_change', mu=15000, sigma=2000)\n",
    "    covid_level_change = pm.Uniform('covid_level_change', lower=0, upper=5000, shape=(d2.zone_id.nunique()))\n",
    "#         covid_level_change = pm.Normal('covid_level_change', mu=2000, sigma=1000)\n",
    "#     covid_level_change2 = pm.Normal('covid_level_change2', mu=20000, sigma=2000)\n",
    "    covid_level_change2 = pm.Uniform('covid_level_change2', lower=0, upper=5000, shape=(d2.zone_id.nunique()))\n",
    "    \n",
    "    def hw_component_wise_wrapper(z_idx):\n",
    "        def hw_component_wise(y, covid_start, data_start, prior_level, prior_trend, szn_m52):\n",
    "#             updated_szn = smoothing_season[z_idx] * y / (prior_level + prior_trend) + (1 - smoothing_season[z_idx]) * szn_m52\n",
    "            updated_szn = data_start*(smoothing_season[z_idx] * y / (prior_level + prior_trend) + (1 - smoothing_season[z_idx]) * szn_m52) + (1 - data_start)*(szn_m52)\n",
    "\n",
    "\n",
    "#             next_level = smoothing_level[z_idx] * (y/szn_m52) + (1 - smoothing_level[z_idx])*(prior_level + prior_trend) + covid_start*covid_level_change[z_idx]\n",
    "            next_level = data_start*(smoothing_level[z_idx] * (y/szn_m52) + (1 - smoothing_level[z_idx])*(prior_level + prior_trend) + covid_start*covid_level_change[z_idx]) + (1 - data_start)*(prior_level)\n",
    "        \n",
    "#             next_trend = smoothing_trend[z_idx] * (next_level - prior_level) + (1 - smoothing_trend[z_idx])*prior_trend - covid_start*smoothing_trend[z_idx]*covid_level_change2[z_idx]\n",
    "            next_trend = data_start*(smoothing_trend[z_idx] * (next_level - prior_level) + (1 - smoothing_trend[z_idx])*prior_trend - covid_start*smoothing_trend[z_idx]*covid_level_change2[z_idx]) + (1 - data_start)*(prior_trend)\n",
    "\n",
    "\n",
    "            return next_level, next_trend, updated_szn\n",
    "        return hw_component_wise\n",
    "    \n",
    "    def inner_scan_for_zone(z_idx, ys, is_covid_start, data_starts):\n",
    "        outputs, updates = theano.scan(hw_component_wise_wrapper(z_idx),\n",
    "                                      sequences=[\n",
    "                                          ys[1:], # this [1:] is done assuming we padded and shifted y_obs\n",
    "                                          is_covid_start[1:],\n",
    "                                          data_starts[1:]\n",
    "                                      ],\n",
    "                                      outputs_info=[\n",
    "                                          dict(initial = initial_level[z_idx], taps=None),\n",
    "                                          dict(initial = initial_trend[z_idx], taps=None),\n",
    "                                          dict(initial = initial_szns[z_idx], taps=[-szn_len])\n",
    "    #                                       dict(initial = initial_seasons, taps=[-szn_len])\n",
    "                                      ])\n",
    "        return outputs\n",
    "\n",
    "    outputs, updates = theano.scan(inner_scan_for_zone,\n",
    "               sequences=[\n",
    "                   tt.as_tensor_variable(np.unique(zone_idx)),\n",
    "                   tt.as_tensor_variable(ys_list),\n",
    "                   tt.as_tensor_variable(is_covid_start_list),\n",
    "                   tt.as_tensor_variable(data_start_list)\n",
    "    #                np.array(first_t_list)\n",
    "               ])\n",
    "    \n",
    "    levels = outputs[0]\n",
    "    trends = outputs[1]\n",
    "    seasons = outputs[2]\n",
    "\n",
    "    levels_f = pm.math.concatenate([initial_level.reshape((d2.zone_id.nunique(),1)), levels[:,:-1]], axis=1)\n",
    "    trends_f = pm.math.concatenate([initial_trend.reshape((d2.zone_id.nunique(),1)), trends[:,:-1]], axis=1)\n",
    "    seasons_f = pm.math.concatenate([initial_szns, seasons[:,:-szn_len]], axis=1)\n",
    "\n",
    "    levels_and_trends = pm.math.stack([levels_f, trends_f], axis=1)\n",
    "    level_plus_trend = levels_and_trends.sum(axis=1)\n",
    "\n",
    "    level_plus_trend_and_seasons = pm.math.stack([level_plus_trend, seasons_f], axis=1)\n",
    "    y_hats = level_plus_trend_and_seasons.prod(axis=1)\n",
    "    \n",
    "    y_hats_and_data_start = pm.math.stack([y_hats, np.array(data_start_list)[:, 1:]], axis=1)\n",
    "    y_hats_final = y_hats_and_data_start.prod(axis=1)\n",
    "\n",
    "    sig = pm.HalfCauchy('sigma', beta=10, shape=(d2.zone_id.nunique(),1))\n",
    "#     y_like = pm.Normal('y_like', mu=y_hats, sigma=sig, observed=np.array(y_obs_lagm1_list)[:,:-1])\n",
    "    y_like = pm.Normal('y_like', mu=y_hats_final, sigma=sig, observed=np.array(y_obs_lagm1_list)[:,:-1])    "
   ]
  },
  {
   "cell_type": "code",
   "execution_count": 1030,
   "id": "e475284a",
   "metadata": {},
   "outputs": [
    {
     "data": {
      "text/html": [
       "\n",
       "    <div>\n",
       "        <style>\n",
       "            /* Turns off some styling */\n",
       "            progress {\n",
       "                /* gets rid of default border in Firefox and Opera. */\n",
       "                border: none;\n",
       "                /* Needs to be in here for Safari polyfill so background images work as expected. */\n",
       "                background-size: auto;\n",
       "            }\n",
       "            .progress-bar-interrupted, .progress-bar-interrupted::-webkit-progress-bar {\n",
       "                background: #F44336;\n",
       "            }\n",
       "        </style>\n",
       "      <progress value='2001' class='' max='2001' style='width:300px; height:20px; vertical-align: middle;'></progress>\n",
       "      100.00% [2001/2001 3:06:06<00:00 logp = -8.4321e+06, ||grad|| = 6.3124e+07]\n",
       "    </div>\n",
       "    "
      ],
      "text/plain": [
       "<IPython.core.display.HTML object>"
      ]
     },
     "metadata": {},
     "output_type": "display_data"
    },
    {
     "name": "stderr",
     "output_type": "stream",
     "text": [
      "\n"
     ]
    },
    {
     "name": "stdout",
     "output_type": "stream",
     "text": [
      "\n"
     ]
    }
   ],
   "source": [
    "map_estimate = pm.find_MAP(model=test_hw_model, maxeval=2000)\n",
    "# map_estimate = pm.find_MAP(model=test_hw_model)"
   ]
  },
  {
   "cell_type": "code",
   "execution_count": null,
   "id": "8b09b9df",
   "metadata": {},
   "outputs": [],
   "source": [
    "# if doesn't work, can do in chunks, though feels wrong\n",
    "# other option is to have the smoothing params not be hierarchical, except for season\n",
    "\n",
    "# if not getting good results with many zones, should at least be able to see why\n",
    "    # do we need more iters? ie in-sample fit is still getting better with iters\n",
    "    # too much regularization? ie zones params are too similar, can't fit uniqueness in diff zones\n",
    "    # maybe there are so many more local min now, so we need even stronger priors to guide to good sol'ns"
   ]
  },
  {
   "cell_type": "code",
   "execution_count": 876,
   "id": "7698eade",
   "metadata": {
    "collapsed": true
   },
   "outputs": [
    {
     "data": {
      "text/plain": [
       "{'initial_level_interval__': array([ 6.3079193 , -0.04695986,  3.82736349, -0.02482378,  3.16534917]),\n",
       " 'smoothing_level_mu_interval__': array(2.0728251),\n",
       " 'smoothing_level_sigma_log__': array(-1.21376528),\n",
       " 'smoothing_level_interval__': array([0.87148665, 5.83572419, 4.86476872, 3.70884873, 4.97470786]),\n",
       " 'initial_trend_interval__': array([-0.01061225, -0.01503506, -0.00059556, -0.00288672,  0.01409607]),\n",
       " 'smoothing_trend_mu_interval__': array(-1.59962653),\n",
       " 'smoothing_trend_sigma_log__': array(-0.79446046),\n",
       " 'smoothing_trend_interval__': array([-6.23101585, -4.24490371, -7.45376805, -0.04722587, -5.43186304]),\n",
       " 'initial_szns_mus_interval__': array([-0.37241538, -0.2927125 , -0.4120933 , -0.27313806, -0.38299485,\n",
       "        -0.30655171, -0.20372103, -0.24136549,  0.67608348,  0.68005687,\n",
       "         0.08417702,  0.41662365,  0.15875817, -0.01864617, -0.16288399,\n",
       "         0.0326455 ,  0.057148  , -0.15860901, -0.23931884, -0.33694738,\n",
       "         0.02311119,  0.16846361, -0.2315049 , -1.36288074, -0.90840914,\n",
       "         0.067753  ,  0.38828912,  0.62244061,  0.44356286,  0.38137964,\n",
       "         1.06095668,  1.30625208,  1.70810356,  1.30137098,  0.88778522,\n",
       "         0.57769409,  0.77419707,  0.35380547,  0.45762005,  0.33746871,\n",
       "         0.36748085,  0.09839423, -0.1707358 , -0.22406548, -0.44040759,\n",
       "        -0.8166088 , -0.71274473, -0.49628127, -0.51240041, -0.61697845,\n",
       "        -0.8886813 , -0.65015486]),\n",
       " 'initial_szns_interval__': array([[-5.59239384e-01, -7.00802271e-01, -5.18354678e-01,\n",
       "         -4.47388243e-01, -4.86949787e-01, -2.01271958e-01,\n",
       "         -1.43663592e-01, -1.66441471e-01,  4.63505862e-01,\n",
       "          5.11347215e-01, -3.25107912e-02,  9.99773373e-02,\n",
       "         -8.36207528e-02,  2.95246382e-03,  1.06226942e-01,\n",
       "          3.22458222e-02,  1.75235414e-01, -2.31666168e-01,\n",
       "         -2.79385243e-01, -3.73405762e-01,  1.06946496e-01,\n",
       "          3.52601153e-01, -3.84114741e-02, -1.80640609e+00,\n",
       "         -9.10021548e-01,  4.02693350e-01,  7.85568031e-01,\n",
       "          7.10549563e-01,  4.76082801e-01,  5.24059871e-01,\n",
       "          7.07122567e-01,  8.50099029e-01,  1.07481762e+00,\n",
       "          1.25243819e+00,  7.11739225e-01,  9.47223938e-01,\n",
       "          7.15413851e-01,  3.26986700e-01,  4.15516829e-01,\n",
       "          2.26229159e-01,  1.86806171e-01,  2.04688252e-01,\n",
       "         -2.13427235e-02,  1.94743064e-02, -1.23514925e-01,\n",
       "         -4.21856448e-01, -5.60884751e-01, -5.99897874e-01,\n",
       "         -5.75334130e-01, -6.21466942e-01, -8.69290507e-01,\n",
       "         -7.87848519e-01],\n",
       "        [-4.50886990e-01, -1.36077874e-01, -3.29527576e-01,\n",
       "         -2.65626531e-01, -4.87745428e-01, -3.92428698e-01,\n",
       "          5.46679259e-02,  4.92048725e-02,  4.98979916e-01,\n",
       "          7.41181165e-01,  8.61463784e-02,  2.99284047e-01,\n",
       "          1.44800516e-01, -3.35264074e-02,  1.54937969e-01,\n",
       "          8.96960352e-02, -2.16117913e-01, -1.53604811e-01,\n",
       "         -7.64223677e-02, -1.83385180e-01, -6.00130952e-02,\n",
       "          1.67237514e-02, -2.83603945e-02, -8.31900161e-01,\n",
       "         -9.05370412e-01,  2.02404643e-02,  1.10579143e-01,\n",
       "          4.32586241e-01,  3.98412405e-01,  7.72964314e-01,\n",
       "          1.02756901e+00,  1.29427718e+00,  1.85099007e+00,\n",
       "          1.14378327e+00,  6.01882124e-01,  4.68439106e-01,\n",
       "          8.56820390e-01,  4.02496840e-01,  3.85743443e-01,\n",
       "          3.13816835e-01,  3.13560567e-01,  1.62756350e-01,\n",
       "         -2.45934631e-01, -9.62383772e-02, -1.85185102e-01,\n",
       "         -5.77581990e-01, -5.93775720e-01, -4.59355985e-01,\n",
       "         -5.73756218e-01, -7.47588105e-01, -8.58698910e-01,\n",
       "         -5.50624911e-01],\n",
       "        [-2.73765852e-01, -9.08047448e-02, -5.11553410e-01,\n",
       "         -2.90114765e-01, -3.80260829e-01, -5.06704794e-01,\n",
       "         -7.07243718e-01, -3.59297278e-01,  1.01037409e+00,\n",
       "          8.17494411e-01,  4.33751286e-01,  6.74397899e-01,\n",
       "          4.00210666e-01, -4.04893443e-02, -6.22700094e-01,\n",
       "         -1.97749819e-01,  2.72351332e-01, -1.08814202e-02,\n",
       "         -3.74660409e-01, -4.36768251e-01, -7.07934746e-03,\n",
       "          2.69050840e-01, -2.96310248e-01, -3.04442525e+00,\n",
       "         -1.13784724e+00, -4.05790960e-01,  4.80435325e-01,\n",
       "          9.45761792e-01,  5.74048807e-01,  8.30918959e-01,\n",
       "          1.18145039e+00,  1.36399967e+00,  1.85103134e+00,\n",
       "          1.12607629e+00,  8.79897996e-01,  3.84651294e-01,\n",
       "          6.02988105e-01,  2.65121469e-01,  5.53023574e-01,\n",
       "          7.79259085e-01,  1.18675544e+00,  2.78171814e-01,\n",
       "         -2.59616311e-01, -5.05105882e-01, -7.62359730e-01,\n",
       "         -1.15719866e+00, -9.20016710e-01, -5.76692587e-01,\n",
       "         -8.54516853e-01, -8.84704477e-01, -1.06326599e+00,\n",
       "         -7.27234023e-01],\n",
       "        [-5.00512596e-01, -5.16581712e-01, -3.02824889e-01,\n",
       "         -1.92848521e-01, -1.23029818e-01, -6.75786955e-02,\n",
       "          1.80906921e-01,  2.51237868e-01,  3.21216866e-01,\n",
       "          3.39960092e-01,  2.41610268e-01,  3.40586276e-01,\n",
       "          1.66149859e-01,  6.47700068e-02, -6.78777852e-02,\n",
       "          1.04235044e-01,  1.22040334e-01, -2.85446895e-01,\n",
       "         -3.87988603e-01, -3.29420335e-01, -5.23792054e-02,\n",
       "          7.69529270e-02, -7.50496292e-01, -2.44143072e-01,\n",
       "         -5.08712404e-01,  9.79442468e-02,  2.42813695e-01,\n",
       "          7.12013766e-01,  6.14696372e-01, -1.73739990e+00,\n",
       "          1.36564140e+00,  1.59348551e+00,  5.26969388e+00,\n",
       "          2.38515671e+00,  1.46005825e+00,  9.95351654e-01,\n",
       "          8.37659611e-01,  4.69420219e-01,  5.29312200e-01,\n",
       "          1.70021453e-01,  6.65360389e-02, -1.66568429e-01,\n",
       "         -2.21107218e-01, -3.05923007e-01, -5.04234181e-01,\n",
       "         -7.32253136e-01, -5.98913595e-01, -7.08324914e-01,\n",
       "         -5.88127756e-01, -4.68646289e-01, -6.52462099e-01,\n",
       "         -4.69852044e-01],\n",
       "        [-2.95798653e-01,  3.68560129e-02, -3.64162997e-01,\n",
       "         -4.12945520e-01, -4.65472800e-01, -4.90503578e-01,\n",
       "         -9.94058148e-01, -6.71212324e-01,  1.64681285e+00,\n",
       "          1.32036270e+00,  1.17250396e-01,  3.21088498e-01,\n",
       "          6.78373796e-02, -1.03477199e-02, -2.84707783e-01,\n",
       "          9.02774549e-02, -8.11886921e-02, -6.42765482e-02,\n",
       "         -2.74194117e-01, -3.93677892e-01,  6.34044425e-02,\n",
       "          1.76250610e-01, -7.35522573e-02, -3.59044475e+00,\n",
       "         -1.26508586e+00, -6.32079493e-02,  5.93657512e-01,\n",
       "          6.17855243e-01,  5.54129802e-01,  1.11735896e+00,\n",
       "          1.26405038e+00,  1.22122516e+00,  1.27180750e+00,\n",
       "          1.16970199e+00,  8.27622518e-01,  3.12983321e-01,\n",
       "          5.45311773e-01,  2.90486571e-01,  5.67333586e-01,\n",
       "          6.47383203e-01,  4.99912126e-01,  2.28204173e-01,\n",
       "          8.60005407e-02, -1.21673166e-01, -7.12188314e-01,\n",
       "         -1.41940039e+00, -1.04884988e+00, -5.80966727e-01,\n",
       "         -4.62408356e-01, -7.76713896e-01, -9.96107023e-01,\n",
       "         -7.21989401e-01]]),\n",
       " 'smoothing_season_mu_interval__': array(-4.7517363),\n",
       " 'smoothing_season_sigma_log__': array(-3.73482495),\n",
       " 'smoothing_season_interval__': array([ -7.57945347, -10.97234161,  -7.41148762,  -9.72505802,\n",
       "         -7.23695756]),\n",
       " 'covid_level_change_interval__': array([-0.52539323,  0.65023814, -2.35252265,  9.37647464, -1.74581271]),\n",
       " 'covid_level_change2_interval__': array([ 1.43552773,  3.69830418, -2.21937312,  2.10831075, -0.00682612]),\n",
       " 'sigma_log__': array([[4.13346032],\n",
       "        [4.44299281],\n",
       "        [3.3477877 ],\n",
       "        [4.13403443],\n",
       "        [3.79704098]]),\n",
       " 'initial_level': array([2.19163992e+03, 4.88262192e-01, 3.53865812e+02, 4.93794374e-01,\n",
       "        5.99955652e+02]),\n",
       " 'smoothing_level_mu': array(0.88823373),\n",
       " 'smoothing_level_sigma': array(0.29707659),\n",
       " 'smoothing_level': array([0.70505495, 0.9970872 , 0.99234543, 0.97608045, 0.99313689]),\n",
       " 'initial_trend': array([-1.59182279, -2.25521617, -0.08933357, -0.43300718,  2.11437537]),\n",
       " 'smoothing_trend_mu': array(0.16803382),\n",
       " 'smoothing_trend_sigma': array(0.45182495),\n",
       " 'smoothing_trend': array([0.00196359, 0.01413447, 0.00057892, 0.48819573, 0.00435588]),\n",
       " 'initial_szns_mus': array([0.963183  , 0.97093597, 0.95936412, 0.97285475, 0.96216191,\n",
       "        0.96958266, 0.97969806, 0.97597995, 1.0651456 , 1.06550056,\n",
       "        1.00841274, 1.04107001, 1.01584256, 0.99813544, 0.98374752,\n",
       "        1.00326426, 1.00571325, 0.98417227, 0.97618169, 0.96662047,\n",
       "        1.00231102, 1.01680663, 0.97695235, 0.881509  , 0.9149302 ,\n",
       "        1.00677271, 1.03834831, 1.06030937, 1.04364306, 1.03768232,\n",
       "        1.09714933, 1.11475413, 1.13863606, 1.11442625, 1.08337316,\n",
       "        1.05621466, 1.07377124, 1.03501604, 1.04497977, 1.03343021,\n",
       "        1.03634005, 1.00983149, 0.98296777, 0.97768673, 0.95665754,\n",
       "        0.9225936 , 0.93159706, 0.95136599, 0.94985239, 0.94018759,\n",
       "        0.91655281, 0.93718186]),\n",
       " 'initial_szns': array([[0.94548939, 0.93265375, 0.94929482, 0.95599277, 0.95224495,\n",
       "         0.97994048, 0.9856583 , 0.98339417, 1.04553821, 1.0500489 ,\n",
       "         0.99674921, 1.00998941, 0.99164279, 1.00029525, 1.01061272,\n",
       "         1.0032243 , 1.01747884, 0.97693644, 0.9722418 , 0.96308733,\n",
       "         1.01068447, 1.03489928, 0.99615932, 0.85642922, 0.91479817,\n",
       "         1.03973384, 1.07475156, 1.06820903, 1.04672898, 1.05123864,\n",
       "         1.06790602, 1.08023517, 1.09820481, 1.11108866, 1.06831414,\n",
       "         1.08822262, 1.06863853, 1.03241041, 1.04096399, 1.02252692,\n",
       "         1.01862648, 1.02039766, 0.99786581, 1.00194737, 0.98766419,\n",
       "         0.95842904, 0.94533711, 0.94174682, 0.94400277, 0.93977916,\n",
       "         0.91816078, 0.92505233],\n",
       "        [0.95565996, 0.98641317, 0.96734223, 0.97359244, 0.95216993,\n",
       "         0.96125311, 1.00546543, 1.00491949, 1.04888783, 1.07090164,\n",
       "         1.00860931, 1.02970699, 1.0144548 , 0.99664767, 1.01546288,\n",
       "         1.00896359, 0.97847194, 0.98466965, 0.99236148, 0.9817127 ,\n",
       "         0.99400049, 1.00167234, 0.99716415, 0.92129738, 0.91517925,\n",
       "         1.00202398, 1.01104666, 1.04259643, 1.03932247, 1.07366471,\n",
       "         1.09457773, 1.11394811, 1.14569732, 1.10334943, 1.05843472,\n",
       "         1.0460057 , 1.08079837, 1.03971496, 1.03810304, 1.03112665,\n",
       "         1.03110165, 1.0162398 , 0.97552975, 0.99038358, 0.98153423,\n",
       "         0.94379567, 0.9423076 , 0.95485545, 0.94414822, 0.92853883,\n",
       "         0.9190445 , 0.94628777],\n",
       "        [0.97279313, 0.99092576, 0.94993178, 0.97119031, 0.9624256 ,\n",
       "         0.95038653, 0.93208327, 0.96445187, 1.09323734, 1.07748169,\n",
       "         1.04270763, 1.06499489, 1.03949531, 0.99595162, 0.93966704,\n",
       "         0.98028921, 1.02706802, 0.99891187, 0.96296615, 0.95700452,\n",
       "         0.99929207, 1.02674395, 0.97058389, 0.81818351, 0.89708633,\n",
       "         0.95996872, 1.04714027, 1.08810482, 1.05587876, 1.07861968,\n",
       "         1.10608339, 1.11856359, 1.14569926, 1.10204563, 1.08272043,\n",
       "         1.03799778, 1.05853586, 1.02635794, 1.05393472, 1.07420816,\n",
       "         1.10646411, 1.02763919, 0.97418321, 0.95053661, 0.92725367,\n",
       "         0.89567067, 0.9139818 , 0.94387759, 0.91939448, 0.91688154,\n",
       "         0.90267433, 0.9303208 ],\n",
       "        [0.95096809, 0.94946076, 0.96994682, 0.98077469, 0.98771251,\n",
       "         0.9932447 , 1.01804151, 1.02499246, 1.03184831, 1.03367233,\n",
       "         1.02404417, 1.03373317, 1.01657687, 1.00647474, 0.99321483,\n",
       "         1.01041408, 1.01218891, 0.97164756, 0.96168064, 0.96735267,\n",
       "         0.99476328, 1.0076915 , 0.92828527, 0.97570624, 0.95019817,\n",
       "         1.0097866 , 1.02416277, 1.06833839, 1.05960454, 0.8598574 ,\n",
       "         1.11867002, 1.13244237, 1.19795246, 1.16627536, 1.12461663,\n",
       "         1.09205747, 1.07918883, 1.04609861, 1.05172907, 1.01696131,\n",
       "         1.00665115, 0.98338156, 0.97797892, 0.96964408, 0.95061846,\n",
       "         0.92988019, 0.94183691, 0.93198763, 0.94282582, 0.95397468,\n",
       "         0.93697397, 0.95386051],\n",
       "        [0.97063394, 1.00368518, 0.96398088, 0.95928242, 0.95427533,\n",
       "         0.95190998, 0.90804451, 0.93529017, 1.13538393, 1.11569682,\n",
       "         1.01171163, 1.0318358 , 1.00678114, 0.99896524, 0.97171999,\n",
       "         1.00902162, 0.99188559, 0.99357456, 0.97275109, 0.96113289,\n",
       "         1.00633832, 1.01757958, 0.99264809, 0.8107382 , 0.88803985,\n",
       "         0.99368131, 1.05768156, 1.05989224, 1.05403728, 1.1013994 ,\n",
       "         1.11188903, 1.10891163, 1.1124208 , 1.10523646, 1.0783408 ,\n",
       "         1.03104532, 1.05321888, 1.0288461 , 1.05525907, 1.06256821,\n",
       "         1.04897547, 1.0227219 , 1.00859476, 0.98784767, 0.93164619,\n",
       "         0.87790224, 0.90377841, 0.94348407, 0.95456586, 0.92601142,\n",
       "         0.90788301, 0.93078202]]),\n",
       " 'smoothing_season_mu': array(0.00856273),\n",
       " 'smoothing_season_sigma': array(0.02387735),\n",
       " 'smoothing_season': array([5.10579509e-04, 1.71697957e-05, 6.03906178e-04, 5.97633608e-05,\n",
       "        7.18980156e-04]),\n",
       " 'covid_level_change': array([1857.95991269, 3285.32062905,  434.32733581, 4999.57656961,\n",
       "         742.88058201]),\n",
       " 'covid_level_change2': array([4038.80569908, 4879.16509188,  490.12108252, 4458.54159671,\n",
       "        2491.46737694]),\n",
       " 'sigma': array([[62.39345091],\n",
       "        [85.02903708],\n",
       "        [28.43974677],\n",
       "        [62.42928238],\n",
       "        [44.56910849]])}"
      ]
     },
     "execution_count": 876,
     "metadata": {},
     "output_type": "execute_result"
    }
   ],
   "source": [
    "map_estimate"
   ]
  },
  {
   "cell_type": "code",
   "execution_count": 1038,
   "id": "1ea65cb4",
   "metadata": {},
   "outputs": [
    {
     "data": {
      "text/plain": [
       "array([1.        , 1.        , 1.        , 1.00000001, 1.00000001,\n",
       "       1.00000001, 1.        , 0.99999999, 0.99999999, 0.99999998,\n",
       "       1.        , 1.        , 1.        , 1.        , 1.        ,\n",
       "       0.99999999, 0.99999999, 1.        , 0.99999999, 1.        ,\n",
       "       1.00000001, 0.99999999, 0.99999999, 1.00000002, 1.00000005,\n",
       "       1.00000009, 1.00000011, 1.00000009, 1.        , 0.99999986,\n",
       "       0.99999969, 0.99999959, 0.99999962, 0.99999984, 0.9999999 ,\n",
       "       0.99999997, 1.00000002, 1.00000002, 0.99999985, 0.99999998,\n",
       "       1.00000001, 1.00000002, 1.        , 1.00000001, 0.99999998,\n",
       "       1.        , 1.        , 1.        , 1.        , 1.        ,\n",
       "       1.        , 1.        ])"
      ]
     },
     "execution_count": 1038,
     "metadata": {},
     "output_type": "execute_result"
    }
   ],
   "source": [
    "map_estimate['initial_szns_mus']"
   ]
  },
  {
   "cell_type": "code",
   "execution_count": null,
   "id": "15486b03",
   "metadata": {},
   "outputs": [],
   "source": [
    "# from a quick glance:\n",
    "    # [/] maybe allowing sigma to be too big (ie 1808 for one of these zones)\n",
    "    # maybe allowing to much deviation from initial_szns_mus at zone-level (ie some of the szn estimates are wildly far from 1)\n",
    "    # maybe should allow initial_szns_mus to vary more (they are all close to 1)\n",
    "        # maybe this is what happens w/ so many zones, if there aren't enough consistent patterns across all zones\n",
    "        # embedding-based approach would address this.. sigh\n",
    "        \n",
    "# maybe it gets stuck in some bad parts of solution space, given this is very non-linear\n",
    "# maybe we should also impose upper and lower for the szn estimates [0.8,1.2]\n",
    "\n",
    "# can see how in-sample vs oos is. if overfitting, can regularize more towards nat'l patterns (reduce sigmas)"
   ]
  },
  {
   "cell_type": "code",
   "execution_count": 537,
   "id": "805e5bba",
   "metadata": {},
   "outputs": [
    {
     "data": {
      "text/plain": [
       "{'initial_level_interval__': array([-1.19653011, -2.57818543]),\n",
       " 'smoothing_level_mu_interval__': array(0.1446876),\n",
       " 'smoothing_level_sigma_log__': array(-1.42126599),\n",
       " 'smoothing_level_interval__': array([ 0.91449014, -0.22673056]),\n",
       " 'initial_trend_interval__': array([-0.00064844, -0.09167513]),\n",
       " 'smoothing_trend_mu_interval__': array(-0.38171296),\n",
       " 'smoothing_trend_sigma_log__': array(-0.8213002),\n",
       " 'smoothing_trend_interval__': array([-5.49871439, -0.41288752]),\n",
       " 'initial_szns_mus': array([0.99057246, 0.99494886, 1.00087926, 1.01719897, 0.97747316,\n",
       "        0.9971368 , 0.99410079, 0.99838702, 1.00877088, 1.01128207,\n",
       "        1.00755132, 1.00721264, 1.00285175, 1.0003327 , 0.99762605,\n",
       "        0.9990049 , 1.00234708, 0.99928614, 0.99851664, 0.99841687,\n",
       "        1.00273971, 1.00551988, 0.99993349, 0.9812178 , 0.99002783,\n",
       "        0.99960781, 1.00561201, 1.00656411, 1.00223114, 1.00230703,\n",
       "        1.00289446, 1.0019637 , 1.00412418, 1.00368673, 1.00112224,\n",
       "        1.00111544, 1.00302681, 1.00071136, 1.00411931, 1.00531719,\n",
       "        1.00803962, 1.00421564, 1.00007204, 0.99923748, 0.99701448,\n",
       "        0.99277682, 0.99225409, 0.99337829, 0.99177576, 0.99145576,\n",
       "        0.98952168, 0.9907709 ]),\n",
       " 'initial_szns': array([[0.92967459, 0.91300651, 0.93223872, 0.94086232, 0.93805523,\n",
       "         0.9693237 , 0.97747669, 0.97548202, 1.03871522, 1.04512459,\n",
       "         0.99446034, 1.00951933, 0.9917057 , 1.00451458, 1.01977978,\n",
       "         1.01264228, 1.02971178, 0.98741527, 0.98607927, 0.97492941,\n",
       "         1.02508426, 1.04936494, 1.00675253, 0.85757016, 0.91460338,\n",
       "         1.04006836, 1.07235824, 1.0634856 , 1.03922565, 1.04011267,\n",
       "         1.05283597, 1.06374602, 1.08015552, 1.09390358, 1.05154066,\n",
       "         1.07450845, 1.05877061, 1.02545421, 1.03557953, 1.01944164,\n",
       "         1.01670899, 1.02242699, 1.00137723, 1.00511389, 0.98992652,\n",
       "         0.95956516, 0.94649891, 0.94129711, 0.94250142, 0.93531877,\n",
       "         0.91056511, 0.91541153],\n",
       "        [0.91691001, 1.01302423, 1.06624533, 1.33407443, 0.57458412,\n",
       "         0.97360896, 0.95518172, 1.01003233, 1.14310455, 1.13925162,\n",
       "         1.10437869, 1.10380726, 1.05617453, 1.00164802, 0.94553775,\n",
       "         0.98174829, 1.02170017, 0.99946179, 0.97979463, 0.98845802,\n",
       "         1.02552226, 1.0485179 , 0.97847352, 0.82211874, 0.88724296,\n",
       "         0.94143408, 1.02107726, 1.05282407, 1.00560119, 1.00382512,\n",
       "         1.00129027, 0.9899706 , 0.99971572, 0.97535331, 0.96768993,\n",
       "         0.94348842, 0.98566676, 0.98162322, 1.03498846, 1.07847002,\n",
       "         1.13187335, 1.06463761, 1.01080649, 0.98490299, 0.95525797,\n",
       "         0.91169967, 0.9206393 , 0.94208316, 0.91283099, 0.90838178,\n",
       "         0.89066777, 0.9094832 ]]),\n",
       " 'smoothing_season_mu_interval__': array(-1.48876309),\n",
       " 'smoothing_season_sigma_log__': array(-1.16643472),\n",
       " 'smoothing_season_interval__': array([-6.61800287, -9.06899042]),\n",
       " 'covid_level_change_interval__': array([-0.49553827, -2.11246828]),\n",
       " 'covid_level_change2_interval__': array([ 0.10370204, -1.82692681]),\n",
       " 'sigma_log__': array([[4.1227833 ],\n",
       "        [4.09968203]]),\n",
       " 'initial_level': array([2320.93065277,  705.55633318]),\n",
       " 'smoothing_level_mu': array(0.53610893),\n",
       " 'smoothing_level_sigma': array(0.2414082),\n",
       " 'smoothing_level': array([0.7139181 , 0.44355894]),\n",
       " 'initial_trend': array([  -1.62109207, -229.02745274]),\n",
       " 'smoothing_trend_mu': array(0.40571382),\n",
       " 'smoothing_trend_sigma': array(0.43985938),\n",
       " 'smoothing_trend': array([0.00407535, 0.39821995]),\n",
       " 'smoothing_season_mu': array(0.18410745),\n",
       " 'smoothing_season_sigma': array(0.31147546),\n",
       " 'smoothing_season': array([0.00133431, 0.00011517]),\n",
       " 'covid_level_change': array([1892.94881784,  539.45432072]),\n",
       " 'covid_level_change2': array([2629.51150307,  693.02392559]),\n",
       " 'sigma': array([[61.73081858],\n",
       "        [60.32110419]])}"
      ]
     },
     "execution_count": 537,
     "metadata": {},
     "output_type": "execute_result"
    }
   ],
   "source": [
    "map_estimate"
   ]
  },
  {
   "cell_type": "code",
   "execution_count": null,
   "id": "91f07eaa",
   "metadata": {},
   "outputs": [],
   "source": [
    "# [X] look at in-sample fits for both :D\n",
    "\n",
    "# [X] maybe make it s.t. only the seasons are hierarchical, see if we get better fit, then work back towards more shared params from there\n",
    "    # [/] or increase sigmas to allow more variation\n",
    "    \n",
    "# [/] can try just with one zone if ^ doesn't work\n",
    "\n",
    "# [X] any dumb lil bugs? wrong var being used, wrong shifting with the ys[1:] stuff, etc. YES!\n",
    "\n",
    "# [] diff initial levels\n",
    "    # [-] and maybe cut out first couple weeks\n",
    "    \n",
    "# [] can we impose some smoothness on the initial seasons?\n",
    "    # basically want to impose correlation b/w adjacent seasons\n",
    "# [] backtest with more zones\n",
    "    # pretty slow with more zones\n",
    "    # can we speed it up by using diff initial levels?\n",
    "    # what if we have more or less variance allowed? less variance = less to explore i guess?\n",
    "\n",
    "    # may need to restrict things more based on the values we're seeing\n",
    "    # also try with smaller set of zones to simplify/help debug\n",
    "    # [] introduce some zones with many 0's to see how that's handled\n",
    "    \n",
    "    # wonder if embedding-based approach would help... seems this should be a good step first though\n",
    "    \n",
    "# [] compare in and out of sample fits for these zones with zone-specific method\n",
    "\n",
    "# [X] diff sigmas\n",
    "# [/] maybe a prior for szns sigma (0.2 is big. can try making it smaller, or a prior)"
   ]
  },
  {
   "cell_type": "code",
   "execution_count": 1031,
   "id": "7a224c24",
   "metadata": {},
   "outputs": [
    {
     "name": "stderr",
     "output_type": "stream",
     "text": [
      "WARNING (theano.scan.basic): Output None (index 0) has a initial state but taps is explicitly set to None \n",
      "WARNING (theano.scan.basic): Output None (index 1) has a initial state but taps is explicitly set to None \n"
     ]
    }
   ],
   "source": [
    "# szn_smoother = tt.as_tensor_variable(map_estimate['smoothing_season'])\n",
    "\n",
    "\n",
    "def hw_component_wise_wrapper_final(szn_smoother, level_smoother, trend_smoother, covid_level_change, covid_level_change2):\n",
    "        def hw_component_wise_final(y, covid_start, data_start, prior_level, prior_trend, szn_m52):\n",
    "            updated_szn = data_start*(szn_smoother * y / (prior_level + prior_trend) + (1 - szn_smoother) * szn_m52) + (1 - data_start)*(szn_m52)\n",
    "\n",
    "\n",
    "            next_level = data_start*(level_smoother * (y/szn_m52) + (1 - level_smoother)*(prior_level + prior_trend) + covid_start*covid_level_change) + (1 - data_start)*(prior_level)\n",
    "            \n",
    "            next_trend = data_start*(trend_smoother * (next_level - prior_level) + (1 - trend_smoother)*prior_trend - covid_start*trend_smoother*covid_level_change2) + (1 - data_start)*(prior_trend)\n",
    "\n",
    "\n",
    "            return next_level, next_trend, updated_szn\n",
    "        return hw_component_wise_final\n",
    "    \n",
    "def inner_scan_for_zone_final(szn_smoother, level_smoother, trend_smoother, covid_level_change, covid_level_change2, ys, is_covid_start, data_start, estimated_initial_level, estimated_initial_trend, estimated_initial_szns):\n",
    "#     import pdb; pdb.set_trace()\n",
    "    outputs, updates = theano.scan(hw_component_wise_wrapper_final(szn_smoother, level_smoother, trend_smoother, covid_level_change, covid_level_change2),\n",
    "                                  sequences=[\n",
    "                                      ys[1:], # this [1:] is done assuming we padded and shifted y_obs\n",
    "                                      is_covid_start[1:],\n",
    "                                      data_start[1:]\n",
    "                                  ],\n",
    "                                  outputs_info=[\n",
    "#                                       dict(initial = map_estimate['initial_level'][z_idx], taps=None),\n",
    "                                      dict(initial = estimated_initial_level, taps=None),\n",
    "                                      \n",
    "                                      dict(initial = estimated_initial_trend, taps=None),\n",
    "#                                       dict(initial = map_estimate['initial_trend'][z_idx], taps=None),\n",
    "                                      \n",
    "                                      dict(initial = estimated_initial_szns, taps=[-szn_len])\n",
    "                                  ])\n",
    "    return outputs\n",
    "\n",
    "outputs, updates = theano.scan(inner_scan_for_zone_final,\n",
    "           sequences=[\n",
    "               tt.as_tensor_variable(map_estimate['smoothing_season']),\n",
    "               tt.as_tensor_variable(map_estimate['smoothing_level']),\n",
    "               tt.as_tensor_variable(map_estimate['smoothing_trend']),\n",
    "               tt.as_tensor_variable(map_estimate['covid_level_change']),\n",
    "               tt.as_tensor_variable(map_estimate['covid_level_change2']),\n",
    "#                tt.as_index_constant(np.unique(zone_idx)),\n",
    "#                tt.as_tensor_variable(np.unique(zone_idx)),\n",
    "#                tt.cast(np.unique(zone_idx), 'int64'),\n",
    "#                np.unique(zone_idx),\n",
    "               tt.as_tensor_variable(ys_list),\n",
    "#                np.array(ys_list),\n",
    "               tt.as_tensor_variable(is_covid_start_list),\n",
    "               tt.as_tensor_variable(data_start_list),\n",
    "#                np.array(is_covid_start_list),\n",
    "#                np.array(first_t_list)\n",
    "               tt.as_tensor_variable(map_estimate['initial_level']),\n",
    "               tt.as_tensor_variable(map_estimate['initial_trend']),\n",
    "               tt.as_tensor_variable(map_estimate['initial_szns']),\n",
    "               \n",
    "           ])\n",
    "\n",
    "levels = outputs[0]\n",
    "trends = outputs[1]\n",
    "seasons = outputs[2]\n",
    "\n",
    "levels_f = pm.math.concatenate([map_estimate['initial_level'].reshape((d2.zone_id.nunique(),1)), levels[:,:-1]], axis=1)\n",
    "trends_f = pm.math.concatenate([map_estimate['initial_trend'].reshape((d2.zone_id.nunique(),1)), trends[:,:-1]], axis=1)\n",
    "seasons_f = pm.math.concatenate([map_estimate['initial_szns'], seasons[:,:-szn_len]], axis=1)\n",
    "\n",
    "levels_and_trends = pm.math.stack([levels_f, trends_f], axis=1)\n",
    "level_plus_trend = levels_and_trends.sum(axis=1)\n",
    "\n",
    "level_plus_trend_and_seasons = pm.math.stack([level_plus_trend, seasons_f], axis=1)\n",
    "y_hats = level_plus_trend_and_seasons.prod(axis=1)\n",
    "\n",
    "y_hats_and_data_start = pm.math.stack([y_hats, np.array(data_start_list)[:, 1:]], axis=1)\n",
    "y_hats_final = y_hats_and_data_start.prod(axis=1)\n",
    "\n",
    "# sig = pm.HalfCauchy('sigma', beta=10)\n",
    "# y_like = pm.Normal('y_like', mu=y_hats, sigma=sig, observed=np.array(y_obs_lagm1_list)[:,:-1])"
   ]
  },
  {
   "cell_type": "code",
   "execution_count": 1032,
   "id": "ef8dfc93",
   "metadata": {},
   "outputs": [],
   "source": [
    "horizon = 3\n",
    "\n",
    "corresponding_szn_idx = (horizon - szn_len) - 1\n",
    "szn_estimates = seasons.get_test_value()[:, corresponding_szn_idx]"
   ]
  },
  {
   "cell_type": "code",
   "execution_count": 1033,
   "id": "57e63d28",
   "metadata": {},
   "outputs": [
    {
     "name": "stderr",
     "output_type": "stream",
     "text": [
      "/Users/sorenzeliger/.pyenv/versions/3.8.6/lib/python3.8/site-packages/seaborn/distributions.py:2557: FutureWarning: `distplot` is a deprecated function and will be removed in a future version. Please adapt your code to use either `displot` (a figure-level function with similar flexibility) or `histplot` (an axes-level function for histograms).\n",
      "  warnings.warn(msg, FutureWarning)\n"
     ]
    },
    {
     "data": {
      "text/plain": [
       "<AxesSubplot:ylabel='Density'>"
      ]
     },
     "execution_count": 1033,
     "metadata": {},
     "output_type": "execute_result"
    },
    {
     "data": {
      "image/png": "[encoded data removed]",
      "text/plain": [
       "<Figure size 432x288 with 1 Axes>"
      ]
     },
     "metadata": {},
     "output_type": "display_data"
    }
   ],
   "source": [
    "sns.distplot(szn_estimates)"
   ]
  },
  {
   "cell_type": "code",
   "execution_count": 1015,
   "id": "1ac8a49f",
   "metadata": {},
   "outputs": [
    {
     "name": "stderr",
     "output_type": "stream",
     "text": [
      "/Users/sorenzeliger/.pyenv/versions/3.8.6/lib/python3.8/site-packages/seaborn/distributions.py:2557: FutureWarning: `distplot` is a deprecated function and will be removed in a future version. Please adapt your code to use either `displot` (a figure-level function with similar flexibility) or `histplot` (an axes-level function for histograms).\n",
      "  warnings.warn(msg, FutureWarning)\n"
     ]
    },
    {
     "data": {
      "text/plain": [
       "<AxesSubplot:ylabel='Density'>"
      ]
     },
     "execution_count": 1015,
     "metadata": {},
     "output_type": "execute_result"
    },
    {
     "data": {
      "image/png": "[encoded data removed]",
      "text/plain": [
       "<Figure size 432x288 with 1 Axes>"
      ]
     },
     "metadata": {},
     "output_type": "display_data"
    }
   ],
   "source": [
    "sns.distplot(trends.get_test_value()[:,-1])"
   ]
  },
  {
   "cell_type": "code",
   "execution_count": 1025,
   "id": "bc21725b",
   "metadata": {},
   "outputs": [
    {
     "data": {
      "text/plain": [
       "datetime.date(2021, 4, 26)"
      ]
     },
     "execution_count": 1025,
     "metadata": {},
     "output_type": "execute_result"
    }
   ],
   "source": [
    "f_date"
   ]
  },
  {
   "cell_type": "code",
   "execution_count": 1026,
   "id": "00c38f7b",
   "metadata": {},
   "outputs": [
    {
     "data": {
      "text/plain": [
       "(472,)"
      ]
     },
     "execution_count": 1026,
     "metadata": {},
     "output_type": "execute_result"
    }
   ],
   "source": [
    "levels.get_test_value()[:, -1].shape"
   ]
  },
  {
   "cell_type": "code",
   "execution_count": 998,
   "id": "1b0969b8",
   "metadata": {},
   "outputs": [],
   "source": [
    "preds = (levels.get_test_value()[:, -1] + horizon*trends.get_test_value()[:,-1])*szn_estimates"
   ]
  },
  {
   "cell_type": "code",
   "execution_count": 1000,
   "id": "4aad9238",
   "metadata": {},
   "outputs": [
    {
     "data": {
      "text/plain": [
       "array([ 0,  1,  2,  3,  4,  5,  6,  7,  8,  9, 10, 11, 12, 13, 14, 15, 16,\n",
       "       17, 18, 19, 20, 21, 22, 23, 24, 25, 26, 27, 28, 29, 30, 31, 32, 33,\n",
       "       34, 35, 36, 37, 38, 39, 40, 41, 42, 43, 44, 45, 46, 47, 48, 49, 50,\n",
       "       51, 52, 53, 54, 55, 56, 57, 58, 59, 60, 61, 62, 63, 64, 65, 66, 67,\n",
       "       68, 69, 70, 71, 72, 73, 74, 75, 76, 77, 78, 79, 80, 81, 82, 83, 84,\n",
       "       85, 86, 87, 88, 89])"
      ]
     },
     "execution_count": 1000,
     "metadata": {},
     "output_type": "execute_result"
    }
   ],
   "source": [
    "np.unique(zone_idx)"
   ]
  },
  {
   "cell_type": "code",
   "execution_count": 1001,
   "id": "bfe116af",
   "metadata": {},
   "outputs": [
    {
     "data": {
      "text/plain": [
       "array([   1,  475,  974,  185,  204,  979,  190,  489,  714,  184,  975,\n",
       "        183,  981,  477,  786,  982,  178,  983,  973,  988,  980,  495,\n",
       "        181,  521,  186,  972,  225,  428,  182,  439,  438,  783,  161,\n",
       "       1002,  541, 1029,  530,  452,  989, 1001,  440,  861,  167,  166,\n",
       "        441,  787,  945,  262,  709,  144,  785,  437,  169,  245,  946,\n",
       "        713,  942,  266,  707,  943,  131,  272,  103,  273,  104,   87,\n",
       "         90,  392,   32,  617,   79,   76,  694,  839,   50,  840,  620,\n",
       "        307,   43,   37,   38,  616,   16,  357,  853,   33,  692,   27,\n",
       "         18,  348])"
      ]
     },
     "execution_count": 1001,
     "metadata": {},
     "output_type": "execute_result"
    }
   ],
   "source": [
    "d2.zone_id.unique()"
   ]
  },
  {
   "cell_type": "code",
   "execution_count": 999,
   "id": "14df4d59",
   "metadata": {},
   "outputs": [
    {
     "data": {
      "text/plain": [
       "array([ 4135.29266987,  1450.46643005,  5355.28661801,  1963.05074503,\n",
       "        2131.35287375,  3209.1273468 ,  1234.97572979,  1161.93551319,\n",
       "        4523.45877941,  1685.09717116,  5633.20947819,  3079.51624964,\n",
       "        5695.08250262,  1485.05682217,  3384.31031586,  2656.23101607,\n",
       "        1472.58528501,  4983.89944018,  6841.83398303,  2567.68962436,\n",
       "        3276.41777214,  1046.37522406,  2287.21926498,  1401.5819682 ,\n",
       "        1673.76974829,  7581.17905962,  2030.44749386,  1493.60359146,\n",
       "        1951.21843394,  1898.51455282,  1451.5446648 ,  3898.35285463,\n",
       "        1367.65607   ,  5246.53070204,  1445.18315485,  1490.91711805,\n",
       "        1693.16928201,  1129.45259347,  3543.88498329,  4710.70896482,\n",
       "        2188.85264697,  7344.59177832,  1650.23550304,  1621.65017541,\n",
       "        1628.75394856,  3443.11751386,  3234.34426342,  2335.1912656 ,\n",
       "        2430.6096068 ,  2364.99727583, 10082.42276203,  1528.7323551 ,\n",
       "        1827.52021551,  2021.10036512,  3322.60642189,  2694.7958591 ,\n",
       "        8572.85048126,  1484.72186932,  1569.17245363,  6113.41859766,\n",
       "        3020.73279498,  1429.47952922,  1792.98656211,  1489.7794231 ,\n",
       "        1976.50526115,  2796.26958758,  1297.99249969,  2627.89854241,\n",
       "        1602.96039183,  1576.24815182,  3329.9944061 ,  1703.55718338,\n",
       "        1599.23940046,  4778.58926363,  1821.46607803,  2325.53963916,\n",
       "        1731.30397647,  1444.79446274,  2818.61233721,  1576.39529311,\n",
       "        1532.49728568,  1607.79706417,  2532.01269658,  1583.93116074,\n",
       "        1595.10728918,  3103.28645244,  1663.56317789,  2907.63453358,\n",
       "        1260.19931323,  1354.03032581])"
      ]
     },
     "execution_count": 999,
     "metadata": {},
     "output_type": "execute_result"
    }
   ],
   "source": [
    "preds"
   ]
  },
  {
   "cell_type": "code",
   "execution_count": 1008,
   "id": "c2c4b7a0",
   "metadata": {},
   "outputs": [],
   "source": [
    "pred_df = pd.DataFrame({'zone_id': d2.zone_id.unique(), 'pred': preds})\n",
    "pred_df['pred_for_date'] = f_date + timedelta(weeks=2)"
   ]
  },
  {
   "cell_type": "code",
   "execution_count": 1005,
   "id": "026aadfe",
   "metadata": {
    "collapsed": true
   },
   "outputs": [
    {
     "data": {
      "text/plain": [
       "['zone_id',\n",
       " 'date',\n",
       " 'total_demand_new',\n",
       " 'total_demand_new_lag1',\n",
       " 'total_demand_new_lag2',\n",
       " 'total_demand_new_lag3',\n",
       " 'total_demand_new_lag-1',\n",
       " 'total_demand_new_lag-2',\n",
       " 'total_demand_new_lag-3',\n",
       " 'smoothed_total_demand',\n",
       " 'year',\n",
       " 'total_demand_new_lag4',\n",
       " 't4w_total_demand',\n",
       " 'month',\n",
       " 'week',\n",
       " 'day',\n",
       " 't4w_total_demand_lag2',\n",
       " 'szn_factor',\n",
       " 'y_obs',\n",
       " 'covid_start_m1']"
      ]
     },
     "execution_count": 1005,
     "metadata": {},
     "output_type": "execute_result"
    }
   ],
   "source": [
    "list(df_prep)"
   ]
  },
  {
   "cell_type": "code",
   "execution_count": 1009,
   "id": "66c38224",
   "metadata": {},
   "outputs": [
    {
     "data": {
      "text/plain": [
       "(90, 22)"
      ]
     },
     "execution_count": 1009,
     "metadata": {},
     "output_type": "execute_result"
    }
   ],
   "source": [
    "res = pred_df.merge(df_prep, left_on=['zone_id', 'pred_for_date'], right_on=['zone_id', 'date'])\n",
    "res.shape"
   ]
  },
  {
   "cell_type": "code",
   "execution_count": 1010,
   "id": "3406c603",
   "metadata": {},
   "outputs": [],
   "source": [
    "res['error_new'] = res.pred - res.total_demand_new\n",
    "res['pct_error_new'] = res.error_new / res.total_demand_new\n",
    "res['abs_error_new'] = res.error_new.abs()\n",
    "res['abs_pct_error_new'] = res.pct_error_new.abs()\n",
    "\n",
    "res['error_old'] = res.total_demand_new_lag3 - res.total_demand_new\n",
    "res['pct_error_old'] = res.error_old / res.total_demand_new\n",
    "res['abs_error_old'] = res.error_old.abs()\n",
    "res['abs_pct_error_old'] = res.pct_error_old.abs()"
   ]
  },
  {
   "cell_type": "code",
   "execution_count": 1011,
   "id": "6dfa070d",
   "metadata": {},
   "outputs": [
    {
     "data": {
      "text/html": [
       "<div>\n",
       "<style scoped>\n",
       "    .dataframe tbody tr th:only-of-type {\n",
       "        vertical-align: middle;\n",
       "    }\n",
       "\n",
       "    .dataframe tbody tr th {\n",
       "        vertical-align: top;\n",
       "    }\n",
       "\n",
       "    .dataframe thead th {\n",
       "        text-align: right;\n",
       "    }\n",
       "</style>\n",
       "<table border=\"1\" class=\"dataframe\">\n",
       "  <thead>\n",
       "    <tr style=\"text-align: right;\">\n",
       "      <th></th>\n",
       "      <th>abs_pct_error_new</th>\n",
       "      <th>abs_pct_error_old</th>\n",
       "    </tr>\n",
       "  </thead>\n",
       "  <tbody>\n",
       "    <tr>\n",
       "      <th>count</th>\n",
       "      <td>90.000000</td>\n",
       "      <td>90.000000</td>\n",
       "    </tr>\n",
       "    <tr>\n",
       "      <th>mean</th>\n",
       "      <td>0.079492</td>\n",
       "      <td>0.059406</td>\n",
       "    </tr>\n",
       "    <tr>\n",
       "      <th>std</th>\n",
       "      <td>0.044866</td>\n",
       "      <td>0.035605</td>\n",
       "    </tr>\n",
       "    <tr>\n",
       "      <th>min</th>\n",
       "      <td>0.000656</td>\n",
       "      <td>0.003052</td>\n",
       "    </tr>\n",
       "    <tr>\n",
       "      <th>25%</th>\n",
       "      <td>0.046523</td>\n",
       "      <td>0.031113</td>\n",
       "    </tr>\n",
       "    <tr>\n",
       "      <th>50%</th>\n",
       "      <td>0.078098</td>\n",
       "      <td>0.056606</td>\n",
       "    </tr>\n",
       "    <tr>\n",
       "      <th>75%</th>\n",
       "      <td>0.106892</td>\n",
       "      <td>0.083699</td>\n",
       "    </tr>\n",
       "    <tr>\n",
       "      <th>max</th>\n",
       "      <td>0.197834</td>\n",
       "      <td>0.178745</td>\n",
       "    </tr>\n",
       "  </tbody>\n",
       "</table>\n",
       "</div>"
      ],
      "text/plain": [
       "       abs_pct_error_new  abs_pct_error_old\n",
       "count          90.000000          90.000000\n",
       "mean            0.079492           0.059406\n",
       "std             0.044866           0.035605\n",
       "min             0.000656           0.003052\n",
       "25%             0.046523           0.031113\n",
       "50%             0.078098           0.056606\n",
       "75%             0.106892           0.083699\n",
       "max             0.197834           0.178745"
      ]
     },
     "execution_count": 1011,
     "metadata": {},
     "output_type": "execute_result"
    }
   ],
   "source": [
    "res[['abs_pct_error_new', 'abs_pct_error_old']].describe()"
   ]
  },
  {
   "cell_type": "code",
   "execution_count": 1014,
   "id": "f31ec4dc",
   "metadata": {},
   "outputs": [
    {
     "data": {
      "text/html": [
       "<div>\n",
       "<style scoped>\n",
       "    .dataframe tbody tr th:only-of-type {\n",
       "        vertical-align: middle;\n",
       "    }\n",
       "\n",
       "    .dataframe tbody tr th {\n",
       "        vertical-align: top;\n",
       "    }\n",
       "\n",
       "    .dataframe thead th {\n",
       "        text-align: right;\n",
       "    }\n",
       "</style>\n",
       "<table border=\"1\" class=\"dataframe\">\n",
       "  <thead>\n",
       "    <tr style=\"text-align: right;\">\n",
       "      <th></th>\n",
       "      <th>pct_error_new</th>\n",
       "      <th>pct_error_old</th>\n",
       "    </tr>\n",
       "  </thead>\n",
       "  <tbody>\n",
       "    <tr>\n",
       "      <th>count</th>\n",
       "      <td>90.000000</td>\n",
       "      <td>90.000000</td>\n",
       "    </tr>\n",
       "    <tr>\n",
       "      <th>mean</th>\n",
       "      <td>0.068051</td>\n",
       "      <td>0.051788</td>\n",
       "    </tr>\n",
       "    <tr>\n",
       "      <th>std</th>\n",
       "      <td>0.060991</td>\n",
       "      <td>0.046090</td>\n",
       "    </tr>\n",
       "    <tr>\n",
       "      <th>min</th>\n",
       "      <td>-0.171225</td>\n",
       "      <td>-0.178745</td>\n",
       "    </tr>\n",
       "    <tr>\n",
       "      <th>25%</th>\n",
       "      <td>0.043497</td>\n",
       "      <td>0.029816</td>\n",
       "    </tr>\n",
       "    <tr>\n",
       "      <th>50%</th>\n",
       "      <td>0.073960</td>\n",
       "      <td>0.054833</td>\n",
       "    </tr>\n",
       "    <tr>\n",
       "      <th>75%</th>\n",
       "      <td>0.105140</td>\n",
       "      <td>0.081910</td>\n",
       "    </tr>\n",
       "    <tr>\n",
       "      <th>max</th>\n",
       "      <td>0.197834</td>\n",
       "      <td>0.157820</td>\n",
       "    </tr>\n",
       "  </tbody>\n",
       "</table>\n",
       "</div>"
      ],
      "text/plain": [
       "       pct_error_new  pct_error_old\n",
       "count      90.000000      90.000000\n",
       "mean        0.068051       0.051788\n",
       "std         0.060991       0.046090\n",
       "min        -0.171225      -0.178745\n",
       "25%         0.043497       0.029816\n",
       "50%         0.073960       0.054833\n",
       "75%         0.105140       0.081910\n",
       "max         0.197834       0.157820"
      ]
     },
     "execution_count": 1014,
     "metadata": {},
     "output_type": "execute_result"
    }
   ],
   "source": [
    "res[['pct_error_new', 'pct_error_old']].describe()"
   ]
  },
  {
   "cell_type": "code",
   "execution_count": 1013,
   "id": "12fce12a",
   "metadata": {},
   "outputs": [
    {
     "data": {
      "text/html": [
       "<div>\n",
       "<style scoped>\n",
       "    .dataframe tbody tr th:only-of-type {\n",
       "        vertical-align: middle;\n",
       "    }\n",
       "\n",
       "    .dataframe tbody tr th {\n",
       "        vertical-align: top;\n",
       "    }\n",
       "\n",
       "    .dataframe thead th {\n",
       "        text-align: right;\n",
       "    }\n",
       "</style>\n",
       "<table border=\"1\" class=\"dataframe\">\n",
       "  <thead>\n",
       "    <tr style=\"text-align: right;\">\n",
       "      <th></th>\n",
       "      <th>zone_id</th>\n",
       "      <th>pred</th>\n",
       "      <th>pred_for_date</th>\n",
       "      <th>date</th>\n",
       "      <th>total_demand_new</th>\n",
       "      <th>total_demand_new_lag1</th>\n",
       "      <th>total_demand_new_lag2</th>\n",
       "      <th>total_demand_new_lag3</th>\n",
       "      <th>total_demand_new_lag-1</th>\n",
       "      <th>total_demand_new_lag-2</th>\n",
       "      <th>...</th>\n",
       "      <th>y_obs</th>\n",
       "      <th>covid_start_m1</th>\n",
       "      <th>error_new</th>\n",
       "      <th>pct_error_new</th>\n",
       "      <th>abs_error_new</th>\n",
       "      <th>abs_pct_error_new</th>\n",
       "      <th>error_old</th>\n",
       "      <th>pct_error_old</th>\n",
       "      <th>abs_error_old</th>\n",
       "      <th>abs_pct_error_old</th>\n",
       "    </tr>\n",
       "  </thead>\n",
       "  <tbody>\n",
       "    <tr>\n",
       "      <th>0</th>\n",
       "      <td>1</td>\n",
       "      <td>4135.292670</td>\n",
       "      <td>2021-05-10</td>\n",
       "      <td>2021-05-10</td>\n",
       "      <td>3799.919630</td>\n",
       "      <td>3940.326206</td>\n",
       "      <td>3852.311690</td>\n",
       "      <td>4078.520633</td>\n",
       "      <td>3695.795111</td>\n",
       "      <td>3621.476264</td>\n",
       "      <td>...</td>\n",
       "      <td>3799.919630</td>\n",
       "      <td>0.0</td>\n",
       "      <td>335.373040</td>\n",
       "      <td>0.088258</td>\n",
       "      <td>335.373040</td>\n",
       "      <td>0.088258</td>\n",
       "      <td>278.601003</td>\n",
       "      <td>0.073318</td>\n",
       "      <td>278.601003</td>\n",
       "      <td>0.073318</td>\n",
       "    </tr>\n",
       "    <tr>\n",
       "      <th>82</th>\n",
       "      <td>16</td>\n",
       "      <td>2532.012697</td>\n",
       "      <td>2021-05-10</td>\n",
       "      <td>2021-05-10</td>\n",
       "      <td>2552.525542</td>\n",
       "      <td>2666.698276</td>\n",
       "      <td>2649.521253</td>\n",
       "      <td>2793.317096</td>\n",
       "      <td>2460.211400</td>\n",
       "      <td>2476.487189</td>\n",
       "      <td>...</td>\n",
       "      <td>2552.525542</td>\n",
       "      <td>0.0</td>\n",
       "      <td>-20.512845</td>\n",
       "      <td>-0.008036</td>\n",
       "      <td>20.512845</td>\n",
       "      <td>0.008036</td>\n",
       "      <td>240.791554</td>\n",
       "      <td>0.094335</td>\n",
       "      <td>240.791554</td>\n",
       "      <td>0.094335</td>\n",
       "    </tr>\n",
       "    <tr>\n",
       "      <th>88</th>\n",
       "      <td>18</td>\n",
       "      <td>1260.199313</td>\n",
       "      <td>2021-05-10</td>\n",
       "      <td>2021-05-10</td>\n",
       "      <td>1360.898222</td>\n",
       "      <td>1427.721385</td>\n",
       "      <td>1368.991605</td>\n",
       "      <td>1430.426261</td>\n",
       "      <td>1335.536666</td>\n",
       "      <td>1309.468984</td>\n",
       "      <td>...</td>\n",
       "      <td>1360.898222</td>\n",
       "      <td>0.0</td>\n",
       "      <td>-100.698909</td>\n",
       "      <td>-0.073994</td>\n",
       "      <td>100.698909</td>\n",
       "      <td>0.073994</td>\n",
       "      <td>69.528039</td>\n",
       "      <td>0.051090</td>\n",
       "      <td>69.528039</td>\n",
       "      <td>0.051090</td>\n",
       "    </tr>\n",
       "    <tr>\n",
       "      <th>87</th>\n",
       "      <td>27</td>\n",
       "      <td>2907.634534</td>\n",
       "      <td>2021-05-10</td>\n",
       "      <td>2021-05-10</td>\n",
       "      <td>2881.369313</td>\n",
       "      <td>3046.211691</td>\n",
       "      <td>3012.384077</td>\n",
       "      <td>3148.351679</td>\n",
       "      <td>2782.635986</td>\n",
       "      <td>2796.340882</td>\n",
       "      <td>...</td>\n",
       "      <td>2881.369313</td>\n",
       "      <td>0.0</td>\n",
       "      <td>26.265220</td>\n",
       "      <td>0.009116</td>\n",
       "      <td>26.265220</td>\n",
       "      <td>0.009116</td>\n",
       "      <td>266.982366</td>\n",
       "      <td>0.092658</td>\n",
       "      <td>266.982366</td>\n",
       "      <td>0.092658</td>\n",
       "    </tr>\n",
       "    <tr>\n",
       "      <th>68</th>\n",
       "      <td>32</td>\n",
       "      <td>1602.960392</td>\n",
       "      <td>2021-05-10</td>\n",
       "      <td>2021-05-10</td>\n",
       "      <td>1484.280941</td>\n",
       "      <td>1545.507362</td>\n",
       "      <td>1606.206143</td>\n",
       "      <td>1695.828369</td>\n",
       "      <td>1436.558817</td>\n",
       "      <td>1413.859665</td>\n",
       "      <td>...</td>\n",
       "      <td>1484.280941</td>\n",
       "      <td>0.0</td>\n",
       "      <td>118.679451</td>\n",
       "      <td>0.079958</td>\n",
       "      <td>118.679451</td>\n",
       "      <td>0.079958</td>\n",
       "      <td>211.547428</td>\n",
       "      <td>0.142525</td>\n",
       "      <td>211.547428</td>\n",
       "      <td>0.142525</td>\n",
       "    </tr>\n",
       "    <tr>\n",
       "      <th>...</th>\n",
       "      <td>...</td>\n",
       "      <td>...</td>\n",
       "      <td>...</td>\n",
       "      <td>...</td>\n",
       "      <td>...</td>\n",
       "      <td>...</td>\n",
       "      <td>...</td>\n",
       "      <td>...</td>\n",
       "      <td>...</td>\n",
       "      <td>...</td>\n",
       "      <td>...</td>\n",
       "      <td>...</td>\n",
       "      <td>...</td>\n",
       "      <td>...</td>\n",
       "      <td>...</td>\n",
       "      <td>...</td>\n",
       "      <td>...</td>\n",
       "      <td>...</td>\n",
       "      <td>...</td>\n",
       "      <td>...</td>\n",
       "      <td>...</td>\n",
       "    </tr>\n",
       "    <tr>\n",
       "      <th>19</th>\n",
       "      <td>988</td>\n",
       "      <td>2567.689624</td>\n",
       "      <td>2021-05-10</td>\n",
       "      <td>2021-05-10</td>\n",
       "      <td>2371.254993</td>\n",
       "      <td>2412.934052</td>\n",
       "      <td>2419.867609</td>\n",
       "      <td>2557.036926</td>\n",
       "      <td>2320.043020</td>\n",
       "      <td>2319.589488</td>\n",
       "      <td>...</td>\n",
       "      <td>2371.254993</td>\n",
       "      <td>0.0</td>\n",
       "      <td>196.434631</td>\n",
       "      <td>0.082840</td>\n",
       "      <td>196.434631</td>\n",
       "      <td>0.082840</td>\n",
       "      <td>185.781933</td>\n",
       "      <td>0.078348</td>\n",
       "      <td>185.781933</td>\n",
       "      <td>0.078348</td>\n",
       "    </tr>\n",
       "    <tr>\n",
       "      <th>38</th>\n",
       "      <td>989</td>\n",
       "      <td>3543.884983</td>\n",
       "      <td>2021-05-10</td>\n",
       "      <td>2021-05-10</td>\n",
       "      <td>3392.834173</td>\n",
       "      <td>3479.857189</td>\n",
       "      <td>3490.056414</td>\n",
       "      <td>3609.418899</td>\n",
       "      <td>3321.635313</td>\n",
       "      <td>3399.411546</td>\n",
       "      <td>...</td>\n",
       "      <td>3392.834173</td>\n",
       "      <td>0.0</td>\n",
       "      <td>151.050810</td>\n",
       "      <td>0.044521</td>\n",
       "      <td>151.050810</td>\n",
       "      <td>0.044521</td>\n",
       "      <td>216.584726</td>\n",
       "      <td>0.063836</td>\n",
       "      <td>216.584726</td>\n",
       "      <td>0.063836</td>\n",
       "    </tr>\n",
       "    <tr>\n",
       "      <th>39</th>\n",
       "      <td>1001</td>\n",
       "      <td>4710.708965</td>\n",
       "      <td>2021-05-10</td>\n",
       "      <td>2021-05-10</td>\n",
       "      <td>4503.630522</td>\n",
       "      <td>4674.579847</td>\n",
       "      <td>4763.990876</td>\n",
       "      <td>4788.461553</td>\n",
       "      <td>4313.461567</td>\n",
       "      <td>4416.569229</td>\n",
       "      <td>...</td>\n",
       "      <td>4503.630522</td>\n",
       "      <td>0.0</td>\n",
       "      <td>207.078443</td>\n",
       "      <td>0.045980</td>\n",
       "      <td>207.078443</td>\n",
       "      <td>0.045980</td>\n",
       "      <td>284.831031</td>\n",
       "      <td>0.063245</td>\n",
       "      <td>284.831031</td>\n",
       "      <td>0.063245</td>\n",
       "    </tr>\n",
       "    <tr>\n",
       "      <th>33</th>\n",
       "      <td>1002</td>\n",
       "      <td>5246.530702</td>\n",
       "      <td>2021-05-10</td>\n",
       "      <td>2021-05-10</td>\n",
       "      <td>4842.015194</td>\n",
       "      <td>5021.234226</td>\n",
       "      <td>5083.182055</td>\n",
       "      <td>5105.246568</td>\n",
       "      <td>4685.963060</td>\n",
       "      <td>4722.822306</td>\n",
       "      <td>...</td>\n",
       "      <td>4842.015194</td>\n",
       "      <td>0.0</td>\n",
       "      <td>404.515508</td>\n",
       "      <td>0.083543</td>\n",
       "      <td>404.515508</td>\n",
       "      <td>0.083543</td>\n",
       "      <td>263.231375</td>\n",
       "      <td>0.054364</td>\n",
       "      <td>263.231375</td>\n",
       "      <td>0.054364</td>\n",
       "    </tr>\n",
       "    <tr>\n",
       "      <th>35</th>\n",
       "      <td>1029</td>\n",
       "      <td>1490.917118</td>\n",
       "      <td>2021-05-10</td>\n",
       "      <td>2021-05-10</td>\n",
       "      <td>1634.352639</td>\n",
       "      <td>1447.017608</td>\n",
       "      <td>1411.173273</td>\n",
       "      <td>1342.221049</td>\n",
       "      <td>1857.133112</td>\n",
       "      <td>1828.247170</td>\n",
       "      <td>...</td>\n",
       "      <td>1634.352639</td>\n",
       "      <td>0.0</td>\n",
       "      <td>-143.435521</td>\n",
       "      <td>-0.087763</td>\n",
       "      <td>143.435521</td>\n",
       "      <td>0.087763</td>\n",
       "      <td>-292.131589</td>\n",
       "      <td>-0.178745</td>\n",
       "      <td>292.131589</td>\n",
       "      <td>0.178745</td>\n",
       "    </tr>\n",
       "  </tbody>\n",
       "</table>\n",
       "<p>90 rows × 30 columns</p>\n",
       "</div>"
      ],
      "text/plain": [
       "    zone_id         pred pred_for_date        date  total_demand_new  \\\n",
       "0         1  4135.292670    2021-05-10  2021-05-10       3799.919630   \n",
       "82       16  2532.012697    2021-05-10  2021-05-10       2552.525542   \n",
       "88       18  1260.199313    2021-05-10  2021-05-10       1360.898222   \n",
       "87       27  2907.634534    2021-05-10  2021-05-10       2881.369313   \n",
       "68       32  1602.960392    2021-05-10  2021-05-10       1484.280941   \n",
       "..      ...          ...           ...         ...               ...   \n",
       "19      988  2567.689624    2021-05-10  2021-05-10       2371.254993   \n",
       "38      989  3543.884983    2021-05-10  2021-05-10       3392.834173   \n",
       "39     1001  4710.708965    2021-05-10  2021-05-10       4503.630522   \n",
       "33     1002  5246.530702    2021-05-10  2021-05-10       4842.015194   \n",
       "35     1029  1490.917118    2021-05-10  2021-05-10       1634.352639   \n",
       "\n",
       "    total_demand_new_lag1  total_demand_new_lag2  total_demand_new_lag3  \\\n",
       "0             3940.326206            3852.311690            4078.520633   \n",
       "82            2666.698276            2649.521253            2793.317096   \n",
       "88            1427.721385            1368.991605            1430.426261   \n",
       "87            3046.211691            3012.384077            3148.351679   \n",
       "68            1545.507362            1606.206143            1695.828369   \n",
       "..                    ...                    ...                    ...   \n",
       "19            2412.934052            2419.867609            2557.036926   \n",
       "38            3479.857189            3490.056414            3609.418899   \n",
       "39            4674.579847            4763.990876            4788.461553   \n",
       "33            5021.234226            5083.182055            5105.246568   \n",
       "35            1447.017608            1411.173273            1342.221049   \n",
       "\n",
       "    total_demand_new_lag-1  total_demand_new_lag-2  ...        y_obs  \\\n",
       "0              3695.795111             3621.476264  ...  3799.919630   \n",
       "82             2460.211400             2476.487189  ...  2552.525542   \n",
       "88             1335.536666             1309.468984  ...  1360.898222   \n",
       "87             2782.635986             2796.340882  ...  2881.369313   \n",
       "68             1436.558817             1413.859665  ...  1484.280941   \n",
       "..                     ...                     ...  ...          ...   \n",
       "19             2320.043020             2319.589488  ...  2371.254993   \n",
       "38             3321.635313             3399.411546  ...  3392.834173   \n",
       "39             4313.461567             4416.569229  ...  4503.630522   \n",
       "33             4685.963060             4722.822306  ...  4842.015194   \n",
       "35             1857.133112             1828.247170  ...  1634.352639   \n",
       "\n",
       "    covid_start_m1   error_new  pct_error_new  abs_error_new  \\\n",
       "0              0.0  335.373040       0.088258     335.373040   \n",
       "82             0.0  -20.512845      -0.008036      20.512845   \n",
       "88             0.0 -100.698909      -0.073994     100.698909   \n",
       "87             0.0   26.265220       0.009116      26.265220   \n",
       "68             0.0  118.679451       0.079958     118.679451   \n",
       "..             ...         ...            ...            ...   \n",
       "19             0.0  196.434631       0.082840     196.434631   \n",
       "38             0.0  151.050810       0.044521     151.050810   \n",
       "39             0.0  207.078443       0.045980     207.078443   \n",
       "33             0.0  404.515508       0.083543     404.515508   \n",
       "35             0.0 -143.435521      -0.087763     143.435521   \n",
       "\n",
       "    abs_pct_error_new   error_old  pct_error_old  abs_error_old  \\\n",
       "0            0.088258  278.601003       0.073318     278.601003   \n",
       "82           0.008036  240.791554       0.094335     240.791554   \n",
       "88           0.073994   69.528039       0.051090      69.528039   \n",
       "87           0.009116  266.982366       0.092658     266.982366   \n",
       "68           0.079958  211.547428       0.142525     211.547428   \n",
       "..                ...         ...            ...            ...   \n",
       "19           0.082840  185.781933       0.078348     185.781933   \n",
       "38           0.044521  216.584726       0.063836     216.584726   \n",
       "39           0.045980  284.831031       0.063245     284.831031   \n",
       "33           0.083543  263.231375       0.054364     263.231375   \n",
       "35           0.087763 -292.131589      -0.178745     292.131589   \n",
       "\n",
       "    abs_pct_error_old  \n",
       "0            0.073318  \n",
       "82           0.094335  \n",
       "88           0.051090  \n",
       "87           0.092658  \n",
       "68           0.142525  \n",
       "..                ...  \n",
       "19           0.078348  \n",
       "38           0.063836  \n",
       "39           0.063245  \n",
       "33           0.054364  \n",
       "35           0.178745  \n",
       "\n",
       "[90 rows x 30 columns]"
      ]
     },
     "execution_count": 1013,
     "metadata": {},
     "output_type": "execute_result"
    }
   ],
   "source": [
    "res.sort_values('zone_id')"
   ]
  },
  {
   "cell_type": "code",
   "execution_count": null,
   "id": "00d50a51",
   "metadata": {},
   "outputs": [],
   "source": [
    "# guess we're overfitting..?"
   ]
  },
  {
   "cell_type": "code",
   "execution_count": 1016,
   "id": "a28629c5",
   "metadata": {},
   "outputs": [
    {
     "data": {
      "text/plain": [
       "datetime.date(2021, 4, 26)"
      ]
     },
     "execution_count": 1016,
     "metadata": {},
     "output_type": "execute_result"
    }
   ],
   "source": [
    "f_date"
   ]
  },
  {
   "cell_type": "code",
   "execution_count": 914,
   "id": "1113c133",
   "metadata": {},
   "outputs": [
    {
     "data": {
      "text/html": [
       "<div>\n",
       "<style scoped>\n",
       "    .dataframe tbody tr th:only-of-type {\n",
       "        vertical-align: middle;\n",
       "    }\n",
       "\n",
       "    .dataframe tbody tr th {\n",
       "        vertical-align: top;\n",
       "    }\n",
       "\n",
       "    .dataframe thead th {\n",
       "        text-align: right;\n",
       "    }\n",
       "</style>\n",
       "<table border=\"1\" class=\"dataframe\">\n",
       "  <thead>\n",
       "    <tr style=\"text-align: right;\">\n",
       "      <th></th>\n",
       "      <th>zone_id</th>\n",
       "      <th>zone_idx</th>\n",
       "    </tr>\n",
       "    <tr>\n",
       "      <th>date_idx</th>\n",
       "      <th></th>\n",
       "      <th></th>\n",
       "    </tr>\n",
       "  </thead>\n",
       "  <tbody>\n",
       "    <tr>\n",
       "      <th>2017-07-10</th>\n",
       "      <td>1</td>\n",
       "      <td>0</td>\n",
       "    </tr>\n",
       "    <tr>\n",
       "      <th>2017-07-10</th>\n",
       "      <td>975</td>\n",
       "      <td>1</td>\n",
       "    </tr>\n",
       "    <tr>\n",
       "      <th>2017-07-10</th>\n",
       "      <td>13</td>\n",
       "      <td>2</td>\n",
       "    </tr>\n",
       "    <tr>\n",
       "      <th>2017-07-10</th>\n",
       "      <td>785</td>\n",
       "      <td>3</td>\n",
       "    </tr>\n",
       "    <tr>\n",
       "      <th>2017-07-10</th>\n",
       "      <td>18</td>\n",
       "      <td>4</td>\n",
       "    </tr>\n",
       "  </tbody>\n",
       "</table>\n",
       "</div>"
      ],
      "text/plain": [
       "            zone_id  zone_idx\n",
       "date_idx                     \n",
       "2017-07-10        1         0\n",
       "2017-07-10      975         1\n",
       "2017-07-10       13         2\n",
       "2017-07-10      785         3\n",
       "2017-07-10       18         4"
      ]
     },
     "execution_count": 914,
     "metadata": {},
     "output_type": "execute_result"
    }
   ],
   "source": [
    "d2[['zone_id', 'zone_idx']].drop_duplicates().head(10)"
   ]
  },
  {
   "cell_type": "code",
   "execution_count": null,
   "id": "2654b54f",
   "metadata": {},
   "outputs": [],
   "source": [
    "# first days until data start are gonna be all fk'ed now\n",
    "# prolly want to 0 out these y_hats"
   ]
  },
  {
   "cell_type": "code",
   "execution_count": 1039,
   "id": "8a9d1caf",
   "metadata": {},
   "outputs": [
    {
     "data": {
      "text/plain": [
       "[<matplotlib.lines.Line2D at 0x196a4d400>]"
      ]
     },
     "execution_count": 1039,
     "metadata": {},
     "output_type": "execute_result"
    },
    {
     "data": {
      "image/png": "[encoded data removed]",
      "text/plain": [
       "<Figure size 432x288 with 1 Axes>"
      ]
     },
     "metadata": {},
     "output_type": "display_data"
    }
   ],
   "source": [
    "# d2.iloc[1:].reset_index().y_obs.plot()\n",
    "test_z_idx = np.unique(zone_idx)[0]\n",
    "\n",
    "d2.loc[d2.zone_idx == test_z_idx].reset_index().y_obs.plot()\n",
    "# plt.plot(y_hats.get_test_value()[test_z_idx])\n",
    "plt.plot(y_hats_final.get_test_value()[test_z_idx])\n"
   ]
  },
  {
   "cell_type": "code",
   "execution_count": 1040,
   "id": "6855c66d",
   "metadata": {},
   "outputs": [
    {
     "data": {
      "text/plain": [
       "[<matplotlib.lines.Line2D at 0x1b4b65130>]"
      ]
     },
     "execution_count": 1040,
     "metadata": {},
     "output_type": "execute_result"
    },
    {
     "data": {
      "image/png": "[encoded data removed]",
      "text/plain": [
       "<Figure size 432x288 with 1 Axes>"
      ]
     },
     "metadata": {},
     "output_type": "display_data"
    }
   ],
   "source": [
    "plt.plot(levels_f.get_test_value()[test_z_idx])"
   ]
  },
  {
   "cell_type": "code",
   "execution_count": 1041,
   "id": "c6c4df8f",
   "metadata": {},
   "outputs": [
    {
     "data": {
      "text/plain": [
       "[<matplotlib.lines.Line2D at 0x1a07f2e20>]"
      ]
     },
     "execution_count": 1041,
     "metadata": {},
     "output_type": "execute_result"
    },
    {
     "data": {
      "image/png": "[encoded data removed]",
      "text/plain": [
       "<Figure size 432x288 with 1 Axes>"
      ]
     },
     "metadata": {},
     "output_type": "display_data"
    }
   ],
   "source": [
    "plt.plot(trends_f.get_test_value()[test_z_idx])"
   ]
  },
  {
   "cell_type": "code",
   "execution_count": 1042,
   "id": "5ae4e4b1",
   "metadata": {},
   "outputs": [
    {
     "data": {
      "text/plain": [
       "[<matplotlib.lines.Line2D at 0x179c792e0>]"
      ]
     },
     "execution_count": 1042,
     "metadata": {},
     "output_type": "execute_result"
    },
    {
     "data": {
      "image/png": "[encoded data removed]",
      "text/plain": [
       "<Figure size 432x288 with 1 Axes>"
      ]
     },
     "metadata": {},
     "output_type": "display_data"
    }
   ],
   "source": [
    "plt.plot(seasons_f.get_test_value()[test_z_idx])"
   ]
  },
  {
   "cell_type": "code",
   "execution_count": 1043,
   "id": "ec966cb5",
   "metadata": {},
   "outputs": [
    {
     "data": {
      "text/plain": [
       "array([0.99974816, 1.00032131, 1.00046337, 1.00035033, 1.00011229,\n",
       "       0.99992793, 0.99964896, 0.99961393, 1.00012006, 1.00040175,\n",
       "       1.00006305, 0.99997066, 0.99976696, 0.99984283, 1.0000011 ,\n",
       "       1.00000921, 0.9999985 , 0.99997758, 1.00006252, 1.0002904 ,\n",
       "       1.00045178, 1.00018378, 0.99966979, 0.99914367, 0.99943597,\n",
       "       1.00012491, 1.00051209, 1.00054562, 1.00033109, 1.00003984,\n",
       "       0.99971088, 0.99952305, 0.99960401, 1.00006862, 0.99987396,\n",
       "       1.00013148, 0.99996309, 0.9999145 , 1.00004401, 0.99995202,\n",
       "       0.99994196, 0.99994698, 1.0000513 , 0.9999847 , 1.00002224,\n",
       "       0.99994674, 1.00001721, 1.00011844, 1.0001867 , 1.00024265,\n",
       "       1.00026008, 1.00026997])"
      ]
     },
     "execution_count": 1043,
     "metadata": {},
     "output_type": "execute_result"
    }
   ],
   "source": [
    "map_estimate['initial_szns'][test_z_idx]"
   ]
  },
  {
   "cell_type": "code",
   "execution_count": 1035,
   "id": "441d335c",
   "metadata": {},
   "outputs": [
    {
     "data": {
      "text/plain": [
       "(-3000.0, 10000.0)"
      ]
     },
     "execution_count": 1035,
     "metadata": {},
     "output_type": "execute_result"
    },
    {
     "data": {
      "image/png": "[encoded data removed]",
      "text/plain": [
       "<Figure size 432x288 with 1 Axes>"
      ]
     },
     "metadata": {},
     "output_type": "display_data"
    }
   ],
   "source": [
    "# d2.iloc[1:].reset_index().y_obs.plot()\n",
    "test_z_idx = np.unique(zone_idx)[1]\n",
    "\n",
    "d2.loc[d2.zone_idx == test_z_idx].reset_index().y_obs.plot()\n",
    "ax = plt.plot(y_hats_final.get_test_value()[test_z_idx])[0]\n",
    "ax.axes.set_ylim(-3000,10000)"
   ]
  },
  {
   "cell_type": "code",
   "execution_count": 1036,
   "id": "041ac881",
   "metadata": {},
   "outputs": [
    {
     "data": {
      "image/png": "[encoded data removed]",
      "text/plain": [
       "<Figure size 432x288 with 1 Axes>"
      ]
     },
     "metadata": {},
     "output_type": "display_data"
    }
   ],
   "source": [
    "# d2.iloc[1:].reset_index().y_obs.plot()\n",
    "test_z_idx = np.unique(zone_idx)[2]\n",
    "\n",
    "d2.loc[d2.zone_idx == test_z_idx].reset_index().y_obs.plot()\n",
    "ax = plt.plot(y_hats_final.get_test_value()[test_z_idx])[0]\n",
    "# ax.axes.set_ylim(-3000,10000)"
   ]
  },
  {
   "cell_type": "code",
   "execution_count": 1037,
   "id": "6c100836",
   "metadata": {},
   "outputs": [
    {
     "data": {
      "image/png": "[encoded data removed]",
      "text/plain": [
       "<Figure size 432x288 with 1 Axes>"
      ]
     },
     "metadata": {},
     "output_type": "display_data"
    }
   ],
   "source": [
    "# d2.iloc[1:].reset_index().y_obs.plot()\n",
    "test_z_idx = np.unique(zone_idx)[3]\n",
    "\n",
    "d2.loc[d2.zone_idx == test_z_idx].reset_index().y_obs.plot()\n",
    "# ax = plt.plot(y_hats.get_test_value()[test_z_idx])[0]\n",
    "ax = plt.plot(y_hats_final.get_test_value()[test_z_idx])[0]\n",
    "# ax.axes.set_ylim(-3000,10000)"
   ]
  },
  {
   "cell_type": "code",
   "execution_count": 979,
   "id": "6d573599",
   "metadata": {},
   "outputs": [
    {
     "data": {
      "text/plain": [
       "[<matplotlib.lines.Line2D at 0x1b52fca30>]"
      ]
     },
     "execution_count": 979,
     "metadata": {},
     "output_type": "execute_result"
    },
    {
     "data": {
      "image/png": "[encoded data removed]",
      "text/plain": [
       "<Figure size 432x288 with 1 Axes>"
      ]
     },
     "metadata": {},
     "output_type": "display_data"
    }
   ],
   "source": [
    "plt.plot(levels_f.get_test_value()[test_z_idx])"
   ]
  },
  {
   "cell_type": "code",
   "execution_count": 980,
   "id": "17ab1d8b",
   "metadata": {},
   "outputs": [
    {
     "data": {
      "text/plain": [
       "[<matplotlib.lines.Line2D at 0x1b4d35040>]"
      ]
     },
     "execution_count": 980,
     "metadata": {},
     "output_type": "execute_result"
    },
    {
     "data": {
      "image/png": "[encoded data removed]",
      "text/plain": [
       "<Figure size 432x288 with 1 Axes>"
      ]
     },
     "metadata": {},
     "output_type": "display_data"
    }
   ],
   "source": [
    "plt.plot(trends_f.get_test_value()[test_z_idx])"
   ]
  },
  {
   "cell_type": "code",
   "execution_count": 981,
   "id": "2e19262a",
   "metadata": {},
   "outputs": [
    {
     "data": {
      "text/plain": [
       "[<matplotlib.lines.Line2D at 0x1b5cf53d0>]"
      ]
     },
     "execution_count": 981,
     "metadata": {},
     "output_type": "execute_result"
    },
    {
     "data": {
      "image/png": "[encoded data removed]",
      "text/plain": [
       "<Figure size 432x288 with 1 Axes>"
      ]
     },
     "metadata": {},
     "output_type": "display_data"
    }
   ],
   "source": [
    "plt.plot(seasons_f.get_test_value()[test_z_idx])"
   ]
  },
  {
   "cell_type": "code",
   "execution_count": 921,
   "id": "d678d7a0",
   "metadata": {},
   "outputs": [
    {
     "data": {
      "image/png": "[encoded data removed]",
      "text/plain": [
       "<Figure size 432x288 with 1 Axes>"
      ]
     },
     "metadata": {},
     "output_type": "display_data"
    }
   ],
   "source": [
    "# d2.iloc[1:].reset_index().y_obs.plot()\n",
    "test_z_idx = np.unique(zone_idx)[4]\n",
    "\n",
    "d2.loc[d2.zone_idx == test_z_idx].reset_index().y_obs.plot()\n",
    "ax = plt.plot(y_hats.get_test_value()[test_z_idx])[0]\n",
    "# ax.axes.set_ylim(-3000,10000)"
   ]
  },
  {
   "cell_type": "code",
   "execution_count": null,
   "id": "45c8cdf6",
   "metadata": {},
   "outputs": [],
   "source": [
    "# initial_level is being made to be small so huge loss isnt incurred in early days\n",
    "# then to avoid big loss later, smoothing_level of .99 is used\n",
    "\n",
    "# [X] fix this by multiplying y_hats by data_start\n",
    "# [] see if skipping first 2 or 3 weeks w/ demand helps (things level off a lot after that, so model may rightly learn a smaller smoothing_level)\n",
    "# [] maybe do the multivariate normal for szn estimates\n",
    "# [] maybe enforce more regularization\n",
    "# [/] run for more zones\n",
    "# [] maybe stop earlier or regularize more since maybe overfitting. Maybe assume larger errors?\n",
    "\n",
    "# the seasons look pretty reasonable though"
   ]
  },
  {
   "cell_type": "code",
   "execution_count": 889,
   "id": "b9838122",
   "metadata": {
    "collapsed": true
   },
   "outputs": [
    {
     "data": {
      "text/plain": [
       "[nan,\n",
       " 0.0,\n",
       " 0.0,\n",
       " 0.0,\n",
       " 0.0,\n",
       " 0.0,\n",
       " 0.0,\n",
       " 0.0,\n",
       " 0.0,\n",
       " 0.0,\n",
       " 0.0,\n",
       " 0.0,\n",
       " 0.0,\n",
       " 0.0,\n",
       " 0.0,\n",
       " 0.0,\n",
       " 0.0,\n",
       " 0.0,\n",
       " 0.0,\n",
       " 0.0,\n",
       " 0.0,\n",
       " 0.0,\n",
       " 0.0,\n",
       " 0.0,\n",
       " 0.0,\n",
       " 0.0,\n",
       " 0.0,\n",
       " 0.0,\n",
       " 0.0,\n",
       " 0.0,\n",
       " 244.83254106842853,\n",
       " 761.9877162849999,\n",
       " 1003.0572595047144,\n",
       " 1230.489873763357,\n",
       " 1284.787399542143,\n",
       " 1303.9560250612856,\n",
       " 1375.131863905,\n",
       " 1406.8481737191428,\n",
       " 1398.5931494735,\n",
       " 1425.780543082143,\n",
       " 1439.3260416942855,\n",
       " 1534.4057667695718,\n",
       " 1498.9268912747143,\n",
       " 1599.3674222347142,\n",
       " 1579.7221796182855,\n",
       " 1581.5531059264997,\n",
       " 1607.073252246857,\n",
       " 1620.4830117685715,\n",
       " 1591.417306859286,\n",
       " 1612.896261591357,\n",
       " 1624.2647254829285,\n",
       " 1643.3992099208572,\n",
       " 1680.865984432143,\n",
       " 1706.6844540135714,\n",
       " 1704.8790716962856,\n",
       " 1736.813290223286,\n",
       " 1767.8395689494284,\n",
       " 1828.9899698808567,\n",
       " 1795.2234793317143,\n",
       " 1834.419288618286,\n",
       " 1836.244574361857,\n",
       " 1859.3367129785,\n",
       " 1890.724786720143,\n",
       " 1845.2410018074288,\n",
       " 1963.3053825197144,\n",
       " 1934.218999910286,\n",
       " 1940.488910592,\n",
       " 1927.893070643286,\n",
       " 1925.1128054734288,\n",
       " 1968.8197980252855,\n",
       " 1898.922032214072,\n",
       " 1921.1409977023573,\n",
       " 2033.3683301095,\n",
       " 2085.4363576838573,\n",
       " 2175.136556638285,\n",
       " 2034.6302620307144,\n",
       " 2237.890121738214,\n",
       " 2185.9252598632143,\n",
       " 2334.7974142684284,\n",
       " 2335.2464416708576,\n",
       " 2556.8918604685714,\n",
       " 2427.8587444975715,\n",
       " 2474.693711964143,\n",
       " 2441.506009766072,\n",
       " 2516.6812059418576,\n",
       " 2579.7018483677857,\n",
       " 2703.235274877286,\n",
       " 2630.0943697477146,\n",
       " 2763.402130496858,\n",
       " 2747.1412729602857,\n",
       " 2710.6173578128573,\n",
       " 2833.494064263143,\n",
       " 2712.580540191429,\n",
       " 2732.6502058878573,\n",
       " 2760.061346757357,\n",
       " 2891.455020377572,\n",
       " 2890.1989790132143,\n",
       " 2944.375963638357,\n",
       " 2925.8465724092857,\n",
       " 2894.254647233643,\n",
       " 2904.880055314143,\n",
       " 2975.296652644786,\n",
       " 2973.5157890675,\n",
       " 2916.541612216,\n",
       " 2930.013298348643,\n",
       " 2937.703494480714,\n",
       " 2966.4636845127143,\n",
       " 3041.8958619718574,\n",
       " 3060.968870164857,\n",
       " 3057.499259779,\n",
       " 3091.593388969572,\n",
       " 3148.8657385231427,\n",
       " 3158.2762431862143,\n",
       " 3154.201910758214,\n",
       " 3140.6932891654287,\n",
       " 3146.903405883857,\n",
       " 3150.2306061142854,\n",
       " 3154.005033161,\n",
       " 3164.9294602877853,\n",
       " 3167.575725438143,\n",
       " 3289.820640605285,\n",
       " 3317.5625839870004,\n",
       " 3226.013453333071,\n",
       " 3219.297367443857,\n",
       " 3246.023646865714,\n",
       " 3400.0471761892863,\n",
       " 3458.142300821,\n",
       " 3215.8231726352856,\n",
       " 3373.096765960144,\n",
       " 3270.7977424763567,\n",
       " 3399.6579544429287,\n",
       " 3355.554713181143,\n",
       " 3326.447823916929,\n",
       " 3310.9957616339284,\n",
       " 3411.5719699133574,\n",
       " 3475.903182766072,\n",
       " 3505.9579339905,\n",
       " 10132.31061675993,\n",
       " 10092.547857813572,\n",
       " 9955.194756564,\n",
       " 9788.479871545287,\n",
       " 9821.944680398,\n",
       " 9623.176329061573,\n",
       " 9724.438841362286,\n",
       " 9459.864834445572,\n",
       " 9376.436225152283,\n",
       " 9159.179498052144,\n",
       " 9069.695451144144,\n",
       " 8995.833439005071,\n",
       " 8780.412888965071,\n",
       " 8546.279846693571,\n",
       " 8661.583806717357,\n",
       " 8545.138098242429,\n",
       " 8598.621320913428,\n",
       " 8697.469112901286,\n",
       " 8515.019036660357,\n",
       " 8672.0980889,\n",
       " 8621.217731946857]"
      ]
     },
     "execution_count": 889,
     "metadata": {},
     "output_type": "execute_result"
    }
   ],
   "source": [
    "ys_list[3]"
   ]
  },
  {
   "cell_type": "code",
   "execution_count": 922,
   "id": "afd220a7",
   "metadata": {},
   "outputs": [
    {
     "data": {
      "text/plain": [
       "array([2.19418365e+03, 4.98043165e-01, 3.60220716e+02, 4.90665757e-01,\n",
       "       6.19129076e+02])"
      ]
     },
     "execution_count": 922,
     "metadata": {},
     "output_type": "execute_result"
    }
   ],
   "source": [
    "map_estimate['initial_level']"
   ]
  },
  {
   "cell_type": "code",
   "execution_count": 890,
   "id": "aae131f1",
   "metadata": {},
   "outputs": [
    {
     "data": {
      "text/plain": [
       "array([-1.59182279, -2.25521617, -0.08933357, -0.43300718,  2.11437537])"
      ]
     },
     "execution_count": 890,
     "metadata": {},
     "output_type": "execute_result"
    }
   ],
   "source": [
    "map_estimate['initial_trend']"
   ]
  },
  {
   "cell_type": "code",
   "execution_count": 975,
   "id": "b0314db8",
   "metadata": {},
   "outputs": [
    {
     "data": {
      "text/plain": [
       "array([0.81925163, 0.57783616, 0.75822312, 0.87550582, 0.86706349,\n",
       "       0.92193335, 0.83738289, 0.68388168, 0.79923678, 0.8321847 ,\n",
       "       0.80950886, 0.8745978 , 0.90992433, 0.77117521, 0.699908  ,\n",
       "       0.88344117, 0.83801129, 0.97400413, 0.83772483, 0.90808009,\n",
       "       0.89635062, 0.95107593, 0.92489251, 0.60219405, 0.83430656,\n",
       "       0.61808615, 0.61484146, 0.54899989, 0.84740483, 0.7384558 ,\n",
       "       0.70583992, 0.87052183, 0.40295973, 0.96350097, 0.50996963,\n",
       "       0.86842445, 0.87064223, 0.73152911, 0.59541923, 0.96496889,\n",
       "       0.7562953 , 0.92645131, 0.74264715, 0.79707588, 0.76185352,\n",
       "       0.7405857 , 0.96484494, 0.82607209, 0.94469591, 0.82809413,\n",
       "       0.9477901 , 0.57793323, 0.81057834, 0.89894455, 0.93108781,\n",
       "       0.90084805, 0.89734289, 0.68468393, 0.91191459, 0.80637356,\n",
       "       0.84840738, 0.96390103, 0.81172486, 0.49398892, 0.6012142 ,\n",
       "       0.93690101, 0.81754398, 0.92162736, 0.62097665, 0.82234275,\n",
       "       0.92747095, 0.87312298, 0.87037517, 0.84171457, 0.76658248,\n",
       "       0.87617895, 0.74882535, 0.90403556, 0.74682508, 0.78240948,\n",
       "       0.70891378, 0.80956254, 0.88487852, 0.20969444, 0.9807899 ,\n",
       "       0.79509068, 0.93914811, 0.91737579, 0.95231071, 0.827912  ])"
      ]
     },
     "execution_count": 975,
     "metadata": {},
     "output_type": "execute_result"
    }
   ],
   "source": [
    "map_estimate['smoothing_level']"
   ]
  },
  {
   "cell_type": "code",
   "execution_count": 976,
   "id": "8d059132",
   "metadata": {},
   "outputs": [
    {
     "data": {
      "text/plain": [
       "array([0.02073529, 0.09310192, 0.07983665, 0.01674642, 0.02101635,\n",
       "       0.16897887, 0.03853722, 0.0446955 , 0.12534612, 0.01496156,\n",
       "       0.08691292, 0.01168972, 0.19422208, 0.02585027, 0.05820207,\n",
       "       0.13898658, 0.03341921, 0.19637347, 0.15851376, 0.08869792,\n",
       "       0.12675246, 0.10403586, 0.06562042, 0.07509293, 0.01413976,\n",
       "       0.09934189, 0.02814049, 0.02728406, 0.01789226, 0.02545121,\n",
       "       0.01377985, 0.13132257, 0.02632745, 0.17198067, 0.02165896,\n",
       "       0.10187604, 0.04099442, 0.0809323 , 0.06762685, 0.17037715,\n",
       "       0.02608311, 0.06859273, 0.02077575, 0.02236556, 0.02604158,\n",
       "       0.04145436, 0.05982775, 0.036385  , 0.04549685, 0.01316761,\n",
       "       0.19453859, 0.02547566, 0.01597206, 0.02250049, 0.05714512,\n",
       "       0.01862873, 0.15684598, 0.06364023, 0.05790771, 0.08024343,\n",
       "       0.03694004, 0.02395355, 0.02019427, 0.09146569, 0.01814057,\n",
       "       0.0106288 , 0.02338749, 0.11845427, 0.02691635, 0.03456638,\n",
       "       0.01183253, 0.0285536 , 0.05372389, 0.04677651, 0.02253495,\n",
       "       0.03095626, 0.09558702, 0.02124428, 0.02613155, 0.07466374,\n",
       "       0.01593837, 0.03228586, 0.0522019 , 0.09355903, 0.10658833,\n",
       "       0.01375587, 0.09489909, 0.06157642, 0.05546363, 0.04806993])"
      ]
     },
     "execution_count": 976,
     "metadata": {},
     "output_type": "execute_result"
    }
   ],
   "source": [
    "map_estimate['smoothing_trend']"
   ]
  },
  {
   "cell_type": "code",
   "execution_count": 977,
   "id": "275cacb7",
   "metadata": {
    "collapsed": true
   },
   "outputs": [
    {
     "data": {
      "text/plain": [
       "array([0.00420026, 0.00403981, 0.00435597, 0.00391388, 0.00394763,\n",
       "       0.00438896, 0.0040213 , 0.00404118, 0.00407743, 0.00389291,\n",
       "       0.00427524, 0.00394286, 0.00435557, 0.0040452 , 0.00419578,\n",
       "       0.00441861, 0.0038906 , 0.00435674, 0.00446108, 0.00417511,\n",
       "       0.00449125, 0.00462295, 0.0040091 , 0.00399134, 0.00386153,\n",
       "       0.00438173, 0.00384788, 0.00404232, 0.00392271, 0.00405301,\n",
       "       0.00402955, 0.00407711, 0.00398312, 0.00424681, 0.00404905,\n",
       "       0.00420197, 0.00419791, 0.00394676, 0.00409173, 0.00425715,\n",
       "       0.00400049, 0.0042544 , 0.00404189, 0.00410167, 0.00412218,\n",
       "       0.00402303, 0.00403491, 0.00390072, 0.00387765, 0.00389081,\n",
       "       0.00415978, 0.00398924, 0.00406924, 0.00391693, 0.00400302,\n",
       "       0.00407118, 0.00390109, 0.00399321, 0.00409113, 0.00399127,\n",
       "       0.00389625, 0.00412538, 0.00473039, 0.0039829 , 0.00411407,\n",
       "       0.00415401, 0.00401198, 0.00411739, 0.00414726, 0.00412601,\n",
       "       0.00437282, 0.00412614, 0.00409719, 0.00406069, 0.00394336,\n",
       "       0.00396933, 0.00409435, 0.00404439, 0.00398494, 0.00408044,\n",
       "       0.00392667, 0.0040872 , 0.00412366, 0.00414725, 0.00381227,\n",
       "       0.00408497, 0.00079338, 0.00419415, 0.00433313, 0.00397345])"
      ]
     },
     "execution_count": 977,
     "metadata": {},
     "output_type": "execute_result"
    }
   ],
   "source": [
    "map_estimate['smoothing_season']"
   ]
  },
  {
   "cell_type": "code",
   "execution_count": 891,
   "id": "f9f07861",
   "metadata": {},
   "outputs": [
    {
     "data": {
      "text/plain": [
       "(0.0, 2.0)"
      ]
     },
     "execution_count": 891,
     "metadata": {},
     "output_type": "execute_result"
    },
    {
     "data": {
      "image/png": "[encoded data removed]",
      "text/plain": [
       "<Figure size 432x288 with 1 Axes>"
      ]
     },
     "metadata": {},
     "output_type": "display_data"
    }
   ],
   "source": [
    "# d2.iloc[1:].reset_index().y_obs.plot()\n",
    "test_z_idx = np.unique(zone_idx)[1]\n",
    "\n",
    "ax = plt.plot(seasons_f.get_test_value()[test_z_idx])[0]\n",
    "ax.axes.set_ylim(0,2)"
   ]
  },
  {
   "cell_type": "code",
   "execution_count": 972,
   "id": "43f3fec9",
   "metadata": {},
   "outputs": [
    {
     "data": {
      "text/plain": [
       "[<matplotlib.lines.Line2D at 0x1bb6d3e20>]"
      ]
     },
     "execution_count": 972,
     "metadata": {},
     "output_type": "execute_result"
    },
    {
     "data": {
      "image/png": "[encoded data removed]",
      "text/plain": [
       "<Figure size 432x288 with 1 Axes>"
      ]
     },
     "metadata": {},
     "output_type": "display_data"
    }
   ],
   "source": [
    "# d2.iloc[1:].reset_index().y_obs.plot()\n",
    "test_z_idx = np.unique(zone_idx)[1]\n",
    "\n",
    "plt.plot(seasons_f.get_test_value()[0])\n",
    "plt.plot(seasons_f.get_test_value()[1])\n",
    "plt.plot(seasons_f.get_test_value()[2])\n",
    "plt.plot(seasons_f.get_test_value()[3])\n",
    "# ax.axes.set_ylim(0,2)"
   ]
  },
  {
   "cell_type": "code",
   "execution_count": 974,
   "id": "400bbeba",
   "metadata": {},
   "outputs": [
    {
     "data": {
      "text/plain": [
       "[<matplotlib.lines.Line2D at 0x1b6670040>]"
      ]
     },
     "execution_count": 974,
     "metadata": {},
     "output_type": "execute_result"
    },
    {
     "data": {
      "image/png": "[encoded data removed]",
      "text/plain": [
       "<Figure size 432x288 with 1 Axes>"
      ]
     },
     "metadata": {},
     "output_type": "display_data"
    }
   ],
   "source": [
    "plt.plot(map_estimate['initial_szns_mus'])"
   ]
  },
  {
   "cell_type": "code",
   "execution_count": null,
   "id": "3aff7242",
   "metadata": {},
   "outputs": [],
   "source": [
    "# what we have plotted here are initial 52 seasons followed by len(df) - 52 next szns\n",
    "# the szn at 93 is used for estimating y_hat at 93 + 52\n",
    "# the szn at 93 is result of \n",
    "\n",
    "# preds (y_hats) should be (prior_level + prior_trend)*season_from_52_prior"
   ]
  },
  {
   "cell_type": "code",
   "execution_count": null,
   "id": "39cf89af",
   "metadata": {},
   "outputs": [],
   "source": [
    "# ok so, season estimate seems to be the leading issue\n",
    "# don't see how we got this weird season estimate based on below math\n",
    "\n",
    "# should we try to recreate the final everything without the theano.scan?"
   ]
  },
  {
   "cell_type": "code",
   "execution_count": null,
   "id": "cfe7d620",
   "metadata": {},
   "outputs": [],
   "source": [
    "updated_szn = szn_smoother * y / (prior_level + prior_trend) + (1 - szn_smoother) * szn_m52\n",
    "\n",
    "\n",
    "#             next_level = map_estimate['smoothing_level'][z_idx] * (y/szn_m52) + (1 - map_estimate['smoothing_level'][z_idx])*(prior_level + prior_trend) + covid_start*map_estimate['covid_level_change'][z_idx]\n",
    "next_level = level_smoother * (y/szn_m52) + (1 - level_smoother)*(prior_level + prior_trend) + covid_start*covid_level_change\n",
    "\n",
    "#             next_trend = map_estimate['smoothing_trend'][z_idx] * (next_level - prior_level) + (1 - map_estimate['smoothing_trend'][z_idx])*prior_trend - covid_start*map_estimate['smoothing_trend'][z_idx]*map_estimate['covid_level_change2'][z_idx]\n",
    "next_trend = trend_smoother * (next_level - prior_level) + (1 - trend_smoother)*prior_trend - covid_start*trend_smoother*covid_level_change2"
   ]
  },
  {
   "cell_type": "code",
   "execution_count": 838,
   "id": "dd5c6347",
   "metadata": {},
   "outputs": [
    {
     "data": {
      "text/plain": [
       "52"
      ]
     },
     "execution_count": 838,
     "metadata": {},
     "output_type": "execute_result"
    }
   ],
   "source": [
    "szn_len"
   ]
  },
  {
   "cell_type": "code",
   "execution_count": 955,
   "id": "36ec030f",
   "metadata": {},
   "outputs": [
    {
     "name": "stdout",
     "output_type": "stream",
     "text": [
      "> \u001b[0;32m<ipython-input-955-4822f3259b01>\u001b[0m(20)\u001b[0;36m<module>\u001b[0;34m()\u001b[0m\n",
      "\u001b[0;32m     18 \u001b[0;31m        \u001b[0;32mimport\u001b[0m \u001b[0mpdb\u001b[0m\u001b[0;34m;\u001b[0m \u001b[0mpdb\u001b[0m\u001b[0;34m.\u001b[0m\u001b[0mset_trace\u001b[0m\u001b[0;34m(\u001b[0m\u001b[0;34m)\u001b[0m\u001b[0;34m\u001b[0m\u001b[0;34m\u001b[0m\u001b[0m\n",
      "\u001b[0m\u001b[0;32m     19 \u001b[0;31m\u001b[0;34m\u001b[0m\u001b[0m\n",
      "\u001b[0m\u001b[0;32m---> 20 \u001b[0;31m    \u001b[0mnext_szn\u001b[0m \u001b[0;34m=\u001b[0m \u001b[0mdata_start\u001b[0m\u001b[0;34m*\u001b[0m\u001b[0;34m(\u001b[0m\u001b[0mmap_estimate\u001b[0m\u001b[0;34m[\u001b[0m\u001b[0;34m'smoothing_season'\u001b[0m\u001b[0;34m]\u001b[0m\u001b[0;34m[\u001b[0m\u001b[0mtest_z_idx\u001b[0m\u001b[0;34m]\u001b[0m \u001b[0;34m*\u001b[0m \u001b[0my\u001b[0m \u001b[0;34m/\u001b[0m \u001b[0;34m(\u001b[0m\u001b[0mprior_level\u001b[0m \u001b[0;34m+\u001b[0m \u001b[0mprior_trend\u001b[0m\u001b[0;34m)\u001b[0m \u001b[0;34m+\u001b[0m \u001b[0;34m(\u001b[0m\u001b[0;36m1\u001b[0m \u001b[0;34m-\u001b[0m \u001b[0mmap_estimate\u001b[0m\u001b[0;34m[\u001b[0m\u001b[0;34m'smoothing_season'\u001b[0m\u001b[0;34m]\u001b[0m\u001b[0;34m[\u001b[0m\u001b[0mtest_z_idx\u001b[0m\u001b[0;34m]\u001b[0m\u001b[0;34m)\u001b[0m \u001b[0;34m*\u001b[0m \u001b[0mszn_m52\u001b[0m\u001b[0;34m)\u001b[0m \u001b[0;34m+\u001b[0m \u001b[0;34m(\u001b[0m\u001b[0;36m1\u001b[0m \u001b[0;34m-\u001b[0m \u001b[0mdata_start\u001b[0m\u001b[0;34m)\u001b[0m\u001b[0;34m*\u001b[0m\u001b[0;34m(\u001b[0m\u001b[0mszn_m52\u001b[0m\u001b[0;34m)\u001b[0m\u001b[0;34m\u001b[0m\u001b[0;34m\u001b[0m\u001b[0m\n",
      "\u001b[0m\u001b[0;32m     21 \u001b[0;31m\u001b[0;34m\u001b[0m\u001b[0m\n",
      "\u001b[0m\u001b[0;32m     22 \u001b[0;31m    \u001b[0mnext_level\u001b[0m \u001b[0;34m=\u001b[0m \u001b[0mdata_start\u001b[0m\u001b[0;34m*\u001b[0m\u001b[0;34m(\u001b[0m\u001b[0mmap_estimate\u001b[0m\u001b[0;34m[\u001b[0m\u001b[0;34m'smoothing_level'\u001b[0m\u001b[0;34m]\u001b[0m\u001b[0;34m[\u001b[0m\u001b[0mtest_z_idx\u001b[0m\u001b[0;34m]\u001b[0m \u001b[0;34m*\u001b[0m \u001b[0;34m(\u001b[0m\u001b[0my\u001b[0m\u001b[0;34m/\u001b[0m\u001b[0mszn_m52\u001b[0m\u001b[0;34m)\u001b[0m \u001b[0;34m+\u001b[0m \u001b[0;34m(\u001b[0m\u001b[0;36m1\u001b[0m \u001b[0;34m-\u001b[0m \u001b[0mmap_estimate\u001b[0m\u001b[0;34m[\u001b[0m\u001b[0;34m'smoothing_level'\u001b[0m\u001b[0;34m]\u001b[0m\u001b[0;34m[\u001b[0m\u001b[0mtest_z_idx\u001b[0m\u001b[0;34m]\u001b[0m\u001b[0;34m)\u001b[0m\u001b[0;34m*\u001b[0m\u001b[0;34m(\u001b[0m\u001b[0mprior_level\u001b[0m \u001b[0;34m+\u001b[0m \u001b[0mprior_trend\u001b[0m\u001b[0;34m)\u001b[0m \u001b[0;34m+\u001b[0m \u001b[0mcovid_start\u001b[0m\u001b[0;34m*\u001b[0m\u001b[0mmap_estimate\u001b[0m\u001b[0;34m[\u001b[0m\u001b[0;34m'covid_level_change'\u001b[0m\u001b[0;34m]\u001b[0m\u001b[0;34m[\u001b[0m\u001b[0mtest_z_idx\u001b[0m\u001b[0;34m]\u001b[0m\u001b[0;34m)\u001b[0m \u001b[0;34m+\u001b[0m \u001b[0;34m(\u001b[0m\u001b[0;36m1\u001b[0m \u001b[0;34m-\u001b[0m \u001b[0mdata_start\u001b[0m\u001b[0;34m)\u001b[0m\u001b[0;34m*\u001b[0m\u001b[0;34m(\u001b[0m\u001b[0mprior_level\u001b[0m\u001b[0;34m)\u001b[0m\u001b[0;34m\u001b[0m\u001b[0;34m\u001b[0m\u001b[0m\n",
      "\u001b[0m\n",
      "ipdb> data_start\n",
      "1.0\n",
      "ipdb> prior_level\n",
      "0.4906657572119934\n",
      "ipdb> prior_trend\n",
      "294.9744319271182\n",
      "ipdb> y/szn_m52\n",
      "220.33848277928686\n",
      "ipdb> map_estimate['smoothing_level'][test_z_idx]\n",
      "0.9992609559561023\n",
      "ipdb> y\n",
      "244.83254106842853\n",
      "ipdb> szn_m52\n",
      "1.1111655938634986\n",
      "ipdb> c\n"
     ]
    }
   ],
   "source": [
    "ls, ss, ts = [], [], []\n",
    "prior_level = map_estimate['initial_level'][test_z_idx]\n",
    "prior_trend = map_estimate['initial_trend'][test_z_idx]\n",
    "initial_ss = map_estimate['initial_szns'][test_z_idx]\n",
    "\n",
    "# for y in ys_list[test_z_idx][1:]:\n",
    "for i in range(len(ys_list[test_z_idx][1:])):\n",
    "    y = ys_list[test_z_idx][1:][i]\n",
    "    covid_start = is_covid_start_list[test_z_idx][1:][i]\n",
    "    data_start = data_start_list[test_z_idx][1:][i]\n",
    "    \n",
    "    if i < szn_len:\n",
    "        szn_m52 = initial_ss[i]\n",
    "    else:\n",
    "        szn_m52 = ss[i-szn_len]\n",
    "        \n",
    "    if i == 29:\n",
    "        import pdb; pdb.set_trace()\n",
    "        \n",
    "    next_szn = data_start*(map_estimate['smoothing_season'][test_z_idx] * y / (prior_level + prior_trend) + (1 - map_estimate['smoothing_season'][test_z_idx]) * szn_m52) + (1 - data_start)*(szn_m52)\n",
    "    \n",
    "    next_level = data_start*(map_estimate['smoothing_level'][test_z_idx] * (y/szn_m52) + (1 - map_estimate['smoothing_level'][test_z_idx])*(prior_level + prior_trend) + covid_start*map_estimate['covid_level_change'][test_z_idx]) + (1 - data_start)*(prior_level)\n",
    "    \n",
    "    next_trend = data_start*(map_estimate['smoothing_trend'][test_z_idx] * (next_level - prior_level) + (1 - map_estimate['smoothing_trend'][test_z_idx])*prior_trend - covid_start*map_estimate['smoothing_trend'][test_z_idx]*map_estimate['covid_level_change2'][test_z_idx]) + (1 - data_start)*(prior_trend)\n",
    "    \n",
    "    \n",
    "    ls.append(next_level)\n",
    "    ts.append(next_trend)\n",
    "    ss.append(next_szn)\n",
    "    \n",
    "    prior_level = next_level\n",
    "    prior_trend = next_trend"
   ]
  },
  {
   "cell_type": "code",
   "execution_count": 951,
   "id": "a656e65d",
   "metadata": {},
   "outputs": [
    {
     "data": {
      "text/plain": [
       "[0.4906657572119934,\n",
       " 0.4906657572119934,\n",
       " 0.4906657572119934,\n",
       " 0.4906657572119934,\n",
       " 220.39400465657062,\n",
       " 677.4942955793862,\n",
       " 881.6225328213477,\n",
       " 1025.5483104541133]"
      ]
     },
     "execution_count": 951,
     "metadata": {},
     "output_type": "execute_result"
    }
   ],
   "source": [
    "ls[25:33]"
   ]
  },
  {
   "cell_type": "code",
   "execution_count": 952,
   "id": "c2b619a6",
   "metadata": {},
   "outputs": [
    {
     "data": {
      "text/plain": [
       "[0.0, 0.0, 0.0, 0.0, 0.0, 1.0, 1.0, 1.0]"
      ]
     },
     "execution_count": 952,
     "metadata": {},
     "output_type": "execute_result"
    }
   ],
   "source": [
    "data_start_list[test_z_idx][25:33]"
   ]
  },
  {
   "cell_type": "code",
   "execution_count": 947,
   "id": "a515e602",
   "metadata": {},
   "outputs": [
    {
     "data": {
      "text/plain": [
       "[<matplotlib.lines.Line2D at 0x1b7d54b20>]"
      ]
     },
     "execution_count": 947,
     "metadata": {},
     "output_type": "execute_result"
    },
    {
     "data": {
      "image/png": "[encoded data removed]",
      "text/plain": [
       "<Figure size 432x288 with 1 Axes>"
      ]
     },
     "metadata": {},
     "output_type": "display_data"
    }
   ],
   "source": [
    "plt.plot(ls)"
   ]
  },
  {
   "cell_type": "code",
   "execution_count": 948,
   "id": "f27c512f",
   "metadata": {},
   "outputs": [
    {
     "data": {
      "text/plain": [
       "[<matplotlib.lines.Line2D at 0x1b8204250>]"
      ]
     },
     "execution_count": 948,
     "metadata": {},
     "output_type": "execute_result"
    },
    {
     "data": {
      "image/png": "[encoded data removed]",
      "text/plain": [
       "<Figure size 432x288 with 1 Axes>"
      ]
     },
     "metadata": {},
     "output_type": "display_data"
    }
   ],
   "source": [
    "plt.plot(ts)"
   ]
  },
  {
   "cell_type": "code",
   "execution_count": 949,
   "id": "e5ad16c6",
   "metadata": {},
   "outputs": [
    {
     "data": {
      "text/plain": [
       "[<matplotlib.lines.Line2D at 0x1b83affd0>]"
      ]
     },
     "execution_count": 949,
     "metadata": {},
     "output_type": "execute_result"
    },
    {
     "data": {
      "image/png": "[encoded data removed]",
      "text/plain": [
       "<Figure size 432x288 with 1 Axes>"
      ]
     },
     "metadata": {},
     "output_type": "display_data"
    }
   ],
   "source": [
    "plt.plot(ss)"
   ]
  },
  {
   "cell_type": "code",
   "execution_count": 849,
   "id": "2c7bb59b",
   "metadata": {},
   "outputs": [
    {
     "data": {
      "text/plain": [
       "(157, 157)"
      ]
     },
     "execution_count": 849,
     "metadata": {},
     "output_type": "execute_result"
    }
   ],
   "source": [
    "len(ls), len(ys_list[test_z_idx][1:])"
   ]
  },
  {
   "cell_type": "code",
   "execution_count": null,
   "id": "94044ce6",
   "metadata": {},
   "outputs": [],
   "source": [
    "# maybe we do need a dummy at first non-zero idx\n",
    "# could also skip first X (3?) non-zero's, set them to 0 so we start with more stable data"
   ]
  },
  {
   "cell_type": "code",
   "execution_count": 852,
   "id": "873325cc",
   "metadata": {},
   "outputs": [
    {
     "data": {
      "text/plain": [
       "-0.6305137038560302"
      ]
     },
     "execution_count": 852,
     "metadata": {},
     "output_type": "execute_result"
    }
   ],
   "source": [
    "map_estimate['smoothing_season'][test_z_idx] * ys_list[test_z_idx][1:][41] / (ls[40] + ts[40]) + (1 - map_estimate['smoothing_season'][test_z_idx]) * initial_ss[41]"
   ]
  },
  {
   "cell_type": "code",
   "execution_count": 855,
   "id": "99d6822f",
   "metadata": {},
   "outputs": [
    {
     "data": {
      "text/plain": [
       "0.006510691282579424"
      ]
     },
     "execution_count": 855,
     "metadata": {},
     "output_type": "execute_result"
    }
   ],
   "source": [
    "map_estimate['smoothing_season'][test_z_idx]"
   ]
  },
  {
   "cell_type": "code",
   "execution_count": 857,
   "id": "9a93e90a",
   "metadata": {},
   "outputs": [
    {
     "data": {
      "text/plain": [
       "-0.8804420835102191"
      ]
     },
     "execution_count": 857,
     "metadata": {},
     "output_type": "execute_result"
    }
   ],
   "source": [
    "(ls[40] + ts[40])"
   ]
  },
  {
   "cell_type": "code",
   "execution_count": 854,
   "id": "15afb478",
   "metadata": {},
   "outputs": [
    {
     "data": {
      "text/plain": [
       "-1.6434099953568508"
      ]
     },
     "execution_count": 854,
     "metadata": {},
     "output_type": "execute_result"
    }
   ],
   "source": [
    "map_estimate['smoothing_season'][test_z_idx] * ys_list[test_z_idx][1:][41] / (ls[40] + ts[40])"
   ]
  },
  {
   "cell_type": "code",
   "execution_count": 858,
   "id": "8ecc87ff",
   "metadata": {},
   "outputs": [
    {
     "data": {
      "text/plain": [
       "0.14469273203735053"
      ]
     },
     "execution_count": 858,
     "metadata": {},
     "output_type": "execute_result"
    }
   ],
   "source": [
    "map_estimate['smoothing_season'][test_z_idx] * ys_list[test_z_idx][1:][41] / (10)"
   ]
  },
  {
   "cell_type": "code",
   "execution_count": 856,
   "id": "179f2242",
   "metadata": {},
   "outputs": [
    {
     "data": {
      "text/plain": [
       "222.23866215942857"
      ]
     },
     "execution_count": 856,
     "metadata": {},
     "output_type": "execute_result"
    }
   ],
   "source": [
    "ys_list[test_z_idx][1:][41]"
   ]
  },
  {
   "cell_type": "code",
   "execution_count": 853,
   "id": "3c547a39",
   "metadata": {},
   "outputs": [
    {
     "data": {
      "text/plain": [
       "1.0128962915008206"
      ]
     },
     "execution_count": 853,
     "metadata": {},
     "output_type": "execute_result"
    }
   ],
   "source": [
    "(1 - map_estimate['smoothing_season'][test_z_idx]) * initial_ss[41]"
   ]
  },
  {
   "cell_type": "code",
   "execution_count": 851,
   "id": "4806d596",
   "metadata": {},
   "outputs": [
    {
     "data": {
      "text/plain": [
       "1.0195341636926663"
      ]
     },
     "execution_count": 851,
     "metadata": {},
     "output_type": "execute_result"
    }
   ],
   "source": [
    "initial_ss[41]"
   ]
  },
  {
   "cell_type": "code",
   "execution_count": 850,
   "id": "4ed5266a",
   "metadata": {},
   "outputs": [
    {
     "data": {
      "text/plain": [
       "[0.0,\n",
       " 0.0,\n",
       " 0.0,\n",
       " 222.23866215942857,\n",
       " 1109.292810255714,\n",
       " 1078.8519359229283,\n",
       " 1116.7767766405]"
      ]
     },
     "execution_count": 850,
     "metadata": {},
     "output_type": "execute_result"
    }
   ],
   "source": [
    "ys_list[test_z_idx][1:][38:45]"
   ]
  },
  {
   "cell_type": "code",
   "execution_count": 845,
   "id": "2c15038d",
   "metadata": {},
   "outputs": [
    {
     "data": {
      "text/plain": [
       "[7.418035787072309,\n",
       " 4.959425391394952,\n",
       " 2.034279513794608,\n",
       " 41.73980700823617,\n",
       " 276.059510935855,\n",
       " 610.6057800876299,\n",
       " 974.3751930752417]"
      ]
     },
     "execution_count": 845,
     "metadata": {},
     "output_type": "execute_result"
    }
   ],
   "source": [
    "ls[38:45]"
   ]
  },
  {
   "cell_type": "code",
   "execution_count": 847,
   "id": "e7187303",
   "metadata": {},
   "outputs": [
    {
     "data": {
      "text/plain": [
       "[-1.2592742507063404,\n",
       " -2.4331967590389114,\n",
       " -2.914721597304827,\n",
       " 38.80241494472028,\n",
       " 230.1767408729488,\n",
       " 332.3347046300802,\n",
       " 363.10331928287053]"
      ]
     },
     "execution_count": 847,
     "metadata": {},
     "output_type": "execute_result"
    }
   ],
   "source": [
    "ts[38:45]"
   ]
  },
  {
   "cell_type": "code",
   "execution_count": 848,
   "id": "c3714f6d",
   "metadata": {},
   "outputs": [
    {
     "data": {
      "text/plain": [
       "[0.9857179549951843,\n",
       " 0.9904683960491151,\n",
       " 0.995187608334335,\n",
       " -0.6305137038560302,\n",
       " 1.105823987314351,\n",
       " 1.0423145196012997,\n",
       " 1.0123685110653118]"
      ]
     },
     "execution_count": 848,
     "metadata": {},
     "output_type": "execute_result"
    }
   ],
   "source": [
    "ss[38:45]"
   ]
  },
  {
   "cell_type": "code",
   "execution_count": null,
   "id": "682b226f",
   "metadata": {},
   "outputs": [],
   "source": [
    "# above, at 41 we have ss[41], which is a fcn of the szn_m52 = 41-52 = -9 = initial_szn[41]\n",
    "    # ie we have the season estimates created ON these dates\n",
    "# below, we actually have initial_szn[41], followed by the next buncha seasons\n",
    "    # ie we have the szn values that are used to predict FOR these dates"
   ]
  },
  {
   "cell_type": "code",
   "execution_count": null,
   "id": "82c1c37a",
   "metadata": {},
   "outputs": [],
   "source": [
    "# maybe we need another dummy var for the first non-zero entry, if what's going on here is the initial szn is being used to fit the first non-zero entry well\n"
   ]
  },
  {
   "cell_type": "code",
   "execution_count": null,
   "id": "4a23696f",
   "metadata": {},
   "outputs": [],
   "source": []
  },
  {
   "cell_type": "code",
   "execution_count": 796,
   "id": "46517d49",
   "metadata": {},
   "outputs": [
    {
     "data": {
      "text/plain": [
       "[<matplotlib.lines.Line2D at 0x191819490>]"
      ]
     },
     "execution_count": 796,
     "metadata": {},
     "output_type": "execute_result"
    },
    {
     "data": {
      "image/png": "[encoded data removed]",
      "text/plain": [
       "<Figure size 432x288 with 1 Axes>"
      ]
     },
     "metadata": {},
     "output_type": "display_data"
    }
   ],
   "source": [
    "plt.plot(seasons_f.get_test_value()[test_z_idx])"
   ]
  },
  {
   "cell_type": "code",
   "execution_count": 827,
   "id": "5ffc080e",
   "metadata": {},
   "outputs": [
    {
     "data": {
      "text/plain": [
       "array([  32.05519119,   29.73337497,  -16.75662914,  -58.47938838,\n",
       "       -966.7779244 , -638.08680303, -240.9220398 ,  130.20931686])"
      ]
     },
     "execution_count": 827,
     "metadata": {},
     "output_type": "execute_result"
    }
   ],
   "source": [
    "trends_f.get_test_value()[test_z_idx,90:98]"
   ]
  },
  {
   "cell_type": "code",
   "execution_count": 828,
   "id": "3eda3c9b",
   "metadata": {},
   "outputs": [
    {
     "data": {
      "text/plain": [
       "array([1985.47851358, 2015.16162476, 1997.39855775, 1938.0159351 ,\n",
       "        951.57472902,  320.60358878,   88.27956198,  226.52330818])"
      ]
     },
     "execution_count": 828,
     "metadata": {},
     "output_type": "execute_result"
    }
   ],
   "source": [
    "levels_f.get_test_value()[test_z_idx,90:98]"
   ]
  },
  {
   "cell_type": "code",
   "execution_count": 829,
   "id": "0d73180b",
   "metadata": {},
   "outputs": [
    {
     "data": {
      "text/plain": [
       "array([ 0.98571795,  0.9904684 ,  0.99518761, -0.6305137 ,  1.10582399,\n",
       "        1.04231452,  1.01236851,  1.00072204])"
      ]
     },
     "execution_count": 829,
     "metadata": {},
     "output_type": "execute_result"
    }
   ],
   "source": [
    "seasons_f.get_test_value()[test_z_idx,90:98]"
   ]
  },
  {
   "cell_type": "code",
   "execution_count": 830,
   "id": "ce80b514",
   "metadata": {},
   "outputs": [
    {
     "data": {
      "text/plain": [
       "array([0.99217772, 0.99695929, 1.00170943, 1.01953416, 1.02281268,\n",
       "       1.03517916, 1.01124142, 1.00203125])"
      ]
     },
     "execution_count": 830,
     "metadata": {},
     "output_type": "execute_result"
    }
   ],
   "source": [
    "seasons_f.get_test_value()[test_z_idx,38:46]"
   ]
  },
  {
   "cell_type": "code",
   "execution_count": 833,
   "id": "3c867284",
   "metadata": {},
   "outputs": [
    {
     "data": {
      "text/plain": [
       "0.006510691282579424"
      ]
     },
     "execution_count": 833,
     "metadata": {},
     "output_type": "execute_result"
    }
   ],
   "source": [
    "map_estimate['smoothing_season'][test_z_idx]"
   ]
  },
  {
   "cell_type": "code",
   "execution_count": 832,
   "id": "0c670bf2",
   "metadata": {},
   "outputs": [
    {
     "data": {
      "text/plain": [
       "0.9186215283089966"
      ]
     },
     "execution_count": 832,
     "metadata": {},
     "output_type": "execute_result"
    }
   ],
   "source": [
    "ys_list[test_z_idx][94] / (levels_f.get_test_value()[test_z_idx,92] + trends_f.get_test_value()[test_z_idx,92])"
   ]
  },
  {
   "cell_type": "code",
   "execution_count": 821,
   "id": "55c593b0",
   "metadata": {},
   "outputs": [
    {
     "data": {
      "text/plain": [
       "1.0188771526771718"
      ]
     },
     "execution_count": 821,
     "metadata": {},
     "output_type": "execute_result"
    }
   ],
   "source": [
    "map_estimate['smoothing_season'][test_z_idx] * ys_list[test_z_idx][94] / (levels_f.get_test_value()[test_z_idx,92] + trends_f.get_test_value()[test_z_idx,92]) + (1 - map_estimate['smoothing_season'][test_z_idx]) * map_estimate['initial_szns'][test_z_idx,41]"
   ]
  },
  {
   "cell_type": "code",
   "execution_count": 818,
   "id": "ca9878df",
   "metadata": {},
   "outputs": [
    {
     "data": {
      "text/plain": [
       "(1.0195341636926663, 1.0195341636926663)"
      ]
     },
     "execution_count": 818,
     "metadata": {},
     "output_type": "execute_result"
    }
   ],
   "source": [
    "map_estimate['initial_szns'][test_z_idx,41], seasons_f.get_test_value()[test_z_idx,41]"
   ]
  },
  {
   "cell_type": "code",
   "execution_count": 814,
   "id": "bd56ebc5",
   "metadata": {},
   "outputs": [
    {
     "data": {
      "text/plain": [
       "array([-0.6305137])"
      ]
     },
     "execution_count": 814,
     "metadata": {},
     "output_type": "execute_result"
    }
   ],
   "source": [
    "seasons_f.get_test_value()[test_z_idx, 93:94]"
   ]
  },
  {
   "cell_type": "code",
   "execution_count": 815,
   "id": "57e69d5e",
   "metadata": {},
   "outputs": [
    {
     "data": {
      "text/plain": [
       "array([1.01953416])"
      ]
     },
     "execution_count": 815,
     "metadata": {},
     "output_type": "execute_result"
    }
   ],
   "source": [
    "seasons_f.get_test_value()[test_z_idx, 41:42]"
   ]
  },
  {
   "cell_type": "code",
   "execution_count": 816,
   "id": "0f76db4c",
   "metadata": {},
   "outputs": [
    {
     "data": {
      "text/plain": [
       "array([0.99695929, 1.00170943, 1.01953416, 1.02281268, 1.03517916])"
      ]
     },
     "execution_count": 816,
     "metadata": {},
     "output_type": "execute_result"
    }
   ],
   "source": [
    "seasons_f.get_test_value()[test_z_idx, 39:44]"
   ]
  },
  {
   "cell_type": "code",
   "execution_count": 805,
   "id": "3e5c41cd",
   "metadata": {},
   "outputs": [
    {
     "data": {
      "text/plain": [
       "<AxesSubplot:>"
      ]
     },
     "execution_count": 805,
     "metadata": {},
     "output_type": "execute_result"
    },
    {
     "data": {
      "image/png": "[encoded data removed]",
      "text/plain": [
       "<Figure size 432x288 with 1 Axes>"
      ]
     },
     "metadata": {},
     "output_type": "display_data"
    }
   ],
   "source": [
    "d2.loc[d2.zone_idx == test_z_idx].reset_index().y_obs.plot()"
   ]
  },
  {
   "cell_type": "code",
   "execution_count": 807,
   "id": "e5fe6762",
   "metadata": {},
   "outputs": [
    {
     "data": {
      "text/plain": [
       "[<matplotlib.lines.Line2D at 0x1ad007850>]"
      ]
     },
     "execution_count": 807,
     "metadata": {},
     "output_type": "execute_result"
    },
    {
     "data": {
      "image/png": "[encoded data removed]",
      "text/plain": [
       "<Figure size 432x288 with 1 Axes>"
      ]
     },
     "metadata": {},
     "output_type": "display_data"
    }
   ],
   "source": [
    "plt.plot(ys_list[test_z_idx][35:45])"
   ]
  },
  {
   "cell_type": "code",
   "execution_count": 801,
   "id": "2a97b9e6",
   "metadata": {},
   "outputs": [
    {
     "data": {
      "text/plain": [
       "(0.0, 2.0)"
      ]
     },
     "execution_count": 801,
     "metadata": {},
     "output_type": "execute_result"
    },
    {
     "data": {
      "image/png": "[encoded data removed]",
      "text/plain": [
       "<Figure size 432x288 with 1 Axes>"
      ]
     },
     "metadata": {},
     "output_type": "display_data"
    }
   ],
   "source": [
    "# d2.iloc[1:].reset_index().y_obs.plot()\n",
    "test_z_idx = np.unique(zone_idx)[1]\n",
    "\n",
    "ax = plt.plot(seasons_f.get_test_value()[test_z_idx,35:45])[0]\n",
    "ax.axes.set_ylim(0,2)"
   ]
  },
  {
   "cell_type": "code",
   "execution_count": 803,
   "id": "60bfbe09",
   "metadata": {},
   "outputs": [
    {
     "data": {
      "image/png": "[encoded data removed]",
      "text/plain": [
       "<Figure size 432x288 with 1 Axes>"
      ]
     },
     "metadata": {},
     "output_type": "display_data"
    }
   ],
   "source": [
    "# d2.iloc[1:].reset_index().y_obs.plot()\n",
    "test_z_idx = np.unique(zone_idx)[1]\n",
    "\n",
    "ax = plt.plot(levels_f.get_test_value()[test_z_idx,35:45])[0]\n",
    "# ax.axes.set_ylim(0,2)"
   ]
  },
  {
   "cell_type": "code",
   "execution_count": 804,
   "id": "e5ca252f",
   "metadata": {},
   "outputs": [
    {
     "data": {
      "image/png": "[encoded data removed]",
      "text/plain": [
       "<Figure size 432x288 with 1 Axes>"
      ]
     },
     "metadata": {},
     "output_type": "display_data"
    }
   ],
   "source": [
    "# d2.iloc[1:].reset_index().y_obs.plot()\n",
    "test_z_idx = np.unique(zone_idx)[1]\n",
    "\n",
    "ax = plt.plot(trends_f.get_test_value()[test_z_idx,35:45])[0]\n",
    "# ax.axes.set_ylim(0,2)"
   ]
  },
  {
   "cell_type": "code",
   "execution_count": 795,
   "id": "6cdcda6c",
   "metadata": {},
   "outputs": [
    {
     "data": {
      "text/plain": [
       "[<matplotlib.lines.Line2D at 0x1ac4eb070>]"
      ]
     },
     "execution_count": 795,
     "metadata": {},
     "output_type": "execute_result"
    },
    {
     "data": {
      "image/png": "[encoded data removed]",
      "text/plain": [
       "<Figure size 432x288 with 1 Axes>"
      ]
     },
     "metadata": {},
     "output_type": "display_data"
    }
   ],
   "source": [
    "plt.plot(map_estimate['initial_szns'][test_z_idx])"
   ]
  },
  {
   "cell_type": "code",
   "execution_count": 737,
   "id": "e1843df3",
   "metadata": {},
   "outputs": [
    {
     "data": {
      "text/plain": [
       "[<matplotlib.lines.Line2D at 0x18cd9d5e0>]"
      ]
     },
     "execution_count": 737,
     "metadata": {},
     "output_type": "execute_result"
    },
    {
     "data": {
      "image/png": "[encoded data removed]",
      "text/plain": [
       "<Figure size 432x288 with 1 Axes>"
      ]
     },
     "metadata": {},
     "output_type": "display_data"
    }
   ],
   "source": [
    "plt.plot(map_estimate['initial_szns_mus'])"
   ]
  },
  {
   "cell_type": "code",
   "execution_count": 796,
   "id": "72efcc17",
   "metadata": {},
   "outputs": [
    {
     "data": {
      "text/plain": [
       "[<matplotlib.lines.Line2D at 0x191819490>]"
      ]
     },
     "execution_count": 796,
     "metadata": {},
     "output_type": "execute_result"
    },
    {
     "data": {
      "image/png": "[encoded data removed]",
      "text/plain": [
       "<Figure size 432x288 with 1 Axes>"
      ]
     },
     "metadata": {},
     "output_type": "display_data"
    }
   ],
   "source": [
    "plt.plot(seasons_f.get_test_value()[test_z_idx])"
   ]
  },
  {
   "cell_type": "code",
   "execution_count": 797,
   "id": "0693af71",
   "metadata": {},
   "outputs": [
    {
     "data": {
      "text/plain": [
       "[<matplotlib.lines.Line2D at 0x1977a25b0>]"
      ]
     },
     "execution_count": 797,
     "metadata": {},
     "output_type": "execute_result"
    },
    {
     "data": {
      "image/png": "[encoded data removed]",
      "text/plain": [
       "<Figure size 432x288 with 1 Axes>"
      ]
     },
     "metadata": {},
     "output_type": "display_data"
    }
   ],
   "source": [
    "plt.plot(levels_f.get_test_value()[test_z_idx])"
   ]
  },
  {
   "cell_type": "code",
   "execution_count": 798,
   "id": "658e9029",
   "metadata": {},
   "outputs": [
    {
     "data": {
      "text/plain": [
       "[<matplotlib.lines.Line2D at 0x1770820a0>]"
      ]
     },
     "execution_count": 798,
     "metadata": {},
     "output_type": "execute_result"
    },
    {
     "data": {
      "image/png": "[encoded data removed]",
      "text/plain": [
       "<Figure size 432x288 with 1 Axes>"
      ]
     },
     "metadata": {},
     "output_type": "display_data"
    }
   ],
   "source": [
    "plt.plot(trends_f.get_test_value()[test_z_idx])"
   ]
  },
  {
   "cell_type": "code",
   "execution_count": 721,
   "id": "c7ca1d7c",
   "metadata": {},
   "outputs": [
    {
     "data": {
      "text/plain": [
       "[<matplotlib.lines.Line2D at 0x1af9a7460>]"
      ]
     },
     "execution_count": 721,
     "metadata": {},
     "output_type": "execute_result"
    },
    {
     "data": {
      "image/png": "[encoded data removed]",
      "text/plain": [
       "<Figure size 432x288 with 1 Axes>"
      ]
     },
     "metadata": {},
     "output_type": "display_data"
    }
   ],
   "source": [
    "# d2.iloc[1:].reset_index().y_obs.plot()\n",
    "test_z_idx = np.unique(zone_idx)[2]\n",
    "\n",
    "d2.loc[d2.zone_idx == test_z_idx].reset_index().y_obs.plot()\n",
    "plt.plot(y_hats.get_test_value()[test_z_idx])"
   ]
  },
  {
   "cell_type": "code",
   "execution_count": 722,
   "id": "abac91f5",
   "metadata": {},
   "outputs": [
    {
     "data": {
      "text/plain": [
       "[<matplotlib.lines.Line2D at 0x1a8d5d610>]"
      ]
     },
     "execution_count": 722,
     "metadata": {},
     "output_type": "execute_result"
    },
    {
     "data": {
      "image/png": "[encoded data removed]",
      "text/plain": [
       "<Figure size 432x288 with 1 Axes>"
      ]
     },
     "metadata": {},
     "output_type": "display_data"
    }
   ],
   "source": [
    "# d2.iloc[1:].reset_index().y_obs.plot()\n",
    "test_z_idx = np.unique(zone_idx)[3]\n",
    "\n",
    "d2.loc[d2.zone_idx == test_z_idx].reset_index().y_obs.plot()\n",
    "plt.plot(y_hats.get_test_value()[test_z_idx])"
   ]
  },
  {
   "cell_type": "code",
   "execution_count": 723,
   "id": "c1d10efc",
   "metadata": {},
   "outputs": [
    {
     "data": {
      "text/plain": [
       "[<matplotlib.lines.Line2D at 0x1830f4580>]"
      ]
     },
     "execution_count": 723,
     "metadata": {},
     "output_type": "execute_result"
    },
    {
     "data": {
      "image/png": "[encoded data removed]",
      "text/plain": [
       "<Figure size 432x288 with 1 Axes>"
      ]
     },
     "metadata": {},
     "output_type": "display_data"
    }
   ],
   "source": [
    "# d2.iloc[1:].reset_index().y_obs.plot()\n",
    "test_z_idx = np.unique(zone_idx)[4]\n",
    "\n",
    "d2.loc[d2.zone_idx == test_z_idx].reset_index().y_obs.plot()\n",
    "plt.plot(y_hats.get_test_value()[test_z_idx])"
   ]
  },
  {
   "cell_type": "code",
   "execution_count": 664,
   "id": "82e2f6c6",
   "metadata": {},
   "outputs": [
    {
     "data": {
      "text/plain": [
       "[<matplotlib.lines.Line2D at 0x1ae42ea00>]"
      ]
     },
     "execution_count": 664,
     "metadata": {},
     "output_type": "execute_result"
    },
    {
     "data": {
      "image/png": "[encoded data removed]",
      "text/plain": [
       "<Figure size 432x288 with 1 Axes>"
      ]
     },
     "metadata": {},
     "output_type": "display_data"
    }
   ],
   "source": [
    "plt.plot(map_estimate['initial_szns'][test_z_idx])"
   ]
  },
  {
   "cell_type": "code",
   "execution_count": 629,
   "id": "58b802dd",
   "metadata": {
    "collapsed": true
   },
   "outputs": [
    {
     "data": {
      "text/plain": [
       "[<matplotlib.lines.Line2D at 0x18d6bb220>]"
      ]
     },
     "execution_count": 629,
     "metadata": {},
     "output_type": "execute_result"
    },
    {
     "data": {
      "image/png": "[encoded data removed]",
      "text/plain": [
       "<Figure size 432x288 with 1 Axes>"
      ]
     },
     "metadata": {},
     "output_type": "display_data"
    }
   ],
   "source": [
    "plt.plot(map_estimate['initial_szns'][0])"
   ]
  },
  {
   "cell_type": "code",
   "execution_count": 345,
   "id": "e71e274b",
   "metadata": {},
   "outputs": [],
   "source": [
    "## prep data\n",
    "ys_list, is_covid_start_list, first_t_list, y_obs_lagm1_list =  [], [], [], []\n",
    "\n",
    "for z_idx in np.unique(zone_idx):\n",
    "    zdf = d.loc[d.zone_idx == z_idx].sort_values('date')\n",
    "    z_id = zdf.zone_id.unique().item()\n",
    "    \n",
    "    pad_df = pd.DataFrame(columns = zdf.columns)\n",
    "    pad_df.loc[0, 'zone_id'] = z_id\n",
    "    pad_df.loc[0, 'zone_idx'] = z_idx\n",
    "    zdf = pd.concat([pad_df, zdf])\n",
    "    zdf['y_obs_lag-1'] = zdf.y_obs.shift(-1)\n",
    "    \n",
    "    ys_list.append(zdf['y_obs'].tolist())\n",
    "    y_obs_lagm1_list.append(zdf['y_obs_lag-1'].tolist())\n",
    "    is_covid_start_list.append(zdf['covid_start_m1'].tolist())\n",
    "    first_t_list.append(zdf.t.min())"
   ]
  },
  {
   "cell_type": "code",
   "execution_count": 692,
   "id": "a95b7cb7",
   "metadata": {},
   "outputs": [],
   "source": [
    "## prep data\n",
    "\n",
    "# maybe we do need a dummy at first non-zero idx\n",
    "# could also skip first X (3?) non-zero's, set them to 0 so we start with more stable data\n",
    "\n",
    "szn_len = 52\n",
    "ys_list, is_covid_start_list, y_obs_lagm1_list, initial_lvl_upper_list =  [], [], [], []\n",
    "\n",
    "for z_idx in np.unique(zone_idx):\n",
    "    zdf = d2.loc[d2.zone_idx == z_idx].sort_values('date')\n",
    "    z_id = zdf.zone_id.unique().item()\n",
    "    \n",
    "    pad_df = pd.DataFrame(columns = zdf.columns)\n",
    "    pad_df.loc[0, 'zone_id'] = z_id\n",
    "    pad_df.loc[0, 'zone_idx'] = z_idx\n",
    "    zdf = pd.concat([pad_df, zdf])\n",
    "    zdf['y_obs_lag-1'] = zdf.y_obs.shift(-1)\n",
    "    initial_lvl_upper = zdf.head()['y_obs_lag-1'].max()\n",
    "    \n",
    "    ys_list.append(zdf['y_obs'].tolist())\n",
    "    y_obs_lagm1_list.append(zdf['y_obs_lag-1'].tolist())\n",
    "    is_covid_start_list.append(zdf['covid_start_m1'].tolist())\n",
    "    initial_lvl_upper_list.append(initial_lvl_upper)\n",
    "#     first_t_list.append(zdf.t.min())"
   ]
  },
  {
   "cell_type": "code",
   "execution_count": null,
   "id": "369f22b7",
   "metadata": {},
   "outputs": [],
   "source": [
    "## basically we want the initial trend and initial level to be applied at first non-0 entry"
   ]
  },
  {
   "cell_type": "code",
   "execution_count": 860,
   "id": "ea2f4266",
   "metadata": {},
   "outputs": [
    {
     "data": {
      "text/plain": [
       "datetime.date(2017, 7, 10)"
      ]
     },
     "execution_count": 860,
     "metadata": {},
     "output_type": "execute_result"
    }
   ],
   "source": [
    "zdf.loc[zdf.y_obs > 0].date.min()"
   ]
  },
  {
   "cell_type": "code",
   "execution_count": 861,
   "id": "399ae3c3",
   "metadata": {},
   "outputs": [
    {
     "data": {
      "text/html": [
       "<div>\n",
       "<style scoped>\n",
       "    .dataframe tbody tr th:only-of-type {\n",
       "        vertical-align: middle;\n",
       "    }\n",
       "\n",
       "    .dataframe tbody tr th {\n",
       "        vertical-align: top;\n",
       "    }\n",
       "\n",
       "    .dataframe thead th {\n",
       "        text-align: right;\n",
       "    }\n",
       "</style>\n",
       "<table border=\"1\" class=\"dataframe\">\n",
       "  <thead>\n",
       "    <tr style=\"text-align: right;\">\n",
       "      <th></th>\n",
       "      <th>zone_id</th>\n",
       "      <th>date</th>\n",
       "      <th>total_demand_new</th>\n",
       "      <th>total_demand_new_lag1</th>\n",
       "      <th>total_demand_new_lag2</th>\n",
       "      <th>total_demand_new_lag3</th>\n",
       "      <th>total_demand_new_lag-1</th>\n",
       "      <th>total_demand_new_lag-2</th>\n",
       "      <th>total_demand_new_lag-3</th>\n",
       "      <th>smoothed_total_demand</th>\n",
       "      <th>...</th>\n",
       "      <th>t4w_total_demand</th>\n",
       "      <th>month</th>\n",
       "      <th>week</th>\n",
       "      <th>day</th>\n",
       "      <th>t4w_total_demand_lag2</th>\n",
       "      <th>szn_factor</th>\n",
       "      <th>y_obs</th>\n",
       "      <th>covid_start_m1</th>\n",
       "      <th>zone_idx</th>\n",
       "      <th>y_obs_lag-1</th>\n",
       "    </tr>\n",
       "  </thead>\n",
       "  <tbody>\n",
       "    <tr>\n",
       "      <th>0</th>\n",
       "      <td>18</td>\n",
       "      <td>NaN</td>\n",
       "      <td>NaN</td>\n",
       "      <td>NaN</td>\n",
       "      <td>NaN</td>\n",
       "      <td>NaN</td>\n",
       "      <td>NaN</td>\n",
       "      <td>NaN</td>\n",
       "      <td>NaN</td>\n",
       "      <td>NaN</td>\n",
       "      <td>...</td>\n",
       "      <td>NaN</td>\n",
       "      <td>NaN</td>\n",
       "      <td>NaN</td>\n",
       "      <td>NaN</td>\n",
       "      <td>NaN</td>\n",
       "      <td>NaN</td>\n",
       "      <td>NaN</td>\n",
       "      <td>NaN</td>\n",
       "      <td>4</td>\n",
       "      <td>586.138481</td>\n",
       "    </tr>\n",
       "    <tr>\n",
       "      <th>2017-07-10</th>\n",
       "      <td>18</td>\n",
       "      <td>2017-07-10</td>\n",
       "      <td>586.138481</td>\n",
       "      <td>NaN</td>\n",
       "      <td>NaN</td>\n",
       "      <td>NaN</td>\n",
       "      <td>624.273423</td>\n",
       "      <td>612.904018</td>\n",
       "      <td>598.826837</td>\n",
       "      <td>NaN</td>\n",
       "      <td>...</td>\n",
       "      <td>NaN</td>\n",
       "      <td>7</td>\n",
       "      <td>28</td>\n",
       "      <td>10</td>\n",
       "      <td>NaN</td>\n",
       "      <td>NaN</td>\n",
       "      <td>586.138481</td>\n",
       "      <td>0.0</td>\n",
       "      <td>4</td>\n",
       "      <td>624.273423</td>\n",
       "    </tr>\n",
       "    <tr>\n",
       "      <th>2017-07-17</th>\n",
       "      <td>18</td>\n",
       "      <td>2017-07-17</td>\n",
       "      <td>624.273423</td>\n",
       "      <td>586.138481</td>\n",
       "      <td>NaN</td>\n",
       "      <td>NaN</td>\n",
       "      <td>612.904018</td>\n",
       "      <td>598.826837</td>\n",
       "      <td>611.507891</td>\n",
       "      <td>NaN</td>\n",
       "      <td>...</td>\n",
       "      <td>NaN</td>\n",
       "      <td>7</td>\n",
       "      <td>29</td>\n",
       "      <td>17</td>\n",
       "      <td>NaN</td>\n",
       "      <td>NaN</td>\n",
       "      <td>624.273423</td>\n",
       "      <td>0.0</td>\n",
       "      <td>4</td>\n",
       "      <td>612.904018</td>\n",
       "    </tr>\n",
       "    <tr>\n",
       "      <th>2017-07-24</th>\n",
       "      <td>18</td>\n",
       "      <td>2017-07-24</td>\n",
       "      <td>612.904018</td>\n",
       "      <td>624.273423</td>\n",
       "      <td>586.138481</td>\n",
       "      <td>NaN</td>\n",
       "      <td>598.826837</td>\n",
       "      <td>611.507891</td>\n",
       "      <td>597.768642</td>\n",
       "      <td>605.186658</td>\n",
       "      <td>...</td>\n",
       "      <td>NaN</td>\n",
       "      <td>7</td>\n",
       "      <td>30</td>\n",
       "      <td>24</td>\n",
       "      <td>NaN</td>\n",
       "      <td>NaN</td>\n",
       "      <td>612.904018</td>\n",
       "      <td>0.0</td>\n",
       "      <td>4</td>\n",
       "      <td>598.826837</td>\n",
       "    </tr>\n",
       "    <tr>\n",
       "      <th>2017-07-31</th>\n",
       "      <td>18</td>\n",
       "      <td>2017-07-31</td>\n",
       "      <td>598.826837</td>\n",
       "      <td>612.904018</td>\n",
       "      <td>624.273423</td>\n",
       "      <td>586.138481</td>\n",
       "      <td>611.507891</td>\n",
       "      <td>597.768642</td>\n",
       "      <td>599.086566</td>\n",
       "      <td>611.613493</td>\n",
       "      <td>...</td>\n",
       "      <td>NaN</td>\n",
       "      <td>7</td>\n",
       "      <td>31</td>\n",
       "      <td>31</td>\n",
       "      <td>NaN</td>\n",
       "      <td>NaN</td>\n",
       "      <td>598.826837</td>\n",
       "      <td>0.0</td>\n",
       "      <td>4</td>\n",
       "      <td>611.507891</td>\n",
       "    </tr>\n",
       "  </tbody>\n",
       "</table>\n",
       "<p>5 rows × 22 columns</p>\n",
       "</div>"
      ],
      "text/plain": [
       "           zone_id        date  total_demand_new  total_demand_new_lag1  \\\n",
       "0               18         NaN               NaN                    NaN   \n",
       "2017-07-10      18  2017-07-10        586.138481                    NaN   \n",
       "2017-07-17      18  2017-07-17        624.273423             586.138481   \n",
       "2017-07-24      18  2017-07-24        612.904018             624.273423   \n",
       "2017-07-31      18  2017-07-31        598.826837             612.904018   \n",
       "\n",
       "            total_demand_new_lag2  total_demand_new_lag3  \\\n",
       "0                             NaN                    NaN   \n",
       "2017-07-10                    NaN                    NaN   \n",
       "2017-07-17                    NaN                    NaN   \n",
       "2017-07-24             586.138481                    NaN   \n",
       "2017-07-31             624.273423             586.138481   \n",
       "\n",
       "            total_demand_new_lag-1  total_demand_new_lag-2  \\\n",
       "0                              NaN                     NaN   \n",
       "2017-07-10              624.273423              612.904018   \n",
       "2017-07-17              612.904018              598.826837   \n",
       "2017-07-24              598.826837              611.507891   \n",
       "2017-07-31              611.507891              597.768642   \n",
       "\n",
       "            total_demand_new_lag-3  smoothed_total_demand  ...  \\\n",
       "0                              NaN                    NaN  ...   \n",
       "2017-07-10              598.826837                    NaN  ...   \n",
       "2017-07-17              611.507891                    NaN  ...   \n",
       "2017-07-24              597.768642             605.186658  ...   \n",
       "2017-07-31              599.086566             611.613493  ...   \n",
       "\n",
       "           t4w_total_demand  month  week  day t4w_total_demand_lag2  \\\n",
       "0                       NaN    NaN   NaN  NaN                   NaN   \n",
       "2017-07-10              NaN      7    28   10                   NaN   \n",
       "2017-07-17              NaN      7    29   17                   NaN   \n",
       "2017-07-24              NaN      7    30   24                   NaN   \n",
       "2017-07-31              NaN      7    31   31                   NaN   \n",
       "\n",
       "           szn_factor       y_obs  covid_start_m1  zone_idx  y_obs_lag-1  \n",
       "0                 NaN         NaN             NaN         4   586.138481  \n",
       "2017-07-10        NaN  586.138481             0.0         4   624.273423  \n",
       "2017-07-17        NaN  624.273423             0.0         4   612.904018  \n",
       "2017-07-24        NaN  612.904018             0.0         4   598.826837  \n",
       "2017-07-31        NaN  598.826837             0.0         4   611.507891  \n",
       "\n",
       "[5 rows x 22 columns]"
      ]
     },
     "execution_count": 861,
     "metadata": {},
     "output_type": "execute_result"
    }
   ],
   "source": [
    "zdf.head()"
   ]
  },
  {
   "cell_type": "code",
   "execution_count": null,
   "id": "66f587a3",
   "metadata": {},
   "outputs": [],
   "source": [
    "# ok, we have the hierarchical priors, etc\n",
    "# we have the inner functions\n",
    "# just need to make sure df_prep is setup correctly, etc per below and test\n",
    "\n",
    "# [] bring back the initial_level_upper thing we had for the prior? maybe need to do per zone\n",
    "# [] make sure we correctly align outputs and observeds\n",
    "\n",
    "# [] apply the padding for ys[1:], etc\n",
    "# [] confirm ok that we're padding newer zones with 0's (initial level will be 0 i guess, but should be fine -- since the optimal smoothing_level will still be determined by the non-0 data)"
   ]
  },
  {
   "cell_type": "code",
   "execution_count": 318,
   "id": "4a16ad32",
   "metadata": {},
   "outputs": [
    {
     "data": {
      "text/plain": [
       "[for{cpu,scan_fn}.0, for{cpu,scan_fn}.1, for{cpu,scan_fn}.2]"
      ]
     },
     "execution_count": 318,
     "metadata": {},
     "output_type": "execute_result"
    }
   ],
   "source": [
    "outputs"
   ]
  },
  {
   "cell_type": "code",
   "execution_count": 319,
   "id": "5ca72b0e",
   "metadata": {},
   "outputs": [
    {
     "data": {
      "text/plain": [
       "array([[2501.        ,  627.25      , -465.1875    , -895.109375  ,\n",
       "        -883.79416827, 1845.30301136,  876.55212782,  173.53125729],\n",
       "       [2500.        ,  625.        , -468.75      , -897.9375    ,\n",
       "        -886.296875  , 1843.09765625,  874.52050781,  170.60236347]])"
      ]
     },
     "execution_count": 319,
     "metadata": {},
     "output_type": "execute_result"
    }
   ],
   "source": [
    "outputs[0].get_test_value()"
   ]
  },
  {
   "cell_type": "code",
   "execution_count": 287,
   "id": "b45ce2bd",
   "metadata": {},
   "outputs": [
    {
     "data": {
      "text/plain": [
       "array([[ 4.,  9., 16.,  4.,  9., 16., 25.,  9.],\n",
       "       [ 0.,  0.,  0.,  1.,  4.,  9., 16.,  1.]])"
      ]
     },
     "execution_count": 287,
     "metadata": {},
     "output_type": "execute_result"
    }
   ],
   "source": [
    "outputs[2].get_test_value()"
   ]
  },
  {
   "cell_type": "code",
   "execution_count": 111,
   "id": "f230b6b2",
   "metadata": {
    "collapsed": true
   },
   "outputs": [
    {
     "ename": "SyntaxError",
     "evalue": "'return' outside function (<ipython-input-111-1840a6545aa7>, line 25)",
     "output_type": "error",
     "traceback": [
      "\u001b[0;36m  File \u001b[0;32m\"<ipython-input-111-1840a6545aa7>\"\u001b[0;36m, line \u001b[0;32m25\u001b[0m\n\u001b[0;31m    return outputs\u001b[0m\n\u001b[0m    ^\u001b[0m\n\u001b[0;31mSyntaxError\u001b[0m\u001b[0;31m:\u001b[0m 'return' outside function\n"
     ]
    }
   ],
   "source": [
    "for z_idx in np.unique(zone_idx):\n",
    "    zdf = d2.loc[d2.zone_idx == zone_idx]\n",
    "    ys = tt.as_tensor_variable(zdf['y_obs'])\n",
    "    is_covid_start = tt.as_tensor_variable(zdf['covid_start_m1'])\n",
    "    first_t = zdf.t.min()\n",
    "    initial_seasons = initial_szns[zone_idx, first_t%szn_len:szn_len] + initial_szns[zone_idx, :first_t%szn_len]\n",
    "    \n",
    "    outputs, updates = theano.scan(hw_component_wise,\n",
    "               sequences = [\n",
    "                   ys[1:],\n",
    "#                    ys[szn_len:],\n",
    "                   is_covid_start[1:]\n",
    "#                    is_covid_start[szn_len:]\n",
    "        #            post_covid[szn_len:]\n",
    "               ],\n",
    "               outputs_info = [\n",
    "                   dict(initial = initial_level[zone_idx], taps=None),\n",
    "                   dict(initial = initial_trend[zone_idx], taps=None),\n",
    "                   dict(initial = initial_seasons, taps=[-szn_len])\n",
    "#                    dict(initial = initial_szns[z_idx], taps=[-szn_len])\n",
    "               ], \n",
    "        #            non_sequences = \n",
    "               )\n",
    "\n",
    "    return outputs"
   ]
  },
  {
   "cell_type": "code",
   "execution_count": null,
   "id": "b15d60c4",
   "metadata": {},
   "outputs": [],
   "source": [
    "def fit_hw_model(zdf, initial_lvl_upper):\n",
    "    szn_len = 52\n",
    "\n",
    "    with pm.Model() as hw_model:\n",
    "    #     initial_level = pm.Normal(f'initial_level', mu=3000, sigma=400)\n",
    "#         initial_level = pm.Uniform(f'initial_level', lower=0, upper=5000)\n",
    "        initial_level = pm.Uniform(f'initial_level', lower=0, upper=initial_lvl_upper, shape=(df_prep.zone_id.nunique()))\n",
    "    \n",
    "        smoothing_level_mu = pm.Uniform('smoothing_level_mu', lower=0, upper=1)\n",
    "        smoothing_level_sigma = pm.HalfCauchy('smoothing_level_sigma', beta=0.5)\n",
    "        smoothing_level = pm.TruncatedNormal('smoothing_level', mu=smoothing_level_mu, sigma=smoothing_level_sigma, lower=0, upper=1, shape=(df_prep.zone_id.nunique()))\n",
    "#         smoothing_level = pm.Normal('smoothing_level', mu=0.5, sigma=0.5)\n",
    "\n",
    "    #     initial_trend = pm.Normal(f'initial_trend', mu=0, sigma=100)\n",
    "#         initial_trend = pm.Uniform(f'initial_trend', lower=-1000, upper=1000)\n",
    "        initial_trend = pm.Uniform(f'initial_trend', lower=-initial_lvl_upper/2, upper=initial_lvl_upper/2)\n",
    "        \n",
    "        smoothing_trend_mu = pm.Uniform('smoothing_trend_mu', lower=0, upper=1)\n",
    "        smoothing_trend_sigma = pm.HalfCauchy('smoothing_trend_sigma', beta=0.5)\n",
    "        smoothing_trend = pm.TruncatedNormal('smoothing_trend', mu=smoothing_trend_mu, sigma=smoothing_trend_sigma, lower=0, upper=1, shape=(df_prep.zone_id.nunique()))\n",
    "#         smoothing_trend = pm.Uniform('smoothing_trend', lower=0, upper=1)\n",
    "    #     smoothing_trend = pm.Normal('smoothing_trend', mu=0.5, sigma=0.5)\n",
    "    \n",
    "        \n",
    "        # \n",
    "        initial_szns_mus = pm.Normal('initial_szns_mus', mu=1.0, sigma=0.2, shape=(szn_len))\n",
    "        initial_szns = pm.Normal('initial_szns', mu=initial_szns_mus, sigma=0.2, shape=(df_prep.zone_id.nunique(), szn_len))\n",
    "    #     initial_szns = pm.Uniform('initial_szns', lower=0.7, upper=1.3, shape=(szn_len))\n",
    "    #     smoothing_season = pm.Uniform('smoothing_season', lower=0, upper=1)\n",
    "    #     smoothing_season = pm.Uniform('smoothing_season', lower=0, upper=1)\n",
    "    #     smoothing_season = pm.Uniform('smoothing_season', lower=0, upper=1-smoothing_level)\n",
    "        smoothing_season_mu = pm.Uniform('smoothing_season_mu', lower=0, upper=1)\n",
    "        smoothing_season_sigma = pm.HalfCauchy('smoothing_season_sigma', beta=0.5)\n",
    "        smoothing_season = pm.TruncatedNormal('smoothing_season', mu=smoothing_season_mu, sigma=smoothing_season_sigma, lower=0, upper=1, shape=(df_prep.zone_id.nunique()))\n",
    "#         smoothing_season = pm.TruncatedNormal('smoothing_season', mu=0.2, sigma=0.5, lower=0, upper=0.8)\n",
    "    #     smoothing_season = pm.Normal('smoothing_season', mu=0.5, sigma=0.5)\n",
    "\n",
    "        ys = tt.as_tensor_variable(zdf['y_obs'])\n",
    "        is_covid_start = tt.as_tensor_variable(zdf['covid_start_m1'])\n",
    "    #     covid_level_change = pm.Normal('covid_level_change', mu=15000, sigma=2000)\n",
    "        covid_level_change = pm.Uniform('covid_level_change', lower=0, upper=5000)\n",
    "#         covid_level_change = pm.Normal('covid_level_change', mu=2000, sigma=1000)\n",
    "    #     covid_level_change2 = pm.Normal('covid_level_change2', mu=20000, sigma=2000)\n",
    "        covid_level_change2 = pm.Uniform('covid_level_change2', lower=0, upper=5000)\n",
    "    #     covid_level_change2 = pm.Normal('covid_level_change2', mu=covid_level_change, sigma=1000)\n",
    "    #     covid_level_change2 = pm.Normal('covid_level_change2', mu=covid_level_change, sigma=1000)\n",
    "\n",
    "        def hw_component_wise(y, covid_start, prior_level, prior_trend, szn_m52):\n",
    "            updated_szn = smoothing_season * y / (prior_level + prior_trend) + (1 - smoothing_season) * szn_m52\n",
    "\n",
    "\n",
    "            next_level = smoothing_level * (y/szn_m52) + (1 - smoothing_level)*(prior_level + prior_trend) + covid_start*covid_level_change\n",
    "            next_trend = smoothing_trend * (next_level - prior_level) + (1 - smoothing_trend)*prior_trend - covid_start*smoothing_trend*covid_level_change2\n",
    "\n",
    "\n",
    "            return next_level, next_trend, updated_szn\n",
    "\n",
    "        # pass initial_level[zone_idx], initial_trend[zone_idx], initial_szns[zone_idx] etc\n",
    "        # should the scan be wrapped in a scan too??\n",
    "            # the outer scan would loop through each zone and pass each zone's initial params and data to the inner scan that calls hw_component_wise\n",
    "        outputs, updates = theano.scan(hw_component_wise,\n",
    "               sequences = [\n",
    "                   ys[1:],\n",
    "#                    ys[szn_len:],\n",
    "                   is_covid_start[1:]\n",
    "#                    is_covid_start[szn_len:]\n",
    "        #            post_covid[szn_len:]\n",
    "               ],\n",
    "               outputs_info = [\n",
    "                   dict(initial = initial_level, taps=None),\n",
    "                   dict(initial = initial_trend, taps=None),\n",
    "                   dict(initial = initial_szns, taps=[-szn_len])\n",
    "               ], \n",
    "        #            non_sequences = \n",
    "               )\n",
    "\n",
    "\n",
    "        levels = outputs[0]\n",
    "        trends = outputs[1]\n",
    "        seasons = outputs[2]\n",
    "\n",
    "\n",
    "        levels_f = pm.math.concatenate([initial_level.reshape(1,1), levels[:-1]])\n",
    "        trends_f = pm.math.concatenate([initial_trend.reshape(1,1), trends[:-1]])\n",
    "        seasons_f = pm.math.concatenate([initial_szns, seasons[:-szn_len]])\n",
    "\n",
    "        levels_and_trends = pm.math.stack([levels_f, trends_f])\n",
    "        level_plus_trend = levels_and_trends.sum(axis=0)\n",
    "\n",
    "        level_plus_trend_and_seasons = pm.math.stack([level_plus_trend, seasons_f])\n",
    "        y_hats = level_plus_trend_and_seasons.prod(axis=0)\n",
    "\n",
    "        sig = pm.HalfCauchy('sigma', beta=10)\n",
    "#         y_like = pm.Normal('y_like', mu=y_hats, sigma=sig, observed=zdf.iloc[szn_len-1:-1, :]['y_obs_lag-1'])\n",
    "        y_like = pm.Normal('y_like', mu=y_hats, sigma=sig, observed=zdf.iloc[:-1, :]['y_obs_lag-1'])\n",
    "        \n",
    "    map_estimate = pm.find_MAP(model=hw_model)\n",
    "    \n",
    "    return map_estimate, ys, is_covid_start"
   ]
  },
  {
   "cell_type": "code",
   "execution_count": null,
   "id": "7a4e9644",
   "metadata": {},
   "outputs": [],
   "source": []
  },
  {
   "cell_type": "code",
   "execution_count": null,
   "id": "001b144e",
   "metadata": {},
   "outputs": [],
   "source": []
  },
  {
   "cell_type": "code",
   "execution_count": null,
   "id": "a925ebcd",
   "metadata": {},
   "outputs": [],
   "source": []
  },
  {
   "cell_type": "code",
   "execution_count": null,
   "id": "345f88f6",
   "metadata": {},
   "outputs": [],
   "source": [
    "### dampened\n",
    "\n",
    "# when training, should we train on the horizon of interest?"
   ]
  },
  {
   "cell_type": "code",
   "execution_count": null,
   "id": "4c291fd8",
   "metadata": {},
   "outputs": [],
   "source": [
    "def fit_hw_model(zdf, initial_lvl_upper):\n",
    "    szn_len = 52\n",
    "\n",
    "    with pm.Model() as hw_model:\n",
    "    #     initial_level = pm.Normal(f'initial_level', mu=3000, sigma=400)\n",
    "#         initial_level = pm.Uniform(f'initial_level', lower=0, upper=5000)\n",
    "        initial_level = pm.Uniform(f'initial_level', lower=0, upper=initial_lvl_upper)\n",
    "        smoothing_level = pm.Uniform('smoothing_level', lower=0, upper=1)\n",
    "#         smoothing_level = pm.Normal('smoothing_level', mu=0.5, sigma=0.5)\n",
    "\n",
    "    #     initial_trend = pm.Normal(f'initial_trend', mu=0, sigma=100)\n",
    "#         initial_trend = pm.Uniform(f'initial_trend', lower=-1000, upper=1000)\n",
    "        initial_trend = pm.Uniform(f'initial_trend', lower=-initial_lvl_upper/2, upper=initial_lvl_upper/2)\n",
    "        smoothing_trend = pm.Uniform('smoothing_trend', lower=0, upper=1)\n",
    "    #     smoothing_trend = pm.Normal('smoothing_trend', mu=0.5, sigma=0.5)\n",
    "\n",
    "        initial_szns = pm.Normal('initial_szns', mu=1.0, sigma=0.2, shape=(szn_len))\n",
    "    #     initial_szns = pm.Uniform('initial_szns', lower=0.7, upper=1.3, shape=(szn_len))\n",
    "    #     smoothing_season = pm.Uniform('smoothing_season', lower=0, upper=1)\n",
    "    #     smoothing_season = pm.Uniform('smoothing_season', lower=0, upper=1)\n",
    "    #     smoothing_season = pm.Uniform('smoothing_season', lower=0, upper=1-smoothing_level)\n",
    "        smoothing_season = pm.TruncatedNormal('smoothing_season', mu=0.2, sigma=0.5, lower=0, upper=0.8)\n",
    "    #     smoothing_season = pm.Normal('smoothing_season', mu=0.5, sigma=0.5)\n",
    "    \n",
    "        dampener = pm.Uniform('dampener', lower=0, upper=1)\n",
    "\n",
    "        ys = tt.as_tensor_variable(zdf['y_obs'])\n",
    "        is_covid_start = tt.as_tensor_variable(zdf['covid_start_m1'])\n",
    "    #     covid_level_change = pm.Normal('covid_level_change', mu=15000, sigma=2000)\n",
    "        covid_level_change = pm.Uniform('covid_level_change', lower=0, upper=5000)\n",
    "#         covid_level_change = pm.Normal('covid_level_change', mu=2000, sigma=1000)\n",
    "    #     covid_level_change2 = pm.Normal('covid_level_change2', mu=20000, sigma=2000)\n",
    "        covid_level_change2 = pm.Uniform('covid_level_change2', lower=0, upper=5000)\n",
    "    #     covid_level_change2 = pm.Normal('covid_level_change2', mu=covid_level_change, sigma=1000)\n",
    "    #     covid_level_change2 = pm.Normal('covid_level_change2', mu=covid_level_change, sigma=1000)\n",
    "\n",
    "        def hw_component_wise(y, covid_start, prior_level, prior_trend, szn_m52):\n",
    "            updated_szn = smoothing_season * y / (prior_level + dampener*prior_trend) + (1 - smoothing_season) * szn_m52\n",
    "\n",
    "\n",
    "            next_level = smoothing_level * (y/szn_m52) + (1 - smoothing_level)*(prior_level + dampener*prior_trend) + covid_start*covid_level_change\n",
    "            next_trend = smoothing_trend * (next_level - prior_level) + (1 - smoothing_trend)*dampener*prior_trend - covid_start*smoothing_trend*covid_level_change2\n",
    "\n",
    "\n",
    "            return next_level, next_trend, updated_szn\n",
    "\n",
    "        outputs, updates = theano.scan(hw_component_wise,\n",
    "               sequences = [\n",
    "                   ys[1:],\n",
    "#                    ys[szn_len:],\n",
    "                   is_covid_start[1:]\n",
    "#                    is_covid_start[szn_len:]\n",
    "        #            post_covid[szn_len:]\n",
    "               ],\n",
    "               outputs_info = [\n",
    "                   dict(initial = initial_level, taps=None),\n",
    "                   dict(initial = initial_trend, taps=None),\n",
    "                   dict(initial = initial_szns, taps=[-szn_len])\n",
    "               ], \n",
    "        #            non_sequences = \n",
    "               )\n",
    "\n",
    "\n",
    "        levels = outputs[0]\n",
    "        trends = outputs[1]\n",
    "        seasons = outputs[2]\n",
    "\n",
    "\n",
    "        levels_f = pm.math.concatenate([initial_level.reshape(1,1), levels[:-1]])\n",
    "        trends_f = pm.math.concatenate([initial_trend.reshape(1,1), trends[:-1]])\n",
    "        trends_f = trends_f * dampener ### pm.math.prod here?\n",
    "        seasons_f = pm.math.concatenate([initial_szns, seasons[:-szn_len]])\n",
    "\n",
    "        levels_and_trends = pm.math.stack([levels_f, trends_f])\n",
    "        level_plus_trend = levels_and_trends.sum(axis=0)\n",
    "\n",
    "        level_plus_trend_and_seasons = pm.math.stack([level_plus_trend, seasons_f])\n",
    "        y_hats = level_plus_trend_and_seasons.prod(axis=0)\n",
    "\n",
    "        sig = pm.HalfCauchy('sigma', beta=10)\n",
    "#         y_like = pm.Normal('y_like', mu=y_hats, sigma=sig, observed=zdf.iloc[szn_len-1:-1, :]['y_obs_lag-1'])\n",
    "        y_like = pm.Normal('y_like', mu=y_hats, sigma=sig, observed=zdf.iloc[:-1, :]['y_obs_lag-1'])\n",
    "        \n",
    "    map_estimate = pm.find_MAP(model=hw_model)\n",
    "    \n",
    "    return map_estimate, ys, is_covid_start"
   ]
  }
 ],
 "metadata": {
  "kernelspec": {
   "display_name": "Python 3",
   "language": "python",
   "name": "python3"
  },
  "language_info": {
   "codemirror_mode": {
    "name": "ipython",
    "version": 3
   },
   "file_extension": ".py",
   "mimetype": "text/x-python",
   "name": "python",
   "nbconvert_exporter": "python",
   "pygments_lexer": "ipython3",
   "version": "3.8.6"
  }
 },
 "nbformat": 4,
 "nbformat_minor": 5
}
