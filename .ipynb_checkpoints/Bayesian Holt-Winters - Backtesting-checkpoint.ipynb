{
 "cells": [
  {
   "cell_type": "code",
   "execution_count": 1,
   "id": "967bfbed",
   "metadata": {},
   "outputs": [],
   "source": [
    "import pymc3 as pm\n",
    "import theano\n",
    "import theano.tensor as tt\n",
    "\n",
    "import pandas as pd\n",
    "import numpy as np\n",
    "from datetime import datetime, timedelta, date\n",
    "\n",
    "import seaborn as sns\n",
    "\n",
    "import matplotlib.pyplot as plt\n",
    "import matplotlib.style as style\n",
    "style.use('ggplot')"
   ]
  },
  {
   "cell_type": "code",
   "execution_count": 2,
   "id": "6d84754e",
   "metadata": {},
   "outputs": [
    {
     "data": {
      "text/html": [
       "<div>\n",
       "<style scoped>\n",
       "    .dataframe tbody tr th:only-of-type {\n",
       "        vertical-align: middle;\n",
       "    }\n",
       "\n",
       "    .dataframe tbody tr th {\n",
       "        vertical-align: top;\n",
       "    }\n",
       "\n",
       "    .dataframe thead th {\n",
       "        text-align: right;\n",
       "    }\n",
       "</style>\n",
       "<table border=\"1\" class=\"dataframe\">\n",
       "  <thead>\n",
       "    <tr style=\"text-align: right;\">\n",
       "      <th></th>\n",
       "      <th>zone_id</th>\n",
       "      <th>date</th>\n",
       "      <th>total_demand_new</th>\n",
       "      <th>total_demand_new_lag1</th>\n",
       "      <th>total_demand_new_lag2</th>\n",
       "      <th>total_demand_new_lag3</th>\n",
       "      <th>total_demand_new_lag-1</th>\n",
       "      <th>total_demand_new_lag-2</th>\n",
       "      <th>total_demand_new_lag-3</th>\n",
       "      <th>smoothed_total_demand</th>\n",
       "      <th>year</th>\n",
       "      <th>total_demand_new_lag4</th>\n",
       "      <th>t4w_total_demand</th>\n",
       "      <th>month</th>\n",
       "      <th>week</th>\n",
       "      <th>day</th>\n",
       "      <th>t4w_total_demand_lag2</th>\n",
       "      <th>szn_factor</th>\n",
       "    </tr>\n",
       "    <tr>\n",
       "      <th>date_idx</th>\n",
       "      <th></th>\n",
       "      <th></th>\n",
       "      <th></th>\n",
       "      <th></th>\n",
       "      <th></th>\n",
       "      <th></th>\n",
       "      <th></th>\n",
       "      <th></th>\n",
       "      <th></th>\n",
       "      <th></th>\n",
       "      <th></th>\n",
       "      <th></th>\n",
       "      <th></th>\n",
       "      <th></th>\n",
       "      <th></th>\n",
       "      <th></th>\n",
       "      <th></th>\n",
       "      <th></th>\n",
       "    </tr>\n",
       "  </thead>\n",
       "  <tbody>\n",
       "    <tr>\n",
       "      <th>2017-06-26</th>\n",
       "      <td>1</td>\n",
       "      <td>2017-06-26</td>\n",
       "      <td>1900.84505</td>\n",
       "      <td>NaN</td>\n",
       "      <td>NaN</td>\n",
       "      <td>NaN</td>\n",
       "      <td>2155.673157</td>\n",
       "      <td>2193.532475</td>\n",
       "      <td>2110.494687</td>\n",
       "      <td>NaN</td>\n",
       "      <td>2017</td>\n",
       "      <td>NaN</td>\n",
       "      <td>NaN</td>\n",
       "      <td>6</td>\n",
       "      <td>26</td>\n",
       "      <td>26</td>\n",
       "      <td>NaN</td>\n",
       "      <td>NaN</td>\n",
       "    </tr>\n",
       "    <tr>\n",
       "      <th>2017-06-26</th>\n",
       "      <td>410</td>\n",
       "      <td>2017-06-26</td>\n",
       "      <td>0.00000</td>\n",
       "      <td>NaN</td>\n",
       "      <td>NaN</td>\n",
       "      <td>NaN</td>\n",
       "      <td>1.572067</td>\n",
       "      <td>8.671007</td>\n",
       "      <td>13.703718</td>\n",
       "      <td>NaN</td>\n",
       "      <td>2017</td>\n",
       "      <td>NaN</td>\n",
       "      <td>NaN</td>\n",
       "      <td>6</td>\n",
       "      <td>26</td>\n",
       "      <td>26</td>\n",
       "      <td>NaN</td>\n",
       "      <td>NaN</td>\n",
       "    </tr>\n",
       "  </tbody>\n",
       "</table>\n",
       "</div>"
      ],
      "text/plain": [
       "            zone_id        date  total_demand_new  total_demand_new_lag1  \\\n",
       "date_idx                                                                   \n",
       "2017-06-26        1  2017-06-26        1900.84505                    NaN   \n",
       "2017-06-26      410  2017-06-26           0.00000                    NaN   \n",
       "\n",
       "            total_demand_new_lag2  total_demand_new_lag3  \\\n",
       "date_idx                                                   \n",
       "2017-06-26                    NaN                    NaN   \n",
       "2017-06-26                    NaN                    NaN   \n",
       "\n",
       "            total_demand_new_lag-1  total_demand_new_lag-2  \\\n",
       "date_idx                                                     \n",
       "2017-06-26             2155.673157             2193.532475   \n",
       "2017-06-26                1.572067                8.671007   \n",
       "\n",
       "            total_demand_new_lag-3  smoothed_total_demand  year  \\\n",
       "date_idx                                                          \n",
       "2017-06-26             2110.494687                    NaN  2017   \n",
       "2017-06-26               13.703718                    NaN  2017   \n",
       "\n",
       "            total_demand_new_lag4  t4w_total_demand  month  week  day  \\\n",
       "date_idx                                                                \n",
       "2017-06-26                    NaN               NaN      6    26   26   \n",
       "2017-06-26                    NaN               NaN      6    26   26   \n",
       "\n",
       "            t4w_total_demand_lag2  szn_factor  \n",
       "date_idx                                       \n",
       "2017-06-26                    NaN         NaN  \n",
       "2017-06-26                    NaN         NaN  "
      ]
     },
     "execution_count": 2,
     "metadata": {},
     "output_type": "execute_result"
    }
   ],
   "source": [
    "# df = pd.read_csv('weekly_dmd.csv')\n",
    "df = pd.read_csv('weekly_dmd_new.csv')\n",
    "df['date'] = pd.to_datetime(df.date).apply(lambda x: x.date())\n",
    "df = df.set_index(df.date)\n",
    "df.index.rename('date_idx', inplace=True)\n",
    "df.head(2)"
   ]
  },
  {
   "cell_type": "code",
   "execution_count": 159,
   "id": "7e4678f4",
   "metadata": {},
   "outputs": [],
   "source": [
    "from statsmodels.tsa.api import ExponentialSmoothing, SimpleExpSmoothing, Holt"
   ]
  },
  {
   "cell_type": "code",
   "execution_count": 1205,
   "id": "d9e5419d",
   "metadata": {},
   "outputs": [
    {
     "name": "stderr",
     "output_type": "stream",
     "text": [
      "<ipython-input-1205-29803c084a1b>:7: FutureWarning: the 'damped'' keyword is deprecated, use 'damped_trend' instead\n",
      "  fit1 = ExponentialSmoothing(zdf, trend='add', seasonal='mul',\n",
      "/Users/sorenzeliger/.pyenv/versions/3.8.6/lib/python3.8/site-packages/statsmodels/tsa/base/tsa_model.py:524: ValueWarning: No frequency information was provided, so inferred frequency W-MON will be used.\n",
      "  warnings.warn('No frequency information was'\n",
      "/Users/sorenzeliger/.pyenv/versions/3.8.6/lib/python3.8/site-packages/statsmodels/tsa/holtwinters/model.py:427: FutureWarning: After 0.13 initialization must be handled at model creation\n",
      "  warnings.warn(\n",
      "/Users/sorenzeliger/.pyenv/versions/3.8.6/lib/python3.8/site-packages/statsmodels/tsa/holtwinters/model.py:1112: FutureWarning: Setting use_boxcox during fit has been deprecated and will be removed after 0.13. It must be set during model initialization.\n",
      "  warnings.warn(\n",
      "/Users/sorenzeliger/.pyenv/versions/3.8.6/lib/python3.8/site-packages/statsmodels/tsa/holtwinters/model.py:920: ConvergenceWarning: Optimization failed to converge. Check mle_retvals.\n",
      "  warnings.warn(\n"
     ]
    },
    {
     "data": {
      "image/png": "[encoded data removed]",
      "text/plain": [
       "<Figure size 720x432 with 1 Axes>"
      ]
     },
     "metadata": {},
     "output_type": "display_data"
    }
   ],
   "source": [
    "zdf = df1.sort_values('date').total_demand_new.astype(float)\n",
    "\n",
    "# zdf = df1.loc[(df1.date < covid_start_idx)\n",
    "#                 | (df1.date >= covid_start_idx + timedelta(weeks=52))].sort_values('date').total_demand_new.astype(float)\n",
    "\n",
    "\n",
    "fit1 = ExponentialSmoothing(zdf, trend='add', seasonal='mul',\n",
    "                            seasonal_periods=52,\n",
    "#                             damped=True\n",
    "                            damped=False\n",
    "                           ).fit(optimized=True, use_boxcox=False)\n",
    "\n",
    "ax = zdf.plot(figsize=(10,6), marker='o', color='black', title=\"Forecasts from Holt-Winters - SF - with seasonality component\" )\n",
    "ax.set_ylabel(\"Smoothed Total Demand\")\n",
    "ax.set_xlabel(\"Week\")\n",
    "fit1.fittedvalues.plot(ax=ax, style='--', color='red')\n",
    "\n",
    "fit1.forecast(8).rename('Holt-Winters (with seasonality component)').plot(ax=ax, style='--', marker='o', color='red', legend=True)\n",
    "\n",
    "plt.show()"
   ]
  },
  {
   "cell_type": "code",
   "execution_count": 1206,
   "id": "059b7399",
   "metadata": {},
   "outputs": [
    {
     "data": {
      "text/plain": [
       "{'smoothing_level': 0.8889285714285714,\n",
       " 'smoothing_trend': 0.8230820105820106,\n",
       " 'smoothing_seasonal': 0.1110714285714286,\n",
       " 'damping_trend': nan,\n",
       " 'initial_level': 2783.5069797410138,\n",
       " 'initial_trend': 2.386143219742208,\n",
       " 'initial_seasons': array([0.68289574, 0.77444503, 0.78804634, 0.75821426, 0.7884416 ,\n",
       "        0.78535444, 0.7800498 , 0.79779579, 0.77496207, 0.8049305 ,\n",
       "        0.89501213, 0.8930455 , 0.7739801 , 0.7729854 , 0.74207211,\n",
       "        0.78991075, 0.79566146, 0.77662844, 0.76978372, 0.76735162,\n",
       "        0.75392567, 0.78446413, 0.80469954, 0.78912728, 0.77667462,\n",
       "        0.72745409, 0.78769021, 0.90074226, 0.94180849, 0.93834758,\n",
       "        0.91596839, 0.88651684, 0.86766494, 0.89792067, 0.92251673,\n",
       "        0.97017268, 0.86870371, 0.9664977 , 0.90869349, 0.89537723,\n",
       "        0.90601365, 0.87712368, 0.88626101, 0.88056957, 0.89936271,\n",
       "        0.87801349, 0.88820917, 0.86324305, 0.8591175 , 0.84884055,\n",
       "        0.8179303 , 0.81807011]),\n",
       " 'use_boxcox': False,\n",
       " 'lamda': None,\n",
       " 'remove_bias': False}"
      ]
     },
     "execution_count": 1206,
     "metadata": {},
     "output_type": "execute_result"
    }
   ],
   "source": [
    "fit1.params"
   ]
  },
  {
   "cell_type": "code",
   "execution_count": 165,
   "id": "54b927bd",
   "metadata": {
    "collapsed": true
   },
   "outputs": [
    {
     "data": {
      "text/plain": [
       "<AxesSubplot:>"
      ]
     },
     "execution_count": 165,
     "metadata": {},
     "output_type": "execute_result"
    },
    {
     "data": {
      "image/png": "[encoded data removed]",
      "text/plain": [
       "<Figure size 432x288 with 1 Axes>"
      ]
     },
     "metadata": {},
     "output_type": "display_data"
    }
   ],
   "source": [
    "sns.scatterplot(x=fit1.params['initial_seasons'], y=map_estimate['initial_szns'])"
   ]
  },
  {
   "cell_type": "code",
   "execution_count": 1207,
   "id": "7aefb729",
   "metadata": {},
   "outputs": [
    {
     "name": "stderr",
     "output_type": "stream",
     "text": [
      "/Users/sorenzeliger/.pyenv/versions/3.8.6/lib/python3.8/site-packages/statsmodels/tsa/holtwinters/results.py:169: FutureWarning: slope is deprecated and will be removed after 0.13\n",
      "  warnings.warn(\n"
     ]
    },
    {
     "data": {
      "text/plain": [
       "<matplotlib.legend.Legend at 0x1a34fbd90>"
      ]
     },
     "execution_count": 1207,
     "metadata": {},
     "output_type": "execute_result"
    },
    {
     "data": {
      "image/png": "[encoded data removed]",
      "text/plain": [
       "<Figure size 864x576 with 3 Axes>"
      ]
     },
     "metadata": {},
     "output_type": "display_data"
    }
   ],
   "source": [
    "states1 = pd.DataFrame(np.c_[fit1.level, fit1.slope, fit1.season, fit1.fittedvalues], columns=['level','slope','seasonal', 'fitted_val'], index=zdf.index)\n",
    "\n",
    "fig, [ax1, ax2, ax3] = plt.subplots(3, 1, figsize=(12,8))\n",
    "states1.level.plot(ax=ax1, label='Level')\n",
    "states1.slope.plot(ax=ax2, label='Trend')\n",
    "states1.seasonal.plot(ax=ax3, label='Seasonality')\n",
    "\n",
    "ax1.legend(loc='best')\n",
    "ax2.legend(loc='best')\n",
    "ax3.legend(loc='best')"
   ]
  },
  {
   "cell_type": "code",
   "execution_count": 3,
   "id": "001fde40",
   "metadata": {
    "code_folding": []
   },
   "outputs": [],
   "source": [
    "def fit_hw_model(zdf, initial_lvl_upper):\n",
    "    szn_len = 52\n",
    "\n",
    "    with pm.Model() as hw_model:\n",
    "    #     initial_level = pm.Normal(f'initial_level', mu=3000, sigma=400)\n",
    "#         initial_level = pm.Uniform(f'initial_level', lower=0, upper=5000)\n",
    "        initial_level = pm.Uniform(f'initial_level', lower=0, upper=initial_lvl_upper)\n",
    "        smoothing_level = pm.Uniform('smoothing_level', lower=0, upper=1)\n",
    "#         smoothing_level = pm.Normal('smoothing_level', mu=0.5, sigma=0.5)\n",
    "\n",
    "    #     initial_trend = pm.Normal(f'initial_trend', mu=0, sigma=100)\n",
    "#         initial_trend = pm.Uniform(f'initial_trend', lower=-1000, upper=1000)\n",
    "        initial_trend = pm.Uniform(f'initial_trend', lower=-initial_lvl_upper/2, upper=initial_lvl_upper/2)\n",
    "        smoothing_trend = pm.Uniform('smoothing_trend', lower=0, upper=1)\n",
    "    #     smoothing_trend = pm.Normal('smoothing_trend', mu=0.5, sigma=0.5)\n",
    "\n",
    "        if len(zdf) < szn_len*2.5:\n",
    "#         if len(zdf) < szn_len*2:\n",
    "#             initial_szns = pm.Deterministic('initial_szns', 1.0, dims=(szn_len))\n",
    "            initial_szns = tt.as_tensor_variable([1.0 for i in range(52)])\n",
    "            smoothing_season = 0.0\n",
    "#             smoothing_season = pm.Deterministic('smoothing_season', 1.0)\n",
    "        else:\n",
    "            initial_szns = pm.Normal('initial_szns', mu=1.0, sigma=0.2, shape=(szn_len))\n",
    "        #     initial_szns = pm.Uniform('initial_szns', lower=0.7, upper=1.3, shape=(szn_len))\n",
    "        #     smoothing_season = pm.Uniform('smoothing_season', lower=0, upper=1)\n",
    "        #     smoothing_season = pm.Uniform('smoothing_season', lower=0, upper=1)\n",
    "        #     smoothing_season = pm.Uniform('smoothing_season', lower=0, upper=1-smoothing_level)\n",
    "            smoothing_season = pm.TruncatedNormal('smoothing_season', mu=0.2, sigma=0.5, lower=0, upper=0.8)\n",
    "        #     smoothing_season = pm.Normal('smoothing_season', mu=0.5, sigma=0.5)\n",
    "\n",
    "        ys = tt.as_tensor_variable(zdf['y_obs'])\n",
    "        is_covid_start = tt.as_tensor_variable(zdf['covid_start_m1'])\n",
    "    #     covid_level_change = pm.Normal('covid_level_change', mu=15000, sigma=2000)\n",
    "        covid_level_change = pm.Uniform('covid_level_change', lower=0, upper=5000)\n",
    "#         covid_level_change = pm.Normal('covid_level_change', mu=2000, sigma=1000)\n",
    "    #     covid_level_change2 = pm.Normal('covid_level_change2', mu=20000, sigma=2000)\n",
    "        covid_level_change2 = pm.Uniform('covid_level_change2', lower=0, upper=5000)\n",
    "    #     covid_level_change2 = pm.Normal('covid_level_change2', mu=covid_level_change, sigma=1000)\n",
    "    #     covid_level_change2 = pm.Normal('covid_level_change2', mu=covid_level_change, sigma=1000)\n",
    "\n",
    "        def hw_component_wise(y, covid_start, prior_level, prior_trend, szn_m52):\n",
    "            updated_szn = smoothing_season * y / (prior_level + prior_trend) + (1 - smoothing_season) * szn_m52\n",
    "\n",
    "\n",
    "            next_level = smoothing_level * (y/szn_m52) + (1 - smoothing_level)*(prior_level + prior_trend) + covid_start*covid_level_change\n",
    "            next_trend = smoothing_trend * (next_level - prior_level) + (1 - smoothing_trend)*prior_trend - covid_start*smoothing_trend*covid_level_change2\n",
    "\n",
    "\n",
    "            return next_level, next_trend, updated_szn\n",
    "\n",
    "        outputs, updates = theano.scan(hw_component_wise,\n",
    "               sequences = [\n",
    "                   ys[1:],\n",
    "#                    ys[szn_len:],\n",
    "                   is_covid_start[1:]\n",
    "#                    is_covid_start[szn_len:]\n",
    "        #            post_covid[szn_len:]\n",
    "               ],\n",
    "               outputs_info = [\n",
    "                   dict(initial = initial_level, taps=None),\n",
    "                   dict(initial = initial_trend, taps=None),\n",
    "                   dict(initial = initial_szns, taps=[-szn_len])\n",
    "               ], \n",
    "        #            non_sequences = \n",
    "               )\n",
    "\n",
    "\n",
    "        levels = outputs[0]\n",
    "        trends = outputs[1]\n",
    "        seasons = outputs[2]\n",
    "\n",
    "\n",
    "        levels_f = pm.math.concatenate([initial_level.reshape(1,1), levels[:-1]])\n",
    "        trends_f = pm.math.concatenate([initial_trend.reshape(1,1), trends[:-1]])\n",
    "        seasons_f = pm.math.concatenate([initial_szns, seasons[:-szn_len]])\n",
    "\n",
    "        levels_and_trends = pm.math.stack([levels_f, trends_f])\n",
    "        level_plus_trend = levels_and_trends.sum(axis=0)\n",
    "\n",
    "        level_plus_trend_and_seasons = pm.math.stack([level_plus_trend, seasons_f])\n",
    "        y_hats = level_plus_trend_and_seasons.prod(axis=0)\n",
    "\n",
    "        sig = pm.HalfCauchy('sigma', beta=10)\n",
    "#         y_like = pm.Normal('y_like', mu=y_hats, sigma=sig, observed=zdf.iloc[szn_len-1:-1, :]['y_obs_lag-1'])\n",
    "        y_like = pm.Normal('y_like', mu=y_hats, sigma=sig, observed=zdf.iloc[:-1, :]['y_obs_lag-1'])\n",
    "        \n",
    "    map_estimate = pm.find_MAP(model=hw_model)\n",
    "    \n",
    "    return map_estimate, ys, is_covid_start"
   ]
  },
  {
   "cell_type": "code",
   "execution_count": 4,
   "id": "c6922433",
   "metadata": {},
   "outputs": [],
   "source": [
    "def predict(map_estimate, ys, is_covid_start, horizon):\n",
    "    \n",
    "    if 'initial_szns' in map_estimate:\n",
    "        szn_estimates = tt.as_tensor_variable(map_estimate['initial_szns'])\n",
    "        szn_smoother = map_estimate['smoothing_season']\n",
    "    else:\n",
    "        szn_estimates = tt.as_tensor_variable([1.0 for i in range(52)])\n",
    "        szn_smoother = 0.0\n",
    "\n",
    "    def hw_component_wise_final(y, covid_start, prior_level, prior_trend, szn_m52):\n",
    "            updated_szn = szn_smoother * y / (prior_level + prior_trend) + (1 - szn_smoother) * szn_m52\n",
    "#             updated_szn = map_estimate['smoothing_season'] * y / (prior_level + prior_trend) + (1 - map_estimate['smoothing_season']) * szn_m52\n",
    "\n",
    "\n",
    "            next_level = map_estimate['smoothing_level'] * (y/szn_m52) + (1 - map_estimate['smoothing_level'])*(prior_level + prior_trend) + covid_start*map_estimate['covid_level_change']\n",
    "            next_trend = map_estimate['smoothing_trend'] * (next_level - prior_level) + (1 - map_estimate['smoothing_trend'])*prior_trend - covid_start*map_estimate['smoothing_trend']*map_estimate['covid_level_change2']\n",
    "\n",
    "\n",
    "            return next_level, next_trend, updated_szn\n",
    "\n",
    "    outputs, updates = theano.scan(hw_component_wise_final,\n",
    "               sequences = [\n",
    "#                    ys[szn_len:],\n",
    "                   ys[1:],\n",
    "#                    is_covid_start[szn_len:]\n",
    "                   is_covid_start[1:]\n",
    "        #            post_covid[szn_len:]\n",
    "               ],\n",
    "               outputs_info = [\n",
    "                   dict(initial = map_estimate['initial_level'], taps=None),\n",
    "                   dict(initial = map_estimate['initial_trend'], taps=None),\n",
    "                   dict(initial = szn_estimates, taps=[-szn_len])\n",
    "#                    dict(initial = tt.as_tensor_variable(map_estimate['initial_szns']), taps=[-szn_len])\n",
    "               ], \n",
    "        #            non_sequences = \n",
    "               )\n",
    "    \n",
    "    levels = outputs[0]\n",
    "    trends = outputs[1]\n",
    "    seasons = outputs[2]\n",
    "\n",
    "    levels_f = pm.math.concatenate([map_estimate['initial_level'].reshape(1), levels[:-1]])\n",
    "    trends_f = pm.math.concatenate([map_estimate['initial_trend'].reshape(1), trends[:-1]])\n",
    "#     seasons_f = pm.math.concatenate([map_estimate['initial_szns'], seasons[:-szn_len]])\n",
    "    seasons_f = pm.math.concatenate([szn_estimates, seasons[:-szn_len]])\n",
    "\n",
    "    levels_and_trends = pm.math.stack([levels_f, trends_f])\n",
    "    level_plus_trend = levels_and_trends.sum(axis=0)\n",
    "\n",
    "    level_plus_trend_and_seasons = pm.math.stack([level_plus_trend, seasons_f])\n",
    "    y_hats = level_plus_trend_and_seasons.prod(axis=0)\n",
    "    \n",
    "    corresponding_szn_idx = (horizon - szn_len) - 1\n",
    "#     szn_estimate = seasons_f.get_test_value()[corresponding_szn_idx]\n",
    "    szn_estimate = seasons.get_test_value()[corresponding_szn_idx]\n",
    "\n",
    "#     pred = (levels_f.get_test_value()[-1] + horizon*trends_f.get_test_value()[-1])*szn_estimate\n",
    "    pred = (levels.get_test_value()[-1] + horizon*trends.get_test_value()[-1])*szn_estimate\n",
    "#     return pred, levels, trends, seasons, corresponding_szn_idx, szn_estimate, y_hats\n",
    "    return pred, levels_f, trends_f, seasons_f, seasons, corresponding_szn_idx, szn_estimate, y_hats"
   ]
  },
  {
   "cell_type": "code",
   "execution_count": 5,
   "id": "bd5708be",
   "metadata": {},
   "outputs": [],
   "source": [
    "F_DATE = date(2021,6,7)\n",
    "# test_f_dates = [F_DATE - timedelta(weeks=i) for i in range(110)]\n",
    "test_f_dates = [F_DATE - timedelta(weeks=i) for i in range(80)]"
   ]
  },
  {
   "cell_type": "code",
   "execution_count": 6,
   "id": "b70abba8",
   "metadata": {},
   "outputs": [],
   "source": [
    "covid_start_idx = date(2020,2,17)\n",
    "\n",
    "df_prep = df.loc[(df.date < covid_start_idx)\n",
    "                | (df.date >= covid_start_idx + timedelta(weeks=52))].sort_values('date')\n",
    "\n",
    "df_prep['y_obs'] = df_prep.total_demand_new\n",
    "# df_prep['y_obs'] = df_prep.smoothed_total_demand\n",
    "df_prep['covid_start_m1'] = df_prep.date.apply(lambda x: 1.0 if x == covid_start_idx - timedelta(weeks=1) else 0)"
   ]
  },
  {
   "cell_type": "code",
   "execution_count": 338,
   "id": "23a51671",
   "metadata": {},
   "outputs": [
    {
     "data": {
      "text/plain": [
       "80"
      ]
     },
     "execution_count": 338,
     "metadata": {},
     "output_type": "execute_result"
    }
   ],
   "source": [
    "len(test_f_dates)"
   ]
  },
  {
   "cell_type": "code",
   "execution_count": 10,
   "id": "5d334054",
   "metadata": {},
   "outputs": [
    {
     "data": {
      "text/plain": [
       "[datetime.date(2021, 6, 7),\n",
       " datetime.date(2021, 5, 17),\n",
       " datetime.date(2021, 4, 26),\n",
       " datetime.date(2021, 4, 5),\n",
       " datetime.date(2020, 1, 13),\n",
       " datetime.date(2019, 12, 23),\n",
       " datetime.date(2019, 12, 2)]"
      ]
     },
     "execution_count": 10,
     "metadata": {},
     "output_type": "execute_result"
    }
   ],
   "source": [
    "test_dates2 = test_f_dates[:10:3] + test_f_dates[-7::3]\n",
    "test_dates2"
   ]
  },
  {
   "cell_type": "code",
   "execution_count": 7,
   "id": "84cb303a",
   "metadata": {},
   "outputs": [
    {
     "data": {
      "text/html": [
       "<div>\n",
       "<style scoped>\n",
       "    .dataframe tbody tr th:only-of-type {\n",
       "        vertical-align: middle;\n",
       "    }\n",
       "\n",
       "    .dataframe tbody tr th {\n",
       "        vertical-align: top;\n",
       "    }\n",
       "\n",
       "    .dataframe thead th {\n",
       "        text-align: right;\n",
       "    }\n",
       "</style>\n",
       "<table border=\"1\" class=\"dataframe\">\n",
       "  <thead>\n",
       "    <tr style=\"text-align: right;\">\n",
       "      <th></th>\n",
       "      <th>zone_id</th>\n",
       "      <th>total_demand_new</th>\n",
       "    </tr>\n",
       "  </thead>\n",
       "  <tbody>\n",
       "    <tr>\n",
       "      <th>403</th>\n",
       "      <td>785</td>\n",
       "      <td>190316.615898</td>\n",
       "    </tr>\n",
       "    <tr>\n",
       "      <th>437</th>\n",
       "      <td>942</td>\n",
       "      <td>166977.068545</td>\n",
       "    </tr>\n",
       "  </tbody>\n",
       "</table>\n",
       "</div>"
      ],
      "text/plain": [
       "     zone_id  total_demand_new\n",
       "403      785     190316.615898\n",
       "437      942     166977.068545"
      ]
     },
     "execution_count": 7,
     "metadata": {},
     "output_type": "execute_result"
    }
   ],
   "source": [
    "recent_dmd_by_zone = df.loc[df.date >= date(2021,3,1)].groupby('zone_id').total_demand_new.sum().reset_index()\n",
    "recent_dmd_by_zone.sort_values('total_demand_new', ascending=False).head(2)"
   ]
  },
  {
   "cell_type": "code",
   "execution_count": 8,
   "id": "5de248e9",
   "metadata": {},
   "outputs": [],
   "source": [
    "zz = recent_dmd_by_zone.sort_values('total_demand_new', ascending=False).head(20).zone_id.tolist()\n",
    "zz2 = recent_dmd_by_zone.sort_values('total_demand_new', ascending=False).iloc[20:30].zone_id.tolist()\n",
    "zz3 = recent_dmd_by_zone.sort_values('total_demand_new', ascending=False).iloc[30:50].zone_id.tolist()\n",
    "zz4 = recent_dmd_by_zone.sort_values('total_demand_new', ascending=False).iloc[50:70].zone_id.tolist()\n",
    "zz5 = recent_dmd_by_zone.sort_values('total_demand_new', ascending=False).iloc[70:90].zone_id.tolist()\n",
    "\n",
    "zz_top90 = recent_dmd_by_zone.sort_values('total_demand_new', ascending=False).iloc[:90].zone_id.tolist()"
   ]
  },
  {
   "cell_type": "code",
   "execution_count": 1040,
   "id": "ac092905",
   "metadata": {},
   "outputs": [
    {
     "data": {
      "text/plain": [
       "4523816.334892994"
      ]
     },
     "execution_count": 1040,
     "metadata": {},
     "output_type": "execute_result"
    }
   ],
   "source": [
    "recent_dmd_by_zone.sort_values('total_demand_new', ascending=False).iloc[:90].total_demand_new.sum()"
   ]
  },
  {
   "cell_type": "code",
   "execution_count": 1046,
   "id": "702deba8",
   "metadata": {},
   "outputs": [
    {
     "data": {
      "text/plain": [
       "(475, 2)"
      ]
     },
     "execution_count": 1046,
     "metadata": {},
     "output_type": "execute_result"
    }
   ],
   "source": [
    "df_prep.zone_id.nunique(), HORIZON"
   ]
  },
  {
   "cell_type": "code",
   "execution_count": null,
   "id": "1efa76bd",
   "metadata": {},
   "outputs": [],
   "source": [
    "# res4_1p is zz5 + zz"
   ]
  },
  {
   "cell_type": "code",
   "execution_count": 968,
   "id": "847c78de",
   "metadata": {},
   "outputs": [
    {
     "data": {
      "text/plain": [
       "[datetime.date(2021, 6, 7),\n",
       " datetime.date(2021, 5, 17),\n",
       " datetime.date(2021, 4, 26),\n",
       " datetime.date(2021, 4, 5),\n",
       " datetime.date(2020, 1, 13),\n",
       " datetime.date(2019, 12, 23),\n",
       " datetime.date(2019, 12, 2)]"
      ]
     },
     "execution_count": 968,
     "metadata": {},
     "output_type": "execute_result"
    }
   ],
   "source": [
    "test_dates2"
   ]
  },
  {
   "cell_type": "code",
   "execution_count": 12,
   "id": "6e6122f9",
   "metadata": {
    "collapsed": true
   },
   "outputs": [
    {
     "ename": "NameError",
     "evalue": "name 'HORIZON' is not defined",
     "output_type": "error",
     "traceback": [
      "\u001b[0;31m---------------------------------------------------------------------------\u001b[0m",
      "\u001b[0;31mNameError\u001b[0m                                 Traceback (most recent call last)",
      "\u001b[0;32m<ipython-input-12-5406be161f2f>\u001b[0m in \u001b[0;36m<module>\u001b[0;34m\u001b[0m\n\u001b[0;32m----> 1\u001b[0;31m \u001b[0mHORIZON\u001b[0m\u001b[0;34m\u001b[0m\u001b[0;34m\u001b[0m\u001b[0m\n\u001b[0m",
      "\u001b[0;31mNameError\u001b[0m: name 'HORIZON' is not defined"
     ]
    }
   ],
   "source": [
    "HORIZON"
   ]
  },
  {
   "cell_type": "code",
   "execution_count": 1168,
   "id": "6dccb8d4",
   "metadata": {},
   "outputs": [
    {
     "data": {
      "text/plain": [
       "datetime.date(2021, 6, 28)"
      ]
     },
     "execution_count": 1168,
     "metadata": {},
     "output_type": "execute_result"
    }
   ],
   "source": [
    "df_prep.date.max() - timedelta(weeks=2)"
   ]
  },
  {
   "cell_type": "code",
   "execution_count": 1235,
   "id": "a2d0bf35",
   "metadata": {},
   "outputs": [
    {
     "data": {
      "text/plain": [
       "datetime.date(2021, 6, 28)"
      ]
     },
     "execution_count": 1235,
     "metadata": {},
     "output_type": "execute_result"
    }
   ],
   "source": [
    "date(2021,7,12) - timedelta(weeks=2)"
   ]
  },
  {
   "cell_type": "code",
   "execution_count": 14,
   "id": "314a7bbf",
   "metadata": {
    "code_folding": [],
    "scrolled": true
   },
   "outputs": [
    {
     "name": "stdout",
     "output_type": "stream",
     "text": [
      "iter 1/7\n",
      "inner iter 1\n"
     ]
    },
    {
     "name": "stderr",
     "output_type": "stream",
     "text": [
      "WARNING (theano.scan.basic): Output initial_level (index 0) has a initial state but taps is explicitly set to None \n",
      "WARNING (theano.scan.basic): Output initial_trend (index 1) has a initial state but taps is explicitly set to None \n"
     ]
    },
    {
     "data": {
      "text/html": [
       "\n",
       "    <div>\n",
       "        <style>\n",
       "            /* Turns off some styling */\n",
       "            progress {\n",
       "                /* gets rid of default border in Firefox and Opera. */\n",
       "                border: none;\n",
       "                /* Needs to be in here for Safari polyfill so background images work as expected. */\n",
       "                background-size: auto;\n",
       "            }\n",
       "            .progress-bar-interrupted, .progress-bar-interrupted::-webkit-progress-bar {\n",
       "                background: #F44336;\n",
       "            }\n",
       "        </style>\n",
       "      <progress value='83' class='' max='83' style='width:300px; height:20px; vertical-align: middle;'></progress>\n",
       "      100.00% [83/83 00:00<00:00 logp = -871.56, ||grad|| = 0.024948]\n",
       "    </div>\n",
       "    "
      ],
      "text/plain": [
       "<IPython.core.display.HTML object>"
      ]
     },
     "metadata": {},
     "output_type": "display_data"
    },
    {
     "name": "stderr",
     "output_type": "stream",
     "text": [
      "WARNING (theano.scan.basic): Output None (index 0) has a initial state but taps is explicitly set to None \n",
      "WARNING (theano.scan.basic): Output None (index 1) has a initial state but taps is explicitly set to None \n"
     ]
    },
    {
     "name": "stdout",
     "output_type": "stream",
     "text": [
      "\n",
      "inner iter 2\n"
     ]
    },
    {
     "name": "stderr",
     "output_type": "stream",
     "text": [
      "WARNING (theano.scan.basic): Output initial_level (index 0) has a initial state but taps is explicitly set to None \n",
      "WARNING (theano.scan.basic): Output initial_trend (index 1) has a initial state but taps is explicitly set to None \n"
     ]
    },
    {
     "data": {
      "text/html": [
       "\n",
       "    <div>\n",
       "        <style>\n",
       "            /* Turns off some styling */\n",
       "            progress {\n",
       "                /* gets rid of default border in Firefox and Opera. */\n",
       "                border: none;\n",
       "                /* Needs to be in here for Safari polyfill so background images work as expected. */\n",
       "                background-size: auto;\n",
       "            }\n",
       "            .progress-bar-interrupted, .progress-bar-interrupted::-webkit-progress-bar {\n",
       "                background: #F44336;\n",
       "            }\n",
       "        </style>\n",
       "      <progress value='55' class='' max='55' style='width:300px; height:20px; vertical-align: middle;'></progress>\n",
       "      100.00% [55/55 00:00<00:00 logp = -776.97, ||grad|| = 0.009683]\n",
       "    </div>\n",
       "    "
      ],
      "text/plain": [
       "<IPython.core.display.HTML object>"
      ]
     },
     "metadata": {},
     "output_type": "display_data"
    },
    {
     "name": "stderr",
     "output_type": "stream",
     "text": [
      "WARNING (theano.scan.basic): Output None (index 0) has a initial state but taps is explicitly set to None \n",
      "WARNING (theano.scan.basic): Output None (index 1) has a initial state but taps is explicitly set to None \n"
     ]
    },
    {
     "name": "stdout",
     "output_type": "stream",
     "text": [
      "\n",
      "inner iter 3\n"
     ]
    },
    {
     "name": "stderr",
     "output_type": "stream",
     "text": [
      "WARNING (theano.scan.basic): Output initial_level (index 0) has a initial state but taps is explicitly set to None \n",
      "WARNING (theano.scan.basic): Output initial_trend (index 1) has a initial state but taps is explicitly set to None \n"
     ]
    },
    {
     "data": {
      "text/html": [
       "\n",
       "    <div>\n",
       "        <style>\n",
       "            /* Turns off some styling */\n",
       "            progress {\n",
       "                /* gets rid of default border in Firefox and Opera. */\n",
       "                border: none;\n",
       "                /* Needs to be in here for Safari polyfill so background images work as expected. */\n",
       "                background-size: auto;\n",
       "            }\n",
       "            .progress-bar-interrupted, .progress-bar-interrupted::-webkit-progress-bar {\n",
       "                background: #F44336;\n",
       "            }\n",
       "        </style>\n",
       "      <progress value='57' class='' max='57' style='width:300px; height:20px; vertical-align: middle;'></progress>\n",
       "      100.00% [57/57 00:00<00:00 logp = -736.96, ||grad|| = 0.25809]\n",
       "    </div>\n",
       "    "
      ],
      "text/plain": [
       "<IPython.core.display.HTML object>"
      ]
     },
     "metadata": {},
     "output_type": "display_data"
    },
    {
     "name": "stderr",
     "output_type": "stream",
     "text": [
      "WARNING (theano.scan.basic): Output None (index 0) has a initial state but taps is explicitly set to None \n",
      "WARNING (theano.scan.basic): Output None (index 1) has a initial state but taps is explicitly set to None \n"
     ]
    },
    {
     "name": "stdout",
     "output_type": "stream",
     "text": [
      "\n",
      "inner iter 4\n"
     ]
    },
    {
     "name": "stderr",
     "output_type": "stream",
     "text": [
      "WARNING (theano.scan.basic): Output initial_level (index 0) has a initial state but taps is explicitly set to None \n",
      "WARNING (theano.scan.basic): Output initial_trend (index 1) has a initial state but taps is explicitly set to None \n"
     ]
    },
    {
     "data": {
      "text/html": [
       "\n",
       "    <div>\n",
       "        <style>\n",
       "            /* Turns off some styling */\n",
       "            progress {\n",
       "                /* gets rid of default border in Firefox and Opera. */\n",
       "                border: none;\n",
       "                /* Needs to be in here for Safari polyfill so background images work as expected. */\n",
       "                background-size: auto;\n",
       "            }\n",
       "            .progress-bar-interrupted, .progress-bar-interrupted::-webkit-progress-bar {\n",
       "                background: #F44336;\n",
       "            }\n",
       "        </style>\n",
       "      <progress value='65' class='' max='65' style='width:300px; height:20px; vertical-align: middle;'></progress>\n",
       "      100.00% [65/65 00:01<00:00 logp = -881.8, ||grad|| = 0.02775]\n",
       "    </div>\n",
       "    "
      ],
      "text/plain": [
       "<IPython.core.display.HTML object>"
      ]
     },
     "metadata": {},
     "output_type": "display_data"
    },
    {
     "name": "stderr",
     "output_type": "stream",
     "text": [
      "WARNING (theano.scan.basic): Output None (index 0) has a initial state but taps is explicitly set to None \n",
      "WARNING (theano.scan.basic): Output None (index 1) has a initial state but taps is explicitly set to None \n"
     ]
    },
    {
     "name": "stdout",
     "output_type": "stream",
     "text": [
      "\n",
      "inner iter 5\n"
     ]
    },
    {
     "name": "stderr",
     "output_type": "stream",
     "text": [
      "WARNING (theano.scan.basic): Output initial_level (index 0) has a initial state but taps is explicitly set to None \n",
      "WARNING (theano.scan.basic): Output initial_trend (index 1) has a initial state but taps is explicitly set to None \n"
     ]
    },
    {
     "data": {
      "text/html": [
       "\n",
       "    <div>\n",
       "        <style>\n",
       "            /* Turns off some styling */\n",
       "            progress {\n",
       "                /* gets rid of default border in Firefox and Opera. */\n",
       "                border: none;\n",
       "                /* Needs to be in here for Safari polyfill so background images work as expected. */\n",
       "                background-size: auto;\n",
       "            }\n",
       "            .progress-bar-interrupted, .progress-bar-interrupted::-webkit-progress-bar {\n",
       "                background: #F44336;\n",
       "            }\n",
       "        </style>\n",
       "      <progress value='42' class='' max='42' style='width:300px; height:20px; vertical-align: middle;'></progress>\n",
       "      100.00% [42/42 00:00<00:00 logp = -797.25, ||grad|| = 0.95272]\n",
       "    </div>\n",
       "    "
      ],
      "text/plain": [
       "<IPython.core.display.HTML object>"
      ]
     },
     "metadata": {},
     "output_type": "display_data"
    },
    {
     "name": "stderr",
     "output_type": "stream",
     "text": [
      "WARNING (theano.scan.basic): Output None (index 0) has a initial state but taps is explicitly set to None \n",
      "WARNING (theano.scan.basic): Output None (index 1) has a initial state but taps is explicitly set to None \n"
     ]
    },
    {
     "name": "stdout",
     "output_type": "stream",
     "text": [
      "\n",
      "inner iter 6\n"
     ]
    },
    {
     "name": "stderr",
     "output_type": "stream",
     "text": [
      "WARNING (theano.scan.basic): Output initial_level (index 0) has a initial state but taps is explicitly set to None \n",
      "WARNING (theano.scan.basic): Output initial_trend (index 1) has a initial state but taps is explicitly set to None \n"
     ]
    },
    {
     "data": {
      "text/html": [
       "\n",
       "    <div>\n",
       "        <style>\n",
       "            /* Turns off some styling */\n",
       "            progress {\n",
       "                /* gets rid of default border in Firefox and Opera. */\n",
       "                border: none;\n",
       "                /* Needs to be in here for Safari polyfill so background images work as expected. */\n",
       "                background-size: auto;\n",
       "            }\n",
       "            .progress-bar-interrupted, .progress-bar-interrupted::-webkit-progress-bar {\n",
       "                background: #F44336;\n",
       "            }\n",
       "        </style>\n",
       "      <progress value='67' class='' max='67' style='width:300px; height:20px; vertical-align: middle;'></progress>\n",
       "      100.00% [67/67 00:00<00:00 logp = -857.39, ||grad|| = 0.01514]\n",
       "    </div>\n",
       "    "
      ],
      "text/plain": [
       "<IPython.core.display.HTML object>"
      ]
     },
     "metadata": {},
     "output_type": "display_data"
    },
    {
     "name": "stderr",
     "output_type": "stream",
     "text": [
      "WARNING (theano.scan.basic): Output None (index 0) has a initial state but taps is explicitly set to None \n",
      "WARNING (theano.scan.basic): Output None (index 1) has a initial state but taps is explicitly set to None \n"
     ]
    },
    {
     "name": "stdout",
     "output_type": "stream",
     "text": [
      "\n",
      "inner iter 7\n"
     ]
    },
    {
     "name": "stderr",
     "output_type": "stream",
     "text": [
      "WARNING (theano.scan.basic): Output initial_level (index 0) has a initial state but taps is explicitly set to None \n",
      "WARNING (theano.scan.basic): Output initial_trend (index 1) has a initial state but taps is explicitly set to None \n"
     ]
    },
    {
     "data": {
      "text/html": [
       "\n",
       "    <div>\n",
       "        <style>\n",
       "            /* Turns off some styling */\n",
       "            progress {\n",
       "                /* gets rid of default border in Firefox and Opera. */\n",
       "                border: none;\n",
       "                /* Needs to be in here for Safari polyfill so background images work as expected. */\n",
       "                background-size: auto;\n",
       "            }\n",
       "            .progress-bar-interrupted, .progress-bar-interrupted::-webkit-progress-bar {\n",
       "                background: #F44336;\n",
       "            }\n",
       "        </style>\n",
       "      <progress value='73' class='' max='73' style='width:300px; height:20px; vertical-align: middle;'></progress>\n",
       "      100.00% [73/73 00:00<00:00 logp = -708.66, ||grad|| = 0.015158]\n",
       "    </div>\n",
       "    "
      ],
      "text/plain": [
       "<IPython.core.display.HTML object>"
      ]
     },
     "metadata": {},
     "output_type": "display_data"
    },
    {
     "name": "stderr",
     "output_type": "stream",
     "text": [
      "WARNING (theano.scan.basic): Output None (index 0) has a initial state but taps is explicitly set to None \n",
      "WARNING (theano.scan.basic): Output None (index 1) has a initial state but taps is explicitly set to None \n"
     ]
    },
    {
     "name": "stdout",
     "output_type": "stream",
     "text": [
      "\n",
      "inner iter 8\n"
     ]
    },
    {
     "name": "stderr",
     "output_type": "stream",
     "text": [
      "WARNING (theano.scan.basic): Output initial_level (index 0) has a initial state but taps is explicitly set to None \n",
      "WARNING (theano.scan.basic): Output initial_trend (index 1) has a initial state but taps is explicitly set to None \n"
     ]
    },
    {
     "data": {
      "text/html": [
       "\n",
       "    <div>\n",
       "        <style>\n",
       "            /* Turns off some styling */\n",
       "            progress {\n",
       "                /* gets rid of default border in Firefox and Opera. */\n",
       "                border: none;\n",
       "                /* Needs to be in here for Safari polyfill so background images work as expected. */\n",
       "                background-size: auto;\n",
       "            }\n",
       "            .progress-bar-interrupted, .progress-bar-interrupted::-webkit-progress-bar {\n",
       "                background: #F44336;\n",
       "            }\n",
       "        </style>\n",
       "      <progress value='50' class='' max='50' style='width:300px; height:20px; vertical-align: middle;'></progress>\n",
       "      100.00% [50/50 00:00<00:00 logp = -649.31, ||grad|| = 0.047042]\n",
       "    </div>\n",
       "    "
      ],
      "text/plain": [
       "<IPython.core.display.HTML object>"
      ]
     },
     "metadata": {},
     "output_type": "display_data"
    },
    {
     "name": "stderr",
     "output_type": "stream",
     "text": [
      "WARNING (theano.scan.basic): Output None (index 0) has a initial state but taps is explicitly set to None \n",
      "WARNING (theano.scan.basic): Output None (index 1) has a initial state but taps is explicitly set to None \n"
     ]
    },
    {
     "name": "stdout",
     "output_type": "stream",
     "text": [
      "\n",
      "inner iter 9\n"
     ]
    },
    {
     "name": "stderr",
     "output_type": "stream",
     "text": [
      "WARNING (theano.scan.basic): Output initial_level (index 0) has a initial state but taps is explicitly set to None \n",
      "WARNING (theano.scan.basic): Output initial_trend (index 1) has a initial state but taps is explicitly set to None \n"
     ]
    },
    {
     "data": {
      "text/html": [
       "\n",
       "    <div>\n",
       "        <style>\n",
       "            /* Turns off some styling */\n",
       "            progress {\n",
       "                /* gets rid of default border in Firefox and Opera. */\n",
       "                border: none;\n",
       "                /* Needs to be in here for Safari polyfill so background images work as expected. */\n",
       "                background-size: auto;\n",
       "            }\n",
       "            .progress-bar-interrupted, .progress-bar-interrupted::-webkit-progress-bar {\n",
       "                background: #F44336;\n",
       "            }\n",
       "        </style>\n",
       "      <progress value='36' class='' max='36' style='width:300px; height:20px; vertical-align: middle;'></progress>\n",
       "      100.00% [36/36 00:00<00:00 logp = -639.05, ||grad|| = 0.38092]\n",
       "    </div>\n",
       "    "
      ],
      "text/plain": [
       "<IPython.core.display.HTML object>"
      ]
     },
     "metadata": {},
     "output_type": "display_data"
    },
    {
     "name": "stderr",
     "output_type": "stream",
     "text": [
      "WARNING (theano.scan.basic): Output None (index 0) has a initial state but taps is explicitly set to None \n",
      "WARNING (theano.scan.basic): Output None (index 1) has a initial state but taps is explicitly set to None \n"
     ]
    },
    {
     "name": "stdout",
     "output_type": "stream",
     "text": [
      "\n",
      "inner iter 10\n"
     ]
    },
    {
     "name": "stderr",
     "output_type": "stream",
     "text": [
      "WARNING (theano.scan.basic): Output initial_level (index 0) has a initial state but taps is explicitly set to None \n",
      "WARNING (theano.scan.basic): Output initial_trend (index 1) has a initial state but taps is explicitly set to None \n"
     ]
    },
    {
     "data": {
      "text/html": [
       "\n",
       "    <div>\n",
       "        <style>\n",
       "            /* Turns off some styling */\n",
       "            progress {\n",
       "                /* gets rid of default border in Firefox and Opera. */\n",
       "                border: none;\n",
       "                /* Needs to be in here for Safari polyfill so background images work as expected. */\n",
       "                background-size: auto;\n",
       "            }\n",
       "            .progress-bar-interrupted, .progress-bar-interrupted::-webkit-progress-bar {\n",
       "                background: #F44336;\n",
       "            }\n",
       "        </style>\n",
       "      <progress value='57' class='' max='57' style='width:300px; height:20px; vertical-align: middle;'></progress>\n",
       "      100.00% [57/57 00:00<00:00 logp = -815.08, ||grad|| = 0.14117]\n",
       "    </div>\n",
       "    "
      ],
      "text/plain": [
       "<IPython.core.display.HTML object>"
      ]
     },
     "metadata": {},
     "output_type": "display_data"
    },
    {
     "name": "stderr",
     "output_type": "stream",
     "text": [
      "WARNING (theano.scan.basic): Output None (index 0) has a initial state but taps is explicitly set to None \n",
      "WARNING (theano.scan.basic): Output None (index 1) has a initial state but taps is explicitly set to None \n"
     ]
    },
    {
     "name": "stdout",
     "output_type": "stream",
     "text": [
      "\n",
      "inner iter 11\n"
     ]
    },
    {
     "name": "stderr",
     "output_type": "stream",
     "text": [
      "WARNING (theano.scan.basic): Output initial_level (index 0) has a initial state but taps is explicitly set to None \n",
      "WARNING (theano.scan.basic): Output initial_trend (index 1) has a initial state but taps is explicitly set to None \n"
     ]
    },
    {
     "data": {
      "text/html": [
       "\n",
       "    <div>\n",
       "        <style>\n",
       "            /* Turns off some styling */\n",
       "            progress {\n",
       "                /* gets rid of default border in Firefox and Opera. */\n",
       "                border: none;\n",
       "                /* Needs to be in here for Safari polyfill so background images work as expected. */\n",
       "                background-size: auto;\n",
       "            }\n",
       "            .progress-bar-interrupted, .progress-bar-interrupted::-webkit-progress-bar {\n",
       "                background: #F44336;\n",
       "            }\n",
       "        </style>\n",
       "      <progress value='68' class='' max='68' style='width:300px; height:20px; vertical-align: middle;'></progress>\n",
       "      100.00% [68/68 00:00<00:00 logp = -641.82, ||grad|| = 0.005645]\n",
       "    </div>\n",
       "    "
      ],
      "text/plain": [
       "<IPython.core.display.HTML object>"
      ]
     },
     "metadata": {},
     "output_type": "display_data"
    },
    {
     "name": "stderr",
     "output_type": "stream",
     "text": [
      "WARNING (theano.scan.basic): Output None (index 0) has a initial state but taps is explicitly set to None \n",
      "WARNING (theano.scan.basic): Output None (index 1) has a initial state but taps is explicitly set to None \n"
     ]
    },
    {
     "name": "stdout",
     "output_type": "stream",
     "text": [
      "\n",
      "inner iter 12\n"
     ]
    },
    {
     "name": "stderr",
     "output_type": "stream",
     "text": [
      "WARNING (theano.scan.basic): Output initial_level (index 0) has a initial state but taps is explicitly set to None \n",
      "WARNING (theano.scan.basic): Output initial_trend (index 1) has a initial state but taps is explicitly set to None \n"
     ]
    },
    {
     "data": {
      "text/html": [
       "\n",
       "    <div>\n",
       "        <style>\n",
       "            /* Turns off some styling */\n",
       "            progress {\n",
       "                /* gets rid of default border in Firefox and Opera. */\n",
       "                border: none;\n",
       "                /* Needs to be in here for Safari polyfill so background images work as expected. */\n",
       "                background-size: auto;\n",
       "            }\n",
       "            .progress-bar-interrupted, .progress-bar-interrupted::-webkit-progress-bar {\n",
       "                background: #F44336;\n",
       "            }\n",
       "        </style>\n",
       "      <progress value='38' class='' max='38' style='width:300px; height:20px; vertical-align: middle;'></progress>\n",
       "      100.00% [38/38 00:00<00:00 logp = -644.27, ||grad|| = 0.32419]\n",
       "    </div>\n",
       "    "
      ],
      "text/plain": [
       "<IPython.core.display.HTML object>"
      ]
     },
     "metadata": {},
     "output_type": "display_data"
    },
    {
     "name": "stderr",
     "output_type": "stream",
     "text": [
      "WARNING (theano.scan.basic): Output None (index 0) has a initial state but taps is explicitly set to None \n",
      "WARNING (theano.scan.basic): Output None (index 1) has a initial state but taps is explicitly set to None \n"
     ]
    },
    {
     "name": "stdout",
     "output_type": "stream",
     "text": [
      "\n",
      "inner iter 13\n"
     ]
    },
    {
     "name": "stderr",
     "output_type": "stream",
     "text": [
      "WARNING (theano.scan.basic): Output initial_level (index 0) has a initial state but taps is explicitly set to None \n",
      "WARNING (theano.scan.basic): Output initial_trend (index 1) has a initial state but taps is explicitly set to None \n"
     ]
    },
    {
     "data": {
      "text/html": [
       "\n",
       "    <div>\n",
       "        <style>\n",
       "            /* Turns off some styling */\n",
       "            progress {\n",
       "                /* gets rid of default border in Firefox and Opera. */\n",
       "                border: none;\n",
       "                /* Needs to be in here for Safari polyfill so background images work as expected. */\n",
       "                background-size: auto;\n",
       "            }\n",
       "            .progress-bar-interrupted, .progress-bar-interrupted::-webkit-progress-bar {\n",
       "                background: #F44336;\n",
       "            }\n",
       "        </style>\n",
       "      <progress value='54' class='' max='54' style='width:300px; height:20px; vertical-align: middle;'></progress>\n",
       "      100.00% [54/54 00:00<00:00 logp = -722.24, ||grad|| = 0.14654]\n",
       "    </div>\n",
       "    "
      ],
      "text/plain": [
       "<IPython.core.display.HTML object>"
      ]
     },
     "metadata": {},
     "output_type": "display_data"
    },
    {
     "name": "stderr",
     "output_type": "stream",
     "text": [
      "WARNING (theano.scan.basic): Output None (index 0) has a initial state but taps is explicitly set to None \n",
      "WARNING (theano.scan.basic): Output None (index 1) has a initial state but taps is explicitly set to None \n"
     ]
    },
    {
     "name": "stdout",
     "output_type": "stream",
     "text": [
      "\n",
      "inner iter 14\n"
     ]
    },
    {
     "name": "stderr",
     "output_type": "stream",
     "text": [
      "WARNING (theano.scan.basic): Output initial_level (index 0) has a initial state but taps is explicitly set to None \n",
      "WARNING (theano.scan.basic): Output initial_trend (index 1) has a initial state but taps is explicitly set to None \n"
     ]
    },
    {
     "data": {
      "text/html": [
       "\n",
       "    <div>\n",
       "        <style>\n",
       "            /* Turns off some styling */\n",
       "            progress {\n",
       "                /* gets rid of default border in Firefox and Opera. */\n",
       "                border: none;\n",
       "                /* Needs to be in here for Safari polyfill so background images work as expected. */\n",
       "                background-size: auto;\n",
       "            }\n",
       "            .progress-bar-interrupted, .progress-bar-interrupted::-webkit-progress-bar {\n",
       "                background: #F44336;\n",
       "            }\n",
       "        </style>\n",
       "      <progress value='582' class='' max='582' style='width:300px; height:20px; vertical-align: middle;'></progress>\n",
       "      100.00% [582/582 00:09<00:00 logp = -647.32, ||grad|| = 0.5225]\n",
       "    </div>\n",
       "    "
      ],
      "text/plain": [
       "<IPython.core.display.HTML object>"
      ]
     },
     "metadata": {},
     "output_type": "display_data"
    },
    {
     "name": "stderr",
     "output_type": "stream",
     "text": [
      "WARNING (theano.scan.basic): Output None (index 0) has a initial state but taps is explicitly set to None \n",
      "WARNING (theano.scan.basic): Output None (index 1) has a initial state but taps is explicitly set to None \n"
     ]
    },
    {
     "name": "stdout",
     "output_type": "stream",
     "text": [
      "\n",
      "inner iter 15\n"
     ]
    },
    {
     "name": "stderr",
     "output_type": "stream",
     "text": [
      "WARNING (theano.scan.basic): Output initial_level (index 0) has a initial state but taps is explicitly set to None \n",
      "WARNING (theano.scan.basic): Output initial_trend (index 1) has a initial state but taps is explicitly set to None \n"
     ]
    },
    {
     "data": {
      "text/html": [
       "\n",
       "    <div>\n",
       "        <style>\n",
       "            /* Turns off some styling */\n",
       "            progress {\n",
       "                /* gets rid of default border in Firefox and Opera. */\n",
       "                border: none;\n",
       "                /* Needs to be in here for Safari polyfill so background images work as expected. */\n",
       "                background-size: auto;\n",
       "            }\n",
       "            .progress-bar-interrupted, .progress-bar-interrupted::-webkit-progress-bar {\n",
       "                background: #F44336;\n",
       "            }\n",
       "        </style>\n",
       "      <progress value='229' class='' max='229' style='width:300px; height:20px; vertical-align: middle;'></progress>\n",
       "      100.00% [229/229 00:04<00:00 logp = -883.29, ||grad|| = 0.12052]\n",
       "    </div>\n",
       "    "
      ],
      "text/plain": [
       "<IPython.core.display.HTML object>"
      ]
     },
     "metadata": {},
     "output_type": "display_data"
    },
    {
     "name": "stderr",
     "output_type": "stream",
     "text": [
      "WARNING (theano.scan.basic): Output None (index 0) has a initial state but taps is explicitly set to None \n",
      "WARNING (theano.scan.basic): Output None (index 1) has a initial state but taps is explicitly set to None \n"
     ]
    },
    {
     "name": "stdout",
     "output_type": "stream",
     "text": [
      "\n",
      "inner iter 16\n"
     ]
    },
    {
     "name": "stderr",
     "output_type": "stream",
     "text": [
      "WARNING (theano.scan.basic): Output initial_level (index 0) has a initial state but taps is explicitly set to None \n",
      "WARNING (theano.scan.basic): Output initial_trend (index 1) has a initial state but taps is explicitly set to None \n"
     ]
    },
    {
     "data": {
      "text/html": [
       "\n",
       "    <div>\n",
       "        <style>\n",
       "            /* Turns off some styling */\n",
       "            progress {\n",
       "                /* gets rid of default border in Firefox and Opera. */\n",
       "                border: none;\n",
       "                /* Needs to be in here for Safari polyfill so background images work as expected. */\n",
       "                background-size: auto;\n",
       "            }\n",
       "            .progress-bar-interrupted, .progress-bar-interrupted::-webkit-progress-bar {\n",
       "                background: #F44336;\n",
       "            }\n",
       "        </style>\n",
       "      <progress value='61' class='' max='61' style='width:300px; height:20px; vertical-align: middle;'></progress>\n",
       "      100.00% [61/61 00:00<00:00 logp = -700.75, ||grad|| = 0.01065]\n",
       "    </div>\n",
       "    "
      ],
      "text/plain": [
       "<IPython.core.display.HTML object>"
      ]
     },
     "metadata": {},
     "output_type": "display_data"
    },
    {
     "name": "stderr",
     "output_type": "stream",
     "text": [
      "WARNING (theano.scan.basic): Output None (index 0) has a initial state but taps is explicitly set to None \n",
      "WARNING (theano.scan.basic): Output None (index 1) has a initial state but taps is explicitly set to None \n"
     ]
    },
    {
     "name": "stdout",
     "output_type": "stream",
     "text": [
      "\n",
      "inner iter 17\n"
     ]
    },
    {
     "name": "stderr",
     "output_type": "stream",
     "text": [
      "WARNING (theano.scan.basic): Output initial_level (index 0) has a initial state but taps is explicitly set to None \n",
      "WARNING (theano.scan.basic): Output initial_trend (index 1) has a initial state but taps is explicitly set to None \n"
     ]
    },
    {
     "data": {
      "text/html": [
       "\n",
       "    <div>\n",
       "        <style>\n",
       "            /* Turns off some styling */\n",
       "            progress {\n",
       "                /* gets rid of default border in Firefox and Opera. */\n",
       "                border: none;\n",
       "                /* Needs to be in here for Safari polyfill so background images work as expected. */\n",
       "                background-size: auto;\n",
       "            }\n",
       "            .progress-bar-interrupted, .progress-bar-interrupted::-webkit-progress-bar {\n",
       "                background: #F44336;\n",
       "            }\n",
       "        </style>\n",
       "      <progress value='80' class='' max='80' style='width:300px; height:20px; vertical-align: middle;'></progress>\n",
       "      100.00% [80/80 00:00<00:00 logp = -702.16, ||grad|| = 0.053587]\n",
       "    </div>\n",
       "    "
      ],
      "text/plain": [
       "<IPython.core.display.HTML object>"
      ]
     },
     "metadata": {},
     "output_type": "display_data"
    },
    {
     "name": "stderr",
     "output_type": "stream",
     "text": [
      "WARNING (theano.scan.basic): Output None (index 0) has a initial state but taps is explicitly set to None \n",
      "WARNING (theano.scan.basic): Output None (index 1) has a initial state but taps is explicitly set to None \n"
     ]
    },
    {
     "name": "stdout",
     "output_type": "stream",
     "text": [
      "\n",
      "inner iter 18\n"
     ]
    },
    {
     "name": "stderr",
     "output_type": "stream",
     "text": [
      "WARNING (theano.scan.basic): Output initial_level (index 0) has a initial state but taps is explicitly set to None \n",
      "WARNING (theano.scan.basic): Output initial_trend (index 1) has a initial state but taps is explicitly set to None \n"
     ]
    },
    {
     "data": {
      "text/html": [
       "\n",
       "    <div>\n",
       "        <style>\n",
       "            /* Turns off some styling */\n",
       "            progress {\n",
       "                /* gets rid of default border in Firefox and Opera. */\n",
       "                border: none;\n",
       "                /* Needs to be in here for Safari polyfill so background images work as expected. */\n",
       "                background-size: auto;\n",
       "            }\n",
       "            .progress-bar-interrupted, .progress-bar-interrupted::-webkit-progress-bar {\n",
       "                background: #F44336;\n",
       "            }\n",
       "        </style>\n",
       "      <progress value='56' class='' max='56' style='width:300px; height:20px; vertical-align: middle;'></progress>\n",
       "      100.00% [56/56 00:00<00:00 logp = -734.6, ||grad|| = 1.4641]\n",
       "    </div>\n",
       "    "
      ],
      "text/plain": [
       "<IPython.core.display.HTML object>"
      ]
     },
     "metadata": {},
     "output_type": "display_data"
    },
    {
     "name": "stderr",
     "output_type": "stream",
     "text": [
      "WARNING (theano.scan.basic): Output None (index 0) has a initial state but taps is explicitly set to None \n",
      "WARNING (theano.scan.basic): Output None (index 1) has a initial state but taps is explicitly set to None \n"
     ]
    },
    {
     "name": "stdout",
     "output_type": "stream",
     "text": [
      "\n",
      "inner iter 19\n"
     ]
    },
    {
     "name": "stderr",
     "output_type": "stream",
     "text": [
      "WARNING (theano.scan.basic): Output initial_level (index 0) has a initial state but taps is explicitly set to None \n",
      "WARNING (theano.scan.basic): Output initial_trend (index 1) has a initial state but taps is explicitly set to None \n"
     ]
    },
    {
     "data": {
      "text/html": [
       "\n",
       "    <div>\n",
       "        <style>\n",
       "            /* Turns off some styling */\n",
       "            progress {\n",
       "                /* gets rid of default border in Firefox and Opera. */\n",
       "                border: none;\n",
       "                /* Needs to be in here for Safari polyfill so background images work as expected. */\n",
       "                background-size: auto;\n",
       "            }\n",
       "            .progress-bar-interrupted, .progress-bar-interrupted::-webkit-progress-bar {\n",
       "                background: #F44336;\n",
       "            }\n",
       "        </style>\n",
       "      <progress value='342' class='' max='342' style='width:300px; height:20px; vertical-align: middle;'></progress>\n",
       "      100.00% [342/342 00:06<00:00 logp = -891.71, ||grad|| = 0.081035]\n",
       "    </div>\n",
       "    "
      ],
      "text/plain": [
       "<IPython.core.display.HTML object>"
      ]
     },
     "metadata": {},
     "output_type": "display_data"
    },
    {
     "name": "stderr",
     "output_type": "stream",
     "text": [
      "WARNING (theano.scan.basic): Output None (index 0) has a initial state but taps is explicitly set to None \n",
      "WARNING (theano.scan.basic): Output None (index 1) has a initial state but taps is explicitly set to None \n"
     ]
    },
    {
     "name": "stdout",
     "output_type": "stream",
     "text": [
      "\n",
      "inner iter 20\n"
     ]
    },
    {
     "name": "stderr",
     "output_type": "stream",
     "text": [
      "WARNING (theano.scan.basic): Output initial_level (index 0) has a initial state but taps is explicitly set to None \n",
      "WARNING (theano.scan.basic): Output initial_trend (index 1) has a initial state but taps is explicitly set to None \n"
     ]
    },
    {
     "data": {
      "text/html": [
       "\n",
       "    <div>\n",
       "        <style>\n",
       "            /* Turns off some styling */\n",
       "            progress {\n",
       "                /* gets rid of default border in Firefox and Opera. */\n",
       "                border: none;\n",
       "                /* Needs to be in here for Safari polyfill so background images work as expected. */\n",
       "                background-size: auto;\n",
       "            }\n",
       "            .progress-bar-interrupted, .progress-bar-interrupted::-webkit-progress-bar {\n",
       "                background: #F44336;\n",
       "            }\n",
       "        </style>\n",
       "      <progress value='52' class='' max='52' style='width:300px; height:20px; vertical-align: middle;'></progress>\n",
       "      100.00% [52/52 00:00<00:00 logp = -679.38, ||grad|| = 0.008937]\n",
       "    </div>\n",
       "    "
      ],
      "text/plain": [
       "<IPython.core.display.HTML object>"
      ]
     },
     "metadata": {},
     "output_type": "display_data"
    },
    {
     "name": "stderr",
     "output_type": "stream",
     "text": [
      "WARNING (theano.scan.basic): Output None (index 0) has a initial state but taps is explicitly set to None \n",
      "WARNING (theano.scan.basic): Output None (index 1) has a initial state but taps is explicitly set to None \n"
     ]
    },
    {
     "name": "stdout",
     "output_type": "stream",
     "text": [
      "\n",
      "inner iter 21\n"
     ]
    },
    {
     "name": "stderr",
     "output_type": "stream",
     "text": [
      "WARNING (theano.scan.basic): Output initial_level (index 0) has a initial state but taps is explicitly set to None \n",
      "WARNING (theano.scan.basic): Output initial_trend (index 1) has a initial state but taps is explicitly set to None \n"
     ]
    },
    {
     "data": {
      "text/html": [
       "\n",
       "    <div>\n",
       "        <style>\n",
       "            /* Turns off some styling */\n",
       "            progress {\n",
       "                /* gets rid of default border in Firefox and Opera. */\n",
       "                border: none;\n",
       "                /* Needs to be in here for Safari polyfill so background images work as expected. */\n",
       "                background-size: auto;\n",
       "            }\n",
       "            .progress-bar-interrupted, .progress-bar-interrupted::-webkit-progress-bar {\n",
       "                background: #F44336;\n",
       "            }\n",
       "        </style>\n",
       "      <progress value='84' class='' max='84' style='width:300px; height:20px; vertical-align: middle;'></progress>\n",
       "      100.00% [84/84 00:01<00:00 logp = -680.05, ||grad|| = 0.0071392]\n",
       "    </div>\n",
       "    "
      ],
      "text/plain": [
       "<IPython.core.display.HTML object>"
      ]
     },
     "metadata": {},
     "output_type": "display_data"
    },
    {
     "name": "stdout",
     "output_type": "stream",
     "text": [
      "\n"
     ]
    },
    {
     "name": "stderr",
     "output_type": "stream",
     "text": [
      "WARNING (theano.scan.basic): Output None (index 0) has a initial state but taps is explicitly set to None \n",
      "WARNING (theano.scan.basic): Output None (index 1) has a initial state but taps is explicitly set to None \n"
     ]
    },
    {
     "name": "stdout",
     "output_type": "stream",
     "text": [
      "inner iter 22\n"
     ]
    },
    {
     "name": "stderr",
     "output_type": "stream",
     "text": [
      "WARNING (theano.scan.basic): Output initial_level (index 0) has a initial state but taps is explicitly set to None \n",
      "WARNING (theano.scan.basic): Output initial_trend (index 1) has a initial state but taps is explicitly set to None \n"
     ]
    },
    {
     "data": {
      "text/html": [
       "\n",
       "    <div>\n",
       "        <style>\n",
       "            /* Turns off some styling */\n",
       "            progress {\n",
       "                /* gets rid of default border in Firefox and Opera. */\n",
       "                border: none;\n",
       "                /* Needs to be in here for Safari polyfill so background images work as expected. */\n",
       "                background-size: auto;\n",
       "            }\n",
       "            .progress-bar-interrupted, .progress-bar-interrupted::-webkit-progress-bar {\n",
       "                background: #F44336;\n",
       "            }\n",
       "        </style>\n",
       "      <progress value='55' class='' max='55' style='width:300px; height:20px; vertical-align: middle;'></progress>\n",
       "      100.00% [55/55 00:00<00:00 logp = -640.52, ||grad|| = 0.051467]\n",
       "    </div>\n",
       "    "
      ],
      "text/plain": [
       "<IPython.core.display.HTML object>"
      ]
     },
     "metadata": {},
     "output_type": "display_data"
    },
    {
     "name": "stderr",
     "output_type": "stream",
     "text": [
      "WARNING (theano.scan.basic): Output None (index 0) has a initial state but taps is explicitly set to None \n",
      "WARNING (theano.scan.basic): Output None (index 1) has a initial state but taps is explicitly set to None \n"
     ]
    },
    {
     "name": "stdout",
     "output_type": "stream",
     "text": [
      "\n",
      "inner iter 23\n"
     ]
    },
    {
     "name": "stderr",
     "output_type": "stream",
     "text": [
      "WARNING (theano.scan.basic): Output initial_level (index 0) has a initial state but taps is explicitly set to None \n",
      "WARNING (theano.scan.basic): Output initial_trend (index 1) has a initial state but taps is explicitly set to None \n"
     ]
    },
    {
     "data": {
      "text/html": [
       "\n",
       "    <div>\n",
       "        <style>\n",
       "            /* Turns off some styling */\n",
       "            progress {\n",
       "                /* gets rid of default border in Firefox and Opera. */\n",
       "                border: none;\n",
       "                /* Needs to be in here for Safari polyfill so background images work as expected. */\n",
       "                background-size: auto;\n",
       "            }\n",
       "            .progress-bar-interrupted, .progress-bar-interrupted::-webkit-progress-bar {\n",
       "                background: #F44336;\n",
       "            }\n",
       "        </style>\n",
       "      <progress value='80' class='' max='80' style='width:300px; height:20px; vertical-align: middle;'></progress>\n",
       "      100.00% [80/80 00:00<00:00 logp = -642.22, ||grad|| = 0.69277]\n",
       "    </div>\n",
       "    "
      ],
      "text/plain": [
       "<IPython.core.display.HTML object>"
      ]
     },
     "metadata": {},
     "output_type": "display_data"
    },
    {
     "name": "stderr",
     "output_type": "stream",
     "text": [
      "WARNING (theano.scan.basic): Output None (index 0) has a initial state but taps is explicitly set to None \n",
      "WARNING (theano.scan.basic): Output None (index 1) has a initial state but taps is explicitly set to None \n"
     ]
    },
    {
     "name": "stdout",
     "output_type": "stream",
     "text": [
      "\n",
      "inner iter 24\n"
     ]
    },
    {
     "name": "stderr",
     "output_type": "stream",
     "text": [
      "WARNING (theano.scan.basic): Output initial_level (index 0) has a initial state but taps is explicitly set to None \n",
      "WARNING (theano.scan.basic): Output initial_trend (index 1) has a initial state but taps is explicitly set to None \n"
     ]
    },
    {
     "data": {
      "text/html": [
       "\n",
       "    <div>\n",
       "        <style>\n",
       "            /* Turns off some styling */\n",
       "            progress {\n",
       "                /* gets rid of default border in Firefox and Opera. */\n",
       "                border: none;\n",
       "                /* Needs to be in here for Safari polyfill so background images work as expected. */\n",
       "                background-size: auto;\n",
       "            }\n",
       "            .progress-bar-interrupted, .progress-bar-interrupted::-webkit-progress-bar {\n",
       "                background: #F44336;\n",
       "            }\n",
       "        </style>\n",
       "      <progress value='630' class='' max='630' style='width:300px; height:20px; vertical-align: middle;'></progress>\n",
       "      100.00% [630/630 00:12<00:00 logp = -823.72, ||grad|| = 0.19994]\n",
       "    </div>\n",
       "    "
      ],
      "text/plain": [
       "<IPython.core.display.HTML object>"
      ]
     },
     "metadata": {},
     "output_type": "display_data"
    },
    {
     "name": "stderr",
     "output_type": "stream",
     "text": [
      "WARNING (theano.scan.basic): Output None (index 0) has a initial state but taps is explicitly set to None \n",
      "WARNING (theano.scan.basic): Output None (index 1) has a initial state but taps is explicitly set to None \n"
     ]
    },
    {
     "name": "stdout",
     "output_type": "stream",
     "text": [
      "\n",
      "inner iter 25\n"
     ]
    },
    {
     "name": "stderr",
     "output_type": "stream",
     "text": [
      "WARNING (theano.scan.basic): Output initial_level (index 0) has a initial state but taps is explicitly set to None \n",
      "WARNING (theano.scan.basic): Output initial_trend (index 1) has a initial state but taps is explicitly set to None \n"
     ]
    },
    {
     "data": {
      "text/html": [
       "\n",
       "    <div>\n",
       "        <style>\n",
       "            /* Turns off some styling */\n",
       "            progress {\n",
       "                /* gets rid of default border in Firefox and Opera. */\n",
       "                border: none;\n",
       "                /* Needs to be in here for Safari polyfill so background images work as expected. */\n",
       "                background-size: auto;\n",
       "            }\n",
       "            .progress-bar-interrupted, .progress-bar-interrupted::-webkit-progress-bar {\n",
       "                background: #F44336;\n",
       "            }\n",
       "        </style>\n",
       "      <progress value='218' class='' max='218' style='width:300px; height:20px; vertical-align: middle;'></progress>\n",
       "      100.00% [218/218 00:04<00:00 logp = -903.79, ||grad|| = 0.4772]\n",
       "    </div>\n",
       "    "
      ],
      "text/plain": [
       "<IPython.core.display.HTML object>"
      ]
     },
     "metadata": {},
     "output_type": "display_data"
    },
    {
     "name": "stderr",
     "output_type": "stream",
     "text": [
      "WARNING (theano.scan.basic): Output None (index 0) has a initial state but taps is explicitly set to None \n",
      "WARNING (theano.scan.basic): Output None (index 1) has a initial state but taps is explicitly set to None \n"
     ]
    },
    {
     "name": "stdout",
     "output_type": "stream",
     "text": [
      "\n",
      "inner iter 26\n"
     ]
    },
    {
     "name": "stderr",
     "output_type": "stream",
     "text": [
      "WARNING (theano.scan.basic): Output initial_level (index 0) has a initial state but taps is explicitly set to None \n",
      "WARNING (theano.scan.basic): Output initial_trend (index 1) has a initial state but taps is explicitly set to None \n"
     ]
    },
    {
     "data": {
      "text/html": [
       "\n",
       "    <div>\n",
       "        <style>\n",
       "            /* Turns off some styling */\n",
       "            progress {\n",
       "                /* gets rid of default border in Firefox and Opera. */\n",
       "                border: none;\n",
       "                /* Needs to be in here for Safari polyfill so background images work as expected. */\n",
       "                background-size: auto;\n",
       "            }\n",
       "            .progress-bar-interrupted, .progress-bar-interrupted::-webkit-progress-bar {\n",
       "                background: #F44336;\n",
       "            }\n",
       "        </style>\n",
       "      <progress value='71' class='' max='71' style='width:300px; height:20px; vertical-align: middle;'></progress>\n",
       "      100.00% [71/71 00:00<00:00 logp = -617.37, ||grad|| = 0.025833]\n",
       "    </div>\n",
       "    "
      ],
      "text/plain": [
       "<IPython.core.display.HTML object>"
      ]
     },
     "metadata": {},
     "output_type": "display_data"
    },
    {
     "name": "stderr",
     "output_type": "stream",
     "text": [
      "WARNING (theano.scan.basic): Output None (index 0) has a initial state but taps is explicitly set to None \n",
      "WARNING (theano.scan.basic): Output None (index 1) has a initial state but taps is explicitly set to None \n"
     ]
    },
    {
     "name": "stdout",
     "output_type": "stream",
     "text": [
      "\n",
      "inner iter 27\n"
     ]
    },
    {
     "name": "stderr",
     "output_type": "stream",
     "text": [
      "WARNING (theano.scan.basic): Output initial_level (index 0) has a initial state but taps is explicitly set to None \n",
      "WARNING (theano.scan.basic): Output initial_trend (index 1) has a initial state but taps is explicitly set to None \n"
     ]
    },
    {
     "data": {
      "text/html": [
       "\n",
       "    <div>\n",
       "        <style>\n",
       "            /* Turns off some styling */\n",
       "            progress {\n",
       "                /* gets rid of default border in Firefox and Opera. */\n",
       "                border: none;\n",
       "                /* Needs to be in here for Safari polyfill so background images work as expected. */\n",
       "                background-size: auto;\n",
       "            }\n",
       "            .progress-bar-interrupted, .progress-bar-interrupted::-webkit-progress-bar {\n",
       "                background: #F44336;\n",
       "            }\n",
       "        </style>\n",
       "      <progress value='1966' class='' max='1966' style='width:300px; height:20px; vertical-align: middle;'></progress>\n",
       "      100.00% [1966/1966 00:36<00:00 logp = -618.01, ||grad|| = 0.31915]\n",
       "    </div>\n",
       "    "
      ],
      "text/plain": [
       "<IPython.core.display.HTML object>"
      ]
     },
     "metadata": {},
     "output_type": "display_data"
    },
    {
     "name": "stderr",
     "output_type": "stream",
     "text": [
      "WARNING (theano.scan.basic): Output None (index 0) has a initial state but taps is explicitly set to None \n",
      "WARNING (theano.scan.basic): Output None (index 1) has a initial state but taps is explicitly set to None \n"
     ]
    },
    {
     "name": "stdout",
     "output_type": "stream",
     "text": [
      "\n",
      "inner iter 28\n"
     ]
    },
    {
     "name": "stderr",
     "output_type": "stream",
     "text": [
      "WARNING (theano.scan.basic): Output initial_level (index 0) has a initial state but taps is explicitly set to None \n",
      "WARNING (theano.scan.basic): Output initial_trend (index 1) has a initial state but taps is explicitly set to None \n"
     ]
    },
    {
     "data": {
      "text/html": [
       "\n",
       "    <div>\n",
       "        <style>\n",
       "            /* Turns off some styling */\n",
       "            progress {\n",
       "                /* gets rid of default border in Firefox and Opera. */\n",
       "                border: none;\n",
       "                /* Needs to be in here for Safari polyfill so background images work as expected. */\n",
       "                background-size: auto;\n",
       "            }\n",
       "            .progress-bar-interrupted, .progress-bar-interrupted::-webkit-progress-bar {\n",
       "                background: #F44336;\n",
       "            }\n",
       "        </style>\n",
       "      <progress value='1193' class='' max='1193' style='width:300px; height:20px; vertical-align: middle;'></progress>\n",
       "      100.00% [1193/1193 00:22<00:00 logp = -727.35, ||grad|| = 0.24693]\n",
       "    </div>\n",
       "    "
      ],
      "text/plain": [
       "<IPython.core.display.HTML object>"
      ]
     },
     "metadata": {},
     "output_type": "display_data"
    },
    {
     "name": "stderr",
     "output_type": "stream",
     "text": [
      "WARNING (theano.scan.basic): Output None (index 0) has a initial state but taps is explicitly set to None \n",
      "WARNING (theano.scan.basic): Output None (index 1) has a initial state but taps is explicitly set to None \n"
     ]
    },
    {
     "name": "stdout",
     "output_type": "stream",
     "text": [
      "\n",
      "inner iter 29\n"
     ]
    },
    {
     "name": "stderr",
     "output_type": "stream",
     "text": [
      "WARNING (theano.scan.basic): Output initial_level (index 0) has a initial state but taps is explicitly set to None \n",
      "WARNING (theano.scan.basic): Output initial_trend (index 1) has a initial state but taps is explicitly set to None \n"
     ]
    },
    {
     "data": {
      "text/html": [
       "\n",
       "    <div>\n",
       "        <style>\n",
       "            /* Turns off some styling */\n",
       "            progress {\n",
       "                /* gets rid of default border in Firefox and Opera. */\n",
       "                border: none;\n",
       "                /* Needs to be in here for Safari polyfill so background images work as expected. */\n",
       "                background-size: auto;\n",
       "            }\n",
       "            .progress-bar-interrupted, .progress-bar-interrupted::-webkit-progress-bar {\n",
       "                background: #F44336;\n",
       "            }\n",
       "        </style>\n",
       "      <progress value='1143' class='' max='1143' style='width:300px; height:20px; vertical-align: middle;'></progress>\n",
       "      100.00% [1143/1143 00:22<00:00 logp = -791.98, ||grad|| = 0.12188]\n",
       "    </div>\n",
       "    "
      ],
      "text/plain": [
       "<IPython.core.display.HTML object>"
      ]
     },
     "metadata": {},
     "output_type": "display_data"
    },
    {
     "name": "stderr",
     "output_type": "stream",
     "text": [
      "WARNING (theano.scan.basic): Output None (index 0) has a initial state but taps is explicitly set to None \n",
      "WARNING (theano.scan.basic): Output None (index 1) has a initial state but taps is explicitly set to None \n"
     ]
    },
    {
     "name": "stdout",
     "output_type": "stream",
     "text": [
      "\n",
      "inner iter 30\n"
     ]
    },
    {
     "name": "stderr",
     "output_type": "stream",
     "text": [
      "WARNING (theano.scan.basic): Output initial_level (index 0) has a initial state but taps is explicitly set to None \n",
      "WARNING (theano.scan.basic): Output initial_trend (index 1) has a initial state but taps is explicitly set to None \n"
     ]
    },
    {
     "data": {
      "text/html": [
       "\n",
       "    <div>\n",
       "        <style>\n",
       "            /* Turns off some styling */\n",
       "            progress {\n",
       "                /* gets rid of default border in Firefox and Opera. */\n",
       "                border: none;\n",
       "                /* Needs to be in here for Safari polyfill so background images work as expected. */\n",
       "                background-size: auto;\n",
       "            }\n",
       "            .progress-bar-interrupted, .progress-bar-interrupted::-webkit-progress-bar {\n",
       "                background: #F44336;\n",
       "            }\n",
       "        </style>\n",
       "      <progress value='488' class='' max='488' style='width:300px; height:20px; vertical-align: middle;'></progress>\n",
       "      100.00% [488/488 00:09<00:00 logp = -833.63, ||grad|| = 0.15679]\n",
       "    </div>\n",
       "    "
      ],
      "text/plain": [
       "<IPython.core.display.HTML object>"
      ]
     },
     "metadata": {},
     "output_type": "display_data"
    },
    {
     "name": "stderr",
     "output_type": "stream",
     "text": [
      "WARNING (theano.scan.basic): Output None (index 0) has a initial state but taps is explicitly set to None \n",
      "WARNING (theano.scan.basic): Output None (index 1) has a initial state but taps is explicitly set to None \n"
     ]
    },
    {
     "name": "stdout",
     "output_type": "stream",
     "text": [
      "\n",
      "inner iter 31\n"
     ]
    },
    {
     "name": "stderr",
     "output_type": "stream",
     "text": [
      "WARNING (theano.scan.basic): Output initial_level (index 0) has a initial state but taps is explicitly set to None \n",
      "WARNING (theano.scan.basic): Output initial_trend (index 1) has a initial state but taps is explicitly set to None \n"
     ]
    },
    {
     "data": {
      "text/html": [
       "\n",
       "    <div>\n",
       "        <style>\n",
       "            /* Turns off some styling */\n",
       "            progress {\n",
       "                /* gets rid of default border in Firefox and Opera. */\n",
       "                border: none;\n",
       "                /* Needs to be in here for Safari polyfill so background images work as expected. */\n",
       "                background-size: auto;\n",
       "            }\n",
       "            .progress-bar-interrupted, .progress-bar-interrupted::-webkit-progress-bar {\n",
       "                background: #F44336;\n",
       "            }\n",
       "        </style>\n",
       "      <progress value='291' class='' max='291' style='width:300px; height:20px; vertical-align: middle;'></progress>\n",
       "      100.00% [291/291 00:05<00:00 logp = -751.88, ||grad|| = 0.11168]\n",
       "    </div>\n",
       "    "
      ],
      "text/plain": [
       "<IPython.core.display.HTML object>"
      ]
     },
     "metadata": {},
     "output_type": "display_data"
    },
    {
     "name": "stderr",
     "output_type": "stream",
     "text": [
      "WARNING (theano.scan.basic): Output None (index 0) has a initial state but taps is explicitly set to None \n",
      "WARNING (theano.scan.basic): Output None (index 1) has a initial state but taps is explicitly set to None \n"
     ]
    },
    {
     "name": "stdout",
     "output_type": "stream",
     "text": [
      "\n",
      "inner iter 32\n"
     ]
    },
    {
     "name": "stderr",
     "output_type": "stream",
     "text": [
      "WARNING (theano.scan.basic): Output initial_level (index 0) has a initial state but taps is explicitly set to None \n",
      "WARNING (theano.scan.basic): Output initial_trend (index 1) has a initial state but taps is explicitly set to None \n"
     ]
    },
    {
     "data": {
      "text/html": [
       "\n",
       "    <div>\n",
       "        <style>\n",
       "            /* Turns off some styling */\n",
       "            progress {\n",
       "                /* gets rid of default border in Firefox and Opera. */\n",
       "                border: none;\n",
       "                /* Needs to be in here for Safari polyfill so background images work as expected. */\n",
       "                background-size: auto;\n",
       "            }\n",
       "            .progress-bar-interrupted, .progress-bar-interrupted::-webkit-progress-bar {\n",
       "                background: #F44336;\n",
       "            }\n",
       "        </style>\n",
       "      <progress value='813' class='' max='813' style='width:300px; height:20px; vertical-align: middle;'></progress>\n",
       "      100.00% [813/813 00:15<00:00 logp = -794.92, ||grad|| = 0.17434]\n",
       "    </div>\n",
       "    "
      ],
      "text/plain": [
       "<IPython.core.display.HTML object>"
      ]
     },
     "metadata": {},
     "output_type": "display_data"
    },
    {
     "name": "stderr",
     "output_type": "stream",
     "text": [
      "WARNING (theano.scan.basic): Output None (index 0) has a initial state but taps is explicitly set to None \n",
      "WARNING (theano.scan.basic): Output None (index 1) has a initial state but taps is explicitly set to None \n"
     ]
    },
    {
     "name": "stdout",
     "output_type": "stream",
     "text": [
      "\n",
      "inner iter 33\n"
     ]
    },
    {
     "name": "stderr",
     "output_type": "stream",
     "text": [
      "WARNING (theano.scan.basic): Output initial_level (index 0) has a initial state but taps is explicitly set to None \n",
      "WARNING (theano.scan.basic): Output initial_trend (index 1) has a initial state but taps is explicitly set to None \n"
     ]
    },
    {
     "data": {
      "text/html": [
       "\n",
       "    <div>\n",
       "        <style>\n",
       "            /* Turns off some styling */\n",
       "            progress {\n",
       "                /* gets rid of default border in Firefox and Opera. */\n",
       "                border: none;\n",
       "                /* Needs to be in here for Safari polyfill so background images work as expected. */\n",
       "                background-size: auto;\n",
       "            }\n",
       "            .progress-bar-interrupted, .progress-bar-interrupted::-webkit-progress-bar {\n",
       "                background: #F44336;\n",
       "            }\n",
       "        </style>\n",
       "      <progress value='50' class='' max='50' style='width:300px; height:20px; vertical-align: middle;'></progress>\n",
       "      100.00% [50/50 00:00<00:00 logp = -681.94, ||grad|| = 0.15302]\n",
       "    </div>\n",
       "    "
      ],
      "text/plain": [
       "<IPython.core.display.HTML object>"
      ]
     },
     "metadata": {},
     "output_type": "display_data"
    },
    {
     "name": "stderr",
     "output_type": "stream",
     "text": [
      "WARNING (theano.scan.basic): Output None (index 0) has a initial state but taps is explicitly set to None \n",
      "WARNING (theano.scan.basic): Output None (index 1) has a initial state but taps is explicitly set to None \n"
     ]
    },
    {
     "name": "stdout",
     "output_type": "stream",
     "text": [
      "\n",
      "inner iter 34\n"
     ]
    },
    {
     "name": "stderr",
     "output_type": "stream",
     "text": [
      "WARNING (theano.scan.basic): Output initial_level (index 0) has a initial state but taps is explicitly set to None \n",
      "WARNING (theano.scan.basic): Output initial_trend (index 1) has a initial state but taps is explicitly set to None \n"
     ]
    },
    {
     "data": {
      "text/html": [
       "\n",
       "    <div>\n",
       "        <style>\n",
       "            /* Turns off some styling */\n",
       "            progress {\n",
       "                /* gets rid of default border in Firefox and Opera. */\n",
       "                border: none;\n",
       "                /* Needs to be in here for Safari polyfill so background images work as expected. */\n",
       "                background-size: auto;\n",
       "            }\n",
       "            .progress-bar-interrupted, .progress-bar-interrupted::-webkit-progress-bar {\n",
       "                background: #F44336;\n",
       "            }\n",
       "        </style>\n",
       "      <progress value='598' class='' max='598' style='width:300px; height:20px; vertical-align: middle;'></progress>\n",
       "      100.00% [598/598 00:10<00:00 logp = -637.59, ||grad|| = 0.69602]\n",
       "    </div>\n",
       "    "
      ],
      "text/plain": [
       "<IPython.core.display.HTML object>"
      ]
     },
     "metadata": {},
     "output_type": "display_data"
    },
    {
     "name": "stderr",
     "output_type": "stream",
     "text": [
      "WARNING (theano.scan.basic): Output None (index 0) has a initial state but taps is explicitly set to None \n",
      "WARNING (theano.scan.basic): Output None (index 1) has a initial state but taps is explicitly set to None \n"
     ]
    },
    {
     "name": "stdout",
     "output_type": "stream",
     "text": [
      "\n",
      "inner iter 35\n"
     ]
    },
    {
     "name": "stderr",
     "output_type": "stream",
     "text": [
      "WARNING (theano.scan.basic): Output initial_level (index 0) has a initial state but taps is explicitly set to None \n",
      "WARNING (theano.scan.basic): Output initial_trend (index 1) has a initial state but taps is explicitly set to None \n"
     ]
    },
    {
     "data": {
      "text/html": [
       "\n",
       "    <div>\n",
       "        <style>\n",
       "            /* Turns off some styling */\n",
       "            progress {\n",
       "                /* gets rid of default border in Firefox and Opera. */\n",
       "                border: none;\n",
       "                /* Needs to be in here for Safari polyfill so background images work as expected. */\n",
       "                background-size: auto;\n",
       "            }\n",
       "            .progress-bar-interrupted, .progress-bar-interrupted::-webkit-progress-bar {\n",
       "                background: #F44336;\n",
       "            }\n",
       "        </style>\n",
       "      <progress value='89' class='' max='89' style='width:300px; height:20px; vertical-align: middle;'></progress>\n",
       "      100.00% [89/89 00:00<00:00 logp = -604.69, ||grad|| = 1.5924]\n",
       "    </div>\n",
       "    "
      ],
      "text/plain": [
       "<IPython.core.display.HTML object>"
      ]
     },
     "metadata": {},
     "output_type": "display_data"
    },
    {
     "name": "stderr",
     "output_type": "stream",
     "text": [
      "WARNING (theano.scan.basic): Output None (index 0) has a initial state but taps is explicitly set to None \n",
      "WARNING (theano.scan.basic): Output None (index 1) has a initial state but taps is explicitly set to None \n"
     ]
    },
    {
     "name": "stdout",
     "output_type": "stream",
     "text": [
      "\n",
      "inner iter 36\n"
     ]
    },
    {
     "name": "stderr",
     "output_type": "stream",
     "text": [
      "WARNING (theano.scan.basic): Output initial_level (index 0) has a initial state but taps is explicitly set to None \n",
      "WARNING (theano.scan.basic): Output initial_trend (index 1) has a initial state but taps is explicitly set to None \n"
     ]
    },
    {
     "data": {
      "text/html": [
       "\n",
       "    <div>\n",
       "        <style>\n",
       "            /* Turns off some styling */\n",
       "            progress {\n",
       "                /* gets rid of default border in Firefox and Opera. */\n",
       "                border: none;\n",
       "                /* Needs to be in here for Safari polyfill so background images work as expected. */\n",
       "                background-size: auto;\n",
       "            }\n",
       "            .progress-bar-interrupted, .progress-bar-interrupted::-webkit-progress-bar {\n",
       "                background: #F44336;\n",
       "            }\n",
       "        </style>\n",
       "      <progress value='791' class='' max='791' style='width:300px; height:20px; vertical-align: middle;'></progress>\n",
       "      100.00% [791/791 00:11<00:00 logp = -599.25, ||grad|| = 0.21007]\n",
       "    </div>\n",
       "    "
      ],
      "text/plain": [
       "<IPython.core.display.HTML object>"
      ]
     },
     "metadata": {},
     "output_type": "display_data"
    },
    {
     "name": "stderr",
     "output_type": "stream",
     "text": [
      "WARNING (theano.scan.basic): Output None (index 0) has a initial state but taps is explicitly set to None \n",
      "WARNING (theano.scan.basic): Output None (index 1) has a initial state but taps is explicitly set to None \n"
     ]
    },
    {
     "name": "stdout",
     "output_type": "stream",
     "text": [
      "\n",
      "inner iter 37\n"
     ]
    },
    {
     "name": "stderr",
     "output_type": "stream",
     "text": [
      "WARNING (theano.scan.basic): Output initial_level (index 0) has a initial state but taps is explicitly set to None \n",
      "WARNING (theano.scan.basic): Output initial_trend (index 1) has a initial state but taps is explicitly set to None \n"
     ]
    },
    {
     "data": {
      "text/html": [
       "\n",
       "    <div>\n",
       "        <style>\n",
       "            /* Turns off some styling */\n",
       "            progress {\n",
       "                /* gets rid of default border in Firefox and Opera. */\n",
       "                border: none;\n",
       "                /* Needs to be in here for Safari polyfill so background images work as expected. */\n",
       "                background-size: auto;\n",
       "            }\n",
       "            .progress-bar-interrupted, .progress-bar-interrupted::-webkit-progress-bar {\n",
       "                background: #F44336;\n",
       "            }\n",
       "        </style>\n",
       "      <progress value='57' class='' max='57' style='width:300px; height:20px; vertical-align: middle;'></progress>\n",
       "      100.00% [57/57 00:00<00:00 logp = -662.61, ||grad|| = 0.089989]\n",
       "    </div>\n",
       "    "
      ],
      "text/plain": [
       "<IPython.core.display.HTML object>"
      ]
     },
     "metadata": {},
     "output_type": "display_data"
    },
    {
     "name": "stderr",
     "output_type": "stream",
     "text": [
      "WARNING (theano.scan.basic): Output None (index 0) has a initial state but taps is explicitly set to None \n",
      "WARNING (theano.scan.basic): Output None (index 1) has a initial state but taps is explicitly set to None \n"
     ]
    },
    {
     "name": "stdout",
     "output_type": "stream",
     "text": [
      "\n",
      "inner iter 38\n"
     ]
    },
    {
     "name": "stderr",
     "output_type": "stream",
     "text": [
      "WARNING (theano.scan.basic): Output initial_level (index 0) has a initial state but taps is explicitly set to None \n",
      "WARNING (theano.scan.basic): Output initial_trend (index 1) has a initial state but taps is explicitly set to None \n"
     ]
    },
    {
     "data": {
      "text/html": [
       "\n",
       "    <div>\n",
       "        <style>\n",
       "            /* Turns off some styling */\n",
       "            progress {\n",
       "                /* gets rid of default border in Firefox and Opera. */\n",
       "                border: none;\n",
       "                /* Needs to be in here for Safari polyfill so background images work as expected. */\n",
       "                background-size: auto;\n",
       "            }\n",
       "            .progress-bar-interrupted, .progress-bar-interrupted::-webkit-progress-bar {\n",
       "                background: #F44336;\n",
       "            }\n",
       "        </style>\n",
       "      <progress value='425' class='' max='425' style='width:300px; height:20px; vertical-align: middle;'></progress>\n",
       "      100.00% [425/425 00:05<00:00 logp = -718.03, ||grad|| = 0.25474]\n",
       "    </div>\n",
       "    "
      ],
      "text/plain": [
       "<IPython.core.display.HTML object>"
      ]
     },
     "metadata": {},
     "output_type": "display_data"
    },
    {
     "name": "stderr",
     "output_type": "stream",
     "text": [
      "WARNING (theano.scan.basic): Output None (index 0) has a initial state but taps is explicitly set to None \n",
      "WARNING (theano.scan.basic): Output None (index 1) has a initial state but taps is explicitly set to None \n"
     ]
    },
    {
     "name": "stdout",
     "output_type": "stream",
     "text": [
      "\n",
      "inner iter 39\n"
     ]
    },
    {
     "name": "stderr",
     "output_type": "stream",
     "text": [
      "WARNING (theano.scan.basic): Output initial_level (index 0) has a initial state but taps is explicitly set to None \n",
      "WARNING (theano.scan.basic): Output initial_trend (index 1) has a initial state but taps is explicitly set to None \n"
     ]
    },
    {
     "data": {
      "text/html": [
       "\n",
       "    <div>\n",
       "        <style>\n",
       "            /* Turns off some styling */\n",
       "            progress {\n",
       "                /* gets rid of default border in Firefox and Opera. */\n",
       "                border: none;\n",
       "                /* Needs to be in here for Safari polyfill so background images work as expected. */\n",
       "                background-size: auto;\n",
       "            }\n",
       "            .progress-bar-interrupted, .progress-bar-interrupted::-webkit-progress-bar {\n",
       "                background: #F44336;\n",
       "            }\n",
       "        </style>\n",
       "      <progress value='1681' class='' max='1681' style='width:300px; height:20px; vertical-align: middle;'></progress>\n",
       "      100.00% [1681/1681 00:46<00:00 logp = -579.31, ||grad|| = 0.84349]\n",
       "    </div>\n",
       "    "
      ],
      "text/plain": [
       "<IPython.core.display.HTML object>"
      ]
     },
     "metadata": {},
     "output_type": "display_data"
    },
    {
     "name": "stdout",
     "output_type": "stream",
     "text": [
      "\n"
     ]
    },
    {
     "name": "stderr",
     "output_type": "stream",
     "text": [
      "WARNING (theano.scan.basic): Output None (index 0) has a initial state but taps is explicitly set to None \n",
      "WARNING (theano.scan.basic): Output None (index 1) has a initial state but taps is explicitly set to None \n"
     ]
    },
    {
     "name": "stdout",
     "output_type": "stream",
     "text": [
      "inner iter 40\n"
     ]
    },
    {
     "name": "stderr",
     "output_type": "stream",
     "text": [
      "WARNING (theano.scan.basic): Output initial_level (index 0) has a initial state but taps is explicitly set to None \n",
      "WARNING (theano.scan.basic): Output initial_trend (index 1) has a initial state but taps is explicitly set to None \n"
     ]
    },
    {
     "data": {
      "text/html": [
       "\n",
       "    <div>\n",
       "        <style>\n",
       "            /* Turns off some styling */\n",
       "            progress {\n",
       "                /* gets rid of default border in Firefox and Opera. */\n",
       "                border: none;\n",
       "                /* Needs to be in here for Safari polyfill so background images work as expected. */\n",
       "                background-size: auto;\n",
       "            }\n",
       "            .progress-bar-interrupted, .progress-bar-interrupted::-webkit-progress-bar {\n",
       "                background: #F44336;\n",
       "            }\n",
       "        </style>\n",
       "      <progress value='864' class='' max='864' style='width:300px; height:20px; vertical-align: middle;'></progress>\n",
       "      100.00% [864/864 00:22<00:00 logp = -696.69, ||grad|| = 0.25305]\n",
       "    </div>\n",
       "    "
      ],
      "text/plain": [
       "<IPython.core.display.HTML object>"
      ]
     },
     "metadata": {},
     "output_type": "display_data"
    },
    {
     "name": "stdout",
     "output_type": "stream",
     "text": [
      "\n"
     ]
    },
    {
     "name": "stderr",
     "output_type": "stream",
     "text": [
      "WARNING (theano.scan.basic): Output None (index 0) has a initial state but taps is explicitly set to None \n",
      "WARNING (theano.scan.basic): Output None (index 1) has a initial state but taps is explicitly set to None \n"
     ]
    },
    {
     "name": "stdout",
     "output_type": "stream",
     "text": [
      "inner iter 41\n"
     ]
    },
    {
     "name": "stderr",
     "output_type": "stream",
     "text": [
      "WARNING (theano.scan.basic): Output initial_level (index 0) has a initial state but taps is explicitly set to None \n",
      "WARNING (theano.scan.basic): Output initial_trend (index 1) has a initial state but taps is explicitly set to None \n"
     ]
    },
    {
     "data": {
      "text/html": [
       "\n",
       "    <div>\n",
       "        <style>\n",
       "            /* Turns off some styling */\n",
       "            progress {\n",
       "                /* gets rid of default border in Firefox and Opera. */\n",
       "                border: none;\n",
       "                /* Needs to be in here for Safari polyfill so background images work as expected. */\n",
       "                background-size: auto;\n",
       "            }\n",
       "            .progress-bar-interrupted, .progress-bar-interrupted::-webkit-progress-bar {\n",
       "                background: #F44336;\n",
       "            }\n",
       "        </style>\n",
       "      <progress value='973' class='' max='973' style='width:300px; height:20px; vertical-align: middle;'></progress>\n",
       "      100.00% [973/973 00:23<00:00 logp = -621.97, ||grad|| = 0.34679]\n",
       "    </div>\n",
       "    "
      ],
      "text/plain": [
       "<IPython.core.display.HTML object>"
      ]
     },
     "metadata": {},
     "output_type": "display_data"
    },
    {
     "name": "stdout",
     "output_type": "stream",
     "text": [
      "\n"
     ]
    },
    {
     "name": "stderr",
     "output_type": "stream",
     "text": [
      "WARNING (theano.scan.basic): Output None (index 0) has a initial state but taps is explicitly set to None \n",
      "WARNING (theano.scan.basic): Output None (index 1) has a initial state but taps is explicitly set to None \n"
     ]
    },
    {
     "name": "stdout",
     "output_type": "stream",
     "text": [
      "inner iter 42\n"
     ]
    },
    {
     "name": "stderr",
     "output_type": "stream",
     "text": [
      "WARNING (theano.scan.basic): Output initial_level (index 0) has a initial state but taps is explicitly set to None \n",
      "WARNING (theano.scan.basic): Output initial_trend (index 1) has a initial state but taps is explicitly set to None \n"
     ]
    },
    {
     "data": {
      "text/html": [
       "\n",
       "    <div>\n",
       "        <style>\n",
       "            /* Turns off some styling */\n",
       "            progress {\n",
       "                /* gets rid of default border in Firefox and Opera. */\n",
       "                border: none;\n",
       "                /* Needs to be in here for Safari polyfill so background images work as expected. */\n",
       "                background-size: auto;\n",
       "            }\n",
       "            .progress-bar-interrupted, .progress-bar-interrupted::-webkit-progress-bar {\n",
       "                background: #F44336;\n",
       "            }\n",
       "        </style>\n",
       "      <progress value='1143' class='' max='1143' style='width:300px; height:20px; vertical-align: middle;'></progress>\n",
       "      100.00% [1143/1143 00:22<00:00 logp = -564.64, ||grad|| = 0.45684]\n",
       "    </div>\n",
       "    "
      ],
      "text/plain": [
       "<IPython.core.display.HTML object>"
      ]
     },
     "metadata": {},
     "output_type": "display_data"
    },
    {
     "name": "stderr",
     "output_type": "stream",
     "text": [
      "WARNING (theano.scan.basic): Output None (index 0) has a initial state but taps is explicitly set to None \n",
      "WARNING (theano.scan.basic): Output None (index 1) has a initial state but taps is explicitly set to None \n"
     ]
    },
    {
     "name": "stdout",
     "output_type": "stream",
     "text": [
      "\n",
      "inner iter 43\n"
     ]
    },
    {
     "name": "stderr",
     "output_type": "stream",
     "text": [
      "WARNING (theano.scan.basic): Output initial_level (index 0) has a initial state but taps is explicitly set to None \n",
      "WARNING (theano.scan.basic): Output initial_trend (index 1) has a initial state but taps is explicitly set to None \n"
     ]
    },
    {
     "data": {
      "text/html": [
       "\n",
       "    <div>\n",
       "        <style>\n",
       "            /* Turns off some styling */\n",
       "            progress {\n",
       "                /* gets rid of default border in Firefox and Opera. */\n",
       "                border: none;\n",
       "                /* Needs to be in here for Safari polyfill so background images work as expected. */\n",
       "                background-size: auto;\n",
       "            }\n",
       "            .progress-bar-interrupted, .progress-bar-interrupted::-webkit-progress-bar {\n",
       "                background: #F44336;\n",
       "            }\n",
       "        </style>\n",
       "      <progress value='1379' class='' max='1379' style='width:300px; height:20px; vertical-align: middle;'></progress>\n",
       "      100.00% [1379/1379 00:26<00:00 logp = -642.94, ||grad|| = 0.26505]\n",
       "    </div>\n",
       "    "
      ],
      "text/plain": [
       "<IPython.core.display.HTML object>"
      ]
     },
     "metadata": {},
     "output_type": "display_data"
    },
    {
     "name": "stderr",
     "output_type": "stream",
     "text": [
      "WARNING (theano.scan.basic): Output None (index 0) has a initial state but taps is explicitly set to None \n",
      "WARNING (theano.scan.basic): Output None (index 1) has a initial state but taps is explicitly set to None \n"
     ]
    },
    {
     "name": "stdout",
     "output_type": "stream",
     "text": [
      "\n",
      "inner iter 44\n"
     ]
    },
    {
     "name": "stderr",
     "output_type": "stream",
     "text": [
      "WARNING (theano.scan.basic): Output initial_level (index 0) has a initial state but taps is explicitly set to None \n",
      "WARNING (theano.scan.basic): Output initial_trend (index 1) has a initial state but taps is explicitly set to None \n"
     ]
    },
    {
     "data": {
      "text/html": [
       "\n",
       "    <div>\n",
       "        <style>\n",
       "            /* Turns off some styling */\n",
       "            progress {\n",
       "                /* gets rid of default border in Firefox and Opera. */\n",
       "                border: none;\n",
       "                /* Needs to be in here for Safari polyfill so background images work as expected. */\n",
       "                background-size: auto;\n",
       "            }\n",
       "            .progress-bar-interrupted, .progress-bar-interrupted::-webkit-progress-bar {\n",
       "                background: #F44336;\n",
       "            }\n",
       "        </style>\n",
       "      <progress value='1079' class='' max='1079' style='width:300px; height:20px; vertical-align: middle;'></progress>\n",
       "      100.00% [1079/1079 00:17<00:00 logp = -658.6, ||grad|| = 0.16546]\n",
       "    </div>\n",
       "    "
      ],
      "text/plain": [
       "<IPython.core.display.HTML object>"
      ]
     },
     "metadata": {},
     "output_type": "display_data"
    },
    {
     "name": "stderr",
     "output_type": "stream",
     "text": [
      "WARNING (theano.scan.basic): Output None (index 0) has a initial state but taps is explicitly set to None \n",
      "WARNING (theano.scan.basic): Output None (index 1) has a initial state but taps is explicitly set to None \n"
     ]
    },
    {
     "name": "stdout",
     "output_type": "stream",
     "text": [
      "\n",
      "inner iter 45\n"
     ]
    },
    {
     "name": "stderr",
     "output_type": "stream",
     "text": [
      "WARNING (theano.scan.basic): Output initial_level (index 0) has a initial state but taps is explicitly set to None \n",
      "WARNING (theano.scan.basic): Output initial_trend (index 1) has a initial state but taps is explicitly set to None \n"
     ]
    },
    {
     "data": {
      "text/html": [
       "\n",
       "    <div>\n",
       "        <style>\n",
       "            /* Turns off some styling */\n",
       "            progress {\n",
       "                /* gets rid of default border in Firefox and Opera. */\n",
       "                border: none;\n",
       "                /* Needs to be in here for Safari polyfill so background images work as expected. */\n",
       "                background-size: auto;\n",
       "            }\n",
       "            .progress-bar-interrupted, .progress-bar-interrupted::-webkit-progress-bar {\n",
       "                background: #F44336;\n",
       "            }\n",
       "        </style>\n",
       "      <progress value='1133' class='' max='1133' style='width:300px; height:20px; vertical-align: middle;'></progress>\n",
       "      100.00% [1133/1133 00:16<00:00 logp = -687.53, ||grad|| = 0.30594]\n",
       "    </div>\n",
       "    "
      ],
      "text/plain": [
       "<IPython.core.display.HTML object>"
      ]
     },
     "metadata": {},
     "output_type": "display_data"
    },
    {
     "name": "stderr",
     "output_type": "stream",
     "text": [
      "WARNING (theano.scan.basic): Output None (index 0) has a initial state but taps is explicitly set to None \n",
      "WARNING (theano.scan.basic): Output None (index 1) has a initial state but taps is explicitly set to None \n"
     ]
    },
    {
     "name": "stdout",
     "output_type": "stream",
     "text": [
      "\n",
      "inner iter 46\n"
     ]
    },
    {
     "name": "stderr",
     "output_type": "stream",
     "text": [
      "WARNING (theano.scan.basic): Output initial_level (index 0) has a initial state but taps is explicitly set to None \n",
      "WARNING (theano.scan.basic): Output initial_trend (index 1) has a initial state but taps is explicitly set to None \n"
     ]
    },
    {
     "data": {
      "text/html": [
       "\n",
       "    <div>\n",
       "        <style>\n",
       "            /* Turns off some styling */\n",
       "            progress {\n",
       "                /* gets rid of default border in Firefox and Opera. */\n",
       "                border: none;\n",
       "                /* Needs to be in here for Safari polyfill so background images work as expected. */\n",
       "                background-size: auto;\n",
       "            }\n",
       "            .progress-bar-interrupted, .progress-bar-interrupted::-webkit-progress-bar {\n",
       "                background: #F44336;\n",
       "            }\n",
       "        </style>\n",
       "      <progress value='1166' class='' max='1166' style='width:300px; height:20px; vertical-align: middle;'></progress>\n",
       "      100.00% [1166/1166 00:17<00:00 logp = -622.46, ||grad|| = 0.45034]\n",
       "    </div>\n",
       "    "
      ],
      "text/plain": [
       "<IPython.core.display.HTML object>"
      ]
     },
     "metadata": {},
     "output_type": "display_data"
    },
    {
     "name": "stderr",
     "output_type": "stream",
     "text": [
      "WARNING (theano.scan.basic): Output None (index 0) has a initial state but taps is explicitly set to None \n",
      "WARNING (theano.scan.basic): Output None (index 1) has a initial state but taps is explicitly set to None \n"
     ]
    },
    {
     "name": "stdout",
     "output_type": "stream",
     "text": [
      "\n",
      "inner iter 47\n"
     ]
    },
    {
     "name": "stderr",
     "output_type": "stream",
     "text": [
      "WARNING (theano.scan.basic): Output initial_level (index 0) has a initial state but taps is explicitly set to None \n",
      "WARNING (theano.scan.basic): Output initial_trend (index 1) has a initial state but taps is explicitly set to None \n"
     ]
    },
    {
     "data": {
      "text/html": [
       "\n",
       "    <div>\n",
       "        <style>\n",
       "            /* Turns off some styling */\n",
       "            progress {\n",
       "                /* gets rid of default border in Firefox and Opera. */\n",
       "                border: none;\n",
       "                /* Needs to be in here for Safari polyfill so background images work as expected. */\n",
       "                background-size: auto;\n",
       "            }\n",
       "            .progress-bar-interrupted, .progress-bar-interrupted::-webkit-progress-bar {\n",
       "                background: #F44336;\n",
       "            }\n",
       "        </style>\n",
       "      <progress value='961' class='' max='961' style='width:300px; height:20px; vertical-align: middle;'></progress>\n",
       "      100.00% [961/961 00:16<00:00 logp = -657.9, ||grad|| = 0.1447]\n",
       "    </div>\n",
       "    "
      ],
      "text/plain": [
       "<IPython.core.display.HTML object>"
      ]
     },
     "metadata": {},
     "output_type": "display_data"
    },
    {
     "name": "stderr",
     "output_type": "stream",
     "text": [
      "WARNING (theano.scan.basic): Output None (index 0) has a initial state but taps is explicitly set to None \n",
      "WARNING (theano.scan.basic): Output None (index 1) has a initial state but taps is explicitly set to None \n"
     ]
    },
    {
     "name": "stdout",
     "output_type": "stream",
     "text": [
      "\n",
      "inner iter 48\n"
     ]
    },
    {
     "name": "stderr",
     "output_type": "stream",
     "text": [
      "WARNING (theano.scan.basic): Output initial_level (index 0) has a initial state but taps is explicitly set to None \n",
      "WARNING (theano.scan.basic): Output initial_trend (index 1) has a initial state but taps is explicitly set to None \n"
     ]
    },
    {
     "data": {
      "text/html": [
       "\n",
       "    <div>\n",
       "        <style>\n",
       "            /* Turns off some styling */\n",
       "            progress {\n",
       "                /* gets rid of default border in Firefox and Opera. */\n",
       "                border: none;\n",
       "                /* Needs to be in here for Safari polyfill so background images work as expected. */\n",
       "                background-size: auto;\n",
       "            }\n",
       "            .progress-bar-interrupted, .progress-bar-interrupted::-webkit-progress-bar {\n",
       "                background: #F44336;\n",
       "            }\n",
       "        </style>\n",
       "      <progress value='1342' class='' max='1342' style='width:300px; height:20px; vertical-align: middle;'></progress>\n",
       "      100.00% [1342/1342 00:23<00:00 logp = -543.32, ||grad|| = 0.19929]\n",
       "    </div>\n",
       "    "
      ],
      "text/plain": [
       "<IPython.core.display.HTML object>"
      ]
     },
     "metadata": {},
     "output_type": "display_data"
    },
    {
     "name": "stderr",
     "output_type": "stream",
     "text": [
      "WARNING (theano.scan.basic): Output None (index 0) has a initial state but taps is explicitly set to None \n",
      "WARNING (theano.scan.basic): Output None (index 1) has a initial state but taps is explicitly set to None \n"
     ]
    },
    {
     "name": "stdout",
     "output_type": "stream",
     "text": [
      "\n",
      "inner iter 49\n"
     ]
    },
    {
     "name": "stderr",
     "output_type": "stream",
     "text": [
      "WARNING (theano.scan.basic): Output initial_level (index 0) has a initial state but taps is explicitly set to None \n",
      "WARNING (theano.scan.basic): Output initial_trend (index 1) has a initial state but taps is explicitly set to None \n"
     ]
    },
    {
     "data": {
      "text/html": [
       "\n",
       "    <div>\n",
       "        <style>\n",
       "            /* Turns off some styling */\n",
       "            progress {\n",
       "                /* gets rid of default border in Firefox and Opera. */\n",
       "                border: none;\n",
       "                /* Needs to be in here for Safari polyfill so background images work as expected. */\n",
       "                background-size: auto;\n",
       "            }\n",
       "            .progress-bar-interrupted, .progress-bar-interrupted::-webkit-progress-bar {\n",
       "                background: #F44336;\n",
       "            }\n",
       "        </style>\n",
       "      <progress value='1019' class='' max='1019' style='width:300px; height:20px; vertical-align: middle;'></progress>\n",
       "      100.00% [1019/1019 00:16<00:00 logp = -629.65, ||grad|| = 0.30165]\n",
       "    </div>\n",
       "    "
      ],
      "text/plain": [
       "<IPython.core.display.HTML object>"
      ]
     },
     "metadata": {},
     "output_type": "display_data"
    },
    {
     "name": "stderr",
     "output_type": "stream",
     "text": [
      "WARNING (theano.scan.basic): Output None (index 0) has a initial state but taps is explicitly set to None \n",
      "WARNING (theano.scan.basic): Output None (index 1) has a initial state but taps is explicitly set to None \n"
     ]
    },
    {
     "name": "stdout",
     "output_type": "stream",
     "text": [
      "\n",
      "inner iter 50\n"
     ]
    },
    {
     "name": "stderr",
     "output_type": "stream",
     "text": [
      "WARNING (theano.scan.basic): Output initial_level (index 0) has a initial state but taps is explicitly set to None \n",
      "WARNING (theano.scan.basic): Output initial_trend (index 1) has a initial state but taps is explicitly set to None \n"
     ]
    },
    {
     "data": {
      "text/html": [
       "\n",
       "    <div>\n",
       "        <style>\n",
       "            /* Turns off some styling */\n",
       "            progress {\n",
       "                /* gets rid of default border in Firefox and Opera. */\n",
       "                border: none;\n",
       "                /* Needs to be in here for Safari polyfill so background images work as expected. */\n",
       "                background-size: auto;\n",
       "            }\n",
       "            .progress-bar-interrupted, .progress-bar-interrupted::-webkit-progress-bar {\n",
       "                background: #F44336;\n",
       "            }\n",
       "        </style>\n",
       "      <progress value='1053' class='' max='1053' style='width:300px; height:20px; vertical-align: middle;'></progress>\n",
       "      100.00% [1053/1053 00:17<00:00 logp = -608.05, ||grad|| = 0.40372]\n",
       "    </div>\n",
       "    "
      ],
      "text/plain": [
       "<IPython.core.display.HTML object>"
      ]
     },
     "metadata": {},
     "output_type": "display_data"
    },
    {
     "name": "stdout",
     "output_type": "stream",
     "text": [
      "\n"
     ]
    },
    {
     "name": "stderr",
     "output_type": "stream",
     "text": [
      "WARNING (theano.scan.basic): Output None (index 0) has a initial state but taps is explicitly set to None \n",
      "WARNING (theano.scan.basic): Output None (index 1) has a initial state but taps is explicitly set to None \n"
     ]
    },
    {
     "name": "stdout",
     "output_type": "stream",
     "text": [
      "inner iter 51\n"
     ]
    },
    {
     "name": "stderr",
     "output_type": "stream",
     "text": [
      "WARNING (theano.scan.basic): Output initial_level (index 0) has a initial state but taps is explicitly set to None \n",
      "WARNING (theano.scan.basic): Output initial_trend (index 1) has a initial state but taps is explicitly set to None \n"
     ]
    },
    {
     "data": {
      "text/html": [
       "\n",
       "    <div>\n",
       "        <style>\n",
       "            /* Turns off some styling */\n",
       "            progress {\n",
       "                /* gets rid of default border in Firefox and Opera. */\n",
       "                border: none;\n",
       "                /* Needs to be in here for Safari polyfill so background images work as expected. */\n",
       "                background-size: auto;\n",
       "            }\n",
       "            .progress-bar-interrupted, .progress-bar-interrupted::-webkit-progress-bar {\n",
       "                background: #F44336;\n",
       "            }\n",
       "        </style>\n",
       "      <progress value='933' class='' max='933' style='width:300px; height:20px; vertical-align: middle;'></progress>\n",
       "      100.00% [933/933 00:15<00:00 logp = -666.43, ||grad|| = 0.1752]\n",
       "    </div>\n",
       "    "
      ],
      "text/plain": [
       "<IPython.core.display.HTML object>"
      ]
     },
     "metadata": {},
     "output_type": "display_data"
    },
    {
     "name": "stderr",
     "output_type": "stream",
     "text": [
      "WARNING (theano.scan.basic): Output None (index 0) has a initial state but taps is explicitly set to None \n",
      "WARNING (theano.scan.basic): Output None (index 1) has a initial state but taps is explicitly set to None \n"
     ]
    },
    {
     "name": "stdout",
     "output_type": "stream",
     "text": [
      "\n",
      "inner iter 52\n"
     ]
    },
    {
     "name": "stderr",
     "output_type": "stream",
     "text": [
      "WARNING (theano.scan.basic): Output initial_level (index 0) has a initial state but taps is explicitly set to None \n",
      "WARNING (theano.scan.basic): Output initial_trend (index 1) has a initial state but taps is explicitly set to None \n"
     ]
    },
    {
     "data": {
      "text/html": [
       "\n",
       "    <div>\n",
       "        <style>\n",
       "            /* Turns off some styling */\n",
       "            progress {\n",
       "                /* gets rid of default border in Firefox and Opera. */\n",
       "                border: none;\n",
       "                /* Needs to be in here for Safari polyfill so background images work as expected. */\n",
       "                background-size: auto;\n",
       "            }\n",
       "            .progress-bar-interrupted, .progress-bar-interrupted::-webkit-progress-bar {\n",
       "                background: #F44336;\n",
       "            }\n",
       "        </style>\n",
       "      <progress value='985' class='' max='985' style='width:300px; height:20px; vertical-align: middle;'></progress>\n",
       "      100.00% [985/985 00:17<00:00 logp = -649.52, ||grad|| = 0.52641]\n",
       "    </div>\n",
       "    "
      ],
      "text/plain": [
       "<IPython.core.display.HTML object>"
      ]
     },
     "metadata": {},
     "output_type": "display_data"
    },
    {
     "name": "stderr",
     "output_type": "stream",
     "text": [
      "WARNING (theano.scan.basic): Output None (index 0) has a initial state but taps is explicitly set to None \n",
      "WARNING (theano.scan.basic): Output None (index 1) has a initial state but taps is explicitly set to None \n"
     ]
    },
    {
     "name": "stdout",
     "output_type": "stream",
     "text": [
      "\n",
      "inner iter 53\n"
     ]
    },
    {
     "name": "stderr",
     "output_type": "stream",
     "text": [
      "WARNING (theano.scan.basic): Output initial_level (index 0) has a initial state but taps is explicitly set to None \n",
      "WARNING (theano.scan.basic): Output initial_trend (index 1) has a initial state but taps is explicitly set to None \n"
     ]
    },
    {
     "data": {
      "text/html": [
       "\n",
       "    <div>\n",
       "        <style>\n",
       "            /* Turns off some styling */\n",
       "            progress {\n",
       "                /* gets rid of default border in Firefox and Opera. */\n",
       "                border: none;\n",
       "                /* Needs to be in here for Safari polyfill so background images work as expected. */\n",
       "                background-size: auto;\n",
       "            }\n",
       "            .progress-bar-interrupted, .progress-bar-interrupted::-webkit-progress-bar {\n",
       "                background: #F44336;\n",
       "            }\n",
       "        </style>\n",
       "      <progress value='933' class='' max='933' style='width:300px; height:20px; vertical-align: middle;'></progress>\n",
       "      100.00% [933/933 00:14<00:00 logp = -647.83, ||grad|| = 0.1514]\n",
       "    </div>\n",
       "    "
      ],
      "text/plain": [
       "<IPython.core.display.HTML object>"
      ]
     },
     "metadata": {},
     "output_type": "display_data"
    },
    {
     "name": "stderr",
     "output_type": "stream",
     "text": [
      "WARNING (theano.scan.basic): Output None (index 0) has a initial state but taps is explicitly set to None \n",
      "WARNING (theano.scan.basic): Output None (index 1) has a initial state but taps is explicitly set to None \n"
     ]
    },
    {
     "name": "stdout",
     "output_type": "stream",
     "text": [
      "\n",
      "inner iter 54\n"
     ]
    },
    {
     "name": "stderr",
     "output_type": "stream",
     "text": [
      "WARNING (theano.scan.basic): Output initial_level (index 0) has a initial state but taps is explicitly set to None \n",
      "WARNING (theano.scan.basic): Output initial_trend (index 1) has a initial state but taps is explicitly set to None \n"
     ]
    },
    {
     "data": {
      "text/html": [
       "\n",
       "    <div>\n",
       "        <style>\n",
       "            /* Turns off some styling */\n",
       "            progress {\n",
       "                /* gets rid of default border in Firefox and Opera. */\n",
       "                border: none;\n",
       "                /* Needs to be in here for Safari polyfill so background images work as expected. */\n",
       "                background-size: auto;\n",
       "            }\n",
       "            .progress-bar-interrupted, .progress-bar-interrupted::-webkit-progress-bar {\n",
       "                background: #F44336;\n",
       "            }\n",
       "        </style>\n",
       "      <progress value='1083' class='' max='1083' style='width:300px; height:20px; vertical-align: middle;'></progress>\n",
       "      100.00% [1083/1083 00:16<00:00 logp = -533.37, ||grad|| = 0.26123]\n",
       "    </div>\n",
       "    "
      ],
      "text/plain": [
       "<IPython.core.display.HTML object>"
      ]
     },
     "metadata": {},
     "output_type": "display_data"
    },
    {
     "name": "stderr",
     "output_type": "stream",
     "text": [
      "WARNING (theano.scan.basic): Output None (index 0) has a initial state but taps is explicitly set to None \n",
      "WARNING (theano.scan.basic): Output None (index 1) has a initial state but taps is explicitly set to None \n"
     ]
    },
    {
     "name": "stdout",
     "output_type": "stream",
     "text": [
      "\n",
      "inner iter 55\n"
     ]
    },
    {
     "name": "stderr",
     "output_type": "stream",
     "text": [
      "WARNING (theano.scan.basic): Output initial_level (index 0) has a initial state but taps is explicitly set to None \n",
      "WARNING (theano.scan.basic): Output initial_trend (index 1) has a initial state but taps is explicitly set to None \n"
     ]
    },
    {
     "data": {
      "text/html": [
       "\n",
       "    <div>\n",
       "        <style>\n",
       "            /* Turns off some styling */\n",
       "            progress {\n",
       "                /* gets rid of default border in Firefox and Opera. */\n",
       "                border: none;\n",
       "                /* Needs to be in here for Safari polyfill so background images work as expected. */\n",
       "                background-size: auto;\n",
       "            }\n",
       "            .progress-bar-interrupted, .progress-bar-interrupted::-webkit-progress-bar {\n",
       "                background: #F44336;\n",
       "            }\n",
       "        </style>\n",
       "      <progress value='947' class='' max='947' style='width:300px; height:20px; vertical-align: middle;'></progress>\n",
       "      100.00% [947/947 00:13<00:00 logp = -546.67, ||grad|| = 0.24231]\n",
       "    </div>\n",
       "    "
      ],
      "text/plain": [
       "<IPython.core.display.HTML object>"
      ]
     },
     "metadata": {},
     "output_type": "display_data"
    },
    {
     "name": "stderr",
     "output_type": "stream",
     "text": [
      "WARNING (theano.scan.basic): Output None (index 0) has a initial state but taps is explicitly set to None \n",
      "WARNING (theano.scan.basic): Output None (index 1) has a initial state but taps is explicitly set to None \n"
     ]
    },
    {
     "name": "stdout",
     "output_type": "stream",
     "text": [
      "\n",
      "inner iter 56\n"
     ]
    },
    {
     "name": "stderr",
     "output_type": "stream",
     "text": [
      "WARNING (theano.scan.basic): Output initial_level (index 0) has a initial state but taps is explicitly set to None \n",
      "WARNING (theano.scan.basic): Output initial_trend (index 1) has a initial state but taps is explicitly set to None \n"
     ]
    },
    {
     "data": {
      "text/html": [
       "\n",
       "    <div>\n",
       "        <style>\n",
       "            /* Turns off some styling */\n",
       "            progress {\n",
       "                /* gets rid of default border in Firefox and Opera. */\n",
       "                border: none;\n",
       "                /* Needs to be in here for Safari polyfill so background images work as expected. */\n",
       "                background-size: auto;\n",
       "            }\n",
       "            .progress-bar-interrupted, .progress-bar-interrupted::-webkit-progress-bar {\n",
       "                background: #F44336;\n",
       "            }\n",
       "        </style>\n",
       "      <progress value='453' class='' max='453' style='width:300px; height:20px; vertical-align: middle;'></progress>\n",
       "      100.00% [453/453 00:07<00:00 logp = -731.75, ||grad|| = 0.45639]\n",
       "    </div>\n",
       "    "
      ],
      "text/plain": [
       "<IPython.core.display.HTML object>"
      ]
     },
     "metadata": {},
     "output_type": "display_data"
    },
    {
     "name": "stderr",
     "output_type": "stream",
     "text": [
      "WARNING (theano.scan.basic): Output None (index 0) has a initial state but taps is explicitly set to None \n",
      "WARNING (theano.scan.basic): Output None (index 1) has a initial state but taps is explicitly set to None \n"
     ]
    },
    {
     "name": "stdout",
     "output_type": "stream",
     "text": [
      "\n",
      "inner iter 57\n"
     ]
    },
    {
     "name": "stderr",
     "output_type": "stream",
     "text": [
      "WARNING (theano.scan.basic): Output initial_level (index 0) has a initial state but taps is explicitly set to None \n",
      "WARNING (theano.scan.basic): Output initial_trend (index 1) has a initial state but taps is explicitly set to None \n"
     ]
    },
    {
     "data": {
      "text/html": [
       "\n",
       "    <div>\n",
       "        <style>\n",
       "            /* Turns off some styling */\n",
       "            progress {\n",
       "                /* gets rid of default border in Firefox and Opera. */\n",
       "                border: none;\n",
       "                /* Needs to be in here for Safari polyfill so background images work as expected. */\n",
       "                background-size: auto;\n",
       "            }\n",
       "            .progress-bar-interrupted, .progress-bar-interrupted::-webkit-progress-bar {\n",
       "                background: #F44336;\n",
       "            }\n",
       "        </style>\n",
       "      <progress value='541' class='' max='541' style='width:300px; height:20px; vertical-align: middle;'></progress>\n",
       "      100.00% [541/541 00:10<00:00 logp = -650.54, ||grad|| = 0.089563]\n",
       "    </div>\n",
       "    "
      ],
      "text/plain": [
       "<IPython.core.display.HTML object>"
      ]
     },
     "metadata": {},
     "output_type": "display_data"
    },
    {
     "name": "stderr",
     "output_type": "stream",
     "text": [
      "WARNING (theano.scan.basic): Output None (index 0) has a initial state but taps is explicitly set to None \n",
      "WARNING (theano.scan.basic): Output None (index 1) has a initial state but taps is explicitly set to None \n"
     ]
    },
    {
     "name": "stdout",
     "output_type": "stream",
     "text": [
      "\n",
      "inner iter 58\n"
     ]
    },
    {
     "name": "stderr",
     "output_type": "stream",
     "text": [
      "WARNING (theano.scan.basic): Output initial_level (index 0) has a initial state but taps is explicitly set to None \n",
      "WARNING (theano.scan.basic): Output initial_trend (index 1) has a initial state but taps is explicitly set to None \n"
     ]
    },
    {
     "data": {
      "text/html": [
       "\n",
       "    <div>\n",
       "        <style>\n",
       "            /* Turns off some styling */\n",
       "            progress {\n",
       "                /* gets rid of default border in Firefox and Opera. */\n",
       "                border: none;\n",
       "                /* Needs to be in here for Safari polyfill so background images work as expected. */\n",
       "                background-size: auto;\n",
       "            }\n",
       "            .progress-bar-interrupted, .progress-bar-interrupted::-webkit-progress-bar {\n",
       "                background: #F44336;\n",
       "            }\n",
       "        </style>\n",
       "      <progress value='403' class='' max='403' style='width:300px; height:20px; vertical-align: middle;'></progress>\n",
       "      100.00% [403/403 00:06<00:00 logp = -834.18, ||grad|| = 0.10337]\n",
       "    </div>\n",
       "    "
      ],
      "text/plain": [
       "<IPython.core.display.HTML object>"
      ]
     },
     "metadata": {},
     "output_type": "display_data"
    },
    {
     "name": "stderr",
     "output_type": "stream",
     "text": [
      "WARNING (theano.scan.basic): Output None (index 0) has a initial state but taps is explicitly set to None \n",
      "WARNING (theano.scan.basic): Output None (index 1) has a initial state but taps is explicitly set to None \n"
     ]
    },
    {
     "name": "stdout",
     "output_type": "stream",
     "text": [
      "\n",
      "inner iter 59\n"
     ]
    },
    {
     "name": "stderr",
     "output_type": "stream",
     "text": [
      "WARNING (theano.scan.basic): Output initial_level (index 0) has a initial state but taps is explicitly set to None \n",
      "WARNING (theano.scan.basic): Output initial_trend (index 1) has a initial state but taps is explicitly set to None \n"
     ]
    },
    {
     "data": {
      "text/html": [
       "\n",
       "    <div>\n",
       "        <style>\n",
       "            /* Turns off some styling */\n",
       "            progress {\n",
       "                /* gets rid of default border in Firefox and Opera. */\n",
       "                border: none;\n",
       "                /* Needs to be in here for Safari polyfill so background images work as expected. */\n",
       "                background-size: auto;\n",
       "            }\n",
       "            .progress-bar-interrupted, .progress-bar-interrupted::-webkit-progress-bar {\n",
       "                background: #F44336;\n",
       "            }\n",
       "        </style>\n",
       "      <progress value='1579' class='' max='1579' style='width:300px; height:20px; vertical-align: middle;'></progress>\n",
       "      100.00% [1579/1579 00:23<00:00 logp = -553.56, ||grad|| = 0.47673]\n",
       "    </div>\n",
       "    "
      ],
      "text/plain": [
       "<IPython.core.display.HTML object>"
      ]
     },
     "metadata": {},
     "output_type": "display_data"
    },
    {
     "name": "stderr",
     "output_type": "stream",
     "text": [
      "WARNING (theano.scan.basic): Output None (index 0) has a initial state but taps is explicitly set to None \n",
      "WARNING (theano.scan.basic): Output None (index 1) has a initial state but taps is explicitly set to None \n"
     ]
    },
    {
     "name": "stdout",
     "output_type": "stream",
     "text": [
      "\n",
      "inner iter 60\n"
     ]
    },
    {
     "name": "stderr",
     "output_type": "stream",
     "text": [
      "WARNING (theano.scan.basic): Output initial_level (index 0) has a initial state but taps is explicitly set to None \n",
      "WARNING (theano.scan.basic): Output initial_trend (index 1) has a initial state but taps is explicitly set to None \n"
     ]
    },
    {
     "data": {
      "text/html": [
       "\n",
       "    <div>\n",
       "        <style>\n",
       "            /* Turns off some styling */\n",
       "            progress {\n",
       "                /* gets rid of default border in Firefox and Opera. */\n",
       "                border: none;\n",
       "                /* Needs to be in here for Safari polyfill so background images work as expected. */\n",
       "                background-size: auto;\n",
       "            }\n",
       "            .progress-bar-interrupted, .progress-bar-interrupted::-webkit-progress-bar {\n",
       "                background: #F44336;\n",
       "            }\n",
       "        </style>\n",
       "      <progress value='1204' class='' max='1204' style='width:300px; height:20px; vertical-align: middle;'></progress>\n",
       "      100.00% [1204/1204 00:19<00:00 logp = -602.13, ||grad|| = 1.6562]\n",
       "    </div>\n",
       "    "
      ],
      "text/plain": [
       "<IPython.core.display.HTML object>"
      ]
     },
     "metadata": {},
     "output_type": "display_data"
    },
    {
     "name": "stderr",
     "output_type": "stream",
     "text": [
      "WARNING (theano.scan.basic): Output None (index 0) has a initial state but taps is explicitly set to None \n",
      "WARNING (theano.scan.basic): Output None (index 1) has a initial state but taps is explicitly set to None \n"
     ]
    },
    {
     "name": "stdout",
     "output_type": "stream",
     "text": [
      "\n",
      "inner iter 61\n"
     ]
    },
    {
     "name": "stderr",
     "output_type": "stream",
     "text": [
      "WARNING (theano.scan.basic): Output initial_level (index 0) has a initial state but taps is explicitly set to None \n",
      "WARNING (theano.scan.basic): Output initial_trend (index 1) has a initial state but taps is explicitly set to None \n"
     ]
    },
    {
     "data": {
      "text/html": [
       "\n",
       "    <div>\n",
       "        <style>\n",
       "            /* Turns off some styling */\n",
       "            progress {\n",
       "                /* gets rid of default border in Firefox and Opera. */\n",
       "                border: none;\n",
       "                /* Needs to be in here for Safari polyfill so background images work as expected. */\n",
       "                background-size: auto;\n",
       "            }\n",
       "            .progress-bar-interrupted, .progress-bar-interrupted::-webkit-progress-bar {\n",
       "                background: #F44336;\n",
       "            }\n",
       "        </style>\n",
       "      <progress value='352' class='' max='352' style='width:300px; height:20px; vertical-align: middle;'></progress>\n",
       "      100.00% [352/352 00:06<00:00 logp = -582.65, ||grad|| = 0.097608]\n",
       "    </div>\n",
       "    "
      ],
      "text/plain": [
       "<IPython.core.display.HTML object>"
      ]
     },
     "metadata": {},
     "output_type": "display_data"
    },
    {
     "name": "stderr",
     "output_type": "stream",
     "text": [
      "WARNING (theano.scan.basic): Output None (index 0) has a initial state but taps is explicitly set to None \n",
      "WARNING (theano.scan.basic): Output None (index 1) has a initial state but taps is explicitly set to None \n"
     ]
    },
    {
     "name": "stdout",
     "output_type": "stream",
     "text": [
      "\n",
      "inner iter 62\n"
     ]
    },
    {
     "name": "stderr",
     "output_type": "stream",
     "text": [
      "WARNING (theano.scan.basic): Output initial_level (index 0) has a initial state but taps is explicitly set to None \n",
      "WARNING (theano.scan.basic): Output initial_trend (index 1) has a initial state but taps is explicitly set to None \n"
     ]
    },
    {
     "data": {
      "text/html": [
       "\n",
       "    <div>\n",
       "        <style>\n",
       "            /* Turns off some styling */\n",
       "            progress {\n",
       "                /* gets rid of default border in Firefox and Opera. */\n",
       "                border: none;\n",
       "                /* Needs to be in here for Safari polyfill so background images work as expected. */\n",
       "                background-size: auto;\n",
       "            }\n",
       "            .progress-bar-interrupted, .progress-bar-interrupted::-webkit-progress-bar {\n",
       "                background: #F44336;\n",
       "            }\n",
       "        </style>\n",
       "      <progress value='1870' class='' max='1870' style='width:300px; height:20px; vertical-align: middle;'></progress>\n",
       "      100.00% [1870/1870 00:27<00:00 logp = -512.91, ||grad|| = 0.28953]\n",
       "    </div>\n",
       "    "
      ],
      "text/plain": [
       "<IPython.core.display.HTML object>"
      ]
     },
     "metadata": {},
     "output_type": "display_data"
    },
    {
     "name": "stderr",
     "output_type": "stream",
     "text": [
      "WARNING (theano.scan.basic): Output None (index 0) has a initial state but taps is explicitly set to None \n",
      "WARNING (theano.scan.basic): Output None (index 1) has a initial state but taps is explicitly set to None \n"
     ]
    },
    {
     "name": "stdout",
     "output_type": "stream",
     "text": [
      "\n",
      "inner iter 63\n"
     ]
    },
    {
     "name": "stderr",
     "output_type": "stream",
     "text": [
      "WARNING (theano.scan.basic): Output initial_level (index 0) has a initial state but taps is explicitly set to None \n",
      "WARNING (theano.scan.basic): Output initial_trend (index 1) has a initial state but taps is explicitly set to None \n"
     ]
    },
    {
     "data": {
      "text/html": [
       "\n",
       "    <div>\n",
       "        <style>\n",
       "            /* Turns off some styling */\n",
       "            progress {\n",
       "                /* gets rid of default border in Firefox and Opera. */\n",
       "                border: none;\n",
       "                /* Needs to be in here for Safari polyfill so background images work as expected. */\n",
       "                background-size: auto;\n",
       "            }\n",
       "            .progress-bar-interrupted, .progress-bar-interrupted::-webkit-progress-bar {\n",
       "                background: #F44336;\n",
       "            }\n",
       "        </style>\n",
       "      <progress value='1740' class='' max='1740' style='width:300px; height:20px; vertical-align: middle;'></progress>\n",
       "      100.00% [1740/1740 00:25<00:00 logp = -452.95, ||grad|| = 0.53054]\n",
       "    </div>\n",
       "    "
      ],
      "text/plain": [
       "<IPython.core.display.HTML object>"
      ]
     },
     "metadata": {},
     "output_type": "display_data"
    },
    {
     "name": "stderr",
     "output_type": "stream",
     "text": [
      "WARNING (theano.scan.basic): Output None (index 0) has a initial state but taps is explicitly set to None \n",
      "WARNING (theano.scan.basic): Output None (index 1) has a initial state but taps is explicitly set to None \n"
     ]
    },
    {
     "name": "stdout",
     "output_type": "stream",
     "text": [
      "\n",
      "inner iter 64\n"
     ]
    },
    {
     "name": "stderr",
     "output_type": "stream",
     "text": [
      "WARNING (theano.scan.basic): Output initial_level (index 0) has a initial state but taps is explicitly set to None \n",
      "WARNING (theano.scan.basic): Output initial_trend (index 1) has a initial state but taps is explicitly set to None \n"
     ]
    },
    {
     "data": {
      "text/html": [
       "\n",
       "    <div>\n",
       "        <style>\n",
       "            /* Turns off some styling */\n",
       "            progress {\n",
       "                /* gets rid of default border in Firefox and Opera. */\n",
       "                border: none;\n",
       "                /* Needs to be in here for Safari polyfill so background images work as expected. */\n",
       "                background-size: auto;\n",
       "            }\n",
       "            .progress-bar-interrupted, .progress-bar-interrupted::-webkit-progress-bar {\n",
       "                background: #F44336;\n",
       "            }\n",
       "        </style>\n",
       "      <progress value='1026' class='' max='1026' style='width:300px; height:20px; vertical-align: middle;'></progress>\n",
       "      100.00% [1026/1026 00:14<00:00 logp = -594.67, ||grad|| = 0.24515]\n",
       "    </div>\n",
       "    "
      ],
      "text/plain": [
       "<IPython.core.display.HTML object>"
      ]
     },
     "metadata": {},
     "output_type": "display_data"
    },
    {
     "name": "stderr",
     "output_type": "stream",
     "text": [
      "WARNING (theano.scan.basic): Output None (index 0) has a initial state but taps is explicitly set to None \n",
      "WARNING (theano.scan.basic): Output None (index 1) has a initial state but taps is explicitly set to None \n"
     ]
    },
    {
     "name": "stdout",
     "output_type": "stream",
     "text": [
      "\n",
      "inner iter 65\n"
     ]
    },
    {
     "name": "stderr",
     "output_type": "stream",
     "text": [
      "WARNING (theano.scan.basic): Output initial_level (index 0) has a initial state but taps is explicitly set to None \n",
      "WARNING (theano.scan.basic): Output initial_trend (index 1) has a initial state but taps is explicitly set to None \n"
     ]
    },
    {
     "data": {
      "text/html": [
       "\n",
       "    <div>\n",
       "        <style>\n",
       "            /* Turns off some styling */\n",
       "            progress {\n",
       "                /* gets rid of default border in Firefox and Opera. */\n",
       "                border: none;\n",
       "                /* Needs to be in here for Safari polyfill so background images work as expected. */\n",
       "                background-size: auto;\n",
       "            }\n",
       "            .progress-bar-interrupted, .progress-bar-interrupted::-webkit-progress-bar {\n",
       "                background: #F44336;\n",
       "            }\n",
       "        </style>\n",
       "      <progress value='1225' class='' max='1225' style='width:300px; height:20px; vertical-align: middle;'></progress>\n",
       "      100.00% [1225/1225 00:18<00:00 logp = -532.15, ||grad|| = 0.90734]\n",
       "    </div>\n",
       "    "
      ],
      "text/plain": [
       "<IPython.core.display.HTML object>"
      ]
     },
     "metadata": {},
     "output_type": "display_data"
    },
    {
     "name": "stderr",
     "output_type": "stream",
     "text": [
      "WARNING (theano.scan.basic): Output None (index 0) has a initial state but taps is explicitly set to None \n",
      "WARNING (theano.scan.basic): Output None (index 1) has a initial state but taps is explicitly set to None \n"
     ]
    },
    {
     "name": "stdout",
     "output_type": "stream",
     "text": [
      "\n",
      "inner iter 66\n"
     ]
    },
    {
     "name": "stderr",
     "output_type": "stream",
     "text": [
      "WARNING (theano.scan.basic): Output initial_level (index 0) has a initial state but taps is explicitly set to None \n",
      "WARNING (theano.scan.basic): Output initial_trend (index 1) has a initial state but taps is explicitly set to None \n"
     ]
    },
    {
     "data": {
      "text/html": [
       "\n",
       "    <div>\n",
       "        <style>\n",
       "            /* Turns off some styling */\n",
       "            progress {\n",
       "                /* gets rid of default border in Firefox and Opera. */\n",
       "                border: none;\n",
       "                /* Needs to be in here for Safari polyfill so background images work as expected. */\n",
       "                background-size: auto;\n",
       "            }\n",
       "            .progress-bar-interrupted, .progress-bar-interrupted::-webkit-progress-bar {\n",
       "                background: #F44336;\n",
       "            }\n",
       "        </style>\n",
       "      <progress value='1120' class='' max='1120' style='width:300px; height:20px; vertical-align: middle;'></progress>\n",
       "      100.00% [1120/1120 00:17<00:00 logp = -627.06, ||grad|| = 0.29991]\n",
       "    </div>\n",
       "    "
      ],
      "text/plain": [
       "<IPython.core.display.HTML object>"
      ]
     },
     "metadata": {},
     "output_type": "display_data"
    },
    {
     "name": "stderr",
     "output_type": "stream",
     "text": [
      "WARNING (theano.scan.basic): Output None (index 0) has a initial state but taps is explicitly set to None \n",
      "WARNING (theano.scan.basic): Output None (index 1) has a initial state but taps is explicitly set to None \n"
     ]
    },
    {
     "name": "stdout",
     "output_type": "stream",
     "text": [
      "\n",
      "inner iter 67\n"
     ]
    },
    {
     "name": "stderr",
     "output_type": "stream",
     "text": [
      "WARNING (theano.scan.basic): Output initial_level (index 0) has a initial state but taps is explicitly set to None \n",
      "WARNING (theano.scan.basic): Output initial_trend (index 1) has a initial state but taps is explicitly set to None \n"
     ]
    },
    {
     "data": {
      "text/html": [
       "\n",
       "    <div>\n",
       "        <style>\n",
       "            /* Turns off some styling */\n",
       "            progress {\n",
       "                /* gets rid of default border in Firefox and Opera. */\n",
       "                border: none;\n",
       "                /* Needs to be in here for Safari polyfill so background images work as expected. */\n",
       "                background-size: auto;\n",
       "            }\n",
       "            .progress-bar-interrupted, .progress-bar-interrupted::-webkit-progress-bar {\n",
       "                background: #F44336;\n",
       "            }\n",
       "        </style>\n",
       "      <progress value='1131' class='' max='1131' style='width:300px; height:20px; vertical-align: middle;'></progress>\n",
       "      100.00% [1131/1131 00:16<00:00 logp = -602.18, ||grad|| = 0.10726]\n",
       "    </div>\n",
       "    "
      ],
      "text/plain": [
       "<IPython.core.display.HTML object>"
      ]
     },
     "metadata": {},
     "output_type": "display_data"
    },
    {
     "name": "stderr",
     "output_type": "stream",
     "text": [
      "WARNING (theano.scan.basic): Output None (index 0) has a initial state but taps is explicitly set to None \n",
      "WARNING (theano.scan.basic): Output None (index 1) has a initial state but taps is explicitly set to None \n"
     ]
    },
    {
     "name": "stdout",
     "output_type": "stream",
     "text": [
      "\n",
      "inner iter 68\n"
     ]
    },
    {
     "name": "stderr",
     "output_type": "stream",
     "text": [
      "WARNING (theano.scan.basic): Output initial_level (index 0) has a initial state but taps is explicitly set to None \n",
      "WARNING (theano.scan.basic): Output initial_trend (index 1) has a initial state but taps is explicitly set to None \n"
     ]
    },
    {
     "data": {
      "text/html": [
       "\n",
       "    <div>\n",
       "        <style>\n",
       "            /* Turns off some styling */\n",
       "            progress {\n",
       "                /* gets rid of default border in Firefox and Opera. */\n",
       "                border: none;\n",
       "                /* Needs to be in here for Safari polyfill so background images work as expected. */\n",
       "                background-size: auto;\n",
       "            }\n",
       "            .progress-bar-interrupted, .progress-bar-interrupted::-webkit-progress-bar {\n",
       "                background: #F44336;\n",
       "            }\n",
       "        </style>\n",
       "      <progress value='51' class='' max='51' style='width:300px; height:20px; vertical-align: middle;'></progress>\n",
       "      100.00% [51/51 00:00<00:00 logp = -512.79, ||grad|| = 0.0070398]\n",
       "    </div>\n",
       "    "
      ],
      "text/plain": [
       "<IPython.core.display.HTML object>"
      ]
     },
     "metadata": {},
     "output_type": "display_data"
    },
    {
     "name": "stderr",
     "output_type": "stream",
     "text": [
      "WARNING (theano.scan.basic): Output None (index 0) has a initial state but taps is explicitly set to None \n",
      "WARNING (theano.scan.basic): Output None (index 1) has a initial state but taps is explicitly set to None \n"
     ]
    },
    {
     "name": "stdout",
     "output_type": "stream",
     "text": [
      "\n",
      "inner iter 69\n"
     ]
    },
    {
     "name": "stderr",
     "output_type": "stream",
     "text": [
      "WARNING (theano.scan.basic): Output initial_level (index 0) has a initial state but taps is explicitly set to None \n",
      "WARNING (theano.scan.basic): Output initial_trend (index 1) has a initial state but taps is explicitly set to None \n"
     ]
    },
    {
     "data": {
      "text/html": [
       "\n",
       "    <div>\n",
       "        <style>\n",
       "            /* Turns off some styling */\n",
       "            progress {\n",
       "                /* gets rid of default border in Firefox and Opera. */\n",
       "                border: none;\n",
       "                /* Needs to be in here for Safari polyfill so background images work as expected. */\n",
       "                background-size: auto;\n",
       "            }\n",
       "            .progress-bar-interrupted, .progress-bar-interrupted::-webkit-progress-bar {\n",
       "                background: #F44336;\n",
       "            }\n",
       "        </style>\n",
       "      <progress value='270' class='' max='270' style='width:300px; height:20px; vertical-align: middle;'></progress>\n",
       "      100.00% [270/270 00:04<00:00 logp = -821.74, ||grad|| = 0.1216]\n",
       "    </div>\n",
       "    "
      ],
      "text/plain": [
       "<IPython.core.display.HTML object>"
      ]
     },
     "metadata": {},
     "output_type": "display_data"
    },
    {
     "name": "stderr",
     "output_type": "stream",
     "text": [
      "WARNING (theano.scan.basic): Output None (index 0) has a initial state but taps is explicitly set to None \n",
      "WARNING (theano.scan.basic): Output None (index 1) has a initial state but taps is explicitly set to None \n"
     ]
    },
    {
     "name": "stdout",
     "output_type": "stream",
     "text": [
      "\n",
      "inner iter 70\n"
     ]
    },
    {
     "name": "stderr",
     "output_type": "stream",
     "text": [
      "WARNING (theano.scan.basic): Output initial_level (index 0) has a initial state but taps is explicitly set to None \n",
      "WARNING (theano.scan.basic): Output initial_trend (index 1) has a initial state but taps is explicitly set to None \n"
     ]
    },
    {
     "data": {
      "text/html": [
       "\n",
       "    <div>\n",
       "        <style>\n",
       "            /* Turns off some styling */\n",
       "            progress {\n",
       "                /* gets rid of default border in Firefox and Opera. */\n",
       "                border: none;\n",
       "                /* Needs to be in here for Safari polyfill so background images work as expected. */\n",
       "                background-size: auto;\n",
       "            }\n",
       "            .progress-bar-interrupted, .progress-bar-interrupted::-webkit-progress-bar {\n",
       "                background: #F44336;\n",
       "            }\n",
       "        </style>\n",
       "      <progress value='947' class='' max='947' style='width:300px; height:20px; vertical-align: middle;'></progress>\n",
       "      100.00% [947/947 00:13<00:00 logp = -525.38, ||grad|| = 0.78766]\n",
       "    </div>\n",
       "    "
      ],
      "text/plain": [
       "<IPython.core.display.HTML object>"
      ]
     },
     "metadata": {},
     "output_type": "display_data"
    },
    {
     "name": "stderr",
     "output_type": "stream",
     "text": [
      "WARNING (theano.scan.basic): Output None (index 0) has a initial state but taps is explicitly set to None \n",
      "WARNING (theano.scan.basic): Output None (index 1) has a initial state but taps is explicitly set to None \n"
     ]
    },
    {
     "name": "stdout",
     "output_type": "stream",
     "text": [
      "\n",
      "inner iter 71\n"
     ]
    },
    {
     "name": "stderr",
     "output_type": "stream",
     "text": [
      "WARNING (theano.scan.basic): Output initial_level (index 0) has a initial state but taps is explicitly set to None \n",
      "WARNING (theano.scan.basic): Output initial_trend (index 1) has a initial state but taps is explicitly set to None \n"
     ]
    },
    {
     "data": {
      "text/html": [
       "\n",
       "    <div>\n",
       "        <style>\n",
       "            /* Turns off some styling */\n",
       "            progress {\n",
       "                /* gets rid of default border in Firefox and Opera. */\n",
       "                border: none;\n",
       "                /* Needs to be in here for Safari polyfill so background images work as expected. */\n",
       "                background-size: auto;\n",
       "            }\n",
       "            .progress-bar-interrupted, .progress-bar-interrupted::-webkit-progress-bar {\n",
       "                background: #F44336;\n",
       "            }\n",
       "        </style>\n",
       "      <progress value='972' class='' max='972' style='width:300px; height:20px; vertical-align: middle;'></progress>\n",
       "      100.00% [972/972 00:16<00:00 logp = -572.8, ||grad|| = 0.23242]\n",
       "    </div>\n",
       "    "
      ],
      "text/plain": [
       "<IPython.core.display.HTML object>"
      ]
     },
     "metadata": {},
     "output_type": "display_data"
    },
    {
     "name": "stderr",
     "output_type": "stream",
     "text": [
      "WARNING (theano.scan.basic): Output None (index 0) has a initial state but taps is explicitly set to None \n",
      "WARNING (theano.scan.basic): Output None (index 1) has a initial state but taps is explicitly set to None \n"
     ]
    },
    {
     "name": "stdout",
     "output_type": "stream",
     "text": [
      "\n",
      "inner iter 72\n"
     ]
    },
    {
     "name": "stderr",
     "output_type": "stream",
     "text": [
      "WARNING (theano.scan.basic): Output initial_level (index 0) has a initial state but taps is explicitly set to None \n",
      "WARNING (theano.scan.basic): Output initial_trend (index 1) has a initial state but taps is explicitly set to None \n"
     ]
    },
    {
     "data": {
      "text/html": [
       "\n",
       "    <div>\n",
       "        <style>\n",
       "            /* Turns off some styling */\n",
       "            progress {\n",
       "                /* gets rid of default border in Firefox and Opera. */\n",
       "                border: none;\n",
       "                /* Needs to be in here for Safari polyfill so background images work as expected. */\n",
       "                background-size: auto;\n",
       "            }\n",
       "            .progress-bar-interrupted, .progress-bar-interrupted::-webkit-progress-bar {\n",
       "                background: #F44336;\n",
       "            }\n",
       "        </style>\n",
       "      <progress value='67' class='' max='67' style='width:300px; height:20px; vertical-align: middle;'></progress>\n",
       "      100.00% [67/67 00:00<00:00 logp = -607.47, ||grad|| = 0.26349]\n",
       "    </div>\n",
       "    "
      ],
      "text/plain": [
       "<IPython.core.display.HTML object>"
      ]
     },
     "metadata": {},
     "output_type": "display_data"
    },
    {
     "name": "stderr",
     "output_type": "stream",
     "text": [
      "WARNING (theano.scan.basic): Output None (index 0) has a initial state but taps is explicitly set to None \n",
      "WARNING (theano.scan.basic): Output None (index 1) has a initial state but taps is explicitly set to None \n"
     ]
    },
    {
     "name": "stdout",
     "output_type": "stream",
     "text": [
      "\n",
      "inner iter 73\n"
     ]
    },
    {
     "name": "stderr",
     "output_type": "stream",
     "text": [
      "WARNING (theano.scan.basic): Output initial_level (index 0) has a initial state but taps is explicitly set to None \n",
      "WARNING (theano.scan.basic): Output initial_trend (index 1) has a initial state but taps is explicitly set to None \n"
     ]
    },
    {
     "data": {
      "text/html": [
       "\n",
       "    <div>\n",
       "        <style>\n",
       "            /* Turns off some styling */\n",
       "            progress {\n",
       "                /* gets rid of default border in Firefox and Opera. */\n",
       "                border: none;\n",
       "                /* Needs to be in here for Safari polyfill so background images work as expected. */\n",
       "                background-size: auto;\n",
       "            }\n",
       "            .progress-bar-interrupted, .progress-bar-interrupted::-webkit-progress-bar {\n",
       "                background: #F44336;\n",
       "            }\n",
       "        </style>\n",
       "      <progress value='1105' class='' max='1105' style='width:300px; height:20px; vertical-align: middle;'></progress>\n",
       "      100.00% [1105/1105 00:16<00:00 logp = -495.54, ||grad|| = 0.33795]\n",
       "    </div>\n",
       "    "
      ],
      "text/plain": [
       "<IPython.core.display.HTML object>"
      ]
     },
     "metadata": {},
     "output_type": "display_data"
    },
    {
     "name": "stderr",
     "output_type": "stream",
     "text": [
      "WARNING (theano.scan.basic): Output None (index 0) has a initial state but taps is explicitly set to None \n",
      "WARNING (theano.scan.basic): Output None (index 1) has a initial state but taps is explicitly set to None \n"
     ]
    },
    {
     "name": "stdout",
     "output_type": "stream",
     "text": [
      "\n",
      "inner iter 74\n"
     ]
    },
    {
     "name": "stderr",
     "output_type": "stream",
     "text": [
      "WARNING (theano.scan.basic): Output initial_level (index 0) has a initial state but taps is explicitly set to None \n",
      "WARNING (theano.scan.basic): Output initial_trend (index 1) has a initial state but taps is explicitly set to None \n"
     ]
    },
    {
     "data": {
      "text/html": [
       "\n",
       "    <div>\n",
       "        <style>\n",
       "            /* Turns off some styling */\n",
       "            progress {\n",
       "                /* gets rid of default border in Firefox and Opera. */\n",
       "                border: none;\n",
       "                /* Needs to be in here for Safari polyfill so background images work as expected. */\n",
       "                background-size: auto;\n",
       "            }\n",
       "            .progress-bar-interrupted, .progress-bar-interrupted::-webkit-progress-bar {\n",
       "                background: #F44336;\n",
       "            }\n",
       "        </style>\n",
       "      <progress value='1553' class='' max='1553' style='width:300px; height:20px; vertical-align: middle;'></progress>\n",
       "      100.00% [1553/1553 00:23<00:00 logp = -476.65, ||grad|| = 0.31152]\n",
       "    </div>\n",
       "    "
      ],
      "text/plain": [
       "<IPython.core.display.HTML object>"
      ]
     },
     "metadata": {},
     "output_type": "display_data"
    },
    {
     "name": "stderr",
     "output_type": "stream",
     "text": [
      "WARNING (theano.scan.basic): Output None (index 0) has a initial state but taps is explicitly set to None \n",
      "WARNING (theano.scan.basic): Output None (index 1) has a initial state but taps is explicitly set to None \n"
     ]
    },
    {
     "name": "stdout",
     "output_type": "stream",
     "text": [
      "\n",
      "inner iter 75\n"
     ]
    },
    {
     "name": "stderr",
     "output_type": "stream",
     "text": [
      "WARNING (theano.scan.basic): Output initial_level (index 0) has a initial state but taps is explicitly set to None \n",
      "WARNING (theano.scan.basic): Output initial_trend (index 1) has a initial state but taps is explicitly set to None \n"
     ]
    },
    {
     "data": {
      "text/html": [
       "\n",
       "    <div>\n",
       "        <style>\n",
       "            /* Turns off some styling */\n",
       "            progress {\n",
       "                /* gets rid of default border in Firefox and Opera. */\n",
       "                border: none;\n",
       "                /* Needs to be in here for Safari polyfill so background images work as expected. */\n",
       "                background-size: auto;\n",
       "            }\n",
       "            .progress-bar-interrupted, .progress-bar-interrupted::-webkit-progress-bar {\n",
       "                background: #F44336;\n",
       "            }\n",
       "        </style>\n",
       "      <progress value='1133' class='' max='1133' style='width:300px; height:20px; vertical-align: middle;'></progress>\n",
       "      100.00% [1133/1133 00:19<00:00 logp = -519.37, ||grad|| = 0.26439]\n",
       "    </div>\n",
       "    "
      ],
      "text/plain": [
       "<IPython.core.display.HTML object>"
      ]
     },
     "metadata": {},
     "output_type": "display_data"
    },
    {
     "name": "stderr",
     "output_type": "stream",
     "text": [
      "WARNING (theano.scan.basic): Output None (index 0) has a initial state but taps is explicitly set to None \n",
      "WARNING (theano.scan.basic): Output None (index 1) has a initial state but taps is explicitly set to None \n"
     ]
    },
    {
     "name": "stdout",
     "output_type": "stream",
     "text": [
      "\n",
      "inner iter 76\n"
     ]
    },
    {
     "name": "stderr",
     "output_type": "stream",
     "text": [
      "WARNING (theano.scan.basic): Output initial_level (index 0) has a initial state but taps is explicitly set to None \n",
      "WARNING (theano.scan.basic): Output initial_trend (index 1) has a initial state but taps is explicitly set to None \n"
     ]
    },
    {
     "data": {
      "text/html": [
       "\n",
       "    <div>\n",
       "        <style>\n",
       "            /* Turns off some styling */\n",
       "            progress {\n",
       "                /* gets rid of default border in Firefox and Opera. */\n",
       "                border: none;\n",
       "                /* Needs to be in here for Safari polyfill so background images work as expected. */\n",
       "                background-size: auto;\n",
       "            }\n",
       "            .progress-bar-interrupted, .progress-bar-interrupted::-webkit-progress-bar {\n",
       "                background: #F44336;\n",
       "            }\n",
       "        </style>\n",
       "      <progress value='661' class='' max='661' style='width:300px; height:20px; vertical-align: middle;'></progress>\n",
       "      100.00% [661/661 00:09<00:00 logp = -658.18, ||grad|| = 0.2945]\n",
       "    </div>\n",
       "    "
      ],
      "text/plain": [
       "<IPython.core.display.HTML object>"
      ]
     },
     "metadata": {},
     "output_type": "display_data"
    },
    {
     "name": "stderr",
     "output_type": "stream",
     "text": [
      "WARNING (theano.scan.basic): Output None (index 0) has a initial state but taps is explicitly set to None \n",
      "WARNING (theano.scan.basic): Output None (index 1) has a initial state but taps is explicitly set to None \n"
     ]
    },
    {
     "name": "stdout",
     "output_type": "stream",
     "text": [
      "\n",
      "inner iter 77\n"
     ]
    },
    {
     "name": "stderr",
     "output_type": "stream",
     "text": [
      "WARNING (theano.scan.basic): Output initial_level (index 0) has a initial state but taps is explicitly set to None \n",
      "WARNING (theano.scan.basic): Output initial_trend (index 1) has a initial state but taps is explicitly set to None \n"
     ]
    },
    {
     "data": {
      "text/html": [
       "\n",
       "    <div>\n",
       "        <style>\n",
       "            /* Turns off some styling */\n",
       "            progress {\n",
       "                /* gets rid of default border in Firefox and Opera. */\n",
       "                border: none;\n",
       "                /* Needs to be in here for Safari polyfill so background images work as expected. */\n",
       "                background-size: auto;\n",
       "            }\n",
       "            .progress-bar-interrupted, .progress-bar-interrupted::-webkit-progress-bar {\n",
       "                background: #F44336;\n",
       "            }\n",
       "        </style>\n",
       "      <progress value='1445' class='' max='1445' style='width:300px; height:20px; vertical-align: middle;'></progress>\n",
       "      100.00% [1445/1445 00:23<00:00 logp = -589.22, ||grad|| = 0.26327]\n",
       "    </div>\n",
       "    "
      ],
      "text/plain": [
       "<IPython.core.display.HTML object>"
      ]
     },
     "metadata": {},
     "output_type": "display_data"
    },
    {
     "name": "stderr",
     "output_type": "stream",
     "text": [
      "WARNING (theano.scan.basic): Output None (index 0) has a initial state but taps is explicitly set to None \n",
      "WARNING (theano.scan.basic): Output None (index 1) has a initial state but taps is explicitly set to None \n"
     ]
    },
    {
     "name": "stdout",
     "output_type": "stream",
     "text": [
      "\n",
      "inner iter 78\n"
     ]
    },
    {
     "name": "stderr",
     "output_type": "stream",
     "text": [
      "WARNING (theano.scan.basic): Output initial_level (index 0) has a initial state but taps is explicitly set to None \n",
      "WARNING (theano.scan.basic): Output initial_trend (index 1) has a initial state but taps is explicitly set to None \n"
     ]
    },
    {
     "data": {
      "text/html": [
       "\n",
       "    <div>\n",
       "        <style>\n",
       "            /* Turns off some styling */\n",
       "            progress {\n",
       "                /* gets rid of default border in Firefox and Opera. */\n",
       "                border: none;\n",
       "                /* Needs to be in here for Safari polyfill so background images work as expected. */\n",
       "                background-size: auto;\n",
       "            }\n",
       "            .progress-bar-interrupted, .progress-bar-interrupted::-webkit-progress-bar {\n",
       "                background: #F44336;\n",
       "            }\n",
       "        </style>\n",
       "      <progress value='1681' class='' max='1681' style='width:300px; height:20px; vertical-align: middle;'></progress>\n",
       "      100.00% [1681/1681 00:25<00:00 logp = -523.6, ||grad|| = 0.19517]\n",
       "    </div>\n",
       "    "
      ],
      "text/plain": [
       "<IPython.core.display.HTML object>"
      ]
     },
     "metadata": {},
     "output_type": "display_data"
    },
    {
     "name": "stderr",
     "output_type": "stream",
     "text": [
      "WARNING (theano.scan.basic): Output None (index 0) has a initial state but taps is explicitly set to None \n",
      "WARNING (theano.scan.basic): Output None (index 1) has a initial state but taps is explicitly set to None \n"
     ]
    },
    {
     "name": "stdout",
     "output_type": "stream",
     "text": [
      "\n",
      "inner iter 79\n"
     ]
    },
    {
     "name": "stderr",
     "output_type": "stream",
     "text": [
      "WARNING (theano.scan.basic): Output initial_level (index 0) has a initial state but taps is explicitly set to None \n",
      "WARNING (theano.scan.basic): Output initial_trend (index 1) has a initial state but taps is explicitly set to None \n"
     ]
    },
    {
     "data": {
      "text/html": [
       "\n",
       "    <div>\n",
       "        <style>\n",
       "            /* Turns off some styling */\n",
       "            progress {\n",
       "                /* gets rid of default border in Firefox and Opera. */\n",
       "                border: none;\n",
       "                /* Needs to be in here for Safari polyfill so background images work as expected. */\n",
       "                background-size: auto;\n",
       "            }\n",
       "            .progress-bar-interrupted, .progress-bar-interrupted::-webkit-progress-bar {\n",
       "                background: #F44336;\n",
       "            }\n",
       "        </style>\n",
       "      <progress value='1375' class='' max='1375' style='width:300px; height:20px; vertical-align: middle;'></progress>\n",
       "      100.00% [1375/1375 00:19<00:00 logp = -526.92, ||grad|| = 0.53278]\n",
       "    </div>\n",
       "    "
      ],
      "text/plain": [
       "<IPython.core.display.HTML object>"
      ]
     },
     "metadata": {},
     "output_type": "display_data"
    },
    {
     "name": "stderr",
     "output_type": "stream",
     "text": [
      "WARNING (theano.scan.basic): Output None (index 0) has a initial state but taps is explicitly set to None \n",
      "WARNING (theano.scan.basic): Output None (index 1) has a initial state but taps is explicitly set to None \n"
     ]
    },
    {
     "name": "stdout",
     "output_type": "stream",
     "text": [
      "\n",
      "inner iter 80\n"
     ]
    },
    {
     "name": "stderr",
     "output_type": "stream",
     "text": [
      "WARNING (theano.scan.basic): Output initial_level (index 0) has a initial state but taps is explicitly set to None \n",
      "WARNING (theano.scan.basic): Output initial_trend (index 1) has a initial state but taps is explicitly set to None \n"
     ]
    },
    {
     "data": {
      "text/html": [
       "\n",
       "    <div>\n",
       "        <style>\n",
       "            /* Turns off some styling */\n",
       "            progress {\n",
       "                /* gets rid of default border in Firefox and Opera. */\n",
       "                border: none;\n",
       "                /* Needs to be in here for Safari polyfill so background images work as expected. */\n",
       "                background-size: auto;\n",
       "            }\n",
       "            .progress-bar-interrupted, .progress-bar-interrupted::-webkit-progress-bar {\n",
       "                background: #F44336;\n",
       "            }\n",
       "        </style>\n",
       "      <progress value='1200' class='' max='1200' style='width:300px; height:20px; vertical-align: middle;'></progress>\n",
       "      100.00% [1200/1200 00:16<00:00 logp = -598.9, ||grad|| = 0.39658]\n",
       "    </div>\n",
       "    "
      ],
      "text/plain": [
       "<IPython.core.display.HTML object>"
      ]
     },
     "metadata": {},
     "output_type": "display_data"
    },
    {
     "name": "stderr",
     "output_type": "stream",
     "text": [
      "WARNING (theano.scan.basic): Output None (index 0) has a initial state but taps is explicitly set to None \n",
      "WARNING (theano.scan.basic): Output None (index 1) has a initial state but taps is explicitly set to None \n"
     ]
    },
    {
     "name": "stdout",
     "output_type": "stream",
     "text": [
      "\n",
      "inner iter 81\n"
     ]
    },
    {
     "name": "stderr",
     "output_type": "stream",
     "text": [
      "WARNING (theano.scan.basic): Output initial_level (index 0) has a initial state but taps is explicitly set to None \n",
      "WARNING (theano.scan.basic): Output initial_trend (index 1) has a initial state but taps is explicitly set to None \n"
     ]
    },
    {
     "data": {
      "text/html": [
       "\n",
       "    <div>\n",
       "        <style>\n",
       "            /* Turns off some styling */\n",
       "            progress {\n",
       "                /* gets rid of default border in Firefox and Opera. */\n",
       "                border: none;\n",
       "                /* Needs to be in here for Safari polyfill so background images work as expected. */\n",
       "                background-size: auto;\n",
       "            }\n",
       "            .progress-bar-interrupted, .progress-bar-interrupted::-webkit-progress-bar {\n",
       "                background: #F44336;\n",
       "            }\n",
       "        </style>\n",
       "      <progress value='1245' class='' max='1245' style='width:300px; height:20px; vertical-align: middle;'></progress>\n",
       "      100.00% [1245/1245 00:17<00:00 logp = -546.62, ||grad|| = 0.23205]\n",
       "    </div>\n",
       "    "
      ],
      "text/plain": [
       "<IPython.core.display.HTML object>"
      ]
     },
     "metadata": {},
     "output_type": "display_data"
    },
    {
     "name": "stderr",
     "output_type": "stream",
     "text": [
      "WARNING (theano.scan.basic): Output None (index 0) has a initial state but taps is explicitly set to None \n",
      "WARNING (theano.scan.basic): Output None (index 1) has a initial state but taps is explicitly set to None \n"
     ]
    },
    {
     "name": "stdout",
     "output_type": "stream",
     "text": [
      "\n",
      "inner iter 82\n"
     ]
    },
    {
     "name": "stderr",
     "output_type": "stream",
     "text": [
      "WARNING (theano.scan.basic): Output initial_level (index 0) has a initial state but taps is explicitly set to None \n",
      "WARNING (theano.scan.basic): Output initial_trend (index 1) has a initial state but taps is explicitly set to None \n"
     ]
    },
    {
     "data": {
      "text/html": [
       "\n",
       "    <div>\n",
       "        <style>\n",
       "            /* Turns off some styling */\n",
       "            progress {\n",
       "                /* gets rid of default border in Firefox and Opera. */\n",
       "                border: none;\n",
       "                /* Needs to be in here for Safari polyfill so background images work as expected. */\n",
       "                background-size: auto;\n",
       "            }\n",
       "            .progress-bar-interrupted, .progress-bar-interrupted::-webkit-progress-bar {\n",
       "                background: #F44336;\n",
       "            }\n",
       "        </style>\n",
       "      <progress value='2062' class='' max='2062' style='width:300px; height:20px; vertical-align: middle;'></progress>\n",
       "      100.00% [2062/2062 00:27<00:00 logp = -529.44, ||grad|| = 0.2069]\n",
       "    </div>\n",
       "    "
      ],
      "text/plain": [
       "<IPython.core.display.HTML object>"
      ]
     },
     "metadata": {},
     "output_type": "display_data"
    },
    {
     "name": "stderr",
     "output_type": "stream",
     "text": [
      "WARNING (theano.scan.basic): Output None (index 0) has a initial state but taps is explicitly set to None \n",
      "WARNING (theano.scan.basic): Output None (index 1) has a initial state but taps is explicitly set to None \n"
     ]
    },
    {
     "name": "stdout",
     "output_type": "stream",
     "text": [
      "\n",
      "inner iter 83\n"
     ]
    },
    {
     "name": "stderr",
     "output_type": "stream",
     "text": [
      "WARNING (theano.scan.basic): Output initial_level (index 0) has a initial state but taps is explicitly set to None \n",
      "WARNING (theano.scan.basic): Output initial_trend (index 1) has a initial state but taps is explicitly set to None \n"
     ]
    },
    {
     "data": {
      "text/html": [
       "\n",
       "    <div>\n",
       "        <style>\n",
       "            /* Turns off some styling */\n",
       "            progress {\n",
       "                /* gets rid of default border in Firefox and Opera. */\n",
       "                border: none;\n",
       "                /* Needs to be in here for Safari polyfill so background images work as expected. */\n",
       "                background-size: auto;\n",
       "            }\n",
       "            .progress-bar-interrupted, .progress-bar-interrupted::-webkit-progress-bar {\n",
       "                background: #F44336;\n",
       "            }\n",
       "        </style>\n",
       "      <progress value='3476' class='' max='3476' style='width:300px; height:20px; vertical-align: middle;'></progress>\n",
       "      100.00% [3476/3476 00:41<00:00 logp = -341.96, ||grad|| = 1.363]\n",
       "    </div>\n",
       "    "
      ],
      "text/plain": [
       "<IPython.core.display.HTML object>"
      ]
     },
     "metadata": {},
     "output_type": "display_data"
    },
    {
     "name": "stderr",
     "output_type": "stream",
     "text": [
      "WARNING (theano.scan.basic): Output None (index 0) has a initial state but taps is explicitly set to None \n",
      "WARNING (theano.scan.basic): Output None (index 1) has a initial state but taps is explicitly set to None \n"
     ]
    },
    {
     "name": "stdout",
     "output_type": "stream",
     "text": [
      "\n",
      "inner iter 84\n"
     ]
    },
    {
     "name": "stderr",
     "output_type": "stream",
     "text": [
      "WARNING (theano.scan.basic): Output initial_level (index 0) has a initial state but taps is explicitly set to None \n",
      "WARNING (theano.scan.basic): Output initial_trend (index 1) has a initial state but taps is explicitly set to None \n"
     ]
    },
    {
     "data": {
      "text/html": [
       "\n",
       "    <div>\n",
       "        <style>\n",
       "            /* Turns off some styling */\n",
       "            progress {\n",
       "                /* gets rid of default border in Firefox and Opera. */\n",
       "                border: none;\n",
       "                /* Needs to be in here for Safari polyfill so background images work as expected. */\n",
       "                background-size: auto;\n",
       "            }\n",
       "            .progress-bar-interrupted, .progress-bar-interrupted::-webkit-progress-bar {\n",
       "                background: #F44336;\n",
       "            }\n",
       "        </style>\n",
       "      <progress value='1711' class='' max='1711' style='width:300px; height:20px; vertical-align: middle;'></progress>\n",
       "      100.00% [1711/1711 00:23<00:00 logp = -427.67, ||grad|| = 1.1866]\n",
       "    </div>\n",
       "    "
      ],
      "text/plain": [
       "<IPython.core.display.HTML object>"
      ]
     },
     "metadata": {},
     "output_type": "display_data"
    },
    {
     "name": "stderr",
     "output_type": "stream",
     "text": [
      "WARNING (theano.scan.basic): Output None (index 0) has a initial state but taps is explicitly set to None \n",
      "WARNING (theano.scan.basic): Output None (index 1) has a initial state but taps is explicitly set to None \n"
     ]
    },
    {
     "name": "stdout",
     "output_type": "stream",
     "text": [
      "\n",
      "inner iter 85\n"
     ]
    },
    {
     "name": "stderr",
     "output_type": "stream",
     "text": [
      "WARNING (theano.scan.basic): Output initial_level (index 0) has a initial state but taps is explicitly set to None \n",
      "WARNING (theano.scan.basic): Output initial_trend (index 1) has a initial state but taps is explicitly set to None \n"
     ]
    },
    {
     "data": {
      "text/html": [
       "\n",
       "    <div>\n",
       "        <style>\n",
       "            /* Turns off some styling */\n",
       "            progress {\n",
       "                /* gets rid of default border in Firefox and Opera. */\n",
       "                border: none;\n",
       "                /* Needs to be in here for Safari polyfill so background images work as expected. */\n",
       "                background-size: auto;\n",
       "            }\n",
       "            .progress-bar-interrupted, .progress-bar-interrupted::-webkit-progress-bar {\n",
       "                background: #F44336;\n",
       "            }\n",
       "        </style>\n",
       "      <progress value='1229' class='' max='1229' style='width:300px; height:20px; vertical-align: middle;'></progress>\n",
       "      100.00% [1229/1229 00:17<00:00 logp = -583.78, ||grad|| = 0.44971]\n",
       "    </div>\n",
       "    "
      ],
      "text/plain": [
       "<IPython.core.display.HTML object>"
      ]
     },
     "metadata": {},
     "output_type": "display_data"
    },
    {
     "name": "stderr",
     "output_type": "stream",
     "text": [
      "WARNING (theano.scan.basic): Output None (index 0) has a initial state but taps is explicitly set to None \n",
      "WARNING (theano.scan.basic): Output None (index 1) has a initial state but taps is explicitly set to None \n"
     ]
    },
    {
     "name": "stdout",
     "output_type": "stream",
     "text": [
      "\n",
      "inner iter 86\n"
     ]
    },
    {
     "name": "stderr",
     "output_type": "stream",
     "text": [
      "WARNING (theano.scan.basic): Output initial_level (index 0) has a initial state but taps is explicitly set to None \n",
      "WARNING (theano.scan.basic): Output initial_trend (index 1) has a initial state but taps is explicitly set to None \n"
     ]
    },
    {
     "data": {
      "text/html": [
       "\n",
       "    <div>\n",
       "        <style>\n",
       "            /* Turns off some styling */\n",
       "            progress {\n",
       "                /* gets rid of default border in Firefox and Opera. */\n",
       "                border: none;\n",
       "                /* Needs to be in here for Safari polyfill so background images work as expected. */\n",
       "                background-size: auto;\n",
       "            }\n",
       "            .progress-bar-interrupted, .progress-bar-interrupted::-webkit-progress-bar {\n",
       "                background: #F44336;\n",
       "            }\n",
       "        </style>\n",
       "      <progress value='1262' class='' max='1262' style='width:300px; height:20px; vertical-align: middle;'></progress>\n",
       "      100.00% [1262/1262 00:17<00:00 logp = -496.49, ||grad|| = 0.14456]\n",
       "    </div>\n",
       "    "
      ],
      "text/plain": [
       "<IPython.core.display.HTML object>"
      ]
     },
     "metadata": {},
     "output_type": "display_data"
    },
    {
     "name": "stderr",
     "output_type": "stream",
     "text": [
      "WARNING (theano.scan.basic): Output None (index 0) has a initial state but taps is explicitly set to None \n",
      "WARNING (theano.scan.basic): Output None (index 1) has a initial state but taps is explicitly set to None \n"
     ]
    },
    {
     "name": "stdout",
     "output_type": "stream",
     "text": [
      "\n",
      "inner iter 87\n"
     ]
    },
    {
     "name": "stderr",
     "output_type": "stream",
     "text": [
      "WARNING (theano.scan.basic): Output initial_level (index 0) has a initial state but taps is explicitly set to None \n",
      "WARNING (theano.scan.basic): Output initial_trend (index 1) has a initial state but taps is explicitly set to None \n"
     ]
    },
    {
     "data": {
      "text/html": [
       "\n",
       "    <div>\n",
       "        <style>\n",
       "            /* Turns off some styling */\n",
       "            progress {\n",
       "                /* gets rid of default border in Firefox and Opera. */\n",
       "                border: none;\n",
       "                /* Needs to be in here for Safari polyfill so background images work as expected. */\n",
       "                background-size: auto;\n",
       "            }\n",
       "            .progress-bar-interrupted, .progress-bar-interrupted::-webkit-progress-bar {\n",
       "                background: #F44336;\n",
       "            }\n",
       "        </style>\n",
       "      <progress value='1112' class='' max='1112' style='width:300px; height:20px; vertical-align: middle;'></progress>\n",
       "      100.00% [1112/1112 00:15<00:00 logp = -495.85, ||grad|| = 2.8798]\n",
       "    </div>\n",
       "    "
      ],
      "text/plain": [
       "<IPython.core.display.HTML object>"
      ]
     },
     "metadata": {},
     "output_type": "display_data"
    },
    {
     "name": "stderr",
     "output_type": "stream",
     "text": [
      "WARNING (theano.scan.basic): Output None (index 0) has a initial state but taps is explicitly set to None \n",
      "WARNING (theano.scan.basic): Output None (index 1) has a initial state but taps is explicitly set to None \n"
     ]
    },
    {
     "name": "stdout",
     "output_type": "stream",
     "text": [
      "\n",
      "inner iter 88\n"
     ]
    },
    {
     "name": "stderr",
     "output_type": "stream",
     "text": [
      "WARNING (theano.scan.basic): Output initial_level (index 0) has a initial state but taps is explicitly set to None \n",
      "WARNING (theano.scan.basic): Output initial_trend (index 1) has a initial state but taps is explicitly set to None \n"
     ]
    },
    {
     "data": {
      "text/html": [
       "\n",
       "    <div>\n",
       "        <style>\n",
       "            /* Turns off some styling */\n",
       "            progress {\n",
       "                /* gets rid of default border in Firefox and Opera. */\n",
       "                border: none;\n",
       "                /* Needs to be in here for Safari polyfill so background images work as expected. */\n",
       "                background-size: auto;\n",
       "            }\n",
       "            .progress-bar-interrupted, .progress-bar-interrupted::-webkit-progress-bar {\n",
       "                background: #F44336;\n",
       "            }\n",
       "        </style>\n",
       "      <progress value='593' class='' max='593' style='width:300px; height:20px; vertical-align: middle;'></progress>\n",
       "      100.00% [593/593 00:08<00:00 logp = -584.17, ||grad|| = 0.23441]\n",
       "    </div>\n",
       "    "
      ],
      "text/plain": [
       "<IPython.core.display.HTML object>"
      ]
     },
     "metadata": {},
     "output_type": "display_data"
    },
    {
     "name": "stderr",
     "output_type": "stream",
     "text": [
      "WARNING (theano.scan.basic): Output None (index 0) has a initial state but taps is explicitly set to None \n",
      "WARNING (theano.scan.basic): Output None (index 1) has a initial state but taps is explicitly set to None \n"
     ]
    },
    {
     "name": "stdout",
     "output_type": "stream",
     "text": [
      "\n",
      "inner iter 89\n"
     ]
    },
    {
     "name": "stderr",
     "output_type": "stream",
     "text": [
      "WARNING (theano.scan.basic): Output initial_level (index 0) has a initial state but taps is explicitly set to None \n",
      "WARNING (theano.scan.basic): Output initial_trend (index 1) has a initial state but taps is explicitly set to None \n"
     ]
    },
    {
     "data": {
      "text/html": [
       "\n",
       "    <div>\n",
       "        <style>\n",
       "            /* Turns off some styling */\n",
       "            progress {\n",
       "                /* gets rid of default border in Firefox and Opera. */\n",
       "                border: none;\n",
       "                /* Needs to be in here for Safari polyfill so background images work as expected. */\n",
       "                background-size: auto;\n",
       "            }\n",
       "            .progress-bar-interrupted, .progress-bar-interrupted::-webkit-progress-bar {\n",
       "                background: #F44336;\n",
       "            }\n",
       "        </style>\n",
       "      <progress value='1835' class='' max='1835' style='width:300px; height:20px; vertical-align: middle;'></progress>\n",
       "      100.00% [1835/1835 00:22<00:00 logp = -445.39, ||grad|| = 0.30946]\n",
       "    </div>\n",
       "    "
      ],
      "text/plain": [
       "<IPython.core.display.HTML object>"
      ]
     },
     "metadata": {},
     "output_type": "display_data"
    },
    {
     "name": "stderr",
     "output_type": "stream",
     "text": [
      "WARNING (theano.scan.basic): Output None (index 0) has a initial state but taps is explicitly set to None \n",
      "WARNING (theano.scan.basic): Output None (index 1) has a initial state but taps is explicitly set to None \n"
     ]
    },
    {
     "name": "stdout",
     "output_type": "stream",
     "text": [
      "\n",
      "inner iter 90\n"
     ]
    },
    {
     "name": "stderr",
     "output_type": "stream",
     "text": [
      "WARNING (theano.scan.basic): Output initial_level (index 0) has a initial state but taps is explicitly set to None \n",
      "WARNING (theano.scan.basic): Output initial_trend (index 1) has a initial state but taps is explicitly set to None \n"
     ]
    },
    {
     "data": {
      "text/html": [
       "\n",
       "    <div>\n",
       "        <style>\n",
       "            /* Turns off some styling */\n",
       "            progress {\n",
       "                /* gets rid of default border in Firefox and Opera. */\n",
       "                border: none;\n",
       "                /* Needs to be in here for Safari polyfill so background images work as expected. */\n",
       "                background-size: auto;\n",
       "            }\n",
       "            .progress-bar-interrupted, .progress-bar-interrupted::-webkit-progress-bar {\n",
       "                background: #F44336;\n",
       "            }\n",
       "        </style>\n",
       "      <progress value='2244' class='' max='2244' style='width:300px; height:20px; vertical-align: middle;'></progress>\n",
       "      100.00% [2244/2244 00:27<00:00 logp = -423.02, ||grad|| = 0.36507]\n",
       "    </div>\n",
       "    "
      ],
      "text/plain": [
       "<IPython.core.display.HTML object>"
      ]
     },
     "metadata": {},
     "output_type": "display_data"
    },
    {
     "name": "stderr",
     "output_type": "stream",
     "text": [
      "WARNING (theano.scan.basic): Output None (index 0) has a initial state but taps is explicitly set to None \n",
      "WARNING (theano.scan.basic): Output None (index 1) has a initial state but taps is explicitly set to None \n"
     ]
    },
    {
     "name": "stdout",
     "output_type": "stream",
     "text": [
      "\n"
     ]
    }
   ],
   "source": [
    "### walk-forward validation\n",
    "HORIZON = 2 # (ie 15-21 days out) compare to TARGET_lag3\n",
    "szn_len = 52\n",
    "\n",
    "idx_outer = 1\n",
    "pred_for_dates, zone_ids, preds, smoothing_levels, smoothing_trends, smoothing_seasons = [], [], [], [], [], []\n",
    "# for f_date in test_dates2[1:2]:\n",
    "# for f_date in test_dates2[0:1]:\n",
    "# for f_date in test_dates2:\n",
    "# for f_date in [date(2020,1,27)-timedelta(weeks=HORIZON)]:\n",
    "# for f_date in test_dates2[0:1]:\n",
    "# for f_date in [date(2021,6,28), date(2021,4,26)]:\n",
    "# for f_date in [date(2021,6,28), date(2021,7,19)]:\n",
    "# for f_date in [date(2021,4,26)]:\n",
    "# for f_date in [date(2021,7,19)]:\n",
    "for f_date in [date(2021,7,26)]:\n",
    "# for f_date in [date(2021,6,28)]:\n",
    "# for f_date in [date(2019,12,2)]:\n",
    "# for f_date in test_f_dates[:5]:\n",
    "    print(f'iter {idx_outer}/{len(test_dates2)}')\n",
    "    idx_outer += 1\n",
    "    \n",
    "    idx_inner = 1\n",
    "#     for z_id in zz4[1:]:\n",
    "#     for z_id in zz5 + zz:\n",
    "#     for z_id in zz4:\n",
    "#     for z_id in zz3:\n",
    "#     for z_id in zz2:\n",
    "#     for z_id in zz:\n",
    "    for z_id in zz_top90:\n",
    "#     for z_id in [972]:\n",
    "#     for z_id in [874]:\n",
    "#     for z_id in df_prep.zone_id.unique():\n",
    "#     for z_id in [1001, 943, 787]:\n",
    "#     for z_id in [1435]:\n",
    "#     for z_id in [1]:\n",
    "#     for z_id in [1,973,13]:\n",
    "#     for z_id in [1,973,13,785,979,1001,972,942,18,27]:\n",
    "\n",
    "        print(f'inner iter {idx_inner}')\n",
    "        \n",
    "#         third_week = df_prep.loc[df_prep.zone_id == z_id].date.unique()[2]\n",
    "        zdf = df_prep.loc[(df_prep.zone_id == z_id)\n",
    "                            & (df_prep.date < f_date)\n",
    "#                             & (df_prep.date > third_week)\n",
    "                            & (df_prep['y_obs'] > 0)\n",
    "                           ]\n",
    "    \n",
    "        third_week = zdf.date.unique()[2]\n",
    "        zdf = zdf.loc[zdf.date > third_week]\n",
    "        \n",
    "        \n",
    "        pad_df = pd.DataFrame(columns = zdf.columns)\n",
    "        pad_df.loc[0, 'zone_id'] = z_id\n",
    "        zdf = pd.concat([pad_df, zdf])\n",
    "        \n",
    "        zdf['y_obs_lag-1'] = zdf.y_obs.shift(-1)\n",
    "        initial_lvl_upper = zdf.head()['y_obs_lag-1'].max()\n",
    "        \n",
    "        \n",
    "#         if len(zdf) < 104:\n",
    "#             break\n",
    "            \n",
    "        map_estimate, ys, is_covid_start = fit_hw_model(zdf, initial_lvl_upper)\n",
    "        pred, levels_f, trends_f, seasons_f, seasons, corresponding_szn_idx, szn_estimate, yhats = predict(map_estimate, ys, is_covid_start, HORIZON+1)\n",
    "        \n",
    "        pred_for_date = f_date + timedelta(weeks=HORIZON)\n",
    "        \n",
    "        pred_for_dates.append(pred_for_date)\n",
    "        zone_ids.append(z_id)\n",
    "        preds.append(pred)\n",
    "        smoothing_levels.append(map_estimate['smoothing_level'])\n",
    "        smoothing_trends.append(map_estimate['smoothing_trend'])\n",
    "        if 'smoothing_season' in map_estimate:\n",
    "            smoothing_seasons.append(map_estimate['smoothing_season'])\n",
    "        else:\n",
    "            smoothing_seasons.append(0.0)\n",
    "        idx_inner += 1\n",
    "        \n",
    "res1 = pd.DataFrame({'pred_for_date': pred_for_dates,\n",
    "                        'zone_id': zone_ids,\n",
    "                        'pred': preds,\n",
    "                        'smoothing_level': smoothing_levels,\n",
    "                        'smoothing_trend': smoothing_trends,\n",
    "                        'smoothing_season': smoothing_seasons})\n",
    "\n",
    "res1.pred_for_date = pd.to_datetime(res1.pred_for_date)"
   ]
  },
  {
   "cell_type": "code",
   "execution_count": 17,
   "id": "f9d0d10c",
   "metadata": {},
   "outputs": [],
   "source": [
    "res1.to_csv('./demand_fcast_fdate_07_26_21.csv', index=None)\n",
    "# res1.to_csv('./demand_fcast_fdate_06_28_21.csv', index=None)\n",
    "\n",
    "# res1.to_csv('./demand_fcast_fdate_07_19_21.csv', index=None)"
   ]
  },
  {
   "cell_type": "code",
   "execution_count": 15,
   "id": "d2b44158",
   "metadata": {},
   "outputs": [
    {
     "data": {
      "text/plain": [
       "(90, 6)"
      ]
     },
     "execution_count": 15,
     "metadata": {},
     "output_type": "execute_result"
    }
   ],
   "source": [
    "res1.shape"
   ]
  },
  {
   "cell_type": "code",
   "execution_count": 1244,
   "id": "99047ee5",
   "metadata": {},
   "outputs": [
    {
     "data": {
      "text/plain": [
       "array([ 785,  942,  972,  861,  973,  943,  975,  981, 1002,  983,  974,\n",
       "       1001,  839,  714,    1,  783,  989,  787,   79,  945,  946,  980,\n",
       "        979,   27,  131,  786,  183,   33,   87,  392,   43,   16,  982,\n",
       "        713,  988,  262,  840,  144,  709,  181,  440,  204,  225,  185,\n",
       "        245,  104,  182,  439,  103,  169,   50,  186,   37,  620,  441,\n",
       "         76,  184,   32,  477,  530,  616,  617,  357,  167,  437, 1029,\n",
       "         38,  166,  428,  307,  853,  541,  438,   18,  266,  692,  272,\n",
       "         90,  495,  475,  178,  348,  273,  521,  161,  694,  707,  190,\n",
       "        452,  759])"
      ]
     },
     "execution_count": 1244,
     "metadata": {},
     "output_type": "execute_result"
    }
   ],
   "source": [
    "res1.zone_id.unique()"
   ]
  },
  {
   "cell_type": "code",
   "execution_count": 1215,
   "id": "26aff307",
   "metadata": {},
   "outputs": [
    {
     "data": {
      "text/plain": [
       "{'initial_level_interval__': array(19.22669955),\n",
       " 'smoothing_level_interval__': array(0.86590661),\n",
       " 'initial_trend_interval__': array(-0.00190908),\n",
       " 'smoothing_trend_interval__': array(-10.34770102),\n",
       " 'initial_szns': array([0.94747692, 0.95936983, 0.96585927, 0.96074868, 0.99006776,\n",
       "        0.99545837, 0.9918051 , 1.05585219, 1.06221651, 1.00981389,\n",
       "        1.02439174, 1.005526  , 1.01692596, 1.03053691, 1.02256756,\n",
       "        1.03978467, 0.9968859 , 0.99539788, 0.98361543, 1.03261202,\n",
       "        1.05561453, 1.01316826, 0.86473329, 0.92288674, 1.04986981,\n",
       "        1.08263334, 1.07227068, 1.04538902, 1.04490835, 1.05762734,\n",
       "        1.06895958, 1.08783109, 1.10013576, 1.0584884 , 1.08144999,\n",
       "        1.06463847, 1.03001456, 1.03930133, 1.02213132, 1.01981277,\n",
       "        1.02485211, 1.00357644, 1.00870945, 0.99280213, 0.96286708,\n",
       "        0.94869795, 0.94401896, 0.94470427, 0.93725437, 0.91201299,\n",
       "        0.91655781, 0.93776362]),\n",
       " 'smoothing_season_interval__': array(-15.54619577),\n",
       " 'covid_level_change_interval__': array(-0.51261213),\n",
       " 'covid_level_change2_interval__': array(-2.86948211),\n",
       " 'sigma_log__': array(4.13655125),\n",
       " 'initial_level': array(2220.67013506),\n",
       " 'smoothing_level': array(0.70389324),\n",
       " 'initial_trend': array(-1.05986007),\n",
       " 'smoothing_trend': array(3.2065397e-05),\n",
       " 'smoothing_season': array(1.41730354e-07),\n",
       " 'covid_level_change': array(1872.90690913),\n",
       " 'covid_level_change2': array(268.41477713),\n",
       " 'sigma': array(62.5866034)}"
      ]
     },
     "execution_count": 1215,
     "metadata": {},
     "output_type": "execute_result"
    }
   ],
   "source": [
    "map_estimate"
   ]
  },
  {
   "cell_type": "code",
   "execution_count": 717,
   "id": "bb5ed41f",
   "metadata": {},
   "outputs": [
    {
     "data": {
      "text/plain": [
       "[<matplotlib.lines.Line2D at 0x14c78b220>]"
      ]
     },
     "execution_count": 717,
     "metadata": {},
     "output_type": "execute_result"
    },
    {
     "data": {
      "image/png": "[encoded data removed]",
      "text/plain": [
       "<Figure size 432x288 with 1 Axes>"
      ]
     },
     "metadata": {},
     "output_type": "display_data"
    }
   ],
   "source": [
    "zdf.iloc[1:].reset_index().y_obs.plot()\n",
    "plt.plot(yhats.get_test_value())"
   ]
  },
  {
   "cell_type": "code",
   "execution_count": 792,
   "id": "dd6d223d",
   "metadata": {},
   "outputs": [
    {
     "data": {
      "text/plain": [
       "[<matplotlib.lines.Line2D at 0x152d78af0>]"
      ]
     },
     "execution_count": 792,
     "metadata": {},
     "output_type": "execute_result"
    },
    {
     "data": {
      "image/png": "[encoded data removed]",
      "text/plain": [
       "<Figure size 432x288 with 1 Axes>"
      ]
     },
     "metadata": {},
     "output_type": "display_data"
    }
   ],
   "source": [
    "# SF\n",
    "zdf.iloc[1:].reset_index().y_obs.plot()\n",
    "plt.plot(yhats.get_test_value())"
   ]
  },
  {
   "cell_type": "code",
   "execution_count": 795,
   "id": "1ec23ae0",
   "metadata": {},
   "outputs": [],
   "source": [
    "all_season_estimates = map_estimate['initial_szns'].tolist() + seasons.get_test_value().tolist()\n",
    "\n",
    "corresponding_dates = zdf.iloc[1:].date.tolist()\n",
    "for i in range(szn_len):\n",
    "    corresponding_dates += [corresponding_dates[-1] + timedelta(weeks=1)]\n",
    "\n",
    "szn_estimates_w_dates = pd.DataFrame(list(zip(all_season_estimates, corresponding_dates)), columns=['szn_estimate', 'date'])\n",
    "\n",
    "szn_estimates_w_dates = szn_estimates_w_dates.set_index(szn_estimates_w_dates.date)"
   ]
  },
  {
   "cell_type": "code",
   "execution_count": 796,
   "id": "6cf6cabc",
   "metadata": {},
   "outputs": [
    {
     "data": {
      "text/html": [
       "<div>\n",
       "<style scoped>\n",
       "    .dataframe tbody tr th:only-of-type {\n",
       "        vertical-align: middle;\n",
       "    }\n",
       "\n",
       "    .dataframe tbody tr th {\n",
       "        vertical-align: top;\n",
       "    }\n",
       "\n",
       "    .dataframe thead th {\n",
       "        text-align: right;\n",
       "    }\n",
       "</style>\n",
       "<table border=\"1\" class=\"dataframe\">\n",
       "  <thead>\n",
       "    <tr style=\"text-align: right;\">\n",
       "      <th></th>\n",
       "      <th>szn_estimate</th>\n",
       "      <th>date</th>\n",
       "    </tr>\n",
       "    <tr>\n",
       "      <th>date</th>\n",
       "      <th></th>\n",
       "      <th></th>\n",
       "    </tr>\n",
       "  </thead>\n",
       "  <tbody>\n",
       "    <tr>\n",
       "      <th>2021-03-29</th>\n",
       "      <td>1.047756</td>\n",
       "      <td>2021-03-29</td>\n",
       "    </tr>\n",
       "    <tr>\n",
       "      <th>2021-04-05</th>\n",
       "      <td>1.016604</td>\n",
       "      <td>2021-04-05</td>\n",
       "    </tr>\n",
       "    <tr>\n",
       "      <th>2021-04-12</th>\n",
       "      <td>1.011627</td>\n",
       "      <td>2021-04-12</td>\n",
       "    </tr>\n",
       "    <tr>\n",
       "      <th>2021-04-19</th>\n",
       "      <td>1.012378</td>\n",
       "      <td>2021-04-19</td>\n",
       "    </tr>\n",
       "    <tr>\n",
       "      <th>2021-04-26</th>\n",
       "      <td>1.039037</td>\n",
       "      <td>2021-04-26</td>\n",
       "    </tr>\n",
       "  </tbody>\n",
       "</table>\n",
       "</div>"
      ],
      "text/plain": [
       "            szn_estimate        date\n",
       "date                                \n",
       "2021-03-29      1.047756  2021-03-29\n",
       "2021-04-05      1.016604  2021-04-05\n",
       "2021-04-12      1.011627  2021-04-12\n",
       "2021-04-19      1.012378  2021-04-19\n",
       "2021-04-26      1.039037  2021-04-26"
      ]
     },
     "execution_count": 796,
     "metadata": {},
     "output_type": "execute_result"
    }
   ],
   "source": [
    "szn_estimates_w_dates.loc[szn_estimates_w_dates.date >= f_date].head()"
   ]
  },
  {
   "cell_type": "code",
   "execution_count": 797,
   "id": "df7a995b",
   "metadata": {},
   "outputs": [],
   "source": [
    "szn_estimates_w_dates['szn_estimate_lag1'] = szn_estimates_w_dates.szn_estimate.shift(1)\n",
    "szn_estimates_w_dates['szn_change'] = szn_estimates_w_dates.szn_estimate - szn_estimates_w_dates.szn_estimate_lag1\n",
    "szn_estimates_w_dates['szn_change_abs'] = szn_estimates_w_dates['szn_change'].abs()"
   ]
  },
  {
   "cell_type": "code",
   "execution_count": 784,
   "id": "05144cf1",
   "metadata": {
    "collapsed": true
   },
   "outputs": [
    {
     "data": {
      "text/html": [
       "<div>\n",
       "<style scoped>\n",
       "    .dataframe tbody tr th:only-of-type {\n",
       "        vertical-align: middle;\n",
       "    }\n",
       "\n",
       "    .dataframe tbody tr th {\n",
       "        vertical-align: top;\n",
       "    }\n",
       "\n",
       "    .dataframe thead th {\n",
       "        text-align: right;\n",
       "    }\n",
       "</style>\n",
       "<table border=\"1\" class=\"dataframe\">\n",
       "  <thead>\n",
       "    <tr style=\"text-align: right;\">\n",
       "      <th></th>\n",
       "      <th>szn_estimate</th>\n",
       "      <th>date</th>\n",
       "      <th>szn_estimate_lag1</th>\n",
       "      <th>szn_change</th>\n",
       "      <th>szn_change_abs</th>\n",
       "    </tr>\n",
       "    <tr>\n",
       "      <th>date</th>\n",
       "      <th></th>\n",
       "      <th></th>\n",
       "      <th></th>\n",
       "      <th></th>\n",
       "      <th></th>\n",
       "    </tr>\n",
       "  </thead>\n",
       "  <tbody>\n",
       "    <tr>\n",
       "      <th>2018-05-21</th>\n",
       "      <td>1.201213</td>\n",
       "      <td>2018-05-21</td>\n",
       "      <td>1.005496</td>\n",
       "      <td>0.195716</td>\n",
       "      <td>0.195716</td>\n",
       "    </tr>\n",
       "    <tr>\n",
       "      <th>2018-05-28</th>\n",
       "      <td>0.911555</td>\n",
       "      <td>2018-05-28</td>\n",
       "      <td>1.201213</td>\n",
       "      <td>-0.289658</td>\n",
       "      <td>0.289658</td>\n",
       "    </tr>\n",
       "    <tr>\n",
       "      <th>2018-06-18</th>\n",
       "      <td>1.000978</td>\n",
       "      <td>2018-06-18</td>\n",
       "      <td>0.869514</td>\n",
       "      <td>0.131464</td>\n",
       "      <td>0.131464</td>\n",
       "    </tr>\n",
       "    <tr>\n",
       "      <th>2018-06-25</th>\n",
       "      <td>1.105119</td>\n",
       "      <td>2018-06-25</td>\n",
       "      <td>1.000978</td>\n",
       "      <td>0.104141</td>\n",
       "      <td>0.104141</td>\n",
       "    </tr>\n",
       "    <tr>\n",
       "      <th>2018-07-09</th>\n",
       "      <td>0.894454</td>\n",
       "      <td>2018-07-09</td>\n",
       "      <td>1.099729</td>\n",
       "      <td>-0.205274</td>\n",
       "      <td>0.205274</td>\n",
       "    </tr>\n",
       "    <tr>\n",
       "      <th>...</th>\n",
       "      <td>...</td>\n",
       "      <td>...</td>\n",
       "      <td>...</td>\n",
       "      <td>...</td>\n",
       "      <td>...</td>\n",
       "    </tr>\n",
       "    <tr>\n",
       "      <th>2022-02-14</th>\n",
       "      <td>0.346524</td>\n",
       "      <td>2022-02-14</td>\n",
       "      <td>0.532629</td>\n",
       "      <td>-0.186105</td>\n",
       "      <td>0.186105</td>\n",
       "    </tr>\n",
       "    <tr>\n",
       "      <th>2022-02-28</th>\n",
       "      <td>0.613922</td>\n",
       "      <td>2022-02-28</td>\n",
       "      <td>0.431329</td>\n",
       "      <td>0.182593</td>\n",
       "      <td>0.182593</td>\n",
       "    </tr>\n",
       "    <tr>\n",
       "      <th>2022-03-07</th>\n",
       "      <td>1.074131</td>\n",
       "      <td>2022-03-07</td>\n",
       "      <td>0.613922</td>\n",
       "      <td>0.460209</td>\n",
       "      <td>0.460209</td>\n",
       "    </tr>\n",
       "    <tr>\n",
       "      <th>2022-03-14</th>\n",
       "      <td>4.615958</td>\n",
       "      <td>2022-03-14</td>\n",
       "      <td>1.074131</td>\n",
       "      <td>3.541827</td>\n",
       "      <td>3.541827</td>\n",
       "    </tr>\n",
       "    <tr>\n",
       "      <th>2022-03-21</th>\n",
       "      <td>-2.236777</td>\n",
       "      <td>2022-03-21</td>\n",
       "      <td>4.615958</td>\n",
       "      <td>-6.852736</td>\n",
       "      <td>6.852736</td>\n",
       "    </tr>\n",
       "  </tbody>\n",
       "</table>\n",
       "<p>67 rows × 5 columns</p>\n",
       "</div>"
      ],
      "text/plain": [
       "            szn_estimate        date  szn_estimate_lag1  szn_change  \\\n",
       "date                                                                  \n",
       "2018-05-21      1.201213  2018-05-21           1.005496    0.195716   \n",
       "2018-05-28      0.911555  2018-05-28           1.201213   -0.289658   \n",
       "2018-06-18      1.000978  2018-06-18           0.869514    0.131464   \n",
       "2018-06-25      1.105119  2018-06-25           1.000978    0.104141   \n",
       "2018-07-09      0.894454  2018-07-09           1.099729   -0.205274   \n",
       "...                  ...         ...                ...         ...   \n",
       "2022-02-14      0.346524  2022-02-14           0.532629   -0.186105   \n",
       "2022-02-28      0.613922  2022-02-28           0.431329    0.182593   \n",
       "2022-03-07      1.074131  2022-03-07           0.613922    0.460209   \n",
       "2022-03-14      4.615958  2022-03-14           1.074131    3.541827   \n",
       "2022-03-21     -2.236777  2022-03-21           4.615958   -6.852736   \n",
       "\n",
       "            szn_change_abs  \n",
       "date                        \n",
       "2018-05-21        0.195716  \n",
       "2018-05-28        0.289658  \n",
       "2018-06-18        0.131464  \n",
       "2018-06-25        0.104141  \n",
       "2018-07-09        0.205274  \n",
       "...                    ...  \n",
       "2022-02-14        0.186105  \n",
       "2022-02-28        0.182593  \n",
       "2022-03-07        0.460209  \n",
       "2022-03-14        3.541827  \n",
       "2022-03-21        6.852736  \n",
       "\n",
       "[67 rows x 5 columns]"
      ]
     },
     "execution_count": 784,
     "metadata": {},
     "output_type": "execute_result"
    }
   ],
   "source": [
    "szn_estimates_w_dates.loc[szn_estimates_w_dates.szn_change_abs > .1]"
   ]
  },
  {
   "cell_type": "code",
   "execution_count": 798,
   "id": "abbdbf83",
   "metadata": {},
   "outputs": [
    {
     "data": {
      "image/png": "[encoded data removed]",
      "text/plain": [
       "<Figure size 432x288 with 1 Axes>"
      ]
     },
     "metadata": {},
     "output_type": "display_data"
    }
   ],
   "source": [
    "ax = szn_estimates_w_dates.szn_estimate.plot()\n",
    "ax.xaxis.set_tick_params(rotation=45)"
   ]
  },
  {
   "cell_type": "code",
   "execution_count": 1184,
   "id": "574fbff9",
   "metadata": {},
   "outputs": [
    {
     "data": {
      "text/plain": [
       "[<matplotlib.lines.Line2D at 0x19b50a910>]"
      ]
     },
     "execution_count": 1184,
     "metadata": {},
     "output_type": "execute_result"
    },
    {
     "data": {
      "image/png": "[encoded data removed]",
      "text/plain": [
       "<Figure size 432x288 with 1 Axes>"
      ]
     },
     "metadata": {},
     "output_type": "display_data"
    }
   ],
   "source": [
    "plt.plot(levels_f.get_test_value())"
   ]
  },
  {
   "cell_type": "code",
   "execution_count": 1186,
   "id": "27ccb4e0",
   "metadata": {},
   "outputs": [
    {
     "data": {
      "text/plain": [
       "[<matplotlib.lines.Line2D at 0x1a3e55040>]"
      ]
     },
     "execution_count": 1186,
     "metadata": {},
     "output_type": "execute_result"
    },
    {
     "data": {
      "image/png": "[encoded data removed]",
      "text/plain": [
       "<Figure size 432x288 with 1 Axes>"
      ]
     },
     "metadata": {},
     "output_type": "display_data"
    }
   ],
   "source": [
    "plt.plot(trends_f.get_test_value())"
   ]
  },
  {
   "cell_type": "code",
   "execution_count": 1187,
   "id": "a90d8a56",
   "metadata": {},
   "outputs": [
    {
     "data": {
      "text/plain": [
       "[<matplotlib.lines.Line2D at 0x1a38e2100>]"
      ]
     },
     "execution_count": 1187,
     "metadata": {},
     "output_type": "execute_result"
    },
    {
     "data": {
      "image/png": "[encoded data removed]",
      "text/plain": [
       "<Figure size 432x288 with 1 Axes>"
      ]
     },
     "metadata": {},
     "output_type": "display_data"
    }
   ],
   "source": [
    "plt.plot(seasons_f.get_test_value())"
   ]
  },
  {
   "cell_type": "code",
   "execution_count": 1198,
   "id": "bed53cf5",
   "metadata": {},
   "outputs": [],
   "source": [
    "ss = pd.DataFrame(zip(zdf.iloc[1:].date, seasons_f.get_test_value()), columns=['date', 'season_effect'])\n",
    "ss = ss.set_index(ss.date)"
   ]
  },
  {
   "cell_type": "code",
   "execution_count": 1200,
   "id": "9b188d33",
   "metadata": {},
   "outputs": [
    {
     "data": {
      "image/png": "[encoded data removed]",
      "text/plain": [
       "<Figure size 432x288 with 1 Axes>"
      ]
     },
     "metadata": {},
     "output_type": "display_data"
    }
   ],
   "source": [
    "ax = ss.season_effect.plot()\n",
    "ax.xaxis.set_tick_params(rotation=45)"
   ]
  },
  {
   "cell_type": "code",
   "execution_count": 1246,
   "id": "9b140e8c",
   "metadata": {},
   "outputs": [
    {
     "data": {
      "text/plain": [
       "(90, 23)"
      ]
     },
     "execution_count": 1246,
     "metadata": {},
     "output_type": "execute_result"
    }
   ],
   "source": [
    "res1['pred_for_date'] = res1.pred_for_date.apply(lambda x: x.date())\n",
    "\n",
    "f1 = res1.merge(df, left_on=['zone_id', 'pred_for_date'], right_on=['zone_id', 'date'])\n",
    "f1 = f1.set_index(f1.pred_for_date)\n",
    "f1.shape"
   ]
  },
  {
   "cell_type": "code",
   "execution_count": 413,
   "id": "a0f93e88",
   "metadata": {},
   "outputs": [],
   "source": [
    "f1['error_new'] = f1.pred - f1.total_demand_new\n",
    "f1['pct_error_new'] = f1.error_new / f1.total_demand_new\n",
    "f1['abs_error_new'] = f1.error_new.abs()\n",
    "f1['abs_pct_error_new'] = f1.pct_error_new.abs()\n",
    "\n",
    "f1['error_old'] = f1.total_demand_new_lag3 - f1.total_demand_new\n",
    "f1['pct_error_old'] = f1.error_old / f1.total_demand_new\n",
    "f1['abs_error_old'] = f1.error_old.abs()\n",
    "f1['abs_pct_error_old'] = f1.pct_error_old.abs()"
   ]
  },
  {
   "cell_type": "code",
   "execution_count": 1135,
   "id": "d10d1950",
   "metadata": {},
   "outputs": [
    {
     "data": {
      "text/html": [
       "<div>\n",
       "<style scoped>\n",
       "    .dataframe tbody tr th:only-of-type {\n",
       "        vertical-align: middle;\n",
       "    }\n",
       "\n",
       "    .dataframe tbody tr th {\n",
       "        vertical-align: top;\n",
       "    }\n",
       "\n",
       "    .dataframe thead th {\n",
       "        text-align: right;\n",
       "    }\n",
       "</style>\n",
       "<table border=\"1\" class=\"dataframe\">\n",
       "  <thead>\n",
       "    <tr style=\"text-align: right;\">\n",
       "      <th></th>\n",
       "      <th>abs_pct_error_new</th>\n",
       "      <th>abs_pct_error_old</th>\n",
       "    </tr>\n",
       "  </thead>\n",
       "  <tbody>\n",
       "    <tr>\n",
       "      <th>count</th>\n",
       "      <td>90.000000</td>\n",
       "      <td>90.000000</td>\n",
       "    </tr>\n",
       "    <tr>\n",
       "      <th>mean</th>\n",
       "      <td>0.050748</td>\n",
       "      <td>0.059406</td>\n",
       "    </tr>\n",
       "    <tr>\n",
       "      <th>std</th>\n",
       "      <td>0.046843</td>\n",
       "      <td>0.035605</td>\n",
       "    </tr>\n",
       "    <tr>\n",
       "      <th>min</th>\n",
       "      <td>0.002699</td>\n",
       "      <td>0.003052</td>\n",
       "    </tr>\n",
       "    <tr>\n",
       "      <th>25%</th>\n",
       "      <td>0.019745</td>\n",
       "      <td>0.031113</td>\n",
       "    </tr>\n",
       "    <tr>\n",
       "      <th>50%</th>\n",
       "      <td>0.037734</td>\n",
       "      <td>0.056606</td>\n",
       "    </tr>\n",
       "    <tr>\n",
       "      <th>75%</th>\n",
       "      <td>0.068492</td>\n",
       "      <td>0.083699</td>\n",
       "    </tr>\n",
       "    <tr>\n",
       "      <th>max</th>\n",
       "      <td>0.286628</td>\n",
       "      <td>0.178745</td>\n",
       "    </tr>\n",
       "  </tbody>\n",
       "</table>\n",
       "</div>"
      ],
      "text/plain": [
       "       abs_pct_error_new  abs_pct_error_old\n",
       "count          90.000000          90.000000\n",
       "mean            0.050748           0.059406\n",
       "std             0.046843           0.035605\n",
       "min             0.002699           0.003052\n",
       "25%             0.019745           0.031113\n",
       "50%             0.037734           0.056606\n",
       "75%             0.068492           0.083699\n",
       "max             0.286628           0.178745"
      ]
     },
     "execution_count": 1135,
     "metadata": {},
     "output_type": "execute_result"
    }
   ],
   "source": [
    "all_backtests.loc[all_backtests.pred_for_date.isin(f4_26_v3.pred_for_date)][['abs_pct_error_new', 'abs_pct_error_old']].describe()"
   ]
  },
  {
   "cell_type": "code",
   "execution_count": 1015,
   "id": "9f80079d",
   "metadata": {},
   "outputs": [
    {
     "data": {
      "text/plain": [
       "array([datetime.date(2021, 6, 21), datetime.date(2021, 5, 31),\n",
       "       datetime.date(2021, 5, 10), datetime.date(2021, 4, 19),\n",
       "       datetime.date(2020, 1, 27), datetime.date(2020, 1, 6),\n",
       "       datetime.date(2019, 12, 16)], dtype=object)"
      ]
     },
     "execution_count": 1015,
     "metadata": {},
     "output_type": "execute_result"
    }
   ],
   "source": [
    "all_backtests.pred_for_date.unique()"
   ]
  },
  {
   "cell_type": "code",
   "execution_count": 943,
   "id": "1425e53c",
   "metadata": {},
   "outputs": [],
   "source": [
    "### combine results from various backtests\n",
    "\n",
    "# all_backtests = pd.concat([f4_1p, f4_4, f4_3, f4_2])\n",
    "# all_backtests.to_csv('./all_backtests_7_13.csv', index=None)"
   ]
  },
  {
   "cell_type": "code",
   "execution_count": 956,
   "id": "8b1e75be",
   "metadata": {},
   "outputs": [],
   "source": [
    "all_backtests['error_new'] = all_backtests.pred - all_backtests.total_demand_new\n",
    "all_backtests['pct_error_new'] = all_backtests.error_new / all_backtests.total_demand_new\n",
    "all_backtests['abs_error_new'] = all_backtests.error_new.abs()\n",
    "all_backtests['abs_pct_error_new'] = all_backtests.pct_error_new.abs()\n",
    "\n",
    "all_backtests['error_old'] = all_backtests.total_demand_new_lag3 - all_backtests.total_demand_new\n",
    "all_backtests['pct_error_old'] = all_backtests.error_old / all_backtests.total_demand_new\n",
    "all_backtests['abs_error_old'] = all_backtests.error_old.abs()\n",
    "all_backtests['abs_pct_error_old'] = all_backtests.pct_error_old.abs()"
   ]
  },
  {
   "cell_type": "code",
   "execution_count": 1020,
   "id": "9df2fa11",
   "metadata": {},
   "outputs": [
    {
     "data": {
      "text/plain": [
       "datetime.date(2021, 6, 21)"
      ]
     },
     "execution_count": 1020,
     "metadata": {},
     "output_type": "execute_result"
    }
   ],
   "source": [
    "all_backtests.pred_for_date.max()"
   ]
  },
  {
   "cell_type": "code",
   "execution_count": 1211,
   "id": "b31b24b8",
   "metadata": {},
   "outputs": [],
   "source": [
    "all_backtests['abs_pct_error_new'] = 100*all_backtests['abs_pct_error_new']"
   ]
  },
  {
   "cell_type": "code",
   "execution_count": 1212,
   "id": "20fadc57",
   "metadata": {},
   "outputs": [
    {
     "data": {
      "text/html": [
       "<div>\n",
       "<style scoped>\n",
       "    .dataframe tbody tr th:only-of-type {\n",
       "        vertical-align: middle;\n",
       "    }\n",
       "\n",
       "    .dataframe tbody tr th {\n",
       "        vertical-align: top;\n",
       "    }\n",
       "\n",
       "    .dataframe thead th {\n",
       "        text-align: right;\n",
       "    }\n",
       "</style>\n",
       "<table border=\"1\" class=\"dataframe\">\n",
       "  <thead>\n",
       "    <tr style=\"text-align: right;\">\n",
       "      <th></th>\n",
       "      <th>abs_pct_error_new</th>\n",
       "      <th>naive_abs_pct_error</th>\n",
       "    </tr>\n",
       "  </thead>\n",
       "  <tbody>\n",
       "    <tr>\n",
       "      <th>count</th>\n",
       "      <td>630.000000</td>\n",
       "      <td>630.000000</td>\n",
       "    </tr>\n",
       "    <tr>\n",
       "      <th>mean</th>\n",
       "      <td>5.519759</td>\n",
       "      <td>6.129870</td>\n",
       "    </tr>\n",
       "    <tr>\n",
       "      <th>std</th>\n",
       "      <td>5.192718</td>\n",
       "      <td>5.146579</td>\n",
       "    </tr>\n",
       "    <tr>\n",
       "      <th>min</th>\n",
       "      <td>0.016198</td>\n",
       "      <td>0.018135</td>\n",
       "    </tr>\n",
       "    <tr>\n",
       "      <th>25%</th>\n",
       "      <td>1.900322</td>\n",
       "      <td>2.195949</td>\n",
       "    </tr>\n",
       "    <tr>\n",
       "      <th>50%</th>\n",
       "      <td>3.808896</td>\n",
       "      <td>5.137380</td>\n",
       "    </tr>\n",
       "    <tr>\n",
       "      <th>75%</th>\n",
       "      <td>7.579060</td>\n",
       "      <td>8.283358</td>\n",
       "    </tr>\n",
       "    <tr>\n",
       "      <th>max</th>\n",
       "      <td>30.299919</td>\n",
       "      <td>30.479991</td>\n",
       "    </tr>\n",
       "  </tbody>\n",
       "</table>\n",
       "</div>"
      ],
      "text/plain": [
       "       abs_pct_error_new  naive_abs_pct_error\n",
       "count         630.000000           630.000000\n",
       "mean            5.519759             6.129870\n",
       "std             5.192718             5.146579\n",
       "min             0.016198             0.018135\n",
       "25%             1.900322             2.195949\n",
       "50%             3.808896             5.137380\n",
       "75%             7.579060             8.283358\n",
       "max            30.299919            30.479991"
      ]
     },
     "execution_count": 1212,
     "metadata": {},
     "output_type": "execute_result"
    }
   ],
   "source": [
    "all_backtests[['abs_pct_error_new', 'naive_abs_pct_error']].describe()"
   ]
  },
  {
   "cell_type": "code",
   "execution_count": 950,
   "id": "91da801e",
   "metadata": {},
   "outputs": [],
   "source": [
    "### clip forecasts\n",
    "\n",
    "max_pct_change = .15\n",
    "all_backtests['max_pred'] = (1+max_pct_change) * all_backtests.total_demand_new_lag3\n",
    "all_backtests['min_pred'] = (1-max_pct_change) * all_backtests.total_demand_new_lag3\n",
    "\n",
    "all_backtests['pred2_prep'] = np.maximum(all_backtests.min_pred, all_backtests.pred)\n",
    "all_backtests['pred2'] = np.minimum(all_backtests.max_pred, all_backtests.pred2_prep)\n",
    "\n",
    "all_backtests['error_new2'] = all_backtests.pred2 - all_backtests.total_demand_new\n",
    "all_backtests['pct_error_new2'] = all_backtests.error_new2 / all_backtests.total_demand_new\n",
    "all_backtests['abs_error_new2'] = all_backtests.error_new2.abs()\n",
    "all_backtests['abs_pct_error_new2'] = all_backtests.pct_error_new2.abs()"
   ]
  },
  {
   "cell_type": "code",
   "execution_count": 951,
   "id": "93899e70",
   "metadata": {
    "collapsed": true
   },
   "outputs": [
    {
     "data": {
      "text/html": [
       "<div>\n",
       "<style scoped>\n",
       "    .dataframe tbody tr th:only-of-type {\n",
       "        vertical-align: middle;\n",
       "    }\n",
       "\n",
       "    .dataframe tbody tr th {\n",
       "        vertical-align: top;\n",
       "    }\n",
       "\n",
       "    .dataframe thead th {\n",
       "        text-align: right;\n",
       "    }\n",
       "</style>\n",
       "<table border=\"1\" class=\"dataframe\">\n",
       "  <thead>\n",
       "    <tr style=\"text-align: right;\">\n",
       "      <th></th>\n",
       "      <th>abs_pct_error_new</th>\n",
       "      <th>abs_pct_error_new2</th>\n",
       "      <th>abs_pct_error_old</th>\n",
       "    </tr>\n",
       "  </thead>\n",
       "  <tbody>\n",
       "    <tr>\n",
       "      <th>count</th>\n",
       "      <td>560.000000</td>\n",
       "      <td>630.000000</td>\n",
       "      <td>560.000000</td>\n",
       "    </tr>\n",
       "    <tr>\n",
       "      <th>mean</th>\n",
       "      <td>0.054498</td>\n",
       "      <td>0.054840</td>\n",
       "      <td>0.051588</td>\n",
       "    </tr>\n",
       "    <tr>\n",
       "      <th>std</th>\n",
       "      <td>0.051463</td>\n",
       "      <td>0.051206</td>\n",
       "      <td>0.044787</td>\n",
       "    </tr>\n",
       "    <tr>\n",
       "      <th>min</th>\n",
       "      <td>0.000162</td>\n",
       "      <td>0.000162</td>\n",
       "      <td>0.000138</td>\n",
       "    </tr>\n",
       "    <tr>\n",
       "      <th>25%</th>\n",
       "      <td>0.018577</td>\n",
       "      <td>0.018928</td>\n",
       "      <td>0.019886</td>\n",
       "    </tr>\n",
       "    <tr>\n",
       "      <th>50%</th>\n",
       "      <td>0.037787</td>\n",
       "      <td>0.038132</td>\n",
       "      <td>0.041644</td>\n",
       "    </tr>\n",
       "    <tr>\n",
       "      <th>75%</th>\n",
       "      <td>0.075428</td>\n",
       "      <td>0.075687</td>\n",
       "      <td>0.071096</td>\n",
       "    </tr>\n",
       "    <tr>\n",
       "      <th>max</th>\n",
       "      <td>0.302999</td>\n",
       "      <td>0.302999</td>\n",
       "      <td>0.310027</td>\n",
       "    </tr>\n",
       "  </tbody>\n",
       "</table>\n",
       "</div>"
      ],
      "text/plain": [
       "       abs_pct_error_new  abs_pct_error_new2  abs_pct_error_old\n",
       "count         560.000000          630.000000         560.000000\n",
       "mean            0.054498            0.054840           0.051588\n",
       "std             0.051463            0.051206           0.044787\n",
       "min             0.000162            0.000162           0.000138\n",
       "25%             0.018577            0.018928           0.019886\n",
       "50%             0.037787            0.038132           0.041644\n",
       "75%             0.075428            0.075687           0.071096\n",
       "max             0.302999            0.302999           0.310027"
      ]
     },
     "execution_count": 951,
     "metadata": {},
     "output_type": "execute_result"
    }
   ],
   "source": [
    "all_backtests[['abs_pct_error_new', 'abs_pct_error_new2', 'abs_pct_error_old']].describe()"
   ]
  },
  {
   "cell_type": "code",
   "execution_count": 948,
   "id": "b7b8b509",
   "metadata": {},
   "outputs": [
    {
     "data": {
      "text/plain": [
       "array([  18,  307,  438,  266,   90,  541,  272,  692,  475,  348,  273,\n",
       "        178,  495,  694,  190,  707,  161,  521,  452,  489,  785,  942,\n",
       "        972,  861,  973,  943,  975,  981,  974, 1002,  983, 1001,  839,\n",
       "        714,    1,  783,  989,  787,   79,  945,  169,   37,  186,   76,\n",
       "        620,  441,   32,  184,  477,  357,  530,  616,  167,  617,  437,\n",
       "         38,  166, 1029,  428,  853,   43,   16,  982,  713,  988,  262,\n",
       "        840,  144,  709,  181,  204,  440,  225,  245,  185,  104,  182,\n",
       "        103,  439,   50,  946,  980,   27,  979,  183,  786,  131,   33,\n",
       "        392,   87])"
      ]
     },
     "execution_count": 948,
     "metadata": {},
     "output_type": "execute_result"
    }
   ],
   "source": [
    "all_backtests.zone_id.unique()"
   ]
  },
  {
   "cell_type": "code",
   "execution_count": 949,
   "id": "e84fe167",
   "metadata": {},
   "outputs": [
    {
     "data": {
      "text/plain": [
       "90"
      ]
     },
     "execution_count": 949,
     "metadata": {},
     "output_type": "execute_result"
    }
   ],
   "source": [
    "all_backtests.zone_id.nunique()"
   ]
  },
  {
   "cell_type": "code",
   "execution_count": 427,
   "id": "7539f51a",
   "metadata": {},
   "outputs": [
    {
     "data": {
      "text/html": [
       "<div>\n",
       "<style scoped>\n",
       "    .dataframe tbody tr th:only-of-type {\n",
       "        vertical-align: middle;\n",
       "    }\n",
       "\n",
       "    .dataframe tbody tr th {\n",
       "        vertical-align: top;\n",
       "    }\n",
       "\n",
       "    .dataframe thead th {\n",
       "        text-align: right;\n",
       "    }\n",
       "</style>\n",
       "<table border=\"1\" class=\"dataframe\">\n",
       "  <thead>\n",
       "    <tr style=\"text-align: right;\">\n",
       "      <th></th>\n",
       "      <th>zone_id</th>\n",
       "      <th>abs_pct_error_new_mean</th>\n",
       "      <th>abs_pct_error_new_median</th>\n",
       "      <th>abs_pct_error_old_mean</th>\n",
       "      <th>abs_pct_error_old_median</th>\n",
       "      <th>mean_diff</th>\n",
       "      <th>median_diff</th>\n",
       "    </tr>\n",
       "  </thead>\n",
       "  <tbody>\n",
       "    <tr>\n",
       "      <th>0</th>\n",
       "      <td>1</td>\n",
       "      <td>0.065522</td>\n",
       "      <td>0.028191</td>\n",
       "      <td>0.075289</td>\n",
       "      <td>0.042111</td>\n",
       "      <td>-0.009767</td>\n",
       "      <td>-0.013920</td>\n",
       "    </tr>\n",
       "    <tr>\n",
       "      <th>1</th>\n",
       "      <td>79</td>\n",
       "      <td>0.035838</td>\n",
       "      <td>0.040102</td>\n",
       "      <td>0.042291</td>\n",
       "      <td>0.035288</td>\n",
       "      <td>-0.006454</td>\n",
       "      <td>0.004814</td>\n",
       "    </tr>\n",
       "  </tbody>\n",
       "</table>\n",
       "</div>"
      ],
      "text/plain": [
       "   zone_id  abs_pct_error_new_mean  abs_pct_error_new_median  \\\n",
       "0        1                0.065522                  0.028191   \n",
       "1       79                0.035838                  0.040102   \n",
       "\n",
       "   abs_pct_error_old_mean  abs_pct_error_old_median  mean_diff  median_diff  \n",
       "0                0.075289                  0.042111  -0.009767    -0.013920  \n",
       "1                0.042291                  0.035288  -0.006454     0.004814  "
      ]
     },
     "execution_count": 427,
     "metadata": {},
     "output_type": "execute_result"
    }
   ],
   "source": [
    "### zone performance\n",
    "\n",
    "zp = f1.groupby('zone_id').agg({'abs_pct_error_new': ['mean', 'median'], 'abs_pct_error_old': ['mean', 'median']})\n",
    "zp.columns = ['_'.join(col).strip() for col in zp.columns.values]\n",
    "\n",
    "zp['mean_diff'] = zp.abs_pct_error_new_mean - zp.abs_pct_error_old_mean\n",
    "zp['median_diff'] = zp.abs_pct_error_new_median - zp.abs_pct_error_old_median\n",
    "\n",
    "zp.reset_index(inplace=True)\n",
    "\n",
    "zp.head(2)"
   ]
  },
  {
   "cell_type": "code",
   "execution_count": 1075,
   "id": "941bd7ae",
   "metadata": {
    "collapsed": true
   },
   "outputs": [
    {
     "data": {
      "text/html": [
       "<div>\n",
       "<style scoped>\n",
       "    .dataframe tbody tr th:only-of-type {\n",
       "        vertical-align: middle;\n",
       "    }\n",
       "\n",
       "    .dataframe tbody tr th {\n",
       "        vertical-align: top;\n",
       "    }\n",
       "\n",
       "    .dataframe thead th {\n",
       "        text-align: right;\n",
       "    }\n",
       "</style>\n",
       "<table border=\"1\" class=\"dataframe\">\n",
       "  <thead>\n",
       "    <tr style=\"text-align: right;\">\n",
       "      <th></th>\n",
       "      <th>zone_id</th>\n",
       "      <th>abs_pct_error_new_mean</th>\n",
       "      <th>abs_pct_error_new_median</th>\n",
       "      <th>abs_pct_error_old_mean</th>\n",
       "      <th>abs_pct_error_old_median</th>\n",
       "      <th>mean_diff</th>\n",
       "      <th>median_diff</th>\n",
       "    </tr>\n",
       "  </thead>\n",
       "  <tbody>\n",
       "    <tr>\n",
       "      <th>4</th>\n",
       "      <td>32</td>\n",
       "      <td>0.079717</td>\n",
       "      <td>0.079717</td>\n",
       "      <td>0.185021</td>\n",
       "      <td>0.185021</td>\n",
       "      <td>-0.105303</td>\n",
       "      <td>-0.105303</td>\n",
       "    </tr>\n",
       "    <tr>\n",
       "      <th>3</th>\n",
       "      <td>27</td>\n",
       "      <td>0.066588</td>\n",
       "      <td>0.066588</td>\n",
       "      <td>0.154937</td>\n",
       "      <td>0.154937</td>\n",
       "      <td>-0.088348</td>\n",
       "      <td>-0.088348</td>\n",
       "    </tr>\n",
       "    <tr>\n",
       "      <th>47</th>\n",
       "      <td>452</td>\n",
       "      <td>0.014834</td>\n",
       "      <td>0.014834</td>\n",
       "      <td>0.099895</td>\n",
       "      <td>0.099895</td>\n",
       "      <td>-0.085061</td>\n",
       "      <td>-0.085061</td>\n",
       "    </tr>\n",
       "    <tr>\n",
       "      <th>1</th>\n",
       "      <td>16</td>\n",
       "      <td>0.017256</td>\n",
       "      <td>0.017256</td>\n",
       "      <td>0.098427</td>\n",
       "      <td>0.098427</td>\n",
       "      <td>-0.081171</td>\n",
       "      <td>-0.081171</td>\n",
       "    </tr>\n",
       "    <tr>\n",
       "      <th>86</th>\n",
       "      <td>989</td>\n",
       "      <td>0.006577</td>\n",
       "      <td>0.006577</td>\n",
       "      <td>0.082141</td>\n",
       "      <td>0.082141</td>\n",
       "      <td>-0.075564</td>\n",
       "      <td>-0.075564</td>\n",
       "    </tr>\n",
       "  </tbody>\n",
       "</table>\n",
       "</div>"
      ],
      "text/plain": [
       "    zone_id  abs_pct_error_new_mean  abs_pct_error_new_median  \\\n",
       "4        32                0.079717                  0.079717   \n",
       "3        27                0.066588                  0.066588   \n",
       "47      452                0.014834                  0.014834   \n",
       "1        16                0.017256                  0.017256   \n",
       "86      989                0.006577                  0.006577   \n",
       "\n",
       "    abs_pct_error_old_mean  abs_pct_error_old_median  mean_diff  median_diff  \n",
       "4                 0.185021                  0.185021  -0.105303    -0.105303  \n",
       "3                 0.154937                  0.154937  -0.088348    -0.088348  \n",
       "47                0.099895                  0.099895  -0.085061    -0.085061  \n",
       "1                 0.098427                  0.098427  -0.081171    -0.081171  \n",
       "86                0.082141                  0.082141  -0.075564    -0.075564  "
      ]
     },
     "execution_count": 1075,
     "metadata": {},
     "output_type": "execute_result"
    }
   ],
   "source": [
    "zp.sort_values('median_diff').head()"
   ]
  },
  {
   "cell_type": "code",
   "execution_count": null,
   "id": "a612f0f6",
   "metadata": {},
   "outputs": [],
   "source": [
    "# top 3"
   ]
  },
  {
   "cell_type": "code",
   "execution_count": null,
   "id": "80147aef",
   "metadata": {},
   "outputs": [],
   "source": [
    "# 983 looking good, just extrapolating too much trend in recent period\n",
    "# maybe need a dampening parameter"
   ]
  },
  {
   "cell_type": "code",
   "execution_count": 1096,
   "id": "ed4097d7",
   "metadata": {},
   "outputs": [
    {
     "data": {
      "text/html": [
       "<div>\n",
       "<style scoped>\n",
       "    .dataframe tbody tr th:only-of-type {\n",
       "        vertical-align: middle;\n",
       "    }\n",
       "\n",
       "    .dataframe tbody tr th {\n",
       "        vertical-align: top;\n",
       "    }\n",
       "\n",
       "    .dataframe thead th {\n",
       "        text-align: right;\n",
       "    }\n",
       "</style>\n",
       "<table border=\"1\" class=\"dataframe\">\n",
       "  <thead>\n",
       "    <tr style=\"text-align: right;\">\n",
       "      <th></th>\n",
       "      <th>zone_id</th>\n",
       "      <th>smoothing_level</th>\n",
       "      <th>smoothing_trend</th>\n",
       "      <th>smoothing_season</th>\n",
       "    </tr>\n",
       "    <tr>\n",
       "      <th>pred_for_date</th>\n",
       "      <th></th>\n",
       "      <th></th>\n",
       "      <th></th>\n",
       "      <th></th>\n",
       "    </tr>\n",
       "  </thead>\n",
       "  <tbody>\n",
       "    <tr>\n",
       "      <th>2021-05-10</th>\n",
       "      <td>946</td>\n",
       "      <td>0.072141</td>\n",
       "      <td>0.998854</td>\n",
       "      <td>0.000005</td>\n",
       "    </tr>\n",
       "    <tr>\n",
       "      <th>2021-05-10</th>\n",
       "      <td>18</td>\n",
       "      <td>0.721577</td>\n",
       "      <td>0.010528</td>\n",
       "      <td>0.000047</td>\n",
       "    </tr>\n",
       "    <tr>\n",
       "      <th>2021-05-10</th>\n",
       "      <td>266</td>\n",
       "      <td>0.299178</td>\n",
       "      <td>0.071430</td>\n",
       "      <td>0.000027</td>\n",
       "    </tr>\n",
       "    <tr>\n",
       "      <th>2021-05-10</th>\n",
       "      <td>692</td>\n",
       "      <td>0.839284</td>\n",
       "      <td>0.075799</td>\n",
       "      <td>0.000234</td>\n",
       "    </tr>\n",
       "    <tr>\n",
       "      <th>2021-05-10</th>\n",
       "      <td>521</td>\n",
       "      <td>0.407648</td>\n",
       "      <td>0.065527</td>\n",
       "      <td>0.000083</td>\n",
       "    </tr>\n",
       "  </tbody>\n",
       "</table>\n",
       "</div>"
      ],
      "text/plain": [
       "               zone_id  smoothing_level  smoothing_trend  smoothing_season\n",
       "pred_for_date                                                             \n",
       "2021-05-10         946         0.072141         0.998854          0.000005\n",
       "2021-05-10          18         0.721577         0.010528          0.000047\n",
       "2021-05-10         266         0.299178         0.071430          0.000027\n",
       "2021-05-10         692         0.839284         0.075799          0.000234\n",
       "2021-05-10         521         0.407648         0.065527          0.000083"
      ]
     },
     "execution_count": 1096,
     "metadata": {},
     "output_type": "execute_result"
    }
   ],
   "source": [
    "f4_26.loc[f4_26.zone_id.isin(zp.sort_values('median_diff').tail().zone_id)][['zone_id', 'smoothing_level', 'smoothing_trend', 'smoothing_season']]"
   ]
  },
  {
   "cell_type": "code",
   "execution_count": 1104,
   "id": "98532cca",
   "metadata": {},
   "outputs": [
    {
     "data": {
      "text/html": [
       "<div>\n",
       "<style scoped>\n",
       "    .dataframe tbody tr th:only-of-type {\n",
       "        vertical-align: middle;\n",
       "    }\n",
       "\n",
       "    .dataframe tbody tr th {\n",
       "        vertical-align: top;\n",
       "    }\n",
       "\n",
       "    .dataframe thead th {\n",
       "        text-align: right;\n",
       "    }\n",
       "</style>\n",
       "<table border=\"1\" class=\"dataframe\">\n",
       "  <thead>\n",
       "    <tr style=\"text-align: right;\">\n",
       "      <th></th>\n",
       "      <th>date</th>\n",
       "      <th>total_demand_new</th>\n",
       "      <th>pred</th>\n",
       "      <th>total_demand_new_lag3</th>\n",
       "    </tr>\n",
       "    <tr>\n",
       "      <th>pred_for_date</th>\n",
       "      <th></th>\n",
       "      <th></th>\n",
       "      <th></th>\n",
       "      <th></th>\n",
       "    </tr>\n",
       "  </thead>\n",
       "  <tbody>\n",
       "    <tr>\n",
       "      <th>2021-05-10</th>\n",
       "      <td>2021-05-10</td>\n",
       "      <td>1464.051703</td>\n",
       "      <td>1872.358455</td>\n",
       "      <td>1642.712088</td>\n",
       "    </tr>\n",
       "  </tbody>\n",
       "</table>\n",
       "</div>"
      ],
      "text/plain": [
       "                     date  total_demand_new         pred  \\\n",
       "pred_for_date                                              \n",
       "2021-05-10     2021-05-10       1464.051703  1872.358455   \n",
       "\n",
       "               total_demand_new_lag3  \n",
       "pred_for_date                         \n",
       "2021-05-10               1642.712088  "
      ]
     },
     "execution_count": 1104,
     "metadata": {},
     "output_type": "execute_result"
    }
   ],
   "source": [
    "f4_26.loc[f4_26.zone_id == 692][['date', 'total_demand_new', 'pred', 'total_demand_new_lag3']]"
   ]
  },
  {
   "cell_type": "code",
   "execution_count": 1105,
   "id": "bf92bb1b",
   "metadata": {},
   "outputs": [
    {
     "data": {
      "image/png": "[encoded data removed]",
      "text/plain": [
       "<Figure size 432x288 with 1 Axes>"
      ]
     },
     "metadata": {},
     "output_type": "display_data"
    }
   ],
   "source": [
    "ax = df.loc[(df.zone_id == 692)&(df.date <= f_date + timedelta(weeks=HORIZON))][['total_demand_new', 'total_demand_new_lag3']].plot()\n",
    "\n",
    "f4_26.loc[f4_26.zone_id == 692].pred.plot(ax=ax)\n",
    "\n",
    "ax.xaxis.set_tick_params(rotation=45)"
   ]
  },
  {
   "cell_type": "code",
   "execution_count": 431,
   "id": "619763c0",
   "metadata": {},
   "outputs": [
    {
     "data": {
      "text/plain": [
       "<AxesSubplot:xlabel='date_idx'>"
      ]
     },
     "execution_count": 431,
     "metadata": {},
     "output_type": "execute_result"
    },
    {
     "data": {
      "image/png": "[encoded data removed]",
      "text/plain": [
       "<Figure size 432x288 with 1 Axes>"
      ]
     },
     "metadata": {},
     "output_type": "display_data"
    }
   ],
   "source": [
    "df.loc[df.zone_id == 983].total_demand_new.plot()"
   ]
  },
  {
   "cell_type": "code",
   "execution_count": 433,
   "id": "ad439241",
   "metadata": {},
   "outputs": [
    {
     "data": {
      "text/plain": [
       "<AxesSubplot:xlabel='date_idx'>"
      ]
     },
     "execution_count": 433,
     "metadata": {},
     "output_type": "execute_result"
    },
    {
     "data": {
      "image/png": "[encoded data removed]",
      "text/plain": [
       "<Figure size 432x288 with 1 Axes>"
      ]
     },
     "metadata": {},
     "output_type": "display_data"
    }
   ],
   "source": [
    "df.loc[df.zone_id == 861].total_demand_new.plot()"
   ]
  },
  {
   "cell_type": "code",
   "execution_count": 434,
   "id": "efaf119e",
   "metadata": {},
   "outputs": [
    {
     "data": {
      "text/plain": [
       "<AxesSubplot:xlabel='date_idx'>"
      ]
     },
     "execution_count": 434,
     "metadata": {},
     "output_type": "execute_result"
    },
    {
     "data": {
      "image/png": "[encoded data removed]",
      "text/plain": [
       "<Figure size 432x288 with 1 Axes>"
      ]
     },
     "metadata": {},
     "output_type": "display_data"
    }
   ],
   "source": [
    "df.loc[df.zone_id == 989].total_demand_new.plot()"
   ]
  },
  {
   "cell_type": "code",
   "execution_count": null,
   "id": "b90572a3",
   "metadata": {},
   "outputs": [],
   "source": [
    "# btm 3 (1001, 943, 787)"
   ]
  },
  {
   "cell_type": "code",
   "execution_count": 736,
   "id": "2ca157e5",
   "metadata": {},
   "outputs": [
    {
     "data": {
      "text/html": [
       "<div>\n",
       "<style scoped>\n",
       "    .dataframe tbody tr th:only-of-type {\n",
       "        vertical-align: middle;\n",
       "    }\n",
       "\n",
       "    .dataframe tbody tr th {\n",
       "        vertical-align: top;\n",
       "    }\n",
       "\n",
       "    .dataframe thead th {\n",
       "        text-align: right;\n",
       "    }\n",
       "</style>\n",
       "<table border=\"1\" class=\"dataframe\">\n",
       "  <thead>\n",
       "    <tr style=\"text-align: right;\">\n",
       "      <th></th>\n",
       "      <th>date</th>\n",
       "      <th>total_demand_new</th>\n",
       "      <th>pred</th>\n",
       "      <th>total_demand_new_lag3</th>\n",
       "    </tr>\n",
       "    <tr>\n",
       "      <th>pred_for_date</th>\n",
       "      <th></th>\n",
       "      <th></th>\n",
       "      <th></th>\n",
       "      <th></th>\n",
       "    </tr>\n",
       "  </thead>\n",
       "  <tbody>\n",
       "    <tr>\n",
       "      <th>2021-06-21</th>\n",
       "      <td>2021-06-21</td>\n",
       "      <td>4635.691899</td>\n",
       "      <td>4425.085032</td>\n",
       "      <td>4783.576204</td>\n",
       "    </tr>\n",
       "    <tr>\n",
       "      <th>2021-05-31</th>\n",
       "      <td>2021-05-31</td>\n",
       "      <td>4783.576204</td>\n",
       "      <td>4487.976940</td>\n",
       "      <td>4901.835912</td>\n",
       "    </tr>\n",
       "    <tr>\n",
       "      <th>2021-05-10</th>\n",
       "      <td>2021-05-10</td>\n",
       "      <td>4901.835912</td>\n",
       "      <td>5107.128759</td>\n",
       "      <td>5314.633336</td>\n",
       "    </tr>\n",
       "    <tr>\n",
       "      <th>2021-04-19</th>\n",
       "      <td>2021-04-19</td>\n",
       "      <td>5314.633336</td>\n",
       "      <td>5741.627466</td>\n",
       "      <td>5328.496810</td>\n",
       "    </tr>\n",
       "    <tr>\n",
       "      <th>2020-01-27</th>\n",
       "      <td>2020-01-27</td>\n",
       "      <td>2734.623225</td>\n",
       "      <td>2729.935405</td>\n",
       "      <td>2688.233743</td>\n",
       "    </tr>\n",
       "    <tr>\n",
       "      <th>2020-01-06</th>\n",
       "      <td>2020-01-06</td>\n",
       "      <td>2688.233743</td>\n",
       "      <td>2859.332854</td>\n",
       "      <td>2290.397509</td>\n",
       "    </tr>\n",
       "    <tr>\n",
       "      <th>2019-12-16</th>\n",
       "      <td>2019-12-16</td>\n",
       "      <td>2290.397509</td>\n",
       "      <td>2091.314580</td>\n",
       "      <td>2571.524910</td>\n",
       "    </tr>\n",
       "  </tbody>\n",
       "</table>\n",
       "</div>"
      ],
      "text/plain": [
       "                     date  total_demand_new         pred  \\\n",
       "pred_for_date                                              \n",
       "2021-06-21     2021-06-21       4635.691899  4425.085032   \n",
       "2021-05-31     2021-05-31       4783.576204  4487.976940   \n",
       "2021-05-10     2021-05-10       4901.835912  5107.128759   \n",
       "2021-04-19     2021-04-19       5314.633336  5741.627466   \n",
       "2020-01-27     2020-01-27       2734.623225  2729.935405   \n",
       "2020-01-06     2020-01-06       2688.233743  2859.332854   \n",
       "2019-12-16     2019-12-16       2290.397509  2091.314580   \n",
       "\n",
       "               total_demand_new_lag3  \n",
       "pred_for_date                         \n",
       "2021-06-21               4783.576204  \n",
       "2021-05-31               4901.835912  \n",
       "2021-05-10               5314.633336  \n",
       "2021-04-19               5328.496810  \n",
       "2020-01-27               2688.233743  \n",
       "2020-01-06               2290.397509  \n",
       "2019-12-16               2571.524910  "
      ]
     },
     "execution_count": 736,
     "metadata": {},
     "output_type": "execute_result"
    }
   ],
   "source": [
    "f4.loc[f4.zone_id == 974][['date', 'total_demand_new', 'pred', 'total_demand_new_lag3']]"
   ]
  },
  {
   "cell_type": "code",
   "execution_count": 732,
   "id": "0055012c",
   "metadata": {},
   "outputs": [
    {
     "data": {
      "image/png": "[encoded data removed]",
      "text/plain": [
       "<Figure size 432x288 with 1 Axes>"
      ]
     },
     "metadata": {},
     "output_type": "display_data"
    }
   ],
   "source": [
    "ax = df.loc[df.zone_id == 974][['total_demand_new', 'total_demand_new_lag3']].plot()\n",
    "\n",
    "f4.loc[f4.zone_id == 974].pred.plot(ax=ax)\n",
    "\n",
    "ax.xaxis.set_tick_params(rotation=45)"
   ]
  },
  {
   "cell_type": "code",
   "execution_count": 733,
   "id": "18e31fae",
   "metadata": {},
   "outputs": [
    {
     "data": {
      "text/html": [
       "<div>\n",
       "<style scoped>\n",
       "    .dataframe tbody tr th:only-of-type {\n",
       "        vertical-align: middle;\n",
       "    }\n",
       "\n",
       "    .dataframe tbody tr th {\n",
       "        vertical-align: top;\n",
       "    }\n",
       "\n",
       "    .dataframe thead th {\n",
       "        text-align: right;\n",
       "    }\n",
       "</style>\n",
       "<table border=\"1\" class=\"dataframe\">\n",
       "  <thead>\n",
       "    <tr style=\"text-align: right;\">\n",
       "      <th></th>\n",
       "      <th>date</th>\n",
       "      <th>total_demand_new</th>\n",
       "      <th>pred</th>\n",
       "      <th>total_demand_new_lag3</th>\n",
       "    </tr>\n",
       "    <tr>\n",
       "      <th>pred_for_date</th>\n",
       "      <th></th>\n",
       "      <th></th>\n",
       "      <th></th>\n",
       "      <th></th>\n",
       "    </tr>\n",
       "  </thead>\n",
       "  <tbody>\n",
       "    <tr>\n",
       "      <th>2021-06-21</th>\n",
       "      <td>2021-06-21</td>\n",
       "      <td>6428.423384</td>\n",
       "      <td>5920.677019</td>\n",
       "      <td>6512.364852</td>\n",
       "    </tr>\n",
       "    <tr>\n",
       "      <th>2021-05-31</th>\n",
       "      <td>2021-05-31</td>\n",
       "      <td>6512.364852</td>\n",
       "      <td>6308.358613</td>\n",
       "      <td>6642.146212</td>\n",
       "    </tr>\n",
       "    <tr>\n",
       "      <th>2021-05-10</th>\n",
       "      <td>2021-05-10</td>\n",
       "      <td>6642.146212</td>\n",
       "      <td>6914.151477</td>\n",
       "      <td>7097.163660</td>\n",
       "    </tr>\n",
       "    <tr>\n",
       "      <th>2021-04-19</th>\n",
       "      <td>2021-04-19</td>\n",
       "      <td>7097.163660</td>\n",
       "      <td>7147.823689</td>\n",
       "      <td>7299.164351</td>\n",
       "    </tr>\n",
       "    <tr>\n",
       "      <th>2020-01-27</th>\n",
       "      <td>2020-01-27</td>\n",
       "      <td>3031.638005</td>\n",
       "      <td>2889.873568</td>\n",
       "      <td>2959.022573</td>\n",
       "    </tr>\n",
       "    <tr>\n",
       "      <th>2020-01-06</th>\n",
       "      <td>2020-01-06</td>\n",
       "      <td>2959.022573</td>\n",
       "      <td>3161.603770</td>\n",
       "      <td>2606.750241</td>\n",
       "    </tr>\n",
       "    <tr>\n",
       "      <th>2019-12-16</th>\n",
       "      <td>2019-12-16</td>\n",
       "      <td>2606.750241</td>\n",
       "      <td>2623.576807</td>\n",
       "      <td>2909.170012</td>\n",
       "    </tr>\n",
       "  </tbody>\n",
       "</table>\n",
       "</div>"
      ],
      "text/plain": [
       "                     date  total_demand_new         pred  \\\n",
       "pred_for_date                                              \n",
       "2021-06-21     2021-06-21       6428.423384  5920.677019   \n",
       "2021-05-31     2021-05-31       6512.364852  6308.358613   \n",
       "2021-05-10     2021-05-10       6642.146212  6914.151477   \n",
       "2021-04-19     2021-04-19       7097.163660  7147.823689   \n",
       "2020-01-27     2020-01-27       3031.638005  2889.873568   \n",
       "2020-01-06     2020-01-06       2959.022573  3161.603770   \n",
       "2019-12-16     2019-12-16       2606.750241  2623.576807   \n",
       "\n",
       "               total_demand_new_lag3  \n",
       "pred_for_date                         \n",
       "2021-06-21               6512.364852  \n",
       "2021-05-31               6642.146212  \n",
       "2021-05-10               7097.163660  \n",
       "2021-04-19               7299.164351  \n",
       "2020-01-27               2959.022573  \n",
       "2020-01-06               2606.750241  \n",
       "2019-12-16               2909.170012  "
      ]
     },
     "execution_count": 733,
     "metadata": {},
     "output_type": "execute_result"
    }
   ],
   "source": [
    "f4.loc[f4.zone_id == 972][['date', 'total_demand_new', 'pred', 'total_demand_new_lag3']]"
   ]
  },
  {
   "cell_type": "code",
   "execution_count": 734,
   "id": "e74554ad",
   "metadata": {},
   "outputs": [
    {
     "data": {
      "image/png": "[encoded data removed]",
      "text/plain": [
       "<Figure size 432x288 with 1 Axes>"
      ]
     },
     "metadata": {},
     "output_type": "display_data"
    }
   ],
   "source": [
    "ax = df.loc[df.zone_id == 972][['total_demand_new', 'total_demand_new_lag3']].plot()\n",
    "\n",
    "f4.loc[f4.zone_id == 972].pred.plot(ax=ax)\n",
    "\n",
    "ax.xaxis.set_tick_params(rotation=45)"
   ]
  },
  {
   "cell_type": "code",
   "execution_count": 509,
   "id": "c33f252d",
   "metadata": {},
   "outputs": [
    {
     "data": {
      "text/html": [
       "<div>\n",
       "<style scoped>\n",
       "    .dataframe tbody tr th:only-of-type {\n",
       "        vertical-align: middle;\n",
       "    }\n",
       "\n",
       "    .dataframe tbody tr th {\n",
       "        vertical-align: top;\n",
       "    }\n",
       "\n",
       "    .dataframe thead th {\n",
       "        text-align: right;\n",
       "    }\n",
       "</style>\n",
       "<table border=\"1\" class=\"dataframe\">\n",
       "  <thead>\n",
       "    <tr style=\"text-align: right;\">\n",
       "      <th></th>\n",
       "      <th>date</th>\n",
       "      <th>total_demand_new</th>\n",
       "      <th>pred</th>\n",
       "      <th>total_demand_new_lag3</th>\n",
       "    </tr>\n",
       "    <tr>\n",
       "      <th>pred_for_date</th>\n",
       "      <th></th>\n",
       "      <th></th>\n",
       "      <th></th>\n",
       "      <th></th>\n",
       "    </tr>\n",
       "  </thead>\n",
       "  <tbody>\n",
       "    <tr>\n",
       "      <th>2021-06-21</th>\n",
       "      <td>2021-06-21</td>\n",
       "      <td>3004.375691</td>\n",
       "      <td>8.526171e+02</td>\n",
       "      <td>3265.079548</td>\n",
       "    </tr>\n",
       "    <tr>\n",
       "      <th>2021-05-31</th>\n",
       "      <td>2021-05-31</td>\n",
       "      <td>3265.079548</td>\n",
       "      <td>-1.013012e+02</td>\n",
       "      <td>3259.695788</td>\n",
       "    </tr>\n",
       "    <tr>\n",
       "      <th>2021-05-10</th>\n",
       "      <td>2021-05-10</td>\n",
       "      <td>3259.695788</td>\n",
       "      <td>-3.164240e+03</td>\n",
       "      <td>3560.283871</td>\n",
       "    </tr>\n",
       "    <tr>\n",
       "      <th>2021-04-19</th>\n",
       "      <td>2021-04-19</td>\n",
       "      <td>3560.283871</td>\n",
       "      <td>1.960622e+06</td>\n",
       "      <td>3637.874023</td>\n",
       "    </tr>\n",
       "    <tr>\n",
       "      <th>2020-01-27</th>\n",
       "      <td>2020-01-27</td>\n",
       "      <td>1461.759721</td>\n",
       "      <td>1.494049e+03</td>\n",
       "      <td>1335.743291</td>\n",
       "    </tr>\n",
       "    <tr>\n",
       "      <th>2020-01-06</th>\n",
       "      <td>2020-01-06</td>\n",
       "      <td>1335.743291</td>\n",
       "      <td>1.524767e+03</td>\n",
       "      <td>1263.330682</td>\n",
       "    </tr>\n",
       "    <tr>\n",
       "      <th>2019-12-16</th>\n",
       "      <td>2019-12-16</td>\n",
       "      <td>1263.330682</td>\n",
       "      <td>1.314865e+03</td>\n",
       "      <td>1253.453050</td>\n",
       "    </tr>\n",
       "  </tbody>\n",
       "</table>\n",
       "</div>"
      ],
      "text/plain": [
       "                     date  total_demand_new          pred  \\\n",
       "pred_for_date                                               \n",
       "2021-06-21     2021-06-21       3004.375691  8.526171e+02   \n",
       "2021-05-31     2021-05-31       3265.079548 -1.013012e+02   \n",
       "2021-05-10     2021-05-10       3259.695788 -3.164240e+03   \n",
       "2021-04-19     2021-04-19       3560.283871  1.960622e+06   \n",
       "2020-01-27     2020-01-27       1461.759721  1.494049e+03   \n",
       "2020-01-06     2020-01-06       1335.743291  1.524767e+03   \n",
       "2019-12-16     2019-12-16       1263.330682  1.314865e+03   \n",
       "\n",
       "               total_demand_new_lag3  \n",
       "pred_for_date                         \n",
       "2021-06-21               3265.079548  \n",
       "2021-05-31               3259.695788  \n",
       "2021-05-10               3560.283871  \n",
       "2021-04-19               3637.874023  \n",
       "2020-01-27               1335.743291  \n",
       "2020-01-06               1263.330682  \n",
       "2019-12-16               1253.453050  "
      ]
     },
     "execution_count": 509,
     "metadata": {},
     "output_type": "execute_result"
    }
   ],
   "source": [
    "f1.loc[f1.zone_id == 787][['date', 'total_demand_new', 'pred', 'total_demand_new_lag3']]"
   ]
  },
  {
   "cell_type": "code",
   "execution_count": 510,
   "id": "3f851fd1",
   "metadata": {},
   "outputs": [
    {
     "data": {
      "image/png": "[encoded data removed]",
      "text/plain": [
       "<Figure size 432x288 with 1 Axes>"
      ]
     },
     "metadata": {},
     "output_type": "display_data"
    }
   ],
   "source": [
    "ax = df.loc[df.zone_id == 787][['total_demand_new', 'total_demand_new_lag3']].plot()\n",
    "\n",
    "f1.loc[f1.zone_id == 787].pred.plot(ax=ax)\n",
    "\n",
    "ax.xaxis.set_tick_params(rotation=45)"
   ]
  },
  {
   "cell_type": "code",
   "execution_count": 737,
   "id": "9290d207",
   "metadata": {},
   "outputs": [
    {
     "name": "stderr",
     "output_type": "stream",
     "text": [
      "/Users/sorenzeliger/.pyenv/versions/3.8.6/lib/python3.8/site-packages/seaborn/distributions.py:2557: FutureWarning: `distplot` is a deprecated function and will be removed in a future version. Please adapt your code to use either `displot` (a figure-level function with similar flexibility) or `histplot` (an axes-level function for histograms).\n",
      "  warnings.warn(msg, FutureWarning)\n",
      "/Users/sorenzeliger/.pyenv/versions/3.8.6/lib/python3.8/site-packages/seaborn/distributions.py:2557: FutureWarning: `distplot` is a deprecated function and will be removed in a future version. Please adapt your code to use either `displot` (a figure-level function with similar flexibility) or `histplot` (an axes-level function for histograms).\n",
      "  warnings.warn(msg, FutureWarning)\n"
     ]
    },
    {
     "data": {
      "text/plain": [
       "<matplotlib.legend.Legend at 0x1600a8d30>"
      ]
     },
     "execution_count": 737,
     "metadata": {},
     "output_type": "execute_result"
    },
    {
     "data": {
      "image/png": "[encoded data removed]",
      "text/plain": [
       "<Figure size 432x288 with 1 Axes>"
      ]
     },
     "metadata": {},
     "output_type": "display_data"
    }
   ],
   "source": [
    "ax = sns.distplot(f4.error_new, label='new')\n",
    "sns.distplot(f4.error_old, label='old')\n",
    "\n",
    "ax.legend(loc='best')"
   ]
  }
 ],
 "metadata": {
  "kernelspec": {
   "display_name": "Python 3",
   "language": "python",
   "name": "python3"
  },
  "language_info": {
   "codemirror_mode": {
    "name": "ipython",
    "version": 3
   },
   "file_extension": ".py",
   "mimetype": "text/x-python",
   "name": "python",
   "nbconvert_exporter": "python",
   "pygments_lexer": "ipython3",
   "version": "3.8.6"
  }
 },
 "nbformat": 4,
 "nbformat_minor": 5
}
