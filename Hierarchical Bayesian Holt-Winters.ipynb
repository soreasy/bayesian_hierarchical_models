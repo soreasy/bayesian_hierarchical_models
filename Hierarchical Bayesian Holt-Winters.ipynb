{
 "cells": [
  {
   "cell_type": "code",
   "execution_count": 2,
   "id": "e16146cc",
   "metadata": {},
   "outputs": [],
   "source": [
    "import pymc3 as pm\n",
    "import theano\n",
    "import theano.tensor as tt\n",
    "\n",
    "import pandas as pd\n",
    "import numpy as np\n",
    "from datetime import datetime, timedelta, date\n",
    "\n",
    "import seaborn as sns\n",
    "\n",
    "import matplotlib.pyplot as plt\n",
    "import matplotlib.style as style\n",
    "style.use('ggplot')"
   ]
  },
  {
   "cell_type": "code",
   "execution_count": 320,
   "id": "8752718f",
   "metadata": {},
   "outputs": [
    {
     "data": {
      "text/html": [
       "<div>\n",
       "<style scoped>\n",
       "    .dataframe tbody tr th:only-of-type {\n",
       "        vertical-align: middle;\n",
       "    }\n",
       "\n",
       "    .dataframe tbody tr th {\n",
       "        vertical-align: top;\n",
       "    }\n",
       "\n",
       "    .dataframe thead th {\n",
       "        text-align: right;\n",
       "    }\n",
       "</style>\n",
       "<table border=\"1\" class=\"dataframe\">\n",
       "  <thead>\n",
       "    <tr style=\"text-align: right;\">\n",
       "      <th></th>\n",
       "      <th>zone_id</th>\n",
       "      <th>date</th>\n",
       "      <th>total_demand_new</th>\n",
       "      <th>total_demand_new_lag1</th>\n",
       "      <th>total_demand_new_lag2</th>\n",
       "      <th>total_demand_new_lag3</th>\n",
       "      <th>total_demand_new_lag-1</th>\n",
       "      <th>total_demand_new_lag-2</th>\n",
       "      <th>total_demand_new_lag-3</th>\n",
       "      <th>smoothed_total_demand</th>\n",
       "      <th>year</th>\n",
       "      <th>total_demand_new_lag4</th>\n",
       "      <th>t4w_total_demand</th>\n",
       "      <th>month</th>\n",
       "      <th>week</th>\n",
       "      <th>day</th>\n",
       "      <th>t4w_total_demand_lag2</th>\n",
       "      <th>szn_factor</th>\n",
       "    </tr>\n",
       "    <tr>\n",
       "      <th>date_idx</th>\n",
       "      <th></th>\n",
       "      <th></th>\n",
       "      <th></th>\n",
       "      <th></th>\n",
       "      <th></th>\n",
       "      <th></th>\n",
       "      <th></th>\n",
       "      <th></th>\n",
       "      <th></th>\n",
       "      <th></th>\n",
       "      <th></th>\n",
       "      <th></th>\n",
       "      <th></th>\n",
       "      <th></th>\n",
       "      <th></th>\n",
       "      <th></th>\n",
       "      <th></th>\n",
       "      <th></th>\n",
       "    </tr>\n",
       "  </thead>\n",
       "  <tbody>\n",
       "    <tr>\n",
       "      <th>2017-07-10</th>\n",
       "      <td>1</td>\n",
       "      <td>2017-07-10</td>\n",
       "      <td>2156.459303</td>\n",
       "      <td>NaN</td>\n",
       "      <td>NaN</td>\n",
       "      <td>NaN</td>\n",
       "      <td>2110.494687</td>\n",
       "      <td>2194.632691</td>\n",
       "      <td>2186.039578</td>\n",
       "      <td>NaN</td>\n",
       "      <td>2017</td>\n",
       "      <td>NaN</td>\n",
       "      <td>NaN</td>\n",
       "      <td>7</td>\n",
       "      <td>28</td>\n",
       "      <td>10</td>\n",
       "      <td>NaN</td>\n",
       "      <td>NaN</td>\n",
       "    </tr>\n",
       "    <tr>\n",
       "      <th>2017-07-10</th>\n",
       "      <td>597</td>\n",
       "      <td>2017-07-10</td>\n",
       "      <td>0.000000</td>\n",
       "      <td>NaN</td>\n",
       "      <td>NaN</td>\n",
       "      <td>NaN</td>\n",
       "      <td>0.000000</td>\n",
       "      <td>0.000000</td>\n",
       "      <td>0.000000</td>\n",
       "      <td>NaN</td>\n",
       "      <td>2017</td>\n",
       "      <td>NaN</td>\n",
       "      <td>NaN</td>\n",
       "      <td>7</td>\n",
       "      <td>28</td>\n",
       "      <td>10</td>\n",
       "      <td>NaN</td>\n",
       "      <td>NaN</td>\n",
       "    </tr>\n",
       "  </tbody>\n",
       "</table>\n",
       "</div>"
      ],
      "text/plain": [
       "            zone_id        date  total_demand_new  total_demand_new_lag1  \\\n",
       "date_idx                                                                   \n",
       "2017-07-10        1  2017-07-10       2156.459303                    NaN   \n",
       "2017-07-10      597  2017-07-10          0.000000                    NaN   \n",
       "\n",
       "            total_demand_new_lag2  total_demand_new_lag3  \\\n",
       "date_idx                                                   \n",
       "2017-07-10                    NaN                    NaN   \n",
       "2017-07-10                    NaN                    NaN   \n",
       "\n",
       "            total_demand_new_lag-1  total_demand_new_lag-2  \\\n",
       "date_idx                                                     \n",
       "2017-07-10             2110.494687             2194.632691   \n",
       "2017-07-10                0.000000                0.000000   \n",
       "\n",
       "            total_demand_new_lag-3  smoothed_total_demand  year  \\\n",
       "date_idx                                                          \n",
       "2017-07-10             2186.039578                    NaN  2017   \n",
       "2017-07-10                0.000000                    NaN  2017   \n",
       "\n",
       "            total_demand_new_lag4  t4w_total_demand  month  week  day  \\\n",
       "date_idx                                                                \n",
       "2017-07-10                    NaN               NaN      7    28   10   \n",
       "2017-07-10                    NaN               NaN      7    28   10   \n",
       "\n",
       "            t4w_total_demand_lag2  szn_factor  \n",
       "date_idx                                       \n",
       "2017-07-10                    NaN         NaN  \n",
       "2017-07-10                    NaN         NaN  "
      ]
     },
     "execution_count": 320,
     "metadata": {},
     "output_type": "execute_result"
    }
   ],
   "source": [
    "df = pd.read_csv('weekly_dmd_new.csv')\n",
    "df['date'] = pd.to_datetime(df.date).apply(lambda x: x.date())\n",
    "df = df.set_index(df.date)\n",
    "df.index.rename('date_idx', inplace=True)\n",
    "df.head(2)"
   ]
  },
  {
   "cell_type": "code",
   "execution_count": 321,
   "id": "4c6e637f",
   "metadata": {},
   "outputs": [],
   "source": [
    "covid_start_idx = date(2020,2,17)\n",
    "\n",
    "df_prep = df.loc[(df.date < covid_start_idx)\n",
    "                | (df.date >= covid_start_idx + timedelta(weeks=52))].sort_values('date')\n",
    "\n",
    "df_prep['y_obs'] = df_prep.total_demand_new\n",
    "# df_prep['y_obs'] = df_prep.smoothed_total_demand\n",
    "df_prep['covid_start_m1'] = df_prep.date.apply(lambda x: 1.0 if x == covid_start_idx - timedelta(weeks=1) else 0)"
   ]
  },
  {
   "cell_type": "code",
   "execution_count": null,
   "id": "5653aff0",
   "metadata": {},
   "outputs": [],
   "source": [
    "# [] remove first X (3?) weeks for each zone?\n",
    "# [] how to align ish\n",
    "    # should be aligned temporally\n",
    "    # can access the season estimates based on time t then?\n",
    "    # will have to do a theano.scan for each of the zones -- for zones that started after the oldest zone, do they not get initial seasons then? are their initial seasons just the 52 prior \n",
    "\n",
    "# maybe initial level and initial trend can be unique to each zone, but other params come from a shared distribution\n",
    "\n",
    "# so the \"parent\" distribution for initial szns should be ordered/accessed based on time\n",
    "\n",
    "# so s'pose we have\n",
    "# szn_len = 4\n",
    "#  t: 0,1,2,3,4,5,...\n",
    "# z1: 3,4,8,2,5,6,...\n",
    "# z2: _,_,_,1,3,4,...\n",
    "\n",
    "# initial_szns = s1,s2,s3,s4\n",
    "\n",
    "# the first non-zero entry for z2 is the 4th season\n",
    "# so the initial_szns passed to z2's theano.scan should be ordered as [s4,s1,s2,s3]\n",
    "\n",
    "# s1_mu ~ Uniform[0,1]\n",
    "# s1_sigma ~ HalfCauchy(0.5)\n",
    "# s1_mu_z1 ~ TruncatedNormal(s1_mu, s1_sigma, upper=1, lower=0)\n"
   ]
  },
  {
   "cell_type": "code",
   "execution_count": null,
   "id": "34b9c73a",
   "metadata": {},
   "outputs": [],
   "source": [
    "zone_list = dd.zone_id.unique()\n",
    "dd['zone_idx'] = dd.zone_id.apply(lambda x: np.where(zone_list == x)[0][0])\n",
    "\n",
    "# does this need to be mapped to [0,len(dd.zone_id.unique())-1] ? seems yes\n",
    "zone_idx = dd.zone_idx.values"
   ]
  },
  {
   "cell_type": "code",
   "execution_count": null,
   "id": "2ebffc36",
   "metadata": {},
   "outputs": [],
   "source": [
    "df_prep"
   ]
  },
  {
   "cell_type": "code",
   "execution_count": 105,
   "id": "c70082fa",
   "metadata": {},
   "outputs": [],
   "source": [
    "def fit_hw_model(zdf, initial_lvl_upper):\n",
    "    szn_len = 52\n",
    "\n",
    "    with pm.Model() as hw_model:\n",
    "    #     initial_level = pm.Normal(f'initial_level', mu=3000, sigma=400)\n",
    "#         initial_level = pm.Uniform(f'initial_level', lower=0, upper=5000)\n",
    "        initial_level = pm.Uniform(f'initial_level', lower=0, upper=initial_lvl_upper, shape=(df_prep.zone_id.nunique()))\n",
    "    \n",
    "        smoothing_level_mu = pm.Uniform('smoothing_level_mu', lower=0, upper=1)\n",
    "        smoothing_level_sigma = pm.HalfCauchy('smoothing_level_sigma', beta=0.5)\n",
    "        smoothing_level = pm.TruncatedNormal('smoothing_level', mu=smoothing_level_mu, sigma=smoothing_level_sigma, lower=0, upper=1, shape=(df_prep.zone_id.nunique()))\n",
    "#         smoothing_level = pm.Normal('smoothing_level', mu=0.5, sigma=0.5)\n",
    "\n",
    "    #     initial_trend = pm.Normal(f'initial_trend', mu=0, sigma=100)\n",
    "#         initial_trend = pm.Uniform(f'initial_trend', lower=-1000, upper=1000)\n",
    "        initial_trend = pm.Uniform(f'initial_trend', lower=-initial_lvl_upper/2, upper=initial_lvl_upper/2)\n",
    "        \n",
    "        smoothing_trend_mu = pm.Uniform('smoothing_trend_mu', lower=0, upper=1)\n",
    "        smoothing_trend_sigma = pm.HalfCauchy('smoothing_trend_sigma', beta=0.5)\n",
    "        smoothing_trend = pm.TruncatedNormal('smoothing_trend', mu=smoothing_trend_mu, sigma=smoothing_trend_sigma, lower=0, upper=1, shape=(df_prep.zone_id.nunique()))\n",
    "#         smoothing_trend = pm.Uniform('smoothing_trend', lower=0, upper=1)\n",
    "    #     smoothing_trend = pm.Normal('smoothing_trend', mu=0.5, sigma=0.5)\n",
    "    \n",
    "        \n",
    "        # \n",
    "        initial_szns_mus = pm.Normal('initial_szns_mus', mu=1.0, sigma=0.2, shape=(szn_len))\n",
    "        initial_szns = pm.Normal('initial_szns', mu=initial_szns_mus, sigma=0.2, shape=(df_prep.zone_id.nunique(), szn_len))\n",
    "    #     initial_szns = pm.Uniform('initial_szns', lower=0.7, upper=1.3, shape=(szn_len))\n",
    "    #     smoothing_season = pm.Uniform('smoothing_season', lower=0, upper=1)\n",
    "    #     smoothing_season = pm.Uniform('smoothing_season', lower=0, upper=1)\n",
    "    #     smoothing_season = pm.Uniform('smoothing_season', lower=0, upper=1-smoothing_level)\n",
    "        smoothing_season_mu = pm.Uniform('smoothing_season_mu', lower=0, upper=1)\n",
    "        smoothing_season_sigma = pm.HalfCauchy('smoothing_season_sigma', beta=0.5)\n",
    "        smoothing_season = pm.TruncatedNormal('smoothing_season', mu=smoothing_season_mu, sigma=smoothing_season_sigma, lower=0, upper=1, shape=(df_prep.zone_id.nunique()))\n",
    "#         smoothing_season = pm.TruncatedNormal('smoothing_season', mu=0.2, sigma=0.5, lower=0, upper=0.8)\n",
    "    #     smoothing_season = pm.Normal('smoothing_season', mu=0.5, sigma=0.5)\n",
    "\n",
    "        ys = tt.as_tensor_variable(zdf['y_obs'])\n",
    "        is_covid_start = tt.as_tensor_variable(zdf['covid_start_m1'])\n",
    "    #     covid_level_change = pm.Normal('covid_level_change', mu=15000, sigma=2000)\n",
    "        covid_level_change = pm.Uniform('covid_level_change', lower=0, upper=5000)\n",
    "#         covid_level_change = pm.Normal('covid_level_change', mu=2000, sigma=1000)\n",
    "    #     covid_level_change2 = pm.Normal('covid_level_change2', mu=20000, sigma=2000)\n",
    "        covid_level_change2 = pm.Uniform('covid_level_change2', lower=0, upper=5000)\n",
    "    #     covid_level_change2 = pm.Normal('covid_level_change2', mu=covid_level_change, sigma=1000)\n",
    "    #     covid_level_change2 = pm.Normal('covid_level_change2', mu=covid_level_change, sigma=1000)\n",
    "\n",
    "        def hw_component_wise(y, covid_start, prior_level, prior_trend, szn_m52):\n",
    "            updated_szn = smoothing_season * y / (prior_level + prior_trend) + (1 - smoothing_season) * szn_m52\n",
    "\n",
    "\n",
    "            next_level = smoothing_level * (y/szn_m52) + (1 - smoothing_level)*(prior_level + prior_trend) + covid_start*covid_level_change\n",
    "            next_trend = smoothing_trend * (next_level - prior_level) + (1 - smoothing_trend)*prior_trend - covid_start*smoothing_trend*covid_level_change2\n",
    "\n",
    "\n",
    "            return next_level, next_trend, updated_szn\n",
    "\n",
    "        # pass initial_level[zone_idx], initial_trend[zone_idx], initial_szns[zone_idx] etc\n",
    "        # should the scan be wrapped in a scan too??\n",
    "            # the outer scan would loop through each zone and pass each zone's initial params and data to the inner scan that calls hw_component_wise\n",
    "        outputs, updates = theano.scan(hw_component_wise,\n",
    "               sequences = [\n",
    "                   ys[1:],\n",
    "#                    ys[szn_len:],\n",
    "                   is_covid_start[1:]\n",
    "#                    is_covid_start[szn_len:]\n",
    "        #            post_covid[szn_len:]\n",
    "               ],\n",
    "               outputs_info = [\n",
    "                   dict(initial = initial_level, taps=None),\n",
    "                   dict(initial = initial_trend, taps=None),\n",
    "                   dict(initial = initial_szns, taps=[-szn_len])\n",
    "               ], \n",
    "        #            non_sequences = \n",
    "               )\n",
    "\n",
    "\n",
    "        levels = outputs[0]\n",
    "        trends = outputs[1]\n",
    "        seasons = outputs[2]\n",
    "\n",
    "\n",
    "        levels_f = pm.math.concatenate([initial_level.reshape(1,1), levels[:-1]])\n",
    "        trends_f = pm.math.concatenate([initial_trend.reshape(1,1), trends[:-1]])\n",
    "        seasons_f = pm.math.concatenate([initial_szns, seasons[:-szn_len]])\n",
    "\n",
    "        levels_and_trends = pm.math.stack([levels_f, trends_f])\n",
    "        level_plus_trend = levels_and_trends.sum(axis=0)\n",
    "\n",
    "        level_plus_trend_and_seasons = pm.math.stack([level_plus_trend, seasons_f])\n",
    "        y_hats = level_plus_trend_and_seasons.prod(axis=0)\n",
    "\n",
    "        sig = pm.HalfCauchy('sigma', beta=10)\n",
    "#         y_like = pm.Normal('y_like', mu=y_hats, sigma=sig, observed=zdf.iloc[szn_len-1:-1, :]['y_obs_lag-1'])\n",
    "        y_like = pm.Normal('y_like', mu=y_hats, sigma=sig, observed=zdf.iloc[:-1, :]['y_obs_lag-1'])\n",
    "        \n",
    "    map_estimate = pm.find_MAP(model=hw_model)\n",
    "    \n",
    "    return map_estimate, ys, is_covid_start"
   ]
  },
  {
   "cell_type": "code",
   "execution_count": 322,
   "id": "41da3d20",
   "metadata": {},
   "outputs": [],
   "source": [
    "d2 = df_prep.loc[df_prep.zone_id.isin([1,13])]"
   ]
  },
  {
   "cell_type": "code",
   "execution_count": 479,
   "id": "d67dee4b",
   "metadata": {},
   "outputs": [
    {
     "name": "stderr",
     "output_type": "stream",
     "text": [
      "<ipython-input-479-8e0f7511f979>:2: SettingWithCopyWarning: \n",
      "A value is trying to be set on a copy of a slice from a DataFrame.\n",
      "Try using .loc[row_indexer,col_indexer] = value instead\n",
      "\n",
      "See the caveats in the documentation: https://pandas.pydata.org/pandas-docs/stable/user_guide/indexing.html#returning-a-view-versus-a-copy\n",
      "  d2['zone_idx'] = d2.zone_id.apply(lambda x: np.where(zone_list == x)[0][0])\n"
     ]
    }
   ],
   "source": [
    "zone_list = d2.zone_id.unique()\n",
    "d2['zone_idx'] = d2.zone_id.apply(lambda x: np.where(zone_list == x)[0][0])\n",
    "\n",
    "# does this need to be mapped to [0,len(dd.zone_id.unique())-1] ? seems yes\n",
    "zone_idx = d2.zone_idx.values"
   ]
  },
  {
   "cell_type": "code",
   "execution_count": 324,
   "id": "f43d4770",
   "metadata": {},
   "outputs": [
    {
     "data": {
      "text/html": [
       "<div>\n",
       "<style scoped>\n",
       "    .dataframe tbody tr th:only-of-type {\n",
       "        vertical-align: middle;\n",
       "    }\n",
       "\n",
       "    .dataframe tbody tr th {\n",
       "        vertical-align: top;\n",
       "    }\n",
       "\n",
       "    .dataframe thead th {\n",
       "        text-align: right;\n",
       "    }\n",
       "</style>\n",
       "<table border=\"1\" class=\"dataframe\">\n",
       "  <thead>\n",
       "    <tr style=\"text-align: right;\">\n",
       "      <th></th>\n",
       "      <th>zone_id</th>\n",
       "      <th>date</th>\n",
       "      <th>total_demand_new</th>\n",
       "      <th>total_demand_new_lag1</th>\n",
       "      <th>total_demand_new_lag2</th>\n",
       "      <th>total_demand_new_lag3</th>\n",
       "      <th>total_demand_new_lag-1</th>\n",
       "      <th>total_demand_new_lag-2</th>\n",
       "      <th>total_demand_new_lag-3</th>\n",
       "      <th>smoothed_total_demand</th>\n",
       "      <th>...</th>\n",
       "      <th>total_demand_new_lag4</th>\n",
       "      <th>t4w_total_demand</th>\n",
       "      <th>month</th>\n",
       "      <th>week</th>\n",
       "      <th>day</th>\n",
       "      <th>t4w_total_demand_lag2</th>\n",
       "      <th>szn_factor</th>\n",
       "      <th>y_obs</th>\n",
       "      <th>covid_start_m1</th>\n",
       "      <th>zone_idx</th>\n",
       "    </tr>\n",
       "    <tr>\n",
       "      <th>date_idx</th>\n",
       "      <th></th>\n",
       "      <th></th>\n",
       "      <th></th>\n",
       "      <th></th>\n",
       "      <th></th>\n",
       "      <th></th>\n",
       "      <th></th>\n",
       "      <th></th>\n",
       "      <th></th>\n",
       "      <th></th>\n",
       "      <th></th>\n",
       "      <th></th>\n",
       "      <th></th>\n",
       "      <th></th>\n",
       "      <th></th>\n",
       "      <th></th>\n",
       "      <th></th>\n",
       "      <th></th>\n",
       "      <th></th>\n",
       "      <th></th>\n",
       "      <th></th>\n",
       "    </tr>\n",
       "  </thead>\n",
       "  <tbody>\n",
       "    <tr>\n",
       "      <th>2017-07-10</th>\n",
       "      <td>1</td>\n",
       "      <td>2017-07-10</td>\n",
       "      <td>2156.459303</td>\n",
       "      <td>NaN</td>\n",
       "      <td>NaN</td>\n",
       "      <td>NaN</td>\n",
       "      <td>2110.494687</td>\n",
       "      <td>2194.632691</td>\n",
       "      <td>2186.039578</td>\n",
       "      <td>NaN</td>\n",
       "      <td>...</td>\n",
       "      <td>NaN</td>\n",
       "      <td>NaN</td>\n",
       "      <td>7</td>\n",
       "      <td>28</td>\n",
       "      <td>10</td>\n",
       "      <td>NaN</td>\n",
       "      <td>NaN</td>\n",
       "      <td>2156.459303</td>\n",
       "      <td>0.0</td>\n",
       "      <td>0</td>\n",
       "    </tr>\n",
       "    <tr>\n",
       "      <th>2017-07-10</th>\n",
       "      <td>13</td>\n",
       "      <td>2017-07-10</td>\n",
       "      <td>353.463568</td>\n",
       "      <td>NaN</td>\n",
       "      <td>NaN</td>\n",
       "      <td>NaN</td>\n",
       "      <td>345.466023</td>\n",
       "      <td>350.206164</td>\n",
       "      <td>360.568384</td>\n",
       "      <td>NaN</td>\n",
       "      <td>...</td>\n",
       "      <td>NaN</td>\n",
       "      <td>NaN</td>\n",
       "      <td>7</td>\n",
       "      <td>28</td>\n",
       "      <td>10</td>\n",
       "      <td>NaN</td>\n",
       "      <td>NaN</td>\n",
       "      <td>353.463568</td>\n",
       "      <td>0.0</td>\n",
       "      <td>1</td>\n",
       "    </tr>\n",
       "    <tr>\n",
       "      <th>2017-07-17</th>\n",
       "      <td>13</td>\n",
       "      <td>2017-07-17</td>\n",
       "      <td>345.466023</td>\n",
       "      <td>353.463568</td>\n",
       "      <td>NaN</td>\n",
       "      <td>NaN</td>\n",
       "      <td>350.206164</td>\n",
       "      <td>360.568384</td>\n",
       "      <td>349.628004</td>\n",
       "      <td>NaN</td>\n",
       "      <td>...</td>\n",
       "      <td>NaN</td>\n",
       "      <td>NaN</td>\n",
       "      <td>7</td>\n",
       "      <td>29</td>\n",
       "      <td>17</td>\n",
       "      <td>NaN</td>\n",
       "      <td>NaN</td>\n",
       "      <td>345.466023</td>\n",
       "      <td>0.0</td>\n",
       "      <td>1</td>\n",
       "    </tr>\n",
       "    <tr>\n",
       "      <th>2017-07-17</th>\n",
       "      <td>1</td>\n",
       "      <td>2017-07-17</td>\n",
       "      <td>2110.494687</td>\n",
       "      <td>2156.459303</td>\n",
       "      <td>NaN</td>\n",
       "      <td>NaN</td>\n",
       "      <td>2194.632691</td>\n",
       "      <td>2186.039578</td>\n",
       "      <td>2171.274071</td>\n",
       "      <td>NaN</td>\n",
       "      <td>...</td>\n",
       "      <td>NaN</td>\n",
       "      <td>NaN</td>\n",
       "      <td>7</td>\n",
       "      <td>29</td>\n",
       "      <td>17</td>\n",
       "      <td>NaN</td>\n",
       "      <td>NaN</td>\n",
       "      <td>2110.494687</td>\n",
       "      <td>0.0</td>\n",
       "      <td>0</td>\n",
       "    </tr>\n",
       "    <tr>\n",
       "      <th>2017-07-24</th>\n",
       "      <td>13</td>\n",
       "      <td>2017-07-24</td>\n",
       "      <td>350.206164</td>\n",
       "      <td>345.466023</td>\n",
       "      <td>353.463568</td>\n",
       "      <td>NaN</td>\n",
       "      <td>360.568384</td>\n",
       "      <td>349.628004</td>\n",
       "      <td>352.812292</td>\n",
       "      <td>352.281495</td>\n",
       "      <td>...</td>\n",
       "      <td>NaN</td>\n",
       "      <td>NaN</td>\n",
       "      <td>7</td>\n",
       "      <td>30</td>\n",
       "      <td>24</td>\n",
       "      <td>NaN</td>\n",
       "      <td>NaN</td>\n",
       "      <td>350.206164</td>\n",
       "      <td>0.0</td>\n",
       "      <td>1</td>\n",
       "    </tr>\n",
       "  </tbody>\n",
       "</table>\n",
       "<p>5 rows × 21 columns</p>\n",
       "</div>"
      ],
      "text/plain": [
       "            zone_id        date  total_demand_new  total_demand_new_lag1  \\\n",
       "date_idx                                                                   \n",
       "2017-07-10        1  2017-07-10       2156.459303                    NaN   \n",
       "2017-07-10       13  2017-07-10        353.463568                    NaN   \n",
       "2017-07-17       13  2017-07-17        345.466023             353.463568   \n",
       "2017-07-17        1  2017-07-17       2110.494687            2156.459303   \n",
       "2017-07-24       13  2017-07-24        350.206164             345.466023   \n",
       "\n",
       "            total_demand_new_lag2  total_demand_new_lag3  \\\n",
       "date_idx                                                   \n",
       "2017-07-10                    NaN                    NaN   \n",
       "2017-07-10                    NaN                    NaN   \n",
       "2017-07-17                    NaN                    NaN   \n",
       "2017-07-17                    NaN                    NaN   \n",
       "2017-07-24             353.463568                    NaN   \n",
       "\n",
       "            total_demand_new_lag-1  total_demand_new_lag-2  \\\n",
       "date_idx                                                     \n",
       "2017-07-10             2110.494687             2194.632691   \n",
       "2017-07-10              345.466023              350.206164   \n",
       "2017-07-17              350.206164              360.568384   \n",
       "2017-07-17             2194.632691             2186.039578   \n",
       "2017-07-24              360.568384              349.628004   \n",
       "\n",
       "            total_demand_new_lag-3  smoothed_total_demand  ...  \\\n",
       "date_idx                                                   ...   \n",
       "2017-07-10             2186.039578                    NaN  ...   \n",
       "2017-07-10              360.568384                    NaN  ...   \n",
       "2017-07-17              349.628004                    NaN  ...   \n",
       "2017-07-17             2171.274071                    NaN  ...   \n",
       "2017-07-24              352.812292             352.281495  ...   \n",
       "\n",
       "            total_demand_new_lag4  t4w_total_demand  month  week  day  \\\n",
       "date_idx                                                                \n",
       "2017-07-10                    NaN               NaN      7    28   10   \n",
       "2017-07-10                    NaN               NaN      7    28   10   \n",
       "2017-07-17                    NaN               NaN      7    29   17   \n",
       "2017-07-17                    NaN               NaN      7    29   17   \n",
       "2017-07-24                    NaN               NaN      7    30   24   \n",
       "\n",
       "            t4w_total_demand_lag2  szn_factor        y_obs  covid_start_m1  \\\n",
       "date_idx                                                                     \n",
       "2017-07-10                    NaN         NaN  2156.459303             0.0   \n",
       "2017-07-10                    NaN         NaN   353.463568             0.0   \n",
       "2017-07-17                    NaN         NaN   345.466023             0.0   \n",
       "2017-07-17                    NaN         NaN  2110.494687             0.0   \n",
       "2017-07-24                    NaN         NaN   350.206164             0.0   \n",
       "\n",
       "            zone_idx  \n",
       "date_idx              \n",
       "2017-07-10         0  \n",
       "2017-07-10         1  \n",
       "2017-07-17         1  \n",
       "2017-07-17         0  \n",
       "2017-07-24         1  \n",
       "\n",
       "[5 rows x 21 columns]"
      ]
     },
     "execution_count": 324,
     "metadata": {},
     "output_type": "execute_result"
    }
   ],
   "source": [
    "d2.head()"
   ]
  },
  {
   "cell_type": "code",
   "execution_count": 327,
   "id": "6529d9ef",
   "metadata": {},
   "outputs": [],
   "source": [
    "# let's test that we can do the hierarchical scanning business\n",
    "szn_len = 4\n",
    "d = pd.DataFrame({'zone_id': [1,1,1,1,1,1,1,1,1,2,2,2,2,2,2,2,2,2],\n",
    "#                   'y_obs': [1,2,3,4,2,3,4,5,3,1,2,3,4,1],\n",
    "                  'y_obs': [1,2,3,4,2,3,4,5,3,0,0,0,0,1,2,3,4,1],\n",
    "                  't': [1,2,3,4,5,6,7,8,9,1,2,3,4,5,6,7,8,9]})"
   ]
  },
  {
   "cell_type": "code",
   "execution_count": 338,
   "id": "0270a2e2",
   "metadata": {},
   "outputs": [],
   "source": [
    "zone_list = d.zone_id.unique()\n",
    "d['zone_idx'] = d.zone_id.apply(lambda x: np.where(zone_list == x)[0][0])\n",
    "d['covid_start_m1'] = d.t.apply(lambda x: 1 if x == 7 else 0)\n",
    "d['date'] = d.t\n",
    "\n",
    "# does this need to be mapped to [0,len(dd.zone_id.unique())-1] ? seems yes\n",
    "zone_idx = d.zone_idx.values"
   ]
  },
  {
   "cell_type": "code",
   "execution_count": 339,
   "id": "eac71682",
   "metadata": {},
   "outputs": [
    {
     "data": {
      "text/html": [
       "<div>\n",
       "<style scoped>\n",
       "    .dataframe tbody tr th:only-of-type {\n",
       "        vertical-align: middle;\n",
       "    }\n",
       "\n",
       "    .dataframe tbody tr th {\n",
       "        vertical-align: top;\n",
       "    }\n",
       "\n",
       "    .dataframe thead th {\n",
       "        text-align: right;\n",
       "    }\n",
       "</style>\n",
       "<table border=\"1\" class=\"dataframe\">\n",
       "  <thead>\n",
       "    <tr style=\"text-align: right;\">\n",
       "      <th></th>\n",
       "      <th>zone_id</th>\n",
       "      <th>y_obs</th>\n",
       "      <th>t</th>\n",
       "      <th>zone_idx</th>\n",
       "      <th>covid_start_m1</th>\n",
       "      <th>date</th>\n",
       "    </tr>\n",
       "  </thead>\n",
       "  <tbody>\n",
       "    <tr>\n",
       "      <th>0</th>\n",
       "      <td>1</td>\n",
       "      <td>1</td>\n",
       "      <td>1</td>\n",
       "      <td>0</td>\n",
       "      <td>0</td>\n",
       "      <td>1</td>\n",
       "    </tr>\n",
       "    <tr>\n",
       "      <th>1</th>\n",
       "      <td>1</td>\n",
       "      <td>2</td>\n",
       "      <td>2</td>\n",
       "      <td>0</td>\n",
       "      <td>0</td>\n",
       "      <td>2</td>\n",
       "    </tr>\n",
       "    <tr>\n",
       "      <th>2</th>\n",
       "      <td>1</td>\n",
       "      <td>3</td>\n",
       "      <td>3</td>\n",
       "      <td>0</td>\n",
       "      <td>0</td>\n",
       "      <td>3</td>\n",
       "    </tr>\n",
       "    <tr>\n",
       "      <th>3</th>\n",
       "      <td>1</td>\n",
       "      <td>4</td>\n",
       "      <td>4</td>\n",
       "      <td>0</td>\n",
       "      <td>0</td>\n",
       "      <td>4</td>\n",
       "    </tr>\n",
       "    <tr>\n",
       "      <th>4</th>\n",
       "      <td>1</td>\n",
       "      <td>2</td>\n",
       "      <td>5</td>\n",
       "      <td>0</td>\n",
       "      <td>0</td>\n",
       "      <td>5</td>\n",
       "    </tr>\n",
       "    <tr>\n",
       "      <th>5</th>\n",
       "      <td>1</td>\n",
       "      <td>3</td>\n",
       "      <td>6</td>\n",
       "      <td>0</td>\n",
       "      <td>0</td>\n",
       "      <td>6</td>\n",
       "    </tr>\n",
       "    <tr>\n",
       "      <th>6</th>\n",
       "      <td>1</td>\n",
       "      <td>4</td>\n",
       "      <td>7</td>\n",
       "      <td>0</td>\n",
       "      <td>1</td>\n",
       "      <td>7</td>\n",
       "    </tr>\n",
       "    <tr>\n",
       "      <th>7</th>\n",
       "      <td>1</td>\n",
       "      <td>5</td>\n",
       "      <td>8</td>\n",
       "      <td>0</td>\n",
       "      <td>0</td>\n",
       "      <td>8</td>\n",
       "    </tr>\n",
       "    <tr>\n",
       "      <th>8</th>\n",
       "      <td>1</td>\n",
       "      <td>3</td>\n",
       "      <td>9</td>\n",
       "      <td>0</td>\n",
       "      <td>0</td>\n",
       "      <td>9</td>\n",
       "    </tr>\n",
       "    <tr>\n",
       "      <th>9</th>\n",
       "      <td>2</td>\n",
       "      <td>0</td>\n",
       "      <td>1</td>\n",
       "      <td>1</td>\n",
       "      <td>0</td>\n",
       "      <td>1</td>\n",
       "    </tr>\n",
       "    <tr>\n",
       "      <th>10</th>\n",
       "      <td>2</td>\n",
       "      <td>0</td>\n",
       "      <td>2</td>\n",
       "      <td>1</td>\n",
       "      <td>0</td>\n",
       "      <td>2</td>\n",
       "    </tr>\n",
       "    <tr>\n",
       "      <th>11</th>\n",
       "      <td>2</td>\n",
       "      <td>0</td>\n",
       "      <td>3</td>\n",
       "      <td>1</td>\n",
       "      <td>0</td>\n",
       "      <td>3</td>\n",
       "    </tr>\n",
       "    <tr>\n",
       "      <th>12</th>\n",
       "      <td>2</td>\n",
       "      <td>0</td>\n",
       "      <td>4</td>\n",
       "      <td>1</td>\n",
       "      <td>0</td>\n",
       "      <td>4</td>\n",
       "    </tr>\n",
       "    <tr>\n",
       "      <th>13</th>\n",
       "      <td>2</td>\n",
       "      <td>1</td>\n",
       "      <td>5</td>\n",
       "      <td>1</td>\n",
       "      <td>0</td>\n",
       "      <td>5</td>\n",
       "    </tr>\n",
       "    <tr>\n",
       "      <th>14</th>\n",
       "      <td>2</td>\n",
       "      <td>2</td>\n",
       "      <td>6</td>\n",
       "      <td>1</td>\n",
       "      <td>0</td>\n",
       "      <td>6</td>\n",
       "    </tr>\n",
       "    <tr>\n",
       "      <th>15</th>\n",
       "      <td>2</td>\n",
       "      <td>3</td>\n",
       "      <td>7</td>\n",
       "      <td>1</td>\n",
       "      <td>1</td>\n",
       "      <td>7</td>\n",
       "    </tr>\n",
       "    <tr>\n",
       "      <th>16</th>\n",
       "      <td>2</td>\n",
       "      <td>4</td>\n",
       "      <td>8</td>\n",
       "      <td>1</td>\n",
       "      <td>0</td>\n",
       "      <td>8</td>\n",
       "    </tr>\n",
       "    <tr>\n",
       "      <th>17</th>\n",
       "      <td>2</td>\n",
       "      <td>1</td>\n",
       "      <td>9</td>\n",
       "      <td>1</td>\n",
       "      <td>0</td>\n",
       "      <td>9</td>\n",
       "    </tr>\n",
       "  </tbody>\n",
       "</table>\n",
       "</div>"
      ],
      "text/plain": [
       "    zone_id  y_obs  t  zone_idx  covid_start_m1  date\n",
       "0         1      1  1         0               0     1\n",
       "1         1      2  2         0               0     2\n",
       "2         1      3  3         0               0     3\n",
       "3         1      4  4         0               0     4\n",
       "4         1      2  5         0               0     5\n",
       "5         1      3  6         0               0     6\n",
       "6         1      4  7         0               1     7\n",
       "7         1      5  8         0               0     8\n",
       "8         1      3  9         0               0     9\n",
       "9         2      0  1         1               0     1\n",
       "10        2      0  2         1               0     2\n",
       "11        2      0  3         1               0     3\n",
       "12        2      0  4         1               0     4\n",
       "13        2      1  5         1               0     5\n",
       "14        2      2  6         1               0     6\n",
       "15        2      3  7         1               1     7\n",
       "16        2      4  8         1               0     8\n",
       "17        2      1  9         1               0     9"
      ]
     },
     "execution_count": 339,
     "metadata": {},
     "output_type": "execute_result"
    }
   ],
   "source": [
    "d"
   ]
  },
  {
   "cell_type": "code",
   "execution_count": 12,
   "id": "bd6ea832",
   "metadata": {},
   "outputs": [
    {
     "data": {
      "text/plain": [
       "array([0, 1])"
      ]
     },
     "execution_count": 12,
     "metadata": {},
     "output_type": "execute_result"
    }
   ],
   "source": [
    "np.unique(zone_idx)"
   ]
  },
  {
   "cell_type": "code",
   "execution_count": null,
   "id": "2bb7ede2",
   "metadata": {},
   "outputs": [],
   "source": [
    "# so the \"parent\" distribution for initial szns should be ordered/accessed based on time\n",
    "\n",
    "# so s'pose we have\n",
    "# szn_len = 4\n",
    "#  t: 0,1,2,3,4,5,...\n",
    "# z1: 3,4,8,2,5,6,...\n",
    "# z2: _,_,_,1,3,4,...\n",
    "\n",
    "# initial_szns = s1,s2,s3,s4\n",
    "\n",
    "# the first non-zero entry for z2 is the 4th season\n",
    "# so the initial_szns passed to z2's theano.scan should be ordered as [s4,s1,s2,s3]"
   ]
  },
  {
   "cell_type": "code",
   "execution_count": null,
   "id": "0756a6e7",
   "metadata": {},
   "outputs": [],
   "source": [
    "# w/ what ive been doing, we havent worried about which szn corresponds to which t, we just start from wherever there is demand (or 3rd week w/ demand)\n",
    "# now though, we should always index on a particular t/week #\n",
    "# ie make initial_szns[:, 0] correspond to first week in year, initial_szns[:, 51] corresponding to last, etc\n",
    "# so given the first_t, we want:\n",
    "\n",
    "initial_szns[z_idx, first_t%52:szn_len] + initial_szns[z_idx, :first_t%52]"
   ]
  },
  {
   "cell_type": "code",
   "execution_count": 90,
   "id": "e4026e23",
   "metadata": {},
   "outputs": [],
   "source": [
    "theano.config.compute_test_value = 'raise'"
   ]
  },
  {
   "cell_type": "code",
   "execution_count": 97,
   "id": "a3b0bc31",
   "metadata": {
    "code_folding": []
   },
   "outputs": [],
   "source": [
    "# def test(x, prev_output):\n",
    "def test(x):\n",
    "    return pm.math.floatX(x**2)\n",
    "\n",
    "outputs, updates = theano.scan(test,\n",
    "                               sequences=[\n",
    "                                   np.array([1.0,2.0,3.0,4.0])\n",
    "#                                    tt.as_tensor_variable([1.0,2.0,3.0,4.0])\n",
    "                               ],\n",
    "#                               outputs_info=[\n",
    "#                                   dict(initial=pm.math.floatX(0), taps=None)\n",
    "#                               ]\n",
    "                              )"
   ]
  },
  {
   "cell_type": "code",
   "execution_count": 446,
   "id": "b7fe2e92",
   "metadata": {},
   "outputs": [
    {
     "name": "stderr",
     "output_type": "stream",
     "text": [
      "WARNING (theano.scan.basic): Output None (index 0) has a initial state but taps is explicitly set to None \n",
      "WARNING (theano.scan.basic): Output None (index 1) has a initial state but taps is explicitly set to None \n"
     ]
    }
   ],
   "source": [
    "## test data\n",
    "\n",
    "with pm.Model() as test_hw_model:\n",
    "#     initial_level = pm.Normal(f'initial_level', mu=3000, sigma=400)\n",
    "#         initial_level = pm.Uniform(f'initial_level', lower=0, upper=5000)\n",
    "    initial_lvl_upper = 10000\n",
    "    initial_level = pm.Uniform(f'initial_level', lower=0, upper=initial_lvl_upper, shape=(d.zone_id.nunique()))\n",
    "\n",
    "    smoothing_level_mu = pm.Uniform('smoothing_level_mu', lower=0, upper=1)\n",
    "    smoothing_level_sigma = pm.HalfCauchy('smoothing_level_sigma', beta=0.5)\n",
    "    smoothing_level = pm.TruncatedNormal('smoothing_level', mu=smoothing_level_mu, sigma=smoothing_level_sigma, lower=0, upper=1, shape=(d.zone_id.nunique()))\n",
    "#         smoothing_level = pm.Normal('smoothing_level', mu=0.5, sigma=0.5)\n",
    "\n",
    "#     initial_trend = pm.Normal(f'initial_trend', mu=0, sigma=100)\n",
    "#         initial_trend = pm.Uniform(f'initial_trend', lower=-1000, upper=1000)\n",
    "    initial_trend = pm.Uniform(f'initial_trend', lower=-initial_lvl_upper/2, upper=initial_lvl_upper/2, shape=(d.zone_id.nunique()))\n",
    "\n",
    "    smoothing_trend_mu = pm.Uniform('smoothing_trend_mu', lower=0, upper=1)\n",
    "    smoothing_trend_sigma = pm.HalfCauchy('smoothing_trend_sigma', beta=0.5)\n",
    "    smoothing_trend = pm.TruncatedNormal('smoothing_trend', mu=smoothing_trend_mu, sigma=smoothing_trend_sigma, lower=0, upper=1, shape=(d.zone_id.nunique()))\n",
    "#         smoothing_trend = pm.Uniform('smoothing_trend', lower=0, upper=1)\n",
    "#     smoothing_trend = pm.Normal('smoothing_trend', mu=0.5, sigma=0.5)\n",
    "\n",
    "\n",
    "    # \n",
    "    initial_szns_mus = pm.Normal('initial_szns_mus', mu=1.0, sigma=0.2, shape=(szn_len))\n",
    "    initial_szns = pm.Normal('initial_szns', mu=initial_szns_mus, sigma=0.2, shape=(d.zone_id.nunique(), szn_len))\n",
    "#     initial_szns = pm.Uniform('initial_szns', lower=0.7, upper=1.3, shape=(szn_len))\n",
    "#     smoothing_season = pm.Uniform('smoothing_season', lower=0, upper=1)\n",
    "#     smoothing_season = pm.Uniform('smoothing_season', lower=0, upper=1)\n",
    "#     smoothing_season = pm.Uniform('smoothing_season', lower=0, upper=1-smoothing_level)\n",
    "    smoothing_season_mu = pm.Uniform('smoothing_season_mu', lower=0, upper=1)\n",
    "    smoothing_season_sigma = pm.HalfCauchy('smoothing_season_sigma', beta=0.5)\n",
    "    smoothing_season = pm.TruncatedNormal('smoothing_season', mu=smoothing_season_mu, sigma=smoothing_season_sigma, lower=0, upper=1, shape=(d.zone_id.nunique()))\n",
    "#         smoothing_season = pm.TruncatedNormal('smoothing_season', mu=0.2, sigma=0.5, lower=0, upper=0.8)\n",
    "#     smoothing_season = pm.Normal('smoothing_season', mu=0.5, sigma=0.5)\n",
    "\n",
    "#     ys = tt.as_tensor_variable(zdf['y_obs'])\n",
    "#     is_covid_start = tt.as_tensor_variable(zdf['covid_start_m1'])\n",
    "\n",
    "#     covid_level_change = pm.Normal('covid_level_change', mu=15000, sigma=2000)\n",
    "    covid_level_change = pm.Uniform('covid_level_change', lower=0, upper=5000, shape=(d.zone_id.nunique()))\n",
    "#         covid_level_change = pm.Normal('covid_level_change', mu=2000, sigma=1000)\n",
    "#     covid_level_change2 = pm.Normal('covid_level_change2', mu=20000, sigma=2000)\n",
    "    covid_level_change2 = pm.Uniform('covid_level_change2', lower=0, upper=5000, shape=(d.zone_id.nunique()))\n",
    "    \n",
    "    def hw_component_wise_wrapper(z_idx):\n",
    "        def hw_component_wise(y, covid_start, prior_level, prior_trend, szn_m52):\n",
    "            updated_szn = smoothing_season[z_idx] * y / (prior_level + prior_trend) + (1 - smoothing_season[z_idx]) * szn_m52\n",
    "\n",
    "\n",
    "            next_level = smoothing_level[z_idx] * (y/szn_m52) + (1 - smoothing_level[z_idx])*(prior_level + prior_trend) + covid_start*covid_level_change[z_idx]\n",
    "            next_trend = smoothing_trend[z_idx] * (next_level - prior_level) + (1 - smoothing_trend[z_idx])*prior_trend - covid_start*smoothing_trend[z_idx]*covid_level_change2[z_idx]\n",
    "\n",
    "\n",
    "            return next_level, next_trend, updated_szn\n",
    "        return hw_component_wise\n",
    "    \n",
    "    def inner_scan_for_zone(z_idx, ys, is_covid_start):\n",
    "        outputs, updates = theano.scan(hw_component_wise_wrapper(z_idx),\n",
    "                                      sequences=[\n",
    "                                          ys[1:], # this [1:] is done assuming we padded and shifted y_obs\n",
    "                                          is_covid_start[1:]\n",
    "                                      ],\n",
    "                                      outputs_info=[\n",
    "                                          dict(initial = initial_level[z_idx], taps=None),\n",
    "                                          dict(initial = initial_trend[z_idx], taps=None),\n",
    "                                          dict(initial = initial_szns[z_idx], taps=[-szn_len])\n",
    "    #                                       dict(initial = initial_seasons, taps=[-szn_len])\n",
    "                                      ])\n",
    "        return outputs\n",
    "\n",
    "    outputs, updates = theano.scan(inner_scan_for_zone,\n",
    "               sequences=[\n",
    "                   tt.as_tensor_variable(np.unique(zone_idx)),\n",
    "    #                np.unique(zone_idx),\n",
    "                   tt.as_tensor_variable(ys_list),\n",
    "    #                np.array(ys_list),\n",
    "                   tt.as_tensor_variable(is_covid_start_list),\n",
    "    #                np.array(is_covid_start_list),\n",
    "    #                np.array(first_t_list)\n",
    "               ])\n",
    "    \n",
    "    \n",
    "    ## [] adjust below to account for the now multi-zone setup\n",
    "#     levels = outputs[0]\n",
    "#     trends = outputs[1]\n",
    "#     seasons = outputs[2]\n",
    "\n",
    "\n",
    "#     levels_f = pm.math.concatenate([initial_level.reshape(1,1), levels[:-1]])\n",
    "#     trends_f = pm.math.concatenate([initial_trend.reshape(1,1), trends[:-1]])\n",
    "#     seasons_f = pm.math.concatenate([initial_szns, seasons[:-szn_len]])\n",
    "\n",
    "#     levels_and_trends = pm.math.stack([levels_f, trends_f])\n",
    "#     level_plus_trend = levels_and_trends.sum(axis=0)\n",
    "\n",
    "#     level_plus_trend_and_seasons = pm.math.stack([level_plus_trend, seasons_f])\n",
    "#     y_hats = level_plus_trend_and_seasons.prod(axis=0)\n",
    "\n",
    "#     sig = pm.HalfCauchy('sigma', beta=10)\n",
    "# #         y_like = pm.Normal('y_like', mu=y_hats, sigma=sig, observed=zdf.iloc[szn_len-1:-1, :]['y_obs_lag-1'])\n",
    "#     y_like = pm.Normal('y_like', mu=y_hats, sigma=sig, observed=zdf.iloc[:-1, :]['y_obs_lag-1'])\n",
    "\n",
    "    levels = outputs[0]\n",
    "    trends = outputs[1]\n",
    "    seasons = outputs[2]\n",
    "\n",
    "    levels_f = pm.math.concatenate([initial_level.reshape((d.zone_id.nunique(),1)), levels[:,:-1]], axis=1)\n",
    "    trends_f = pm.math.concatenate([initial_trend.reshape((d.zone_id.nunique(),1)), trends[:,:-1]], axis=1)\n",
    "    seasons_f = pm.math.concatenate([initial_szns, seasons[:,:-szn_len]], axis=1)\n",
    "\n",
    "    levels_and_trends = pm.math.stack([levels_f, trends_f], axis=1)\n",
    "    level_plus_trend = levels_and_trends.sum(axis=1)\n",
    "\n",
    "    level_plus_trend_and_seasons = pm.math.stack([level_plus_trend, seasons_f], axis=1)\n",
    "    y_hats = level_plus_trend_and_seasons.prod(axis=1)\n",
    "\n",
    "    sig = pm.HalfCauchy('sigma', beta=10)\n",
    "    y_like = pm.Normal('y_like', mu=y_hats, sigma=sig, observed=np.array(y_obs_lagm1_list)[:,:-1])"
   ]
  },
  {
   "cell_type": "code",
   "execution_count": 535,
   "id": "439430ec",
   "metadata": {},
   "outputs": [
    {
     "name": "stderr",
     "output_type": "stream",
     "text": [
      "WARNING (theano.scan.basic): Output None (index 0) has a initial state but taps is explicitly set to None \n",
      "WARNING (theano.scan.basic): Output None (index 1) has a initial state but taps is explicitly set to None \n"
     ]
    }
   ],
   "source": [
    "## real data\n",
    "\n",
    "with pm.Model() as test_hw_model:\n",
    "#     initial_level = pm.Normal(f'initial_level', mu=3000, sigma=400)\n",
    "#         initial_level = pm.Uniform(f'initial_level', lower=0, upper=5000)\n",
    "    initial_lvl_upper = 10000\n",
    "    initial_level = pm.Uniform(f'initial_level', lower=0, upper=initial_lvl_upper, shape=(d2.zone_id.nunique()))\n",
    "\n",
    "    smoothing_level_mu = pm.Uniform('smoothing_level_mu', lower=0, upper=1)\n",
    "    smoothing_level_sigma = pm.HalfCauchy('smoothing_level_sigma', beta=1)\n",
    "#     smoothing_level_sigma = pm.HalfCauchy('smoothing_level_sigma', beta=0.5)\n",
    "    smoothing_level = pm.TruncatedNormal('smoothing_level', mu=smoothing_level_mu, sigma=smoothing_level_sigma, lower=0, upper=1, shape=(d2.zone_id.nunique()))\n",
    "#         smoothing_level = pm.Normal('smoothing_level', mu=0.5, sigma=0.5)\n",
    "\n",
    "#     initial_trend = pm.Normal(f'initial_trend', mu=0, sigma=100)\n",
    "#         initial_trend = pm.Uniform(f'initial_trend', lower=-1000, upper=1000)\n",
    "    initial_trend = pm.Uniform(f'initial_trend', lower=-initial_lvl_upper/2, upper=initial_lvl_upper/2, shape=(d2.zone_id.nunique()))\n",
    "\n",
    "    smoothing_trend_mu = pm.Uniform('smoothing_trend_mu', lower=0, upper=1)\n",
    "    smoothing_trend_sigma = pm.HalfCauchy('smoothing_trend_sigma', beta=1)\n",
    "#     smoothing_trend_sigma = pm.HalfCauchy('smoothing_trend_sigma', beta=0.5)\n",
    "    smoothing_trend = pm.TruncatedNormal('smoothing_trend', mu=smoothing_trend_mu, sigma=smoothing_trend_sigma, lower=0, upper=1, shape=(d2.zone_id.nunique()))\n",
    "#         smoothing_trend = pm.Uniform('smoothing_trend', lower=0, upper=1)\n",
    "#     smoothing_trend = pm.Normal('smoothing_trend', mu=0.5, sigma=0.5)\n",
    "\n",
    "\n",
    "    # \n",
    "    initial_szns_mus = pm.Normal('initial_szns_mus', mu=1.0, sigma=0.05, shape=(szn_len))\n",
    "    initial_szns = pm.Normal('initial_szns', mu=initial_szns_mus, sigma=0.2, shape=(d2.zone_id.nunique(), szn_len))\n",
    "#     initial_szns = pm.Uniform('initial_szns', lower=0.7, upper=1.3, shape=(szn_len))\n",
    "#     smoothing_season = pm.Uniform('smoothing_season', lower=0, upper=1)\n",
    "#     smoothing_season = pm.Uniform('smoothing_season', lower=0, upper=1)\n",
    "#     smoothing_season = pm.Uniform('smoothing_season', lower=0, upper=1-smoothing_level)\n",
    "    smoothing_season_mu = pm.Uniform('smoothing_season_mu', lower=0, upper=1)\n",
    "    smoothing_season_sigma = pm.HalfCauchy('smoothing_season_sigma', beta=0.5)\n",
    "    smoothing_season = pm.TruncatedNormal('smoothing_season', mu=smoothing_season_mu, sigma=smoothing_season_sigma, lower=0, upper=1, shape=(d2.zone_id.nunique()))\n",
    "#         smoothing_season = pm.TruncatedNormal('smoothing_season', mu=0.2, sigma=0.5, lower=0, upper=0.8)\n",
    "#     smoothing_season = pm.Normal('smoothing_season', mu=0.5, sigma=0.5)\n",
    "\n",
    "#     ys = tt.as_tensor_variable(zdf['y_obs'])\n",
    "#     is_covid_start = tt.as_tensor_variable(zdf['covid_start_m1'])\n",
    "\n",
    "#     covid_level_change = pm.Normal('covid_level_change', mu=15000, sigma=2000)\n",
    "    covid_level_change = pm.Uniform('covid_level_change', lower=0, upper=5000, shape=(d2.zone_id.nunique()))\n",
    "#         covid_level_change = pm.Normal('covid_level_change', mu=2000, sigma=1000)\n",
    "#     covid_level_change2 = pm.Normal('covid_level_change2', mu=20000, sigma=2000)\n",
    "    covid_level_change2 = pm.Uniform('covid_level_change2', lower=0, upper=5000, shape=(d2.zone_id.nunique()))\n",
    "    \n",
    "    def hw_component_wise_wrapper(z_idx):\n",
    "        def hw_component_wise(y, covid_start, prior_level, prior_trend, szn_m52):\n",
    "            updated_szn = smoothing_season[z_idx] * y / (prior_level + prior_trend) + (1 - smoothing_season[z_idx]) * szn_m52\n",
    "\n",
    "\n",
    "            next_level = smoothing_level[z_idx] * (y/szn_m52) + (1 - smoothing_level[z_idx])*(prior_level + prior_trend) + covid_start*covid_level_change[z_idx]\n",
    "            next_trend = smoothing_trend[z_idx] * (next_level - prior_level) + (1 - smoothing_trend[z_idx])*prior_trend - covid_start*smoothing_trend[z_idx]*covid_level_change2[z_idx]\n",
    "\n",
    "\n",
    "            return next_level, next_trend, updated_szn\n",
    "        return hw_component_wise\n",
    "    \n",
    "    def inner_scan_for_zone(z_idx, ys, is_covid_start):\n",
    "        outputs, updates = theano.scan(hw_component_wise_wrapper(z_idx),\n",
    "                                      sequences=[\n",
    "                                          ys[1:], # this [1:] is done assuming we padded and shifted y_obs\n",
    "                                          is_covid_start[1:]\n",
    "                                      ],\n",
    "                                      outputs_info=[\n",
    "                                          dict(initial = initial_level[z_idx], taps=None),\n",
    "                                          dict(initial = initial_trend[z_idx], taps=None),\n",
    "                                          dict(initial = initial_szns[z_idx], taps=[-szn_len])\n",
    "    #                                       dict(initial = initial_seasons, taps=[-szn_len])\n",
    "                                      ])\n",
    "        return outputs\n",
    "\n",
    "    outputs, updates = theano.scan(inner_scan_for_zone,\n",
    "               sequences=[\n",
    "                   tt.as_tensor_variable(np.unique(zone_idx)),\n",
    "                   tt.as_tensor_variable(ys_list),\n",
    "                   tt.as_tensor_variable(is_covid_start_list),\n",
    "    #                np.array(first_t_list)\n",
    "               ])\n",
    "    \n",
    "    levels = outputs[0]\n",
    "    trends = outputs[1]\n",
    "    seasons = outputs[2]\n",
    "\n",
    "    levels_f = pm.math.concatenate([initial_level.reshape((d2.zone_id.nunique(),1)), levels[:,:-1]], axis=1)\n",
    "    trends_f = pm.math.concatenate([initial_trend.reshape((d2.zone_id.nunique(),1)), trends[:,:-1]], axis=1)\n",
    "    seasons_f = pm.math.concatenate([initial_szns, seasons[:,:-szn_len]], axis=1)\n",
    "\n",
    "    levels_and_trends = pm.math.stack([levels_f, trends_f], axis=1)\n",
    "    level_plus_trend = levels_and_trends.sum(axis=1)\n",
    "\n",
    "    level_plus_trend_and_seasons = pm.math.stack([level_plus_trend, seasons_f], axis=1)\n",
    "    y_hats = level_plus_trend_and_seasons.prod(axis=1)\n",
    "\n",
    "    sig = pm.HalfCauchy('sigma', beta=10, shape=(d2.zone_id.nunique(),1))\n",
    "    y_like = pm.Normal('y_like', mu=y_hats, sigma=sig, observed=np.array(y_obs_lagm1_list)[:,:-1])    "
   ]
  },
  {
   "cell_type": "code",
   "execution_count": null,
   "id": "f84365bc",
   "metadata": {},
   "outputs": [],
   "source": []
  },
  {
   "cell_type": "code",
   "execution_count": 536,
   "id": "59d0309e",
   "metadata": {},
   "outputs": [
    {
     "data": {
      "text/html": [
       "\n",
       "    <div>\n",
       "        <style>\n",
       "            /* Turns off some styling */\n",
       "            progress {\n",
       "                /* gets rid of default border in Firefox and Opera. */\n",
       "                border: none;\n",
       "                /* Needs to be in here for Safari polyfill so background images work as expected. */\n",
       "                background-size: auto;\n",
       "            }\n",
       "            .progress-bar-interrupted, .progress-bar-interrupted::-webkit-progress-bar {\n",
       "                background: #F44336;\n",
       "            }\n",
       "        </style>\n",
       "      <progress value='2932' class='' max='2932' style='width:300px; height:20px; vertical-align: middle;'></progress>\n",
       "      100.00% [2932/2932 01:32<00:00 logp = -1,651.5, ||grad|| = 15,596]\n",
       "    </div>\n",
       "    "
      ],
      "text/plain": [
       "<IPython.core.display.HTML object>"
      ]
     },
     "metadata": {},
     "output_type": "display_data"
    },
    {
     "name": "stdout",
     "output_type": "stream",
     "text": [
      "\n"
     ]
    }
   ],
   "source": [
    "map_estimate = pm.find_MAP(model=test_hw_model)"
   ]
  },
  {
   "cell_type": "code",
   "execution_count": 537,
   "id": "58d636d8",
   "metadata": {},
   "outputs": [
    {
     "data": {
      "text/plain": [
       "{'initial_level_interval__': array([-1.19653011, -2.57818543]),\n",
       " 'smoothing_level_mu_interval__': array(0.1446876),\n",
       " 'smoothing_level_sigma_log__': array(-1.42126599),\n",
       " 'smoothing_level_interval__': array([ 0.91449014, -0.22673056]),\n",
       " 'initial_trend_interval__': array([-0.00064844, -0.09167513]),\n",
       " 'smoothing_trend_mu_interval__': array(-0.38171296),\n",
       " 'smoothing_trend_sigma_log__': array(-0.8213002),\n",
       " 'smoothing_trend_interval__': array([-5.49871439, -0.41288752]),\n",
       " 'initial_szns_mus': array([0.99057246, 0.99494886, 1.00087926, 1.01719897, 0.97747316,\n",
       "        0.9971368 , 0.99410079, 0.99838702, 1.00877088, 1.01128207,\n",
       "        1.00755132, 1.00721264, 1.00285175, 1.0003327 , 0.99762605,\n",
       "        0.9990049 , 1.00234708, 0.99928614, 0.99851664, 0.99841687,\n",
       "        1.00273971, 1.00551988, 0.99993349, 0.9812178 , 0.99002783,\n",
       "        0.99960781, 1.00561201, 1.00656411, 1.00223114, 1.00230703,\n",
       "        1.00289446, 1.0019637 , 1.00412418, 1.00368673, 1.00112224,\n",
       "        1.00111544, 1.00302681, 1.00071136, 1.00411931, 1.00531719,\n",
       "        1.00803962, 1.00421564, 1.00007204, 0.99923748, 0.99701448,\n",
       "        0.99277682, 0.99225409, 0.99337829, 0.99177576, 0.99145576,\n",
       "        0.98952168, 0.9907709 ]),\n",
       " 'initial_szns': array([[0.92967459, 0.91300651, 0.93223872, 0.94086232, 0.93805523,\n",
       "         0.9693237 , 0.97747669, 0.97548202, 1.03871522, 1.04512459,\n",
       "         0.99446034, 1.00951933, 0.9917057 , 1.00451458, 1.01977978,\n",
       "         1.01264228, 1.02971178, 0.98741527, 0.98607927, 0.97492941,\n",
       "         1.02508426, 1.04936494, 1.00675253, 0.85757016, 0.91460338,\n",
       "         1.04006836, 1.07235824, 1.0634856 , 1.03922565, 1.04011267,\n",
       "         1.05283597, 1.06374602, 1.08015552, 1.09390358, 1.05154066,\n",
       "         1.07450845, 1.05877061, 1.02545421, 1.03557953, 1.01944164,\n",
       "         1.01670899, 1.02242699, 1.00137723, 1.00511389, 0.98992652,\n",
       "         0.95956516, 0.94649891, 0.94129711, 0.94250142, 0.93531877,\n",
       "         0.91056511, 0.91541153],\n",
       "        [0.91691001, 1.01302423, 1.06624533, 1.33407443, 0.57458412,\n",
       "         0.97360896, 0.95518172, 1.01003233, 1.14310455, 1.13925162,\n",
       "         1.10437869, 1.10380726, 1.05617453, 1.00164802, 0.94553775,\n",
       "         0.98174829, 1.02170017, 0.99946179, 0.97979463, 0.98845802,\n",
       "         1.02552226, 1.0485179 , 0.97847352, 0.82211874, 0.88724296,\n",
       "         0.94143408, 1.02107726, 1.05282407, 1.00560119, 1.00382512,\n",
       "         1.00129027, 0.9899706 , 0.99971572, 0.97535331, 0.96768993,\n",
       "         0.94348842, 0.98566676, 0.98162322, 1.03498846, 1.07847002,\n",
       "         1.13187335, 1.06463761, 1.01080649, 0.98490299, 0.95525797,\n",
       "         0.91169967, 0.9206393 , 0.94208316, 0.91283099, 0.90838178,\n",
       "         0.89066777, 0.9094832 ]]),\n",
       " 'smoothing_season_mu_interval__': array(-1.48876309),\n",
       " 'smoothing_season_sigma_log__': array(-1.16643472),\n",
       " 'smoothing_season_interval__': array([-6.61800287, -9.06899042]),\n",
       " 'covid_level_change_interval__': array([-0.49553827, -2.11246828]),\n",
       " 'covid_level_change2_interval__': array([ 0.10370204, -1.82692681]),\n",
       " 'sigma_log__': array([[4.1227833 ],\n",
       "        [4.09968203]]),\n",
       " 'initial_level': array([2320.93065277,  705.55633318]),\n",
       " 'smoothing_level_mu': array(0.53610893),\n",
       " 'smoothing_level_sigma': array(0.2414082),\n",
       " 'smoothing_level': array([0.7139181 , 0.44355894]),\n",
       " 'initial_trend': array([  -1.62109207, -229.02745274]),\n",
       " 'smoothing_trend_mu': array(0.40571382),\n",
       " 'smoothing_trend_sigma': array(0.43985938),\n",
       " 'smoothing_trend': array([0.00407535, 0.39821995]),\n",
       " 'smoothing_season_mu': array(0.18410745),\n",
       " 'smoothing_season_sigma': array(0.31147546),\n",
       " 'smoothing_season': array([0.00133431, 0.00011517]),\n",
       " 'covid_level_change': array([1892.94881784,  539.45432072]),\n",
       " 'covid_level_change2': array([2629.51150307,  693.02392559]),\n",
       " 'sigma': array([[61.73081858],\n",
       "        [60.32110419]])}"
      ]
     },
     "execution_count": 537,
     "metadata": {},
     "output_type": "execute_result"
    }
   ],
   "source": [
    "map_estimate"
   ]
  },
  {
   "cell_type": "code",
   "execution_count": 523,
   "id": "46da94ba",
   "metadata": {
    "collapsed": true
   },
   "outputs": [
    {
     "data": {
      "text/plain": [
       "{'initial_level_interval__': array([-1.18370355, -1.48105259]),\n",
       " 'smoothing_level_mu_interval__': array(-0.3648455),\n",
       " 'smoothing_level_sigma_log__': array(-2.38548774),\n",
       " 'smoothing_level_interval__': array([ 0.14870344, -0.71687172]),\n",
       " 'initial_trend_interval__': array([-0.00076022,  0.04789724]),\n",
       " 'smoothing_trend_mu_interval__': array(-0.09926145),\n",
       " 'smoothing_trend_sigma_log__': array(0.00207816),\n",
       " 'smoothing_trend_interval__': array([-6.36244498,  6.82216577]),\n",
       " 'initial_szns_mus': array([0.97240115, 0.97233933, 0.9776914 , 1.00612322, 0.9867183 ,\n",
       "        0.99960483, 0.97142966, 0.97942833, 0.9893525 , 0.9898712 ,\n",
       "        0.98993636, 1.00632447, 1.02312164, 1.04608325, 0.9855238 ,\n",
       "        0.99614391, 1.02107945, 1.00634044, 1.00054006, 0.99658996,\n",
       "        0.9982208 , 0.99939428, 0.99471043, 0.98086074, 0.9872723 ,\n",
       "        0.99685007, 1.00335559, 1.00508831, 1.00174424, 1.00198577,\n",
       "        1.00262512, 1.0026518 , 1.00175996, 1.00102719, 0.99932224,\n",
       "        0.9999073 , 1.00150503, 0.99945015, 1.00277704, 1.00452596,\n",
       "        1.00716059, 1.0041519 , 1.00047051, 0.99999295, 0.99773079,\n",
       "        0.99363925, 0.99239331, 0.99165699, 0.98849161, 0.98566165,\n",
       "        0.98171116, 0.98231031]),\n",
       " 'initial_szns': array([[0.92511124, 0.90825331, 0.92697689, 0.9344653 , 0.93049401,\n",
       "         0.95977093, 0.96544057, 0.96312231, 1.02614229, 1.0338425 ,\n",
       "         0.98471983, 1.00082616, 0.98526487, 0.99911124, 1.01421922,\n",
       "         1.00790835, 1.02593783, 0.98423954, 0.98294997, 0.97086374,\n",
       "         1.01933074, 1.04208543, 1.00046172, 0.85405412, 0.91180787,\n",
       "         1.03730832, 1.06989242, 1.06007878, 1.03440432, 1.03431118,\n",
       "         1.046707  , 1.0576794 , 1.07768533, 1.09021876, 1.04900944,\n",
       "         1.07314037, 1.05671953, 1.02325379, 1.03196555, 1.01506341,\n",
       "         1.01254126, 1.01848096, 0.99756968, 1.00175477, 0.98606893,\n",
       "         0.95628262, 0.94286852, 0.93828252, 0.93828649, 0.93035486,\n",
       "         0.9056576 , 0.91034614],\n",
       "        [0.48883961, 0.59984095, 0.69029852, 1.16320264, 0.81349657,\n",
       "         0.9878979 , 0.45342144, 0.61783066, 0.7239909 , 0.78406366,\n",
       "         0.89974685, 1.13823875, 1.42947026, 1.8203004 , 0.77282973,\n",
       "         0.93160676, 1.34750565, 1.14101117, 1.03554723, 0.97694502,\n",
       "         0.96256054, 0.95701174, 0.90406886, 0.78993505, 0.85618906,\n",
       "         0.91451335, 1.0043606 , 1.04564257, 1.01022832, 1.01114262,\n",
       "         1.00487007, 0.98734138, 0.92926237, 0.91990049, 0.92943086,\n",
       "         0.92067024, 0.96613988, 0.96772524, 1.02390745, 1.07069142,\n",
       "         1.12038449, 1.06051509, 1.01691857, 1.00091767, 0.97564478,\n",
       "         0.93056881, 0.92255778, 0.91391402, 0.85345205, 0.80740245,\n",
       "         0.75741823, 0.75919035]]),\n",
       " 'smoothing_season_mu_interval__': array(-4.30400346),\n",
       " 'smoothing_season_sigma_log__': array(-3.28092031),\n",
       " 'smoothing_season_interval__': array([-8.0010301 , -4.95840244]),\n",
       " 'covid_level_change_interval__': array([-0.49451267, -1.74547365]),\n",
       " 'covid_level_change2_interval__': array([ 1.3270079, -1.5237171]),\n",
       " 'sigma_log__': array([[4.1325465 ],\n",
       "        [5.13886136]]),\n",
       " 'initial_level': array([2343.86941349, 1852.68484289]),\n",
       " 'smoothing_level_mu': array(0.40978712),\n",
       " 'smoothing_level_sigma': array(0.09204408),\n",
       " 'smoothing_level': array([0.53710751, 0.32808222]),\n",
       " 'initial_trend': array([ -1.90054234, 119.72022338]),\n",
       " 'smoothing_trend_mu': array(0.47520499),\n",
       " 'smoothing_trend_sigma': array(1.00208032),\n",
       " 'smoothing_trend': array([0.00172217, 0.99891183]),\n",
       " 'smoothing_season_mu': array(0.01333414),\n",
       " 'smoothing_season_sigma': array(0.03759364),\n",
       " 'smoothing_season': array([0.000335  , 0.00697515]),\n",
       " 'covid_level_change': array([1894.15537358,  743.09506681]),\n",
       " 'covid_level_change2': array([3951.72637822,  894.57404892]),\n",
       " 'sigma': array([[ 62.33646079],\n",
       "        [170.52149532]])}"
      ]
     },
     "execution_count": 523,
     "metadata": {},
     "output_type": "execute_result"
    }
   ],
   "source": [
    "map_estimate"
   ]
  },
  {
   "cell_type": "code",
   "execution_count": null,
   "id": "0b487e6b",
   "metadata": {},
   "outputs": [],
   "source": [
    "smoothing_level[z_idx] * (y/szn_m52) + (1 - smoothing_level[z_idx])*(prior_level + prior_trend) + covid_start*covid_level_change[z_idx]"
   ]
  },
  {
   "cell_type": "code",
   "execution_count": 560,
   "id": "e1d9a8f3",
   "metadata": {},
   "outputs": [
    {
     "data": {
      "text/plain": [
       "0"
      ]
     },
     "execution_count": 560,
     "metadata": {},
     "output_type": "execute_result"
    }
   ],
   "source": [
    "test_z_idx"
   ]
  },
  {
   "cell_type": "code",
   "execution_count": 561,
   "id": "fcb8a042",
   "metadata": {},
   "outputs": [
    {
     "data": {
      "text/plain": [
       "array([0.92967459, 0.91300651, 0.93223872, 0.94086232, 0.93805523,\n",
       "       0.9693237 , 0.97747669, 0.97548202, 1.03871522, 1.04512459,\n",
       "       0.99446034, 1.00951933, 0.9917057 , 1.00451458, 1.01977978,\n",
       "       1.01264228, 1.02971178, 0.98741527, 0.98607927, 0.97492941,\n",
       "       1.02508426, 1.04936494, 1.00675253, 0.85757016, 0.91460338,\n",
       "       1.04006836, 1.07235824, 1.0634856 , 1.03922565, 1.04011267,\n",
       "       1.05283597, 1.06374602, 1.08015552, 1.09390358, 1.05154066,\n",
       "       1.07450845, 1.05877061, 1.02545421, 1.03557953, 1.01944164,\n",
       "       1.01670899, 1.02242699, 1.00137723, 1.00511389, 0.98992652,\n",
       "       0.95956516, 0.94649891, 0.94129711, 0.94250142, 0.93531877,\n",
       "       0.91056511, 0.91541153])"
      ]
     },
     "execution_count": 561,
     "metadata": {},
     "output_type": "execute_result"
    }
   ],
   "source": [
    "map_estimate['initial_szns'][test_z_idx]"
   ]
  },
  {
   "cell_type": "code",
   "execution_count": 564,
   "id": "6da4dd71",
   "metadata": {},
   "outputs": [
    {
     "data": {
      "text/plain": [
       "0.9296745934963018"
      ]
     },
     "execution_count": 564,
     "metadata": {},
     "output_type": "execute_result"
    }
   ],
   "source": [
    "map_estimate['initial_szns'][test_z_idx,0]"
   ]
  },
  {
   "cell_type": "code",
   "execution_count": 566,
   "id": "96e26f3b",
   "metadata": {},
   "outputs": [
    {
     "data": {
      "text/plain": [
       "0.713918104451414"
      ]
     },
     "execution_count": 566,
     "metadata": {},
     "output_type": "execute_result"
    }
   ],
   "source": [
    "map_estimate['smoothing_level'][test_z_idx]"
   ]
  },
  {
   "cell_type": "code",
   "execution_count": 567,
   "id": "92935725",
   "metadata": {},
   "outputs": [
    {
     "data": {
      "text/plain": [
       "[2156.4593031890004]"
      ]
     },
     "execution_count": 567,
     "metadata": {},
     "output_type": "execute_result"
    }
   ],
   "source": [
    "ys_list[test_z_idx][1:2]"
   ]
  },
  {
   "cell_type": "code",
   "execution_count": 571,
   "id": "0dd67cbe",
   "metadata": {},
   "outputs": [
    {
     "data": {
      "text/plain": [
       "2156.4593031890004"
      ]
     },
     "execution_count": 571,
     "metadata": {},
     "output_type": "execute_result"
    }
   ],
   "source": [
    "ys_list[test_z_idx][1]"
   ]
  },
  {
   "cell_type": "code",
   "execution_count": 576,
   "id": "659e8750",
   "metadata": {},
   "outputs": [
    {
     "data": {
      "text/plain": [
       "array([0.92967459, 0.91300651])"
      ]
     },
     "execution_count": 576,
     "metadata": {},
     "output_type": "execute_result"
    }
   ],
   "source": [
    "map_estimate['initial_szns'][test_z_idx,0:2]"
   ]
  },
  {
   "cell_type": "code",
   "execution_count": 580,
   "id": "260b8c67",
   "metadata": {},
   "outputs": [
    {
     "data": {
      "text/plain": [
       "2320.930652767239"
      ]
     },
     "execution_count": 580,
     "metadata": {},
     "output_type": "execute_result"
    }
   ],
   "source": [
    "map_estimate['initial_level'][test_z_idx]"
   ]
  },
  {
   "cell_type": "code",
   "execution_count": 578,
   "id": "da68c47e",
   "metadata": {},
   "outputs": [
    {
     "data": {
      "text/plain": [
       "2319.5062488239296"
      ]
     },
     "execution_count": 578,
     "metadata": {},
     "output_type": "execute_result"
    }
   ],
   "source": [
    "map_estimate['smoothing_level'][test_z_idx] * (ys_list[test_z_idx][1]/map_estimate['initial_szns'][test_z_idx,0]) + (1 - map_estimate['smoothing_level'][test_z_idx])*(map_estimate['initial_level'][test_z_idx] + map_estimate['initial_trend'][test_z_idx])"
   ]
  },
  {
   "cell_type": "code",
   "execution_count": 582,
   "id": "0c49ca37",
   "metadata": {
    "collapsed": true
   },
   "outputs": [
    {
     "ename": "NameError",
     "evalue": "name 'y' is not defined",
     "output_type": "error",
     "traceback": [
      "\u001b[0;31m---------------------------------------------------------------------------\u001b[0m",
      "\u001b[0;31mNameError\u001b[0m                                 Traceback (most recent call last)",
      "\u001b[0;32m<ipython-input-582-4d5fc63720ff>\u001b[0m in \u001b[0;36m<module>\u001b[0;34m\u001b[0m\n\u001b[0;32m----> 1\u001b[0;31m \u001b[0mnext_level\u001b[0m \u001b[0;34m=\u001b[0m \u001b[0mmap_estimate\u001b[0m\u001b[0;34m[\u001b[0m\u001b[0;34m'smoothing_level'\u001b[0m\u001b[0;34m]\u001b[0m\u001b[0;34m[\u001b[0m\u001b[0mz_idx\u001b[0m\u001b[0;34m]\u001b[0m \u001b[0;34m*\u001b[0m \u001b[0;34m(\u001b[0m\u001b[0my\u001b[0m\u001b[0;34m/\u001b[0m\u001b[0mszn_m52\u001b[0m\u001b[0;34m)\u001b[0m \u001b[0;34m+\u001b[0m \u001b[0;34m(\u001b[0m\u001b[0;36m1\u001b[0m \u001b[0;34m-\u001b[0m \u001b[0mmap_estimate\u001b[0m\u001b[0;34m[\u001b[0m\u001b[0;34m'smoothing_level'\u001b[0m\u001b[0;34m]\u001b[0m\u001b[0;34m[\u001b[0m\u001b[0mz_idx\u001b[0m\u001b[0;34m]\u001b[0m\u001b[0;34m)\u001b[0m\u001b[0;34m*\u001b[0m\u001b[0;34m(\u001b[0m\u001b[0mprior_level\u001b[0m \u001b[0;34m+\u001b[0m \u001b[0mprior_trend\u001b[0m\u001b[0;34m)\u001b[0m \u001b[0;34m+\u001b[0m \u001b[0mcovid_start\u001b[0m\u001b[0;34m*\u001b[0m\u001b[0mmap_estimate\u001b[0m\u001b[0;34m[\u001b[0m\u001b[0;34m'covid_level_change'\u001b[0m\u001b[0;34m]\u001b[0m\u001b[0;34m[\u001b[0m\u001b[0mz_idx\u001b[0m\u001b[0;34m]\u001b[0m\u001b[0;34m\u001b[0m\u001b[0;34m\u001b[0m\u001b[0m\n\u001b[0m",
      "\u001b[0;31mNameError\u001b[0m: name 'y' is not defined"
     ]
    }
   ],
   "source": [
    "next_level = map_estimate['smoothing_level'][z_idx] * (y/szn_m52) + (1 - map_estimate['smoothing_level'][z_idx])*(prior_level + prior_trend) + covid_start*map_estimate['covid_level_change'][z_idx]"
   ]
  },
  {
   "cell_type": "code",
   "execution_count": 581,
   "id": "fa019021",
   "metadata": {},
   "outputs": [
    {
     "data": {
      "text/plain": [
       "for{cpu,scan_fn}.0"
      ]
     },
     "execution_count": 581,
     "metadata": {},
     "output_type": "execute_result"
    }
   ],
   "source": [
    "levels"
   ]
  },
  {
   "cell_type": "code",
   "execution_count": 579,
   "id": "14f0191d",
   "metadata": {},
   "outputs": [
    {
     "data": {
      "text/plain": [
       "2319.5062488239296"
      ]
     },
     "execution_count": 579,
     "metadata": {},
     "output_type": "execute_result"
    }
   ],
   "source": [
    "map_estimate['smoothing_level'][test_z_idx] * (ys_list[test_z_idx][1]/map_estimate['initial_szns'][test_z_idx,0]) + (1 - map_estimate['smoothing_level'][test_z_idx])*(map_estimate['initial_level'][test_z_idx] + map_estimate['initial_trend'][test_z_idx]) + is_covid_start_list[test_z_idx][1]*map_estimate['covid_level_change'][test_z_idx]"
   ]
  },
  {
   "cell_type": "code",
   "execution_count": 574,
   "id": "21c6bc9b",
   "metadata": {},
   "outputs": [
    {
     "data": {
      "text/plain": [
       "array([2320.93065277, 3578.22965159, 2488.91958233, 1891.72732557,\n",
       "       1664.56098201])"
      ]
     },
     "execution_count": 574,
     "metadata": {},
     "output_type": "execute_result"
    }
   ],
   "source": [
    "levels_f.get_test_value()[test_z_idx,:5]"
   ]
  },
  {
   "cell_type": "code",
   "execution_count": 552,
   "id": "3c4e1dd6",
   "metadata": {},
   "outputs": [
    {
     "data": {
      "text/plain": [
       "[<matplotlib.lines.Line2D at 0x191c0fc70>]"
      ]
     },
     "execution_count": 552,
     "metadata": {},
     "output_type": "execute_result"
    },
    {
     "data": {
      "image/png": "[encoded data removed]",
      "text/plain": [
       "<Figure size 432x288 with 1 Axes>"
      ]
     },
     "metadata": {},
     "output_type": "display_data"
    }
   ],
   "source": [
    "plt.plot(levels_f.get_test_value()[test_z_idx,:5])"
   ]
  },
  {
   "cell_type": "code",
   "execution_count": 558,
   "id": "bd21d3bf",
   "metadata": {},
   "outputs": [
    {
     "data": {
      "text/plain": [
       "[2156.4593031890004]"
      ]
     },
     "execution_count": 558,
     "metadata": {},
     "output_type": "execute_result"
    }
   ],
   "source": [
    "ys_list[0][1:2]"
   ]
  },
  {
   "cell_type": "code",
   "execution_count": null,
   "id": "71ac052d",
   "metadata": {},
   "outputs": [],
   "source": [
    "# [X] look at in-sample fits for both :D\n",
    "\n",
    "# [] maybe make it s.t. only the seasons are hierarchical, see if we get better fit, then work back towards more shared params from there\n",
    "    # [] or increase sigmas to allow more variation\n",
    "    \n",
    "# [] can try just with one zone if ^ doesn't work\n",
    "\n",
    "# [] any dumb lil bugs? wrong var being used, wrong shifting with the ys[1:] stuff, etc\n",
    "\n",
    "# [] diff initial levels\n",
    "    # [] and maybe cut out first couple weeks\n",
    "\n",
    "# [X] diff sigmas\n",
    "# [/] maybe a prior for szns sigma (0.2 is big. can try making it smaller, or a prior)"
   ]
  },
  {
   "cell_type": "code",
   "execution_count": 609,
   "id": "a96fddf8",
   "metadata": {
    "collapsed": true
   },
   "outputs": [
    {
     "ename": "TypeError",
     "evalue": "'module' object is not callable",
     "output_type": "error",
     "traceback": [
      "\u001b[0;31m---------------------------------------------------------------------------\u001b[0m",
      "\u001b[0;31mTypeError\u001b[0m                                 Traceback (most recent call last)",
      "\u001b[0;32m<ipython-input-609-b8b5775e4b05>\u001b[0m in \u001b[0;36m<module>\u001b[0;34m\u001b[0m\n\u001b[1;32m     34\u001b[0m     \u001b[0;32mreturn\u001b[0m \u001b[0moutputs\u001b[0m\u001b[0;34m\u001b[0m\u001b[0;34m\u001b[0m\u001b[0m\n\u001b[1;32m     35\u001b[0m \u001b[0;34m\u001b[0m\u001b[0m\n\u001b[0;32m---> 36\u001b[0;31m outputs, updates = theano.scan(inner_scan_for_zone_final,\n\u001b[0m\u001b[1;32m     37\u001b[0m            sequences=[\n\u001b[1;32m     38\u001b[0m \u001b[0;31m#                tt.as_index_constant(np.unique(zone_idx)),\u001b[0m\u001b[0;34m\u001b[0m\u001b[0;34m\u001b[0m\u001b[0;34m\u001b[0m\u001b[0m\n",
      "\u001b[0;32m~/.pyenv/versions/3.8.6/lib/python3.8/site-packages/theano/scan/basic.py\u001b[0m in \u001b[0;36mscan\u001b[0;34m(fn, sequences, outputs_info, non_sequences, n_steps, truncate_gradient, go_backwards, mode, name, profile, allow_gc, strict, return_list)\u001b[0m\n\u001b[1;32m    745\u001b[0m     \u001b[0;31m# and outputs that needs to be separated\u001b[0m\u001b[0;34m\u001b[0m\u001b[0;34m\u001b[0m\u001b[0;34m\u001b[0m\u001b[0m\n\u001b[1;32m    746\u001b[0m \u001b[0;34m\u001b[0m\u001b[0m\n\u001b[0;32m--> 747\u001b[0;31m     \u001b[0mcondition\u001b[0m\u001b[0;34m,\u001b[0m \u001b[0moutputs\u001b[0m\u001b[0;34m,\u001b[0m \u001b[0mupdates\u001b[0m \u001b[0;34m=\u001b[0m \u001b[0mutils\u001b[0m\u001b[0;34m.\u001b[0m\u001b[0mget_updates_and_outputs\u001b[0m\u001b[0;34m(\u001b[0m\u001b[0mfn\u001b[0m\u001b[0;34m(\u001b[0m\u001b[0;34m*\u001b[0m\u001b[0margs\u001b[0m\u001b[0;34m)\u001b[0m\u001b[0;34m)\u001b[0m\u001b[0;34m\u001b[0m\u001b[0;34m\u001b[0m\u001b[0m\n\u001b[0m\u001b[1;32m    748\u001b[0m     \u001b[0;32mif\u001b[0m \u001b[0mcondition\u001b[0m \u001b[0;32mis\u001b[0m \u001b[0;32mnot\u001b[0m \u001b[0;32mNone\u001b[0m\u001b[0;34m:\u001b[0m\u001b[0;34m\u001b[0m\u001b[0;34m\u001b[0m\u001b[0m\n\u001b[1;32m    749\u001b[0m         \u001b[0mas_while\u001b[0m \u001b[0;34m=\u001b[0m \u001b[0;32mTrue\u001b[0m\u001b[0;34m\u001b[0m\u001b[0;34m\u001b[0m\u001b[0m\n",
      "\u001b[0;32m<ipython-input-609-b8b5775e4b05>\u001b[0m in \u001b[0;36minner_scan_for_zone_final\u001b[0;34m(z_idx, ys, is_covid_start)\u001b[0m\n\u001b[1;32m     24\u001b[0m                                   outputs_info=[\n\u001b[1;32m     25\u001b[0m \u001b[0;31m#                                       dict(initial = map_estimate['initial_level'][z_idx], taps=None),\u001b[0m\u001b[0;34m\u001b[0m\u001b[0;34m\u001b[0m\u001b[0;34m\u001b[0m\u001b[0m\n\u001b[0;32m---> 26\u001b[0;31m                                       \u001b[0mdict\u001b[0m\u001b[0;34m(\u001b[0m\u001b[0minitial\u001b[0m \u001b[0;34m=\u001b[0m \u001b[0mtt\u001b[0m\u001b[0;34m.\u001b[0m\u001b[0msharedvar\u001b[0m\u001b[0;34m(\u001b[0m\u001b[0mmap_estimate\u001b[0m\u001b[0;34m[\u001b[0m\u001b[0;34m'initial_level'\u001b[0m\u001b[0;34m]\u001b[0m\u001b[0;34m)\u001b[0m\u001b[0;34m[\u001b[0m\u001b[0mz_idx\u001b[0m\u001b[0;34m]\u001b[0m\u001b[0;34m,\u001b[0m \u001b[0mtaps\u001b[0m\u001b[0;34m=\u001b[0m\u001b[0;32mNone\u001b[0m\u001b[0;34m)\u001b[0m\u001b[0;34m,\u001b[0m\u001b[0;34m\u001b[0m\u001b[0;34m\u001b[0m\u001b[0m\n\u001b[0m\u001b[1;32m     27\u001b[0m \u001b[0;31m#                                       dict(initial = map_estimate['initial_level'][z_idx.get_test_value()], taps=None),\u001b[0m\u001b[0;34m\u001b[0m\u001b[0;34m\u001b[0m\u001b[0;34m\u001b[0m\u001b[0m\n\u001b[1;32m     28\u001b[0m                                       \u001b[0mdict\u001b[0m\u001b[0;34m(\u001b[0m\u001b[0minitial\u001b[0m \u001b[0;34m=\u001b[0m \u001b[0mmap_estimate\u001b[0m\u001b[0;34m[\u001b[0m\u001b[0;34m'initial_trend'\u001b[0m\u001b[0;34m]\u001b[0m\u001b[0;34m[\u001b[0m\u001b[0mz_idx\u001b[0m\u001b[0;34m]\u001b[0m\u001b[0;34m,\u001b[0m \u001b[0mtaps\u001b[0m\u001b[0;34m=\u001b[0m\u001b[0;32mNone\u001b[0m\u001b[0;34m)\u001b[0m\u001b[0;34m,\u001b[0m\u001b[0;34m\u001b[0m\u001b[0;34m\u001b[0m\u001b[0m\n",
      "\u001b[0;31mTypeError\u001b[0m: 'module' object is not callable"
     ]
    }
   ],
   "source": [
    "# szn_smoother = tt.as_tensor_variable(map_estimate['smoothing_season'])\n",
    "\n",
    "\n",
    "def hw_component_wise_wrapper_final(z_idx):\n",
    "        def hw_component_wise_final(y, covid_start, prior_level, prior_trend, szn_m52):\n",
    "            updated_szn = map_estimate['smoothing_season'][z_idx] * y / (prior_level + prior_trend) + (1 - map_estimate['smoothing_season'][z_idx]) * szn_m52\n",
    "\n",
    "\n",
    "            next_level = map_estimate['smoothing_level'][z_idx] * (y/szn_m52) + (1 - map_estimate['smoothing_level'][z_idx])*(prior_level + prior_trend) + covid_start*map_estimate['covid_level_change'][z_idx]\n",
    "            \n",
    "            next_trend = map_estimate['smoothing_trend'][z_idx] * (next_level - prior_level) + (1 - map_estimate['smoothing_trend'][z_idx])*prior_trend - covid_start*map_estimate['smoothing_trend'][z_idx]*map_estimate['covid_level_change2'][z_idx]\n",
    "\n",
    "\n",
    "            return next_level, next_trend, updated_szn\n",
    "        return hw_component_wise_final\n",
    "    \n",
    "def inner_scan_for_zone_final(z_idx, ys, is_covid_start):\n",
    "#     import pdb; pdb.set_trace()\n",
    "    outputs, updates = theano.scan(hw_component_wise_wrapper_final(z_idx),\n",
    "                                  sequences=[\n",
    "                                      ys[1:], # this [1:] is done assuming we padded and shifted y_obs\n",
    "                                      is_covid_start[1:]\n",
    "                                  ],\n",
    "                                  outputs_info=[\n",
    "#                                       dict(initial = map_estimate['initial_level'][z_idx], taps=None),\n",
    "                                      dict(initial = tt.sharedvar(map_estimate['initial_level'])[z_idx], taps=None),\n",
    "#                                       dict(initial = map_estimate['initial_level'][z_idx.get_test_value()], taps=None),\n",
    "                                      dict(initial = map_estimate['initial_trend'][z_idx], taps=None),\n",
    "#                                       dict(initial = map_estimate['initial_trend'][z_idx.get_test_value()], taps=None),\n",
    "                                      dict(initial = map_estimate['initial_szns'][z_idx], taps=[-szn_len])\n",
    "#                                       dict(initial = map_estimate['initial_szns'][z_idx.get_test_value()], taps=[-szn_len])\n",
    "#                                       dict(initial = initial_seasons, taps=[-szn_len])\n",
    "                                  ])\n",
    "    return outputs\n",
    "\n",
    "outputs, updates = theano.scan(inner_scan_for_zone_final,\n",
    "           sequences=[\n",
    "#                tt.as_index_constant(np.unique(zone_idx)),\n",
    "#                tt.as_tensor_variable(np.unique(zone_idx)),\n",
    "               tt.cast(np.unique(zone_idx), 'int64'),\n",
    "#                np.unique(zone_idx),\n",
    "               tt.as_tensor_variable(ys_list),\n",
    "#                np.array(ys_list),\n",
    "               tt.as_tensor_variable(is_covid_start_list),\n",
    "#                np.array(is_covid_start_list),\n",
    "#                np.array(first_t_list)\n",
    "           ])"
   ]
  },
  {
   "cell_type": "code",
   "execution_count": 623,
   "id": "6b7a744a",
   "metadata": {},
   "outputs": [
    {
     "name": "stderr",
     "output_type": "stream",
     "text": [
      "WARNING (theano.scan.basic): Output None (index 0) has a initial state but taps is explicitly set to None \n",
      "WARNING (theano.scan.basic): Output None (index 1) has a initial state but taps is explicitly set to None \n"
     ]
    }
   ],
   "source": [
    "# szn_smoother = tt.as_tensor_variable(map_estimate['smoothing_season'])\n",
    "\n",
    "\n",
    "def hw_component_wise_wrapper_final(szn_smoother, level_smoother, trend_smoother, covid_level_change, covid_level_change2):\n",
    "        def hw_component_wise_final(y, covid_start, prior_level, prior_trend, szn_m52):\n",
    "            updated_szn = map_estimate['smoothing_season'][z_idx] * y / (prior_level + prior_trend) + (1 - map_estimate['smoothing_season'][z_idx]) * szn_m52\n",
    "\n",
    "\n",
    "            next_level = map_estimate['smoothing_level'][z_idx] * (y/szn_m52) + (1 - map_estimate['smoothing_level'][z_idx])*(prior_level + prior_trend) + covid_start*map_estimate['covid_level_change'][z_idx]\n",
    "            \n",
    "            next_trend = map_estimate['smoothing_trend'][z_idx] * (next_level - prior_level) + (1 - map_estimate['smoothing_trend'][z_idx])*prior_trend - covid_start*map_estimate['smoothing_trend'][z_idx]*map_estimate['covid_level_change2'][z_idx]\n",
    "\n",
    "\n",
    "            return next_level, next_trend, updated_szn\n",
    "        return hw_component_wise_final\n",
    "    \n",
    "def inner_scan_for_zone_final(szn_smoother, level_smoother, trend_smoother, covid_level_change, covid_level_change2, ys, is_covid_start, estimated_initial_level, estimated_initial_trend, estimated_initial_szns):\n",
    "#     import pdb; pdb.set_trace()\n",
    "    outputs, updates = theano.scan(hw_component_wise_wrapper_final(szn_smoother, level_smoother, trend_smoother, covid_level_change, covid_level_change2),\n",
    "                                  sequences=[\n",
    "                                      ys[1:], # this [1:] is done assuming we padded and shifted y_obs\n",
    "                                      is_covid_start[1:]\n",
    "                                  ],\n",
    "                                  outputs_info=[\n",
    "#                                       dict(initial = map_estimate['initial_level'][z_idx], taps=None),\n",
    "                                      dict(initial = estimated_initial_level, taps=None),\n",
    "                                      \n",
    "                                      dict(initial = estimated_initial_trend, taps=None),\n",
    "#                                       dict(initial = map_estimate['initial_trend'][z_idx], taps=None),\n",
    "                                      \n",
    "                                      dict(initial = estimated_initial_szns, taps=[-szn_len])\n",
    "                                  ])\n",
    "    return outputs\n",
    "\n",
    "outputs, updates = theano.scan(inner_scan_for_zone_final,\n",
    "           sequences=[\n",
    "               tt.as_tensor_variable(map_estimate['smoothing_season']),\n",
    "               tt.as_tensor_variable(map_estimate['smoothing_level']),\n",
    "               tt.as_tensor_variable(map_estimate['smoothing_trend']),\n",
    "               tt.as_tensor_variable(map_estimate['covid_level_change']),\n",
    "               tt.as_tensor_variable(map_estimate['covid_level_change2']),\n",
    "#                tt.as_index_constant(np.unique(zone_idx)),\n",
    "#                tt.as_tensor_variable(np.unique(zone_idx)),\n",
    "#                tt.cast(np.unique(zone_idx), 'int64'),\n",
    "#                np.unique(zone_idx),\n",
    "               tt.as_tensor_variable(ys_list),\n",
    "#                np.array(ys_list),\n",
    "               tt.as_tensor_variable(is_covid_start_list),\n",
    "#                np.array(is_covid_start_list),\n",
    "#                np.array(first_t_list)\n",
    "               tt.as_tensor_variable(map_estimate['initial_level']),\n",
    "               tt.as_tensor_variable(map_estimate['initial_trend']),\n",
    "               tt.as_tensor_variable(map_estimate['initial_szns']),\n",
    "               \n",
    "           ])"
   ]
  },
  {
   "cell_type": "code",
   "execution_count": 625,
   "id": "40f783a3",
   "metadata": {},
   "outputs": [],
   "source": [
    "levels = outputs[0]\n",
    "trends = outputs[1]\n",
    "seasons = outputs[2]\n",
    "\n",
    "levels_f = pm.math.concatenate([map_estimate['initial_level'].reshape((d2.zone_id.nunique(),1)), levels[:,:-1]], axis=1)\n",
    "trends_f = pm.math.concatenate([map_estimate['initial_trend'].reshape((d2.zone_id.nunique(),1)), trends[:,:-1]], axis=1)\n",
    "seasons_f = pm.math.concatenate([map_estimate['initial_szns'], seasons[:,:-szn_len]], axis=1)\n",
    "\n",
    "levels_and_trends = pm.math.stack([levels_f, trends_f], axis=1)\n",
    "level_plus_trend = levels_and_trends.sum(axis=1)\n",
    "\n",
    "level_plus_trend_and_seasons = pm.math.stack([level_plus_trend, seasons_f], axis=1)\n",
    "y_hats = level_plus_trend_and_seasons.prod(axis=1)\n",
    "\n",
    "# sig = pm.HalfCauchy('sigma', beta=10)\n",
    "# y_like = pm.Normal('y_like', mu=y_hats, sigma=sig, observed=np.array(y_obs_lagm1_list)[:,:-1])"
   ]
  },
  {
   "cell_type": "code",
   "execution_count": 525,
   "id": "4b216390",
   "metadata": {},
   "outputs": [
    {
     "data": {
      "text/plain": [
       "array([0, 1])"
      ]
     },
     "execution_count": 525,
     "metadata": {},
     "output_type": "execute_result"
    }
   ],
   "source": [
    "np.unique(zone_idx)"
   ]
  },
  {
   "cell_type": "code",
   "execution_count": 467,
   "id": "25ce60b9",
   "metadata": {},
   "outputs": [
    {
     "data": {
      "text/plain": [
       "1"
      ]
     },
     "execution_count": 467,
     "metadata": {},
     "output_type": "execute_result"
    }
   ],
   "source": [
    "z_idx"
   ]
  },
  {
   "cell_type": "code",
   "execution_count": 626,
   "id": "ea6adf57",
   "metadata": {},
   "outputs": [
    {
     "data": {
      "text/plain": [
       "[<matplotlib.lines.Line2D at 0x1782e7040>]"
      ]
     },
     "execution_count": 626,
     "metadata": {},
     "output_type": "execute_result"
    },
    {
     "data": {
      "image/png": "[encoded data removed]",
      "text/plain": [
       "<Figure size 432x288 with 1 Axes>"
      ]
     },
     "metadata": {},
     "output_type": "display_data"
    }
   ],
   "source": [
    "# d2.iloc[1:].reset_index().y_obs.plot()\n",
    "test_z_idx = np.unique(zone_idx)[0]\n",
    "\n",
    "d2.loc[d2.zone_idx == test_z_idx].reset_index().y_obs.plot()\n",
    "plt.plot(y_hats.get_test_value()[test_z_idx])"
   ]
  },
  {
   "cell_type": "code",
   "execution_count": 627,
   "id": "a8c6c7f5",
   "metadata": {},
   "outputs": [
    {
     "data": {
      "text/plain": [
       "[<matplotlib.lines.Line2D at 0x1b2784c70>]"
      ]
     },
     "execution_count": 627,
     "metadata": {},
     "output_type": "execute_result"
    },
    {
     "data": {
      "image/png": "[encoded data removed]",
      "text/plain": [
       "<Figure size 432x288 with 1 Axes>"
      ]
     },
     "metadata": {},
     "output_type": "display_data"
    }
   ],
   "source": [
    "# d2.iloc[1:].reset_index().y_obs.plot()\n",
    "test_z_idx = np.unique(zone_idx)[1]\n",
    "\n",
    "d2.loc[d2.zone_idx == test_z_idx].reset_index().y_obs.plot()\n",
    "plt.plot(y_hats.get_test_value()[test_z_idx])"
   ]
  },
  {
   "cell_type": "code",
   "execution_count": 543,
   "id": "8d0a00ac",
   "metadata": {},
   "outputs": [
    {
     "data": {
      "text/plain": [
       "[<matplotlib.lines.Line2D at 0x1a113adf0>]"
      ]
     },
     "execution_count": 543,
     "metadata": {},
     "output_type": "execute_result"
    },
    {
     "data": {
      "image/png": "[encoded data removed]",
      "text/plain": [
       "<Figure size 432x288 with 1 Axes>"
      ]
     },
     "metadata": {},
     "output_type": "display_data"
    }
   ],
   "source": [
    "# d2.iloc[1:].reset_index().y_obs.plot()\n",
    "test_z_idx = np.unique(zone_idx)[0]\n",
    "\n",
    "d2.loc[d2.zone_idx == test_z_idx].reset_index().y_obs.plot()\n",
    "plt.plot(y_hats.get_test_value()[test_z_idx])"
   ]
  },
  {
   "cell_type": "code",
   "execution_count": 548,
   "id": "7eba3998",
   "metadata": {},
   "outputs": [
    {
     "data": {
      "text/plain": [
       "<AxesSubplot:>"
      ]
     },
     "execution_count": 548,
     "metadata": {},
     "output_type": "execute_result"
    },
    {
     "data": {
      "image/png": "[encoded data removed]",
      "text/plain": [
       "<Figure size 432x288 with 1 Axes>"
      ]
     },
     "metadata": {},
     "output_type": "display_data"
    }
   ],
   "source": [
    "d2.loc[d2.zone_idx == test_z_idx].reset_index().y_obs.plot()"
   ]
  },
  {
   "cell_type": "code",
   "execution_count": 549,
   "id": "06317cf3",
   "metadata": {},
   "outputs": [
    {
     "data": {
      "text/plain": [
       "<AxesSubplot:xlabel='date_idx'>"
      ]
     },
     "execution_count": 549,
     "metadata": {},
     "output_type": "execute_result"
    },
    {
     "data": {
      "image/png": "[encoded data removed]",
      "text/plain": [
       "<Figure size 432x288 with 1 Axes>"
      ]
     },
     "metadata": {},
     "output_type": "display_data"
    }
   ],
   "source": [
    "df_prep.loc[df_prep.zone_id == 1].y_obs.plot()"
   ]
  },
  {
   "cell_type": "code",
   "execution_count": 545,
   "id": "7c20269d",
   "metadata": {},
   "outputs": [
    {
     "data": {
      "text/plain": [
       "[<matplotlib.lines.Line2D at 0x1a4d2c5e0>]"
      ]
     },
     "execution_count": 545,
     "metadata": {},
     "output_type": "execute_result"
    },
    {
     "data": {
      "image/png": "[encoded data removed]",
      "text/plain": [
       "<Figure size 432x288 with 1 Axes>"
      ]
     },
     "metadata": {},
     "output_type": "display_data"
    }
   ],
   "source": [
    "plt.plot(map_estimate['initial_szns'][test_z_idx])"
   ]
  },
  {
   "cell_type": "code",
   "execution_count": 546,
   "id": "5b066508",
   "metadata": {},
   "outputs": [
    {
     "data": {
      "text/plain": [
       "[<matplotlib.lines.Line2D at 0x177fa95b0>]"
      ]
     },
     "execution_count": 546,
     "metadata": {},
     "output_type": "execute_result"
    },
    {
     "data": {
      "image/png": "[encoded data removed]",
      "text/plain": [
       "<Figure size 432x288 with 1 Axes>"
      ]
     },
     "metadata": {},
     "output_type": "display_data"
    }
   ],
   "source": [
    "plt.plot(seasons_f.get_test_value()[test_z_idx][:53])"
   ]
  },
  {
   "cell_type": "code",
   "execution_count": 550,
   "id": "8fdcae45",
   "metadata": {},
   "outputs": [
    {
     "data": {
      "text/plain": [
       "[<matplotlib.lines.Line2D at 0x18d8c8b20>]"
      ]
     },
     "execution_count": 550,
     "metadata": {},
     "output_type": "execute_result"
    },
    {
     "data": {
      "image/png": "[encoded data removed]",
      "text/plain": [
       "<Figure size 432x288 with 1 Axes>"
      ]
     },
     "metadata": {},
     "output_type": "display_data"
    }
   ],
   "source": [
    "plt.plot(levels_f.get_test_value()[test_z_idx])"
   ]
  },
  {
   "cell_type": "code",
   "execution_count": 551,
   "id": "bec660ee",
   "metadata": {},
   "outputs": [
    {
     "data": {
      "text/plain": [
       "[<matplotlib.lines.Line2D at 0x18a679af0>]"
      ]
     },
     "execution_count": 551,
     "metadata": {},
     "output_type": "execute_result"
    },
    {
     "data": {
      "image/png": "[encoded data removed]",
      "text/plain": [
       "<Figure size 432x288 with 1 Axes>"
      ]
     },
     "metadata": {},
     "output_type": "display_data"
    }
   ],
   "source": [
    "plt.plot(trends_f.get_test_value()[test_z_idx])"
   ]
  },
  {
   "cell_type": "code",
   "execution_count": 552,
   "id": "b19cb8b4",
   "metadata": {},
   "outputs": [
    {
     "data": {
      "text/plain": [
       "[<matplotlib.lines.Line2D at 0x191c0fc70>]"
      ]
     },
     "execution_count": 552,
     "metadata": {},
     "output_type": "execute_result"
    },
    {
     "data": {
      "image/png": "[encoded data removed]",
      "text/plain": [
       "<Figure size 432x288 with 1 Axes>"
      ]
     },
     "metadata": {},
     "output_type": "display_data"
    }
   ],
   "source": [
    "plt.plot(levels_f.get_test_value()[test_z_idx,:5])"
   ]
  },
  {
   "cell_type": "code",
   "execution_count": 553,
   "id": "f9ff7e07",
   "metadata": {},
   "outputs": [
    {
     "data": {
      "text/plain": [
       "[<matplotlib.lines.Line2D at 0x1b4c18b20>]"
      ]
     },
     "execution_count": 553,
     "metadata": {},
     "output_type": "execute_result"
    },
    {
     "data": {
      "image/png": "[encoded data removed]",
      "text/plain": [
       "<Figure size 432x288 with 1 Axes>"
      ]
     },
     "metadata": {},
     "output_type": "display_data"
    }
   ],
   "source": [
    "plt.plot(trends_f.get_test_value()[test_z_idx,:5])"
   ]
  },
  {
   "cell_type": "code",
   "execution_count": 527,
   "id": "69694b51",
   "metadata": {},
   "outputs": [
    {
     "data": {
      "text/plain": [
       "[<matplotlib.lines.Line2D at 0x18c95e520>]"
      ]
     },
     "execution_count": 527,
     "metadata": {},
     "output_type": "execute_result"
    },
    {
     "data": {
      "image/png": "[encoded data removed]",
      "text/plain": [
       "<Figure size 432x288 with 1 Axes>"
      ]
     },
     "metadata": {},
     "output_type": "display_data"
    }
   ],
   "source": [
    "plt.plot(seasons_f.get_test_value()[test_z_idx])"
   ]
  },
  {
   "cell_type": "code",
   "execution_count": 519,
   "id": "022cd7e0",
   "metadata": {},
   "outputs": [
    {
     "data": {
      "text/plain": [
       "[<matplotlib.lines.Line2D at 0x1980d94c0>]"
      ]
     },
     "execution_count": 519,
     "metadata": {},
     "output_type": "execute_result"
    },
    {
     "data": {
      "image/png": "[encoded data removed]",
      "text/plain": [
       "<Figure size 432x288 with 1 Axes>"
      ]
     },
     "metadata": {},
     "output_type": "display_data"
    }
   ],
   "source": [
    "plt.plot(seasons_f.get_test_value()[0])\n",
    "plt.plot(seasons_f.get_test_value()[1])"
   ]
  },
  {
   "cell_type": "code",
   "execution_count": 517,
   "id": "43f2e1a0",
   "metadata": {},
   "outputs": [
    {
     "data": {
      "text/plain": [
       "[<matplotlib.lines.Line2D at 0x17d3e22e0>]"
      ]
     },
     "execution_count": 517,
     "metadata": {},
     "output_type": "execute_result"
    },
    {
     "data": {
      "image/png": "[encoded data removed]",
      "text/plain": [
       "<Figure size 432x288 with 1 Axes>"
      ]
     },
     "metadata": {},
     "output_type": "display_data"
    }
   ],
   "source": [
    "plt.plot(levels_f.get_test_value()[test_z_idx])"
   ]
  },
  {
   "cell_type": "code",
   "execution_count": 518,
   "id": "41716854",
   "metadata": {},
   "outputs": [
    {
     "data": {
      "text/plain": [
       "[<matplotlib.lines.Line2D at 0x1a57339d0>]"
      ]
     },
     "execution_count": 518,
     "metadata": {},
     "output_type": "execute_result"
    },
    {
     "data": {
      "image/png": "[encoded data removed]",
      "text/plain": [
       "<Figure size 432x288 with 1 Axes>"
      ]
     },
     "metadata": {},
     "output_type": "display_data"
    }
   ],
   "source": [
    "plt.plot(trends_f.get_test_value()[test_z_idx])"
   ]
  },
  {
   "cell_type": "code",
   "execution_count": 540,
   "id": "6b321387",
   "metadata": {},
   "outputs": [
    {
     "data": {
      "text/plain": [
       "[<matplotlib.lines.Line2D at 0x17d93db20>]"
      ]
     },
     "execution_count": 540,
     "metadata": {},
     "output_type": "execute_result"
    },
    {
     "data": {
      "image/png": "[encoded data removed]",
      "text/plain": [
       "<Figure size 432x288 with 1 Axes>"
      ]
     },
     "metadata": {},
     "output_type": "display_data"
    }
   ],
   "source": [
    "# d2.iloc[1:].reset_index().y_obs.plot()\n",
    "test_z_idx = np.unique(zone_idx)[1]\n",
    "\n",
    "d2.loc[d2.zone_idx == test_z_idx].reset_index().y_obs.plot()\n",
    "plt.plot(y_hats.get_test_value()[test_z_idx])"
   ]
  },
  {
   "cell_type": "code",
   "execution_count": 515,
   "id": "eb64fc78",
   "metadata": {},
   "outputs": [
    {
     "data": {
      "text/plain": [
       "[<matplotlib.lines.Line2D at 0x16c6b7970>]"
      ]
     },
     "execution_count": 515,
     "metadata": {},
     "output_type": "execute_result"
    },
    {
     "data": {
      "image/png": "[encoded data removed]",
      "text/plain": [
       "<Figure size 432x288 with 1 Axes>"
      ]
     },
     "metadata": {},
     "output_type": "display_data"
    }
   ],
   "source": [
    "# d2.iloc[1:].reset_index().y_obs.plot()\n",
    "test_z_idx = np.unique(zone_idx)[1]\n",
    "\n",
    "d2.loc[d2.zone_idx == test_z_idx].reset_index().y_obs.plot()\n",
    "plt.plot(y_hats.get_test_value()[test_z_idx])"
   ]
  },
  {
   "cell_type": "code",
   "execution_count": 500,
   "id": "1a068e6c",
   "metadata": {},
   "outputs": [
    {
     "data": {
      "text/plain": [
       "<AxesSubplot:>"
      ]
     },
     "execution_count": 500,
     "metadata": {},
     "output_type": "execute_result"
    },
    {
     "data": {
      "image/png": "[encoded data removed]",
      "text/plain": [
       "<Figure size 432x288 with 1 Axes>"
      ]
     },
     "metadata": {},
     "output_type": "display_data"
    }
   ],
   "source": [
    "d2.loc[d2.zone_idx == test_z_idx].reset_index().y_obs.plot()"
   ]
  },
  {
   "cell_type": "code",
   "execution_count": 505,
   "id": "92917589",
   "metadata": {},
   "outputs": [
    {
     "data": {
      "text/plain": [
       "[<matplotlib.lines.Line2D at 0x1a4da3400>]"
      ]
     },
     "execution_count": 505,
     "metadata": {},
     "output_type": "execute_result"
    },
    {
     "data": {
      "image/png": "[encoded data removed]",
      "text/plain": [
       "<Figure size 432x288 with 1 Axes>"
      ]
     },
     "metadata": {},
     "output_type": "display_data"
    }
   ],
   "source": [
    "plt.plot(seasons_f.get_test_value()[test_z_idx])"
   ]
  },
  {
   "cell_type": "code",
   "execution_count": 506,
   "id": "a228f50e",
   "metadata": {},
   "outputs": [
    {
     "data": {
      "text/plain": [
       "[<matplotlib.lines.Line2D at 0x184972730>]"
      ]
     },
     "execution_count": 506,
     "metadata": {},
     "output_type": "execute_result"
    },
    {
     "data": {
      "image/png": "[encoded data removed]",
      "text/plain": [
       "<Figure size 432x288 with 1 Axes>"
      ]
     },
     "metadata": {},
     "output_type": "display_data"
    }
   ],
   "source": [
    "plt.plot(levels_f.get_test_value()[test_z_idx])"
   ]
  },
  {
   "cell_type": "code",
   "execution_count": 507,
   "id": "96991893",
   "metadata": {},
   "outputs": [
    {
     "data": {
      "text/plain": [
       "[<matplotlib.lines.Line2D at 0x18e2bd340>]"
      ]
     },
     "execution_count": 507,
     "metadata": {},
     "output_type": "execute_result"
    },
    {
     "data": {
      "image/png": "[encoded data removed]",
      "text/plain": [
       "<Figure size 432x288 with 1 Axes>"
      ]
     },
     "metadata": {},
     "output_type": "display_data"
    }
   ],
   "source": [
    "plt.plot(trends_f.get_test_value()[test_z_idx])"
   ]
  },
  {
   "cell_type": "code",
   "execution_count": 499,
   "id": "52e8f6d6",
   "metadata": {},
   "outputs": [
    {
     "data": {
      "text/plain": [
       "[<matplotlib.lines.Line2D at 0x183a1a190>]"
      ]
     },
     "execution_count": 499,
     "metadata": {},
     "output_type": "execute_result"
    },
    {
     "data": {
      "image/png": "[encoded data removed]",
      "text/plain": [
       "<Figure size 432x288 with 1 Axes>"
      ]
     },
     "metadata": {},
     "output_type": "display_data"
    }
   ],
   "source": [
    "# d2.iloc[1:].reset_index().y_obs.plot()\n",
    "test_z_idx = np.unique(zone_idx)[1]\n",
    "\n",
    "d2.loc[d2.zone_idx == test_z_idx].reset_index().y_obs.plot()\n",
    "plt.plot(y_hats.get_test_value()[test_z_idx])"
   ]
  },
  {
   "cell_type": "code",
   "execution_count": null,
   "id": "a2e85b38",
   "metadata": {},
   "outputs": [],
   "source": [
    "zdf.iloc[1:].reset_index().y_obs.plot()\n",
    "plt.plot(yhats.get_test_value())"
   ]
  },
  {
   "cell_type": "code",
   "execution_count": null,
   "id": "18dda26a",
   "metadata": {},
   "outputs": [],
   "source": [
    "def predict(map_estimate, ys, is_covid_start, horizon):\n",
    "    \n",
    "    if 'initial_szns' in map_estimate:\n",
    "        szn_estimates = tt.as_tensor_variable(map_estimate['initial_szns'])\n",
    "        szn_smoother = map_estimate['smoothing_season']\n",
    "    else:\n",
    "        szn_estimates = tt.as_tensor_variable([1.0 for i in range(52)])\n",
    "        szn_smoother = 0.0\n",
    "\n",
    "    def hw_component_wise_final(y, covid_start, prior_level, prior_trend, szn_m52):\n",
    "            updated_szn = szn_smoother * y / (prior_level + prior_trend) + (1 - szn_smoother) * szn_m52\n",
    "#             updated_szn = map_estimate['smoothing_season'] * y / (prior_level + prior_trend) + (1 - map_estimate['smoothing_season']) * szn_m52\n",
    "\n",
    "\n",
    "            next_level = map_estimate['smoothing_level'] * (y/szn_m52) + (1 - map_estimate['smoothing_level'])*(prior_level + prior_trend) + covid_start*map_estimate['covid_level_change']\n",
    "            next_trend = map_estimate['smoothing_trend'] * (next_level - prior_level) + (1 - map_estimate['smoothing_trend'])*prior_trend - covid_start*map_estimate['smoothing_trend']*map_estimate['covid_level_change2']\n",
    "\n",
    "\n",
    "            return next_level, next_trend, updated_szn\n",
    "\n",
    "    outputs, updates = theano.scan(hw_component_wise_final,\n",
    "               sequences = [\n",
    "#                    ys[szn_len:],\n",
    "                   ys[1:],\n",
    "#                    is_covid_start[szn_len:]\n",
    "                   is_covid_start[1:]\n",
    "        #            post_covid[szn_len:]\n",
    "               ],\n",
    "               outputs_info = [\n",
    "                   dict(initial = map_estimate['initial_level'], taps=None),\n",
    "                   dict(initial = map_estimate['initial_trend'], taps=None),\n",
    "                   dict(initial = szn_estimates, taps=[-szn_len])\n",
    "#                    dict(initial = tt.as_tensor_variable(map_estimate['initial_szns']), taps=[-szn_len])\n",
    "               ], \n",
    "        #            non_sequences = \n",
    "               )\n",
    "    \n",
    "    levels = outputs[0]\n",
    "    trends = outputs[1]\n",
    "    seasons = outputs[2]\n",
    "\n",
    "    levels_f = pm.math.concatenate([map_estimate['initial_level'].reshape(1), levels[:-1]])\n",
    "    trends_f = pm.math.concatenate([map_estimate['initial_trend'].reshape(1), trends[:-1]])\n",
    "#     seasons_f = pm.math.concatenate([map_estimate['initial_szns'], seasons[:-szn_len]])\n",
    "    seasons_f = pm.math.concatenate([szn_estimates, seasons[:-szn_len]])\n",
    "\n",
    "    levels_and_trends = pm.math.stack([levels_f, trends_f])\n",
    "    level_plus_trend = levels_and_trends.sum(axis=0)\n",
    "\n",
    "    level_plus_trend_and_seasons = pm.math.stack([level_plus_trend, seasons_f])\n",
    "    y_hats = level_plus_trend_and_seasons.prod(axis=0)\n",
    "    \n",
    "    corresponding_szn_idx = (horizon - szn_len) - 1\n",
    "#     szn_estimate = seasons_f.get_test_value()[corresponding_szn_idx]\n",
    "    szn_estimate = seasons.get_test_value()[corresponding_szn_idx]\n",
    "\n",
    "#     pred = (levels_f.get_test_value()[-1] + horizon*trends_f.get_test_value()[-1])*szn_estimate\n",
    "    pred = (levels.get_test_value()[-1] + horizon*trends.get_test_value()[-1])*szn_estimate\n",
    "#     return pred, levels, trends, seasons, corresponding_szn_idx, szn_estimate, y_hats\n",
    "    return pred, levels_f, trends_f, seasons_f, seasons, corresponding_szn_idx, szn_estimate, y_hats"
   ]
  },
  {
   "cell_type": "code",
   "execution_count": 447,
   "id": "bd44c6bf",
   "metadata": {},
   "outputs": [
    {
     "data": {
      "text/plain": [
       "(2, 9)"
      ]
     },
     "execution_count": 447,
     "metadata": {},
     "output_type": "execute_result"
    }
   ],
   "source": [
    "y_hats.get_test_value().shape"
   ]
  },
  {
   "cell_type": "code",
   "execution_count": 448,
   "id": "e8abe6e5",
   "metadata": {},
   "outputs": [
    {
     "data": {
      "text/plain": [
       "(2, 9)"
      ]
     },
     "execution_count": 448,
     "metadata": {},
     "output_type": "execute_result"
    }
   ],
   "source": [
    "np.array(y_obs_lagm1_list)[:,:-1].shape"
   ]
  },
  {
   "cell_type": "code",
   "execution_count": 343,
   "id": "b3daf708",
   "metadata": {},
   "outputs": [
    {
     "data": {
      "text/plain": [
       "array([0, 1])"
      ]
     },
     "execution_count": 343,
     "metadata": {},
     "output_type": "execute_result"
    }
   ],
   "source": [
    "np.unique(zone_idx)"
   ]
  },
  {
   "cell_type": "code",
   "execution_count": 344,
   "id": "7224e7e6",
   "metadata": {},
   "outputs": [
    {
     "data": {
      "text/plain": [
       "[[nan, 1, 2, 3, 4, 2, 3, 4, 5, 3], [nan, 0, 0, 0, 0, 1, 2, 3, 4, 1]]"
      ]
     },
     "execution_count": 344,
     "metadata": {},
     "output_type": "execute_result"
    }
   ],
   "source": [
    "ys_list"
   ]
  },
  {
   "cell_type": "code",
   "execution_count": 346,
   "id": "c64a2cbd",
   "metadata": {},
   "outputs": [
    {
     "data": {
      "text/plain": [
       "[for{cpu,scan_fn}.0, for{cpu,scan_fn}.1, for{cpu,scan_fn}.2]"
      ]
     },
     "execution_count": 346,
     "metadata": {},
     "output_type": "execute_result"
    }
   ],
   "source": [
    "outputs"
   ]
  },
  {
   "cell_type": "code",
   "execution_count": 347,
   "id": "e3fcbbfb",
   "metadata": {},
   "outputs": [
    {
     "data": {
      "text/plain": [
       "for{cpu,scan_fn}.0"
      ]
     },
     "execution_count": 347,
     "metadata": {},
     "output_type": "execute_result"
    }
   ],
   "source": [
    "outputs[0]"
   ]
  },
  {
   "cell_type": "code",
   "execution_count": 348,
   "id": "d1bc1cab",
   "metadata": {},
   "outputs": [
    {
     "data": {
      "text/plain": [
       "(2, 9)"
      ]
     },
     "execution_count": 348,
     "metadata": {},
     "output_type": "execute_result"
    }
   ],
   "source": [
    "outputs[0].get_test_value().shape"
   ]
  },
  {
   "cell_type": "code",
   "execution_count": 349,
   "id": "1f418138",
   "metadata": {},
   "outputs": [
    {
     "data": {
      "text/plain": [
       "array([[2500.5       ,  626.375     , -466.28125   , -894.7890625 ,\n",
       "        -884.34610305, -656.04268706, 2124.6349552 , 1111.81977946,\n",
       "         330.96402298],\n",
       "       [2500.        ,  625.        , -468.75      , -898.4375    ,\n",
       "        -887.671875  , -658.87109375, 2122.24707031, 1109.74438477,\n",
       "         326.05919889]])"
      ]
     },
     "execution_count": 349,
     "metadata": {},
     "output_type": "execute_result"
    }
   ],
   "source": [
    "outputs[0].get_test_value()"
   ]
  },
  {
   "cell_type": "code",
   "execution_count": null,
   "id": "483da4da",
   "metadata": {},
   "outputs": [],
   "source": [
    "# levels = outputs[0] has shape (n_zones, len(data))\n",
    "# want each zone's initial_level to be concatenated with its remaining levels, save for the last one"
   ]
  },
  {
   "cell_type": "code",
   "execution_count": 403,
   "id": "754d1cb8",
   "metadata": {},
   "outputs": [
    {
     "data": {
      "text/plain": [
       "array([[5000.        , 2500.5       ,  626.375     , -466.28125   ,\n",
       "        -894.7890625 , -884.34610305, -656.04268706, 2124.6349552 ,\n",
       "        1111.81977946],\n",
       "       [5000.        , 2500.        ,  625.        , -468.75      ,\n",
       "        -898.4375    , -887.671875  , -658.87109375, 2122.24707031,\n",
       "        1109.74438477]])"
      ]
     },
     "execution_count": 403,
     "metadata": {},
     "output_type": "execute_result"
    }
   ],
   "source": [
    "pm.math.concatenate([initial_level.reshape((2,1)), levels[:,:-1]], axis=1).get_test_value()"
   ]
  },
  {
   "cell_type": "code",
   "execution_count": 437,
   "id": "4d81a79e",
   "metadata": {},
   "outputs": [],
   "source": [
    "levels = outputs[0]\n",
    "trends = outputs[1]\n",
    "seasons = outputs[2]\n",
    "\n",
    "\n",
    "levels_f = pm.math.concatenate([initial_level.reshape((d.zone_id.nunique(),1)), levels[:,:-1]], axis=1)\n",
    "trends_f = pm.math.concatenate([initial_trend.reshape((d.zone_id.nunique(),1)), trends[:,:-1]], axis=1)\n",
    "seasons_f = pm.math.concatenate([initial_szns, seasons[:,:-szn_len]], axis=1)\n",
    "\n",
    "levels_and_trends = pm.math.stack([levels_f, trends_f], axis=1)\n",
    "level_plus_trend = levels_and_trends.sum(axis=1)\n",
    "\n",
    "level_plus_trend_and_seasons = pm.math.stack([level_plus_trend, seasons_f], axis=1)\n",
    "y_hats = level_plus_trend_and_seasons.prod(axis=1)\n",
    "\n",
    "sig = pm.HalfCauchy('sigma', beta=10)\n",
    "#         y_like = pm.Normal('y_like', mu=y_hats, sigma=sig, observed=zdf.iloc[szn_len-1:-1, :]['y_obs_lag-1'])\n",
    "y_like = pm.Normal('y_like', mu=y_hats, sigma=sig, observed=np.array(y_obs_lagm1_list)[:,:-1])"
   ]
  },
  {
   "cell_type": "code",
   "execution_count": 438,
   "id": "ba4a0e33",
   "metadata": {},
   "outputs": [
    {
     "data": {
      "text/plain": [
       "array([[ 5000.        ,  1250.75      ,  -935.5625    , -1793.578125  ,\n",
       "         -886.52297227,  -660.09172594,  -378.1613891 ,  1104.34022251,\n",
       "          162.14170503],\n",
       "       [ 5000.        ,  1250.        ,  -937.5       , -1796.875     ,\n",
       "         -888.671875  ,  -660.87109375,  -380.75292969,  1105.74438477,\n",
       "          161.84614636]])"
      ]
     },
     "execution_count": 438,
     "metadata": {},
     "output_type": "execute_result"
    }
   ],
   "source": [
    "y_hats.get_test_value()"
   ]
  },
  {
   "cell_type": "code",
   "execution_count": 439,
   "id": "fe9b9830",
   "metadata": {},
   "outputs": [
    {
     "data": {
      "text/plain": [
       "(2, 9)"
      ]
     },
     "execution_count": 439,
     "metadata": {},
     "output_type": "execute_result"
    }
   ],
   "source": [
    "y_hats.get_test_value().shape"
   ]
  },
  {
   "cell_type": "code",
   "execution_count": 442,
   "id": "22ccb2eb",
   "metadata": {},
   "outputs": [
    {
     "data": {
      "text/plain": [
       "array([[ 1.,  2.,  3.,  4.,  2.,  3.,  4.,  5.,  3., nan],\n",
       "       [ 0.,  0.,  0.,  0.,  1.,  2.,  3.,  4.,  1., nan]])"
      ]
     },
     "execution_count": 442,
     "metadata": {},
     "output_type": "execute_result"
    }
   ],
   "source": [
    "np.array(y_obs_lagm1_list)"
   ]
  },
  {
   "cell_type": "code",
   "execution_count": 444,
   "id": "878f9e19",
   "metadata": {},
   "outputs": [
    {
     "data": {
      "text/plain": [
       "array([[1., 2., 3., 4., 2., 3., 4., 5., 3.],\n",
       "       [0., 0., 0., 0., 1., 2., 3., 4., 1.]])"
      ]
     },
     "execution_count": 444,
     "metadata": {},
     "output_type": "execute_result"
    }
   ],
   "source": [
    "np.array(y_obs_lagm1_list)[:,:-1]"
   ]
  },
  {
   "cell_type": "code",
   "execution_count": 445,
   "id": "24e48c0d",
   "metadata": {},
   "outputs": [
    {
     "data": {
      "text/plain": [
       "(2, 9)"
      ]
     },
     "execution_count": 445,
     "metadata": {},
     "output_type": "execute_result"
    }
   ],
   "source": [
    "np.array(y_obs_lagm1_list)[:,:-1].shape"
   ]
  },
  {
   "cell_type": "code",
   "execution_count": null,
   "id": "b874752d",
   "metadata": {},
   "outputs": [],
   "source": [
    "levels = outputs[0]\n",
    "trends = outputs[1]\n",
    "seasons = outputs[2]\n",
    "\n",
    "\n",
    "levels_f = pm.math.concatenate([initial_level.reshape((d.zone_id.nunique(),1)), levels[:-1]])\n",
    "trends_f = pm.math.concatenate([initial_trend.reshape((d.zone_id.nunique(),1)), trends[:-1]])\n",
    "seasons_f = pm.math.concatenate([initial_szns, seasons[:-szn_len]])\n",
    "\n",
    "levels_and_trends = pm.math.stack([levels_f, trends_f])\n",
    "level_plus_trend = levels_and_trends.sum(axis=0)\n",
    "\n",
    "level_plus_trend_and_seasons = pm.math.stack([level_plus_trend, seasons_f])\n",
    "y_hats = level_plus_trend_and_seasons.prod(axis=0)\n",
    "\n",
    "sig = pm.HalfCauchy('sigma', beta=10)\n",
    "#         y_like = pm.Normal('y_like', mu=y_hats, sigma=sig, observed=zdf.iloc[szn_len-1:-1, :]['y_obs_lag-1'])\n",
    "y_like = pm.Normal('y_like', mu=y_hats, sigma=sig, observed=zdf.iloc[:-1, :]['y_obs_lag-1'])"
   ]
  },
  {
   "cell_type": "code",
   "execution_count": 345,
   "id": "dac8fcf6",
   "metadata": {},
   "outputs": [],
   "source": [
    "## prep data\n",
    "ys_list, is_covid_start_list, first_t_list, y_obs_lagm1_list =  [], [], [], []\n",
    "\n",
    "for z_idx in np.unique(zone_idx):\n",
    "    zdf = d.loc[d.zone_idx == z_idx].sort_values('date')\n",
    "    z_id = zdf.zone_id.unique().item()\n",
    "    \n",
    "    pad_df = pd.DataFrame(columns = zdf.columns)\n",
    "    pad_df.loc[0, 'zone_id'] = z_id\n",
    "    pad_df.loc[0, 'zone_idx'] = z_idx\n",
    "    zdf = pd.concat([pad_df, zdf])\n",
    "    zdf['y_obs_lag-1'] = zdf.y_obs.shift(-1)\n",
    "    \n",
    "    ys_list.append(zdf['y_obs'].tolist())\n",
    "    y_obs_lagm1_list.append(zdf['y_obs_lag-1'].tolist())\n",
    "    is_covid_start_list.append(zdf['covid_start_m1'].tolist())\n",
    "    first_t_list.append(zdf.t.min())"
   ]
  },
  {
   "cell_type": "code",
   "execution_count": 481,
   "id": "c5ce9b02",
   "metadata": {},
   "outputs": [],
   "source": [
    "## prep data\n",
    "# ys_list, is_covid_start_list, first_t_list =  [], [], []\n",
    "szn_len = 52\n",
    "ys_list, is_covid_start_list, y_obs_lagm1_list =  [], [], []\n",
    "\n",
    "for z_idx in np.unique(zone_idx):\n",
    "    zdf = d2.loc[d2.zone_idx == z_idx].sort_values('date')\n",
    "    z_id = zdf.zone_id.unique().item()\n",
    "    \n",
    "    pad_df = pd.DataFrame(columns = zdf.columns)\n",
    "    pad_df.loc[0, 'zone_id'] = z_id\n",
    "    pad_df.loc[0, 'zone_idx'] = z_idx\n",
    "    zdf = pd.concat([pad_df, zdf])\n",
    "    zdf['y_obs_lag-1'] = zdf.y_obs.shift(-1)\n",
    "    \n",
    "    ys_list.append(zdf['y_obs'].tolist())\n",
    "    y_obs_lagm1_list.append(zdf['y_obs_lag-1'].tolist())\n",
    "    is_covid_start_list.append(zdf['covid_start_m1'].tolist())\n",
    "#     first_t_list.append(zdf.t.min())"
   ]
  },
  {
   "cell_type": "code",
   "execution_count": 249,
   "id": "30160a67",
   "metadata": {
    "code_folding": []
   },
   "outputs": [],
   "source": [
    "# def test(x, prev_output):\n",
    "def test(x,y,o1,o2,o3):\n",
    "#     return pm.math.floatX(x**2), pm.math.floatX(3.0)\n",
    "    return pm.math.floatX(x**2), pm.math.floatX(x**2), pm.math.floatX(x**2)\n",
    "\n",
    "# outputs, updates = theano.scan(test,\n",
    "#                                sequences=[\n",
    "#                                    np.array([1.0,2.0,3.0,4.0])\n",
    "# #                                    tt.as_tensor_variable([1.0,2.0,3.0,4.0])\n",
    "#                                ],\n",
    "# #                               outputs_info=[\n",
    "# #                                   dict(initial=pm.math.floatX(0), taps=None)\n",
    "# #                               ]\n",
    "#                               )"
   ]
  },
  {
   "cell_type": "code",
   "execution_count": 292,
   "id": "7c6ffa84",
   "metadata": {},
   "outputs": [
    {
     "data": {
      "text/plain": [
       "array([0.5, 0.5])"
      ]
     },
     "execution_count": 292,
     "metadata": {},
     "output_type": "execute_result"
    }
   ],
   "source": [
    "smoothing_level.get_test_value()"
   ]
  },
  {
   "cell_type": "code",
   "execution_count": 315,
   "id": "1e31086d",
   "metadata": {},
   "outputs": [],
   "source": [
    "def hw_component_wise_wrapper(z_idx):\n",
    "    def hw_component_wise(y, covid_start, prior_level, prior_trend, szn_m52):\n",
    "        updated_szn = smoothing_season[z_idx] * y / (prior_level + prior_trend) + (1 - smoothing_season[z_idx]) * szn_m52\n",
    "\n",
    "\n",
    "        next_level = smoothing_level[z_idx] * (y/szn_m52) + (1 - smoothing_level[z_idx])*(prior_level + prior_trend) + covid_start*covid_level_change[z_idx]\n",
    "        next_trend = smoothing_trend[z_idx] * (next_level - prior_level) + (1 - smoothing_trend[z_idx])*prior_trend - covid_start*smoothing_trend[z_idx]*covid_level_change2[z_idx]\n",
    "\n",
    "\n",
    "        return next_level, next_trend, updated_szn\n",
    "    return hw_component_wise"
   ]
  },
  {
   "cell_type": "code",
   "execution_count": 317,
   "id": "6f1880bf",
   "metadata": {},
   "outputs": [
    {
     "name": "stderr",
     "output_type": "stream",
     "text": [
      "WARNING (theano.scan.basic): Output None (index 0) has a initial state but taps is explicitly set to None \n",
      "WARNING (theano.scan.basic): Output None (index 1) has a initial state but taps is explicitly set to None \n"
     ]
    }
   ],
   "source": [
    "# def inner_scan_for_zone(zone_idx, ys, is_covid_start, first_t):\n",
    "def inner_scan_for_zone(z_idx, ys, is_covid_start):\n",
    "    outputs, updates = theano.scan(hw_component_wise_wrapper(z_idx),\n",
    "                                  sequences=[\n",
    "                                      ys[1:], # this [1:] is done assuming we padded and shifted y_obs\n",
    "                                      is_covid_start[1:]\n",
    "                                  ],\n",
    "                                  outputs_info=[\n",
    "                                      dict(initial = initial_level[z_idx], taps=None),\n",
    "                                      dict(initial = initial_trend[z_idx], taps=None),\n",
    "                                      dict(initial = initial_szns[z_idx], taps=[-szn_len])\n",
    "#                                       dict(initial = initial_seasons, taps=[-szn_len])\n",
    "                                  ])\n",
    "    return outputs\n",
    "\n",
    "outputs, updates = theano.scan(inner_scan_for_zone,\n",
    "           sequences=[\n",
    "               tt.as_tensor_variable(np.unique(zone_idx)),\n",
    "#                np.unique(zone_idx),\n",
    "               tt.as_tensor_variable(ys_list),\n",
    "#                np.array(ys_list),\n",
    "               tt.as_tensor_variable(is_covid_start_list),\n",
    "#                np.array(is_covid_start_list),\n",
    "#                np.array(first_t_list)\n",
    "           ])"
   ]
  },
  {
   "cell_type": "code",
   "execution_count": null,
   "id": "32e3ac6e",
   "metadata": {},
   "outputs": [],
   "source": [
    "# ok, we have the hierarchical priors, etc\n",
    "# we have the inner functions\n",
    "# just need to make sure df_prep is setup correctly, etc per below and test\n",
    "\n",
    "# [] bring back the initial_level_upper thing we had for the prior? maybe need to do per zone\n",
    "# [] make sure we correctly align outputs and observeds\n",
    "\n",
    "# [] apply the padding for ys[1:], etc\n",
    "# [] confirm ok that we're padding newer zones with 0's (initial level will be 0 i guess, but should be fine -- since the optimal smoothing_level will still be determined by the non-0 data)"
   ]
  },
  {
   "cell_type": "code",
   "execution_count": 318,
   "id": "b16de296",
   "metadata": {},
   "outputs": [
    {
     "data": {
      "text/plain": [
       "[for{cpu,scan_fn}.0, for{cpu,scan_fn}.1, for{cpu,scan_fn}.2]"
      ]
     },
     "execution_count": 318,
     "metadata": {},
     "output_type": "execute_result"
    }
   ],
   "source": [
    "outputs"
   ]
  },
  {
   "cell_type": "code",
   "execution_count": 319,
   "id": "2c24bcd5",
   "metadata": {},
   "outputs": [
    {
     "data": {
      "text/plain": [
       "array([[2501.        ,  627.25      , -465.1875    , -895.109375  ,\n",
       "        -883.79416827, 1845.30301136,  876.55212782,  173.53125729],\n",
       "       [2500.        ,  625.        , -468.75      , -897.9375    ,\n",
       "        -886.296875  , 1843.09765625,  874.52050781,  170.60236347]])"
      ]
     },
     "execution_count": 319,
     "metadata": {},
     "output_type": "execute_result"
    }
   ],
   "source": [
    "outputs[0].get_test_value()"
   ]
  },
  {
   "cell_type": "code",
   "execution_count": 287,
   "id": "41f949f8",
   "metadata": {},
   "outputs": [
    {
     "data": {
      "text/plain": [
       "array([[ 4.,  9., 16.,  4.,  9., 16., 25.,  9.],\n",
       "       [ 0.,  0.,  0.,  1.,  4.,  9., 16.,  1.]])"
      ]
     },
     "execution_count": 287,
     "metadata": {},
     "output_type": "execute_result"
    }
   ],
   "source": [
    "outputs[2].get_test_value()"
   ]
  },
  {
   "cell_type": "code",
   "execution_count": 111,
   "id": "3370fbc8",
   "metadata": {
    "collapsed": true
   },
   "outputs": [
    {
     "ename": "SyntaxError",
     "evalue": "'return' outside function (<ipython-input-111-1840a6545aa7>, line 25)",
     "output_type": "error",
     "traceback": [
      "\u001b[0;36m  File \u001b[0;32m\"<ipython-input-111-1840a6545aa7>\"\u001b[0;36m, line \u001b[0;32m25\u001b[0m\n\u001b[0;31m    return outputs\u001b[0m\n\u001b[0m    ^\u001b[0m\n\u001b[0;31mSyntaxError\u001b[0m\u001b[0;31m:\u001b[0m 'return' outside function\n"
     ]
    }
   ],
   "source": [
    "for z_idx in np.unique(zone_idx):\n",
    "    zdf = d2.loc[d2.zone_idx == zone_idx]\n",
    "    ys = tt.as_tensor_variable(zdf['y_obs'])\n",
    "    is_covid_start = tt.as_tensor_variable(zdf['covid_start_m1'])\n",
    "    first_t = zdf.t.min()\n",
    "    initial_seasons = initial_szns[zone_idx, first_t%szn_len:szn_len] + initial_szns[zone_idx, :first_t%szn_len]\n",
    "    \n",
    "    outputs, updates = theano.scan(hw_component_wise,\n",
    "               sequences = [\n",
    "                   ys[1:],\n",
    "#                    ys[szn_len:],\n",
    "                   is_covid_start[1:]\n",
    "#                    is_covid_start[szn_len:]\n",
    "        #            post_covid[szn_len:]\n",
    "               ],\n",
    "               outputs_info = [\n",
    "                   dict(initial = initial_level[zone_idx], taps=None),\n",
    "                   dict(initial = initial_trend[zone_idx], taps=None),\n",
    "                   dict(initial = initial_seasons, taps=[-szn_len])\n",
    "#                    dict(initial = initial_szns[z_idx], taps=[-szn_len])\n",
    "               ], \n",
    "        #            non_sequences = \n",
    "               )\n",
    "\n",
    "    return outputs"
   ]
  },
  {
   "cell_type": "code",
   "execution_count": null,
   "id": "2c4291d6",
   "metadata": {},
   "outputs": [],
   "source": [
    "def fit_hw_model(zdf, initial_lvl_upper):\n",
    "    szn_len = 52\n",
    "\n",
    "    with pm.Model() as hw_model:\n",
    "    #     initial_level = pm.Normal(f'initial_level', mu=3000, sigma=400)\n",
    "#         initial_level = pm.Uniform(f'initial_level', lower=0, upper=5000)\n",
    "        initial_level = pm.Uniform(f'initial_level', lower=0, upper=initial_lvl_upper, shape=(df_prep.zone_id.nunique()))\n",
    "    \n",
    "        smoothing_level_mu = pm.Uniform('smoothing_level_mu', lower=0, upper=1)\n",
    "        smoothing_level_sigma = pm.HalfCauchy('smoothing_level_sigma', beta=0.5)\n",
    "        smoothing_level = pm.TruncatedNormal('smoothing_level', mu=smoothing_level_mu, sigma=smoothing_level_sigma, lower=0, upper=1, shape=(df_prep.zone_id.nunique()))\n",
    "#         smoothing_level = pm.Normal('smoothing_level', mu=0.5, sigma=0.5)\n",
    "\n",
    "    #     initial_trend = pm.Normal(f'initial_trend', mu=0, sigma=100)\n",
    "#         initial_trend = pm.Uniform(f'initial_trend', lower=-1000, upper=1000)\n",
    "        initial_trend = pm.Uniform(f'initial_trend', lower=-initial_lvl_upper/2, upper=initial_lvl_upper/2)\n",
    "        \n",
    "        smoothing_trend_mu = pm.Uniform('smoothing_trend_mu', lower=0, upper=1)\n",
    "        smoothing_trend_sigma = pm.HalfCauchy('smoothing_trend_sigma', beta=0.5)\n",
    "        smoothing_trend = pm.TruncatedNormal('smoothing_trend', mu=smoothing_trend_mu, sigma=smoothing_trend_sigma, lower=0, upper=1, shape=(df_prep.zone_id.nunique()))\n",
    "#         smoothing_trend = pm.Uniform('smoothing_trend', lower=0, upper=1)\n",
    "    #     smoothing_trend = pm.Normal('smoothing_trend', mu=0.5, sigma=0.5)\n",
    "    \n",
    "        \n",
    "        # \n",
    "        initial_szns_mus = pm.Normal('initial_szns_mus', mu=1.0, sigma=0.2, shape=(szn_len))\n",
    "        initial_szns = pm.Normal('initial_szns', mu=initial_szns_mus, sigma=0.2, shape=(df_prep.zone_id.nunique(), szn_len))\n",
    "    #     initial_szns = pm.Uniform('initial_szns', lower=0.7, upper=1.3, shape=(szn_len))\n",
    "    #     smoothing_season = pm.Uniform('smoothing_season', lower=0, upper=1)\n",
    "    #     smoothing_season = pm.Uniform('smoothing_season', lower=0, upper=1)\n",
    "    #     smoothing_season = pm.Uniform('smoothing_season', lower=0, upper=1-smoothing_level)\n",
    "        smoothing_season_mu = pm.Uniform('smoothing_season_mu', lower=0, upper=1)\n",
    "        smoothing_season_sigma = pm.HalfCauchy('smoothing_season_sigma', beta=0.5)\n",
    "        smoothing_season = pm.TruncatedNormal('smoothing_season', mu=smoothing_season_mu, sigma=smoothing_season_sigma, lower=0, upper=1, shape=(df_prep.zone_id.nunique()))\n",
    "#         smoothing_season = pm.TruncatedNormal('smoothing_season', mu=0.2, sigma=0.5, lower=0, upper=0.8)\n",
    "    #     smoothing_season = pm.Normal('smoothing_season', mu=0.5, sigma=0.5)\n",
    "\n",
    "        ys = tt.as_tensor_variable(zdf['y_obs'])\n",
    "        is_covid_start = tt.as_tensor_variable(zdf['covid_start_m1'])\n",
    "    #     covid_level_change = pm.Normal('covid_level_change', mu=15000, sigma=2000)\n",
    "        covid_level_change = pm.Uniform('covid_level_change', lower=0, upper=5000)\n",
    "#         covid_level_change = pm.Normal('covid_level_change', mu=2000, sigma=1000)\n",
    "    #     covid_level_change2 = pm.Normal('covid_level_change2', mu=20000, sigma=2000)\n",
    "        covid_level_change2 = pm.Uniform('covid_level_change2', lower=0, upper=5000)\n",
    "    #     covid_level_change2 = pm.Normal('covid_level_change2', mu=covid_level_change, sigma=1000)\n",
    "    #     covid_level_change2 = pm.Normal('covid_level_change2', mu=covid_level_change, sigma=1000)\n",
    "\n",
    "        def hw_component_wise(y, covid_start, prior_level, prior_trend, szn_m52):\n",
    "            updated_szn = smoothing_season * y / (prior_level + prior_trend) + (1 - smoothing_season) * szn_m52\n",
    "\n",
    "\n",
    "            next_level = smoothing_level * (y/szn_m52) + (1 - smoothing_level)*(prior_level + prior_trend) + covid_start*covid_level_change\n",
    "            next_trend = smoothing_trend * (next_level - prior_level) + (1 - smoothing_trend)*prior_trend - covid_start*smoothing_trend*covid_level_change2\n",
    "\n",
    "\n",
    "            return next_level, next_trend, updated_szn\n",
    "\n",
    "        # pass initial_level[zone_idx], initial_trend[zone_idx], initial_szns[zone_idx] etc\n",
    "        # should the scan be wrapped in a scan too??\n",
    "            # the outer scan would loop through each zone and pass each zone's initial params and data to the inner scan that calls hw_component_wise\n",
    "        outputs, updates = theano.scan(hw_component_wise,\n",
    "               sequences = [\n",
    "                   ys[1:],\n",
    "#                    ys[szn_len:],\n",
    "                   is_covid_start[1:]\n",
    "#                    is_covid_start[szn_len:]\n",
    "        #            post_covid[szn_len:]\n",
    "               ],\n",
    "               outputs_info = [\n",
    "                   dict(initial = initial_level, taps=None),\n",
    "                   dict(initial = initial_trend, taps=None),\n",
    "                   dict(initial = initial_szns, taps=[-szn_len])\n",
    "               ], \n",
    "        #            non_sequences = \n",
    "               )\n",
    "\n",
    "\n",
    "        levels = outputs[0]\n",
    "        trends = outputs[1]\n",
    "        seasons = outputs[2]\n",
    "\n",
    "\n",
    "        levels_f = pm.math.concatenate([initial_level.reshape(1,1), levels[:-1]])\n",
    "        trends_f = pm.math.concatenate([initial_trend.reshape(1,1), trends[:-1]])\n",
    "        seasons_f = pm.math.concatenate([initial_szns, seasons[:-szn_len]])\n",
    "\n",
    "        levels_and_trends = pm.math.stack([levels_f, trends_f])\n",
    "        level_plus_trend = levels_and_trends.sum(axis=0)\n",
    "\n",
    "        level_plus_trend_and_seasons = pm.math.stack([level_plus_trend, seasons_f])\n",
    "        y_hats = level_plus_trend_and_seasons.prod(axis=0)\n",
    "\n",
    "        sig = pm.HalfCauchy('sigma', beta=10)\n",
    "#         y_like = pm.Normal('y_like', mu=y_hats, sigma=sig, observed=zdf.iloc[szn_len-1:-1, :]['y_obs_lag-1'])\n",
    "        y_like = pm.Normal('y_like', mu=y_hats, sigma=sig, observed=zdf.iloc[:-1, :]['y_obs_lag-1'])\n",
    "        \n",
    "    map_estimate = pm.find_MAP(model=hw_model)\n",
    "    \n",
    "    return map_estimate, ys, is_covid_start"
   ]
  },
  {
   "cell_type": "code",
   "execution_count": null,
   "id": "ab96d0fe",
   "metadata": {},
   "outputs": [],
   "source": []
  },
  {
   "cell_type": "code",
   "execution_count": null,
   "id": "048c11fa",
   "metadata": {},
   "outputs": [],
   "source": []
  },
  {
   "cell_type": "code",
   "execution_count": null,
   "id": "6d61c600",
   "metadata": {},
   "outputs": [],
   "source": []
  },
  {
   "cell_type": "code",
   "execution_count": null,
   "id": "fd135291",
   "metadata": {},
   "outputs": [],
   "source": [
    "### dampened\n",
    "\n",
    "# when training, should we train on the horizon of interest?"
   ]
  },
  {
   "cell_type": "code",
   "execution_count": null,
   "id": "93c78976",
   "metadata": {},
   "outputs": [],
   "source": [
    "def fit_hw_model(zdf, initial_lvl_upper):\n",
    "    szn_len = 52\n",
    "\n",
    "    with pm.Model() as hw_model:\n",
    "    #     initial_level = pm.Normal(f'initial_level', mu=3000, sigma=400)\n",
    "#         initial_level = pm.Uniform(f'initial_level', lower=0, upper=5000)\n",
    "        initial_level = pm.Uniform(f'initial_level', lower=0, upper=initial_lvl_upper)\n",
    "        smoothing_level = pm.Uniform('smoothing_level', lower=0, upper=1)\n",
    "#         smoothing_level = pm.Normal('smoothing_level', mu=0.5, sigma=0.5)\n",
    "\n",
    "    #     initial_trend = pm.Normal(f'initial_trend', mu=0, sigma=100)\n",
    "#         initial_trend = pm.Uniform(f'initial_trend', lower=-1000, upper=1000)\n",
    "        initial_trend = pm.Uniform(f'initial_trend', lower=-initial_lvl_upper/2, upper=initial_lvl_upper/2)\n",
    "        smoothing_trend = pm.Uniform('smoothing_trend', lower=0, upper=1)\n",
    "    #     smoothing_trend = pm.Normal('smoothing_trend', mu=0.5, sigma=0.5)\n",
    "\n",
    "        initial_szns = pm.Normal('initial_szns', mu=1.0, sigma=0.2, shape=(szn_len))\n",
    "    #     initial_szns = pm.Uniform('initial_szns', lower=0.7, upper=1.3, shape=(szn_len))\n",
    "    #     smoothing_season = pm.Uniform('smoothing_season', lower=0, upper=1)\n",
    "    #     smoothing_season = pm.Uniform('smoothing_season', lower=0, upper=1)\n",
    "    #     smoothing_season = pm.Uniform('smoothing_season', lower=0, upper=1-smoothing_level)\n",
    "        smoothing_season = pm.TruncatedNormal('smoothing_season', mu=0.2, sigma=0.5, lower=0, upper=0.8)\n",
    "    #     smoothing_season = pm.Normal('smoothing_season', mu=0.5, sigma=0.5)\n",
    "    \n",
    "        dampener = pm.Uniform('dampener', lower=0, upper=1)\n",
    "\n",
    "        ys = tt.as_tensor_variable(zdf['y_obs'])\n",
    "        is_covid_start = tt.as_tensor_variable(zdf['covid_start_m1'])\n",
    "    #     covid_level_change = pm.Normal('covid_level_change', mu=15000, sigma=2000)\n",
    "        covid_level_change = pm.Uniform('covid_level_change', lower=0, upper=5000)\n",
    "#         covid_level_change = pm.Normal('covid_level_change', mu=2000, sigma=1000)\n",
    "    #     covid_level_change2 = pm.Normal('covid_level_change2', mu=20000, sigma=2000)\n",
    "        covid_level_change2 = pm.Uniform('covid_level_change2', lower=0, upper=5000)\n",
    "    #     covid_level_change2 = pm.Normal('covid_level_change2', mu=covid_level_change, sigma=1000)\n",
    "    #     covid_level_change2 = pm.Normal('covid_level_change2', mu=covid_level_change, sigma=1000)\n",
    "\n",
    "        def hw_component_wise(y, covid_start, prior_level, prior_trend, szn_m52):\n",
    "            updated_szn = smoothing_season * y / (prior_level + dampener*prior_trend) + (1 - smoothing_season) * szn_m52\n",
    "\n",
    "\n",
    "            next_level = smoothing_level * (y/szn_m52) + (1 - smoothing_level)*(prior_level + dampener*prior_trend) + covid_start*covid_level_change\n",
    "            next_trend = smoothing_trend * (next_level - prior_level) + (1 - smoothing_trend)*dampener*prior_trend - covid_start*smoothing_trend*covid_level_change2\n",
    "\n",
    "\n",
    "            return next_level, next_trend, updated_szn\n",
    "\n",
    "        outputs, updates = theano.scan(hw_component_wise,\n",
    "               sequences = [\n",
    "                   ys[1:],\n",
    "#                    ys[szn_len:],\n",
    "                   is_covid_start[1:]\n",
    "#                    is_covid_start[szn_len:]\n",
    "        #            post_covid[szn_len:]\n",
    "               ],\n",
    "               outputs_info = [\n",
    "                   dict(initial = initial_level, taps=None),\n",
    "                   dict(initial = initial_trend, taps=None),\n",
    "                   dict(initial = initial_szns, taps=[-szn_len])\n",
    "               ], \n",
    "        #            non_sequences = \n",
    "               )\n",
    "\n",
    "\n",
    "        levels = outputs[0]\n",
    "        trends = outputs[1]\n",
    "        seasons = outputs[2]\n",
    "\n",
    "\n",
    "        levels_f = pm.math.concatenate([initial_level.reshape(1,1), levels[:-1]])\n",
    "        trends_f = pm.math.concatenate([initial_trend.reshape(1,1), trends[:-1]])\n",
    "        trends_f = trends_f * dampener ### pm.math.prod here?\n",
    "        seasons_f = pm.math.concatenate([initial_szns, seasons[:-szn_len]])\n",
    "\n",
    "        levels_and_trends = pm.math.stack([levels_f, trends_f])\n",
    "        level_plus_trend = levels_and_trends.sum(axis=0)\n",
    "\n",
    "        level_plus_trend_and_seasons = pm.math.stack([level_plus_trend, seasons_f])\n",
    "        y_hats = level_plus_trend_and_seasons.prod(axis=0)\n",
    "\n",
    "        sig = pm.HalfCauchy('sigma', beta=10)\n",
    "#         y_like = pm.Normal('y_like', mu=y_hats, sigma=sig, observed=zdf.iloc[szn_len-1:-1, :]['y_obs_lag-1'])\n",
    "        y_like = pm.Normal('y_like', mu=y_hats, sigma=sig, observed=zdf.iloc[:-1, :]['y_obs_lag-1'])\n",
    "        \n",
    "    map_estimate = pm.find_MAP(model=hw_model)\n",
    "    \n",
    "    return map_estimate, ys, is_covid_start"
   ]
  }
 ],
 "metadata": {
  "kernelspec": {
   "display_name": "Python 3",
   "language": "python",
   "name": "python3"
  },
  "language_info": {
   "codemirror_mode": {
    "name": "ipython",
    "version": 3
   },
   "file_extension": ".py",
   "mimetype": "text/x-python",
   "name": "python",
   "nbconvert_exporter": "python",
   "pygments_lexer": "ipython3",
   "version": "3.8.6"
  }
 },
 "nbformat": 4,
 "nbformat_minor": 5
}
