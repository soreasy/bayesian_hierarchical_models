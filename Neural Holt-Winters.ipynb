{
 "cells": [
  {
   "cell_type": "code",
   "execution_count": 3,
   "id": "bd0df408",
   "metadata": {},
   "outputs": [],
   "source": [
    "import torch"
   ]
  },
  {
   "cell_type": "code",
   "execution_count": 47,
   "id": "72663b3e",
   "metadata": {},
   "outputs": [],
   "source": [
    "import pymc3 as pm\n",
    "import theano\n",
    "import theano.tensor as tt\n",
    "\n",
    "import pandas as pd\n",
    "import numpy as np\n",
    "from datetime import datetime, timedelta, date\n",
    "\n",
    "import seaborn as sns\n",
    "\n",
    "import matplotlib.pyplot as plt\n",
    "import matplotlib.style as style\n",
    "style.use('ggplot')"
   ]
  },
  {
   "cell_type": "code",
   "execution_count": 48,
   "id": "c55feafe",
   "metadata": {},
   "outputs": [
    {
     "data": {
      "text/html": [
       "<div>\n",
       "<style scoped>\n",
       "    .dataframe tbody tr th:only-of-type {\n",
       "        vertical-align: middle;\n",
       "    }\n",
       "\n",
       "    .dataframe tbody tr th {\n",
       "        vertical-align: top;\n",
       "    }\n",
       "\n",
       "    .dataframe thead th {\n",
       "        text-align: right;\n",
       "    }\n",
       "</style>\n",
       "<table border=\"1\" class=\"dataframe\">\n",
       "  <thead>\n",
       "    <tr style=\"text-align: right;\">\n",
       "      <th></th>\n",
       "      <th>zone_id</th>\n",
       "      <th>date</th>\n",
       "      <th>total_demand_new</th>\n",
       "      <th>total_demand_new_lag1</th>\n",
       "      <th>total_demand_new_lag2</th>\n",
       "      <th>total_demand_new_lag3</th>\n",
       "      <th>total_demand_new_lag-1</th>\n",
       "      <th>total_demand_new_lag-2</th>\n",
       "      <th>total_demand_new_lag-3</th>\n",
       "      <th>smoothed_total_demand</th>\n",
       "      <th>year</th>\n",
       "      <th>total_demand_new_lag4</th>\n",
       "      <th>t4w_total_demand</th>\n",
       "      <th>month</th>\n",
       "      <th>week</th>\n",
       "      <th>day</th>\n",
       "      <th>t4w_total_demand_lag2</th>\n",
       "      <th>szn_factor</th>\n",
       "    </tr>\n",
       "    <tr>\n",
       "      <th>date_idx</th>\n",
       "      <th></th>\n",
       "      <th></th>\n",
       "      <th></th>\n",
       "      <th></th>\n",
       "      <th></th>\n",
       "      <th></th>\n",
       "      <th></th>\n",
       "      <th></th>\n",
       "      <th></th>\n",
       "      <th></th>\n",
       "      <th></th>\n",
       "      <th></th>\n",
       "      <th></th>\n",
       "      <th></th>\n",
       "      <th></th>\n",
       "      <th></th>\n",
       "      <th></th>\n",
       "      <th></th>\n",
       "    </tr>\n",
       "  </thead>\n",
       "  <tbody>\n",
       "    <tr>\n",
       "      <th>2017-06-26</th>\n",
       "      <td>1</td>\n",
       "      <td>2017-06-26</td>\n",
       "      <td>1860.400531</td>\n",
       "      <td>NaN</td>\n",
       "      <td>NaN</td>\n",
       "      <td>NaN</td>\n",
       "      <td>2070.432348</td>\n",
       "      <td>2122.029861</td>\n",
       "      <td>1997.66904</td>\n",
       "      <td>NaN</td>\n",
       "      <td>2017</td>\n",
       "      <td>NaN</td>\n",
       "      <td>NaN</td>\n",
       "      <td>6</td>\n",
       "      <td>26</td>\n",
       "      <td>26</td>\n",
       "      <td>NaN</td>\n",
       "      <td>NaN</td>\n",
       "    </tr>\n",
       "    <tr>\n",
       "      <th>2017-06-26</th>\n",
       "      <td>582</td>\n",
       "      <td>2017-06-26</td>\n",
       "      <td>0.000000</td>\n",
       "      <td>NaN</td>\n",
       "      <td>NaN</td>\n",
       "      <td>NaN</td>\n",
       "      <td>0.000000</td>\n",
       "      <td>0.000000</td>\n",
       "      <td>0.00000</td>\n",
       "      <td>NaN</td>\n",
       "      <td>2017</td>\n",
       "      <td>NaN</td>\n",
       "      <td>NaN</td>\n",
       "      <td>6</td>\n",
       "      <td>26</td>\n",
       "      <td>26</td>\n",
       "      <td>NaN</td>\n",
       "      <td>NaN</td>\n",
       "    </tr>\n",
       "  </tbody>\n",
       "</table>\n",
       "</div>"
      ],
      "text/plain": [
       "            zone_id        date  total_demand_new  total_demand_new_lag1  \\\n",
       "date_idx                                                                   \n",
       "2017-06-26        1  2017-06-26       1860.400531                    NaN   \n",
       "2017-06-26      582  2017-06-26          0.000000                    NaN   \n",
       "\n",
       "            total_demand_new_lag2  total_demand_new_lag3  \\\n",
       "date_idx                                                   \n",
       "2017-06-26                    NaN                    NaN   \n",
       "2017-06-26                    NaN                    NaN   \n",
       "\n",
       "            total_demand_new_lag-1  total_demand_new_lag-2  \\\n",
       "date_idx                                                     \n",
       "2017-06-26             2070.432348             2122.029861   \n",
       "2017-06-26                0.000000                0.000000   \n",
       "\n",
       "            total_demand_new_lag-3  smoothed_total_demand  year  \\\n",
       "date_idx                                                          \n",
       "2017-06-26              1997.66904                    NaN  2017   \n",
       "2017-06-26                 0.00000                    NaN  2017   \n",
       "\n",
       "            total_demand_new_lag4  t4w_total_demand  month  week  day  \\\n",
       "date_idx                                                                \n",
       "2017-06-26                    NaN               NaN      6    26   26   \n",
       "2017-06-26                    NaN               NaN      6    26   26   \n",
       "\n",
       "            t4w_total_demand_lag2  szn_factor  \n",
       "date_idx                                       \n",
       "2017-06-26                    NaN         NaN  \n",
       "2017-06-26                    NaN         NaN  "
      ]
     },
     "execution_count": 48,
     "metadata": {},
     "output_type": "execute_result"
    }
   ],
   "source": [
    "df = pd.read_csv('weekly_dmd_new.csv')\n",
    "df['date'] = pd.to_datetime(df.date).apply(lambda x: x.date())\n",
    "df = df.set_index(df.date)\n",
    "df.index.rename('date_idx', inplace=True)\n",
    "df.head(2)"
   ]
  },
  {
   "cell_type": "code",
   "execution_count": 674,
   "id": "24c30ac8",
   "metadata": {},
   "outputs": [],
   "source": [
    "covid_start_idx = date(2020,2,17)\n",
    "\n",
    "df_prep = df.loc[(df.date < covid_start_idx)\n",
    "                | (df.date >= covid_start_idx + timedelta(weeks=52))].sort_values('date')\n",
    "\n",
    "# df_prep = df_prep.loc[df_prep.zone_id.isin([1,973,18,27,861,785,942])]\n",
    "# df_prep = df_prep.loc[df_prep.zone_id.isin([1])]\n",
    "df_prep['y_obs'] = df_prep.total_demand_new\n",
    "# df_prep['y_obs'] = df_prep.smoothed_total_demand\n",
    "df_prep['covid_start_m1'] = df_prep.date.apply(lambda x: 1.0 if x == covid_start_idx - timedelta(weeks=1) else 0)\n",
    "\n",
    "min_date = df_prep.date.min()\n",
    "df_prep['t'] = df_prep.date.apply(lambda x: (x - min_date).days / 7)"
   ]
  },
  {
   "cell_type": "code",
   "execution_count": 675,
   "id": "39907a30",
   "metadata": {},
   "outputs": [],
   "source": [
    "zone_id_ohe = pd.get_dummies(df_prep.zone_id, prefix='zone_dummy')\n",
    "df_prep = pd.concat([df_prep, zone_id_ohe], axis=1)"
   ]
  },
  {
   "cell_type": "code",
   "execution_count": 676,
   "id": "9b5155be",
   "metadata": {},
   "outputs": [
    {
     "data": {
      "text/plain": [
       "(76000, 496)"
      ]
     },
     "execution_count": 676,
     "metadata": {},
     "output_type": "execute_result"
    }
   ],
   "source": [
    "df_prep.shape"
   ]
  },
  {
   "cell_type": "code",
   "execution_count": 677,
   "id": "95ef3263",
   "metadata": {},
   "outputs": [
    {
     "data": {
      "text/html": [
       "<div>\n",
       "<style scoped>\n",
       "    .dataframe tbody tr th:only-of-type {\n",
       "        vertical-align: middle;\n",
       "    }\n",
       "\n",
       "    .dataframe tbody tr th {\n",
       "        vertical-align: top;\n",
       "    }\n",
       "\n",
       "    .dataframe thead th {\n",
       "        text-align: right;\n",
       "    }\n",
       "</style>\n",
       "<table border=\"1\" class=\"dataframe\">\n",
       "  <thead>\n",
       "    <tr style=\"text-align: right;\">\n",
       "      <th></th>\n",
       "      <th>zone_id</th>\n",
       "      <th>first_t</th>\n",
       "    </tr>\n",
       "  </thead>\n",
       "  <tbody>\n",
       "    <tr>\n",
       "      <th>0</th>\n",
       "      <td>1</td>\n",
       "      <td>0.0</td>\n",
       "    </tr>\n",
       "    <tr>\n",
       "      <th>1</th>\n",
       "      <td>13</td>\n",
       "      <td>0.0</td>\n",
       "    </tr>\n",
       "  </tbody>\n",
       "</table>\n",
       "</div>"
      ],
      "text/plain": [
       "   zone_id  first_t\n",
       "0        1      0.0\n",
       "1       13      0.0"
      ]
     },
     "execution_count": 677,
     "metadata": {},
     "output_type": "execute_result"
    }
   ],
   "source": [
    "first_ts = df_prep.loc[df_prep.y_obs > 0].groupby('zone_id').t.min().reset_index(name='first_t')\n",
    "first_ts.head(2)"
   ]
  },
  {
   "cell_type": "code",
   "execution_count": 175,
   "id": "2ab15cdb",
   "metadata": {
    "collapsed": true
   },
   "outputs": [
    {
     "name": "stderr",
     "output_type": "stream",
     "text": [
      "/Users/sorenzeliger/.pyenv/versions/3.8.6/lib/python3.8/site-packages/seaborn/distributions.py:2557: FutureWarning: `distplot` is a deprecated function and will be removed in a future version. Please adapt your code to use either `displot` (a figure-level function with similar flexibility) or `histplot` (an axes-level function for histograms).\n",
      "  warnings.warn(msg, FutureWarning)\n"
     ]
    },
    {
     "data": {
      "text/plain": [
       "<AxesSubplot:xlabel='first_t', ylabel='Density'>"
      ]
     },
     "execution_count": 175,
     "metadata": {},
     "output_type": "execute_result"
    },
    {
     "data": {
      "image/png": "[encoded data removed]",
      "text/plain": [
       "<Figure size 432x288 with 1 Axes>"
      ]
     },
     "metadata": {},
     "output_type": "display_data"
    }
   ],
   "source": [
    "sns.distplot(first_ts.first_t)"
   ]
  },
  {
   "cell_type": "code",
   "execution_count": 678,
   "id": "20116015",
   "metadata": {},
   "outputs": [],
   "source": [
    "tt = df_prep[[x for x in list(df_prep) if 'zone_dummy' in x] + ['zone_id']].drop_duplicates()\n",
    "x = torch.from_numpy(np.array(tt))"
   ]
  },
  {
   "cell_type": "code",
   "execution_count": 679,
   "id": "0baabec6",
   "metadata": {},
   "outputs": [
    {
     "data": {
      "text/plain": [
       "torch.Size([475, 476])"
      ]
     },
     "execution_count": 679,
     "metadata": {},
     "output_type": "execute_result"
    }
   ],
   "source": [
    "x.shape"
   ]
  },
  {
   "cell_type": "code",
   "execution_count": 80,
   "id": "6e8aef3d",
   "metadata": {},
   "outputs": [
    {
     "data": {
      "text/plain": [
       "(2386, 74)"
      ]
     },
     "execution_count": 80,
     "metadata": {},
     "output_type": "execute_result"
    }
   ],
   "source": [
    "data_sample = task.supply_estimator.df_clean.loc[task.supply_estimator.df_clean.zone_id.isin([1,973,18,27,861,785,942])].reset_index(drop=True)\n",
    "data_sample.shape"
   ]
  },
  {
   "cell_type": "code",
   "execution_count": 206,
   "id": "aa28500c",
   "metadata": {},
   "outputs": [],
   "source": [
    "zone_id_ohe = pd.get_dummies(data_sample.zone_id, prefix='zone_dummy')\n",
    "data_sample = pd.concat([data_sample, zone_id_ohe], axis=1)"
   ]
  },
  {
   "cell_type": "code",
   "execution_count": 207,
   "id": "9bcefa4b",
   "metadata": {},
   "outputs": [],
   "source": [
    "data_sample['intercept'] = 1"
   ]
  },
  {
   "cell_type": "code",
   "execution_count": 208,
   "id": "245a49d4",
   "metadata": {},
   "outputs": [
    {
     "data": {
      "text/plain": [
       "(233268, 759)"
      ]
     },
     "execution_count": 208,
     "metadata": {},
     "output_type": "execute_result"
    }
   ],
   "source": [
    "data_sample.shape"
   ]
  },
  {
   "cell_type": "code",
   "execution_count": 84,
   "id": "ed506e72",
   "metadata": {},
   "outputs": [
    {
     "data": {
      "text/html": [
       "<div>\n",
       "<style scoped>\n",
       "    .dataframe tbody tr th:only-of-type {\n",
       "        vertical-align: middle;\n",
       "    }\n",
       "\n",
       "    .dataframe tbody tr th {\n",
       "        vertical-align: top;\n",
       "    }\n",
       "\n",
       "    .dataframe thead th {\n",
       "        text-align: right;\n",
       "    }\n",
       "</style>\n",
       "<table border=\"1\" class=\"dataframe\">\n",
       "  <thead>\n",
       "    <tr style=\"text-align: right;\">\n",
       "      <th></th>\n",
       "      <th>zone_dummy_1</th>\n",
       "      <th>zone_dummy_18</th>\n",
       "      <th>zone_dummy_27</th>\n",
       "      <th>zone_dummy_785</th>\n",
       "      <th>zone_dummy_861</th>\n",
       "      <th>zone_dummy_942</th>\n",
       "      <th>zone_dummy_973</th>\n",
       "    </tr>\n",
       "  </thead>\n",
       "  <tbody>\n",
       "    <tr>\n",
       "      <th>0</th>\n",
       "      <td>1</td>\n",
       "      <td>0</td>\n",
       "      <td>0</td>\n",
       "      <td>0</td>\n",
       "      <td>0</td>\n",
       "      <td>0</td>\n",
       "      <td>0</td>\n",
       "    </tr>\n",
       "    <tr>\n",
       "      <th>1</th>\n",
       "      <td>1</td>\n",
       "      <td>0</td>\n",
       "      <td>0</td>\n",
       "      <td>0</td>\n",
       "      <td>0</td>\n",
       "      <td>0</td>\n",
       "      <td>0</td>\n",
       "    </tr>\n",
       "  </tbody>\n",
       "</table>\n",
       "</div>"
      ],
      "text/plain": [
       "   zone_dummy_1  zone_dummy_18  zone_dummy_27  zone_dummy_785  zone_dummy_861  \\\n",
       "0             1              0              0               0               0   \n",
       "1             1              0              0               0               0   \n",
       "\n",
       "   zone_dummy_942  zone_dummy_973  \n",
       "0               0               0  \n",
       "1               0               0  "
      ]
     },
     "execution_count": 84,
     "metadata": {},
     "output_type": "execute_result"
    }
   ],
   "source": [
    "data_sample[[x for x in list(data_sample) if 'zone_dummy' in x]].head(2)"
   ]
  },
  {
   "cell_type": "code",
   "execution_count": 209,
   "id": "4d981187",
   "metadata": {},
   "outputs": [],
   "source": [
    "x = torch.from_numpy(np.array(data_sample[[x for x in list(data_sample) if 'zone_dummy' in x]]))\n",
    "\n",
    "y = torch.from_numpy(np.array(data_sample.logit_capacity_avail))"
   ]
  },
  {
   "cell_type": "code",
   "execution_count": 210,
   "id": "ed97ce47",
   "metadata": {},
   "outputs": [
    {
     "data": {
      "text/plain": [
       "tensor([[0.3341, 1.0000],\n",
       "        [0.6107, 1.0000],\n",
       "        [0.4055, 1.0000],\n",
       "        ...,\n",
       "        [0.6964, 1.0000],\n",
       "        [1.2947, 1.0000],\n",
       "        [0.4536, 1.0000]], dtype=torch.float64)"
      ]
     },
     "execution_count": 210,
     "metadata": {},
     "output_type": "execute_result"
    }
   ],
   "source": [
    "feats = torch.from_numpy(np.array(data_sample[['ratio', 'intercept']]))\n",
    "feats"
   ]
  },
  {
   "cell_type": "code",
   "execution_count": null,
   "id": "ad65ce83",
   "metadata": {},
   "outputs": [],
   "source": [
    "# for time-varying parameters:\n",
    "    # 1) can model W_t as a random walk from W_t-1\n",
    "        # then assume gaussian error on logit-scale\n",
    "        # so data likelihood is Pr(weights)*Pr(data|weights), which we can compute since both are gaussian\n",
    "        # Pr(weights) = Pr(weights_at_t3|weights_at_t2)*Pr(weights_at_t2|weights_at_t1)*Pr(weights_at_t1)\n",
    "        \n",
    "        # would this require custom layer? where we do sth like:\n",
    "            # torch.nn.Parameter_at_time_t ~ N(torch.nn.Parameter_at_time_t-1, sigma_parameter)\n",
    "            # below when we do a sequence of linear layers, each linear layer has its weights applied to whole dataset\n",
    "            # what we would want is for each linear layer to have n_weights = T\n",
    "            # and then when we apply the layer, we just have to mult weights_at_t with data_at_t\n",
    "    # 2) can have the final model params be a function of RNN\n",
    "        # zone embedding would happen within this model\n",
    "    \n",
    "# is (2) basically just a more general approach whereas (1) is assuming more about the nature of the function over time"
   ]
  },
  {
   "cell_type": "code",
   "execution_count": null,
   "id": "c730aee4",
   "metadata": {},
   "outputs": [],
   "source": [
    "# y_pred\n",
    "# [] first, implement in simplest way, ie as loop\n",
    "# [] then, can see if torch has functions to speed it up. can look at how they implement RNNs maybe\n",
    "\n"
   ]
  },
  {
   "cell_type": "code",
   "execution_count": 53,
   "id": "10024353",
   "metadata": {},
   "outputs": [],
   "source": [
    "szn_len = 52\n",
    "n_zones = 5\n",
    "\n",
    "# initial_szns, initial trend, initial slope, smoothing params, covid_level_change, covid_level_change2\n",
    "# n_params = szn_len + 2 + 3 + 2\n",
    "\n",
    "n_params = 2 + 3 + 2\n",
    "\n",
    "# a = torch.randn(n_zones, n_params)\n",
    "b = torch.randn(n_zones, n_params)\n",
    "\n",
    "# c = torch.sum(a * b, dim=-1)\n",
    "\n",
    "# print(c.shape)"
   ]
  },
  {
   "cell_type": "code",
   "execution_count": 55,
   "id": "976675b1",
   "metadata": {},
   "outputs": [],
   "source": [
    "szns = torch.Tensor(np.random.normal(1.0, 0.2, (n_zones, 52)))"
   ]
  },
  {
   "cell_type": "code",
   "execution_count": 56,
   "id": "ca95164a",
   "metadata": {},
   "outputs": [
    {
     "data": {
      "text/plain": [
       "torch.Size([5, 59])"
      ]
     },
     "execution_count": 56,
     "metadata": {},
     "output_type": "execute_result"
    }
   ],
   "source": [
    "a = torch.cat((szns, b), 1)\n",
    "a.shape"
   ]
  },
  {
   "cell_type": "code",
   "execution_count": 75,
   "id": "8ce70816",
   "metadata": {},
   "outputs": [
    {
     "data": {
      "text/plain": [
       "{0: 1}"
      ]
     },
     "execution_count": 75,
     "metadata": {},
     "output_type": "execute_result"
    }
   ],
   "source": [
    "z_idx_to_z_id_map = {0: 1}\n",
    "z_idx_to_z_id_map"
   ]
  },
  {
   "cell_type": "code",
   "execution_count": 76,
   "id": "7e0b086c",
   "metadata": {},
   "outputs": [],
   "source": [
    "z_idx = 0\n",
    "\n",
    "z_params = a[z_idx]\n",
    "first_t = first_ts.loc[first_ts.zone_id == z_idx_to_z_id_map[z_idx]].first_t.item()"
   ]
  },
  {
   "cell_type": "code",
   "execution_count": 165,
   "id": "8f065a45",
   "metadata": {},
   "outputs": [],
   "source": [
    "z_idx = 0\n",
    "\n",
    "z_id = z_idx_to_z_id_map[z_idx]\n",
    "z_params = a[z_idx]\n",
    "first_t = int(first_ts.loc[first_ts.zone_id == z_id].first_t.item())\n",
    "initial_szns = z_params[:52]\n",
    "initial_szns_ordered = torch.cat((initial_szns[first_t%52:], initial_szns[:first_t%52]))\n",
    "initial_trend, initial_level = z_params[52:54]\n",
    "smoothing_szn, smoothing_level, smoothing_trend = z_params[54:57]\n",
    "covid_level_change, covid_level_change2 = z_params[57:59]\n",
    "\n",
    "zdf = df_prep.loc[df_prep.zone_id == z_id]\n",
    "covid_start_indicator = torch.Tensor(zdf['covid_start_m1'])\n",
    "ys = torch.Tensor(zdf['y_obs'])\n",
    "\n",
    "# in_sample_preds = calc_in_sample_preds(ys, initial_szns_ordered, initial_trend, initial_level, smoothing_szn, smoothing_level, smoothing_trend, covid_level_change, covid_level_change2, covid_start_indicator)"
   ]
  },
  {
   "cell_type": "code",
   "execution_count": 166,
   "id": "0da61845",
   "metadata": {},
   "outputs": [],
   "source": [
    "smoothing_level = torch.Tensor([0.8])[0]\n",
    "smoothing_trend = torch.Tensor([0.2])[0]\n",
    "smoothing_szn = torch.Tensor([0.15])[0]"
   ]
  },
  {
   "cell_type": "code",
   "execution_count": 167,
   "id": "1cd82a92",
   "metadata": {},
   "outputs": [],
   "source": [
    "covid_level_change = torch.Tensor([2000])[0]\n",
    "covid_level_change2 = torch.Tensor([2200])[0]\n",
    "initial_level = torch.Tensor([2000])[0]\n",
    "initial_trend = torch.Tensor([0])[0]"
   ]
  },
  {
   "cell_type": "code",
   "execution_count": 168,
   "id": "bf8cf4d7",
   "metadata": {},
   "outputs": [],
   "source": [
    "# can vectorize this to loop once and do the computation for all zones\n",
    "\n",
    "levels = initial_level.reshape(1)\n",
    "trends = initial_trend.reshape(1)\n",
    "# on each iter, take the next element in initial_szns_ordered\n",
    "# start w/ element 0\n",
    "# keep tacking on updated_szn\n",
    "\n",
    "for i in range(len(ys)):\n",
    "    szn_m52 = initial_szns_ordered[i]\n",
    "    \n",
    "    updated_szn = smoothing_szn * ys[i] / (levels[i] + trends[i]) + (1 - smoothing_szn) * szn_m52\n",
    "\n",
    "    next_level = smoothing_level * (ys[i]/szn_m52) + (1 - smoothing_level)*(levels[i] + trends[i]) + covid_start_indicator[i]*covid_level_change\n",
    "\n",
    "    next_trend = smoothing_trend * (next_level - levels[i]) + (1 - smoothing_trend)*trends[i] - covid_start_indicator[i]*smoothing_trend*covid_level_change2\n",
    "\n",
    "    levels = torch.cat((levels, next_level.reshape(1)))\n",
    "    trends = torch.cat((trends, next_trend.reshape(1)))\n",
    "    initial_szns_ordered = torch.cat((initial_szns_ordered, updated_szn.reshape(1)))\n",
    "\n",
    "y_hats = (levels[:-1] + trends[:-1]) * initial_szns_ordered[:-52]"
   ]
  },
  {
   "cell_type": "code",
   "execution_count": 169,
   "id": "126a8588",
   "metadata": {},
   "outputs": [
    {
     "data": {
      "text/plain": [
       "[<matplotlib.lines.Line2D at 0x1508fdf40>]"
      ]
     },
     "execution_count": 169,
     "metadata": {},
     "output_type": "execute_result"
    },
    {
     "data": {
      "image/png": "[encoded data removed]",
      "text/plain": [
       "<Figure size 432x288 with 1 Axes>"
      ]
     },
     "metadata": {},
     "output_type": "display_data"
    }
   ],
   "source": [
    "plt.plot(ys)\n",
    "plt.plot(y_hats)"
   ]
  },
  {
   "cell_type": "code",
   "execution_count": 170,
   "id": "18f5988a",
   "metadata": {},
   "outputs": [
    {
     "data": {
      "text/plain": [
       "[<matplotlib.lines.Line2D at 0x150966850>]"
      ]
     },
     "execution_count": 170,
     "metadata": {},
     "output_type": "execute_result"
    },
    {
     "data": {
      "image/png": "[encoded data removed]",
      "text/plain": [
       "<Figure size 432x288 with 1 Axes>"
      ]
     },
     "metadata": {},
     "output_type": "display_data"
    }
   ],
   "source": [
    "plt.plot(initial_szns_ordered)"
   ]
  },
  {
   "cell_type": "code",
   "execution_count": 105,
   "id": "e84d4790",
   "metadata": {},
   "outputs": [
    {
     "data": {
      "text/plain": [
       "tensor([0.0683])"
      ]
     },
     "execution_count": 105,
     "metadata": {},
     "output_type": "execute_result"
    }
   ],
   "source": [
    "levels"
   ]
  },
  {
   "cell_type": "code",
   "execution_count": 106,
   "id": "6c60c0a7",
   "metadata": {},
   "outputs": [
    {
     "data": {
      "text/plain": [
       "tensor(-2499.7415)"
      ]
     },
     "execution_count": 106,
     "metadata": {},
     "output_type": "execute_result"
    }
   ],
   "source": [
    "next_level"
   ]
  },
  {
   "cell_type": "code",
   "execution_count": 280,
   "id": "6a7cf45d",
   "metadata": {},
   "outputs": [],
   "source": [
    "def calc_in_sample_preds(ys, initial_szns, initial_trend, initial_level, smoothing_szn, smoothing_level, smoothing_trend, covid_level_change, covid_level_change2, covid_start_indicator):\n",
    "    \n",
    "    levels = initial_level.reshape(1)\n",
    "    trends = initial_trend.reshape(1)\n",
    "    # on each iter, take the next element in initial_szns_ordered\n",
    "    # start w/ element 0\n",
    "    # keep tacking on updated_szn\n",
    "\n",
    "    for i in range(len(ys)):\n",
    "        szn_m52 = initial_szns[i]\n",
    "\n",
    "        updated_szn = smoothing_szn * ys[i] / (levels[i] + trends[i]) + (1 - smoothing_szn) * szn_m52\n",
    "\n",
    "        next_level = smoothing_level * (ys[i]/szn_m52) + (1 - smoothing_level)*(levels[i] + trends[i]) + covid_start_indicator[i]*covid_level_change\n",
    "\n",
    "        next_trend = smoothing_trend * (next_level - levels[i]) + (1 - smoothing_trend)*trends[i] - covid_start_indicator[i]*smoothing_trend*covid_level_change2\n",
    "\n",
    "        levels = torch.cat((levels, next_level.reshape(1)))\n",
    "        trends = torch.cat((trends, next_trend.reshape(1)))\n",
    "        initial_szns = torch.cat((initial_szns, updated_szn.reshape(1)))\n",
    "\n",
    "    y_hats = (levels[:-1] + trends[:-1]) * initial_szns[:-52]\n",
    "    \n",
    "    return y_hats"
   ]
  },
  {
   "cell_type": "code",
   "execution_count": null,
   "id": "90487880",
   "metadata": {},
   "outputs": [],
   "source": [
    "# maybe having trouble learning because we need to help it know the possible range of values for various params?\n",
    "    # possible to pass a guide?\n",
    "# bug?\n",
    "# is the backprop not picking up on the looping ish we're doing in order to calc y_hats?"
   ]
  },
  {
   "cell_type": "code",
   "execution_count": 680,
   "id": "87bccee1",
   "metadata": {},
   "outputs": [],
   "source": [
    "#### Define model\n",
    "\n",
    "n_zones = x.shape[0]\n",
    "zone_embedding_dim = 3\n",
    "# initial_szns, initial trend, initial slope, smoothing params, covid_level_change, covid_level_change2\n",
    "n_params = szn_len + 2 + 3 + 2\n",
    "# n_params = szn_len + 3\n",
    "# n_params_of_final_function = n_params - szn_len\n",
    "n_params_of_final_function = n_params\n",
    "\n",
    "zone_specific_params = 4 # initial level, initial trend, covid_level_change, covid_level_change2\n",
    "\n",
    "model = torch.nn.Sequential(\n",
    "#     torch.nn.functional.relu(torch.nn.Linear(n_zones, zone_embedding_dim)),\n",
    "    torch.nn.Linear(n_zones, 30),\n",
    "    torch.nn.ReLU(),\n",
    "    torch.nn.Linear(30, 15),\n",
    "    torch.nn.ReLU(),\n",
    "    torch.nn.Linear(15, zone_embedding_dim),\n",
    "    torch.nn.ReLU(),\n",
    "    torch.nn.Linear(zone_embedding_dim, n_params_of_final_function),\n",
    "#     torch.nn.ReLU()\n",
    "    # for this layer, want a linear combo of the final params and sd_ratio + 1 (for int)\n",
    "    # actuall nothing learnable anymore, just want the params\n",
    "    \n",
    "#     torch.nn.Linear(n_params_of_final_function, 1)\n",
    "#     torch.nn.Flatten(0, 1)\n",
    "    \n",
    "#     out = self.fc1(x)\n",
    "#     out = F.relu(self.fc1(x))\n",
    ")\n",
    "\n",
    "# model = torch.nn.Sequential(\n",
    "# #     torch.nn.functional.relu(torch.nn.Linear(n_zones, zone_embedding_dim)),\n",
    "#     torch.nn.Linear(n_zones, zone_embedding_dim),\n",
    "#     torch.nn.ReLU(),\n",
    "#     torch.nn.Linear(zone_embedding_dim, n_params_of_final_function),\n",
    "# #     torch.nn.ReLU()\n",
    "#     # for this layer, want a linear combo of the final params and sd_ratio + 1 (for int)\n",
    "#     # actuall nothing learnable anymore, just want the params\n",
    "    \n",
    "# #     torch.nn.Linear(n_params_of_final_function, 1)\n",
    "# #     torch.nn.Flatten(0, 1)\n",
    "    \n",
    "# #     out = self.fc1(x)\n",
    "# #     out = F.relu(self.fc1(x))\n",
    "# )\n",
    "\n",
    "# model = torch.nn.Sequential(\n",
    "#     torch.nn.Linear(n_zones, zone_embedding_dim),\n",
    "#     torch.nn.Linear(zone_embedding_dim, n_params_of_final_function),\n",
    "#     # for this layer, want a linear combo of the final params and sd_ratio + 1 (for int)\n",
    "#     # actuall nothing learnable anymore, just want the params\n",
    "    \n",
    "# #     torch.nn.Linear(n_params_of_final_function, 1)\n",
    "# #     torch.nn.Flatten(0, 1)\n",
    "    \n",
    "# )\n",
    "\n",
    "loss_fn = torch.nn.MSELoss(reduction='sum')"
   ]
  },
  {
   "cell_type": "code",
   "execution_count": 628,
   "id": "07ffdbe5",
   "metadata": {},
   "outputs": [
    {
     "name": "stdout",
     "output_type": "stream",
     "text": [
      "<class 'torch.nn.parameter.Parameter'> torch.Size([3, 7])\n",
      "<class 'torch.nn.parameter.Parameter'> torch.Size([3])\n",
      "<class 'torch.nn.parameter.Parameter'> torch.Size([59, 3])\n",
      "<class 'torch.nn.parameter.Parameter'> torch.Size([59])\n"
     ]
    }
   ],
   "source": [
    "for param in model.parameters():\n",
    "    print(type(param), param.size())"
   ]
  },
  {
   "cell_type": "code",
   "execution_count": 689,
   "id": "13de7ad4",
   "metadata": {
    "code_folding": []
   },
   "outputs": [],
   "source": [
    "def calc_all_y_preds(params_of_final_function):\n",
    "    y_hats_all = torch.Tensor()\n",
    "    y_actual_all = torch.Tensor()\n",
    "\n",
    "    for z_idx in range(params_of_final_function.shape[0]):\n",
    "        z_id = int(x[:,-1][z_idx])\n",
    "        z_params = params_of_final_function[z_idx]\n",
    "        first_t = int(first_ts.loc[first_ts.zone_id == z_id].first_t.item())\n",
    "#         initial_szns = z_params[:52]\n",
    "        initial_szns = z_params[:52].clamp(0,2)\n",
    "#         initial_szns = torch.Tensor([1.0 for i in range(52)])\n",
    "        initial_szns_ordered = torch.cat((initial_szns[first_t%52:], initial_szns[:first_t%52]))\n",
    "#         initial_trend, initial_level = z_params[52:54]\n",
    "#         initial_trend, initial_level = z_params[0:2]\n",
    "        initial_trend, initial_level = z_params[52:54].clamp(0,10000)\n",
    "#         smoothing_szn, smoothing_level, smoothing_trend = z_params[54:57]\n",
    "#         smoothing_szn, smoothing_level, smoothing_trend = torch.sigmoid(z_params[2:5])\n",
    "        smoothing_szn, smoothing_level, smoothing_trend = torch.sigmoid(z_params[54:57])\n",
    "#         covid_level_change, covid_level_change2 = z_params[57:59]\n",
    "#         covid_level_change, covid_level_change2 = z_params[5:7]\n",
    "        covid_level_change, covid_level_change2 = z_params[57:59].clamp(0,10000)\n",
    "\n",
    "        zdf = df_prep.loc[df_prep.zone_id == z_id]\n",
    "        covid_start_indicator = torch.Tensor(zdf['covid_start_m1'])\n",
    "        ys = torch.Tensor(zdf['y_obs'])\n",
    "\n",
    "        y_hats = calc_in_sample_preds(ys, initial_szns_ordered, initial_trend, initial_level, smoothing_szn, smoothing_level, smoothing_trend, covid_level_change, covid_level_change2, covid_start_indicator)\n",
    "        y_hats_all = torch.cat((y_hats_all, y_hats))\n",
    "\n",
    "        y_actual_all = torch.cat((y_actual_all, ys))\n",
    "    \n",
    "    return y_hats_all, y_actual_all"
   ]
  },
  {
   "cell_type": "code",
   "execution_count": 682,
   "id": "888955b7",
   "metadata": {
    "scrolled": true
   },
   "outputs": [
    {
     "data": {
      "text/plain": [
       "[Parameter containing:\n",
       " tensor([[-0.0344,  0.0237,  0.0408,  ...,  0.0077, -0.0089,  0.0055],\n",
       "         [ 0.0404, -0.0183,  0.0247,  ..., -0.0042,  0.0197,  0.0457],\n",
       "         [-0.0321, -0.0390, -0.0172,  ..., -0.0265, -0.0197, -0.0017],\n",
       "         ...,\n",
       "         [ 0.0295,  0.0285, -0.0315,  ..., -0.0378, -0.0049, -0.0089],\n",
       "         [ 0.0423, -0.0420,  0.0019,  ...,  0.0109,  0.0446,  0.0009],\n",
       "         [-0.0219,  0.0353,  0.0036,  ...,  0.0212, -0.0208, -0.0180]],\n",
       "        requires_grad=True),\n",
       " Parameter containing:\n",
       " tensor([ 0.0007, -0.0344, -0.0456,  0.0332, -0.0446, -0.0418, -0.0276, -0.0322,\n",
       "          0.0403, -0.0367,  0.0412,  0.0161,  0.0322,  0.0288,  0.0259,  0.0229,\n",
       "          0.0349,  0.0090,  0.0107,  0.0424,  0.0018,  0.0081, -0.0100, -0.0178,\n",
       "          0.0396,  0.0054, -0.0435, -0.0014, -0.0448, -0.0248],\n",
       "        requires_grad=True),\n",
       " Parameter containing:\n",
       " tensor([[-0.0443, -0.1107,  0.0364,  0.0997,  0.0558, -0.0295, -0.0298, -0.0791,\n",
       "          -0.1677,  0.1585, -0.1677, -0.0046, -0.1367, -0.0230, -0.1436,  0.1021,\n",
       "           0.0261,  0.1304,  0.0169,  0.0570, -0.1397,  0.1295,  0.0804, -0.0723,\n",
       "           0.1740, -0.0524, -0.1019,  0.0023, -0.0115, -0.0757],\n",
       "         [-0.1545,  0.1780,  0.0364, -0.0736,  0.0688,  0.0997,  0.0188,  0.1219,\n",
       "          -0.0641, -0.1497,  0.1474, -0.1046,  0.1662, -0.0085,  0.0963, -0.1627,\n",
       "           0.1687, -0.1745,  0.0942,  0.0266,  0.0535, -0.0665, -0.0017,  0.0294,\n",
       "           0.1346,  0.0603,  0.1732,  0.0235, -0.0700,  0.0105],\n",
       "         [ 0.0120,  0.1560,  0.0424,  0.0882,  0.1546, -0.0912,  0.0476, -0.1143,\n",
       "           0.0235,  0.1034,  0.1069, -0.1714,  0.1122, -0.0669,  0.0039, -0.1005,\n",
       "          -0.1170,  0.0522,  0.1794, -0.1764, -0.1051, -0.1681, -0.1249, -0.0705,\n",
       "          -0.0026,  0.1556,  0.1403,  0.1654, -0.1412, -0.1606],\n",
       "         [ 0.1149, -0.0245,  0.1073,  0.1551,  0.1179, -0.1376,  0.1678, -0.0068,\n",
       "           0.0305, -0.0400,  0.0055,  0.1750,  0.0679, -0.0845, -0.0550, -0.1807,\n",
       "          -0.1690, -0.1296, -0.0355,  0.0946,  0.0869, -0.1279, -0.0954,  0.0003,\n",
       "          -0.0695,  0.0230, -0.0122,  0.0755, -0.0868, -0.1231],\n",
       "         [ 0.0344,  0.0545,  0.0257,  0.0473,  0.0568,  0.0631, -0.1712,  0.0457,\n",
       "           0.1070,  0.0526,  0.0834,  0.0387,  0.0913,  0.1022,  0.1620, -0.1038,\n",
       "           0.1611, -0.0363, -0.0436, -0.0697,  0.0346,  0.0488,  0.1105, -0.1169,\n",
       "           0.0014, -0.0827, -0.0806,  0.0178, -0.0111, -0.1321],\n",
       "         [-0.0830,  0.1208, -0.0865, -0.1018,  0.1491,  0.0330,  0.1097, -0.0329,\n",
       "           0.1557,  0.0224, -0.1192,  0.1274,  0.0868,  0.0564, -0.0355, -0.0688,\n",
       "          -0.1333, -0.1737,  0.0700, -0.0894,  0.1325, -0.0929,  0.1653, -0.0093,\n",
       "          -0.1462, -0.0122,  0.0538, -0.1483,  0.0955,  0.0287],\n",
       "         [-0.0733, -0.0594,  0.0722,  0.0864, -0.0089, -0.1725, -0.1147,  0.1507,\n",
       "           0.0522, -0.0398,  0.1603,  0.1251,  0.0766, -0.1468, -0.1574,  0.1281,\n",
       "          -0.0006, -0.0133,  0.0047, -0.1762, -0.0409, -0.1394,  0.1224,  0.1615,\n",
       "           0.0936,  0.0645,  0.0586, -0.0927,  0.1569, -0.0312],\n",
       "         [-0.0901,  0.0602,  0.1560, -0.1693,  0.0690,  0.0949,  0.1344, -0.0337,\n",
       "          -0.1255, -0.0959,  0.1638, -0.1187, -0.1475,  0.1411,  0.1011,  0.1638,\n",
       "          -0.0972,  0.0855,  0.0864, -0.1804, -0.0240, -0.1043, -0.0218,  0.0073,\n",
       "           0.1686,  0.0521, -0.1742,  0.1194, -0.1701,  0.0343],\n",
       "         [-0.0714, -0.0142,  0.0160, -0.0981,  0.0766,  0.0085, -0.1159, -0.0662,\n",
       "          -0.0243, -0.0293,  0.1366,  0.0593,  0.0349, -0.0312,  0.1624,  0.0361,\n",
       "           0.0936,  0.0680,  0.1059, -0.1130,  0.0066, -0.0855, -0.0941, -0.1433,\n",
       "          -0.0563, -0.0062,  0.0461, -0.1478, -0.1027, -0.1718],\n",
       "         [ 0.0721,  0.0749,  0.1153,  0.0252, -0.1190, -0.0329,  0.1173,  0.0215,\n",
       "          -0.0506, -0.0173, -0.0807,  0.1329,  0.0867, -0.0760, -0.0659,  0.1514,\n",
       "          -0.0289,  0.0777,  0.1111, -0.1331,  0.0093, -0.1794,  0.1785,  0.1356,\n",
       "          -0.1628, -0.0691,  0.0198,  0.0580,  0.0692, -0.1489],\n",
       "         [-0.0421,  0.0232,  0.0019, -0.0307, -0.0824, -0.0689,  0.0951, -0.0933,\n",
       "          -0.0969, -0.0963,  0.1573, -0.0313,  0.1440, -0.1808, -0.0086, -0.1174,\n",
       "           0.0283,  0.1788,  0.0069, -0.0626,  0.1454,  0.1074, -0.1312, -0.1527,\n",
       "           0.1823,  0.0288,  0.1082,  0.1519, -0.0758, -0.1187],\n",
       "         [ 0.1651,  0.0975, -0.1614, -0.1210, -0.0058,  0.0762,  0.0246,  0.1006,\n",
       "           0.0257,  0.0502,  0.0673,  0.1582,  0.0982,  0.0750, -0.1024,  0.1277,\n",
       "          -0.0873,  0.0893,  0.1029,  0.0146, -0.0496, -0.1741,  0.0118, -0.0351,\n",
       "          -0.1191, -0.1171, -0.1110,  0.1010, -0.0505, -0.0226],\n",
       "         [ 0.1203, -0.0831, -0.0010,  0.1698, -0.1529, -0.0145,  0.0529,  0.0509,\n",
       "           0.1138,  0.1794,  0.1051,  0.0789,  0.0027, -0.0462,  0.1801,  0.0416,\n",
       "           0.1759,  0.1533,  0.0077, -0.1192,  0.1043, -0.1734, -0.1366, -0.0432,\n",
       "           0.1574,  0.0944, -0.1097, -0.0913,  0.0551, -0.0347],\n",
       "         [-0.1354,  0.1198, -0.0020, -0.0614,  0.0991,  0.0256, -0.1755,  0.0990,\n",
       "           0.0602, -0.0694, -0.0827,  0.0005,  0.1662, -0.1569,  0.0142,  0.0058,\n",
       "           0.0538,  0.0076,  0.0081,  0.0980, -0.1721,  0.1634, -0.1373,  0.1592,\n",
       "           0.0647,  0.1563, -0.0655,  0.0749,  0.0083, -0.1548],\n",
       "         [-0.1457, -0.0328,  0.0730, -0.0542, -0.0378, -0.1271, -0.0383,  0.1236,\n",
       "           0.0561,  0.0997,  0.0064,  0.0289, -0.0189, -0.1782, -0.1457, -0.1711,\n",
       "           0.0205,  0.1472, -0.0991, -0.0464,  0.0474,  0.1550,  0.1629,  0.0585,\n",
       "          -0.0269,  0.0861,  0.0702,  0.1129,  0.0270, -0.0801]],\n",
       "        requires_grad=True),\n",
       " Parameter containing:\n",
       " tensor([-0.0827,  0.0009,  0.0461,  0.1344,  0.1242,  0.0947,  0.0529, -0.1556,\n",
       "         -0.0071,  0.0589, -0.1245,  0.0666, -0.1495, -0.1523, -0.1573],\n",
       "        requires_grad=True),\n",
       " Parameter containing:\n",
       " tensor([[-0.1628, -0.2061, -0.1156,  0.2562,  0.0515,  0.0307,  0.2351, -0.1508,\n",
       "          -0.1419, -0.1929, -0.0589, -0.1896, -0.0777, -0.1218, -0.0053],\n",
       "         [-0.0952,  0.1062,  0.0162, -0.0032, -0.0112, -0.0034,  0.1700,  0.2080,\n",
       "          -0.0731,  0.2133, -0.1696, -0.0543,  0.1619,  0.1122, -0.1029],\n",
       "         [ 0.0051,  0.0046, -0.2160,  0.0852,  0.2073,  0.1883,  0.1804, -0.2030,\n",
       "           0.0079, -0.2038, -0.0897, -0.1433, -0.0735,  0.2467,  0.1646]],\n",
       "        requires_grad=True),\n",
       " Parameter containing:\n",
       " tensor([-0.2221,  0.1118, -0.1220], requires_grad=True),\n",
       " Parameter containing:\n",
       " tensor([[ 2.8031e-01,  1.0294e-01, -3.0970e-02],\n",
       "         [-5.5045e-01,  5.0425e-01,  1.8163e-01],\n",
       "         [-4.5604e-01,  4.6662e-01,  3.7260e-01],\n",
       "         [ 4.0505e-01,  4.1136e-01,  1.3213e-01],\n",
       "         [-3.7438e-01,  1.8306e-01,  1.5632e-01],\n",
       "         [ 3.0802e-01, -3.0134e-01,  4.0428e-01],\n",
       "         [ 3.4552e-01,  1.3608e-02, -8.7016e-02],\n",
       "         [-2.6611e-01,  4.4636e-01,  2.6584e-01],\n",
       "         [-4.6807e-01, -2.1299e-01, -1.7527e-01],\n",
       "         [ 2.2196e-01, -5.0906e-01, -2.6942e-01],\n",
       "         [-1.8294e-01, -8.2047e-02, -2.3921e-02],\n",
       "         [ 3.4698e-01,  2.0877e-01, -5.2333e-01],\n",
       "         [-2.7729e-01,  3.6496e-04,  1.3567e-01],\n",
       "         [-3.9184e-01, -1.7829e-01, -2.9739e-02],\n",
       "         [ 5.5954e-01, -5.0112e-01,  4.6136e-01],\n",
       "         [-2.6798e-01, -4.8003e-01, -2.0582e-01],\n",
       "         [ 1.7068e-01, -4.5783e-01,  2.3853e-01],\n",
       "         [ 6.2922e-02,  4.1784e-01, -4.1900e-01],\n",
       "         [ 5.3334e-01, -1.7084e-01,  3.7623e-01],\n",
       "         [ 3.3370e-01,  4.5269e-01,  4.5297e-01],\n",
       "         [ 2.0405e-01, -2.6508e-01,  1.9989e-01],\n",
       "         [-4.4581e-01,  2.9166e-01,  2.9145e-01],\n",
       "         [-4.9462e-01, -1.4521e-01,  3.7675e-02],\n",
       "         [ 2.9780e-01, -8.0476e-02,  4.6680e-02],\n",
       "         [ 3.3592e-01, -5.0907e-01, -2.0780e-01],\n",
       "         [ 4.8372e-01, -4.5532e-01, -2.7057e-01],\n",
       "         [ 3.4967e-02, -1.4769e-01,  4.8906e-01],\n",
       "         [-2.3155e-01, -2.9409e-01, -4.9602e-01],\n",
       "         [ 3.2493e-02, -5.7144e-01, -1.1511e-02],\n",
       "         [-1.2288e-01, -3.7651e-02, -4.2245e-03],\n",
       "         [-2.8581e-01, -5.2987e-01, -2.4677e-02],\n",
       "         [ 7.6212e-02, -3.4866e-01, -5.0413e-01],\n",
       "         [ 3.1993e-01, -6.3653e-02, -4.8622e-01],\n",
       "         [ 3.9410e-01, -1.5792e-01,  2.1773e-01],\n",
       "         [ 5.3602e-01,  4.7292e-01, -3.1032e-01],\n",
       "         [-2.2623e-01, -1.9762e-02, -1.7417e-01],\n",
       "         [-2.4545e-01, -5.5871e-01,  5.0932e-01],\n",
       "         [-2.1855e-01, -4.6039e-01, -5.5233e-01],\n",
       "         [-9.1420e-02,  4.0819e-01, -1.7852e-01],\n",
       "         [ 4.1332e-01, -2.7543e-02, -2.5873e-01],\n",
       "         [ 4.4585e-01,  1.8286e-01, -8.9701e-02],\n",
       "         [ 1.1822e-02, -4.6737e-03,  1.8682e-01],\n",
       "         [-2.4756e-01, -4.9587e-02,  4.5097e-01],\n",
       "         [ 5.0567e-01,  4.7592e-01,  8.8951e-02],\n",
       "         [-3.1182e-01,  1.0455e-01, -4.1414e-01],\n",
       "         [ 1.5576e-02, -5.6186e-01, -2.6235e-01],\n",
       "         [-2.7220e-01, -4.1621e-01,  3.3998e-01],\n",
       "         [ 5.2792e-01,  2.5785e-01, -3.9845e-01],\n",
       "         [ 2.7025e-01, -3.5872e-01, -5.6996e-01],\n",
       "         [ 4.5400e-01, -2.0589e-01,  2.3749e-02],\n",
       "         [-2.2951e-01, -2.2589e-02,  3.7506e-01],\n",
       "         [ 1.6907e-01, -1.7625e-01,  3.7091e-01],\n",
       "         [ 1.7631e-01,  5.4693e-01, -1.9889e-01],\n",
       "         [ 4.5427e-01,  7.0640e-02,  2.2576e-01],\n",
       "         [ 2.6478e-01, -8.2968e-02, -1.5375e-01],\n",
       "         [-2.6137e-01, -3.4982e-01, -4.9156e-01],\n",
       "         [-4.2399e-01, -1.5465e-01, -4.7933e-02],\n",
       "         [-4.9426e-01,  3.0822e-01, -5.1870e-01],\n",
       "         [ 5.7577e-01,  1.2749e-01,  4.6672e-01]], requires_grad=True),\n",
       " Parameter containing:\n",
       " tensor([ 0.5464, -0.1368, -0.1728,  0.4738,  0.0500,  0.5270,  0.4738,  0.1123,\n",
       "         -0.3389, -0.3053,  0.0295,  0.1089,  0.4009,  0.4121,  0.5605, -0.5067,\n",
       "          0.4481,  0.1911, -0.1434,  0.4265, -0.4904, -0.0690,  0.1902, -0.2707,\n",
       "         -0.0368,  0.0762,  0.4544, -0.4388, -0.2701,  0.0432,  0.3876, -0.2423,\n",
       "          0.2787,  0.5119,  0.4218,  0.0297,  0.0398,  0.1048, -0.3441, -0.5620,\n",
       "          0.5296,  0.3357, -0.1637, -0.5076,  0.4383,  0.3339,  0.2387, -0.0261,\n",
       "          0.1995,  0.0137,  0.2987,  0.1150,  0.3179, -0.0661,  0.4739,  0.2953,\n",
       "          0.4272, -0.4105, -0.5702], requires_grad=True)]"
      ]
     },
     "execution_count": 682,
     "metadata": {},
     "output_type": "execute_result"
    }
   ],
   "source": [
    "list(model.parameters())"
   ]
  },
  {
   "cell_type": "code",
   "execution_count": 585,
   "id": "1b418841",
   "metadata": {
    "collapsed": true
   },
   "outputs": [
    {
     "data": {
      "text/plain": [
       "[Parameter containing:\n",
       " tensor([[ 0.1392, -0.2766,  0.2069, -0.1406,  0.1094, -0.0973, -0.1106],\n",
       "         [ 0.5318,  0.1073,  0.0500,  0.3355, -0.1647,  0.0631,  0.0903],\n",
       "         [ 0.3746, -0.1449, -0.0401,  0.3286,  0.0313, -0.2080, -0.2533]],\n",
       "        requires_grad=True),\n",
       " Parameter containing:\n",
       " tensor([ 0.1145, -0.2515,  0.2727], requires_grad=True),\n",
       " Parameter containing:\n",
       " tensor([[ 0.3279, -0.1154, -0.2846],\n",
       "         [-0.4569,  0.2321, -0.3028],\n",
       "         [-0.2861, -0.1056, -0.4061],\n",
       "         [-0.2959,  0.0600, -0.5711],\n",
       "         [ 0.0545, -0.4622,  0.1466],\n",
       "         [ 0.1286, -0.5982,  0.2441],\n",
       "         [ 0.5053, -0.2722,  0.2414],\n",
       "         [ 0.0190, -0.5004, -0.1089],\n",
       "         [ 0.3643,  0.4100, -0.1055],\n",
       "         [-0.1556, -0.0504,  0.4919],\n",
       "         [-0.1743, -0.2128, -0.1282],\n",
       "         [-0.3455,  0.2553,  0.4460],\n",
       "         [-0.1034,  0.5863,  0.1615],\n",
       "         [ 0.2248,  0.4451, -0.4558],\n",
       "         [-0.3930,  0.6534,  0.4645],\n",
       "         [ 0.5054,  0.4711, -0.1160],\n",
       "         [-0.0273, -0.1413,  0.0699],\n",
       "         [-0.0270,  0.5747,  0.3318],\n",
       "         [-0.2172,  0.2952, -0.2182],\n",
       "         [ 0.3383, -0.5723,  0.0573],\n",
       "         [ 0.0429, -0.5103, -0.5649],\n",
       "         [ 0.4854, -0.6339,  0.2952],\n",
       "         [-0.4810, -0.1201,  0.3632],\n",
       "         [ 0.0081,  0.0699, -0.4176],\n",
       "         [-0.3500,  0.3788,  0.5242],\n",
       "         [-0.1464,  0.0087, -0.2365],\n",
       "         [-0.5682, -0.1804,  0.3626],\n",
       "         [ 0.2214, -0.2410, -0.0601],\n",
       "         [ 0.1276,  0.3259, -0.5425],\n",
       "         [ 0.1767,  0.4615, -0.2003],\n",
       "         [-0.1403,  0.6629,  0.2469],\n",
       "         [ 0.0218, -0.1143,  0.5210],\n",
       "         [ 0.4327, -0.3369, -0.2013],\n",
       "         [ 0.0587,  0.1038, -0.4412],\n",
       "         [ 0.2966, -0.2375,  0.3406],\n",
       "         [ 0.3644,  0.1653, -0.4618],\n",
       "         [ 0.1623, -0.5141, -0.2536],\n",
       "         [ 0.1949, -0.4599,  0.0802],\n",
       "         [-0.4965, -0.4268, -0.4073],\n",
       "         [ 0.0817, -0.1151, -0.0081],\n",
       "         [ 0.0069,  0.2004, -0.5578],\n",
       "         [ 0.1014,  0.6053, -0.4725],\n",
       "         [-0.0761,  0.6353, -0.2052],\n",
       "         [-0.4791,  0.2460,  0.3725],\n",
       "         [-0.5420,  0.5086, -0.3376],\n",
       "         [-0.4655,  0.3376,  0.0382],\n",
       "         [-0.1557, -0.1859,  0.3271],\n",
       "         [-0.0224, -0.4069,  0.3997],\n",
       "         [ 0.3216, -0.4012, -0.0150],\n",
       "         [-0.2690, -0.3244, -0.0702],\n",
       "         [ 0.2425, -0.3050,  0.2860],\n",
       "         [ 0.3246,  0.5094,  0.2123],\n",
       "         [ 0.2874, -0.1048,  0.5323],\n",
       "         [ 0.5740,  0.4871,  0.3253],\n",
       "         [ 0.3625,  0.1489,  0.4022],\n",
       "         [-0.4281, -0.2315, -0.2986],\n",
       "         [-0.2374,  0.6336,  0.1152],\n",
       "         [ 0.4093,  0.4318,  0.6852],\n",
       "         [ 0.1622,  0.1358, -0.2959]], requires_grad=True),\n",
       " Parameter containing:\n",
       " tensor([-0.4638, -0.2655, -0.2423, -0.2419,  0.5610,  0.2194,  0.3516,  0.4976,\n",
       "         -0.1436, -0.3732, -0.1038,  0.5699, -0.4468,  0.4259, -0.4457, -0.2350,\n",
       "         -0.1394,  0.3364,  0.1037, -0.1430,  0.0711,  0.3674, -0.0180,  0.0085,\n",
       "         -0.4353, -0.2332,  0.1210,  0.3293, -0.0636,  0.5604, -0.0717,  0.3893,\n",
       "          0.1695, -0.0842, -0.0913,  0.4187, -0.4366, -0.2188,  0.2562,  0.4069,\n",
       "          0.5253,  0.5406,  0.2650,  0.1085, -0.3389,  0.1426,  0.0550,  0.0222,\n",
       "          0.3173,  0.4812,  0.2423,  0.3356, -0.3467,  0.2388, -0.5004, -0.1854,\n",
       "          0.3761,  0.5303, -0.3083], requires_grad=True)]"
      ]
     },
     "execution_count": 585,
     "metadata": {},
     "output_type": "execute_result"
    }
   ],
   "source": [
    "list(model.parameters())"
   ]
  },
  {
   "cell_type": "code",
   "execution_count": 592,
   "id": "05432870",
   "metadata": {
    "collapsed": true
   },
   "outputs": [
    {
     "data": {
      "text/plain": [
       "[Parameter containing:\n",
       " tensor([[-0.4689, -0.2766,  0.7234, -0.1406,  0.1094, -0.0973, -0.1106],\n",
       "         [-0.0584,  0.1073,  0.0500,  0.3355, -0.1647,  0.0631,  0.0903],\n",
       "         [ 1.4204, -0.1449,  0.4192,  0.3286,  0.0313, -0.2080, -0.2533]],\n",
       "        requires_grad=True),\n",
       " Parameter containing:\n",
       " tensor([ 0.1145, -0.2515,  0.2727], requires_grad=True),\n",
       " Parameter containing:\n",
       " tensor([[ 3.2791e-01, -1.1537e-01, -2.8462e-01],\n",
       "         [-4.5694e-01,  2.3213e-01, -3.0280e-01],\n",
       "         [-2.8606e-01, -1.0563e-01, -4.0614e-01],\n",
       "         [-2.9593e-01,  6.0033e-02, -5.7106e-01],\n",
       "         [ 5.4521e-02, -4.6224e-01,  1.4659e-01],\n",
       "         [ 1.2863e-01, -5.9817e-01,  2.4414e-01],\n",
       "         [ 5.0525e-01, -2.7218e-01,  2.4136e-01],\n",
       "         [ 1.8992e-02, -5.0045e-01, -1.0891e-01],\n",
       "         [ 3.6429e-01,  4.1004e-01, -1.0554e-01],\n",
       "         [-1.5555e-01, -5.0401e-02,  4.9188e-01],\n",
       "         [-1.7425e-01, -2.1278e-01, -1.2817e-01],\n",
       "         [-3.4552e-01,  2.5535e-01,  4.4596e-01],\n",
       "         [-1.0338e-01,  5.8630e-01,  1.6153e-01],\n",
       "         [ 2.2484e-01,  4.4512e-01, -4.5583e-01],\n",
       "         [-3.9304e-01,  6.5338e-01,  4.6452e-01],\n",
       "         [ 5.0544e-01,  4.7106e-01, -1.1602e-01],\n",
       "         [-2.7267e-02, -1.4125e-01,  6.9894e-02],\n",
       "         [-2.6954e-02,  5.7469e-01,  3.3184e-01],\n",
       "         [-2.1715e-01,  2.9522e-01, -2.1817e-01],\n",
       "         [ 3.3833e-01, -5.7228e-01,  5.7277e-02],\n",
       "         [ 4.2934e-02, -5.1029e-01, -5.6491e-01],\n",
       "         [ 4.8543e-01, -6.3393e-01,  2.9524e-01],\n",
       "         [-4.8103e-01, -1.2009e-01,  3.6323e-01],\n",
       "         [ 8.0751e-03,  6.9850e-02, -4.1759e-01],\n",
       "         [-3.5000e-01,  3.7884e-01,  5.2417e-01],\n",
       "         [-1.4644e-01,  8.6694e-03, -2.3652e-01],\n",
       "         [-5.6818e-01, -1.8036e-01,  3.6255e-01],\n",
       "         [ 2.2145e-01, -2.4101e-01, -6.0090e-02],\n",
       "         [ 1.2756e-01,  3.2593e-01, -5.4248e-01],\n",
       "         [ 1.7665e-01,  4.6150e-01, -2.0026e-01],\n",
       "         [-1.4030e-01,  6.6288e-01,  2.4687e-01],\n",
       "         [ 2.1849e-02, -1.1427e-01,  5.2098e-01],\n",
       "         [ 4.3268e-01, -3.3693e-01, -2.0132e-01],\n",
       "         [ 5.8736e-02,  1.0376e-01, -4.4117e-01],\n",
       "         [ 2.9662e-01, -2.3751e-01,  3.4064e-01],\n",
       "         [ 3.6443e-01,  1.6525e-01, -4.6178e-01],\n",
       "         [ 1.6227e-01, -5.1414e-01, -2.5364e-01],\n",
       "         [ 1.9490e-01, -4.5991e-01,  8.0195e-02],\n",
       "         [-4.9645e-01, -4.2684e-01, -4.0727e-01],\n",
       "         [ 3.6848e+00, -1.1511e-01, -8.1241e-03],\n",
       "         [ 7.8222e-01,  2.0036e-01, -5.5780e-01],\n",
       "         [ 5.2722e+00,  6.0526e-01, -4.7254e-01],\n",
       "         [-7.6149e-02,  6.3532e-01, -2.0519e-01],\n",
       "         [-4.7911e-01,  2.4595e-01,  3.7247e-01],\n",
       "         [-1.4558e+00,  5.0862e-01, -3.3756e-01],\n",
       "         [-4.6555e-01,  3.3759e-01,  3.8181e-02],\n",
       "         [-1.5574e-01, -1.8593e-01,  3.2706e-01],\n",
       "         [-2.2423e-02, -4.0689e-01,  3.9973e-01],\n",
       "         [ 2.2160e-01, -4.0124e-01, -1.5038e-02],\n",
       "         [-2.6903e-01, -3.2439e-01, -7.0214e-02],\n",
       "         [ 2.4251e-01, -3.0504e-01,  2.8599e-01],\n",
       "         [ 3.2461e-01,  5.0941e-01,  2.1231e-01],\n",
       "         [ 2.8742e-01, -1.0477e-01,  5.3226e-01],\n",
       "         [ 5.7402e-01,  4.8712e-01,  3.2534e-01],\n",
       "         [ 3.6248e-01,  1.4887e-01,  4.0221e-01],\n",
       "         [-4.2814e-01, -2.3153e-01, -2.9859e-01],\n",
       "         [-2.3735e-01,  6.3365e-01,  1.1517e-01],\n",
       "         [ 1.0409e+01,  1.2061e+00,  1.0685e+01],\n",
       "         [-9.8378e+00, -8.1516e-01, -1.0296e+01]], requires_grad=True),\n",
       " Parameter containing:\n",
       " tensor([-0.4638, -0.2655, -0.2423, -0.2419,  0.5610,  0.2194,  0.3516,  0.4976,\n",
       "         -0.1436, -0.3732, -0.1038,  0.5699, -0.4468,  0.4259, -0.4457, -0.2350,\n",
       "         -0.1394,  0.3364,  0.1037, -0.1430,  0.0711,  0.3674, -0.0180,  0.0085,\n",
       "         -0.4353, -0.2332,  0.1210,  0.3293, -0.0636,  0.5604, -0.0717,  0.3893,\n",
       "          0.1695, -0.0842, -0.0913,  0.4187, -0.4366, -0.2188,  0.2562,  0.4069,\n",
       "          0.5253,  0.5406,  0.2650,  0.1085, -0.3389,  0.1426,  0.0550,  0.0222,\n",
       "          0.3173,  0.4812,  0.2423,  0.3356, -0.3467,  0.2388, -0.5004, -0.1854,\n",
       "          0.3761,  0.7303, -4.9082], requires_grad=True)]"
      ]
     },
     "execution_count": 592,
     "metadata": {},
     "output_type": "execute_result"
    }
   ],
   "source": [
    "list(model.parameters())"
   ]
  },
  {
   "cell_type": "code",
   "execution_count": 669,
   "id": "8a94796f",
   "metadata": {},
   "outputs": [
    {
     "data": {
      "text/plain": [
       "[Sequential(\n",
       "   (0): Linear(in_features=7, out_features=10, bias=True)\n",
       "   (1): ReLU()\n",
       "   (2): Linear(in_features=10, out_features=3, bias=True)\n",
       "   (3): ReLU()\n",
       "   (4): Linear(in_features=3, out_features=59, bias=True)\n",
       " ),\n",
       " Linear(in_features=7, out_features=10, bias=True),\n",
       " ReLU(),\n",
       " Linear(in_features=10, out_features=3, bias=True),\n",
       " ReLU(),\n",
       " Linear(in_features=3, out_features=59, bias=True)]"
      ]
     },
     "execution_count": 669,
     "metadata": {},
     "output_type": "execute_result"
    }
   ],
   "source": [
    "list(model.modules())"
   ]
  },
  {
   "cell_type": "code",
   "execution_count": 666,
   "id": "bd6f9896",
   "metadata": {},
   "outputs": [
    {
     "data": {
      "text/plain": [
       "Parameter containing:\n",
       "tensor([[-0.0070, -0.8099, -0.2745, -0.2021,  0.3375, -0.2009, -0.0156],\n",
       "        [    nan,     nan,     nan,     nan,     nan,     nan,     nan],\n",
       "        [    nan,     nan,     nan,     nan,     nan,     nan,     nan],\n",
       "        [-0.2084, -0.3015, -0.0520,  0.0268,  0.2080,  0.2091, -0.1502],\n",
       "        [    nan,     nan,     nan,     nan,     nan,     nan,     nan],\n",
       "        [    nan,     nan,     nan,     nan,     nan,     nan,     nan],\n",
       "        [-0.1468, -0.2658,  0.0657,  0.0710,  0.1403, -0.3412, -0.0150],\n",
       "        [-0.3352, -0.3212,  1.0485, -0.2951, -0.2675, -0.2603, -0.3378],\n",
       "        [ 0.2356, -0.1229,  0.1629, -0.1219, -0.0806,  0.2263, -0.3376],\n",
       "        [    nan,     nan,     nan,     nan,     nan,     nan,     nan]],\n",
       "       requires_grad=True)"
      ]
     },
     "execution_count": 666,
     "metadata": {},
     "output_type": "execute_result"
    }
   ],
   "source": [
    "list(model.modules())[1].weight"
   ]
  },
  {
   "cell_type": "code",
   "execution_count": 667,
   "id": "240d76f4",
   "metadata": {},
   "outputs": [
    {
     "data": {
      "text/plain": [
       "tensor([[ 0.0000e+00,  5.8364e+13,  0.0000e+00,  0.0000e+00,  0.0000e+00,\n",
       "          0.0000e+00,  0.0000e+00],\n",
       "        [        nan,         nan,         nan,         nan,         nan,\n",
       "                 nan,         nan],\n",
       "        [        nan,         nan,         nan,         nan,         nan,\n",
       "                 nan,         nan],\n",
       "        [ 0.0000e+00,  0.0000e+00,  0.0000e+00,  0.0000e+00,  0.0000e+00,\n",
       "          0.0000e+00,  0.0000e+00],\n",
       "        [        nan,         nan,         nan,         nan,         nan,\n",
       "                 nan,         nan],\n",
       "        [        nan,         nan,         nan,         nan,         nan,\n",
       "                 nan,         nan],\n",
       "        [ 0.0000e+00,  0.0000e+00,  0.0000e+00,  0.0000e+00,  0.0000e+00,\n",
       "          0.0000e+00,  0.0000e+00],\n",
       "        [ 0.0000e+00,  0.0000e+00, -1.5441e+16,  0.0000e+00,  0.0000e+00,\n",
       "          0.0000e+00,  0.0000e+00],\n",
       "        [ 0.0000e+00,  0.0000e+00,  0.0000e+00,  0.0000e+00,  0.0000e+00,\n",
       "          0.0000e+00,  0.0000e+00],\n",
       "        [        nan,         nan,         nan,         nan,         nan,\n",
       "                 nan,         nan]])"
      ]
     },
     "execution_count": 667,
     "metadata": {},
     "output_type": "execute_result"
    }
   ],
   "source": [
    "list(model.modules())[1].weight.grad"
   ]
  },
  {
   "cell_type": "code",
   "execution_count": 645,
   "id": "28462824",
   "metadata": {},
   "outputs": [
    {
     "data": {
      "text/plain": [
       "tensor([[        nan,         nan,         nan,         nan,         nan,\n",
       "                 nan,         nan],\n",
       "        [ 1.4101e+16,  0.0000e+00,  0.0000e+00,  0.0000e+00,  0.0000e+00,\n",
       "          0.0000e+00,  0.0000e+00],\n",
       "        [ 0.0000e+00,  0.0000e+00, -3.8513e+16,  0.0000e+00,  0.0000e+00,\n",
       "          0.0000e+00,  0.0000e+00]])"
      ]
     },
     "execution_count": 645,
     "metadata": {},
     "output_type": "execute_result"
    }
   ],
   "source": [
    "list(model.modules())[1].weight.grad"
   ]
  },
  {
   "cell_type": "code",
   "execution_count": 668,
   "id": "86636c70",
   "metadata": {},
   "outputs": [
    {
     "data": {
      "text/plain": [
       "Parameter containing:\n",
       "tensor([[    nan,     nan,     nan,     nan,     nan,     nan,     nan,     nan,\n",
       "             nan,     nan],\n",
       "        [ 0.1064, -0.0589, -0.1258,  0.1533,  0.2667, -0.0243,  0.0701, -0.2517,\n",
       "         -0.2483,  0.0025],\n",
       "        [    nan,     nan,     nan,     nan,     nan,     nan,     nan,     nan,\n",
       "             nan,     nan]], requires_grad=True)"
      ]
     },
     "execution_count": 668,
     "metadata": {},
     "output_type": "execute_result"
    }
   ],
   "source": [
    "list(model.modules())[3].weight"
   ]
  },
  {
   "cell_type": "code",
   "execution_count": 670,
   "id": "dd17bea7",
   "metadata": {},
   "outputs": [
    {
     "data": {
      "text/plain": [
       "tensor([[nan, nan, nan, nan, nan, nan, nan, nan, nan, nan],\n",
       "        [0., 0., 0., 0., 0., 0., 0., 0., 0., 0.],\n",
       "        [nan, nan, nan, nan, nan, nan, nan, nan, nan, nan]])"
      ]
     },
     "execution_count": 670,
     "metadata": {},
     "output_type": "execute_result"
    }
   ],
   "source": [
    "list(model.modules())[3].weight.grad"
   ]
  },
  {
   "cell_type": "code",
   "execution_count": 671,
   "id": "8d9dca65",
   "metadata": {
    "collapsed": true
   },
   "outputs": [
    {
     "data": {
      "text/plain": [
       "Parameter containing:\n",
       "tensor([[    nan,     nan,     nan],\n",
       "        [    nan,     nan,     nan],\n",
       "        [    nan,     nan,     nan],\n",
       "        [    nan,     nan,     nan],\n",
       "        [    nan,     nan,     nan],\n",
       "        [    nan,     nan,     nan],\n",
       "        [    nan,     nan,     nan],\n",
       "        [    nan,     nan,     nan],\n",
       "        [    nan,     nan,     nan],\n",
       "        [    nan,     nan,     nan],\n",
       "        [    nan,     nan,     nan],\n",
       "        [    nan,     nan,     nan],\n",
       "        [    nan,     nan,     nan],\n",
       "        [    nan,     nan,     nan],\n",
       "        [    nan,     nan,     nan],\n",
       "        [    nan,     nan,     nan],\n",
       "        [    nan,     nan,     nan],\n",
       "        [    nan,     nan,     nan],\n",
       "        [    nan,     nan,     nan],\n",
       "        [    nan,     nan,     nan],\n",
       "        [    nan,     nan,     nan],\n",
       "        [    nan,     nan,     nan],\n",
       "        [    nan,     nan,     nan],\n",
       "        [    nan,     nan,     nan],\n",
       "        [    nan,     nan,     nan],\n",
       "        [    nan,     nan,     nan],\n",
       "        [    nan,     nan,     nan],\n",
       "        [    nan,     nan,     nan],\n",
       "        [    nan,     nan,     nan],\n",
       "        [    nan,     nan,     nan],\n",
       "        [    nan,     nan,     nan],\n",
       "        [    nan,     nan,     nan],\n",
       "        [    nan,     nan,     nan],\n",
       "        [    nan,     nan,     nan],\n",
       "        [    nan,     nan,     nan],\n",
       "        [    nan,     nan,     nan],\n",
       "        [ 0.3820, -0.4826, -0.5048],\n",
       "        [-0.3518, -0.4550,  0.5480],\n",
       "        [ 0.5390,  0.2339, -0.1053],\n",
       "        [ 0.2242, -0.1360,  0.5731],\n",
       "        [ 0.1964,  0.1746, -0.0162],\n",
       "        [    nan,     nan,     nan],\n",
       "        [    nan,     nan,     nan],\n",
       "        [    nan,     nan,     nan],\n",
       "        [    nan,     nan,     nan],\n",
       "        [    nan,     nan,     nan],\n",
       "        [    nan,     nan,     nan],\n",
       "        [    nan,     nan,     nan],\n",
       "        [    nan,     nan,     nan],\n",
       "        [    nan,     nan,     nan],\n",
       "        [    nan,     nan,     nan],\n",
       "        [    nan,     nan,     nan],\n",
       "        [    nan,     nan,     nan],\n",
       "        [    nan,     nan,     nan],\n",
       "        [    nan,     nan,     nan],\n",
       "        [    nan,     nan,     nan],\n",
       "        [    nan,     nan,     nan],\n",
       "        [    nan,     nan,     nan],\n",
       "        [    nan,     nan,     nan]], requires_grad=True)"
      ]
     },
     "execution_count": 671,
     "metadata": {},
     "output_type": "execute_result"
    }
   ],
   "source": [
    "list(model.modules())[5].weight"
   ]
  },
  {
   "cell_type": "code",
   "execution_count": 672,
   "id": "f6a78cb2",
   "metadata": {
    "collapsed": true
   },
   "outputs": [
    {
     "data": {
      "text/plain": [
       "tensor([[        nan,         nan,         nan],\n",
       "        [        nan,         nan,         nan],\n",
       "        [        nan,         nan,         nan],\n",
       "        [        nan,         nan,         nan],\n",
       "        [        nan,         nan,         nan],\n",
       "        [        nan,         nan,         nan],\n",
       "        [        nan,         nan,         nan],\n",
       "        [        nan,         nan,         nan],\n",
       "        [        nan,         nan,         nan],\n",
       "        [        nan,         nan,         nan],\n",
       "        [        nan,         nan,         nan],\n",
       "        [        nan,         nan,         nan],\n",
       "        [        nan,         nan,         nan],\n",
       "        [        nan,         nan,         nan],\n",
       "        [        nan,         nan,         nan],\n",
       "        [        nan,         nan,         nan],\n",
       "        [        nan,         nan,         nan],\n",
       "        [        nan,         nan,         nan],\n",
       "        [        nan,         nan,         nan],\n",
       "        [        nan,         nan,         nan],\n",
       "        [        nan,         nan,         nan],\n",
       "        [        nan,         nan,         nan],\n",
       "        [        nan,         nan,         nan],\n",
       "        [        nan,         nan,         nan],\n",
       "        [        nan,         nan,         nan],\n",
       "        [        nan,         nan,         nan],\n",
       "        [        nan,         nan,         nan],\n",
       "        [        nan,         nan,         nan],\n",
       "        [        nan,         nan,         nan],\n",
       "        [        nan,         nan,         nan],\n",
       "        [        nan,         nan,         nan],\n",
       "        [        nan,         nan,         nan],\n",
       "        [        nan,         nan,         nan],\n",
       "        [        nan,         nan,         nan],\n",
       "        [        nan,         nan,         nan],\n",
       "        [        nan,         nan,         nan],\n",
       "        [ 4.1368e+22,  0.0000e+00, -1.1745e+22],\n",
       "        [ 7.3263e+24,  0.0000e+00, -3.3013e+25],\n",
       "        [-1.4148e+24,  0.0000e+00, -2.6182e+25],\n",
       "        [-1.0705e+24,  0.0000e+00, -2.0953e+24],\n",
       "        [-7.9886e+23,  0.0000e+00, -6.8962e+23],\n",
       "        [        nan,         nan,         nan],\n",
       "        [        nan,         nan,         nan],\n",
       "        [        nan,         nan,         nan],\n",
       "        [        nan,         nan,         nan],\n",
       "        [        nan,         nan,         nan],\n",
       "        [        nan,         nan,         nan],\n",
       "        [        nan,         nan,         nan],\n",
       "        [        nan,         nan,         nan],\n",
       "        [        nan,         nan,         nan],\n",
       "        [        nan,         nan,         nan],\n",
       "        [        nan,         nan,         nan],\n",
       "        [        nan,         nan,         nan],\n",
       "        [        nan,         nan,         nan],\n",
       "        [        nan,         nan,         nan],\n",
       "        [        nan,         nan,         nan],\n",
       "        [        nan,         nan,         nan],\n",
       "        [        nan,         nan,         nan],\n",
       "        [        nan,         nan,         nan]])"
      ]
     },
     "execution_count": 672,
     "metadata": {},
     "output_type": "execute_result"
    }
   ],
   "source": [
    "list(model.modules())[5].weight.grad"
   ]
  },
  {
   "cell_type": "code",
   "execution_count": 306,
   "id": "63de22dd",
   "metadata": {
    "collapsed": true
   },
   "outputs": [
    {
     "name": "stdout",
     "output_type": "stream",
     "text": [
      "0.weight tensor([[nan, nan, nan, nan, nan, nan, nan],\n",
      "        [nan, nan, nan, nan, nan, nan, nan],\n",
      "        [nan, nan, nan, nan, nan, nan, nan],\n",
      "        [nan, nan, nan, nan, nan, nan, nan],\n",
      "        [nan, nan, nan, nan, nan, nan, nan],\n",
      "        [nan, nan, nan, nan, nan, nan, nan],\n",
      "        [nan, nan, nan, nan, nan, nan, nan],\n",
      "        [nan, nan, nan, nan, nan, nan, nan],\n",
      "        [nan, nan, nan, nan, nan, nan, nan],\n",
      "        [nan, nan, nan, nan, nan, nan, nan]])\n",
      "0.bias tensor([nan, nan, nan, nan, nan, nan, nan, nan, nan, nan])\n",
      "1.weight tensor([[nan, nan, nan, nan, nan, nan, nan, nan, nan, nan],\n",
      "        [nan, nan, nan, nan, nan, nan, nan, nan, nan, nan],\n",
      "        [nan, nan, nan, nan, nan, nan, nan, nan, nan, nan],\n",
      "        [nan, nan, nan, nan, nan, nan, nan, nan, nan, nan],\n",
      "        [nan, nan, nan, nan, nan, nan, nan, nan, nan, nan],\n",
      "        [nan, nan, nan, nan, nan, nan, nan, nan, nan, nan],\n",
      "        [nan, nan, nan, nan, nan, nan, nan, nan, nan, nan],\n",
      "        [nan, nan, nan, nan, nan, nan, nan, nan, nan, nan],\n",
      "        [nan, nan, nan, nan, nan, nan, nan, nan, nan, nan],\n",
      "        [nan, nan, nan, nan, nan, nan, nan, nan, nan, nan],\n",
      "        [nan, nan, nan, nan, nan, nan, nan, nan, nan, nan],\n",
      "        [nan, nan, nan, nan, nan, nan, nan, nan, nan, nan],\n",
      "        [nan, nan, nan, nan, nan, nan, nan, nan, nan, nan],\n",
      "        [nan, nan, nan, nan, nan, nan, nan, nan, nan, nan],\n",
      "        [nan, nan, nan, nan, nan, nan, nan, nan, nan, nan],\n",
      "        [nan, nan, nan, nan, nan, nan, nan, nan, nan, nan],\n",
      "        [nan, nan, nan, nan, nan, nan, nan, nan, nan, nan],\n",
      "        [nan, nan, nan, nan, nan, nan, nan, nan, nan, nan],\n",
      "        [nan, nan, nan, nan, nan, nan, nan, nan, nan, nan],\n",
      "        [nan, nan, nan, nan, nan, nan, nan, nan, nan, nan],\n",
      "        [nan, nan, nan, nan, nan, nan, nan, nan, nan, nan],\n",
      "        [nan, nan, nan, nan, nan, nan, nan, nan, nan, nan],\n",
      "        [nan, nan, nan, nan, nan, nan, nan, nan, nan, nan],\n",
      "        [nan, nan, nan, nan, nan, nan, nan, nan, nan, nan],\n",
      "        [nan, nan, nan, nan, nan, nan, nan, nan, nan, nan],\n",
      "        [nan, nan, nan, nan, nan, nan, nan, nan, nan, nan],\n",
      "        [nan, nan, nan, nan, nan, nan, nan, nan, nan, nan],\n",
      "        [nan, nan, nan, nan, nan, nan, nan, nan, nan, nan],\n",
      "        [nan, nan, nan, nan, nan, nan, nan, nan, nan, nan],\n",
      "        [nan, nan, nan, nan, nan, nan, nan, nan, nan, nan],\n",
      "        [nan, nan, nan, nan, nan, nan, nan, nan, nan, nan],\n",
      "        [nan, nan, nan, nan, nan, nan, nan, nan, nan, nan],\n",
      "        [nan, nan, nan, nan, nan, nan, nan, nan, nan, nan],\n",
      "        [nan, nan, nan, nan, nan, nan, nan, nan, nan, nan],\n",
      "        [nan, nan, nan, nan, nan, nan, nan, nan, nan, nan],\n",
      "        [nan, nan, nan, nan, nan, nan, nan, nan, nan, nan],\n",
      "        [nan, nan, nan, nan, nan, nan, nan, nan, nan, nan],\n",
      "        [nan, nan, nan, nan, nan, nan, nan, nan, nan, nan],\n",
      "        [nan, nan, nan, nan, nan, nan, nan, nan, nan, nan],\n",
      "        [nan, nan, nan, nan, nan, nan, nan, nan, nan, nan],\n",
      "        [nan, nan, nan, nan, nan, nan, nan, nan, nan, nan],\n",
      "        [nan, nan, nan, nan, nan, nan, nan, nan, nan, nan],\n",
      "        [nan, nan, nan, nan, nan, nan, nan, nan, nan, nan],\n",
      "        [nan, nan, nan, nan, nan, nan, nan, nan, nan, nan],\n",
      "        [nan, nan, nan, nan, nan, nan, nan, nan, nan, nan],\n",
      "        [nan, nan, nan, nan, nan, nan, nan, nan, nan, nan],\n",
      "        [nan, nan, nan, nan, nan, nan, nan, nan, nan, nan],\n",
      "        [nan, nan, nan, nan, nan, nan, nan, nan, nan, nan],\n",
      "        [nan, nan, nan, nan, nan, nan, nan, nan, nan, nan],\n",
      "        [nan, nan, nan, nan, nan, nan, nan, nan, nan, nan],\n",
      "        [nan, nan, nan, nan, nan, nan, nan, nan, nan, nan],\n",
      "        [nan, nan, nan, nan, nan, nan, nan, nan, nan, nan],\n",
      "        [nan, nan, nan, nan, nan, nan, nan, nan, nan, nan],\n",
      "        [nan, nan, nan, nan, nan, nan, nan, nan, nan, nan],\n",
      "        [nan, nan, nan, nan, nan, nan, nan, nan, nan, nan],\n",
      "        [nan, nan, nan, nan, nan, nan, nan, nan, nan, nan],\n",
      "        [nan, nan, nan, nan, nan, nan, nan, nan, nan, nan],\n",
      "        [nan, nan, nan, nan, nan, nan, nan, nan, nan, nan],\n",
      "        [nan, nan, nan, nan, nan, nan, nan, nan, nan, nan]])\n",
      "1.bias tensor([nan, nan, nan, nan, nan, nan, nan, nan, nan, nan, nan, nan, nan, nan, nan, nan, nan, nan, nan, nan, nan, nan, nan, nan,\n",
      "        nan, nan, nan, nan, nan, nan, nan, nan, nan, nan, nan, nan, nan, nan, nan, nan, nan, nan, nan, nan, nan, nan, nan, nan,\n",
      "        nan, nan, nan, nan, nan, nan, nan, nan, nan, nan, nan])\n"
     ]
    }
   ],
   "source": [
    "for name, param in model.named_parameters():\n",
    "    if param.requires_grad:\n",
    "        print(name, param.data)"
   ]
  },
  {
   "cell_type": "code",
   "execution_count": 690,
   "id": "f6687c3e",
   "metadata": {
    "code_folding": []
   },
   "outputs": [],
   "source": [
    "learning_rate = 1e-3\n",
    "# learning_rate = 1e-1\n",
    "# learning_rate = 1\n",
    "# optimizer = torch.optim.RMSprop(model.parameters(), lr=learning_rate)\n",
    "optimizer = torch.optim.Adam(model.parameters(), lr=learning_rate)"
   ]
  },
  {
   "cell_type": "code",
   "execution_count": 691,
   "id": "b037a5b2",
   "metadata": {},
   "outputs": [],
   "source": [
    "params_of_final_function = model(x[:,:-1].float())\n",
    "\n",
    "params_of_final_function.shape\n",
    "\n",
    "y_hats_all, y_actual_all = calc_all_y_preds(params_of_final_function)"
   ]
  },
  {
   "cell_type": "code",
   "execution_count": 685,
   "id": "380cc879",
   "metadata": {},
   "outputs": [
    {
     "data": {
      "text/plain": [
       "torch.Size([475, 59])"
      ]
     },
     "execution_count": 685,
     "metadata": {},
     "output_type": "execute_result"
    }
   ],
   "source": [
    "params_of_final_function.shape"
   ]
  },
  {
   "cell_type": "code",
   "execution_count": 686,
   "id": "e1667cde",
   "metadata": {},
   "outputs": [
    {
     "data": {
      "text/plain": [
       "tensor([ 1.8672e-01, -2.0950e+02,  2.7925e+03,  ..., -2.2290e+03,\n",
       "         6.5073e+01, -5.5150e+03], grad_fn=<CatBackward>)"
      ]
     },
     "execution_count": 686,
     "metadata": {},
     "output_type": "execute_result"
    }
   ],
   "source": [
    "y_hats_all"
   ]
  },
  {
   "cell_type": "code",
   "execution_count": 647,
   "id": "6e8f7b07",
   "metadata": {
    "collapsed": true
   },
   "outputs": [
    {
     "data": {
      "text/plain": [
       "tensor([nan, nan, nan,  ..., nan, nan, nan], grad_fn=<CatBackward>)"
      ]
     },
     "execution_count": 647,
     "metadata": {},
     "output_type": "execute_result"
    }
   ],
   "source": [
    "y_hats_all"
   ]
  },
  {
   "cell_type": "code",
   "execution_count": 687,
   "id": "340c6ac4",
   "metadata": {},
   "outputs": [
    {
     "data": {
      "text/plain": [
       "tensor([1860.4005, 2070.4324, 2122.0298,  ...,  432.1985,  414.1424,\n",
       "         403.4436])"
      ]
     },
     "execution_count": 687,
     "metadata": {},
     "output_type": "execute_result"
    }
   ],
   "source": [
    "y_actual_all"
   ]
  },
  {
   "cell_type": "code",
   "execution_count": 692,
   "id": "ada75e49",
   "metadata": {},
   "outputs": [
    {
     "data": {
      "text/plain": [
       "tensor(nan, grad_fn=<MseLossBackward>)"
      ]
     },
     "execution_count": 692,
     "metadata": {},
     "output_type": "execute_result"
    }
   ],
   "source": [
    "loss = loss_fn(y_hats_all, y_actual_all)\n",
    "loss"
   ]
  },
  {
   "cell_type": "code",
   "execution_count": 648,
   "id": "15901eee",
   "metadata": {},
   "outputs": [
    {
     "data": {
      "text/plain": [
       "tensor(nan, grad_fn=<MseLossBackward>)"
      ]
     },
     "execution_count": 648,
     "metadata": {},
     "output_type": "execute_result"
    }
   ],
   "source": [
    "loss = loss_fn(y_hats_all, y_actual_all)\n",
    "loss"
   ]
  },
  {
   "cell_type": "code",
   "execution_count": 649,
   "id": "fe707a9d",
   "metadata": {},
   "outputs": [
    {
     "name": "stdout",
     "output_type": "stream",
     "text": [
      "nan\n"
     ]
    }
   ],
   "source": [
    "print('%.15f' % loss.item())"
   ]
  },
  {
   "cell_type": "code",
   "execution_count": 609,
   "id": "db4b198b",
   "metadata": {},
   "outputs": [
    {
     "name": "stdout",
     "output_type": "stream",
     "text": [
      "49924008430930972663055646720.000000000000000\n"
     ]
    }
   ],
   "source": [
    "print('%.15f' % loss.item())"
   ]
  },
  {
   "cell_type": "code",
   "execution_count": 664,
   "id": "cb313189",
   "metadata": {},
   "outputs": [],
   "source": [
    "optimizer.zero_grad()\n",
    "\n",
    "# Backward pass: compute gradient of the loss with respect to model\n",
    "# parameters\n",
    "loss.backward()"
   ]
  },
  {
   "cell_type": "code",
   "execution_count": 665,
   "id": "56bc868f",
   "metadata": {},
   "outputs": [],
   "source": [
    "# Calling the step function on an Optimizer makes an update to its\n",
    "# parameters\n",
    "optimizer.step()"
   ]
  },
  {
   "cell_type": "code",
   "execution_count": null,
   "id": "7f726932",
   "metadata": {},
   "outputs": [],
   "source": [
    "# can check if we do see the weights changing on the model where we know learning happens\n",
    "# wonder if calc_all_y_preds needs to be a torch fcn\n",
    "    # but it does at least know that y_hats_all is a torch.Tensor\n",
    "# maybe in a local min cus so non-linear and not searching effectively/need some randomness or idk"
   ]
  },
  {
   "cell_type": "code",
   "execution_count": 599,
   "id": "77c7ce81",
   "metadata": {
    "code_folding": [
     14
    ]
   },
   "outputs": [
    {
     "name": "stdout",
     "output_type": "stream",
     "text": [
      "0\n",
      "49924003708564489793410433024.000000000000000\n",
      "2\n",
      "49924013153297455532700860416.000000000000000\n",
      "4\n",
      "49924013153297455532700860416.000000000000000\n",
      "6\n",
      "49924013153297455532700860416.000000000000000\n",
      "8\n",
      "49924008430930972663055646720.000000000000000\n",
      "10\n",
      "49924008430930972663055646720.000000000000000\n",
      "12\n",
      "49924008430930972663055646720.000000000000000\n",
      "14\n",
      "49924008430930972663055646720.000000000000000\n",
      "16\n",
      "49924008430930972663055646720.000000000000000\n",
      "18\n",
      "49924008430930972663055646720.000000000000000\n",
      "20\n",
      "49924008430930972663055646720.000000000000000\n",
      "22\n",
      "49924008430930972663055646720.000000000000000\n",
      "24\n",
      "49924008430930972663055646720.000000000000000\n",
      "26\n",
      "49924008430930972663055646720.000000000000000\n",
      "28\n",
      "49924008430930972663055646720.000000000000000\n",
      "30\n",
      "49924008430930972663055646720.000000000000000\n",
      "32\n",
      "49924008430930972663055646720.000000000000000\n",
      "34\n",
      "49924008430930972663055646720.000000000000000\n",
      "36\n",
      "49924008430930972663055646720.000000000000000\n",
      "38\n",
      "49924008430930972663055646720.000000000000000\n",
      "40\n",
      "49924008430930972663055646720.000000000000000\n",
      "42\n",
      "49924008430930972663055646720.000000000000000\n",
      "44\n",
      "49924008430930972663055646720.000000000000000\n",
      "46\n",
      "49924008430930972663055646720.000000000000000\n",
      "48\n",
      "49924008430930972663055646720.000000000000000\n",
      "50\n",
      "49924008430930972663055646720.000000000000000\n",
      "52\n",
      "49924008430930972663055646720.000000000000000\n",
      "54\n",
      "49924008430930972663055646720.000000000000000\n",
      "56\n",
      "49924008430930972663055646720.000000000000000\n",
      "58\n",
      "49924008430930972663055646720.000000000000000\n",
      "60\n",
      "49924008430930972663055646720.000000000000000\n",
      "62\n",
      "49924008430930972663055646720.000000000000000\n",
      "64\n",
      "49924008430930972663055646720.000000000000000\n",
      "66\n",
      "49924008430930972663055646720.000000000000000\n"
     ]
    },
    {
     "ename": "KeyboardInterrupt",
     "evalue": "",
     "output_type": "error",
     "traceback": [
      "\u001b[0;31m---------------------------------------------------------------------------\u001b[0m",
      "\u001b[0;31mKeyboardInterrupt\u001b[0m                         Traceback (most recent call last)",
      "\u001b[0;32m<ipython-input-599-522f7be1e339>\u001b[0m in \u001b[0;36m<module>\u001b[0;34m\u001b[0m\n\u001b[1;32m     11\u001b[0m     \u001b[0;31m# Forward pass: compute predicted y by passing x to the model.\u001b[0m\u001b[0;34m\u001b[0m\u001b[0;34m\u001b[0m\u001b[0;34m\u001b[0m\u001b[0m\n\u001b[1;32m     12\u001b[0m     \u001b[0mparams_of_final_function\u001b[0m \u001b[0;34m=\u001b[0m \u001b[0mmodel\u001b[0m\u001b[0;34m(\u001b[0m\u001b[0mx\u001b[0m\u001b[0;34m[\u001b[0m\u001b[0;34m:\u001b[0m\u001b[0;34m,\u001b[0m\u001b[0;34m:\u001b[0m\u001b[0;34m-\u001b[0m\u001b[0;36m1\u001b[0m\u001b[0;34m]\u001b[0m\u001b[0;34m.\u001b[0m\u001b[0mfloat\u001b[0m\u001b[0;34m(\u001b[0m\u001b[0;34m)\u001b[0m\u001b[0;34m)\u001b[0m\u001b[0;34m\u001b[0m\u001b[0;34m\u001b[0m\u001b[0m\n\u001b[0;32m---> 13\u001b[0;31m     \u001b[0my_hats_all\u001b[0m\u001b[0;34m,\u001b[0m \u001b[0my_actual_all\u001b[0m \u001b[0;34m=\u001b[0m \u001b[0mcalc_all_y_preds\u001b[0m\u001b[0;34m(\u001b[0m\u001b[0mparams_of_final_function\u001b[0m\u001b[0;34m)\u001b[0m\u001b[0;34m\u001b[0m\u001b[0;34m\u001b[0m\u001b[0m\n\u001b[0m\u001b[1;32m     14\u001b[0m \u001b[0;31m#     y_pred = torch.sum(feats * params_of_final_function, dim=1)\u001b[0m\u001b[0;34m\u001b[0m\u001b[0;34m\u001b[0m\u001b[0;34m\u001b[0m\u001b[0m\n\u001b[1;32m     15\u001b[0m \u001b[0;34m\u001b[0m\u001b[0m\n",
      "\u001b[0;32m<ipython-input-598-f0e006bd4e02>\u001b[0m in \u001b[0;36mcalc_all_y_preds\u001b[0;34m(params_of_final_function)\u001b[0m\n\u001b[1;32m     25\u001b[0m         \u001b[0mys\u001b[0m \u001b[0;34m=\u001b[0m \u001b[0mtorch\u001b[0m\u001b[0;34m.\u001b[0m\u001b[0mTensor\u001b[0m\u001b[0;34m(\u001b[0m\u001b[0mzdf\u001b[0m\u001b[0;34m[\u001b[0m\u001b[0;34m'y_obs'\u001b[0m\u001b[0;34m]\u001b[0m\u001b[0;34m)\u001b[0m\u001b[0;34m\u001b[0m\u001b[0;34m\u001b[0m\u001b[0m\n\u001b[1;32m     26\u001b[0m \u001b[0;34m\u001b[0m\u001b[0m\n\u001b[0;32m---> 27\u001b[0;31m         \u001b[0my_hats\u001b[0m \u001b[0;34m=\u001b[0m \u001b[0mcalc_in_sample_preds\u001b[0m\u001b[0;34m(\u001b[0m\u001b[0mys\u001b[0m\u001b[0;34m,\u001b[0m \u001b[0minitial_szns_ordered\u001b[0m\u001b[0;34m,\u001b[0m \u001b[0minitial_trend\u001b[0m\u001b[0;34m,\u001b[0m \u001b[0minitial_level\u001b[0m\u001b[0;34m,\u001b[0m \u001b[0msmoothing_szn\u001b[0m\u001b[0;34m,\u001b[0m \u001b[0msmoothing_level\u001b[0m\u001b[0;34m,\u001b[0m \u001b[0msmoothing_trend\u001b[0m\u001b[0;34m,\u001b[0m \u001b[0mcovid_level_change\u001b[0m\u001b[0;34m,\u001b[0m \u001b[0mcovid_level_change2\u001b[0m\u001b[0;34m,\u001b[0m \u001b[0mcovid_start_indicator\u001b[0m\u001b[0;34m)\u001b[0m\u001b[0;34m\u001b[0m\u001b[0;34m\u001b[0m\u001b[0m\n\u001b[0m\u001b[1;32m     28\u001b[0m         \u001b[0my_hats_all\u001b[0m \u001b[0;34m=\u001b[0m \u001b[0mtorch\u001b[0m\u001b[0;34m.\u001b[0m\u001b[0mcat\u001b[0m\u001b[0;34m(\u001b[0m\u001b[0;34m(\u001b[0m\u001b[0my_hats_all\u001b[0m\u001b[0;34m,\u001b[0m \u001b[0my_hats\u001b[0m\u001b[0;34m)\u001b[0m\u001b[0;34m)\u001b[0m\u001b[0;34m\u001b[0m\u001b[0;34m\u001b[0m\u001b[0m\n\u001b[1;32m     29\u001b[0m \u001b[0;34m\u001b[0m\u001b[0m\n",
      "\u001b[0;32m<ipython-input-280-b5b7a8b988df>\u001b[0m in \u001b[0;36mcalc_in_sample_preds\u001b[0;34m(ys, initial_szns, initial_trend, initial_level, smoothing_szn, smoothing_level, smoothing_trend, covid_level_change, covid_level_change2, covid_start_indicator)\u001b[0m\n\u001b[1;32m     14\u001b[0m         \u001b[0mnext_level\u001b[0m \u001b[0;34m=\u001b[0m \u001b[0msmoothing_level\u001b[0m \u001b[0;34m*\u001b[0m \u001b[0;34m(\u001b[0m\u001b[0mys\u001b[0m\u001b[0;34m[\u001b[0m\u001b[0mi\u001b[0m\u001b[0;34m]\u001b[0m\u001b[0;34m/\u001b[0m\u001b[0mszn_m52\u001b[0m\u001b[0;34m)\u001b[0m \u001b[0;34m+\u001b[0m \u001b[0;34m(\u001b[0m\u001b[0;36m1\u001b[0m \u001b[0;34m-\u001b[0m \u001b[0msmoothing_level\u001b[0m\u001b[0;34m)\u001b[0m\u001b[0;34m*\u001b[0m\u001b[0;34m(\u001b[0m\u001b[0mlevels\u001b[0m\u001b[0;34m[\u001b[0m\u001b[0mi\u001b[0m\u001b[0;34m]\u001b[0m \u001b[0;34m+\u001b[0m \u001b[0mtrends\u001b[0m\u001b[0;34m[\u001b[0m\u001b[0mi\u001b[0m\u001b[0;34m]\u001b[0m\u001b[0;34m)\u001b[0m \u001b[0;34m+\u001b[0m \u001b[0mcovid_start_indicator\u001b[0m\u001b[0;34m[\u001b[0m\u001b[0mi\u001b[0m\u001b[0;34m]\u001b[0m\u001b[0;34m*\u001b[0m\u001b[0mcovid_level_change\u001b[0m\u001b[0;34m\u001b[0m\u001b[0;34m\u001b[0m\u001b[0m\n\u001b[1;32m     15\u001b[0m \u001b[0;34m\u001b[0m\u001b[0m\n\u001b[0;32m---> 16\u001b[0;31m         \u001b[0mnext_trend\u001b[0m \u001b[0;34m=\u001b[0m \u001b[0msmoothing_trend\u001b[0m \u001b[0;34m*\u001b[0m \u001b[0;34m(\u001b[0m\u001b[0mnext_level\u001b[0m \u001b[0;34m-\u001b[0m \u001b[0mlevels\u001b[0m\u001b[0;34m[\u001b[0m\u001b[0mi\u001b[0m\u001b[0;34m]\u001b[0m\u001b[0;34m)\u001b[0m \u001b[0;34m+\u001b[0m \u001b[0;34m(\u001b[0m\u001b[0;36m1\u001b[0m \u001b[0;34m-\u001b[0m \u001b[0msmoothing_trend\u001b[0m\u001b[0;34m)\u001b[0m\u001b[0;34m*\u001b[0m\u001b[0mtrends\u001b[0m\u001b[0;34m[\u001b[0m\u001b[0mi\u001b[0m\u001b[0;34m]\u001b[0m \u001b[0;34m-\u001b[0m \u001b[0mcovid_start_indicator\u001b[0m\u001b[0;34m[\u001b[0m\u001b[0mi\u001b[0m\u001b[0;34m]\u001b[0m\u001b[0;34m*\u001b[0m\u001b[0msmoothing_trend\u001b[0m\u001b[0;34m*\u001b[0m\u001b[0mcovid_level_change2\u001b[0m\u001b[0;34m\u001b[0m\u001b[0;34m\u001b[0m\u001b[0m\n\u001b[0m\u001b[1;32m     17\u001b[0m \u001b[0;34m\u001b[0m\u001b[0m\n\u001b[1;32m     18\u001b[0m         \u001b[0mlevels\u001b[0m \u001b[0;34m=\u001b[0m \u001b[0mtorch\u001b[0m\u001b[0;34m.\u001b[0m\u001b[0mcat\u001b[0m\u001b[0;34m(\u001b[0m\u001b[0;34m(\u001b[0m\u001b[0mlevels\u001b[0m\u001b[0;34m,\u001b[0m \u001b[0mnext_level\u001b[0m\u001b[0;34m.\u001b[0m\u001b[0mreshape\u001b[0m\u001b[0;34m(\u001b[0m\u001b[0;36m1\u001b[0m\u001b[0;34m)\u001b[0m\u001b[0;34m)\u001b[0m\u001b[0;34m)\u001b[0m\u001b[0;34m\u001b[0m\u001b[0;34m\u001b[0m\u001b[0m\n",
      "\u001b[0;31mKeyboardInterrupt\u001b[0m: "
     ]
    }
   ],
   "source": [
    "# learning_rate = 1e-3\n",
    "# learning_rate = 1e-1\n",
    "learning_rate = 1\n",
    "optimizer = torch.optim.Adam(model.parameters(), lr=learning_rate)\n",
    "# optimizer = torch.optim.RMSprop(model.parameters(), lr=learning_rate)\n",
    "# optimizer = torch.optim.SGD(model.parameters(), lr=learning_rate)\n",
    "# optimizer = torch.optim.Adagrad(model.parameters())\n",
    "for t in range(100):\n",
    "# for t in range(1000):\n",
    "#     optimizer.zero_grad()\n",
    "    # Forward pass: compute predicted y by passing x to the model.\n",
    "    params_of_final_function = model(x[:,:-1].float())\n",
    "    y_hats_all, y_actual_all = calc_all_y_preds(params_of_final_function)    \n",
    "#     y_pred = torch.sum(feats * params_of_final_function, dim=1)\n",
    "\n",
    "    # Compute and print loss.\n",
    "    loss = loss_fn(y_hats_all, y_actual_all)\n",
    "    if t % 2 == 0:\n",
    "#     if t % 100 == 99:\n",
    "        print(t)\n",
    "        print('%.15f' % loss.item())\n",
    "\n",
    "    # Before the backward pass, use the optimizer object to zero all of the\n",
    "    # gradients for the variables it will update (which are the learnable\n",
    "    # weights of the model). This is because by default, gradients are\n",
    "    # accumulated in buffers( i.e, not overwritten) whenever .backward()\n",
    "    # is called. Checkout docs of torch.autograd.backward for more details.\n",
    "    optimizer.zero_grad()\n",
    "\n",
    "    # Backward pass: compute gradient of the loss with respect to model\n",
    "    # parameters\n",
    "    loss.backward()\n",
    "\n",
    "    # Calling the step function on an Optimizer makes an update to its\n",
    "    # parameters\n",
    "    optimizer.step()"
   ]
  },
  {
   "cell_type": "code",
   "execution_count": 339,
   "id": "d5f5f2df",
   "metadata": {},
   "outputs": [
    {
     "data": {
      "text/plain": [
       "tensor(1.1438e+25, grad_fn=<MseLossBackward>)"
      ]
     },
     "execution_count": 339,
     "metadata": {},
     "output_type": "execute_result"
    }
   ],
   "source": [
    "loss"
   ]
  },
  {
   "cell_type": "code",
   "execution_count": 245,
   "id": "8e097311",
   "metadata": {},
   "outputs": [
    {
     "data": {
      "text/plain": [
       "<generator object Module.parameters at 0x151603510>"
      ]
     },
     "execution_count": 245,
     "metadata": {},
     "output_type": "execute_result"
    }
   ],
   "source": [
    "model.parameters()"
   ]
  },
  {
   "cell_type": "code",
   "execution_count": null,
   "id": "1e568c72",
   "metadata": {},
   "outputs": [],
   "source": [
    "# need to handle:\n",
    "    # [/] diff starting dates\n",
    "    # [/] covid_jump\n",
    "    # [] align things correctly -- ie obs_lag-1 with training\n",
    "    # [] accessed everything by z_id in the above loop, but may need to tweak that"
   ]
  },
  {
   "cell_type": "code",
   "execution_count": null,
   "id": "68ef4603",
   "metadata": {},
   "outputs": [],
   "source": [
    "# given zone_params, compute preds\n",
    "# zone_params: tensor of shape (n_zones, n_params)\n",
    "\n"
   ]
  },
  {
   "cell_type": "code",
   "execution_count": 213,
   "id": "5785482b",
   "metadata": {},
   "outputs": [],
   "source": [
    "n_zones = x.shape[1]\n",
    "zone_embedding_dim = 3\n",
    "n_params_of_final_function = 2 # ie intercept + slope = 2 params\n",
    "\n",
    "model = torch.nn.Sequential(\n",
    "    torch.nn.Linear(n_zones, zone_embedding_dim),\n",
    "    torch.nn.Linear(zone_embedding_dim, n_params_of_final_function),\n",
    "    # for this layer, want a linear combo of the final params and sd_ratio + 1 (for int)\n",
    "    # actuall nothing learnable anymore, just want the params\n",
    "    \n",
    "#     torch.nn.Linear(n_params_of_final_function, 1)\n",
    "#     torch.nn.Flatten(0, 1)\n",
    ")\n",
    "loss_fn = torch.nn.MSELoss(reduction='sum')"
   ]
  },
  {
   "cell_type": "code",
   "execution_count": 237,
   "id": "120d3d73",
   "metadata": {},
   "outputs": [
    {
     "name": "stdout",
     "output_type": "stream",
     "text": [
      "99 652433.0391673663\n",
      "199 639534.3018971084\n",
      "299 628686.2383346936\n",
      "399 619886.8578079572\n",
      "499 613219.6458116273\n",
      "599 608500.0720278921\n",
      "699 605339.5208217041\n",
      "799 603298.6873747088\n",
      "899 602013.3992106845\n",
      "999 601206.7736847717\n"
     ]
    }
   ],
   "source": [
    "learning_rate = 1e-3\n",
    "optimizer = torch.optim.RMSprop(model.parameters(), lr=learning_rate)\n",
    "for t in range(1000):\n",
    "    # Forward pass: compute predicted y by passing x to the model.\n",
    "    params_of_final_function = model(x.float())\n",
    "    y_pred = torch.sum(feats * params_of_final_function, dim=1)\n",
    "\n",
    "    # Compute and print loss.\n",
    "    loss = loss_fn(y_pred, y)\n",
    "    if t % 100 == 99:\n",
    "        print(t, loss.item())\n",
    "\n",
    "    # Before the backward pass, use the optimizer object to zero all of the\n",
    "    # gradients for the variables it will update (which are the learnable\n",
    "    # weights of the model). This is because by default, gradients are\n",
    "    # accumulated in buffers( i.e, not overwritten) whenever .backward()\n",
    "    # is called. Checkout docs of torch.autograd.backward for more details.\n",
    "    optimizer.zero_grad()\n",
    "\n",
    "    # Backward pass: compute gradient of the loss with respect to model\n",
    "    # parameters\n",
    "    loss.backward()\n",
    "\n",
    "    # Calling the step function on an Optimizer makes an update to its\n",
    "    # parameters\n",
    "    optimizer.step()"
   ]
  },
  {
   "cell_type": "code",
   "execution_count": null,
   "id": "1cd51007",
   "metadata": {},
   "outputs": [],
   "source": []
  },
  {
   "cell_type": "code",
   "execution_count": null,
   "id": "00262db6",
   "metadata": {},
   "outputs": [],
   "source": [
    "#### SD Ratio stuff below"
   ]
  },
  {
   "cell_type": "code",
   "execution_count": 80,
   "id": "18baa6d2",
   "metadata": {},
   "outputs": [
    {
     "data": {
      "text/plain": [
       "(2386, 74)"
      ]
     },
     "execution_count": 80,
     "metadata": {},
     "output_type": "execute_result"
    }
   ],
   "source": [
    "data_sample = task.supply_estimator.df_clean.loc[task.supply_estimator.df_clean.zone_id.isin([1,973,18,27,861,785,942])].reset_index(drop=True)\n",
    "data_sample.shape"
   ]
  },
  {
   "cell_type": "code",
   "execution_count": 205,
   "id": "dbdbe59c",
   "metadata": {},
   "outputs": [
    {
     "data": {
      "text/plain": [
       "(233268, 74)"
      ]
     },
     "execution_count": 205,
     "metadata": {},
     "output_type": "execute_result"
    }
   ],
   "source": [
    "data_sample = task.supply_estimator.df_clean.reset_index(drop=True)\n",
    "data_sample.shape"
   ]
  },
  {
   "cell_type": "code",
   "execution_count": 206,
   "id": "46572371",
   "metadata": {},
   "outputs": [],
   "source": [
    "zone_id_ohe = pd.get_dummies(data_sample.zone_id, prefix='zone_dummy')\n",
    "data_sample = pd.concat([data_sample, zone_id_ohe], axis=1)"
   ]
  },
  {
   "cell_type": "code",
   "execution_count": 207,
   "id": "34eaa946",
   "metadata": {},
   "outputs": [],
   "source": [
    "data_sample['intercept'] = 1"
   ]
  },
  {
   "cell_type": "code",
   "execution_count": 208,
   "id": "9ff9654b",
   "metadata": {},
   "outputs": [
    {
     "data": {
      "text/plain": [
       "(233268, 759)"
      ]
     },
     "execution_count": 208,
     "metadata": {},
     "output_type": "execute_result"
    }
   ],
   "source": [
    "data_sample.shape"
   ]
  },
  {
   "cell_type": "code",
   "execution_count": 84,
   "id": "b1d2856e",
   "metadata": {},
   "outputs": [
    {
     "data": {
      "text/html": [
       "<div>\n",
       "<style scoped>\n",
       "    .dataframe tbody tr th:only-of-type {\n",
       "        vertical-align: middle;\n",
       "    }\n",
       "\n",
       "    .dataframe tbody tr th {\n",
       "        vertical-align: top;\n",
       "    }\n",
       "\n",
       "    .dataframe thead th {\n",
       "        text-align: right;\n",
       "    }\n",
       "</style>\n",
       "<table border=\"1\" class=\"dataframe\">\n",
       "  <thead>\n",
       "    <tr style=\"text-align: right;\">\n",
       "      <th></th>\n",
       "      <th>zone_dummy_1</th>\n",
       "      <th>zone_dummy_18</th>\n",
       "      <th>zone_dummy_27</th>\n",
       "      <th>zone_dummy_785</th>\n",
       "      <th>zone_dummy_861</th>\n",
       "      <th>zone_dummy_942</th>\n",
       "      <th>zone_dummy_973</th>\n",
       "    </tr>\n",
       "  </thead>\n",
       "  <tbody>\n",
       "    <tr>\n",
       "      <th>0</th>\n",
       "      <td>1</td>\n",
       "      <td>0</td>\n",
       "      <td>0</td>\n",
       "      <td>0</td>\n",
       "      <td>0</td>\n",
       "      <td>0</td>\n",
       "      <td>0</td>\n",
       "    </tr>\n",
       "    <tr>\n",
       "      <th>1</th>\n",
       "      <td>1</td>\n",
       "      <td>0</td>\n",
       "      <td>0</td>\n",
       "      <td>0</td>\n",
       "      <td>0</td>\n",
       "      <td>0</td>\n",
       "      <td>0</td>\n",
       "    </tr>\n",
       "  </tbody>\n",
       "</table>\n",
       "</div>"
      ],
      "text/plain": [
       "   zone_dummy_1  zone_dummy_18  zone_dummy_27  zone_dummy_785  zone_dummy_861  \\\n",
       "0             1              0              0               0               0   \n",
       "1             1              0              0               0               0   \n",
       "\n",
       "   zone_dummy_942  zone_dummy_973  \n",
       "0               0               0  \n",
       "1               0               0  "
      ]
     },
     "execution_count": 84,
     "metadata": {},
     "output_type": "execute_result"
    }
   ],
   "source": [
    "data_sample[[x for x in list(data_sample) if 'zone_dummy' in x]].head(2)"
   ]
  },
  {
   "cell_type": "code",
   "execution_count": 209,
   "id": "dbb440fb",
   "metadata": {},
   "outputs": [],
   "source": [
    "x = torch.from_numpy(np.array(data_sample[[x for x in list(data_sample) if 'zone_dummy' in x]]))\n",
    "\n",
    "y = torch.from_numpy(np.array(data_sample.logit_capacity_avail))"
   ]
  },
  {
   "cell_type": "code",
   "execution_count": 210,
   "id": "f381189a",
   "metadata": {},
   "outputs": [
    {
     "data": {
      "text/plain": [
       "tensor([[0.3341, 1.0000],\n",
       "        [0.6107, 1.0000],\n",
       "        [0.4055, 1.0000],\n",
       "        ...,\n",
       "        [0.6964, 1.0000],\n",
       "        [1.2947, 1.0000],\n",
       "        [0.4536, 1.0000]], dtype=torch.float64)"
      ]
     },
     "execution_count": 210,
     "metadata": {},
     "output_type": "execute_result"
    }
   ],
   "source": [
    "feats = torch.from_numpy(np.array(data_sample[['ratio', 'intercept']]))\n",
    "feats"
   ]
  },
  {
   "cell_type": "code",
   "execution_count": null,
   "id": "e6a755a6",
   "metadata": {},
   "outputs": [],
   "source": [
    "# for time-varying parameters:\n",
    "    # 1) can model W_t as a random walk from W_t-1\n",
    "        # then assume gaussian error on logit-scale\n",
    "        # so data likelihood is Pr(weights)*Pr(data|weights), which we can compute since both are gaussian\n",
    "        # Pr(weights) = Pr(weights_at_t3|weights_at_t2)*Pr(weights_at_t2|weights_at_t1)*Pr(weights_at_t1)\n",
    "        \n",
    "        # would this require custom layer? where we do sth like:\n",
    "            # torch.nn.Parameter_at_time_t ~ N(torch.nn.Parameter_at_time_t-1, sigma_parameter)\n",
    "            # below when we do a sequence of linear layers, each linear layer has its weights applied to whole dataset\n",
    "            # what we would want is for each linear layer to have n_weights = T\n",
    "            # and then when we apply the layer, we just have to mult weights_at_t with data_at_t\n",
    "    # 2) can have the final model params be a function of RNN\n",
    "        # zone embedding would happen within this model\n",
    "    \n",
    "# is (2) basically just a more general approach whereas (1) is assuming more about the nature of the function over time"
   ]
  },
  {
   "cell_type": "code",
   "execution_count": 213,
   "id": "60946c46",
   "metadata": {},
   "outputs": [],
   "source": [
    "n_zones = x.shape[1]\n",
    "zone_embedding_dim = 3\n",
    "n_params_of_final_function = 2 # ie intercept + slope = 2 params\n",
    "\n",
    "model = torch.nn.Sequential(\n",
    "    torch.nn.Linear(n_zones, zone_embedding_dim),\n",
    "    torch.nn.Linear(zone_embedding_dim, n_params_of_final_function),\n",
    "    # for this layer, want a linear combo of the final params and sd_ratio + 1 (for int)\n",
    "    # actuall nothing learnable anymore, just want the params\n",
    "    \n",
    "#     torch.nn.Linear(n_params_of_final_function, 1)\n",
    "#     torch.nn.Flatten(0, 1)\n",
    ")\n",
    "loss_fn = torch.nn.MSELoss(reduction='sum')"
   ]
  },
  {
   "cell_type": "code",
   "execution_count": 237,
   "id": "c4bdfeff",
   "metadata": {},
   "outputs": [
    {
     "name": "stdout",
     "output_type": "stream",
     "text": [
      "99 652433.0391673663\n",
      "199 639534.3018971084\n",
      "299 628686.2383346936\n",
      "399 619886.8578079572\n",
      "499 613219.6458116273\n",
      "599 608500.0720278921\n",
      "699 605339.5208217041\n",
      "799 603298.6873747088\n",
      "899 602013.3992106845\n",
      "999 601206.7736847717\n"
     ]
    }
   ],
   "source": [
    "learning_rate = 1e-3\n",
    "optimizer = torch.optim.RMSprop(model.parameters(), lr=learning_rate)\n",
    "for t in range(1000):\n",
    "    # Forward pass: compute predicted y by passing x to the model.\n",
    "    params_of_final_function = model(x.float())\n",
    "    y_pred = torch.sum(feats * params_of_final_function, dim=1)\n",
    "\n",
    "    # Compute and print loss.\n",
    "    loss = loss_fn(y_pred, y)\n",
    "    if t % 100 == 99:\n",
    "        print(t, loss.item())\n",
    "\n",
    "    # Before the backward pass, use the optimizer object to zero all of the\n",
    "    # gradients for the variables it will update (which are the learnable\n",
    "    # weights of the model). This is because by default, gradients are\n",
    "    # accumulated in buffers( i.e, not overwritten) whenever .backward()\n",
    "    # is called. Checkout docs of torch.autograd.backward for more details.\n",
    "    optimizer.zero_grad()\n",
    "\n",
    "    # Backward pass: compute gradient of the loss with respect to model\n",
    "    # parameters\n",
    "    loss.backward()\n",
    "\n",
    "    # Calling the step function on an Optimizer makes an update to its\n",
    "    # parameters\n",
    "    optimizer.step()"
   ]
  },
  {
   "cell_type": "code",
   "execution_count": 215,
   "id": "3ba37527",
   "metadata": {},
   "outputs": [
    {
     "data": {
      "text/plain": [
       "672552.5094239378"
      ]
     },
     "execution_count": 215,
     "metadata": {},
     "output_type": "execute_result"
    }
   ],
   "source": [
    "loss.item()"
   ]
  },
  {
   "cell_type": "code",
   "execution_count": 216,
   "id": "320d5525",
   "metadata": {},
   "outputs": [
    {
     "data": {
      "text/plain": [
       "tensor([3.1893, 4.6955, 3.5783,  ..., 2.7548, 4.6859, 1.9708],\n",
       "       dtype=torch.float64, grad_fn=<SumBackward1>)"
      ]
     },
     "execution_count": 216,
     "metadata": {},
     "output_type": "execute_result"
    }
   ],
   "source": [
    "y_pred"
   ]
  },
  {
   "cell_type": "code",
   "execution_count": 217,
   "id": "a176115f",
   "metadata": {},
   "outputs": [],
   "source": [
    "data_sample['new_preds'] = y_pred.tolist()"
   ]
  },
  {
   "cell_type": "code",
   "execution_count": 218,
   "id": "8856fdd0",
   "metadata": {},
   "outputs": [],
   "source": [
    "import oak.utils as utils"
   ]
  },
  {
   "cell_type": "code",
   "execution_count": 219,
   "id": "2aed1d83",
   "metadata": {},
   "outputs": [],
   "source": [
    "data_sample['new_filtered_capacity_on_preds'] = utils.sigmoid(data_sample.new_preds)"
   ]
  },
  {
   "cell_type": "code",
   "execution_count": 220,
   "id": "2bbedfde",
   "metadata": {},
   "outputs": [
    {
     "data": {
      "text/html": [
       "<div>\n",
       "<style scoped>\n",
       "    .dataframe tbody tr th:only-of-type {\n",
       "        vertical-align: middle;\n",
       "    }\n",
       "\n",
       "    .dataframe tbody tr th {\n",
       "        vertical-align: top;\n",
       "    }\n",
       "\n",
       "    .dataframe thead th {\n",
       "        text-align: right;\n",
       "    }\n",
       "</style>\n",
       "<table border=\"1\" class=\"dataframe\">\n",
       "  <thead>\n",
       "    <tr style=\"text-align: right;\">\n",
       "      <th></th>\n",
       "      <th>preds</th>\n",
       "      <th>new_preds</th>\n",
       "    </tr>\n",
       "  </thead>\n",
       "  <tbody>\n",
       "    <tr>\n",
       "      <th>51017</th>\n",
       "      <td>2.453997</td>\n",
       "      <td>2.550163</td>\n",
       "    </tr>\n",
       "    <tr>\n",
       "      <th>51520</th>\n",
       "      <td>3.990890</td>\n",
       "      <td>4.146582</td>\n",
       "    </tr>\n",
       "    <tr>\n",
       "      <th>126707</th>\n",
       "      <td>4.605429</td>\n",
       "      <td>4.674178</td>\n",
       "    </tr>\n",
       "    <tr>\n",
       "      <th>140431</th>\n",
       "      <td>4.493937</td>\n",
       "      <td>4.712293</td>\n",
       "    </tr>\n",
       "    <tr>\n",
       "      <th>143655</th>\n",
       "      <td>1.257535</td>\n",
       "      <td>0.593405</td>\n",
       "    </tr>\n",
       "  </tbody>\n",
       "</table>\n",
       "</div>"
      ],
      "text/plain": [
       "           preds  new_preds\n",
       "51017   2.453997   2.550163\n",
       "51520   3.990890   4.146582\n",
       "126707  4.605429   4.674178\n",
       "140431  4.493937   4.712293\n",
       "143655  1.257535   0.593405"
      ]
     },
     "execution_count": 220,
     "metadata": {},
     "output_type": "execute_result"
    }
   ],
   "source": [
    "data_sample[['preds', 'new_preds']].sample(5)"
   ]
  },
  {
   "cell_type": "code",
   "execution_count": 221,
   "id": "bcc25fa9",
   "metadata": {
    "collapsed": true
   },
   "outputs": [
    {
     "data": {
      "text/plain": [
       "array([ 347,  551,  983,  692,  818,  237,  183,  305,  575,  244,  184,\n",
       "        771,  760,  182,  185,  169, 1418,  356, 1469,  758,  274,  974,\n",
       "        936,  590, 1002,  365,  392,  205,  564,   79,   90,  178,  351,\n",
       "        463,  581,  776,  166,  561,  583,  675,  539,  537,  195,  292,\n",
       "        523,  376, 1116,  952,  469,  697,   33,  710,  819,  358,  465,\n",
       "        378,  144,  437,  912,  827,  341,  103,  602,  393,  979,  223,\n",
       "        127,  447, 1445, 1415,  298,  101,  179,    1, 1029,  280,  986,\n",
       "        259,  806,  402,  367,  723,  721,  319,  472,  207,  755,  831,\n",
       "        154,  970,  508,  694,  988,  374,  521,  176, 1506,  959,  218,\n",
       "        981, 1085,  702,  714,  783,   73,  839,  571,  662,  698,  304,\n",
       "         28,  972,  333, 1001,  320,  632,  861,   16,  216,  353,  104,\n",
       "        272,  226,  817,  629,   27,  427, 1497,  466,  640,  528,  658,\n",
       "       1711,  387,  939,  451,  246, 1120,  364,  507,  530,   76,  359,\n",
       "        425,  235,  250,  206,  357,  982,  643,  593,  201, 1481,  475,\n",
       "        323,  200,  594,  276,  946,  293,   82,  174,  420,  168,  251,\n",
       "        262, 1435,   32,  213,  973,  945,  457,  438,  950,  747, 1419,\n",
       "        181,  481,  499,  308,  379,  735,  214,  642,  385,  748,  439,\n",
       "        194,  696,  282,  519,  924,  609,  361,  517,  746,  655,  383,\n",
       "        488,  288, 1490,  167,  403,  504,  452,  432,  497,   87,   13,\n",
       "        542,  212,  413,   93,  608,  826,  479,  595,  598, 1124, 1081,\n",
       "        810,  743, 1365, 1088,  462,  864,  582,  503,  204,  381,  309,\n",
       "        415,  989,   18,  404,  495,  502,  396,  568,  586, 1011,   37,\n",
       "        334,  829,  405,  832,  177,  961,  722,  842, 1050,  417,  532,\n",
       "        759,  707,  919, 1402,  245,  730,  786,  668,  380,  840,  397,\n",
       "         43,  543, 1443,  599,  604,  476,  765,  548,  720,  162,  390,\n",
       "        787, 1030,  474,  828,  494,   81,  321,  922,  186,  324,  544,\n",
       "        975,  430,  605, 1099,  701,  229,  750,  691,  266,  971,  450,\n",
       "        489,  480,  248, 1003,  704,  171,  219, 1070,  965, 1480,  296,\n",
       "        190,  648,  267,  297,  464,  823,  796,  155,  424,  455,  436,\n",
       "        535,  355,   50,  522,  146,  173,  277,  492,  253,  785,   14,\n",
       "        377,  419, 1522,  562, 1019,  677,  613,  322,  290,  980,  458,\n",
       "        423,  239,  478,  804,   38,  866,  873,  649, 1080,  616, 1485,\n",
       "       1049, 1033,  426,  654,  506,  639,  600,  170, 1289,  977, 1071,\n",
       "        130,  294,  596,  335,  874,  268,  116,  788,  960,  578,  221,\n",
       "        856,  560,  395,  389,  326,  641,  145,  518,  160,  224,  328,\n",
       "        443,  963,  943,  151,  538,  331,  391,  803, 1544,  453,  143,\n",
       "        669,  853,  227,  872,  569,  566,   95,  851,  159,  354,  368,\n",
       "        336,  749,  372,   78, 1022,   49,  652,  601,  769,  449,  647,\n",
       "        433, 1468,  531,  172, 1448,  808,  260, 1068,  843,   85, 1434,\n",
       "        687,  485,  619,  857, 1301,  585,  363,  852,  289,  718,  540,\n",
       "        529,  969,  709,  812, 1344,  985,  373,  644,  753,  678,  770,\n",
       "        278, 1016,  627,  858,   84,  825, 1332,  434, 1281,  792,  261,\n",
       "        927,  394,  188,  611,  325,  332,  473,  736,  557,  511,  811,\n",
       "        727,  460,  589,  446,  854, 1765,  279,  375,  236,  870,  650,\n",
       "        871,  533,  388,  774,  591,  175,  559, 1447,  703, 1524, 1652,\n",
       "       1045,  285, 1302,  768, 1498,  429, 1510,  646,  695,  844,  471,\n",
       "        850, 1039, 1625,  563, 1450, 1411,  505,  816,  295,  751,  283,\n",
       "        620,  470,  780,  445,  597,  500,  152,  838, 1008,  737,  618,\n",
       "       1044,  342,  781, 1444, 1351,  550,  623,  802,  797,  859,  196,\n",
       "        230, 1376, 1206,  273,  490,  814, 1451, 1161,  822,  362,  708,\n",
       "        549, 1624,  520,  440,   58,  820, 1709,  624,  484,  513, 1040,\n",
       "        482,  645,  456, 1009,  617,  622,  756,  384,  339,  951,  757,\n",
       "       1410,  534, 1021,  863,  754,  916, 1653,  813,  459,  536,  382,\n",
       "        679,  766,  779, 1417,  242, 1489, 1477,  621,  243, 1035,  773,\n",
       "        700,  588,  917,  421, 1018,  302,  681, 1561,  693,  431,  552,\n",
       "        134,  651,  554,  131,  400,  603,  555,  821,  241,  310,  761,\n",
       "        327,  514,  725,  441,  348,  211,  428,  841,  270, 1038,  510,\n",
       "        656,  340,  491,  607, 1014, 1036,  337,  275,  572,  683,  942,\n",
       "        674,  663,  541,  949,  386,  483,  454,  225,  738,  360,  574,\n",
       "        661,  790,  228,  477,  493,  713,  410,  524, 1500,  422,  615,\n",
       "       1441,  442, 1446,  558,  307,  161,   94, 1051,  486,  913,  772,\n",
       "        516,  676, 1167,  931,  767,  553,  953, 1031,  921,  191,  366,\n",
       "        587, 1413])"
      ]
     },
     "execution_count": 221,
     "metadata": {},
     "output_type": "execute_result"
    }
   ],
   "source": [
    "data_sample.zone_id.unique()"
   ]
  },
  {
   "cell_type": "code",
   "execution_count": 234,
   "id": "d762a989",
   "metadata": {},
   "outputs": [],
   "source": [
    "z_id = 973"
   ]
  },
  {
   "cell_type": "code",
   "execution_count": 235,
   "id": "0d16a777",
   "metadata": {},
   "outputs": [
    {
     "data": {
      "text/plain": [
       "<matplotlib.axes._subplots.AxesSubplot at 0x131bd9ef0>"
      ]
     },
     "execution_count": 235,
     "metadata": {},
     "output_type": "execute_result"
    },
    {
     "data": {
      "image/png": "[encoded data removed]",
      "text/plain": [
       "<Figure size 432x288 with 1 Axes>"
      ]
     },
     "metadata": {
      "needs_background": "light"
     },
     "output_type": "display_data"
    }
   ],
   "source": [
    "ax = sns.scatterplot(x='ratio', y='filtered_capacity_on', data=data_sample.loc[data_sample.zone_id == z_id])\n",
    "sns.scatterplot(x='ratio', y='new_filtered_capacity_on_preds', data=data_sample.loc[data_sample.zone_id == z_id])"
   ]
  },
  {
   "cell_type": "code",
   "execution_count": 236,
   "id": "19e2306b",
   "metadata": {},
   "outputs": [
    {
     "data": {
      "text/plain": [
       "<matplotlib.axes._subplots.AxesSubplot at 0x131c00630>"
      ]
     },
     "execution_count": 236,
     "metadata": {},
     "output_type": "execute_result"
    },
    {
     "data": {
      "image/png": "[encoded data removed]",
      "text/plain": [
       "<Figure size 432x288 with 1 Axes>"
      ]
     },
     "metadata": {
      "needs_background": "light"
     },
     "output_type": "display_data"
    }
   ],
   "source": [
    "ax = sns.scatterplot(x='ratio', y='filtered_capacity_on', data=data_sample.loc[data_sample.zone_id == z_id])\n",
    "sns.scatterplot(x='ratio', y='filtered_capacity_on_preds', data=data_sample.loc[data_sample.zone_id == z_id])"
   ]
  },
  {
   "cell_type": "code",
   "execution_count": 188,
   "id": "ea401411",
   "metadata": {},
   "outputs": [
    {
     "data": {
      "text/plain": [
       "tensor([[1, 0, 0,  ..., 0, 0, 0],\n",
       "        [1, 0, 0,  ..., 0, 0, 0],\n",
       "        [1, 0, 0,  ..., 0, 0, 0],\n",
       "        ...,\n",
       "        [0, 1, 0,  ..., 0, 0, 0],\n",
       "        [0, 1, 0,  ..., 0, 0, 0],\n",
       "        [0, 1, 0,  ..., 0, 0, 0]], dtype=torch.uint8)"
      ]
     },
     "execution_count": 188,
     "metadata": {},
     "output_type": "execute_result"
    }
   ],
   "source": [
    "x"
   ]
  },
  {
   "cell_type": "code",
   "execution_count": 158,
   "id": "f3069a77",
   "metadata": {},
   "outputs": [
    {
     "data": {
      "text/plain": [
       "tensor([[-0.4672, -0.1211],\n",
       "        [-0.4672, -0.1211],\n",
       "        [-0.4672, -0.1211],\n",
       "        ...,\n",
       "        [-0.3958, -0.4067],\n",
       "        [-0.3958, -0.4067],\n",
       "        [-0.3958, -0.4067]], grad_fn=<AddmmBackward>)"
      ]
     },
     "execution_count": 158,
     "metadata": {},
     "output_type": "execute_result"
    }
   ],
   "source": [
    "params_of_final_function = model(x.float())\n",
    "params_of_final_function"
   ]
  },
  {
   "cell_type": "code",
   "execution_count": 159,
   "id": "c37bf6db",
   "metadata": {},
   "outputs": [
    {
     "data": {
      "text/plain": [
       "torch.Size([2386, 2])"
      ]
     },
     "execution_count": 159,
     "metadata": {},
     "output_type": "execute_result"
    }
   ],
   "source": [
    "params_of_final_function.shape"
   ]
  },
  {
   "cell_type": "code",
   "execution_count": 113,
   "id": "d1c14c97",
   "metadata": {},
   "outputs": [
    {
     "data": {
      "text/plain": [
       "tensor([[0.4545, 1.0000],\n",
       "        [0.3865, 1.0000],\n",
       "        [0.4232, 1.0000],\n",
       "        ...,\n",
       "        [1.1238, 1.0000],\n",
       "        [0.9846, 1.0000],\n",
       "        [0.9729, 1.0000]], dtype=torch.float64)"
      ]
     },
     "execution_count": 113,
     "metadata": {},
     "output_type": "execute_result"
    }
   ],
   "source": [
    "feats = torch.from_numpy(np.array(data_sample[['ratio', 'intercept']]))\n",
    "feats"
   ]
  },
  {
   "cell_type": "code",
   "execution_count": 125,
   "id": "96161239",
   "metadata": {},
   "outputs": [
    {
     "data": {
      "text/plain": [
       "torch.Size([2386, 2])"
      ]
     },
     "execution_count": 125,
     "metadata": {},
     "output_type": "execute_result"
    }
   ],
   "source": [
    "feats.shape"
   ]
  },
  {
   "cell_type": "code",
   "execution_count": 161,
   "id": "f87f3d5f",
   "metadata": {},
   "outputs": [],
   "source": [
    "y_pred = torch.sum(feats * params_of_final_function, dim=1)"
   ]
  }
 ],
 "metadata": {
  "kernelspec": {
   "display_name": "Python 3",
   "language": "python",
   "name": "python3"
  },
  "language_info": {
   "codemirror_mode": {
    "name": "ipython",
    "version": 3
   },
   "file_extension": ".py",
   "mimetype": "text/x-python",
   "name": "python",
   "nbconvert_exporter": "python",
   "pygments_lexer": "ipython3",
   "version": "3.8.6"
  }
 },
 "nbformat": 4,
 "nbformat_minor": 5
}
