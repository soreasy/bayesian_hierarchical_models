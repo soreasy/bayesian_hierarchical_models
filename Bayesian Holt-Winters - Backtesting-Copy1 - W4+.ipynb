{
 "cells": [
  {
   "cell_type": "code",
   "execution_count": 1,
   "id": "8d46d7de",
   "metadata": {},
   "outputs": [],
   "source": [
    "from statsmodels.tsa.api import ExponentialSmoothing, SimpleExpSmoothing, Holt\n",
    "\n",
    "import pymc3 as pm\n",
    "import theano\n",
    "import theano.tensor as tt\n",
    "\n",
    "import pandas as pd\n",
    "import numpy as np\n",
    "from datetime import datetime, timedelta, date\n",
    "\n",
    "import seaborn as sns\n",
    "\n",
    "import matplotlib.pyplot as plt\n",
    "import matplotlib.style as style\n",
    "style.use('ggplot')"
   ]
  },
  {
   "cell_type": "code",
   "execution_count": 2,
   "id": "fa27658f",
   "metadata": {},
   "outputs": [
    {
     "data": {
      "text/html": [
       "<div>\n",
       "<style scoped>\n",
       "    .dataframe tbody tr th:only-of-type {\n",
       "        vertical-align: middle;\n",
       "    }\n",
       "\n",
       "    .dataframe tbody tr th {\n",
       "        vertical-align: top;\n",
       "    }\n",
       "\n",
       "    .dataframe thead th {\n",
       "        text-align: right;\n",
       "    }\n",
       "</style>\n",
       "<table border=\"1\" class=\"dataframe\">\n",
       "  <thead>\n",
       "    <tr style=\"text-align: right;\">\n",
       "      <th></th>\n",
       "      <th>zone_id</th>\n",
       "      <th>date</th>\n",
       "      <th>total_demand_new</th>\n",
       "      <th>total_demand_new_lag1</th>\n",
       "      <th>total_demand_new_lag2</th>\n",
       "      <th>total_demand_new_lag3</th>\n",
       "      <th>total_demand_new_lag-1</th>\n",
       "      <th>total_demand_new_lag-2</th>\n",
       "      <th>total_demand_new_lag-3</th>\n",
       "      <th>smoothed_total_demand</th>\n",
       "      <th>year</th>\n",
       "      <th>total_demand_new_lag4</th>\n",
       "      <th>t4w_total_demand</th>\n",
       "      <th>month</th>\n",
       "      <th>week</th>\n",
       "      <th>day</th>\n",
       "      <th>t4w_total_demand_lag2</th>\n",
       "      <th>szn_factor</th>\n",
       "    </tr>\n",
       "    <tr>\n",
       "      <th>date_idx</th>\n",
       "      <th></th>\n",
       "      <th></th>\n",
       "      <th></th>\n",
       "      <th></th>\n",
       "      <th></th>\n",
       "      <th></th>\n",
       "      <th></th>\n",
       "      <th></th>\n",
       "      <th></th>\n",
       "      <th></th>\n",
       "      <th></th>\n",
       "      <th></th>\n",
       "      <th></th>\n",
       "      <th></th>\n",
       "      <th></th>\n",
       "      <th></th>\n",
       "      <th></th>\n",
       "      <th></th>\n",
       "    </tr>\n",
       "  </thead>\n",
       "  <tbody>\n",
       "    <tr>\n",
       "      <th>2017-06-26</th>\n",
       "      <td>1</td>\n",
       "      <td>2017-06-26</td>\n",
       "      <td>1900.84505</td>\n",
       "      <td>NaN</td>\n",
       "      <td>NaN</td>\n",
       "      <td>NaN</td>\n",
       "      <td>2155.673157</td>\n",
       "      <td>2193.532475</td>\n",
       "      <td>2110.494687</td>\n",
       "      <td>NaN</td>\n",
       "      <td>2017</td>\n",
       "      <td>NaN</td>\n",
       "      <td>NaN</td>\n",
       "      <td>6</td>\n",
       "      <td>26</td>\n",
       "      <td>26</td>\n",
       "      <td>NaN</td>\n",
       "      <td>NaN</td>\n",
       "    </tr>\n",
       "    <tr>\n",
       "      <th>2017-06-26</th>\n",
       "      <td>970</td>\n",
       "      <td>2017-06-26</td>\n",
       "      <td>0.00000</td>\n",
       "      <td>NaN</td>\n",
       "      <td>NaN</td>\n",
       "      <td>NaN</td>\n",
       "      <td>0.000000</td>\n",
       "      <td>0.000000</td>\n",
       "      <td>0.000000</td>\n",
       "      <td>NaN</td>\n",
       "      <td>2017</td>\n",
       "      <td>NaN</td>\n",
       "      <td>NaN</td>\n",
       "      <td>6</td>\n",
       "      <td>26</td>\n",
       "      <td>26</td>\n",
       "      <td>NaN</td>\n",
       "      <td>NaN</td>\n",
       "    </tr>\n",
       "  </tbody>\n",
       "</table>\n",
       "</div>"
      ],
      "text/plain": [
       "            zone_id        date  total_demand_new  total_demand_new_lag1  \\\n",
       "date_idx                                                                   \n",
       "2017-06-26        1  2017-06-26        1900.84505                    NaN   \n",
       "2017-06-26      970  2017-06-26           0.00000                    NaN   \n",
       "\n",
       "            total_demand_new_lag2  total_demand_new_lag3  \\\n",
       "date_idx                                                   \n",
       "2017-06-26                    NaN                    NaN   \n",
       "2017-06-26                    NaN                    NaN   \n",
       "\n",
       "            total_demand_new_lag-1  total_demand_new_lag-2  \\\n",
       "date_idx                                                     \n",
       "2017-06-26             2155.673157             2193.532475   \n",
       "2017-06-26                0.000000                0.000000   \n",
       "\n",
       "            total_demand_new_lag-3  smoothed_total_demand  year  \\\n",
       "date_idx                                                          \n",
       "2017-06-26             2110.494687                    NaN  2017   \n",
       "2017-06-26                0.000000                    NaN  2017   \n",
       "\n",
       "            total_demand_new_lag4  t4w_total_demand  month  week  day  \\\n",
       "date_idx                                                                \n",
       "2017-06-26                    NaN               NaN      6    26   26   \n",
       "2017-06-26                    NaN               NaN      6    26   26   \n",
       "\n",
       "            t4w_total_demand_lag2  szn_factor  \n",
       "date_idx                                       \n",
       "2017-06-26                    NaN         NaN  \n",
       "2017-06-26                    NaN         NaN  "
      ]
     },
     "execution_count": 2,
     "metadata": {},
     "output_type": "execute_result"
    }
   ],
   "source": [
    "# df = pd.read_csv('weekly_dmd.csv')\n",
    "df = pd.read_csv('weekly_dmd_new.csv')\n",
    "df['date'] = pd.to_datetime(df.date).apply(lambda x: x.date())\n",
    "df = df.set_index(df.date)\n",
    "df.index.rename('date_idx', inplace=True)\n",
    "df.head(2)"
   ]
  },
  {
   "cell_type": "code",
   "execution_count": 1205,
   "id": "b469fd31",
   "metadata": {},
   "outputs": [
    {
     "name": "stderr",
     "output_type": "stream",
     "text": [
      "<ipython-input-1205-29803c084a1b>:7: FutureWarning: the 'damped'' keyword is deprecated, use 'damped_trend' instead\n",
      "  fit1 = ExponentialSmoothing(zdf, trend='add', seasonal='mul',\n",
      "/Users/sorenzeliger/.pyenv/versions/3.8.6/lib/python3.8/site-packages/statsmodels/tsa/base/tsa_model.py:524: ValueWarning: No frequency information was provided, so inferred frequency W-MON will be used.\n",
      "  warnings.warn('No frequency information was'\n",
      "/Users/sorenzeliger/.pyenv/versions/3.8.6/lib/python3.8/site-packages/statsmodels/tsa/holtwinters/model.py:427: FutureWarning: After 0.13 initialization must be handled at model creation\n",
      "  warnings.warn(\n",
      "/Users/sorenzeliger/.pyenv/versions/3.8.6/lib/python3.8/site-packages/statsmodels/tsa/holtwinters/model.py:1112: FutureWarning: Setting use_boxcox during fit has been deprecated and will be removed after 0.13. It must be set during model initialization.\n",
      "  warnings.warn(\n",
      "/Users/sorenzeliger/.pyenv/versions/3.8.6/lib/python3.8/site-packages/statsmodels/tsa/holtwinters/model.py:920: ConvergenceWarning: Optimization failed to converge. Check mle_retvals.\n",
      "  warnings.warn(\n"
     ]
    },
    {
     "data": {
      "image/png": "[encoded data removed]",
      "text/plain": [
       "<Figure size 720x432 with 1 Axes>"
      ]
     },
     "metadata": {},
     "output_type": "display_data"
    }
   ],
   "source": [
    "### Out of the box holt-winters model to compare with below \"modified\" holt-winters implementation that handles covid\n",
    "\n",
    "zdf = df1.sort_values('date').total_demand_new.astype(float)\n",
    "\n",
    "fit1 = ExponentialSmoothing(zdf, trend='add', seasonal='mul',\n",
    "                            seasonal_periods=52,\n",
    "                            damped=False\n",
    "                           ).fit(optimized=True, use_boxcox=False)\n",
    "\n",
    "ax = zdf.plot(figsize=(10,6), marker='o', color='black', title=\"Forecasts from Holt-Winters - SF - with seasonality component\" )\n",
    "ax.set_ylabel(\"Smoothed Total Demand\")\n",
    "ax.set_xlabel(\"Week\")\n",
    "fit1.fittedvalues.plot(ax=ax, style='--', color='red')\n",
    "\n",
    "fit1.forecast(8).rename('Holt-Winters (with seasonality component)').plot(ax=ax, style='--', marker='o', color='red', legend=True)\n",
    "\n",
    "plt.show()"
   ]
  },
  {
   "cell_type": "code",
   "execution_count": 1206,
   "id": "19753c69",
   "metadata": {},
   "outputs": [
    {
     "data": {
      "text/plain": [
       "{'smoothing_level': 0.8889285714285714,\n",
       " 'smoothing_trend': 0.8230820105820106,\n",
       " 'smoothing_seasonal': 0.1110714285714286,\n",
       " 'damping_trend': nan,\n",
       " 'initial_level': 2783.5069797410138,\n",
       " 'initial_trend': 2.386143219742208,\n",
       " 'initial_seasons': array([0.68289574, 0.77444503, 0.78804634, 0.75821426, 0.7884416 ,\n",
       "        0.78535444, 0.7800498 , 0.79779579, 0.77496207, 0.8049305 ,\n",
       "        0.89501213, 0.8930455 , 0.7739801 , 0.7729854 , 0.74207211,\n",
       "        0.78991075, 0.79566146, 0.77662844, 0.76978372, 0.76735162,\n",
       "        0.75392567, 0.78446413, 0.80469954, 0.78912728, 0.77667462,\n",
       "        0.72745409, 0.78769021, 0.90074226, 0.94180849, 0.93834758,\n",
       "        0.91596839, 0.88651684, 0.86766494, 0.89792067, 0.92251673,\n",
       "        0.97017268, 0.86870371, 0.9664977 , 0.90869349, 0.89537723,\n",
       "        0.90601365, 0.87712368, 0.88626101, 0.88056957, 0.89936271,\n",
       "        0.87801349, 0.88820917, 0.86324305, 0.8591175 , 0.84884055,\n",
       "        0.8179303 , 0.81807011]),\n",
       " 'use_boxcox': False,\n",
       " 'lamda': None,\n",
       " 'remove_bias': False}"
      ]
     },
     "execution_count": 1206,
     "metadata": {},
     "output_type": "execute_result"
    }
   ],
   "source": [
    "fit1.params"
   ]
  },
  {
   "cell_type": "code",
   "execution_count": 165,
   "id": "7b4d54bc",
   "metadata": {
    "collapsed": true
   },
   "outputs": [
    {
     "data": {
      "text/plain": [
       "<AxesSubplot:>"
      ]
     },
     "execution_count": 165,
     "metadata": {},
     "output_type": "execute_result"
    },
    {
     "data": {
      "image/png": "[encoded data removed]",
      "text/plain": [
       "<Figure size 432x288 with 1 Axes>"
      ]
     },
     "metadata": {},
     "output_type": "display_data"
    }
   ],
   "source": [
    "sns.scatterplot(x=fit1.params['initial_seasons'], y=map_estimate['initial_szns'])"
   ]
  },
  {
   "cell_type": "code",
   "execution_count": 1207,
   "id": "15cad31a",
   "metadata": {},
   "outputs": [
    {
     "name": "stderr",
     "output_type": "stream",
     "text": [
      "/Users/sorenzeliger/.pyenv/versions/3.8.6/lib/python3.8/site-packages/statsmodels/tsa/holtwinters/results.py:169: FutureWarning: slope is deprecated and will be removed after 0.13\n",
      "  warnings.warn(\n"
     ]
    },
    {
     "data": {
      "text/plain": [
       "<matplotlib.legend.Legend at 0x1a34fbd90>"
      ]
     },
     "execution_count": 1207,
     "metadata": {},
     "output_type": "execute_result"
    },
    {
     "data": {
      "image/png": "[encoded data removed]",
      "text/plain": [
       "<Figure size 864x576 with 3 Axes>"
      ]
     },
     "metadata": {},
     "output_type": "display_data"
    }
   ],
   "source": [
    "states1 = pd.DataFrame(np.c_[fit1.level, fit1.slope, fit1.season, fit1.fittedvalues], columns=['level','slope','seasonal', 'fitted_val'], index=zdf.index)\n",
    "\n",
    "fig, [ax1, ax2, ax3] = plt.subplots(3, 1, figsize=(12,8))\n",
    "states1.level.plot(ax=ax1, label='Level')\n",
    "states1.slope.plot(ax=ax2, label='Trend')\n",
    "states1.seasonal.plot(ax=ax3, label='Seasonality')\n",
    "\n",
    "ax1.legend(loc='best')\n",
    "ax2.legend(loc='best')\n",
    "ax3.legend(loc='best')"
   ]
  },
  {
   "cell_type": "code",
   "execution_count": 3,
   "id": "c3d46e84",
   "metadata": {
    "code_folding": []
   },
   "outputs": [],
   "source": [
    "def fit_hw_model(zdf, initial_lvl_upper):\n",
    "    szn_len = 52\n",
    "\n",
    "    with pm.Model() as hw_model:\n",
    "    #     initial_level = pm.Normal(f'initial_level', mu=3000, sigma=400)\n",
    "#         initial_level = pm.Uniform(f'initial_level', lower=0, upper=5000)\n",
    "        initial_level = pm.Uniform(f'initial_level', lower=0, upper=initial_lvl_upper)\n",
    "        smoothing_level = pm.Uniform('smoothing_level', lower=0, upper=1)\n",
    "#         smoothing_level = pm.Normal('smoothing_level', mu=0.5, sigma=0.5)\n",
    "\n",
    "    #     initial_trend = pm.Normal(f'initial_trend', mu=0, sigma=100)\n",
    "#         initial_trend = pm.Uniform(f'initial_trend', lower=-1000, upper=1000)\n",
    "        initial_trend = pm.Uniform(f'initial_trend', lower=-initial_lvl_upper/2, upper=initial_lvl_upper/2)\n",
    "        smoothing_trend = pm.Uniform('smoothing_trend', lower=0, upper=1)\n",
    "    #     smoothing_trend = pm.Normal('smoothing_trend', mu=0.5, sigma=0.5)\n",
    "\n",
    "        if len(zdf) < 115:\n",
    "#         if len(zdf) < szn_len*2.5:\n",
    "#         if len(zdf) < szn_len*2:\n",
    "#             initial_szns = pm.Deterministic('initial_szns', 1.0, dims=(szn_len))\n",
    "            initial_szns = tt.as_tensor_variable([1.0 for i in range(52)])\n",
    "            smoothing_season = 0.0\n",
    "#             smoothing_season = pm.Deterministic('smoothing_season', 1.0)\n",
    "        else:\n",
    "            initial_szns = pm.Normal('initial_szns', mu=1.0, sigma=0.2, shape=(szn_len))\n",
    "        #     initial_szns = pm.Uniform('initial_szns', lower=0.7, upper=1.3, shape=(szn_len))\n",
    "        #     smoothing_season = pm.Uniform('smoothing_season', lower=0, upper=1)\n",
    "        #     smoothing_season = pm.Uniform('smoothing_season', lower=0, upper=1)\n",
    "        #     smoothing_season = pm.Uniform('smoothing_season', lower=0, upper=1-smoothing_level)\n",
    "            smoothing_season = pm.TruncatedNormal('smoothing_season', mu=0.2, sigma=0.5, lower=0, upper=0.8)\n",
    "        #     smoothing_season = pm.Normal('smoothing_season', mu=0.5, sigma=0.5)\n",
    "\n",
    "        ys = tt.as_tensor_variable(zdf['y_obs'])\n",
    "        is_covid_start = tt.as_tensor_variable(zdf['covid_start_m1'])\n",
    "    #     covid_level_change = pm.Normal('covid_level_change', mu=15000, sigma=2000)\n",
    "        covid_level_change = pm.Uniform('covid_level_change', lower=0, upper=5000)\n",
    "#         covid_level_change = pm.Normal('covid_level_change', mu=2000, sigma=1000)\n",
    "    #     covid_level_change2 = pm.Normal('covid_level_change2', mu=20000, sigma=2000)\n",
    "        covid_level_change2 = pm.Uniform('covid_level_change2', lower=0, upper=5000)\n",
    "    #     covid_level_change2 = pm.Normal('covid_level_change2', mu=covid_level_change, sigma=1000)\n",
    "    #     covid_level_change2 = pm.Normal('covid_level_change2', mu=covid_level_change, sigma=1000)\n",
    "\n",
    "        def hw_component_wise(y, covid_start, prior_level, prior_trend, szn_m52):\n",
    "            updated_szn = smoothing_season * y / (prior_level + prior_trend) + (1 - smoothing_season) * szn_m52\n",
    "\n",
    "\n",
    "            next_level = smoothing_level * (y/szn_m52) + (1 - smoothing_level)*(prior_level + prior_trend) + covid_start*covid_level_change\n",
    "            next_trend = smoothing_trend * (next_level - prior_level) + (1 - smoothing_trend)*prior_trend - covid_start*smoothing_trend*covid_level_change2\n",
    "\n",
    "\n",
    "            return next_level, next_trend, updated_szn\n",
    "\n",
    "        outputs, updates = theano.scan(hw_component_wise,\n",
    "               sequences = [\n",
    "                   ys[1:],\n",
    "#                    ys[szn_len:],\n",
    "                   is_covid_start[1:]\n",
    "#                    is_covid_start[szn_len:]\n",
    "        #            post_covid[szn_len:]\n",
    "               ],\n",
    "               outputs_info = [\n",
    "                   dict(initial = initial_level, taps=None),\n",
    "                   dict(initial = initial_trend, taps=None),\n",
    "                   dict(initial = initial_szns, taps=[-szn_len])\n",
    "               ], \n",
    "        #            non_sequences = \n",
    "               )\n",
    "\n",
    "\n",
    "        levels = outputs[0]\n",
    "        trends = outputs[1]\n",
    "        seasons = outputs[2]\n",
    "\n",
    "\n",
    "        levels_f = pm.math.concatenate([initial_level.reshape(1,1), levels[:-1]])\n",
    "        trends_f = pm.math.concatenate([initial_trend.reshape(1,1), trends[:-1]])\n",
    "        seasons_f = pm.math.concatenate([initial_szns, seasons[:-szn_len]])\n",
    "\n",
    "        levels_and_trends = pm.math.stack([levels_f, trends_f])\n",
    "        level_plus_trend = levels_and_trends.sum(axis=0)\n",
    "\n",
    "        level_plus_trend_and_seasons = pm.math.stack([level_plus_trend, seasons_f])\n",
    "        y_hats = level_plus_trend_and_seasons.prod(axis=0)\n",
    "\n",
    "        sig = pm.HalfCauchy('sigma', beta=10)\n",
    "#         y_like = pm.Normal('y_like', mu=y_hats, sigma=sig, observed=zdf.iloc[szn_len-1:-1, :]['y_obs_lag-1'])\n",
    "        y_like = pm.Normal('y_like', mu=y_hats, sigma=sig, observed=zdf.iloc[:-1, :]['y_obs_lag-1'])\n",
    "        \n",
    "    map_estimate = pm.find_MAP(model=hw_model)\n",
    "    \n",
    "    return map_estimate, ys, is_covid_start"
   ]
  },
  {
   "cell_type": "code",
   "execution_count": 4,
   "id": "499fa121",
   "metadata": {},
   "outputs": [],
   "source": [
    "def predict(map_estimate, ys, is_covid_start, horizon):\n",
    "    \n",
    "    if 'initial_szns' in map_estimate:\n",
    "        szn_estimates = tt.as_tensor_variable(map_estimate['initial_szns'])\n",
    "        szn_smoother = map_estimate['smoothing_season']\n",
    "    else:\n",
    "        szn_estimates = tt.as_tensor_variable([1.0 for i in range(52)])\n",
    "        szn_smoother = 0.0\n",
    "\n",
    "    def hw_component_wise_final(y, covid_start, prior_level, prior_trend, szn_m52):\n",
    "            updated_szn = szn_smoother * y / (prior_level + prior_trend) + (1 - szn_smoother) * szn_m52\n",
    "#             updated_szn = map_estimate['smoothing_season'] * y / (prior_level + prior_trend) + (1 - map_estimate['smoothing_season']) * szn_m52\n",
    "\n",
    "\n",
    "            next_level = map_estimate['smoothing_level'] * (y/szn_m52) + (1 - map_estimate['smoothing_level'])*(prior_level + prior_trend) + covid_start*map_estimate['covid_level_change']\n",
    "            next_trend = map_estimate['smoothing_trend'] * (next_level - prior_level) + (1 - map_estimate['smoothing_trend'])*prior_trend - covid_start*map_estimate['smoothing_trend']*map_estimate['covid_level_change2']\n",
    "\n",
    "\n",
    "            return next_level, next_trend, updated_szn\n",
    "\n",
    "    outputs, updates = theano.scan(hw_component_wise_final,\n",
    "               sequences = [\n",
    "#                    ys[szn_len:],\n",
    "                   ys[1:],\n",
    "#                    is_covid_start[szn_len:]\n",
    "                   is_covid_start[1:]\n",
    "        #            post_covid[szn_len:]\n",
    "               ],\n",
    "               outputs_info = [\n",
    "                   dict(initial = map_estimate['initial_level'], taps=None),\n",
    "                   dict(initial = map_estimate['initial_trend'], taps=None),\n",
    "                   dict(initial = szn_estimates, taps=[-szn_len])\n",
    "#                    dict(initial = tt.as_tensor_variable(map_estimate['initial_szns']), taps=[-szn_len])\n",
    "               ], \n",
    "        #            non_sequences = \n",
    "               )\n",
    "    \n",
    "    levels = outputs[0]\n",
    "    trends = outputs[1]\n",
    "    seasons = outputs[2]\n",
    "\n",
    "    levels_f = pm.math.concatenate([map_estimate['initial_level'].reshape(1), levels[:-1]])\n",
    "    trends_f = pm.math.concatenate([map_estimate['initial_trend'].reshape(1), trends[:-1]])\n",
    "#     seasons_f = pm.math.concatenate([map_estimate['initial_szns'], seasons[:-szn_len]])\n",
    "    seasons_f = pm.math.concatenate([szn_estimates, seasons[:-szn_len]])\n",
    "\n",
    "    levels_and_trends = pm.math.stack([levels_f, trends_f])\n",
    "    level_plus_trend = levels_and_trends.sum(axis=0)\n",
    "\n",
    "    level_plus_trend_and_seasons = pm.math.stack([level_plus_trend, seasons_f])\n",
    "    y_hats = level_plus_trend_and_seasons.prod(axis=0)\n",
    "    \n",
    "    corresponding_szn_idx = (horizon - szn_len) - 1\n",
    "#     szn_estimate = seasons_f.get_test_value()[corresponding_szn_idx]\n",
    "    szn_estimate = seasons.get_test_value()[corresponding_szn_idx]\n",
    "\n",
    "#     pred = (levels_f.get_test_value()[-1] + horizon*trends_f.get_test_value()[-1])*szn_estimate\n",
    "    pred = (levels.get_test_value()[-1] + horizon*trends.get_test_value()[-1])*szn_estimate\n",
    "#     return pred, levels, trends, seasons, corresponding_szn_idx, szn_estimate, y_hats\n",
    "    return pred, levels_f, trends_f, seasons_f, seasons, corresponding_szn_idx, szn_estimate, y_hats"
   ]
  },
  {
   "cell_type": "code",
   "execution_count": 5,
   "id": "b90bf93c",
   "metadata": {},
   "outputs": [],
   "source": [
    "F_DATE = date(2021,6,7)\n",
    "# test_f_dates = [F_DATE - timedelta(weeks=i) for i in range(110)]\n",
    "test_f_dates = [F_DATE - timedelta(weeks=i) for i in range(80)]"
   ]
  },
  {
   "cell_type": "code",
   "execution_count": 6,
   "id": "32c8038c",
   "metadata": {},
   "outputs": [],
   "source": [
    "covid_start_idx = date(2020,2,17)\n",
    "\n",
    "df_prep = df.loc[(df.date < covid_start_idx)\n",
    "                | (df.date >= covid_start_idx + timedelta(weeks=52))].sort_values('date')\n",
    "\n",
    "df_prep['y_obs'] = df_prep.total_demand_new\n",
    "# df_prep['y_obs'] = df_prep.smoothed_total_demand\n",
    "df_prep['covid_start_m1'] = df_prep.date.apply(lambda x: 1.0 if x == covid_start_idx - timedelta(weeks=1) else 0)"
   ]
  },
  {
   "cell_type": "code",
   "execution_count": 10,
   "id": "d6f0a482",
   "metadata": {},
   "outputs": [
    {
     "data": {
      "text/plain": [
       "80"
      ]
     },
     "execution_count": 10,
     "metadata": {},
     "output_type": "execute_result"
    }
   ],
   "source": [
    "len(test_f_dates)"
   ]
  },
  {
   "cell_type": "code",
   "execution_count": 9,
   "id": "8779c35b",
   "metadata": {},
   "outputs": [
    {
     "data": {
      "text/plain": [
       "[datetime.date(2021, 6, 7),\n",
       " datetime.date(2021, 5, 17),\n",
       " datetime.date(2021, 4, 26),\n",
       " datetime.date(2021, 4, 5),\n",
       " datetime.date(2020, 1, 13),\n",
       " datetime.date(2019, 12, 23),\n",
       " datetime.date(2019, 12, 2)]"
      ]
     },
     "execution_count": 9,
     "metadata": {},
     "output_type": "execute_result"
    }
   ],
   "source": [
    "test_dates2 = test_f_dates[:10:3] + test_f_dates[-7::3]\n",
    "test_dates2"
   ]
  },
  {
   "cell_type": "code",
   "execution_count": 7,
   "id": "fedd871f",
   "metadata": {},
   "outputs": [
    {
     "data": {
      "text/html": [
       "<div>\n",
       "<style scoped>\n",
       "    .dataframe tbody tr th:only-of-type {\n",
       "        vertical-align: middle;\n",
       "    }\n",
       "\n",
       "    .dataframe tbody tr th {\n",
       "        vertical-align: top;\n",
       "    }\n",
       "\n",
       "    .dataframe thead th {\n",
       "        text-align: right;\n",
       "    }\n",
       "</style>\n",
       "<table border=\"1\" class=\"dataframe\">\n",
       "  <thead>\n",
       "    <tr style=\"text-align: right;\">\n",
       "      <th></th>\n",
       "      <th>zone_id</th>\n",
       "      <th>total_demand_new</th>\n",
       "    </tr>\n",
       "  </thead>\n",
       "  <tbody>\n",
       "    <tr>\n",
       "      <th>403</th>\n",
       "      <td>785</td>\n",
       "      <td>190316.615898</td>\n",
       "    </tr>\n",
       "    <tr>\n",
       "      <th>437</th>\n",
       "      <td>942</td>\n",
       "      <td>166977.068545</td>\n",
       "    </tr>\n",
       "  </tbody>\n",
       "</table>\n",
       "</div>"
      ],
      "text/plain": [
       "     zone_id  total_demand_new\n",
       "403      785     190316.615898\n",
       "437      942     166977.068545"
      ]
     },
     "execution_count": 7,
     "metadata": {},
     "output_type": "execute_result"
    }
   ],
   "source": [
    "recent_dmd_by_zone = df.loc[df.date >= date(2021,3,1)].groupby('zone_id').total_demand_new.sum().reset_index()\n",
    "recent_dmd_by_zone.sort_values('total_demand_new', ascending=False).head(2)"
   ]
  },
  {
   "cell_type": "code",
   "execution_count": 8,
   "id": "a2063c6b",
   "metadata": {},
   "outputs": [],
   "source": [
    "zz = recent_dmd_by_zone.sort_values('total_demand_new', ascending=False).head(20).zone_id.tolist()\n",
    "zz2 = recent_dmd_by_zone.sort_values('total_demand_new', ascending=False).iloc[20:30].zone_id.tolist()\n",
    "zz3 = recent_dmd_by_zone.sort_values('total_demand_new', ascending=False).iloc[30:50].zone_id.tolist()\n",
    "zz4 = recent_dmd_by_zone.sort_values('total_demand_new', ascending=False).iloc[50:70].zone_id.tolist()\n",
    "zz5 = recent_dmd_by_zone.sort_values('total_demand_new', ascending=False).iloc[70:90].zone_id.tolist()\n",
    "\n",
    "zz_top90 = recent_dmd_by_zone.sort_values('total_demand_new', ascending=False).iloc[:90].zone_id.tolist()"
   ]
  },
  {
   "cell_type": "code",
   "execution_count": 1040,
   "id": "40ed0214",
   "metadata": {},
   "outputs": [
    {
     "data": {
      "text/plain": [
       "4523816.334892994"
      ]
     },
     "execution_count": 1040,
     "metadata": {},
     "output_type": "execute_result"
    }
   ],
   "source": [
    "recent_dmd_by_zone.sort_values('total_demand_new', ascending=False).iloc[:90].total_demand_new.sum()"
   ]
  },
  {
   "cell_type": "code",
   "execution_count": 1046,
   "id": "70272e02",
   "metadata": {},
   "outputs": [
    {
     "data": {
      "text/plain": [
       "(475, 2)"
      ]
     },
     "execution_count": 1046,
     "metadata": {},
     "output_type": "execute_result"
    }
   ],
   "source": [
    "df_prep.zone_id.nunique(), HORIZON"
   ]
  },
  {
   "cell_type": "code",
   "execution_count": null,
   "id": "f89827b3",
   "metadata": {},
   "outputs": [],
   "source": [
    "# res4_1p is zz5 + zz"
   ]
  },
  {
   "cell_type": "code",
   "execution_count": 968,
   "id": "2656a001",
   "metadata": {},
   "outputs": [
    {
     "data": {
      "text/plain": [
       "[datetime.date(2021, 6, 7),\n",
       " datetime.date(2021, 5, 17),\n",
       " datetime.date(2021, 4, 26),\n",
       " datetime.date(2021, 4, 5),\n",
       " datetime.date(2020, 1, 13),\n",
       " datetime.date(2019, 12, 23),\n",
       " datetime.date(2019, 12, 2)]"
      ]
     },
     "execution_count": 968,
     "metadata": {},
     "output_type": "execute_result"
    }
   ],
   "source": [
    "test_dates2"
   ]
  },
  {
   "cell_type": "code",
   "execution_count": 12,
   "id": "227962db",
   "metadata": {
    "collapsed": true
   },
   "outputs": [
    {
     "ename": "NameError",
     "evalue": "name 'HORIZON' is not defined",
     "output_type": "error",
     "traceback": [
      "\u001b[0;31m---------------------------------------------------------------------------\u001b[0m",
      "\u001b[0;31mNameError\u001b[0m                                 Traceback (most recent call last)",
      "\u001b[0;32m<ipython-input-12-5406be161f2f>\u001b[0m in \u001b[0;36m<module>\u001b[0;34m\u001b[0m\n\u001b[0;32m----> 1\u001b[0;31m \u001b[0mHORIZON\u001b[0m\u001b[0;34m\u001b[0m\u001b[0;34m\u001b[0m\u001b[0m\n\u001b[0m",
      "\u001b[0;31mNameError\u001b[0m: name 'HORIZON' is not defined"
     ]
    }
   ],
   "source": [
    "HORIZON"
   ]
  },
  {
   "cell_type": "code",
   "execution_count": 1168,
   "id": "57b125f0",
   "metadata": {},
   "outputs": [
    {
     "data": {
      "text/plain": [
       "datetime.date(2021, 6, 28)"
      ]
     },
     "execution_count": 1168,
     "metadata": {},
     "output_type": "execute_result"
    }
   ],
   "source": [
    "df_prep.date.max() - timedelta(weeks=2)"
   ]
  },
  {
   "cell_type": "code",
   "execution_count": 1235,
   "id": "cfbc6f0c",
   "metadata": {},
   "outputs": [
    {
     "data": {
      "text/plain": [
       "datetime.date(2021, 6, 28)"
      ]
     },
     "execution_count": 1235,
     "metadata": {},
     "output_type": "execute_result"
    }
   ],
   "source": [
    "date(2021,7,12) - timedelta(weeks=2)"
   ]
  },
  {
   "cell_type": "code",
   "execution_count": 7,
   "id": "5aed0b4b",
   "metadata": {},
   "outputs": [],
   "source": [
    "exp_zones = [ 785,  942,  972,  861,  973,  943,  975,  981, 1002,  974,  983,\n",
    "       1001,  839,  714,    1,  783,  989,  787,   79,  945,  946,  980,\n",
    "        786,  183,   27,  979,  131,   33,  392,   87,   43,   16,  982,\n",
    "        713,  988,  262,  840,  144,  709,  181,  204,  440,  225,  245,\n",
    "        185,  104,  182,  439,  103,  169,   50,  186,   37,  620,  441,\n",
    "         76,  184,   32,  530,  357,  477,  616,  617,  167,  437,  166,\n",
    "         38, 1029,   18,  428,  307,  853,  438,  541,  266,   90,  272,\n",
    "        348,  475,  178,  273,  495,  692,  521,  228,  161,  190,  168,\n",
    "        694,  707]"
   ]
  },
  {
   "cell_type": "code",
   "execution_count": 17,
   "id": "3d122a89",
   "metadata": {},
   "outputs": [
    {
     "data": {
      "text/plain": [
       "datetime.date(2021, 5, 17)"
      ]
     },
     "execution_count": 17,
     "metadata": {},
     "output_type": "execute_result"
    }
   ],
   "source": [
    "date(2021,6,21) - timedelta(weeks=5)"
   ]
  },
  {
   "cell_type": "code",
   "execution_count": 18,
   "id": "651ce5c1",
   "metadata": {
    "code_folding": [],
    "scrolled": true
   },
   "outputs": [
    {
     "name": "stdout",
     "output_type": "stream",
     "text": [
      "iter 1/7\n",
      "inner iter 1\n"
     ]
    },
    {
     "name": "stderr",
     "output_type": "stream",
     "text": [
      "WARNING (theano.scan.basic): Output initial_level (index 0) has a initial state but taps is explicitly set to None \n",
      "WARNING (theano.scan.basic): Output initial_trend (index 1) has a initial state but taps is explicitly set to None \n"
     ]
    },
    {
     "data": {
      "text/html": [
       "\n",
       "    <div>\n",
       "        <style>\n",
       "            /* Turns off some styling */\n",
       "            progress {\n",
       "                /* gets rid of default border in Firefox and Opera. */\n",
       "                border: none;\n",
       "                /* Needs to be in here for Safari polyfill so background images work as expected. */\n",
       "                background-size: auto;\n",
       "            }\n",
       "            .progress-bar-interrupted, .progress-bar-interrupted::-webkit-progress-bar {\n",
       "                background: #F44336;\n",
       "            }\n",
       "        </style>\n",
       "      <progress value='232' class='' max='232' style='width:300px; height:20px; vertical-align: middle;'></progress>\n",
       "      100.00% [232/232 00:04<00:00 logp = -855.45, ||grad|| = 0.08843]\n",
       "    </div>\n",
       "    "
      ],
      "text/plain": [
       "<IPython.core.display.HTML object>"
      ]
     },
     "metadata": {},
     "output_type": "display_data"
    },
    {
     "name": "stderr",
     "output_type": "stream",
     "text": [
      "WARNING (theano.scan.basic): Output None (index 0) has a initial state but taps is explicitly set to None \n",
      "WARNING (theano.scan.basic): Output None (index 1) has a initial state but taps is explicitly set to None \n"
     ]
    },
    {
     "name": "stdout",
     "output_type": "stream",
     "text": [
      "\n",
      "inner iter 2\n"
     ]
    },
    {
     "name": "stderr",
     "output_type": "stream",
     "text": [
      "WARNING (theano.scan.basic): Output initial_level (index 0) has a initial state but taps is explicitly set to None \n",
      "WARNING (theano.scan.basic): Output initial_trend (index 1) has a initial state but taps is explicitly set to None \n"
     ]
    },
    {
     "data": {
      "text/html": [
       "\n",
       "    <div>\n",
       "        <style>\n",
       "            /* Turns off some styling */\n",
       "            progress {\n",
       "                /* gets rid of default border in Firefox and Opera. */\n",
       "                border: none;\n",
       "                /* Needs to be in here for Safari polyfill so background images work as expected. */\n",
       "                background-size: auto;\n",
       "            }\n",
       "            .progress-bar-interrupted, .progress-bar-interrupted::-webkit-progress-bar {\n",
       "                background: #F44336;\n",
       "            }\n",
       "        </style>\n",
       "      <progress value='40' class='' max='40' style='width:300px; height:20px; vertical-align: middle;'></progress>\n",
       "      100.00% [40/40 00:00<00:00 logp = -764.71, ||grad|| = 0.17067]\n",
       "    </div>\n",
       "    "
      ],
      "text/plain": [
       "<IPython.core.display.HTML object>"
      ]
     },
     "metadata": {},
     "output_type": "display_data"
    },
    {
     "name": "stderr",
     "output_type": "stream",
     "text": [
      "WARNING (theano.scan.basic): Output None (index 0) has a initial state but taps is explicitly set to None \n",
      "WARNING (theano.scan.basic): Output None (index 1) has a initial state but taps is explicitly set to None \n"
     ]
    },
    {
     "name": "stdout",
     "output_type": "stream",
     "text": [
      "\n",
      "inner iter 3\n"
     ]
    },
    {
     "name": "stderr",
     "output_type": "stream",
     "text": [
      "WARNING (theano.scan.basic): Output initial_level (index 0) has a initial state but taps is explicitly set to None \n",
      "WARNING (theano.scan.basic): Output initial_trend (index 1) has a initial state but taps is explicitly set to None \n"
     ]
    },
    {
     "data": {
      "text/html": [
       "\n",
       "    <div>\n",
       "        <style>\n",
       "            /* Turns off some styling */\n",
       "            progress {\n",
       "                /* gets rid of default border in Firefox and Opera. */\n",
       "                border: none;\n",
       "                /* Needs to be in here for Safari polyfill so background images work as expected. */\n",
       "                background-size: auto;\n",
       "            }\n",
       "            .progress-bar-interrupted, .progress-bar-interrupted::-webkit-progress-bar {\n",
       "                background: #F44336;\n",
       "            }\n",
       "        </style>\n",
       "      <progress value='280' class='' max='280' style='width:300px; height:20px; vertical-align: middle;'></progress>\n",
       "      100.00% [280/280 00:04<00:00 logp = -727.1, ||grad|| = 0.11055]\n",
       "    </div>\n",
       "    "
      ],
      "text/plain": [
       "<IPython.core.display.HTML object>"
      ]
     },
     "metadata": {},
     "output_type": "display_data"
    },
    {
     "name": "stderr",
     "output_type": "stream",
     "text": [
      "WARNING (theano.scan.basic): Output None (index 0) has a initial state but taps is explicitly set to None \n",
      "WARNING (theano.scan.basic): Output None (index 1) has a initial state but taps is explicitly set to None \n"
     ]
    },
    {
     "name": "stdout",
     "output_type": "stream",
     "text": [
      "\n",
      "inner iter 4\n"
     ]
    },
    {
     "name": "stderr",
     "output_type": "stream",
     "text": [
      "WARNING (theano.scan.basic): Output initial_level (index 0) has a initial state but taps is explicitly set to None \n",
      "WARNING (theano.scan.basic): Output initial_trend (index 1) has a initial state but taps is explicitly set to None \n"
     ]
    },
    {
     "data": {
      "text/html": [
       "\n",
       "    <div>\n",
       "        <style>\n",
       "            /* Turns off some styling */\n",
       "            progress {\n",
       "                /* gets rid of default border in Firefox and Opera. */\n",
       "                border: none;\n",
       "                /* Needs to be in here for Safari polyfill so background images work as expected. */\n",
       "                background-size: auto;\n",
       "            }\n",
       "            .progress-bar-interrupted, .progress-bar-interrupted::-webkit-progress-bar {\n",
       "                background: #F44336;\n",
       "            }\n",
       "        </style>\n",
       "      <progress value='1970' class='' max='1970' style='width:300px; height:20px; vertical-align: middle;'></progress>\n",
       "      100.00% [1970/1970 00:29<00:00 logp = -646.13, ||grad|| = 0.81754]\n",
       "    </div>\n",
       "    "
      ],
      "text/plain": [
       "<IPython.core.display.HTML object>"
      ]
     },
     "metadata": {},
     "output_type": "display_data"
    },
    {
     "name": "stderr",
     "output_type": "stream",
     "text": [
      "WARNING (theano.scan.basic): Output None (index 0) has a initial state but taps is explicitly set to None \n",
      "WARNING (theano.scan.basic): Output None (index 1) has a initial state but taps is explicitly set to None \n"
     ]
    },
    {
     "name": "stdout",
     "output_type": "stream",
     "text": [
      "\n",
      "inner iter 5\n"
     ]
    },
    {
     "name": "stderr",
     "output_type": "stream",
     "text": [
      "WARNING (theano.scan.basic): Output initial_level (index 0) has a initial state but taps is explicitly set to None \n",
      "WARNING (theano.scan.basic): Output initial_trend (index 1) has a initial state but taps is explicitly set to None \n"
     ]
    },
    {
     "data": {
      "text/html": [
       "\n",
       "    <div>\n",
       "        <style>\n",
       "            /* Turns off some styling */\n",
       "            progress {\n",
       "                /* gets rid of default border in Firefox and Opera. */\n",
       "                border: none;\n",
       "                /* Needs to be in here for Safari polyfill so background images work as expected. */\n",
       "                background-size: auto;\n",
       "            }\n",
       "            .progress-bar-interrupted, .progress-bar-interrupted::-webkit-progress-bar {\n",
       "                background: #F44336;\n",
       "            }\n",
       "        </style>\n",
       "      <progress value='62' class='' max='62' style='width:300px; height:20px; vertical-align: middle;'></progress>\n",
       "      100.00% [62/62 00:00<00:00 logp = -579.98, ||grad|| = 0.01411]\n",
       "    </div>\n",
       "    "
      ],
      "text/plain": [
       "<IPython.core.display.HTML object>"
      ]
     },
     "metadata": {},
     "output_type": "display_data"
    },
    {
     "name": "stderr",
     "output_type": "stream",
     "text": [
      "WARNING (theano.scan.basic): Output None (index 0) has a initial state but taps is explicitly set to None \n",
      "WARNING (theano.scan.basic): Output None (index 1) has a initial state but taps is explicitly set to None \n"
     ]
    },
    {
     "name": "stdout",
     "output_type": "stream",
     "text": [
      "\n",
      "inner iter 6\n"
     ]
    },
    {
     "name": "stderr",
     "output_type": "stream",
     "text": [
      "WARNING (theano.scan.basic): Output initial_level (index 0) has a initial state but taps is explicitly set to None \n",
      "WARNING (theano.scan.basic): Output initial_trend (index 1) has a initial state but taps is explicitly set to None \n"
     ]
    },
    {
     "data": {
      "text/html": [
       "\n",
       "    <div>\n",
       "        <style>\n",
       "            /* Turns off some styling */\n",
       "            progress {\n",
       "                /* gets rid of default border in Firefox and Opera. */\n",
       "                border: none;\n",
       "                /* Needs to be in here for Safari polyfill so background images work as expected. */\n",
       "                background-size: auto;\n",
       "            }\n",
       "            .progress-bar-interrupted, .progress-bar-interrupted::-webkit-progress-bar {\n",
       "                background: #F44336;\n",
       "            }\n",
       "        </style>\n",
       "      <progress value='86' class='' max='86' style='width:300px; height:20px; vertical-align: middle;'></progress>\n",
       "      100.00% [86/86 00:01<00:00 logp = -604.36, ||grad|| = 0.033608]\n",
       "    </div>\n",
       "    "
      ],
      "text/plain": [
       "<IPython.core.display.HTML object>"
      ]
     },
     "metadata": {},
     "output_type": "display_data"
    },
    {
     "name": "stderr",
     "output_type": "stream",
     "text": [
      "WARNING (theano.scan.basic): Output None (index 0) has a initial state but taps is explicitly set to None \n",
      "WARNING (theano.scan.basic): Output None (index 1) has a initial state but taps is explicitly set to None \n"
     ]
    },
    {
     "name": "stdout",
     "output_type": "stream",
     "text": [
      "\n",
      "inner iter 7\n"
     ]
    },
    {
     "name": "stderr",
     "output_type": "stream",
     "text": [
      "WARNING (theano.scan.basic): Output initial_level (index 0) has a initial state but taps is explicitly set to None \n",
      "WARNING (theano.scan.basic): Output initial_trend (index 1) has a initial state but taps is explicitly set to None \n"
     ]
    },
    {
     "data": {
      "text/html": [
       "\n",
       "    <div>\n",
       "        <style>\n",
       "            /* Turns off some styling */\n",
       "            progress {\n",
       "                /* gets rid of default border in Firefox and Opera. */\n",
       "                border: none;\n",
       "                /* Needs to be in here for Safari polyfill so background images work as expected. */\n",
       "                background-size: auto;\n",
       "            }\n",
       "            .progress-bar-interrupted, .progress-bar-interrupted::-webkit-progress-bar {\n",
       "                background: #F44336;\n",
       "            }\n",
       "        </style>\n",
       "      <progress value='45' class='' max='45' style='width:300px; height:20px; vertical-align: middle;'></progress>\n",
       "      100.00% [45/45 00:00<00:00 logp = -704.17, ||grad|| = 0.31534]\n",
       "    </div>\n",
       "    "
      ],
      "text/plain": [
       "<IPython.core.display.HTML object>"
      ]
     },
     "metadata": {},
     "output_type": "display_data"
    },
    {
     "name": "stderr",
     "output_type": "stream",
     "text": [
      "WARNING (theano.scan.basic): Output None (index 0) has a initial state but taps is explicitly set to None \n",
      "WARNING (theano.scan.basic): Output None (index 1) has a initial state but taps is explicitly set to None \n"
     ]
    },
    {
     "name": "stdout",
     "output_type": "stream",
     "text": [
      "\n",
      "inner iter 8\n"
     ]
    },
    {
     "name": "stderr",
     "output_type": "stream",
     "text": [
      "WARNING (theano.scan.basic): Output initial_level (index 0) has a initial state but taps is explicitly set to None \n",
      "WARNING (theano.scan.basic): Output initial_trend (index 1) has a initial state but taps is explicitly set to None \n"
     ]
    },
    {
     "data": {
      "text/html": [
       "\n",
       "    <div>\n",
       "        <style>\n",
       "            /* Turns off some styling */\n",
       "            progress {\n",
       "                /* gets rid of default border in Firefox and Opera. */\n",
       "                border: none;\n",
       "                /* Needs to be in here for Safari polyfill so background images work as expected. */\n",
       "                background-size: auto;\n",
       "            }\n",
       "            .progress-bar-interrupted, .progress-bar-interrupted::-webkit-progress-bar {\n",
       "                background: #F44336;\n",
       "            }\n",
       "        </style>\n",
       "      <progress value='1724' class='' max='1724' style='width:300px; height:20px; vertical-align: middle;'></progress>\n",
       "      100.00% [1724/1724 00:22<00:00 logp = -555.84, ||grad|| = 0.3281]\n",
       "    </div>\n",
       "    "
      ],
      "text/plain": [
       "<IPython.core.display.HTML object>"
      ]
     },
     "metadata": {},
     "output_type": "display_data"
    },
    {
     "name": "stderr",
     "output_type": "stream",
     "text": [
      "WARNING (theano.scan.basic): Output None (index 0) has a initial state but taps is explicitly set to None \n",
      "WARNING (theano.scan.basic): Output None (index 1) has a initial state but taps is explicitly set to None \n"
     ]
    },
    {
     "name": "stdout",
     "output_type": "stream",
     "text": [
      "\n",
      "inner iter 9\n"
     ]
    },
    {
     "name": "stderr",
     "output_type": "stream",
     "text": [
      "WARNING (theano.scan.basic): Output initial_level (index 0) has a initial state but taps is explicitly set to None \n",
      "WARNING (theano.scan.basic): Output initial_trend (index 1) has a initial state but taps is explicitly set to None \n"
     ]
    },
    {
     "data": {
      "text/html": [
       "\n",
       "    <div>\n",
       "        <style>\n",
       "            /* Turns off some styling */\n",
       "            progress {\n",
       "                /* gets rid of default border in Firefox and Opera. */\n",
       "                border: none;\n",
       "                /* Needs to be in here for Safari polyfill so background images work as expected. */\n",
       "                background-size: auto;\n",
       "            }\n",
       "            .progress-bar-interrupted, .progress-bar-interrupted::-webkit-progress-bar {\n",
       "                background: #F44336;\n",
       "            }\n",
       "        </style>\n",
       "      <progress value='233' class='' max='233' style='width:300px; height:20px; vertical-align: middle;'></progress>\n",
       "      100.00% [233/233 00:03<00:00 logp = -797.34, ||grad|| = 0.074216]\n",
       "    </div>\n",
       "    "
      ],
      "text/plain": [
       "<IPython.core.display.HTML object>"
      ]
     },
     "metadata": {},
     "output_type": "display_data"
    },
    {
     "name": "stderr",
     "output_type": "stream",
     "text": [
      "WARNING (theano.scan.basic): Output None (index 0) has a initial state but taps is explicitly set to None \n",
      "WARNING (theano.scan.basic): Output None (index 1) has a initial state but taps is explicitly set to None \n"
     ]
    },
    {
     "name": "stdout",
     "output_type": "stream",
     "text": [
      "\n",
      "inner iter 10\n"
     ]
    },
    {
     "name": "stderr",
     "output_type": "stream",
     "text": [
      "WARNING (theano.scan.basic): Output initial_level (index 0) has a initial state but taps is explicitly set to None \n",
      "WARNING (theano.scan.basic): Output initial_trend (index 1) has a initial state but taps is explicitly set to None \n"
     ]
    },
    {
     "data": {
      "text/html": [
       "\n",
       "    <div>\n",
       "        <style>\n",
       "            /* Turns off some styling */\n",
       "            progress {\n",
       "                /* gets rid of default border in Firefox and Opera. */\n",
       "                border: none;\n",
       "                /* Needs to be in here for Safari polyfill so background images work as expected. */\n",
       "                background-size: auto;\n",
       "            }\n",
       "            .progress-bar-interrupted, .progress-bar-interrupted::-webkit-progress-bar {\n",
       "                background: #F44336;\n",
       "            }\n",
       "        </style>\n",
       "      <progress value='580' class='' max='580' style='width:300px; height:20px; vertical-align: middle;'></progress>\n",
       "      100.00% [580/580 00:09<00:00 logp = -876.09, ||grad|| = 0.21455]\n",
       "    </div>\n",
       "    "
      ],
      "text/plain": [
       "<IPython.core.display.HTML object>"
      ]
     },
     "metadata": {},
     "output_type": "display_data"
    },
    {
     "name": "stderr",
     "output_type": "stream",
     "text": [
      "WARNING (theano.scan.basic): Output None (index 0) has a initial state but taps is explicitly set to None \n",
      "WARNING (theano.scan.basic): Output None (index 1) has a initial state but taps is explicitly set to None \n"
     ]
    },
    {
     "name": "stdout",
     "output_type": "stream",
     "text": [
      "\n",
      "iter 2/7\n",
      "inner iter 1\n"
     ]
    },
    {
     "name": "stderr",
     "output_type": "stream",
     "text": [
      "WARNING (theano.scan.basic): Output initial_level (index 0) has a initial state but taps is explicitly set to None \n",
      "WARNING (theano.scan.basic): Output initial_trend (index 1) has a initial state but taps is explicitly set to None \n"
     ]
    },
    {
     "data": {
      "text/html": [
       "\n",
       "    <div>\n",
       "        <style>\n",
       "            /* Turns off some styling */\n",
       "            progress {\n",
       "                /* gets rid of default border in Firefox and Opera. */\n",
       "                border: none;\n",
       "                /* Needs to be in here for Safari polyfill so background images work as expected. */\n",
       "                background-size: auto;\n",
       "            }\n",
       "            .progress-bar-interrupted, .progress-bar-interrupted::-webkit-progress-bar {\n",
       "                background: #F44336;\n",
       "            }\n",
       "        </style>\n",
       "      <progress value='242' class='' max='242' style='width:300px; height:20px; vertical-align: middle;'></progress>\n",
       "      100.00% [242/242 00:03<00:00 logp = -829.5, ||grad|| = 0.10261]\n",
       "    </div>\n",
       "    "
      ],
      "text/plain": [
       "<IPython.core.display.HTML object>"
      ]
     },
     "metadata": {},
     "output_type": "display_data"
    },
    {
     "name": "stderr",
     "output_type": "stream",
     "text": [
      "WARNING (theano.scan.basic): Output None (index 0) has a initial state but taps is explicitly set to None \n",
      "WARNING (theano.scan.basic): Output None (index 1) has a initial state but taps is explicitly set to None \n"
     ]
    },
    {
     "name": "stdout",
     "output_type": "stream",
     "text": [
      "\n",
      "inner iter 2\n"
     ]
    },
    {
     "name": "stderr",
     "output_type": "stream",
     "text": [
      "WARNING (theano.scan.basic): Output initial_level (index 0) has a initial state but taps is explicitly set to None \n",
      "WARNING (theano.scan.basic): Output initial_trend (index 1) has a initial state but taps is explicitly set to None \n"
     ]
    },
    {
     "data": {
      "text/html": [
       "\n",
       "    <div>\n",
       "        <style>\n",
       "            /* Turns off some styling */\n",
       "            progress {\n",
       "                /* gets rid of default border in Firefox and Opera. */\n",
       "                border: none;\n",
       "                /* Needs to be in here for Safari polyfill so background images work as expected. */\n",
       "                background-size: auto;\n",
       "            }\n",
       "            .progress-bar-interrupted, .progress-bar-interrupted::-webkit-progress-bar {\n",
       "                background: #F44336;\n",
       "            }\n",
       "        </style>\n",
       "      <progress value='42' class='' max='42' style='width:300px; height:20px; vertical-align: middle;'></progress>\n",
       "      100.00% [42/42 00:00<00:00 logp = -730.16, ||grad|| = 0.39088]\n",
       "    </div>\n",
       "    "
      ],
      "text/plain": [
       "<IPython.core.display.HTML object>"
      ]
     },
     "metadata": {},
     "output_type": "display_data"
    },
    {
     "name": "stderr",
     "output_type": "stream",
     "text": [
      "WARNING (theano.scan.basic): Output None (index 0) has a initial state but taps is explicitly set to None \n",
      "WARNING (theano.scan.basic): Output None (index 1) has a initial state but taps is explicitly set to None \n"
     ]
    },
    {
     "name": "stdout",
     "output_type": "stream",
     "text": [
      "\n",
      "inner iter 3\n"
     ]
    },
    {
     "name": "stderr",
     "output_type": "stream",
     "text": [
      "WARNING (theano.scan.basic): Output initial_level (index 0) has a initial state but taps is explicitly set to None \n",
      "WARNING (theano.scan.basic): Output initial_trend (index 1) has a initial state but taps is explicitly set to None \n"
     ]
    },
    {
     "data": {
      "text/html": [
       "\n",
       "    <div>\n",
       "        <style>\n",
       "            /* Turns off some styling */\n",
       "            progress {\n",
       "                /* gets rid of default border in Firefox and Opera. */\n",
       "                border: none;\n",
       "                /* Needs to be in here for Safari polyfill so background images work as expected. */\n",
       "                background-size: auto;\n",
       "            }\n",
       "            .progress-bar-interrupted, .progress-bar-interrupted::-webkit-progress-bar {\n",
       "                background: #F44336;\n",
       "            }\n",
       "        </style>\n",
       "      <progress value='312' class='' max='312' style='width:300px; height:20px; vertical-align: middle;'></progress>\n",
       "      100.00% [312/312 00:04<00:00 logp = -704.5, ||grad|| = 0.059174]\n",
       "    </div>\n",
       "    "
      ],
      "text/plain": [
       "<IPython.core.display.HTML object>"
      ]
     },
     "metadata": {},
     "output_type": "display_data"
    },
    {
     "name": "stderr",
     "output_type": "stream",
     "text": [
      "WARNING (theano.scan.basic): Output None (index 0) has a initial state but taps is explicitly set to None \n",
      "WARNING (theano.scan.basic): Output None (index 1) has a initial state but taps is explicitly set to None \n"
     ]
    },
    {
     "name": "stdout",
     "output_type": "stream",
     "text": [
      "\n",
      "inner iter 4\n"
     ]
    },
    {
     "name": "stderr",
     "output_type": "stream",
     "text": [
      "WARNING (theano.scan.basic): Output initial_level (index 0) has a initial state but taps is explicitly set to None \n",
      "WARNING (theano.scan.basic): Output initial_trend (index 1) has a initial state but taps is explicitly set to None \n"
     ]
    },
    {
     "data": {
      "text/html": [
       "\n",
       "    <div>\n",
       "        <style>\n",
       "            /* Turns off some styling */\n",
       "            progress {\n",
       "                /* gets rid of default border in Firefox and Opera. */\n",
       "                border: none;\n",
       "                /* Needs to be in here for Safari polyfill so background images work as expected. */\n",
       "                background-size: auto;\n",
       "            }\n",
       "            .progress-bar-interrupted, .progress-bar-interrupted::-webkit-progress-bar {\n",
       "                background: #F44336;\n",
       "            }\n",
       "        </style>\n",
       "      <progress value='1693' class='' max='1693' style='width:300px; height:20px; vertical-align: middle;'></progress>\n",
       "      100.00% [1693/1693 00:22<00:00 logp = -617.52, ||grad|| = 0.35772]\n",
       "    </div>\n",
       "    "
      ],
      "text/plain": [
       "<IPython.core.display.HTML object>"
      ]
     },
     "metadata": {},
     "output_type": "display_data"
    },
    {
     "name": "stderr",
     "output_type": "stream",
     "text": [
      "WARNING (theano.scan.basic): Output None (index 0) has a initial state but taps is explicitly set to None \n",
      "WARNING (theano.scan.basic): Output None (index 1) has a initial state but taps is explicitly set to None \n"
     ]
    },
    {
     "name": "stdout",
     "output_type": "stream",
     "text": [
      "\n",
      "inner iter 5\n"
     ]
    },
    {
     "name": "stderr",
     "output_type": "stream",
     "text": [
      "WARNING (theano.scan.basic): Output initial_level (index 0) has a initial state but taps is explicitly set to None \n",
      "WARNING (theano.scan.basic): Output initial_trend (index 1) has a initial state but taps is explicitly set to None \n"
     ]
    },
    {
     "data": {
      "text/html": [
       "\n",
       "    <div>\n",
       "        <style>\n",
       "            /* Turns off some styling */\n",
       "            progress {\n",
       "                /* gets rid of default border in Firefox and Opera. */\n",
       "                border: none;\n",
       "                /* Needs to be in here for Safari polyfill so background images work as expected. */\n",
       "                background-size: auto;\n",
       "            }\n",
       "            .progress-bar-interrupted, .progress-bar-interrupted::-webkit-progress-bar {\n",
       "                background: #F44336;\n",
       "            }\n",
       "        </style>\n",
       "      <progress value='74' class='' max='74' style='width:300px; height:20px; vertical-align: middle;'></progress>\n",
       "      100.00% [74/74 00:00<00:00 logp = -553.75, ||grad|| = 0.3222]\n",
       "    </div>\n",
       "    "
      ],
      "text/plain": [
       "<IPython.core.display.HTML object>"
      ]
     },
     "metadata": {},
     "output_type": "display_data"
    },
    {
     "name": "stderr",
     "output_type": "stream",
     "text": [
      "WARNING (theano.scan.basic): Output None (index 0) has a initial state but taps is explicitly set to None \n",
      "WARNING (theano.scan.basic): Output None (index 1) has a initial state but taps is explicitly set to None \n"
     ]
    },
    {
     "name": "stdout",
     "output_type": "stream",
     "text": [
      "\n",
      "inner iter 6\n"
     ]
    },
    {
     "name": "stderr",
     "output_type": "stream",
     "text": [
      "WARNING (theano.scan.basic): Output initial_level (index 0) has a initial state but taps is explicitly set to None \n",
      "WARNING (theano.scan.basic): Output initial_trend (index 1) has a initial state but taps is explicitly set to None \n"
     ]
    },
    {
     "data": {
      "text/html": [
       "\n",
       "    <div>\n",
       "        <style>\n",
       "            /* Turns off some styling */\n",
       "            progress {\n",
       "                /* gets rid of default border in Firefox and Opera. */\n",
       "                border: none;\n",
       "                /* Needs to be in here for Safari polyfill so background images work as expected. */\n",
       "                background-size: auto;\n",
       "            }\n",
       "            .progress-bar-interrupted, .progress-bar-interrupted::-webkit-progress-bar {\n",
       "                background: #F44336;\n",
       "            }\n",
       "        </style>\n",
       "      <progress value='73' class='' max='73' style='width:300px; height:20px; vertical-align: middle;'></progress>\n",
       "      100.00% [73/73 00:00<00:00 logp = -558.62, ||grad|| = 0.022456]\n",
       "    </div>\n",
       "    "
      ],
      "text/plain": [
       "<IPython.core.display.HTML object>"
      ]
     },
     "metadata": {},
     "output_type": "display_data"
    },
    {
     "name": "stderr",
     "output_type": "stream",
     "text": [
      "WARNING (theano.scan.basic): Output None (index 0) has a initial state but taps is explicitly set to None \n",
      "WARNING (theano.scan.basic): Output None (index 1) has a initial state but taps is explicitly set to None \n"
     ]
    },
    {
     "name": "stdout",
     "output_type": "stream",
     "text": [
      "\n",
      "inner iter 7\n"
     ]
    },
    {
     "name": "stderr",
     "output_type": "stream",
     "text": [
      "WARNING (theano.scan.basic): Output initial_level (index 0) has a initial state but taps is explicitly set to None \n",
      "WARNING (theano.scan.basic): Output initial_trend (index 1) has a initial state but taps is explicitly set to None \n"
     ]
    },
    {
     "data": {
      "text/html": [
       "\n",
       "    <div>\n",
       "        <style>\n",
       "            /* Turns off some styling */\n",
       "            progress {\n",
       "                /* gets rid of default border in Firefox and Opera. */\n",
       "                border: none;\n",
       "                /* Needs to be in here for Safari polyfill so background images work as expected. */\n",
       "                background-size: auto;\n",
       "            }\n",
       "            .progress-bar-interrupted, .progress-bar-interrupted::-webkit-progress-bar {\n",
       "                background: #F44336;\n",
       "            }\n",
       "        </style>\n",
       "      <progress value='41' class='' max='41' style='width:300px; height:20px; vertical-align: middle;'></progress>\n",
       "      100.00% [41/41 00:00<00:00 logp = -674.35, ||grad|| = 0.017102]\n",
       "    </div>\n",
       "    "
      ],
      "text/plain": [
       "<IPython.core.display.HTML object>"
      ]
     },
     "metadata": {},
     "output_type": "display_data"
    },
    {
     "name": "stderr",
     "output_type": "stream",
     "text": [
      "WARNING (theano.scan.basic): Output None (index 0) has a initial state but taps is explicitly set to None \n",
      "WARNING (theano.scan.basic): Output None (index 1) has a initial state but taps is explicitly set to None \n"
     ]
    },
    {
     "name": "stdout",
     "output_type": "stream",
     "text": [
      "\n",
      "inner iter 8\n"
     ]
    },
    {
     "name": "stderr",
     "output_type": "stream",
     "text": [
      "WARNING (theano.scan.basic): Output initial_level (index 0) has a initial state but taps is explicitly set to None \n",
      "WARNING (theano.scan.basic): Output initial_trend (index 1) has a initial state but taps is explicitly set to None \n"
     ]
    },
    {
     "data": {
      "text/html": [
       "\n",
       "    <div>\n",
       "        <style>\n",
       "            /* Turns off some styling */\n",
       "            progress {\n",
       "                /* gets rid of default border in Firefox and Opera. */\n",
       "                border: none;\n",
       "                /* Needs to be in here for Safari polyfill so background images work as expected. */\n",
       "                background-size: auto;\n",
       "            }\n",
       "            .progress-bar-interrupted, .progress-bar-interrupted::-webkit-progress-bar {\n",
       "                background: #F44336;\n",
       "            }\n",
       "        </style>\n",
       "      <progress value='57' class='' max='57' style='width:300px; height:20px; vertical-align: middle;'></progress>\n",
       "      100.00% [57/57 00:00<00:00 logp = -711.38, ||grad|| = 0.04305]\n",
       "    </div>\n",
       "    "
      ],
      "text/plain": [
       "<IPython.core.display.HTML object>"
      ]
     },
     "metadata": {},
     "output_type": "display_data"
    },
    {
     "name": "stderr",
     "output_type": "stream",
     "text": [
      "WARNING (theano.scan.basic): Output None (index 0) has a initial state but taps is explicitly set to None \n",
      "WARNING (theano.scan.basic): Output None (index 1) has a initial state but taps is explicitly set to None \n"
     ]
    },
    {
     "name": "stdout",
     "output_type": "stream",
     "text": [
      "\n",
      "inner iter 9\n"
     ]
    },
    {
     "name": "stderr",
     "output_type": "stream",
     "text": [
      "WARNING (theano.scan.basic): Output initial_level (index 0) has a initial state but taps is explicitly set to None \n",
      "WARNING (theano.scan.basic): Output initial_trend (index 1) has a initial state but taps is explicitly set to None \n"
     ]
    },
    {
     "data": {
      "text/html": [
       "\n",
       "    <div>\n",
       "        <style>\n",
       "            /* Turns off some styling */\n",
       "            progress {\n",
       "                /* gets rid of default border in Firefox and Opera. */\n",
       "                border: none;\n",
       "                /* Needs to be in here for Safari polyfill so background images work as expected. */\n",
       "                background-size: auto;\n",
       "            }\n",
       "            .progress-bar-interrupted, .progress-bar-interrupted::-webkit-progress-bar {\n",
       "                background: #F44336;\n",
       "            }\n",
       "        </style>\n",
       "      <progress value='574' class='' max='574' style='width:300px; height:20px; vertical-align: middle;'></progress>\n",
       "      100.00% [574/574 00:08<00:00 logp = -766.7, ||grad|| = 0.1307]\n",
       "    </div>\n",
       "    "
      ],
      "text/plain": [
       "<IPython.core.display.HTML object>"
      ]
     },
     "metadata": {},
     "output_type": "display_data"
    },
    {
     "name": "stderr",
     "output_type": "stream",
     "text": [
      "WARNING (theano.scan.basic): Output None (index 0) has a initial state but taps is explicitly set to None \n",
      "WARNING (theano.scan.basic): Output None (index 1) has a initial state but taps is explicitly set to None \n"
     ]
    },
    {
     "name": "stdout",
     "output_type": "stream",
     "text": [
      "\n",
      "inner iter 10\n"
     ]
    },
    {
     "name": "stderr",
     "output_type": "stream",
     "text": [
      "WARNING (theano.scan.basic): Output initial_level (index 0) has a initial state but taps is explicitly set to None \n",
      "WARNING (theano.scan.basic): Output initial_trend (index 1) has a initial state but taps is explicitly set to None \n"
     ]
    },
    {
     "data": {
      "text/html": [
       "\n",
       "    <div>\n",
       "        <style>\n",
       "            /* Turns off some styling */\n",
       "            progress {\n",
       "                /* gets rid of default border in Firefox and Opera. */\n",
       "                border: none;\n",
       "                /* Needs to be in here for Safari polyfill so background images work as expected. */\n",
       "                background-size: auto;\n",
       "            }\n",
       "            .progress-bar-interrupted, .progress-bar-interrupted::-webkit-progress-bar {\n",
       "                background: #F44336;\n",
       "            }\n",
       "        </style>\n",
       "      <progress value='561' class='' max='561' style='width:300px; height:20px; vertical-align: middle;'></progress>\n",
       "      100.00% [561/561 00:09<00:00 logp = -845.48, ||grad|| = 0.27582]\n",
       "    </div>\n",
       "    "
      ],
      "text/plain": [
       "<IPython.core.display.HTML object>"
      ]
     },
     "metadata": {},
     "output_type": "display_data"
    },
    {
     "name": "stderr",
     "output_type": "stream",
     "text": [
      "WARNING (theano.scan.basic): Output None (index 0) has a initial state but taps is explicitly set to None \n",
      "WARNING (theano.scan.basic): Output None (index 1) has a initial state but taps is explicitly set to None \n"
     ]
    },
    {
     "name": "stdout",
     "output_type": "stream",
     "text": [
      "\n",
      "iter 3/7\n",
      "inner iter 1\n"
     ]
    },
    {
     "name": "stderr",
     "output_type": "stream",
     "text": [
      "WARNING (theano.scan.basic): Output initial_level (index 0) has a initial state but taps is explicitly set to None \n",
      "WARNING (theano.scan.basic): Output initial_trend (index 1) has a initial state but taps is explicitly set to None \n"
     ]
    },
    {
     "data": {
      "text/html": [
       "\n",
       "    <div>\n",
       "        <style>\n",
       "            /* Turns off some styling */\n",
       "            progress {\n",
       "                /* gets rid of default border in Firefox and Opera. */\n",
       "                border: none;\n",
       "                /* Needs to be in here for Safari polyfill so background images work as expected. */\n",
       "                background-size: auto;\n",
       "            }\n",
       "            .progress-bar-interrupted, .progress-bar-interrupted::-webkit-progress-bar {\n",
       "                background: #F44336;\n",
       "            }\n",
       "        </style>\n",
       "      <progress value='278' class='' max='278' style='width:300px; height:20px; vertical-align: middle;'></progress>\n",
       "      100.00% [278/278 00:04<00:00 logp = -806.85, ||grad|| = 0.51306]\n",
       "    </div>\n",
       "    "
      ],
      "text/plain": [
       "<IPython.core.display.HTML object>"
      ]
     },
     "metadata": {},
     "output_type": "display_data"
    },
    {
     "name": "stderr",
     "output_type": "stream",
     "text": [
      "WARNING (theano.scan.basic): Output None (index 0) has a initial state but taps is explicitly set to None \n",
      "WARNING (theano.scan.basic): Output None (index 1) has a initial state but taps is explicitly set to None \n"
     ]
    },
    {
     "name": "stdout",
     "output_type": "stream",
     "text": [
      "\n",
      "inner iter 2\n"
     ]
    },
    {
     "name": "stderr",
     "output_type": "stream",
     "text": [
      "WARNING (theano.scan.basic): Output initial_level (index 0) has a initial state but taps is explicitly set to None \n",
      "WARNING (theano.scan.basic): Output initial_trend (index 1) has a initial state but taps is explicitly set to None \n"
     ]
    },
    {
     "data": {
      "text/html": [
       "\n",
       "    <div>\n",
       "        <style>\n",
       "            /* Turns off some styling */\n",
       "            progress {\n",
       "                /* gets rid of default border in Firefox and Opera. */\n",
       "                border: none;\n",
       "                /* Needs to be in here for Safari polyfill so background images work as expected. */\n",
       "                background-size: auto;\n",
       "            }\n",
       "            .progress-bar-interrupted, .progress-bar-interrupted::-webkit-progress-bar {\n",
       "                background: #F44336;\n",
       "            }\n",
       "        </style>\n",
       "      <progress value='63' class='' max='63' style='width:300px; height:20px; vertical-align: middle;'></progress>\n",
       "      100.00% [63/63 00:00<00:00 logp = -707.65, ||grad|| = 0.0029077]\n",
       "    </div>\n",
       "    "
      ],
      "text/plain": [
       "<IPython.core.display.HTML object>"
      ]
     },
     "metadata": {},
     "output_type": "display_data"
    },
    {
     "name": "stderr",
     "output_type": "stream",
     "text": [
      "WARNING (theano.scan.basic): Output None (index 0) has a initial state but taps is explicitly set to None \n",
      "WARNING (theano.scan.basic): Output None (index 1) has a initial state but taps is explicitly set to None \n"
     ]
    },
    {
     "name": "stdout",
     "output_type": "stream",
     "text": [
      "\n",
      "inner iter 3\n"
     ]
    },
    {
     "name": "stderr",
     "output_type": "stream",
     "text": [
      "WARNING (theano.scan.basic): Output initial_level (index 0) has a initial state but taps is explicitly set to None \n",
      "WARNING (theano.scan.basic): Output initial_trend (index 1) has a initial state but taps is explicitly set to None \n"
     ]
    },
    {
     "data": {
      "text/html": [
       "\n",
       "    <div>\n",
       "        <style>\n",
       "            /* Turns off some styling */\n",
       "            progress {\n",
       "                /* gets rid of default border in Firefox and Opera. */\n",
       "                border: none;\n",
       "                /* Needs to be in here for Safari polyfill so background images work as expected. */\n",
       "                background-size: auto;\n",
       "            }\n",
       "            .progress-bar-interrupted, .progress-bar-interrupted::-webkit-progress-bar {\n",
       "                background: #F44336;\n",
       "            }\n",
       "        </style>\n",
       "      <progress value='287' class='' max='287' style='width:300px; height:20px; vertical-align: middle;'></progress>\n",
       "      100.00% [287/287 00:04<00:00 logp = -688.76, ||grad|| = 0.32299]\n",
       "    </div>\n",
       "    "
      ],
      "text/plain": [
       "<IPython.core.display.HTML object>"
      ]
     },
     "metadata": {},
     "output_type": "display_data"
    },
    {
     "name": "stderr",
     "output_type": "stream",
     "text": [
      "WARNING (theano.scan.basic): Output None (index 0) has a initial state but taps is explicitly set to None \n",
      "WARNING (theano.scan.basic): Output None (index 1) has a initial state but taps is explicitly set to None \n"
     ]
    },
    {
     "name": "stdout",
     "output_type": "stream",
     "text": [
      "\n",
      "inner iter 4\n"
     ]
    },
    {
     "name": "stderr",
     "output_type": "stream",
     "text": [
      "WARNING (theano.scan.basic): Output initial_level (index 0) has a initial state but taps is explicitly set to None \n",
      "WARNING (theano.scan.basic): Output initial_trend (index 1) has a initial state but taps is explicitly set to None \n"
     ]
    },
    {
     "data": {
      "text/html": [
       "\n",
       "    <div>\n",
       "        <style>\n",
       "            /* Turns off some styling */\n",
       "            progress {\n",
       "                /* gets rid of default border in Firefox and Opera. */\n",
       "                border: none;\n",
       "                /* Needs to be in here for Safari polyfill so background images work as expected. */\n",
       "                background-size: auto;\n",
       "            }\n",
       "            .progress-bar-interrupted, .progress-bar-interrupted::-webkit-progress-bar {\n",
       "                background: #F44336;\n",
       "            }\n",
       "        </style>\n",
       "      <progress value='1154' class='' max='1154' style='width:300px; height:20px; vertical-align: middle;'></progress>\n",
       "      100.00% [1154/1154 00:20<00:00 logp = -595.8, ||grad|| = 0.2474]\n",
       "    </div>\n",
       "    "
      ],
      "text/plain": [
       "<IPython.core.display.HTML object>"
      ]
     },
     "metadata": {},
     "output_type": "display_data"
    },
    {
     "name": "stdout",
     "output_type": "stream",
     "text": [
      "\n"
     ]
    },
    {
     "name": "stderr",
     "output_type": "stream",
     "text": [
      "WARNING (theano.scan.basic): Output None (index 0) has a initial state but taps is explicitly set to None \n",
      "WARNING (theano.scan.basic): Output None (index 1) has a initial state but taps is explicitly set to None \n"
     ]
    },
    {
     "name": "stdout",
     "output_type": "stream",
     "text": [
      "inner iter 5\n"
     ]
    },
    {
     "name": "stderr",
     "output_type": "stream",
     "text": [
      "WARNING (theano.scan.basic): Output initial_level (index 0) has a initial state but taps is explicitly set to None \n",
      "WARNING (theano.scan.basic): Output initial_trend (index 1) has a initial state but taps is explicitly set to None \n"
     ]
    },
    {
     "data": {
      "text/html": [
       "\n",
       "    <div>\n",
       "        <style>\n",
       "            /* Turns off some styling */\n",
       "            progress {\n",
       "                /* gets rid of default border in Firefox and Opera. */\n",
       "                border: none;\n",
       "                /* Needs to be in here for Safari polyfill so background images work as expected. */\n",
       "                background-size: auto;\n",
       "            }\n",
       "            .progress-bar-interrupted, .progress-bar-interrupted::-webkit-progress-bar {\n",
       "                background: #F44336;\n",
       "            }\n",
       "        </style>\n",
       "      <progress value='48' class='' max='48' style='width:300px; height:20px; vertical-align: middle;'></progress>\n",
       "      100.00% [48/48 00:00<00:00 logp = -532.4, ||grad|| = 5.7866]\n",
       "    </div>\n",
       "    "
      ],
      "text/plain": [
       "<IPython.core.display.HTML object>"
      ]
     },
     "metadata": {},
     "output_type": "display_data"
    },
    {
     "name": "stderr",
     "output_type": "stream",
     "text": [
      "WARNING (theano.scan.basic): Output None (index 0) has a initial state but taps is explicitly set to None \n",
      "WARNING (theano.scan.basic): Output None (index 1) has a initial state but taps is explicitly set to None \n"
     ]
    },
    {
     "name": "stdout",
     "output_type": "stream",
     "text": [
      "\n",
      "inner iter 6\n"
     ]
    },
    {
     "name": "stderr",
     "output_type": "stream",
     "text": [
      "WARNING (theano.scan.basic): Output initial_level (index 0) has a initial state but taps is explicitly set to None \n",
      "WARNING (theano.scan.basic): Output initial_trend (index 1) has a initial state but taps is explicitly set to None \n"
     ]
    },
    {
     "data": {
      "text/html": [
       "\n",
       "    <div>\n",
       "        <style>\n",
       "            /* Turns off some styling */\n",
       "            progress {\n",
       "                /* gets rid of default border in Firefox and Opera. */\n",
       "                border: none;\n",
       "                /* Needs to be in here for Safari polyfill so background images work as expected. */\n",
       "                background-size: auto;\n",
       "            }\n",
       "            .progress-bar-interrupted, .progress-bar-interrupted::-webkit-progress-bar {\n",
       "                background: #F44336;\n",
       "            }\n",
       "        </style>\n",
       "      <progress value='71' class='' max='71' style='width:300px; height:20px; vertical-align: middle;'></progress>\n",
       "      100.00% [71/71 00:00<00:00 logp = -542.37, ||grad|| = 0.01136]\n",
       "    </div>\n",
       "    "
      ],
      "text/plain": [
       "<IPython.core.display.HTML object>"
      ]
     },
     "metadata": {},
     "output_type": "display_data"
    },
    {
     "name": "stderr",
     "output_type": "stream",
     "text": [
      "WARNING (theano.scan.basic): Output None (index 0) has a initial state but taps is explicitly set to None \n",
      "WARNING (theano.scan.basic): Output None (index 1) has a initial state but taps is explicitly set to None \n"
     ]
    },
    {
     "name": "stdout",
     "output_type": "stream",
     "text": [
      "\n",
      "inner iter 7\n"
     ]
    },
    {
     "name": "stderr",
     "output_type": "stream",
     "text": [
      "WARNING (theano.scan.basic): Output initial_level (index 0) has a initial state but taps is explicitly set to None \n",
      "WARNING (theano.scan.basic): Output initial_trend (index 1) has a initial state but taps is explicitly set to None \n"
     ]
    },
    {
     "data": {
      "text/html": [
       "\n",
       "    <div>\n",
       "        <style>\n",
       "            /* Turns off some styling */\n",
       "            progress {\n",
       "                /* gets rid of default border in Firefox and Opera. */\n",
       "                border: none;\n",
       "                /* Needs to be in here for Safari polyfill so background images work as expected. */\n",
       "                background-size: auto;\n",
       "            }\n",
       "            .progress-bar-interrupted, .progress-bar-interrupted::-webkit-progress-bar {\n",
       "                background: #F44336;\n",
       "            }\n",
       "        </style>\n",
       "      <progress value='51' class='' max='51' style='width:300px; height:20px; vertical-align: middle;'></progress>\n",
       "      100.00% [51/51 00:00<00:00 logp = -654.96, ||grad|| = 0.0027588]\n",
       "    </div>\n",
       "    "
      ],
      "text/plain": [
       "<IPython.core.display.HTML object>"
      ]
     },
     "metadata": {},
     "output_type": "display_data"
    },
    {
     "name": "stderr",
     "output_type": "stream",
     "text": [
      "WARNING (theano.scan.basic): Output None (index 0) has a initial state but taps is explicitly set to None \n",
      "WARNING (theano.scan.basic): Output None (index 1) has a initial state but taps is explicitly set to None \n"
     ]
    },
    {
     "name": "stdout",
     "output_type": "stream",
     "text": [
      "\n",
      "inner iter 8\n"
     ]
    },
    {
     "name": "stderr",
     "output_type": "stream",
     "text": [
      "WARNING (theano.scan.basic): Output initial_level (index 0) has a initial state but taps is explicitly set to None \n",
      "WARNING (theano.scan.basic): Output initial_trend (index 1) has a initial state but taps is explicitly set to None \n"
     ]
    },
    {
     "data": {
      "text/html": [
       "\n",
       "    <div>\n",
       "        <style>\n",
       "            /* Turns off some styling */\n",
       "            progress {\n",
       "                /* gets rid of default border in Firefox and Opera. */\n",
       "                border: none;\n",
       "                /* Needs to be in here for Safari polyfill so background images work as expected. */\n",
       "                background-size: auto;\n",
       "            }\n",
       "            .progress-bar-interrupted, .progress-bar-interrupted::-webkit-progress-bar {\n",
       "                background: #F44336;\n",
       "            }\n",
       "        </style>\n",
       "      <progress value='61' class='' max='61' style='width:300px; height:20px; vertical-align: middle;'></progress>\n",
       "      100.00% [61/61 00:00<00:00 logp = -694.21, ||grad|| = 0.0025675]\n",
       "    </div>\n",
       "    "
      ],
      "text/plain": [
       "<IPython.core.display.HTML object>"
      ]
     },
     "metadata": {},
     "output_type": "display_data"
    },
    {
     "name": "stderr",
     "output_type": "stream",
     "text": [
      "WARNING (theano.scan.basic): Output None (index 0) has a initial state but taps is explicitly set to None \n",
      "WARNING (theano.scan.basic): Output None (index 1) has a initial state but taps is explicitly set to None \n"
     ]
    },
    {
     "name": "stdout",
     "output_type": "stream",
     "text": [
      "\n",
      "inner iter 9\n"
     ]
    },
    {
     "name": "stderr",
     "output_type": "stream",
     "text": [
      "WARNING (theano.scan.basic): Output initial_level (index 0) has a initial state but taps is explicitly set to None \n",
      "WARNING (theano.scan.basic): Output initial_trend (index 1) has a initial state but taps is explicitly set to None \n"
     ]
    },
    {
     "data": {
      "text/html": [
       "\n",
       "    <div>\n",
       "        <style>\n",
       "            /* Turns off some styling */\n",
       "            progress {\n",
       "                /* gets rid of default border in Firefox and Opera. */\n",
       "                border: none;\n",
       "                /* Needs to be in here for Safari polyfill so background images work as expected. */\n",
       "                background-size: auto;\n",
       "            }\n",
       "            .progress-bar-interrupted, .progress-bar-interrupted::-webkit-progress-bar {\n",
       "                background: #F44336;\n",
       "            }\n",
       "        </style>\n",
       "      <progress value='255' class='' max='255' style='width:300px; height:20px; vertical-align: middle;'></progress>\n",
       "      100.00% [255/255 00:04<00:00 logp = -746.02, ||grad|| = 0.10884]\n",
       "    </div>\n",
       "    "
      ],
      "text/plain": [
       "<IPython.core.display.HTML object>"
      ]
     },
     "metadata": {},
     "output_type": "display_data"
    },
    {
     "name": "stderr",
     "output_type": "stream",
     "text": [
      "WARNING (theano.scan.basic): Output None (index 0) has a initial state but taps is explicitly set to None \n",
      "WARNING (theano.scan.basic): Output None (index 1) has a initial state but taps is explicitly set to None \n"
     ]
    },
    {
     "name": "stdout",
     "output_type": "stream",
     "text": [
      "\n",
      "inner iter 10\n"
     ]
    },
    {
     "name": "stderr",
     "output_type": "stream",
     "text": [
      "WARNING (theano.scan.basic): Output initial_level (index 0) has a initial state but taps is explicitly set to None \n",
      "WARNING (theano.scan.basic): Output initial_trend (index 1) has a initial state but taps is explicitly set to None \n"
     ]
    },
    {
     "data": {
      "text/html": [
       "\n",
       "    <div>\n",
       "        <style>\n",
       "            /* Turns off some styling */\n",
       "            progress {\n",
       "                /* gets rid of default border in Firefox and Opera. */\n",
       "                border: none;\n",
       "                /* Needs to be in here for Safari polyfill so background images work as expected. */\n",
       "                background-size: auto;\n",
       "            }\n",
       "            .progress-bar-interrupted, .progress-bar-interrupted::-webkit-progress-bar {\n",
       "                background: #F44336;\n",
       "            }\n",
       "        </style>\n",
       "      <progress value='591' class='' max='591' style='width:300px; height:20px; vertical-align: middle;'></progress>\n",
       "      100.00% [591/591 00:09<00:00 logp = -826.3, ||grad|| = 0.066914]\n",
       "    </div>\n",
       "    "
      ],
      "text/plain": [
       "<IPython.core.display.HTML object>"
      ]
     },
     "metadata": {},
     "output_type": "display_data"
    },
    {
     "name": "stderr",
     "output_type": "stream",
     "text": [
      "WARNING (theano.scan.basic): Output None (index 0) has a initial state but taps is explicitly set to None \n",
      "WARNING (theano.scan.basic): Output None (index 1) has a initial state but taps is explicitly set to None \n"
     ]
    },
    {
     "name": "stdout",
     "output_type": "stream",
     "text": [
      "\n",
      "iter 4/7\n",
      "inner iter 1\n"
     ]
    },
    {
     "name": "stderr",
     "output_type": "stream",
     "text": [
      "WARNING (theano.scan.basic): Output initial_level (index 0) has a initial state but taps is explicitly set to None \n",
      "WARNING (theano.scan.basic): Output initial_trend (index 1) has a initial state but taps is explicitly set to None \n"
     ]
    },
    {
     "data": {
      "text/html": [
       "\n",
       "    <div>\n",
       "        <style>\n",
       "            /* Turns off some styling */\n",
       "            progress {\n",
       "                /* gets rid of default border in Firefox and Opera. */\n",
       "                border: none;\n",
       "                /* Needs to be in here for Safari polyfill so background images work as expected. */\n",
       "                background-size: auto;\n",
       "            }\n",
       "            .progress-bar-interrupted, .progress-bar-interrupted::-webkit-progress-bar {\n",
       "                background: #F44336;\n",
       "            }\n",
       "        </style>\n",
       "      <progress value='303' class='' max='303' style='width:300px; height:20px; vertical-align: middle;'></progress>\n",
       "      100.00% [303/303 00:04<00:00 logp = -791.41, ||grad|| = 0.22297]\n",
       "    </div>\n",
       "    "
      ],
      "text/plain": [
       "<IPython.core.display.HTML object>"
      ]
     },
     "metadata": {},
     "output_type": "display_data"
    },
    {
     "name": "stderr",
     "output_type": "stream",
     "text": [
      "WARNING (theano.scan.basic): Output None (index 0) has a initial state but taps is explicitly set to None \n",
      "WARNING (theano.scan.basic): Output None (index 1) has a initial state but taps is explicitly set to None \n"
     ]
    },
    {
     "name": "stdout",
     "output_type": "stream",
     "text": [
      "\n",
      "inner iter 2\n"
     ]
    },
    {
     "name": "stderr",
     "output_type": "stream",
     "text": [
      "WARNING (theano.scan.basic): Output initial_level (index 0) has a initial state but taps is explicitly set to None \n",
      "WARNING (theano.scan.basic): Output initial_trend (index 1) has a initial state but taps is explicitly set to None \n"
     ]
    },
    {
     "data": {
      "text/html": [
       "\n",
       "    <div>\n",
       "        <style>\n",
       "            /* Turns off some styling */\n",
       "            progress {\n",
       "                /* gets rid of default border in Firefox and Opera. */\n",
       "                border: none;\n",
       "                /* Needs to be in here for Safari polyfill so background images work as expected. */\n",
       "                background-size: auto;\n",
       "            }\n",
       "            .progress-bar-interrupted, .progress-bar-interrupted::-webkit-progress-bar {\n",
       "                background: #F44336;\n",
       "            }\n",
       "        </style>\n",
       "      <progress value='41' class='' max='41' style='width:300px; height:20px; vertical-align: middle;'></progress>\n",
       "      100.00% [41/41 00:00<00:00 logp = -686.84, ||grad|| = 0.003956]\n",
       "    </div>\n",
       "    "
      ],
      "text/plain": [
       "<IPython.core.display.HTML object>"
      ]
     },
     "metadata": {},
     "output_type": "display_data"
    },
    {
     "name": "stderr",
     "output_type": "stream",
     "text": [
      "WARNING (theano.scan.basic): Output None (index 0) has a initial state but taps is explicitly set to None \n",
      "WARNING (theano.scan.basic): Output None (index 1) has a initial state but taps is explicitly set to None \n"
     ]
    },
    {
     "name": "stdout",
     "output_type": "stream",
     "text": [
      "\n",
      "inner iter 3\n"
     ]
    },
    {
     "name": "stderr",
     "output_type": "stream",
     "text": [
      "WARNING (theano.scan.basic): Output initial_level (index 0) has a initial state but taps is explicitly set to None \n",
      "WARNING (theano.scan.basic): Output initial_trend (index 1) has a initial state but taps is explicitly set to None \n"
     ]
    },
    {
     "data": {
      "text/html": [
       "\n",
       "    <div>\n",
       "        <style>\n",
       "            /* Turns off some styling */\n",
       "            progress {\n",
       "                /* gets rid of default border in Firefox and Opera. */\n",
       "                border: none;\n",
       "                /* Needs to be in here for Safari polyfill so background images work as expected. */\n",
       "                background-size: auto;\n",
       "            }\n",
       "            .progress-bar-interrupted, .progress-bar-interrupted::-webkit-progress-bar {\n",
       "                background: #F44336;\n",
       "            }\n",
       "        </style>\n",
       "      <progress value='507' class='' max='507' style='width:300px; height:20px; vertical-align: middle;'></progress>\n",
       "      100.00% [507/507 00:07<00:00 logp = -671.69, ||grad|| = 0.27053]\n",
       "    </div>\n",
       "    "
      ],
      "text/plain": [
       "<IPython.core.display.HTML object>"
      ]
     },
     "metadata": {},
     "output_type": "display_data"
    },
    {
     "name": "stderr",
     "output_type": "stream",
     "text": [
      "WARNING (theano.scan.basic): Output None (index 0) has a initial state but taps is explicitly set to None \n",
      "WARNING (theano.scan.basic): Output None (index 1) has a initial state but taps is explicitly set to None \n"
     ]
    },
    {
     "name": "stdout",
     "output_type": "stream",
     "text": [
      "\n",
      "inner iter 4\n"
     ]
    },
    {
     "name": "stderr",
     "output_type": "stream",
     "text": [
      "WARNING (theano.scan.basic): Output initial_level (index 0) has a initial state but taps is explicitly set to None \n",
      "WARNING (theano.scan.basic): Output initial_trend (index 1) has a initial state but taps is explicitly set to None \n"
     ]
    },
    {
     "data": {
      "text/html": [
       "\n",
       "    <div>\n",
       "        <style>\n",
       "            /* Turns off some styling */\n",
       "            progress {\n",
       "                /* gets rid of default border in Firefox and Opera. */\n",
       "                border: none;\n",
       "                /* Needs to be in here for Safari polyfill so background images work as expected. */\n",
       "                background-size: auto;\n",
       "            }\n",
       "            .progress-bar-interrupted, .progress-bar-interrupted::-webkit-progress-bar {\n",
       "                background: #F44336;\n",
       "            }\n",
       "        </style>\n",
       "      <progress value='47' class='' max='47' style='width:300px; height:20px; vertical-align: middle;'></progress>\n",
       "      100.00% [47/47 00:00<00:00 logp = -792.54, ||grad|| = 51.704]\n",
       "    </div>\n",
       "    "
      ],
      "text/plain": [
       "<IPython.core.display.HTML object>"
      ]
     },
     "metadata": {},
     "output_type": "display_data"
    },
    {
     "name": "stderr",
     "output_type": "stream",
     "text": [
      "WARNING (theano.scan.basic): Output None (index 0) has a initial state but taps is explicitly set to None \n",
      "WARNING (theano.scan.basic): Output None (index 1) has a initial state but taps is explicitly set to None \n"
     ]
    },
    {
     "name": "stdout",
     "output_type": "stream",
     "text": [
      "\n",
      "inner iter 5\n"
     ]
    },
    {
     "name": "stderr",
     "output_type": "stream",
     "text": [
      "WARNING (theano.scan.basic): Output initial_level (index 0) has a initial state but taps is explicitly set to None \n",
      "WARNING (theano.scan.basic): Output initial_trend (index 1) has a initial state but taps is explicitly set to None \n"
     ]
    },
    {
     "data": {
      "text/html": [
       "\n",
       "    <div>\n",
       "        <style>\n",
       "            /* Turns off some styling */\n",
       "            progress {\n",
       "                /* gets rid of default border in Firefox and Opera. */\n",
       "                border: none;\n",
       "                /* Needs to be in here for Safari polyfill so background images work as expected. */\n",
       "                background-size: auto;\n",
       "            }\n",
       "            .progress-bar-interrupted, .progress-bar-interrupted::-webkit-progress-bar {\n",
       "                background: #F44336;\n",
       "            }\n",
       "        </style>\n",
       "      <progress value='112' class='' max='112' style='width:300px; height:20px; vertical-align: middle;'></progress>\n",
       "      100.00% [112/112 00:01<00:00 logp = -514.44, ||grad|| = 0.0086778]\n",
       "    </div>\n",
       "    "
      ],
      "text/plain": [
       "<IPython.core.display.HTML object>"
      ]
     },
     "metadata": {},
     "output_type": "display_data"
    },
    {
     "name": "stderr",
     "output_type": "stream",
     "text": [
      "WARNING (theano.scan.basic): Output None (index 0) has a initial state but taps is explicitly set to None \n",
      "WARNING (theano.scan.basic): Output None (index 1) has a initial state but taps is explicitly set to None \n"
     ]
    },
    {
     "name": "stdout",
     "output_type": "stream",
     "text": [
      "\n",
      "inner iter 6\n"
     ]
    },
    {
     "name": "stderr",
     "output_type": "stream",
     "text": [
      "WARNING (theano.scan.basic): Output initial_level (index 0) has a initial state but taps is explicitly set to None \n",
      "WARNING (theano.scan.basic): Output initial_trend (index 1) has a initial state but taps is explicitly set to None \n"
     ]
    },
    {
     "data": {
      "text/html": [
       "\n",
       "    <div>\n",
       "        <style>\n",
       "            /* Turns off some styling */\n",
       "            progress {\n",
       "                /* gets rid of default border in Firefox and Opera. */\n",
       "                border: none;\n",
       "                /* Needs to be in here for Safari polyfill so background images work as expected. */\n",
       "                background-size: auto;\n",
       "            }\n",
       "            .progress-bar-interrupted, .progress-bar-interrupted::-webkit-progress-bar {\n",
       "                background: #F44336;\n",
       "            }\n",
       "        </style>\n",
       "      <progress value='73' class='' max='73' style='width:300px; height:20px; vertical-align: middle;'></progress>\n",
       "      100.00% [73/73 00:00<00:00 logp = -525.46, ||grad|| = 0.021174]\n",
       "    </div>\n",
       "    "
      ],
      "text/plain": [
       "<IPython.core.display.HTML object>"
      ]
     },
     "metadata": {},
     "output_type": "display_data"
    },
    {
     "name": "stderr",
     "output_type": "stream",
     "text": [
      "WARNING (theano.scan.basic): Output None (index 0) has a initial state but taps is explicitly set to None \n",
      "WARNING (theano.scan.basic): Output None (index 1) has a initial state but taps is explicitly set to None \n"
     ]
    },
    {
     "name": "stdout",
     "output_type": "stream",
     "text": [
      "\n",
      "inner iter 7\n"
     ]
    },
    {
     "name": "stderr",
     "output_type": "stream",
     "text": [
      "WARNING (theano.scan.basic): Output initial_level (index 0) has a initial state but taps is explicitly set to None \n",
      "WARNING (theano.scan.basic): Output initial_trend (index 1) has a initial state but taps is explicitly set to None \n"
     ]
    },
    {
     "data": {
      "text/html": [
       "\n",
       "    <div>\n",
       "        <style>\n",
       "            /* Turns off some styling */\n",
       "            progress {\n",
       "                /* gets rid of default border in Firefox and Opera. */\n",
       "                border: none;\n",
       "                /* Needs to be in here for Safari polyfill so background images work as expected. */\n",
       "                background-size: auto;\n",
       "            }\n",
       "            .progress-bar-interrupted, .progress-bar-interrupted::-webkit-progress-bar {\n",
       "                background: #F44336;\n",
       "            }\n",
       "        </style>\n",
       "      <progress value='47' class='' max='47' style='width:300px; height:20px; vertical-align: middle;'></progress>\n",
       "      100.00% [47/47 00:00<00:00 logp = -636.46, ||grad|| = 0.013887]\n",
       "    </div>\n",
       "    "
      ],
      "text/plain": [
       "<IPython.core.display.HTML object>"
      ]
     },
     "metadata": {},
     "output_type": "display_data"
    },
    {
     "name": "stderr",
     "output_type": "stream",
     "text": [
      "WARNING (theano.scan.basic): Output None (index 0) has a initial state but taps is explicitly set to None \n",
      "WARNING (theano.scan.basic): Output None (index 1) has a initial state but taps is explicitly set to None \n"
     ]
    },
    {
     "name": "stdout",
     "output_type": "stream",
     "text": [
      "\n",
      "inner iter 8\n"
     ]
    },
    {
     "name": "stderr",
     "output_type": "stream",
     "text": [
      "WARNING (theano.scan.basic): Output initial_level (index 0) has a initial state but taps is explicitly set to None \n",
      "WARNING (theano.scan.basic): Output initial_trend (index 1) has a initial state but taps is explicitly set to None \n"
     ]
    },
    {
     "data": {
      "text/html": [
       "\n",
       "    <div>\n",
       "        <style>\n",
       "            /* Turns off some styling */\n",
       "            progress {\n",
       "                /* gets rid of default border in Firefox and Opera. */\n",
       "                border: none;\n",
       "                /* Needs to be in here for Safari polyfill so background images work as expected. */\n",
       "                background-size: auto;\n",
       "            }\n",
       "            .progress-bar-interrupted, .progress-bar-interrupted::-webkit-progress-bar {\n",
       "                background: #F44336;\n",
       "            }\n",
       "        </style>\n",
       "      <progress value='75' class='' max='75' style='width:300px; height:20px; vertical-align: middle;'></progress>\n",
       "      100.00% [75/75 00:00<00:00 logp = -667.06, ||grad|| = 0.0093978]\n",
       "    </div>\n",
       "    "
      ],
      "text/plain": [
       "<IPython.core.display.HTML object>"
      ]
     },
     "metadata": {},
     "output_type": "display_data"
    },
    {
     "name": "stderr",
     "output_type": "stream",
     "text": [
      "WARNING (theano.scan.basic): Output None (index 0) has a initial state but taps is explicitly set to None \n",
      "WARNING (theano.scan.basic): Output None (index 1) has a initial state but taps is explicitly set to None \n"
     ]
    },
    {
     "name": "stdout",
     "output_type": "stream",
     "text": [
      "\n",
      "inner iter 9\n"
     ]
    },
    {
     "name": "stderr",
     "output_type": "stream",
     "text": [
      "WARNING (theano.scan.basic): Output initial_level (index 0) has a initial state but taps is explicitly set to None \n",
      "WARNING (theano.scan.basic): Output initial_trend (index 1) has a initial state but taps is explicitly set to None \n"
     ]
    },
    {
     "data": {
      "text/html": [
       "\n",
       "    <div>\n",
       "        <style>\n",
       "            /* Turns off some styling */\n",
       "            progress {\n",
       "                /* gets rid of default border in Firefox and Opera. */\n",
       "                border: none;\n",
       "                /* Needs to be in here for Safari polyfill so background images work as expected. */\n",
       "                background-size: auto;\n",
       "            }\n",
       "            .progress-bar-interrupted, .progress-bar-interrupted::-webkit-progress-bar {\n",
       "                background: #F44336;\n",
       "            }\n",
       "        </style>\n",
       "      <progress value='240' class='' max='240' style='width:300px; height:20px; vertical-align: middle;'></progress>\n",
       "      100.00% [240/240 00:04<00:00 logp = -727.36, ||grad|| = 0.10892]\n",
       "    </div>\n",
       "    "
      ],
      "text/plain": [
       "<IPython.core.display.HTML object>"
      ]
     },
     "metadata": {},
     "output_type": "display_data"
    },
    {
     "name": "stderr",
     "output_type": "stream",
     "text": [
      "WARNING (theano.scan.basic): Output None (index 0) has a initial state but taps is explicitly set to None \n",
      "WARNING (theano.scan.basic): Output None (index 1) has a initial state but taps is explicitly set to None \n"
     ]
    },
    {
     "name": "stdout",
     "output_type": "stream",
     "text": [
      "\n",
      "inner iter 10\n"
     ]
    },
    {
     "name": "stderr",
     "output_type": "stream",
     "text": [
      "WARNING (theano.scan.basic): Output initial_level (index 0) has a initial state but taps is explicitly set to None \n",
      "WARNING (theano.scan.basic): Output initial_trend (index 1) has a initial state but taps is explicitly set to None \n"
     ]
    },
    {
     "data": {
      "text/html": [
       "\n",
       "    <div>\n",
       "        <style>\n",
       "            /* Turns off some styling */\n",
       "            progress {\n",
       "                /* gets rid of default border in Firefox and Opera. */\n",
       "                border: none;\n",
       "                /* Needs to be in here for Safari polyfill so background images work as expected. */\n",
       "                background-size: auto;\n",
       "            }\n",
       "            .progress-bar-interrupted, .progress-bar-interrupted::-webkit-progress-bar {\n",
       "                background: #F44336;\n",
       "            }\n",
       "        </style>\n",
       "      <progress value='541' class='' max='541' style='width:300px; height:20px; vertical-align: middle;'></progress>\n",
       "      100.00% [541/541 00:09<00:00 logp = -797.51, ||grad|| = 0.29682]\n",
       "    </div>\n",
       "    "
      ],
      "text/plain": [
       "<IPython.core.display.HTML object>"
      ]
     },
     "metadata": {},
     "output_type": "display_data"
    },
    {
     "name": "stderr",
     "output_type": "stream",
     "text": [
      "WARNING (theano.scan.basic): Output None (index 0) has a initial state but taps is explicitly set to None \n",
      "WARNING (theano.scan.basic): Output None (index 1) has a initial state but taps is explicitly set to None \n"
     ]
    },
    {
     "name": "stdout",
     "output_type": "stream",
     "text": [
      "\n"
     ]
    }
   ],
   "source": [
    "### walk-forward validation\n",
    "# HORIZON = 2 # (ie 15-21 days out) compare to TARGET_lag3\n",
    "HORIZON = 5 # (ie 36-42 days out) compare to TARGET_lag6\n",
    "szn_len = 52\n",
    "\n",
    "idx_outer = 1\n",
    "pred_for_dates, zone_ids, preds, smoothing_levels, smoothing_trends, smoothing_seasons = [], [], [], [], [], []\n",
    "# for f_date in test_dates2[1:2]:\n",
    "# for f_date in test_dates2[0:1]:\n",
    "# for f_date in test_dates2:\n",
    "# for f_date in [date(2020,1,27)-timedelta(weeks=HORIZON)]:\n",
    "# for f_date in test_dates2[0:1]:\n",
    "for f_date in [date(2021,6,21), date(2021,5,17), date(2021,4,26), date(2021,4,5)]:\n",
    "# for f_date in [date(2021,6,28), date(2021,7,19)]:\n",
    "# for f_date in [date(2021,4,26)]:\n",
    "# for f_date in [date(2021,6,28)]:\n",
    "# for f_date in [date(2021,7,19)]:\n",
    "# for f_date in [date(2021,7,26)]:\n",
    "# for f_date in [date(2021,8,2)]:\n",
    "# for f_date in [date(2019,12,2)]:\n",
    "# for f_date in test_f_dates[:5]:\n",
    "    print(f'iter {idx_outer}/{len(test_dates2)}')\n",
    "    idx_outer += 1\n",
    "    \n",
    "    idx_inner = 1\n",
    "#     for z_id in zz4[1:]:\n",
    "#     for z_id in zz5 + zz:\n",
    "#     for z_id in zz4:\n",
    "#     for z_id in zz3:\n",
    "#     for z_id in zz2:\n",
    "#     for z_id in zz:\n",
    "#     for z_id in exp_zones:\n",
    "#     for z_id in zz_top90:\n",
    "#     for z_id in [983]:\n",
    "#     for z_id in [874]:\n",
    "#     for z_id in df_prep.zone_id.unique():\n",
    "#     for z_id in [1001, 943, 787]:\n",
    "#     for z_id in [1435]:\n",
    "#     for z_id in [1]:\n",
    "#     for z_id in [1,973,13]:\n",
    "    for z_id in [1,973,13,785,979,1001,972,942,18,27]:\n",
    "\n",
    "        print(f'inner iter {idx_inner}')\n",
    "        \n",
    "#         third_week = df_prep.loc[df_prep.zone_id == z_id].date.unique()[2]\n",
    "        zdf = df_prep.loc[(df_prep.zone_id == z_id)\n",
    "                            & (df_prep.date < f_date)\n",
    "#                             & (df_prep.date > third_week)\n",
    "                            & (df_prep['y_obs'] > 0)\n",
    "                           ]\n",
    "    \n",
    "        third_week = zdf.date.unique()[2]\n",
    "        zdf = zdf.loc[zdf.date > third_week]\n",
    "        \n",
    "        \n",
    "        pad_df = pd.DataFrame(columns = zdf.columns)\n",
    "        pad_df.loc[0, 'zone_id'] = z_id\n",
    "        zdf = pd.concat([pad_df, zdf])\n",
    "        \n",
    "        zdf['y_obs_lag-1'] = zdf.y_obs.shift(-1)\n",
    "        initial_lvl_upper = zdf.head()['y_obs_lag-1'].max()\n",
    "        \n",
    "        \n",
    "#         if len(zdf) < 104:\n",
    "#             break\n",
    "            \n",
    "        map_estimate, ys, is_covid_start = fit_hw_model(zdf, initial_lvl_upper)\n",
    "        pred, levels_f, trends_f, seasons_f, seasons, corresponding_szn_idx, szn_estimate, yhats = predict(map_estimate, ys, is_covid_start, HORIZON+1)\n",
    "        \n",
    "        pred_for_date = f_date + timedelta(weeks=HORIZON)\n",
    "        \n",
    "        pred_for_dates.append(pred_for_date)\n",
    "        zone_ids.append(z_id)\n",
    "        preds.append(pred)\n",
    "        smoothing_levels.append(map_estimate['smoothing_level'])\n",
    "        smoothing_trends.append(map_estimate['smoothing_trend'])\n",
    "        if 'smoothing_season' in map_estimate:\n",
    "            smoothing_seasons.append(map_estimate['smoothing_season'])\n",
    "        else:\n",
    "            smoothing_seasons.append(0.0)\n",
    "        idx_inner += 1\n",
    "        \n",
    "res1 = pd.DataFrame({'pred_for_date': pred_for_dates,\n",
    "                        'zone_id': zone_ids,\n",
    "                        'pred': preds,\n",
    "                        'smoothing_level': smoothing_levels,\n",
    "                        'smoothing_trend': smoothing_trends,\n",
    "                        'smoothing_season': smoothing_seasons})\n",
    "\n",
    "res1.pred_for_date = pd.to_datetime(res1.pred_for_date)"
   ]
  },
  {
   "cell_type": "code",
   "execution_count": 98,
   "id": "7e9a84bd",
   "metadata": {},
   "outputs": [
    {
     "data": {
      "image/png": "[encoded data removed]",
      "text/plain": [
       "<Figure size 432x288 with 1 Axes>"
      ]
     },
     "metadata": {},
     "output_type": "display_data"
    }
   ],
   "source": [
    "ax = df_prep.loc[df_prep.zone_id == 983].total_demand_new.plot()\n",
    "ax.xaxis.set_tick_params(rotation=45)"
   ]
  },
  {
   "cell_type": "code",
   "execution_count": 12,
   "id": "3251b33d",
   "metadata": {},
   "outputs": [
    {
     "data": {
      "text/plain": [
       "(4212.432319814704, 1.0668838656268425)"
      ]
     },
     "execution_count": 12,
     "metadata": {},
     "output_type": "execute_result"
    }
   ],
   "source": [
    "pred, szn_estimate"
   ]
  },
  {
   "cell_type": "code",
   "execution_count": 79,
   "id": "e9695f96",
   "metadata": {},
   "outputs": [
    {
     "data": {
      "text/plain": [
       "(90, 6)"
      ]
     },
     "execution_count": 79,
     "metadata": {},
     "output_type": "execute_result"
    }
   ],
   "source": [
    "res1.shape"
   ]
  },
  {
   "cell_type": "code",
   "execution_count": 81,
   "id": "2dcb3bc2",
   "metadata": {},
   "outputs": [],
   "source": [
    "res1_old = pd.read_csv('./demand_fcast_fdate_08_02_21.csv')"
   ]
  },
  {
   "cell_type": "code",
   "execution_count": 84,
   "id": "2fd070fb",
   "metadata": {},
   "outputs": [],
   "source": [
    "b = res1_old.merge(res1, on='zone_id')"
   ]
  },
  {
   "cell_type": "code",
   "execution_count": 88,
   "id": "7b5272cd",
   "metadata": {},
   "outputs": [],
   "source": [
    "b['diffp'] = b.pred_y - b.pred_x"
   ]
  },
  {
   "cell_type": "code",
   "execution_count": 90,
   "id": "956876e0",
   "metadata": {},
   "outputs": [
    {
     "data": {
      "text/plain": [
       "(65, 13)"
      ]
     },
     "execution_count": 90,
     "metadata": {},
     "output_type": "execute_result"
    }
   ],
   "source": [
    "b.loc[b.diffp.abs() < 1].shape"
   ]
  },
  {
   "cell_type": "code",
   "execution_count": 95,
   "id": "c7afd838",
   "metadata": {},
   "outputs": [
    {
     "data": {
      "text/html": [
       "<div>\n",
       "<style scoped>\n",
       "    .dataframe tbody tr th:only-of-type {\n",
       "        vertical-align: middle;\n",
       "    }\n",
       "\n",
       "    .dataframe tbody tr th {\n",
       "        vertical-align: top;\n",
       "    }\n",
       "\n",
       "    .dataframe thead th {\n",
       "        text-align: right;\n",
       "    }\n",
       "</style>\n",
       "<table border=\"1\" class=\"dataframe\">\n",
       "  <thead>\n",
       "    <tr style=\"text-align: right;\">\n",
       "      <th></th>\n",
       "      <th>pred_for_date_x</th>\n",
       "      <th>zone_id</th>\n",
       "      <th>pred_x</th>\n",
       "      <th>smoothing_level_x</th>\n",
       "      <th>smoothing_trend_x</th>\n",
       "      <th>smoothing_season_x</th>\n",
       "      <th>pred_for_date_y</th>\n",
       "      <th>pred_y</th>\n",
       "      <th>smoothing_level_y</th>\n",
       "      <th>smoothing_trend_y</th>\n",
       "      <th>smoothing_season_y</th>\n",
       "      <th>diff</th>\n",
       "      <th>diffp</th>\n",
       "    </tr>\n",
       "  </thead>\n",
       "  <tbody>\n",
       "    <tr>\n",
       "      <th>4</th>\n",
       "      <td>2021-08-16</td>\n",
       "      <td>973</td>\n",
       "      <td>6152.897948</td>\n",
       "      <td>0.770242</td>\n",
       "      <td>1.655297e-05</td>\n",
       "      <td>0.0</td>\n",
       "      <td>2021-08-16</td>\n",
       "      <td>5896.336744</td>\n",
       "      <td>0.5989187669991938</td>\n",
       "      <td>9.887017731081633e-06</td>\n",
       "      <td>2.3248655720790943e-05</td>\n",
       "      <td>-256.561204</td>\n",
       "      <td>-256.561204</td>\n",
       "    </tr>\n",
       "    <tr>\n",
       "      <th>8</th>\n",
       "      <td>2021-08-16</td>\n",
       "      <td>1002</td>\n",
       "      <td>5304.960532</td>\n",
       "      <td>0.675908</td>\n",
       "      <td>3.590949e-01</td>\n",
       "      <td>0.0</td>\n",
       "      <td>2021-08-16</td>\n",
       "      <td>5072.592871</td>\n",
       "      <td>0.7579263182738878</td>\n",
       "      <td>0.007546081922736467</td>\n",
       "      <td>1.3470727488965363e-06</td>\n",
       "      <td>-232.367660</td>\n",
       "      <td>-232.367660</td>\n",
       "    </tr>\n",
       "    <tr>\n",
       "      <th>9</th>\n",
       "      <td>2021-08-16</td>\n",
       "      <td>974</td>\n",
       "      <td>4731.315884</td>\n",
       "      <td>1.000000</td>\n",
       "      <td>2.234127e-09</td>\n",
       "      <td>0.0</td>\n",
       "      <td>2021-08-16</td>\n",
       "      <td>4728.880204</td>\n",
       "      <td>0.9345850542955861</td>\n",
       "      <td>0.025782443912470813</td>\n",
       "      <td>0.00014025973838616696</td>\n",
       "      <td>-2.435680</td>\n",
       "      <td>-2.435680</td>\n",
       "    </tr>\n",
       "    <tr>\n",
       "      <th>10</th>\n",
       "      <td>2021-08-16</td>\n",
       "      <td>983</td>\n",
       "      <td>4984.858405</td>\n",
       "      <td>0.854828</td>\n",
       "      <td>3.009126e-01</td>\n",
       "      <td>0.0</td>\n",
       "      <td>2021-08-16</td>\n",
       "      <td>4875.975927</td>\n",
       "      <td>0.822728845450194</td>\n",
       "      <td>0.024873809875208177</td>\n",
       "      <td>7.69496916724888e-05</td>\n",
       "      <td>-108.882477</td>\n",
       "      <td>-108.882477</td>\n",
       "    </tr>\n",
       "    <tr>\n",
       "      <th>11</th>\n",
       "      <td>2021-08-16</td>\n",
       "      <td>1001</td>\n",
       "      <td>4824.423267</td>\n",
       "      <td>0.787840</td>\n",
       "      <td>3.007840e-01</td>\n",
       "      <td>0.0</td>\n",
       "      <td>2021-08-16</td>\n",
       "      <td>4636.492097</td>\n",
       "      <td>0.761181597490601</td>\n",
       "      <td>0.02098483687374244</td>\n",
       "      <td>0.00012774197622844355</td>\n",
       "      <td>-187.931170</td>\n",
       "      <td>-187.931170</td>\n",
       "    </tr>\n",
       "    <tr>\n",
       "      <th>12</th>\n",
       "      <td>2021-08-16</td>\n",
       "      <td>839</td>\n",
       "      <td>4799.578703</td>\n",
       "      <td>0.301031</td>\n",
       "      <td>9.999981e-01</td>\n",
       "      <td>0.0</td>\n",
       "      <td>2021-08-16</td>\n",
       "      <td>4461.467289</td>\n",
       "      <td>0.6421173356041092</td>\n",
       "      <td>3.92972082271154e-05</td>\n",
       "      <td>5.621305132870367e-07</td>\n",
       "      <td>-338.111414</td>\n",
       "      <td>-338.111414</td>\n",
       "    </tr>\n",
       "    <tr>\n",
       "      <th>15</th>\n",
       "      <td>2021-08-16</td>\n",
       "      <td>783</td>\n",
       "      <td>4082.265855</td>\n",
       "      <td>0.764053</td>\n",
       "      <td>1.919288e-03</td>\n",
       "      <td>0.0</td>\n",
       "      <td>2021-08-16</td>\n",
       "      <td>4017.223898</td>\n",
       "      <td>0.4962179118637253</td>\n",
       "      <td>0.0021337692767074193</td>\n",
       "      <td>3.257115651218389e-05</td>\n",
       "      <td>-65.041956</td>\n",
       "      <td>-65.041956</td>\n",
       "    </tr>\n",
       "    <tr>\n",
       "      <th>71</th>\n",
       "      <td>2021-08-16</td>\n",
       "      <td>853</td>\n",
       "      <td>1128.927172</td>\n",
       "      <td>0.790990</td>\n",
       "      <td>3.751020e-03</td>\n",
       "      <td>0.0</td>\n",
       "      <td>2021-08-16</td>\n",
       "      <td>1111.960975</td>\n",
       "      <td>0.932121843984265</td>\n",
       "      <td>0.058548220170611905</td>\n",
       "      <td>0.0002178389114374311</td>\n",
       "      <td>-16.966197</td>\n",
       "      <td>-16.966197</td>\n",
       "    </tr>\n",
       "  </tbody>\n",
       "</table>\n",
       "</div>"
      ],
      "text/plain": [
       "   pred_for_date_x  zone_id       pred_x  smoothing_level_x  \\\n",
       "4       2021-08-16      973  6152.897948           0.770242   \n",
       "8       2021-08-16     1002  5304.960532           0.675908   \n",
       "9       2021-08-16      974  4731.315884           1.000000   \n",
       "10      2021-08-16      983  4984.858405           0.854828   \n",
       "11      2021-08-16     1001  4824.423267           0.787840   \n",
       "12      2021-08-16      839  4799.578703           0.301031   \n",
       "15      2021-08-16      783  4082.265855           0.764053   \n",
       "71      2021-08-16      853  1128.927172           0.790990   \n",
       "\n",
       "    smoothing_trend_x  smoothing_season_x pred_for_date_y       pred_y  \\\n",
       "4        1.655297e-05                 0.0      2021-08-16  5896.336744   \n",
       "8        3.590949e-01                 0.0      2021-08-16  5072.592871   \n",
       "9        2.234127e-09                 0.0      2021-08-16  4728.880204   \n",
       "10       3.009126e-01                 0.0      2021-08-16  4875.975927   \n",
       "11       3.007840e-01                 0.0      2021-08-16  4636.492097   \n",
       "12       9.999981e-01                 0.0      2021-08-16  4461.467289   \n",
       "15       1.919288e-03                 0.0      2021-08-16  4017.223898   \n",
       "71       3.751020e-03                 0.0      2021-08-16  1111.960975   \n",
       "\n",
       "     smoothing_level_y      smoothing_trend_y      smoothing_season_y  \\\n",
       "4   0.5989187669991938  9.887017731081633e-06  2.3248655720790943e-05   \n",
       "8   0.7579263182738878   0.007546081922736467  1.3470727488965363e-06   \n",
       "9   0.9345850542955861   0.025782443912470813  0.00014025973838616696   \n",
       "10   0.822728845450194   0.024873809875208177    7.69496916724888e-05   \n",
       "11   0.761181597490601    0.02098483687374244  0.00012774197622844355   \n",
       "12  0.6421173356041092   3.92972082271154e-05   5.621305132870367e-07   \n",
       "15  0.4962179118637253  0.0021337692767074193   3.257115651218389e-05   \n",
       "71   0.932121843984265   0.058548220170611905   0.0002178389114374311   \n",
       "\n",
       "          diff       diffp  \n",
       "4  -256.561204 -256.561204  \n",
       "8  -232.367660 -232.367660  \n",
       "9    -2.435680   -2.435680  \n",
       "10 -108.882477 -108.882477  \n",
       "11 -187.931170 -187.931170  \n",
       "12 -338.111414 -338.111414  \n",
       "15  -65.041956  -65.041956  \n",
       "71  -16.966197  -16.966197  "
      ]
     },
     "execution_count": 95,
     "metadata": {},
     "output_type": "execute_result"
    }
   ],
   "source": [
    "b.loc[b.diffp < -1]"
   ]
  },
  {
   "cell_type": "code",
   "execution_count": 91,
   "id": "57dde95a",
   "metadata": {},
   "outputs": [
    {
     "name": "stderr",
     "output_type": "stream",
     "text": [
      "/Users/sorenzeliger/.pyenv/versions/3.8.6/lib/python3.8/site-packages/seaborn/distributions.py:2557: FutureWarning: `distplot` is a deprecated function and will be removed in a future version. Please adapt your code to use either `displot` (a figure-level function with similar flexibility) or `histplot` (an axes-level function for histograms).\n",
      "  warnings.warn(msg, FutureWarning)\n"
     ]
    },
    {
     "data": {
      "text/plain": [
       "<AxesSubplot:xlabel='diffp', ylabel='Density'>"
      ]
     },
     "execution_count": 91,
     "metadata": {},
     "output_type": "execute_result"
    },
    {
     "data": {
      "image/png": "[encoded data removed]",
      "text/plain": [
       "<Figure size 432x288 with 1 Axes>"
      ]
     },
     "metadata": {},
     "output_type": "display_data"
    }
   ],
   "source": [
    "sns.distplot(b.loc[~(b.diffp.abs() < 1)].diffp)"
   ]
  },
  {
   "cell_type": "code",
   "execution_count": 92,
   "id": "0a4fbbe0",
   "metadata": {},
   "outputs": [
    {
     "name": "stderr",
     "output_type": "stream",
     "text": [
      "/Users/sorenzeliger/.pyenv/versions/3.8.6/lib/python3.8/site-packages/seaborn/distributions.py:2557: FutureWarning: `distplot` is a deprecated function and will be removed in a future version. Please adapt your code to use either `displot` (a figure-level function with similar flexibility) or `histplot` (an axes-level function for histograms).\n",
      "  warnings.warn(msg, FutureWarning)\n"
     ]
    },
    {
     "data": {
      "text/plain": [
       "<AxesSubplot:xlabel='pred', ylabel='Density'>"
      ]
     },
     "execution_count": 92,
     "metadata": {},
     "output_type": "execute_result"
    },
    {
     "data": {
      "image/png": "[encoded data removed]",
      "text/plain": [
       "<Figure size 432x288 with 1 Axes>"
      ]
     },
     "metadata": {},
     "output_type": "display_data"
    }
   ],
   "source": [
    "sns.distplot(res1.pred)"
   ]
  },
  {
   "cell_type": "code",
   "execution_count": 32,
   "id": "53624164",
   "metadata": {},
   "outputs": [
    {
     "name": "stderr",
     "output_type": "stream",
     "text": [
      "/Users/sorenzeliger/.pyenv/versions/3.8.6/lib/python3.8/site-packages/seaborn/distributions.py:2557: FutureWarning: `distplot` is a deprecated function and will be removed in a future version. Please adapt your code to use either `displot` (a figure-level function with similar flexibility) or `histplot` (an axes-level function for histograms).\n",
      "  warnings.warn(msg, FutureWarning)\n"
     ]
    },
    {
     "data": {
      "text/plain": [
       "<AxesSubplot:xlabel='pred', ylabel='Density'>"
      ]
     },
     "execution_count": 32,
     "metadata": {},
     "output_type": "execute_result"
    },
    {
     "data": {
      "image/png": "[encoded data removed]",
      "text/plain": [
       "<Figure size 432x288 with 1 Axes>"
      ]
     },
     "metadata": {},
     "output_type": "display_data"
    }
   ],
   "source": [
    "sns.distplot(res1.pred)"
   ]
  },
  {
   "cell_type": "code",
   "execution_count": 96,
   "id": "1955566c",
   "metadata": {},
   "outputs": [],
   "source": [
    "# res1.to_csv('./demand_fcast_fdate_08_02_21_new.csv', index=None)\n",
    "\n",
    "# res1.to_csv('./demand_fcast_fdate_08_02_21.csv', index=None)\n",
    "# res1.to_csv('./demand_fcast_fdate_07_26_21.csv', index=None)\n",
    "# res1.to_csv('./demand_fcast_fdate_06_28_21.csv', index=None)\n",
    "\n",
    "# res1.to_csv('./demand_fcast_fdate_07_19_21.csv', index=None)"
   ]
  },
  {
   "cell_type": "code",
   "execution_count": 1244,
   "id": "4cd8fdbe",
   "metadata": {},
   "outputs": [
    {
     "data": {
      "text/plain": [
       "array([ 785,  942,  972,  861,  973,  943,  975,  981, 1002,  983,  974,\n",
       "       1001,  839,  714,    1,  783,  989,  787,   79,  945,  946,  980,\n",
       "        979,   27,  131,  786,  183,   33,   87,  392,   43,   16,  982,\n",
       "        713,  988,  262,  840,  144,  709,  181,  440,  204,  225,  185,\n",
       "        245,  104,  182,  439,  103,  169,   50,  186,   37,  620,  441,\n",
       "         76,  184,   32,  477,  530,  616,  617,  357,  167,  437, 1029,\n",
       "         38,  166,  428,  307,  853,  541,  438,   18,  266,  692,  272,\n",
       "         90,  495,  475,  178,  348,  273,  521,  161,  694,  707,  190,\n",
       "        452,  759])"
      ]
     },
     "execution_count": 1244,
     "metadata": {},
     "output_type": "execute_result"
    }
   ],
   "source": [
    "res1.zone_id.unique()"
   ]
  },
  {
   "cell_type": "code",
   "execution_count": 13,
   "id": "927b25ca",
   "metadata": {},
   "outputs": [
    {
     "data": {
      "text/plain": [
       "{'initial_level_interval__': array(17.11413612),\n",
       " 'smoothing_level_interval__': array(0.7409626),\n",
       " 'initial_trend_interval__': array(-0.00158712),\n",
       " 'smoothing_trend_interval__': array(-8.26368369),\n",
       " 'initial_szns': array([0.94682103, 0.94647319, 0.97886231, 0.96599851, 0.99521043,\n",
       "        1.00038749, 0.99650097, 1.06064926, 1.06688386, 1.01402921,\n",
       "        1.02850108, 1.00941135, 1.02071715, 1.03421508, 1.02605641,\n",
       "        1.04318742, 1.0000316 , 0.99840258, 0.98644759, 1.03551968,\n",
       "        1.05848569, 1.01581258, 0.86681369, 0.92500898, 1.05220402,\n",
       "        1.08497173, 1.07450345, 1.04748363, 1.04690197, 1.05954522,\n",
       "        1.07082184, 1.08993574, 1.10215027, 1.06031518, 1.08320248,\n",
       "        1.06627031, 1.0314383 , 1.04061882, 1.02328424, 1.02084693,\n",
       "        1.02573651, 1.00430543, 1.00934291, 0.99328492, 0.96321319,\n",
       "        0.94891682, 0.94412378, 0.94470538, 0.93714748, 0.91180957,\n",
       "        0.91627741, 0.93736882]),\n",
       " 'smoothing_season_interval__': array(-13.3025097),\n",
       " 'covid_level_change_interval__': array(-0.51703006),\n",
       " 'covid_level_change2_interval__': array(-2.47105747),\n",
       " 'sigma_log__': array(4.14712831),\n",
       " 'initial_level': array(2220.67006296),\n",
       " 'smoothing_level': array(0.67720631),\n",
       " 'initial_trend': array(-0.88111914),\n",
       " 'smoothing_trend': array(0.00025764),\n",
       " 'smoothing_season': array(1.33623457e-06),\n",
       " 'covid_level_change': array(1867.73483363),\n",
       " 'covid_level_change2': array(389.56115252),\n",
       " 'sigma': array(63.25209852)}"
      ]
     },
     "execution_count": 13,
     "metadata": {},
     "output_type": "execute_result"
    }
   ],
   "source": [
    "map_estimate"
   ]
  },
  {
   "cell_type": "code",
   "execution_count": 14,
   "id": "899ca87f",
   "metadata": {},
   "outputs": [
    {
     "data": {
      "text/plain": [
       "0      2110.494687\n",
       "1      2194.632691\n",
       "2      2186.039578\n",
       "3      2171.274071\n",
       "4      2220.670145\n",
       "          ...     \n",
       "154    3550.368175\n",
       "155    3615.211055\n",
       "156    3738.906556\n",
       "157    3663.909110\n",
       "158    3898.141821\n",
       "Name: y_obs, Length: 159, dtype: float64"
      ]
     },
     "execution_count": 14,
     "metadata": {},
     "output_type": "execute_result"
    }
   ],
   "source": [
    "zdf.iloc[1:].reset_index().y_obs"
   ]
  },
  {
   "cell_type": "code",
   "execution_count": 100,
   "id": "03f538e8",
   "metadata": {},
   "outputs": [
    {
     "data": {
      "text/plain": [
       "[<matplotlib.lines.Line2D at 0x168323520>]"
      ]
     },
     "execution_count": 100,
     "metadata": {},
     "output_type": "execute_result"
    },
    {
     "data": {
      "image/png": "[encoded data removed]",
      "text/plain": [
       "<Figure size 432x288 with 1 Axes>"
      ]
     },
     "metadata": {},
     "output_type": "display_data"
    }
   ],
   "source": [
    "# 983\n",
    "zdf.iloc[1:].reset_index().y_obs.plot()\n",
    "plt.plot(yhats.get_test_value())"
   ]
  },
  {
   "cell_type": "code",
   "execution_count": 70,
   "id": "083a8c0a",
   "metadata": {},
   "outputs": [
    {
     "data": {
      "text/plain": [
       "[<matplotlib.lines.Line2D at 0x17d68b460>]"
      ]
     },
     "execution_count": 70,
     "metadata": {},
     "output_type": "execute_result"
    },
    {
     "data": {
      "image/png": "[encoded data removed]",
      "text/plain": [
       "<Figure size 432x288 with 1 Axes>"
      ]
     },
     "metadata": {},
     "output_type": "display_data"
    }
   ],
   "source": [
    "# Denver\n",
    "zdf.iloc[1:].reset_index().y_obs.plot()\n",
    "plt.plot(yhats.get_test_value())"
   ]
  },
  {
   "cell_type": "code",
   "execution_count": 39,
   "id": "156b0494",
   "metadata": {},
   "outputs": [
    {
     "data": {
      "text/plain": [
       "[<matplotlib.lines.Line2D at 0x17429bf40>]"
      ]
     },
     "execution_count": 39,
     "metadata": {},
     "output_type": "execute_result"
    },
    {
     "data": {
      "image/png": "[encoded data removed]",
      "text/plain": [
       "<Figure size 432x288 with 1 Axes>"
      ]
     },
     "metadata": {},
     "output_type": "display_data"
    }
   ],
   "source": [
    "# Austin\n",
    "zdf.iloc[1:].reset_index().y_obs.plot()\n",
    "plt.plot(yhats.get_test_value())"
   ]
  },
  {
   "cell_type": "code",
   "execution_count": 15,
   "id": "f88e8ccc",
   "metadata": {},
   "outputs": [
    {
     "data": {
      "text/plain": [
       "[<matplotlib.lines.Line2D at 0x176cbbfa0>]"
      ]
     },
     "execution_count": 15,
     "metadata": {},
     "output_type": "execute_result"
    },
    {
     "data": {
      "image/png": "[encoded data removed]",
      "text/plain": [
       "<Figure size 432x288 with 1 Axes>"
      ]
     },
     "metadata": {},
     "output_type": "display_data"
    }
   ],
   "source": [
    "# SF\n",
    "zdf.iloc[1:].reset_index().y_obs.plot()\n",
    "plt.plot(yhats.get_test_value())"
   ]
  },
  {
   "cell_type": "code",
   "execution_count": 71,
   "id": "491fd08f",
   "metadata": {},
   "outputs": [],
   "source": [
    "all_season_estimates = map_estimate['initial_szns'].tolist() + seasons.get_test_value().tolist()\n",
    "\n",
    "corresponding_dates = zdf.iloc[1:].date.tolist()\n",
    "for i in range(szn_len):\n",
    "    corresponding_dates += [corresponding_dates[-1] + timedelta(weeks=1)]\n",
    "\n",
    "szn_estimates_w_dates = pd.DataFrame(list(zip(all_season_estimates, corresponding_dates)), columns=['szn_estimate', 'date'])\n",
    "\n",
    "szn_estimates_w_dates = szn_estimates_w_dates.set_index(szn_estimates_w_dates.date)"
   ]
  },
  {
   "cell_type": "code",
   "execution_count": 72,
   "id": "a32d7684",
   "metadata": {},
   "outputs": [
    {
     "data": {
      "text/html": [
       "<div>\n",
       "<style scoped>\n",
       "    .dataframe tbody tr th:only-of-type {\n",
       "        vertical-align: middle;\n",
       "    }\n",
       "\n",
       "    .dataframe tbody tr th {\n",
       "        vertical-align: top;\n",
       "    }\n",
       "\n",
       "    .dataframe thead th {\n",
       "        text-align: right;\n",
       "    }\n",
       "</style>\n",
       "<table border=\"1\" class=\"dataframe\">\n",
       "  <thead>\n",
       "    <tr style=\"text-align: right;\">\n",
       "      <th></th>\n",
       "      <th>szn_estimate</th>\n",
       "      <th>date</th>\n",
       "    </tr>\n",
       "    <tr>\n",
       "      <th>date</th>\n",
       "      <th></th>\n",
       "      <th></th>\n",
       "    </tr>\n",
       "  </thead>\n",
       "  <tbody>\n",
       "    <tr>\n",
       "      <th>2021-08-02</th>\n",
       "      <td>0.959128</td>\n",
       "      <td>2021-08-02</td>\n",
       "    </tr>\n",
       "    <tr>\n",
       "      <th>2021-08-09</th>\n",
       "      <td>0.985804</td>\n",
       "      <td>2021-08-09</td>\n",
       "    </tr>\n",
       "    <tr>\n",
       "      <th>2021-08-16</th>\n",
       "      <td>0.980204</td>\n",
       "      <td>2021-08-16</td>\n",
       "    </tr>\n",
       "    <tr>\n",
       "      <th>2021-08-23</th>\n",
       "      <td>0.963007</td>\n",
       "      <td>2021-08-23</td>\n",
       "    </tr>\n",
       "    <tr>\n",
       "      <th>2021-08-30</th>\n",
       "      <td>0.952893</td>\n",
       "      <td>2021-08-30</td>\n",
       "    </tr>\n",
       "  </tbody>\n",
       "</table>\n",
       "</div>"
      ],
      "text/plain": [
       "            szn_estimate        date\n",
       "date                                \n",
       "2021-08-02      0.959128  2021-08-02\n",
       "2021-08-09      0.985804  2021-08-09\n",
       "2021-08-16      0.980204  2021-08-16\n",
       "2021-08-23      0.963007  2021-08-23\n",
       "2021-08-30      0.952893  2021-08-30"
      ]
     },
     "execution_count": 72,
     "metadata": {},
     "output_type": "execute_result"
    }
   ],
   "source": [
    "szn_estimates_w_dates.loc[szn_estimates_w_dates.date >= f_date].head()"
   ]
  },
  {
   "cell_type": "code",
   "execution_count": 73,
   "id": "d90bc13f",
   "metadata": {},
   "outputs": [],
   "source": [
    "szn_estimates_w_dates['szn_estimate_lag1'] = szn_estimates_w_dates.szn_estimate.shift(1)\n",
    "szn_estimates_w_dates['szn_change'] = szn_estimates_w_dates.szn_estimate - szn_estimates_w_dates.szn_estimate_lag1\n",
    "szn_estimates_w_dates['szn_change_abs'] = szn_estimates_w_dates['szn_change'].abs()"
   ]
  },
  {
   "cell_type": "code",
   "execution_count": 74,
   "id": "40a0d46b",
   "metadata": {},
   "outputs": [
    {
     "data": {
      "text/html": [
       "<div>\n",
       "<style scoped>\n",
       "    .dataframe tbody tr th:only-of-type {\n",
       "        vertical-align: middle;\n",
       "    }\n",
       "\n",
       "    .dataframe tbody tr th {\n",
       "        vertical-align: top;\n",
       "    }\n",
       "\n",
       "    .dataframe thead th {\n",
       "        text-align: right;\n",
       "    }\n",
       "</style>\n",
       "<table border=\"1\" class=\"dataframe\">\n",
       "  <thead>\n",
       "    <tr style=\"text-align: right;\">\n",
       "      <th></th>\n",
       "      <th>szn_estimate</th>\n",
       "      <th>date</th>\n",
       "      <th>szn_estimate_lag1</th>\n",
       "      <th>szn_change</th>\n",
       "      <th>szn_change_abs</th>\n",
       "    </tr>\n",
       "    <tr>\n",
       "      <th>date</th>\n",
       "      <th></th>\n",
       "      <th></th>\n",
       "      <th></th>\n",
       "      <th></th>\n",
       "      <th></th>\n",
       "    </tr>\n",
       "  </thead>\n",
       "  <tbody>\n",
       "    <tr>\n",
       "      <th>2021-06-07</th>\n",
       "      <td>0.906951</td>\n",
       "      <td>2021-06-07</td>\n",
       "      <td>0.910931</td>\n",
       "      <td>-0.003980</td>\n",
       "      <td>0.003980</td>\n",
       "    </tr>\n",
       "    <tr>\n",
       "      <th>2021-06-14</th>\n",
       "      <td>0.908187</td>\n",
       "      <td>2021-06-14</td>\n",
       "      <td>0.906951</td>\n",
       "      <td>0.001237</td>\n",
       "      <td>0.001237</td>\n",
       "    </tr>\n",
       "    <tr>\n",
       "      <th>2021-06-21</th>\n",
       "      <td>0.890173</td>\n",
       "      <td>2021-06-21</td>\n",
       "      <td>0.908187</td>\n",
       "      <td>-0.018014</td>\n",
       "      <td>0.018014</td>\n",
       "    </tr>\n",
       "    <tr>\n",
       "      <th>2021-06-28</th>\n",
       "      <td>0.898945</td>\n",
       "      <td>2021-06-28</td>\n",
       "      <td>0.890173</td>\n",
       "      <td>0.008772</td>\n",
       "      <td>0.008772</td>\n",
       "    </tr>\n",
       "    <tr>\n",
       "      <th>2021-07-05</th>\n",
       "      <td>0.897730</td>\n",
       "      <td>2021-07-05</td>\n",
       "      <td>0.898945</td>\n",
       "      <td>-0.001215</td>\n",
       "      <td>0.001215</td>\n",
       "    </tr>\n",
       "    <tr>\n",
       "      <th>2021-07-12</th>\n",
       "      <td>0.911178</td>\n",
       "      <td>2021-07-12</td>\n",
       "      <td>0.897730</td>\n",
       "      <td>0.013448</td>\n",
       "      <td>0.013448</td>\n",
       "    </tr>\n",
       "    <tr>\n",
       "      <th>2021-07-19</th>\n",
       "      <td>0.909904</td>\n",
       "      <td>2021-07-19</td>\n",
       "      <td>0.911178</td>\n",
       "      <td>-0.001274</td>\n",
       "      <td>0.001274</td>\n",
       "    </tr>\n",
       "    <tr>\n",
       "      <th>2021-07-26</th>\n",
       "      <td>0.941878</td>\n",
       "      <td>2021-07-26</td>\n",
       "      <td>0.909904</td>\n",
       "      <td>0.031974</td>\n",
       "      <td>0.031974</td>\n",
       "    </tr>\n",
       "    <tr>\n",
       "      <th>2021-08-02</th>\n",
       "      <td>0.959128</td>\n",
       "      <td>2021-08-02</td>\n",
       "      <td>0.941878</td>\n",
       "      <td>0.017250</td>\n",
       "      <td>0.017250</td>\n",
       "    </tr>\n",
       "    <tr>\n",
       "      <th>2021-08-09</th>\n",
       "      <td>0.985804</td>\n",
       "      <td>2021-08-09</td>\n",
       "      <td>0.959128</td>\n",
       "      <td>0.026676</td>\n",
       "      <td>0.026676</td>\n",
       "    </tr>\n",
       "    <tr>\n",
       "      <th>2021-08-16</th>\n",
       "      <td>0.980204</td>\n",
       "      <td>2021-08-16</td>\n",
       "      <td>0.985804</td>\n",
       "      <td>-0.005600</td>\n",
       "      <td>0.005600</td>\n",
       "    </tr>\n",
       "    <tr>\n",
       "      <th>2021-08-23</th>\n",
       "      <td>0.963007</td>\n",
       "      <td>2021-08-23</td>\n",
       "      <td>0.980204</td>\n",
       "      <td>-0.017197</td>\n",
       "      <td>0.017197</td>\n",
       "    </tr>\n",
       "    <tr>\n",
       "      <th>2021-08-30</th>\n",
       "      <td>0.952893</td>\n",
       "      <td>2021-08-30</td>\n",
       "      <td>0.963007</td>\n",
       "      <td>-0.010114</td>\n",
       "      <td>0.010114</td>\n",
       "    </tr>\n",
       "    <tr>\n",
       "      <th>2021-09-06</th>\n",
       "      <td>0.965882</td>\n",
       "      <td>2021-09-06</td>\n",
       "      <td>0.952893</td>\n",
       "      <td>0.012988</td>\n",
       "      <td>0.012988</td>\n",
       "    </tr>\n",
       "    <tr>\n",
       "      <th>2021-09-13</th>\n",
       "      <td>0.949933</td>\n",
       "      <td>2021-09-13</td>\n",
       "      <td>0.965882</td>\n",
       "      <td>-0.015949</td>\n",
       "      <td>0.015949</td>\n",
       "    </tr>\n",
       "    <tr>\n",
       "      <th>2021-09-20</th>\n",
       "      <td>0.961699</td>\n",
       "      <td>2021-09-20</td>\n",
       "      <td>0.949933</td>\n",
       "      <td>0.011766</td>\n",
       "      <td>0.011766</td>\n",
       "    </tr>\n",
       "    <tr>\n",
       "      <th>2021-09-27</th>\n",
       "      <td>0.996421</td>\n",
       "      <td>2021-09-27</td>\n",
       "      <td>0.961699</td>\n",
       "      <td>0.034722</td>\n",
       "      <td>0.034722</td>\n",
       "    </tr>\n",
       "  </tbody>\n",
       "</table>\n",
       "</div>"
      ],
      "text/plain": [
       "            szn_estimate        date  szn_estimate_lag1  szn_change  \\\n",
       "date                                                                  \n",
       "2021-06-07      0.906951  2021-06-07           0.910931   -0.003980   \n",
       "2021-06-14      0.908187  2021-06-14           0.906951    0.001237   \n",
       "2021-06-21      0.890173  2021-06-21           0.908187   -0.018014   \n",
       "2021-06-28      0.898945  2021-06-28           0.890173    0.008772   \n",
       "2021-07-05      0.897730  2021-07-05           0.898945   -0.001215   \n",
       "2021-07-12      0.911178  2021-07-12           0.897730    0.013448   \n",
       "2021-07-19      0.909904  2021-07-19           0.911178   -0.001274   \n",
       "2021-07-26      0.941878  2021-07-26           0.909904    0.031974   \n",
       "2021-08-02      0.959128  2021-08-02           0.941878    0.017250   \n",
       "2021-08-09      0.985804  2021-08-09           0.959128    0.026676   \n",
       "2021-08-16      0.980204  2021-08-16           0.985804   -0.005600   \n",
       "2021-08-23      0.963007  2021-08-23           0.980204   -0.017197   \n",
       "2021-08-30      0.952893  2021-08-30           0.963007   -0.010114   \n",
       "2021-09-06      0.965882  2021-09-06           0.952893    0.012988   \n",
       "2021-09-13      0.949933  2021-09-13           0.965882   -0.015949   \n",
       "2021-09-20      0.961699  2021-09-20           0.949933    0.011766   \n",
       "2021-09-27      0.996421  2021-09-27           0.961699    0.034722   \n",
       "\n",
       "            szn_change_abs  \n",
       "date                        \n",
       "2021-06-07        0.003980  \n",
       "2021-06-14        0.001237  \n",
       "2021-06-21        0.018014  \n",
       "2021-06-28        0.008772  \n",
       "2021-07-05        0.001215  \n",
       "2021-07-12        0.013448  \n",
       "2021-07-19        0.001274  \n",
       "2021-07-26        0.031974  \n",
       "2021-08-02        0.017250  \n",
       "2021-08-09        0.026676  \n",
       "2021-08-16        0.005600  \n",
       "2021-08-23        0.017197  \n",
       "2021-08-30        0.010114  \n",
       "2021-09-06        0.012988  \n",
       "2021-09-13        0.015949  \n",
       "2021-09-20        0.011766  \n",
       "2021-09-27        0.034722  "
      ]
     },
     "execution_count": 74,
     "metadata": {},
     "output_type": "execute_result"
    }
   ],
   "source": [
    "szn_estimates_w_dates.loc[(szn_estimates_w_dates.date >= date(2021,6,1))\n",
    "                          & (szn_estimates_w_dates.date <= date(2021,10,1))]"
   ]
  },
  {
   "cell_type": "code",
   "execution_count": 784,
   "id": "5228941c",
   "metadata": {
    "collapsed": true
   },
   "outputs": [
    {
     "data": {
      "text/html": [
       "<div>\n",
       "<style scoped>\n",
       "    .dataframe tbody tr th:only-of-type {\n",
       "        vertical-align: middle;\n",
       "    }\n",
       "\n",
       "    .dataframe tbody tr th {\n",
       "        vertical-align: top;\n",
       "    }\n",
       "\n",
       "    .dataframe thead th {\n",
       "        text-align: right;\n",
       "    }\n",
       "</style>\n",
       "<table border=\"1\" class=\"dataframe\">\n",
       "  <thead>\n",
       "    <tr style=\"text-align: right;\">\n",
       "      <th></th>\n",
       "      <th>szn_estimate</th>\n",
       "      <th>date</th>\n",
       "      <th>szn_estimate_lag1</th>\n",
       "      <th>szn_change</th>\n",
       "      <th>szn_change_abs</th>\n",
       "    </tr>\n",
       "    <tr>\n",
       "      <th>date</th>\n",
       "      <th></th>\n",
       "      <th></th>\n",
       "      <th></th>\n",
       "      <th></th>\n",
       "      <th></th>\n",
       "    </tr>\n",
       "  </thead>\n",
       "  <tbody>\n",
       "    <tr>\n",
       "      <th>2018-05-21</th>\n",
       "      <td>1.201213</td>\n",
       "      <td>2018-05-21</td>\n",
       "      <td>1.005496</td>\n",
       "      <td>0.195716</td>\n",
       "      <td>0.195716</td>\n",
       "    </tr>\n",
       "    <tr>\n",
       "      <th>2018-05-28</th>\n",
       "      <td>0.911555</td>\n",
       "      <td>2018-05-28</td>\n",
       "      <td>1.201213</td>\n",
       "      <td>-0.289658</td>\n",
       "      <td>0.289658</td>\n",
       "    </tr>\n",
       "    <tr>\n",
       "      <th>2018-06-18</th>\n",
       "      <td>1.000978</td>\n",
       "      <td>2018-06-18</td>\n",
       "      <td>0.869514</td>\n",
       "      <td>0.131464</td>\n",
       "      <td>0.131464</td>\n",
       "    </tr>\n",
       "    <tr>\n",
       "      <th>2018-06-25</th>\n",
       "      <td>1.105119</td>\n",
       "      <td>2018-06-25</td>\n",
       "      <td>1.000978</td>\n",
       "      <td>0.104141</td>\n",
       "      <td>0.104141</td>\n",
       "    </tr>\n",
       "    <tr>\n",
       "      <th>2018-07-09</th>\n",
       "      <td>0.894454</td>\n",
       "      <td>2018-07-09</td>\n",
       "      <td>1.099729</td>\n",
       "      <td>-0.205274</td>\n",
       "      <td>0.205274</td>\n",
       "    </tr>\n",
       "    <tr>\n",
       "      <th>...</th>\n",
       "      <td>...</td>\n",
       "      <td>...</td>\n",
       "      <td>...</td>\n",
       "      <td>...</td>\n",
       "      <td>...</td>\n",
       "    </tr>\n",
       "    <tr>\n",
       "      <th>2022-02-14</th>\n",
       "      <td>0.346524</td>\n",
       "      <td>2022-02-14</td>\n",
       "      <td>0.532629</td>\n",
       "      <td>-0.186105</td>\n",
       "      <td>0.186105</td>\n",
       "    </tr>\n",
       "    <tr>\n",
       "      <th>2022-02-28</th>\n",
       "      <td>0.613922</td>\n",
       "      <td>2022-02-28</td>\n",
       "      <td>0.431329</td>\n",
       "      <td>0.182593</td>\n",
       "      <td>0.182593</td>\n",
       "    </tr>\n",
       "    <tr>\n",
       "      <th>2022-03-07</th>\n",
       "      <td>1.074131</td>\n",
       "      <td>2022-03-07</td>\n",
       "      <td>0.613922</td>\n",
       "      <td>0.460209</td>\n",
       "      <td>0.460209</td>\n",
       "    </tr>\n",
       "    <tr>\n",
       "      <th>2022-03-14</th>\n",
       "      <td>4.615958</td>\n",
       "      <td>2022-03-14</td>\n",
       "      <td>1.074131</td>\n",
       "      <td>3.541827</td>\n",
       "      <td>3.541827</td>\n",
       "    </tr>\n",
       "    <tr>\n",
       "      <th>2022-03-21</th>\n",
       "      <td>-2.236777</td>\n",
       "      <td>2022-03-21</td>\n",
       "      <td>4.615958</td>\n",
       "      <td>-6.852736</td>\n",
       "      <td>6.852736</td>\n",
       "    </tr>\n",
       "  </tbody>\n",
       "</table>\n",
       "<p>67 rows × 5 columns</p>\n",
       "</div>"
      ],
      "text/plain": [
       "            szn_estimate        date  szn_estimate_lag1  szn_change  \\\n",
       "date                                                                  \n",
       "2018-05-21      1.201213  2018-05-21           1.005496    0.195716   \n",
       "2018-05-28      0.911555  2018-05-28           1.201213   -0.289658   \n",
       "2018-06-18      1.000978  2018-06-18           0.869514    0.131464   \n",
       "2018-06-25      1.105119  2018-06-25           1.000978    0.104141   \n",
       "2018-07-09      0.894454  2018-07-09           1.099729   -0.205274   \n",
       "...                  ...         ...                ...         ...   \n",
       "2022-02-14      0.346524  2022-02-14           0.532629   -0.186105   \n",
       "2022-02-28      0.613922  2022-02-28           0.431329    0.182593   \n",
       "2022-03-07      1.074131  2022-03-07           0.613922    0.460209   \n",
       "2022-03-14      4.615958  2022-03-14           1.074131    3.541827   \n",
       "2022-03-21     -2.236777  2022-03-21           4.615958   -6.852736   \n",
       "\n",
       "            szn_change_abs  \n",
       "date                        \n",
       "2018-05-21        0.195716  \n",
       "2018-05-28        0.289658  \n",
       "2018-06-18        0.131464  \n",
       "2018-06-25        0.104141  \n",
       "2018-07-09        0.205274  \n",
       "...                    ...  \n",
       "2022-02-14        0.186105  \n",
       "2022-02-28        0.182593  \n",
       "2022-03-07        0.460209  \n",
       "2022-03-14        3.541827  \n",
       "2022-03-21        6.852736  \n",
       "\n",
       "[67 rows x 5 columns]"
      ]
     },
     "execution_count": 784,
     "metadata": {},
     "output_type": "execute_result"
    }
   ],
   "source": [
    "szn_estimates_w_dates.loc[szn_estimates_w_dates.szn_change_abs > .1]"
   ]
  },
  {
   "cell_type": "code",
   "execution_count": 75,
   "id": "c7738f10",
   "metadata": {},
   "outputs": [
    {
     "data": {
      "image/png": "[encoded data removed]",
      "text/plain": [
       "<Figure size 432x288 with 1 Axes>"
      ]
     },
     "metadata": {},
     "output_type": "display_data"
    }
   ],
   "source": [
    "ax = szn_estimates_w_dates.szn_estimate.plot()\n",
    "ax.xaxis.set_tick_params(rotation=45)"
   ]
  },
  {
   "cell_type": "code",
   "execution_count": 45,
   "id": "62d76a0c",
   "metadata": {},
   "outputs": [
    {
     "data": {
      "text/plain": [
       "[<matplotlib.lines.Line2D at 0x16fd4e7c0>]"
      ]
     },
     "execution_count": 45,
     "metadata": {},
     "output_type": "execute_result"
    },
    {
     "data": {
      "image/png": "[encoded data removed]",
      "text/plain": [
       "<Figure size 432x288 with 1 Axes>"
      ]
     },
     "metadata": {},
     "output_type": "display_data"
    }
   ],
   "source": [
    "plt.plot(levels_f.get_test_value())"
   ]
  },
  {
   "cell_type": "code",
   "execution_count": 46,
   "id": "6866541b",
   "metadata": {},
   "outputs": [
    {
     "data": {
      "text/plain": [
       "[<matplotlib.lines.Line2D at 0x1758de790>]"
      ]
     },
     "execution_count": 46,
     "metadata": {},
     "output_type": "execute_result"
    },
    {
     "data": {
      "image/png": "[encoded data removed]",
      "text/plain": [
       "<Figure size 432x288 with 1 Axes>"
      ]
     },
     "metadata": {},
     "output_type": "display_data"
    }
   ],
   "source": [
    "plt.plot(trends_f.get_test_value())"
   ]
  },
  {
   "cell_type": "code",
   "execution_count": 47,
   "id": "a3761278",
   "metadata": {},
   "outputs": [
    {
     "data": {
      "text/plain": [
       "[<matplotlib.lines.Line2D at 0x172777c70>]"
      ]
     },
     "execution_count": 47,
     "metadata": {},
     "output_type": "execute_result"
    },
    {
     "data": {
      "image/png": "[encoded data removed]",
      "text/plain": [
       "<Figure size 432x288 with 1 Axes>"
      ]
     },
     "metadata": {},
     "output_type": "display_data"
    }
   ],
   "source": [
    "plt.plot(seasons_f.get_test_value())"
   ]
  },
  {
   "cell_type": "code",
   "execution_count": 1198,
   "id": "de49714d",
   "metadata": {},
   "outputs": [],
   "source": [
    "ss = pd.DataFrame(zip(zdf.iloc[1:].date, seasons_f.get_test_value()), columns=['date', 'season_effect'])\n",
    "ss = ss.set_index(ss.date)"
   ]
  },
  {
   "cell_type": "code",
   "execution_count": 1200,
   "id": "c8316a00",
   "metadata": {},
   "outputs": [
    {
     "data": {
      "image/png": "[encoded data removed]",
      "text/plain": [
       "<Figure size 432x288 with 1 Axes>"
      ]
     },
     "metadata": {},
     "output_type": "display_data"
    }
   ],
   "source": [
    "ax = ss.season_effect.plot()\n",
    "ax.xaxis.set_tick_params(rotation=45)"
   ]
  },
  {
   "cell_type": "code",
   "execution_count": 1246,
   "id": "39068084",
   "metadata": {},
   "outputs": [
    {
     "data": {
      "text/plain": [
       "(90, 23)"
      ]
     },
     "execution_count": 1246,
     "metadata": {},
     "output_type": "execute_result"
    }
   ],
   "source": [
    "res1['pred_for_date'] = res1.pred_for_date.apply(lambda x: x.date())\n",
    "\n",
    "f1 = res1.merge(df, left_on=['zone_id', 'pred_for_date'], right_on=['zone_id', 'date'])\n",
    "f1 = f1.set_index(f1.pred_for_date)\n",
    "f1.shape"
   ]
  },
  {
   "cell_type": "code",
   "execution_count": 413,
   "id": "9de2deac",
   "metadata": {},
   "outputs": [],
   "source": [
    "f1['error_new'] = f1.pred - f1.total_demand_new\n",
    "f1['pct_error_new'] = f1.error_new / f1.total_demand_new\n",
    "f1['abs_error_new'] = f1.error_new.abs()\n",
    "f1['abs_pct_error_new'] = f1.pct_error_new.abs()\n",
    "\n",
    "f1['error_old'] = f1.total_demand_new_lag3 - f1.total_demand_new\n",
    "f1['pct_error_old'] = f1.error_old / f1.total_demand_new\n",
    "f1['abs_error_old'] = f1.error_old.abs()\n",
    "f1['abs_pct_error_old'] = f1.pct_error_old.abs()"
   ]
  },
  {
   "cell_type": "code",
   "execution_count": 1135,
   "id": "9fc721b6",
   "metadata": {},
   "outputs": [
    {
     "data": {
      "text/html": [
       "<div>\n",
       "<style scoped>\n",
       "    .dataframe tbody tr th:only-of-type {\n",
       "        vertical-align: middle;\n",
       "    }\n",
       "\n",
       "    .dataframe tbody tr th {\n",
       "        vertical-align: top;\n",
       "    }\n",
       "\n",
       "    .dataframe thead th {\n",
       "        text-align: right;\n",
       "    }\n",
       "</style>\n",
       "<table border=\"1\" class=\"dataframe\">\n",
       "  <thead>\n",
       "    <tr style=\"text-align: right;\">\n",
       "      <th></th>\n",
       "      <th>abs_pct_error_new</th>\n",
       "      <th>abs_pct_error_old</th>\n",
       "    </tr>\n",
       "  </thead>\n",
       "  <tbody>\n",
       "    <tr>\n",
       "      <th>count</th>\n",
       "      <td>90.000000</td>\n",
       "      <td>90.000000</td>\n",
       "    </tr>\n",
       "    <tr>\n",
       "      <th>mean</th>\n",
       "      <td>0.050748</td>\n",
       "      <td>0.059406</td>\n",
       "    </tr>\n",
       "    <tr>\n",
       "      <th>std</th>\n",
       "      <td>0.046843</td>\n",
       "      <td>0.035605</td>\n",
       "    </tr>\n",
       "    <tr>\n",
       "      <th>min</th>\n",
       "      <td>0.002699</td>\n",
       "      <td>0.003052</td>\n",
       "    </tr>\n",
       "    <tr>\n",
       "      <th>25%</th>\n",
       "      <td>0.019745</td>\n",
       "      <td>0.031113</td>\n",
       "    </tr>\n",
       "    <tr>\n",
       "      <th>50%</th>\n",
       "      <td>0.037734</td>\n",
       "      <td>0.056606</td>\n",
       "    </tr>\n",
       "    <tr>\n",
       "      <th>75%</th>\n",
       "      <td>0.068492</td>\n",
       "      <td>0.083699</td>\n",
       "    </tr>\n",
       "    <tr>\n",
       "      <th>max</th>\n",
       "      <td>0.286628</td>\n",
       "      <td>0.178745</td>\n",
       "    </tr>\n",
       "  </tbody>\n",
       "</table>\n",
       "</div>"
      ],
      "text/plain": [
       "       abs_pct_error_new  abs_pct_error_old\n",
       "count          90.000000          90.000000\n",
       "mean            0.050748           0.059406\n",
       "std             0.046843           0.035605\n",
       "min             0.002699           0.003052\n",
       "25%             0.019745           0.031113\n",
       "50%             0.037734           0.056606\n",
       "75%             0.068492           0.083699\n",
       "max             0.286628           0.178745"
      ]
     },
     "execution_count": 1135,
     "metadata": {},
     "output_type": "execute_result"
    }
   ],
   "source": [
    "all_backtests.loc[all_backtests.pred_for_date.isin(f4_26_v3.pred_for_date)][['abs_pct_error_new', 'abs_pct_error_old']].describe()"
   ]
  },
  {
   "cell_type": "code",
   "execution_count": 1015,
   "id": "6024b81b",
   "metadata": {},
   "outputs": [
    {
     "data": {
      "text/plain": [
       "array([datetime.date(2021, 6, 21), datetime.date(2021, 5, 31),\n",
       "       datetime.date(2021, 5, 10), datetime.date(2021, 4, 19),\n",
       "       datetime.date(2020, 1, 27), datetime.date(2020, 1, 6),\n",
       "       datetime.date(2019, 12, 16)], dtype=object)"
      ]
     },
     "execution_count": 1015,
     "metadata": {},
     "output_type": "execute_result"
    }
   ],
   "source": [
    "all_backtests.pred_for_date.unique()"
   ]
  },
  {
   "cell_type": "code",
   "execution_count": 943,
   "id": "8f580b82",
   "metadata": {},
   "outputs": [],
   "source": [
    "### combine results from various backtests\n",
    "\n",
    "# all_backtests = pd.concat([f4_1p, f4_4, f4_3, f4_2])\n",
    "# all_backtests.to_csv('./all_backtests_7_13.csv', index=None)"
   ]
  },
  {
   "cell_type": "code",
   "execution_count": 956,
   "id": "e27ac694",
   "metadata": {},
   "outputs": [],
   "source": [
    "all_backtests['error_new'] = all_backtests.pred - all_backtests.total_demand_new\n",
    "all_backtests['pct_error_new'] = all_backtests.error_new / all_backtests.total_demand_new\n",
    "all_backtests['abs_error_new'] = all_backtests.error_new.abs()\n",
    "all_backtests['abs_pct_error_new'] = all_backtests.pct_error_new.abs()\n",
    "\n",
    "all_backtests['error_old'] = all_backtests.total_demand_new_lag3 - all_backtests.total_demand_new\n",
    "all_backtests['pct_error_old'] = all_backtests.error_old / all_backtests.total_demand_new\n",
    "all_backtests['abs_error_old'] = all_backtests.error_old.abs()\n",
    "all_backtests['abs_pct_error_old'] = all_backtests.pct_error_old.abs()"
   ]
  },
  {
   "cell_type": "code",
   "execution_count": 1020,
   "id": "9e5f3094",
   "metadata": {},
   "outputs": [
    {
     "data": {
      "text/plain": [
       "datetime.date(2021, 6, 21)"
      ]
     },
     "execution_count": 1020,
     "metadata": {},
     "output_type": "execute_result"
    }
   ],
   "source": [
    "all_backtests.pred_for_date.max()"
   ]
  },
  {
   "cell_type": "code",
   "execution_count": 1211,
   "id": "6e5169af",
   "metadata": {},
   "outputs": [],
   "source": [
    "all_backtests['abs_pct_error_new'] = 100*all_backtests['abs_pct_error_new']"
   ]
  },
  {
   "cell_type": "code",
   "execution_count": 1212,
   "id": "f90e65f2",
   "metadata": {},
   "outputs": [
    {
     "data": {
      "text/html": [
       "<div>\n",
       "<style scoped>\n",
       "    .dataframe tbody tr th:only-of-type {\n",
       "        vertical-align: middle;\n",
       "    }\n",
       "\n",
       "    .dataframe tbody tr th {\n",
       "        vertical-align: top;\n",
       "    }\n",
       "\n",
       "    .dataframe thead th {\n",
       "        text-align: right;\n",
       "    }\n",
       "</style>\n",
       "<table border=\"1\" class=\"dataframe\">\n",
       "  <thead>\n",
       "    <tr style=\"text-align: right;\">\n",
       "      <th></th>\n",
       "      <th>abs_pct_error_new</th>\n",
       "      <th>naive_abs_pct_error</th>\n",
       "    </tr>\n",
       "  </thead>\n",
       "  <tbody>\n",
       "    <tr>\n",
       "      <th>count</th>\n",
       "      <td>630.000000</td>\n",
       "      <td>630.000000</td>\n",
       "    </tr>\n",
       "    <tr>\n",
       "      <th>mean</th>\n",
       "      <td>5.519759</td>\n",
       "      <td>6.129870</td>\n",
       "    </tr>\n",
       "    <tr>\n",
       "      <th>std</th>\n",
       "      <td>5.192718</td>\n",
       "      <td>5.146579</td>\n",
       "    </tr>\n",
       "    <tr>\n",
       "      <th>min</th>\n",
       "      <td>0.016198</td>\n",
       "      <td>0.018135</td>\n",
       "    </tr>\n",
       "    <tr>\n",
       "      <th>25%</th>\n",
       "      <td>1.900322</td>\n",
       "      <td>2.195949</td>\n",
       "    </tr>\n",
       "    <tr>\n",
       "      <th>50%</th>\n",
       "      <td>3.808896</td>\n",
       "      <td>5.137380</td>\n",
       "    </tr>\n",
       "    <tr>\n",
       "      <th>75%</th>\n",
       "      <td>7.579060</td>\n",
       "      <td>8.283358</td>\n",
       "    </tr>\n",
       "    <tr>\n",
       "      <th>max</th>\n",
       "      <td>30.299919</td>\n",
       "      <td>30.479991</td>\n",
       "    </tr>\n",
       "  </tbody>\n",
       "</table>\n",
       "</div>"
      ],
      "text/plain": [
       "       abs_pct_error_new  naive_abs_pct_error\n",
       "count         630.000000           630.000000\n",
       "mean            5.519759             6.129870\n",
       "std             5.192718             5.146579\n",
       "min             0.016198             0.018135\n",
       "25%             1.900322             2.195949\n",
       "50%             3.808896             5.137380\n",
       "75%             7.579060             8.283358\n",
       "max            30.299919            30.479991"
      ]
     },
     "execution_count": 1212,
     "metadata": {},
     "output_type": "execute_result"
    }
   ],
   "source": [
    "all_backtests[['abs_pct_error_new', 'naive_abs_pct_error']].describe()"
   ]
  },
  {
   "cell_type": "code",
   "execution_count": 950,
   "id": "c7919104",
   "metadata": {},
   "outputs": [],
   "source": [
    "### clip forecasts\n",
    "\n",
    "max_pct_change = .15\n",
    "all_backtests['max_pred'] = (1+max_pct_change) * all_backtests.total_demand_new_lag3\n",
    "all_backtests['min_pred'] = (1-max_pct_change) * all_backtests.total_demand_new_lag3\n",
    "\n",
    "all_backtests['pred2_prep'] = np.maximum(all_backtests.min_pred, all_backtests.pred)\n",
    "all_backtests['pred2'] = np.minimum(all_backtests.max_pred, all_backtests.pred2_prep)\n",
    "\n",
    "all_backtests['error_new2'] = all_backtests.pred2 - all_backtests.total_demand_new\n",
    "all_backtests['pct_error_new2'] = all_backtests.error_new2 / all_backtests.total_demand_new\n",
    "all_backtests['abs_error_new2'] = all_backtests.error_new2.abs()\n",
    "all_backtests['abs_pct_error_new2'] = all_backtests.pct_error_new2.abs()"
   ]
  },
  {
   "cell_type": "code",
   "execution_count": 951,
   "id": "05f01271",
   "metadata": {
    "collapsed": true
   },
   "outputs": [
    {
     "data": {
      "text/html": [
       "<div>\n",
       "<style scoped>\n",
       "    .dataframe tbody tr th:only-of-type {\n",
       "        vertical-align: middle;\n",
       "    }\n",
       "\n",
       "    .dataframe tbody tr th {\n",
       "        vertical-align: top;\n",
       "    }\n",
       "\n",
       "    .dataframe thead th {\n",
       "        text-align: right;\n",
       "    }\n",
       "</style>\n",
       "<table border=\"1\" class=\"dataframe\">\n",
       "  <thead>\n",
       "    <tr style=\"text-align: right;\">\n",
       "      <th></th>\n",
       "      <th>abs_pct_error_new</th>\n",
       "      <th>abs_pct_error_new2</th>\n",
       "      <th>abs_pct_error_old</th>\n",
       "    </tr>\n",
       "  </thead>\n",
       "  <tbody>\n",
       "    <tr>\n",
       "      <th>count</th>\n",
       "      <td>560.000000</td>\n",
       "      <td>630.000000</td>\n",
       "      <td>560.000000</td>\n",
       "    </tr>\n",
       "    <tr>\n",
       "      <th>mean</th>\n",
       "      <td>0.054498</td>\n",
       "      <td>0.054840</td>\n",
       "      <td>0.051588</td>\n",
       "    </tr>\n",
       "    <tr>\n",
       "      <th>std</th>\n",
       "      <td>0.051463</td>\n",
       "      <td>0.051206</td>\n",
       "      <td>0.044787</td>\n",
       "    </tr>\n",
       "    <tr>\n",
       "      <th>min</th>\n",
       "      <td>0.000162</td>\n",
       "      <td>0.000162</td>\n",
       "      <td>0.000138</td>\n",
       "    </tr>\n",
       "    <tr>\n",
       "      <th>25%</th>\n",
       "      <td>0.018577</td>\n",
       "      <td>0.018928</td>\n",
       "      <td>0.019886</td>\n",
       "    </tr>\n",
       "    <tr>\n",
       "      <th>50%</th>\n",
       "      <td>0.037787</td>\n",
       "      <td>0.038132</td>\n",
       "      <td>0.041644</td>\n",
       "    </tr>\n",
       "    <tr>\n",
       "      <th>75%</th>\n",
       "      <td>0.075428</td>\n",
       "      <td>0.075687</td>\n",
       "      <td>0.071096</td>\n",
       "    </tr>\n",
       "    <tr>\n",
       "      <th>max</th>\n",
       "      <td>0.302999</td>\n",
       "      <td>0.302999</td>\n",
       "      <td>0.310027</td>\n",
       "    </tr>\n",
       "  </tbody>\n",
       "</table>\n",
       "</div>"
      ],
      "text/plain": [
       "       abs_pct_error_new  abs_pct_error_new2  abs_pct_error_old\n",
       "count         560.000000          630.000000         560.000000\n",
       "mean            0.054498            0.054840           0.051588\n",
       "std             0.051463            0.051206           0.044787\n",
       "min             0.000162            0.000162           0.000138\n",
       "25%             0.018577            0.018928           0.019886\n",
       "50%             0.037787            0.038132           0.041644\n",
       "75%             0.075428            0.075687           0.071096\n",
       "max             0.302999            0.302999           0.310027"
      ]
     },
     "execution_count": 951,
     "metadata": {},
     "output_type": "execute_result"
    }
   ],
   "source": [
    "all_backtests[['abs_pct_error_new', 'abs_pct_error_new2', 'abs_pct_error_old']].describe()"
   ]
  },
  {
   "cell_type": "code",
   "execution_count": 948,
   "id": "c07a8eb4",
   "metadata": {},
   "outputs": [
    {
     "data": {
      "text/plain": [
       "array([  18,  307,  438,  266,   90,  541,  272,  692,  475,  348,  273,\n",
       "        178,  495,  694,  190,  707,  161,  521,  452,  489,  785,  942,\n",
       "        972,  861,  973,  943,  975,  981,  974, 1002,  983, 1001,  839,\n",
       "        714,    1,  783,  989,  787,   79,  945,  169,   37,  186,   76,\n",
       "        620,  441,   32,  184,  477,  357,  530,  616,  167,  617,  437,\n",
       "         38,  166, 1029,  428,  853,   43,   16,  982,  713,  988,  262,\n",
       "        840,  144,  709,  181,  204,  440,  225,  245,  185,  104,  182,\n",
       "        103,  439,   50,  946,  980,   27,  979,  183,  786,  131,   33,\n",
       "        392,   87])"
      ]
     },
     "execution_count": 948,
     "metadata": {},
     "output_type": "execute_result"
    }
   ],
   "source": [
    "all_backtests.zone_id.unique()"
   ]
  },
  {
   "cell_type": "code",
   "execution_count": 949,
   "id": "82eff140",
   "metadata": {},
   "outputs": [
    {
     "data": {
      "text/plain": [
       "90"
      ]
     },
     "execution_count": 949,
     "metadata": {},
     "output_type": "execute_result"
    }
   ],
   "source": [
    "all_backtests.zone_id.nunique()"
   ]
  },
  {
   "cell_type": "code",
   "execution_count": 427,
   "id": "9458af89",
   "metadata": {},
   "outputs": [
    {
     "data": {
      "text/html": [
       "<div>\n",
       "<style scoped>\n",
       "    .dataframe tbody tr th:only-of-type {\n",
       "        vertical-align: middle;\n",
       "    }\n",
       "\n",
       "    .dataframe tbody tr th {\n",
       "        vertical-align: top;\n",
       "    }\n",
       "\n",
       "    .dataframe thead th {\n",
       "        text-align: right;\n",
       "    }\n",
       "</style>\n",
       "<table border=\"1\" class=\"dataframe\">\n",
       "  <thead>\n",
       "    <tr style=\"text-align: right;\">\n",
       "      <th></th>\n",
       "      <th>zone_id</th>\n",
       "      <th>abs_pct_error_new_mean</th>\n",
       "      <th>abs_pct_error_new_median</th>\n",
       "      <th>abs_pct_error_old_mean</th>\n",
       "      <th>abs_pct_error_old_median</th>\n",
       "      <th>mean_diff</th>\n",
       "      <th>median_diff</th>\n",
       "    </tr>\n",
       "  </thead>\n",
       "  <tbody>\n",
       "    <tr>\n",
       "      <th>0</th>\n",
       "      <td>1</td>\n",
       "      <td>0.065522</td>\n",
       "      <td>0.028191</td>\n",
       "      <td>0.075289</td>\n",
       "      <td>0.042111</td>\n",
       "      <td>-0.009767</td>\n",
       "      <td>-0.013920</td>\n",
       "    </tr>\n",
       "    <tr>\n",
       "      <th>1</th>\n",
       "      <td>79</td>\n",
       "      <td>0.035838</td>\n",
       "      <td>0.040102</td>\n",
       "      <td>0.042291</td>\n",
       "      <td>0.035288</td>\n",
       "      <td>-0.006454</td>\n",
       "      <td>0.004814</td>\n",
       "    </tr>\n",
       "  </tbody>\n",
       "</table>\n",
       "</div>"
      ],
      "text/plain": [
       "   zone_id  abs_pct_error_new_mean  abs_pct_error_new_median  \\\n",
       "0        1                0.065522                  0.028191   \n",
       "1       79                0.035838                  0.040102   \n",
       "\n",
       "   abs_pct_error_old_mean  abs_pct_error_old_median  mean_diff  median_diff  \n",
       "0                0.075289                  0.042111  -0.009767    -0.013920  \n",
       "1                0.042291                  0.035288  -0.006454     0.004814  "
      ]
     },
     "execution_count": 427,
     "metadata": {},
     "output_type": "execute_result"
    }
   ],
   "source": [
    "### zone performance\n",
    "\n",
    "zp = f1.groupby('zone_id').agg({'abs_pct_error_new': ['mean', 'median'], 'abs_pct_error_old': ['mean', 'median']})\n",
    "zp.columns = ['_'.join(col).strip() for col in zp.columns.values]\n",
    "\n",
    "zp['mean_diff'] = zp.abs_pct_error_new_mean - zp.abs_pct_error_old_mean\n",
    "zp['median_diff'] = zp.abs_pct_error_new_median - zp.abs_pct_error_old_median\n",
    "\n",
    "zp.reset_index(inplace=True)\n",
    "\n",
    "zp.head(2)"
   ]
  },
  {
   "cell_type": "code",
   "execution_count": 1075,
   "id": "d567767b",
   "metadata": {
    "collapsed": true
   },
   "outputs": [
    {
     "data": {
      "text/html": [
       "<div>\n",
       "<style scoped>\n",
       "    .dataframe tbody tr th:only-of-type {\n",
       "        vertical-align: middle;\n",
       "    }\n",
       "\n",
       "    .dataframe tbody tr th {\n",
       "        vertical-align: top;\n",
       "    }\n",
       "\n",
       "    .dataframe thead th {\n",
       "        text-align: right;\n",
       "    }\n",
       "</style>\n",
       "<table border=\"1\" class=\"dataframe\">\n",
       "  <thead>\n",
       "    <tr style=\"text-align: right;\">\n",
       "      <th></th>\n",
       "      <th>zone_id</th>\n",
       "      <th>abs_pct_error_new_mean</th>\n",
       "      <th>abs_pct_error_new_median</th>\n",
       "      <th>abs_pct_error_old_mean</th>\n",
       "      <th>abs_pct_error_old_median</th>\n",
       "      <th>mean_diff</th>\n",
       "      <th>median_diff</th>\n",
       "    </tr>\n",
       "  </thead>\n",
       "  <tbody>\n",
       "    <tr>\n",
       "      <th>4</th>\n",
       "      <td>32</td>\n",
       "      <td>0.079717</td>\n",
       "      <td>0.079717</td>\n",
       "      <td>0.185021</td>\n",
       "      <td>0.185021</td>\n",
       "      <td>-0.105303</td>\n",
       "      <td>-0.105303</td>\n",
       "    </tr>\n",
       "    <tr>\n",
       "      <th>3</th>\n",
       "      <td>27</td>\n",
       "      <td>0.066588</td>\n",
       "      <td>0.066588</td>\n",
       "      <td>0.154937</td>\n",
       "      <td>0.154937</td>\n",
       "      <td>-0.088348</td>\n",
       "      <td>-0.088348</td>\n",
       "    </tr>\n",
       "    <tr>\n",
       "      <th>47</th>\n",
       "      <td>452</td>\n",
       "      <td>0.014834</td>\n",
       "      <td>0.014834</td>\n",
       "      <td>0.099895</td>\n",
       "      <td>0.099895</td>\n",
       "      <td>-0.085061</td>\n",
       "      <td>-0.085061</td>\n",
       "    </tr>\n",
       "    <tr>\n",
       "      <th>1</th>\n",
       "      <td>16</td>\n",
       "      <td>0.017256</td>\n",
       "      <td>0.017256</td>\n",
       "      <td>0.098427</td>\n",
       "      <td>0.098427</td>\n",
       "      <td>-0.081171</td>\n",
       "      <td>-0.081171</td>\n",
       "    </tr>\n",
       "    <tr>\n",
       "      <th>86</th>\n",
       "      <td>989</td>\n",
       "      <td>0.006577</td>\n",
       "      <td>0.006577</td>\n",
       "      <td>0.082141</td>\n",
       "      <td>0.082141</td>\n",
       "      <td>-0.075564</td>\n",
       "      <td>-0.075564</td>\n",
       "    </tr>\n",
       "  </tbody>\n",
       "</table>\n",
       "</div>"
      ],
      "text/plain": [
       "    zone_id  abs_pct_error_new_mean  abs_pct_error_new_median  \\\n",
       "4        32                0.079717                  0.079717   \n",
       "3        27                0.066588                  0.066588   \n",
       "47      452                0.014834                  0.014834   \n",
       "1        16                0.017256                  0.017256   \n",
       "86      989                0.006577                  0.006577   \n",
       "\n",
       "    abs_pct_error_old_mean  abs_pct_error_old_median  mean_diff  median_diff  \n",
       "4                 0.185021                  0.185021  -0.105303    -0.105303  \n",
       "3                 0.154937                  0.154937  -0.088348    -0.088348  \n",
       "47                0.099895                  0.099895  -0.085061    -0.085061  \n",
       "1                 0.098427                  0.098427  -0.081171    -0.081171  \n",
       "86                0.082141                  0.082141  -0.075564    -0.075564  "
      ]
     },
     "execution_count": 1075,
     "metadata": {},
     "output_type": "execute_result"
    }
   ],
   "source": [
    "zp.sort_values('median_diff').head()"
   ]
  },
  {
   "cell_type": "code",
   "execution_count": null,
   "id": "c046f8bb",
   "metadata": {},
   "outputs": [],
   "source": [
    "# top 3"
   ]
  },
  {
   "cell_type": "code",
   "execution_count": null,
   "id": "89c311e4",
   "metadata": {},
   "outputs": [],
   "source": [
    "# 983 looking good, just extrapolating too much trend in recent period\n",
    "# maybe need a dampening parameter"
   ]
  },
  {
   "cell_type": "code",
   "execution_count": 1096,
   "id": "815b9373",
   "metadata": {},
   "outputs": [
    {
     "data": {
      "text/html": [
       "<div>\n",
       "<style scoped>\n",
       "    .dataframe tbody tr th:only-of-type {\n",
       "        vertical-align: middle;\n",
       "    }\n",
       "\n",
       "    .dataframe tbody tr th {\n",
       "        vertical-align: top;\n",
       "    }\n",
       "\n",
       "    .dataframe thead th {\n",
       "        text-align: right;\n",
       "    }\n",
       "</style>\n",
       "<table border=\"1\" class=\"dataframe\">\n",
       "  <thead>\n",
       "    <tr style=\"text-align: right;\">\n",
       "      <th></th>\n",
       "      <th>zone_id</th>\n",
       "      <th>smoothing_level</th>\n",
       "      <th>smoothing_trend</th>\n",
       "      <th>smoothing_season</th>\n",
       "    </tr>\n",
       "    <tr>\n",
       "      <th>pred_for_date</th>\n",
       "      <th></th>\n",
       "      <th></th>\n",
       "      <th></th>\n",
       "      <th></th>\n",
       "    </tr>\n",
       "  </thead>\n",
       "  <tbody>\n",
       "    <tr>\n",
       "      <th>2021-05-10</th>\n",
       "      <td>946</td>\n",
       "      <td>0.072141</td>\n",
       "      <td>0.998854</td>\n",
       "      <td>0.000005</td>\n",
       "    </tr>\n",
       "    <tr>\n",
       "      <th>2021-05-10</th>\n",
       "      <td>18</td>\n",
       "      <td>0.721577</td>\n",
       "      <td>0.010528</td>\n",
       "      <td>0.000047</td>\n",
       "    </tr>\n",
       "    <tr>\n",
       "      <th>2021-05-10</th>\n",
       "      <td>266</td>\n",
       "      <td>0.299178</td>\n",
       "      <td>0.071430</td>\n",
       "      <td>0.000027</td>\n",
       "    </tr>\n",
       "    <tr>\n",
       "      <th>2021-05-10</th>\n",
       "      <td>692</td>\n",
       "      <td>0.839284</td>\n",
       "      <td>0.075799</td>\n",
       "      <td>0.000234</td>\n",
       "    </tr>\n",
       "    <tr>\n",
       "      <th>2021-05-10</th>\n",
       "      <td>521</td>\n",
       "      <td>0.407648</td>\n",
       "      <td>0.065527</td>\n",
       "      <td>0.000083</td>\n",
       "    </tr>\n",
       "  </tbody>\n",
       "</table>\n",
       "</div>"
      ],
      "text/plain": [
       "               zone_id  smoothing_level  smoothing_trend  smoothing_season\n",
       "pred_for_date                                                             \n",
       "2021-05-10         946         0.072141         0.998854          0.000005\n",
       "2021-05-10          18         0.721577         0.010528          0.000047\n",
       "2021-05-10         266         0.299178         0.071430          0.000027\n",
       "2021-05-10         692         0.839284         0.075799          0.000234\n",
       "2021-05-10         521         0.407648         0.065527          0.000083"
      ]
     },
     "execution_count": 1096,
     "metadata": {},
     "output_type": "execute_result"
    }
   ],
   "source": [
    "f4_26.loc[f4_26.zone_id.isin(zp.sort_values('median_diff').tail().zone_id)][['zone_id', 'smoothing_level', 'smoothing_trend', 'smoothing_season']]"
   ]
  },
  {
   "cell_type": "code",
   "execution_count": 1104,
   "id": "584acbf1",
   "metadata": {},
   "outputs": [
    {
     "data": {
      "text/html": [
       "<div>\n",
       "<style scoped>\n",
       "    .dataframe tbody tr th:only-of-type {\n",
       "        vertical-align: middle;\n",
       "    }\n",
       "\n",
       "    .dataframe tbody tr th {\n",
       "        vertical-align: top;\n",
       "    }\n",
       "\n",
       "    .dataframe thead th {\n",
       "        text-align: right;\n",
       "    }\n",
       "</style>\n",
       "<table border=\"1\" class=\"dataframe\">\n",
       "  <thead>\n",
       "    <tr style=\"text-align: right;\">\n",
       "      <th></th>\n",
       "      <th>date</th>\n",
       "      <th>total_demand_new</th>\n",
       "      <th>pred</th>\n",
       "      <th>total_demand_new_lag3</th>\n",
       "    </tr>\n",
       "    <tr>\n",
       "      <th>pred_for_date</th>\n",
       "      <th></th>\n",
       "      <th></th>\n",
       "      <th></th>\n",
       "      <th></th>\n",
       "    </tr>\n",
       "  </thead>\n",
       "  <tbody>\n",
       "    <tr>\n",
       "      <th>2021-05-10</th>\n",
       "      <td>2021-05-10</td>\n",
       "      <td>1464.051703</td>\n",
       "      <td>1872.358455</td>\n",
       "      <td>1642.712088</td>\n",
       "    </tr>\n",
       "  </tbody>\n",
       "</table>\n",
       "</div>"
      ],
      "text/plain": [
       "                     date  total_demand_new         pred  \\\n",
       "pred_for_date                                              \n",
       "2021-05-10     2021-05-10       1464.051703  1872.358455   \n",
       "\n",
       "               total_demand_new_lag3  \n",
       "pred_for_date                         \n",
       "2021-05-10               1642.712088  "
      ]
     },
     "execution_count": 1104,
     "metadata": {},
     "output_type": "execute_result"
    }
   ],
   "source": [
    "f4_26.loc[f4_26.zone_id == 692][['date', 'total_demand_new', 'pred', 'total_demand_new_lag3']]"
   ]
  },
  {
   "cell_type": "code",
   "execution_count": 1105,
   "id": "aaf238ca",
   "metadata": {},
   "outputs": [
    {
     "data": {
      "image/png": "[encoded data removed]",
      "text/plain": [
       "<Figure size 432x288 with 1 Axes>"
      ]
     },
     "metadata": {},
     "output_type": "display_data"
    }
   ],
   "source": [
    "ax = df.loc[(df.zone_id == 692)&(df.date <= f_date + timedelta(weeks=HORIZON))][['total_demand_new', 'total_demand_new_lag3']].plot()\n",
    "\n",
    "f4_26.loc[f4_26.zone_id == 692].pred.plot(ax=ax)\n",
    "\n",
    "ax.xaxis.set_tick_params(rotation=45)"
   ]
  },
  {
   "cell_type": "code",
   "execution_count": 431,
   "id": "26123ad8",
   "metadata": {},
   "outputs": [
    {
     "data": {
      "text/plain": [
       "<AxesSubplot:xlabel='date_idx'>"
      ]
     },
     "execution_count": 431,
     "metadata": {},
     "output_type": "execute_result"
    },
    {
     "data": {
      "image/png": "[encoded data removed]",
      "text/plain": [
       "<Figure size 432x288 with 1 Axes>"
      ]
     },
     "metadata": {},
     "output_type": "display_data"
    }
   ],
   "source": [
    "df.loc[df.zone_id == 983].total_demand_new.plot()"
   ]
  },
  {
   "cell_type": "code",
   "execution_count": 433,
   "id": "63a208a2",
   "metadata": {},
   "outputs": [
    {
     "data": {
      "text/plain": [
       "<AxesSubplot:xlabel='date_idx'>"
      ]
     },
     "execution_count": 433,
     "metadata": {},
     "output_type": "execute_result"
    },
    {
     "data": {
      "image/png": "[encoded data removed]",
      "text/plain": [
       "<Figure size 432x288 with 1 Axes>"
      ]
     },
     "metadata": {},
     "output_type": "display_data"
    }
   ],
   "source": [
    "df.loc[df.zone_id == 861].total_demand_new.plot()"
   ]
  },
  {
   "cell_type": "code",
   "execution_count": 434,
   "id": "3763813d",
   "metadata": {},
   "outputs": [
    {
     "data": {
      "text/plain": [
       "<AxesSubplot:xlabel='date_idx'>"
      ]
     },
     "execution_count": 434,
     "metadata": {},
     "output_type": "execute_result"
    },
    {
     "data": {
      "image/png": "[encoded data removed]",
      "text/plain": [
       "<Figure size 432x288 with 1 Axes>"
      ]
     },
     "metadata": {},
     "output_type": "display_data"
    }
   ],
   "source": [
    "df.loc[df.zone_id == 989].total_demand_new.plot()"
   ]
  },
  {
   "cell_type": "code",
   "execution_count": null,
   "id": "0ea14489",
   "metadata": {},
   "outputs": [],
   "source": [
    "# btm 3 (1001, 943, 787)"
   ]
  },
  {
   "cell_type": "code",
   "execution_count": 736,
   "id": "24446ea9",
   "metadata": {},
   "outputs": [
    {
     "data": {
      "text/html": [
       "<div>\n",
       "<style scoped>\n",
       "    .dataframe tbody tr th:only-of-type {\n",
       "        vertical-align: middle;\n",
       "    }\n",
       "\n",
       "    .dataframe tbody tr th {\n",
       "        vertical-align: top;\n",
       "    }\n",
       "\n",
       "    .dataframe thead th {\n",
       "        text-align: right;\n",
       "    }\n",
       "</style>\n",
       "<table border=\"1\" class=\"dataframe\">\n",
       "  <thead>\n",
       "    <tr style=\"text-align: right;\">\n",
       "      <th></th>\n",
       "      <th>date</th>\n",
       "      <th>total_demand_new</th>\n",
       "      <th>pred</th>\n",
       "      <th>total_demand_new_lag3</th>\n",
       "    </tr>\n",
       "    <tr>\n",
       "      <th>pred_for_date</th>\n",
       "      <th></th>\n",
       "      <th></th>\n",
       "      <th></th>\n",
       "      <th></th>\n",
       "    </tr>\n",
       "  </thead>\n",
       "  <tbody>\n",
       "    <tr>\n",
       "      <th>2021-06-21</th>\n",
       "      <td>2021-06-21</td>\n",
       "      <td>4635.691899</td>\n",
       "      <td>4425.085032</td>\n",
       "      <td>4783.576204</td>\n",
       "    </tr>\n",
       "    <tr>\n",
       "      <th>2021-05-31</th>\n",
       "      <td>2021-05-31</td>\n",
       "      <td>4783.576204</td>\n",
       "      <td>4487.976940</td>\n",
       "      <td>4901.835912</td>\n",
       "    </tr>\n",
       "    <tr>\n",
       "      <th>2021-05-10</th>\n",
       "      <td>2021-05-10</td>\n",
       "      <td>4901.835912</td>\n",
       "      <td>5107.128759</td>\n",
       "      <td>5314.633336</td>\n",
       "    </tr>\n",
       "    <tr>\n",
       "      <th>2021-04-19</th>\n",
       "      <td>2021-04-19</td>\n",
       "      <td>5314.633336</td>\n",
       "      <td>5741.627466</td>\n",
       "      <td>5328.496810</td>\n",
       "    </tr>\n",
       "    <tr>\n",
       "      <th>2020-01-27</th>\n",
       "      <td>2020-01-27</td>\n",
       "      <td>2734.623225</td>\n",
       "      <td>2729.935405</td>\n",
       "      <td>2688.233743</td>\n",
       "    </tr>\n",
       "    <tr>\n",
       "      <th>2020-01-06</th>\n",
       "      <td>2020-01-06</td>\n",
       "      <td>2688.233743</td>\n",
       "      <td>2859.332854</td>\n",
       "      <td>2290.397509</td>\n",
       "    </tr>\n",
       "    <tr>\n",
       "      <th>2019-12-16</th>\n",
       "      <td>2019-12-16</td>\n",
       "      <td>2290.397509</td>\n",
       "      <td>2091.314580</td>\n",
       "      <td>2571.524910</td>\n",
       "    </tr>\n",
       "  </tbody>\n",
       "</table>\n",
       "</div>"
      ],
      "text/plain": [
       "                     date  total_demand_new         pred  \\\n",
       "pred_for_date                                              \n",
       "2021-06-21     2021-06-21       4635.691899  4425.085032   \n",
       "2021-05-31     2021-05-31       4783.576204  4487.976940   \n",
       "2021-05-10     2021-05-10       4901.835912  5107.128759   \n",
       "2021-04-19     2021-04-19       5314.633336  5741.627466   \n",
       "2020-01-27     2020-01-27       2734.623225  2729.935405   \n",
       "2020-01-06     2020-01-06       2688.233743  2859.332854   \n",
       "2019-12-16     2019-12-16       2290.397509  2091.314580   \n",
       "\n",
       "               total_demand_new_lag3  \n",
       "pred_for_date                         \n",
       "2021-06-21               4783.576204  \n",
       "2021-05-31               4901.835912  \n",
       "2021-05-10               5314.633336  \n",
       "2021-04-19               5328.496810  \n",
       "2020-01-27               2688.233743  \n",
       "2020-01-06               2290.397509  \n",
       "2019-12-16               2571.524910  "
      ]
     },
     "execution_count": 736,
     "metadata": {},
     "output_type": "execute_result"
    }
   ],
   "source": [
    "f4.loc[f4.zone_id == 974][['date', 'total_demand_new', 'pred', 'total_demand_new_lag3']]"
   ]
  },
  {
   "cell_type": "code",
   "execution_count": 732,
   "id": "4c42c6df",
   "metadata": {},
   "outputs": [
    {
     "data": {
      "image/png": "[encoded data removed]",
      "text/plain": [
       "<Figure size 432x288 with 1 Axes>"
      ]
     },
     "metadata": {},
     "output_type": "display_data"
    }
   ],
   "source": [
    "ax = df.loc[df.zone_id == 974][['total_demand_new', 'total_demand_new_lag3']].plot()\n",
    "\n",
    "f4.loc[f4.zone_id == 974].pred.plot(ax=ax)\n",
    "\n",
    "ax.xaxis.set_tick_params(rotation=45)"
   ]
  },
  {
   "cell_type": "code",
   "execution_count": 733,
   "id": "6249e43e",
   "metadata": {},
   "outputs": [
    {
     "data": {
      "text/html": [
       "<div>\n",
       "<style scoped>\n",
       "    .dataframe tbody tr th:only-of-type {\n",
       "        vertical-align: middle;\n",
       "    }\n",
       "\n",
       "    .dataframe tbody tr th {\n",
       "        vertical-align: top;\n",
       "    }\n",
       "\n",
       "    .dataframe thead th {\n",
       "        text-align: right;\n",
       "    }\n",
       "</style>\n",
       "<table border=\"1\" class=\"dataframe\">\n",
       "  <thead>\n",
       "    <tr style=\"text-align: right;\">\n",
       "      <th></th>\n",
       "      <th>date</th>\n",
       "      <th>total_demand_new</th>\n",
       "      <th>pred</th>\n",
       "      <th>total_demand_new_lag3</th>\n",
       "    </tr>\n",
       "    <tr>\n",
       "      <th>pred_for_date</th>\n",
       "      <th></th>\n",
       "      <th></th>\n",
       "      <th></th>\n",
       "      <th></th>\n",
       "    </tr>\n",
       "  </thead>\n",
       "  <tbody>\n",
       "    <tr>\n",
       "      <th>2021-06-21</th>\n",
       "      <td>2021-06-21</td>\n",
       "      <td>6428.423384</td>\n",
       "      <td>5920.677019</td>\n",
       "      <td>6512.364852</td>\n",
       "    </tr>\n",
       "    <tr>\n",
       "      <th>2021-05-31</th>\n",
       "      <td>2021-05-31</td>\n",
       "      <td>6512.364852</td>\n",
       "      <td>6308.358613</td>\n",
       "      <td>6642.146212</td>\n",
       "    </tr>\n",
       "    <tr>\n",
       "      <th>2021-05-10</th>\n",
       "      <td>2021-05-10</td>\n",
       "      <td>6642.146212</td>\n",
       "      <td>6914.151477</td>\n",
       "      <td>7097.163660</td>\n",
       "    </tr>\n",
       "    <tr>\n",
       "      <th>2021-04-19</th>\n",
       "      <td>2021-04-19</td>\n",
       "      <td>7097.163660</td>\n",
       "      <td>7147.823689</td>\n",
       "      <td>7299.164351</td>\n",
       "    </tr>\n",
       "    <tr>\n",
       "      <th>2020-01-27</th>\n",
       "      <td>2020-01-27</td>\n",
       "      <td>3031.638005</td>\n",
       "      <td>2889.873568</td>\n",
       "      <td>2959.022573</td>\n",
       "    </tr>\n",
       "    <tr>\n",
       "      <th>2020-01-06</th>\n",
       "      <td>2020-01-06</td>\n",
       "      <td>2959.022573</td>\n",
       "      <td>3161.603770</td>\n",
       "      <td>2606.750241</td>\n",
       "    </tr>\n",
       "    <tr>\n",
       "      <th>2019-12-16</th>\n",
       "      <td>2019-12-16</td>\n",
       "      <td>2606.750241</td>\n",
       "      <td>2623.576807</td>\n",
       "      <td>2909.170012</td>\n",
       "    </tr>\n",
       "  </tbody>\n",
       "</table>\n",
       "</div>"
      ],
      "text/plain": [
       "                     date  total_demand_new         pred  \\\n",
       "pred_for_date                                              \n",
       "2021-06-21     2021-06-21       6428.423384  5920.677019   \n",
       "2021-05-31     2021-05-31       6512.364852  6308.358613   \n",
       "2021-05-10     2021-05-10       6642.146212  6914.151477   \n",
       "2021-04-19     2021-04-19       7097.163660  7147.823689   \n",
       "2020-01-27     2020-01-27       3031.638005  2889.873568   \n",
       "2020-01-06     2020-01-06       2959.022573  3161.603770   \n",
       "2019-12-16     2019-12-16       2606.750241  2623.576807   \n",
       "\n",
       "               total_demand_new_lag3  \n",
       "pred_for_date                         \n",
       "2021-06-21               6512.364852  \n",
       "2021-05-31               6642.146212  \n",
       "2021-05-10               7097.163660  \n",
       "2021-04-19               7299.164351  \n",
       "2020-01-27               2959.022573  \n",
       "2020-01-06               2606.750241  \n",
       "2019-12-16               2909.170012  "
      ]
     },
     "execution_count": 733,
     "metadata": {},
     "output_type": "execute_result"
    }
   ],
   "source": [
    "f4.loc[f4.zone_id == 972][['date', 'total_demand_new', 'pred', 'total_demand_new_lag3']]"
   ]
  },
  {
   "cell_type": "code",
   "execution_count": 734,
   "id": "b2c4ab95",
   "metadata": {},
   "outputs": [
    {
     "data": {
      "image/png": "[encoded data removed]",
      "text/plain": [
       "<Figure size 432x288 with 1 Axes>"
      ]
     },
     "metadata": {},
     "output_type": "display_data"
    }
   ],
   "source": [
    "ax = df.loc[df.zone_id == 972][['total_demand_new', 'total_demand_new_lag3']].plot()\n",
    "\n",
    "f4.loc[f4.zone_id == 972].pred.plot(ax=ax)\n",
    "\n",
    "ax.xaxis.set_tick_params(rotation=45)"
   ]
  },
  {
   "cell_type": "code",
   "execution_count": 509,
   "id": "f5c7da0e",
   "metadata": {},
   "outputs": [
    {
     "data": {
      "text/html": [
       "<div>\n",
       "<style scoped>\n",
       "    .dataframe tbody tr th:only-of-type {\n",
       "        vertical-align: middle;\n",
       "    }\n",
       "\n",
       "    .dataframe tbody tr th {\n",
       "        vertical-align: top;\n",
       "    }\n",
       "\n",
       "    .dataframe thead th {\n",
       "        text-align: right;\n",
       "    }\n",
       "</style>\n",
       "<table border=\"1\" class=\"dataframe\">\n",
       "  <thead>\n",
       "    <tr style=\"text-align: right;\">\n",
       "      <th></th>\n",
       "      <th>date</th>\n",
       "      <th>total_demand_new</th>\n",
       "      <th>pred</th>\n",
       "      <th>total_demand_new_lag3</th>\n",
       "    </tr>\n",
       "    <tr>\n",
       "      <th>pred_for_date</th>\n",
       "      <th></th>\n",
       "      <th></th>\n",
       "      <th></th>\n",
       "      <th></th>\n",
       "    </tr>\n",
       "  </thead>\n",
       "  <tbody>\n",
       "    <tr>\n",
       "      <th>2021-06-21</th>\n",
       "      <td>2021-06-21</td>\n",
       "      <td>3004.375691</td>\n",
       "      <td>8.526171e+02</td>\n",
       "      <td>3265.079548</td>\n",
       "    </tr>\n",
       "    <tr>\n",
       "      <th>2021-05-31</th>\n",
       "      <td>2021-05-31</td>\n",
       "      <td>3265.079548</td>\n",
       "      <td>-1.013012e+02</td>\n",
       "      <td>3259.695788</td>\n",
       "    </tr>\n",
       "    <tr>\n",
       "      <th>2021-05-10</th>\n",
       "      <td>2021-05-10</td>\n",
       "      <td>3259.695788</td>\n",
       "      <td>-3.164240e+03</td>\n",
       "      <td>3560.283871</td>\n",
       "    </tr>\n",
       "    <tr>\n",
       "      <th>2021-04-19</th>\n",
       "      <td>2021-04-19</td>\n",
       "      <td>3560.283871</td>\n",
       "      <td>1.960622e+06</td>\n",
       "      <td>3637.874023</td>\n",
       "    </tr>\n",
       "    <tr>\n",
       "      <th>2020-01-27</th>\n",
       "      <td>2020-01-27</td>\n",
       "      <td>1461.759721</td>\n",
       "      <td>1.494049e+03</td>\n",
       "      <td>1335.743291</td>\n",
       "    </tr>\n",
       "    <tr>\n",
       "      <th>2020-01-06</th>\n",
       "      <td>2020-01-06</td>\n",
       "      <td>1335.743291</td>\n",
       "      <td>1.524767e+03</td>\n",
       "      <td>1263.330682</td>\n",
       "    </tr>\n",
       "    <tr>\n",
       "      <th>2019-12-16</th>\n",
       "      <td>2019-12-16</td>\n",
       "      <td>1263.330682</td>\n",
       "      <td>1.314865e+03</td>\n",
       "      <td>1253.453050</td>\n",
       "    </tr>\n",
       "  </tbody>\n",
       "</table>\n",
       "</div>"
      ],
      "text/plain": [
       "                     date  total_demand_new          pred  \\\n",
       "pred_for_date                                               \n",
       "2021-06-21     2021-06-21       3004.375691  8.526171e+02   \n",
       "2021-05-31     2021-05-31       3265.079548 -1.013012e+02   \n",
       "2021-05-10     2021-05-10       3259.695788 -3.164240e+03   \n",
       "2021-04-19     2021-04-19       3560.283871  1.960622e+06   \n",
       "2020-01-27     2020-01-27       1461.759721  1.494049e+03   \n",
       "2020-01-06     2020-01-06       1335.743291  1.524767e+03   \n",
       "2019-12-16     2019-12-16       1263.330682  1.314865e+03   \n",
       "\n",
       "               total_demand_new_lag3  \n",
       "pred_for_date                         \n",
       "2021-06-21               3265.079548  \n",
       "2021-05-31               3259.695788  \n",
       "2021-05-10               3560.283871  \n",
       "2021-04-19               3637.874023  \n",
       "2020-01-27               1335.743291  \n",
       "2020-01-06               1263.330682  \n",
       "2019-12-16               1253.453050  "
      ]
     },
     "execution_count": 509,
     "metadata": {},
     "output_type": "execute_result"
    }
   ],
   "source": [
    "f1.loc[f1.zone_id == 787][['date', 'total_demand_new', 'pred', 'total_demand_new_lag3']]"
   ]
  },
  {
   "cell_type": "code",
   "execution_count": 510,
   "id": "f4570ccb",
   "metadata": {},
   "outputs": [
    {
     "data": {
      "image/png": "[encoded data removed]",
      "text/plain": [
       "<Figure size 432x288 with 1 Axes>"
      ]
     },
     "metadata": {},
     "output_type": "display_data"
    }
   ],
   "source": [
    "ax = df.loc[df.zone_id == 787][['total_demand_new', 'total_demand_new_lag3']].plot()\n",
    "\n",
    "f1.loc[f1.zone_id == 787].pred.plot(ax=ax)\n",
    "\n",
    "ax.xaxis.set_tick_params(rotation=45)"
   ]
  },
  {
   "cell_type": "code",
   "execution_count": 737,
   "id": "fa88b26f",
   "metadata": {},
   "outputs": [
    {
     "name": "stderr",
     "output_type": "stream",
     "text": [
      "/Users/sorenzeliger/.pyenv/versions/3.8.6/lib/python3.8/site-packages/seaborn/distributions.py:2557: FutureWarning: `distplot` is a deprecated function and will be removed in a future version. Please adapt your code to use either `displot` (a figure-level function with similar flexibility) or `histplot` (an axes-level function for histograms).\n",
      "  warnings.warn(msg, FutureWarning)\n",
      "/Users/sorenzeliger/.pyenv/versions/3.8.6/lib/python3.8/site-packages/seaborn/distributions.py:2557: FutureWarning: `distplot` is a deprecated function and will be removed in a future version. Please adapt your code to use either `displot` (a figure-level function with similar flexibility) or `histplot` (an axes-level function for histograms).\n",
      "  warnings.warn(msg, FutureWarning)\n"
     ]
    },
    {
     "data": {
      "text/plain": [
       "<matplotlib.legend.Legend at 0x1600a8d30>"
      ]
     },
     "execution_count": 737,
     "metadata": {},
     "output_type": "execute_result"
    },
    {
     "data": {
      "image/png": "[encoded data removed]",
      "text/plain": [
       "<Figure size 432x288 with 1 Axes>"
      ]
     },
     "metadata": {},
     "output_type": "display_data"
    }
   ],
   "source": [
    "ax = sns.distplot(f4.error_new, label='new')\n",
    "sns.distplot(f4.error_old, label='old')\n",
    "\n",
    "ax.legend(loc='best')"
   ]
  }
 ],
 "metadata": {
  "kernelspec": {
   "display_name": "Python 3",
   "language": "python",
   "name": "python3"
  },
  "language_info": {
   "codemirror_mode": {
    "name": "ipython",
    "version": 3
   },
   "file_extension": ".py",
   "mimetype": "text/x-python",
   "name": "python",
   "nbconvert_exporter": "python",
   "pygments_lexer": "ipython3",
   "version": "3.8.6"
  }
 },
 "nbformat": 4,
 "nbformat_minor": 5
}
